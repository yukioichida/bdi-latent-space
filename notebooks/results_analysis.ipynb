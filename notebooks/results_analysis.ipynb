{
 "cells": [
  {
   "cell_type": "code",
   "execution_count": 1,
   "metadata": {
    "collapsed": true,
    "ExecuteTime": {
     "end_time": "2023-09-21T15:30:21.349922561Z",
     "start_time": "2023-09-21T15:30:19.608873586Z"
    }
   },
   "outputs": [
    {
     "data": {
      "text/plain": "Index(['num_bdi_actions', 'num_rl_actions', 'plan_found', 'variation', 'error',\n       'bdi_score', 'rl_score', 'final_score', 'complete', 'num_plans',\n       'plan_library_size', 'plans_pct', 'eps', 'drrn_model_file'],\n      dtype='object')"
     },
     "execution_count": 1,
     "metadata": {},
     "output_type": "execute_result"
    }
   ],
   "source": [
    "import pandas as pd\n",
    "import plotly.graph_objects as go\n",
    "import plotly.express as px\n",
    "\n",
    "from scienceworld import ScienceWorldEnv\n",
    "\n",
    "from sources.scienceworld import load_step_function,parse_observation\n",
    "from sources.agent import BDIAgent\n",
    "from sources.bdi_components.inference import NLIModel\n",
    "from sources.bdi_components.belief import State\n",
    "\n",
    "import numpy as np\n",
    "from os import listdir\n",
    "from os.path import isfile, join\n",
    "import re\n",
    "\n",
    "results_df = pd.read_csv(\"../results/results_find-non-living-thing.csv\")\n",
    "# TODO ajustar dps o script\n",
    "results_df.loc[results_df[\"plans_pct\"] == 1, \"plans_pct\"] = 100\n",
    "results_df.loc[results_df[\"plans_pct\"] == 2, \"plans_pct\"] = 25\n",
    "results_df.loc[results_df[\"plans_pct\"] == 5, \"plans_pct\"] = 50\n",
    "results_df.loc[results_df[\"plans_pct\"] == 7, \"plans_pct\"] = 75\n",
    "\n",
    "results_df.columns"
   ]
  },
  {
   "cell_type": "markdown",
   "source": [
    "- Heatmap comparing plans_pct vs eps_trained\n",
    "- Num variations completed by using RL x BDI"
   ],
   "metadata": {
    "collapsed": false
   }
  },
  {
   "cell_type": "code",
   "execution_count": 2,
   "outputs": [
    {
     "data": {
      "text/plain": "      variation  plan_library_size  plans_pct\n0           225                 12          0\n1           226                 13          0\n2           227                 14          0\n3           228                 15          0\n4           229                 16          0\n...         ...                ...        ...\n3070        295                 41        100\n3071        296                 41        100\n3072        297                 41        100\n3073        298                 41        100\n3074        299                 41        100\n\n[375 rows x 3 columns]",
      "text/html": "<div>\n<style scoped>\n    .dataframe tbody tr th:only-of-type {\n        vertical-align: middle;\n    }\n\n    .dataframe tbody tr th {\n        vertical-align: top;\n    }\n\n    .dataframe thead th {\n        text-align: right;\n    }\n</style>\n<table border=\"1\" class=\"dataframe\">\n  <thead>\n    <tr style=\"text-align: right;\">\n      <th></th>\n      <th>variation</th>\n      <th>plan_library_size</th>\n      <th>plans_pct</th>\n    </tr>\n  </thead>\n  <tbody>\n    <tr>\n      <th>0</th>\n      <td>225</td>\n      <td>12</td>\n      <td>0</td>\n    </tr>\n    <tr>\n      <th>1</th>\n      <td>226</td>\n      <td>13</td>\n      <td>0</td>\n    </tr>\n    <tr>\n      <th>2</th>\n      <td>227</td>\n      <td>14</td>\n      <td>0</td>\n    </tr>\n    <tr>\n      <th>3</th>\n      <td>228</td>\n      <td>15</td>\n      <td>0</td>\n    </tr>\n    <tr>\n      <th>4</th>\n      <td>229</td>\n      <td>16</td>\n      <td>0</td>\n    </tr>\n    <tr>\n      <th>...</th>\n      <td>...</td>\n      <td>...</td>\n      <td>...</td>\n    </tr>\n    <tr>\n      <th>3070</th>\n      <td>295</td>\n      <td>41</td>\n      <td>100</td>\n    </tr>\n    <tr>\n      <th>3071</th>\n      <td>296</td>\n      <td>41</td>\n      <td>100</td>\n    </tr>\n    <tr>\n      <th>3072</th>\n      <td>297</td>\n      <td>41</td>\n      <td>100</td>\n    </tr>\n    <tr>\n      <th>3073</th>\n      <td>298</td>\n      <td>41</td>\n      <td>100</td>\n    </tr>\n    <tr>\n      <th>3074</th>\n      <td>299</td>\n      <td>41</td>\n      <td>100</td>\n    </tr>\n  </tbody>\n</table>\n<p>375 rows × 3 columns</p>\n</div>"
     },
     "execution_count": 2,
     "metadata": {},
     "output_type": "execute_result"
    }
   ],
   "source": [
    "results_df[['variation', 'plan_library_size', 'plans_pct']].drop_duplicates()"
   ],
   "metadata": {
    "collapsed": false,
    "ExecuteTime": {
     "end_time": "2023-09-21T15:30:25.452592863Z",
     "start_time": "2023-09-21T15:30:25.377025196Z"
    }
   }
  },
  {
   "cell_type": "code",
   "execution_count": 3,
   "outputs": [
    {
     "data": {
      "text/plain": "    plans_pct  eps  final_score   rl_score  bdi_score  num_bdi_actions  \\\n0           0   58    19.186667  19.186667   0.000000         0.000000   \n1           0  119    19.186667  19.186667   0.000000         0.000000   \n2           0  181    23.400000  23.400000   0.000000         0.000000   \n3           0  242    65.853333  65.853333   0.000000         0.000000   \n4           0  302    67.746667  67.746667   0.000000         0.000000   \n5           0  362    65.066667  65.066667   0.000000         0.000000   \n6           0  421    65.853333  65.853333   0.000000         0.000000   \n7           0  480    65.853333  65.853333   0.000000         0.000000   \n8           0  535    65.853333  65.853333   0.000000         0.000000   \n9           0  593    16.920000  16.920000   0.000000         0.000000   \n10         25   58    42.906667  12.906667  30.000000         3.333333   \n11         25  119    42.906667  12.906667  30.000000         3.333333   \n12         25  181    46.133333  16.133333  30.000000         3.333333   \n13         25  242    74.893333  44.893333  30.000000         3.333333   \n14         25  302    76.306667  46.306667  30.000000         3.333333   \n15         25  362    74.346667  44.346667  30.000000         3.333333   \n16         25  421    74.893333  44.893333  30.000000         3.333333   \n17         25  480    74.893333  44.893333  30.000000         3.333333   \n18         25  535    74.893333  44.893333  30.000000         3.333333   \n19         25  593    41.960000  11.960000  30.000000         3.333333   \n20         50   58    65.533333   7.533333  58.000000         6.253333   \n21         50  119    65.533333   7.533333  58.000000         6.253333   \n22         50  181    66.080000   8.080000  58.000000         6.253333   \n23         50  242    83.840000  25.840000  58.000000         6.253333   \n24         50  302    85.013333  27.013333  58.000000         6.253333   \n25         50  362    83.720000  25.720000  58.000000         6.253333   \n26         50  421    83.840000  25.840000  58.000000         6.253333   \n27         50  480    83.840000  25.840000  58.000000         6.253333   \n28         50  535    83.840000  25.840000  58.000000         6.253333   \n29         50  593    64.906667   6.906667  58.000000         6.253333   \n30         75   58    83.146667   3.813333  79.333333         7.640000   \n31         75  119    83.146667   3.813333  79.333333         7.640000   \n32         75  181    83.146667   3.813333  79.333333         7.640000   \n33         75  242    90.880000  11.546667  79.333333         7.640000   \n34         75  302    91.840000  12.506667  79.333333         7.640000   \n35         75  362    90.880000  11.546667  79.333333         7.640000   \n36         75  421    90.880000  11.546667  79.333333         7.640000   \n37         75  480    90.880000  11.546667  79.333333         7.640000   \n38         75  535    90.880000  11.546667  79.333333         7.640000   \n39         75  593    81.546667   2.213333  79.333333         7.640000   \n40        100   58    98.640000   0.640000  98.000000         9.186667   \n41        100  119    98.640000   0.640000  98.000000         9.186667   \n42        100  181    98.640000   0.640000  98.000000         9.186667   \n43        100  242    98.000000   0.000000  98.000000         9.186667   \n44        100  302    98.000000   0.000000  98.000000         9.186667   \n45        100  362    98.000000   0.000000  98.000000         9.186667   \n46        100  421    98.000000   0.000000  98.000000         9.186667   \n47        100  480    98.000000   0.000000  98.000000         9.186667   \n48        100  535    98.000000   0.000000  98.000000         9.186667   \n49        100  593    98.000000   0.000000  98.000000         9.186667   \n\n    num_rl_actions  \n0        50.000000  \n1        50.000000  \n2        50.000000  \n3        50.000000  \n4        50.000000  \n5        50.000000  \n6        50.000000  \n7        50.000000  \n8        50.000000  \n9        50.000000  \n10       38.000000  \n11       38.000000  \n12       38.000000  \n13       38.000000  \n14       38.000000  \n15       38.000000  \n16       38.000000  \n17       38.000000  \n18       38.000000  \n19       38.000000  \n20       24.000000  \n21       24.000000  \n22       24.000000  \n23       24.000000  \n24       24.000000  \n25       24.000000  \n26       24.000000  \n27       24.000000  \n28       24.000000  \n29       24.000000  \n30       13.333333  \n31       13.333333  \n32       13.333333  \n33       13.333333  \n34       13.333333  \n35       13.333333  \n36       13.333333  \n37       13.333333  \n38       13.333333  \n39       13.333333  \n40        4.000000  \n41        4.000000  \n42        4.000000  \n43        4.000000  \n44        4.000000  \n45        4.000000  \n46        4.000000  \n47        4.000000  \n48        4.000000  \n49        4.000000  ",
      "text/html": "<div>\n<style scoped>\n    .dataframe tbody tr th:only-of-type {\n        vertical-align: middle;\n    }\n\n    .dataframe tbody tr th {\n        vertical-align: top;\n    }\n\n    .dataframe thead th {\n        text-align: right;\n    }\n</style>\n<table border=\"1\" class=\"dataframe\">\n  <thead>\n    <tr style=\"text-align: right;\">\n      <th></th>\n      <th>plans_pct</th>\n      <th>eps</th>\n      <th>final_score</th>\n      <th>rl_score</th>\n      <th>bdi_score</th>\n      <th>num_bdi_actions</th>\n      <th>num_rl_actions</th>\n    </tr>\n  </thead>\n  <tbody>\n    <tr>\n      <th>0</th>\n      <td>0</td>\n      <td>58</td>\n      <td>19.186667</td>\n      <td>19.186667</td>\n      <td>0.000000</td>\n      <td>0.000000</td>\n      <td>50.000000</td>\n    </tr>\n    <tr>\n      <th>1</th>\n      <td>0</td>\n      <td>119</td>\n      <td>19.186667</td>\n      <td>19.186667</td>\n      <td>0.000000</td>\n      <td>0.000000</td>\n      <td>50.000000</td>\n    </tr>\n    <tr>\n      <th>2</th>\n      <td>0</td>\n      <td>181</td>\n      <td>23.400000</td>\n      <td>23.400000</td>\n      <td>0.000000</td>\n      <td>0.000000</td>\n      <td>50.000000</td>\n    </tr>\n    <tr>\n      <th>3</th>\n      <td>0</td>\n      <td>242</td>\n      <td>65.853333</td>\n      <td>65.853333</td>\n      <td>0.000000</td>\n      <td>0.000000</td>\n      <td>50.000000</td>\n    </tr>\n    <tr>\n      <th>4</th>\n      <td>0</td>\n      <td>302</td>\n      <td>67.746667</td>\n      <td>67.746667</td>\n      <td>0.000000</td>\n      <td>0.000000</td>\n      <td>50.000000</td>\n    </tr>\n    <tr>\n      <th>5</th>\n      <td>0</td>\n      <td>362</td>\n      <td>65.066667</td>\n      <td>65.066667</td>\n      <td>0.000000</td>\n      <td>0.000000</td>\n      <td>50.000000</td>\n    </tr>\n    <tr>\n      <th>6</th>\n      <td>0</td>\n      <td>421</td>\n      <td>65.853333</td>\n      <td>65.853333</td>\n      <td>0.000000</td>\n      <td>0.000000</td>\n      <td>50.000000</td>\n    </tr>\n    <tr>\n      <th>7</th>\n      <td>0</td>\n      <td>480</td>\n      <td>65.853333</td>\n      <td>65.853333</td>\n      <td>0.000000</td>\n      <td>0.000000</td>\n      <td>50.000000</td>\n    </tr>\n    <tr>\n      <th>8</th>\n      <td>0</td>\n      <td>535</td>\n      <td>65.853333</td>\n      <td>65.853333</td>\n      <td>0.000000</td>\n      <td>0.000000</td>\n      <td>50.000000</td>\n    </tr>\n    <tr>\n      <th>9</th>\n      <td>0</td>\n      <td>593</td>\n      <td>16.920000</td>\n      <td>16.920000</td>\n      <td>0.000000</td>\n      <td>0.000000</td>\n      <td>50.000000</td>\n    </tr>\n    <tr>\n      <th>10</th>\n      <td>25</td>\n      <td>58</td>\n      <td>42.906667</td>\n      <td>12.906667</td>\n      <td>30.000000</td>\n      <td>3.333333</td>\n      <td>38.000000</td>\n    </tr>\n    <tr>\n      <th>11</th>\n      <td>25</td>\n      <td>119</td>\n      <td>42.906667</td>\n      <td>12.906667</td>\n      <td>30.000000</td>\n      <td>3.333333</td>\n      <td>38.000000</td>\n    </tr>\n    <tr>\n      <th>12</th>\n      <td>25</td>\n      <td>181</td>\n      <td>46.133333</td>\n      <td>16.133333</td>\n      <td>30.000000</td>\n      <td>3.333333</td>\n      <td>38.000000</td>\n    </tr>\n    <tr>\n      <th>13</th>\n      <td>25</td>\n      <td>242</td>\n      <td>74.893333</td>\n      <td>44.893333</td>\n      <td>30.000000</td>\n      <td>3.333333</td>\n      <td>38.000000</td>\n    </tr>\n    <tr>\n      <th>14</th>\n      <td>25</td>\n      <td>302</td>\n      <td>76.306667</td>\n      <td>46.306667</td>\n      <td>30.000000</td>\n      <td>3.333333</td>\n      <td>38.000000</td>\n    </tr>\n    <tr>\n      <th>15</th>\n      <td>25</td>\n      <td>362</td>\n      <td>74.346667</td>\n      <td>44.346667</td>\n      <td>30.000000</td>\n      <td>3.333333</td>\n      <td>38.000000</td>\n    </tr>\n    <tr>\n      <th>16</th>\n      <td>25</td>\n      <td>421</td>\n      <td>74.893333</td>\n      <td>44.893333</td>\n      <td>30.000000</td>\n      <td>3.333333</td>\n      <td>38.000000</td>\n    </tr>\n    <tr>\n      <th>17</th>\n      <td>25</td>\n      <td>480</td>\n      <td>74.893333</td>\n      <td>44.893333</td>\n      <td>30.000000</td>\n      <td>3.333333</td>\n      <td>38.000000</td>\n    </tr>\n    <tr>\n      <th>18</th>\n      <td>25</td>\n      <td>535</td>\n      <td>74.893333</td>\n      <td>44.893333</td>\n      <td>30.000000</td>\n      <td>3.333333</td>\n      <td>38.000000</td>\n    </tr>\n    <tr>\n      <th>19</th>\n      <td>25</td>\n      <td>593</td>\n      <td>41.960000</td>\n      <td>11.960000</td>\n      <td>30.000000</td>\n      <td>3.333333</td>\n      <td>38.000000</td>\n    </tr>\n    <tr>\n      <th>20</th>\n      <td>50</td>\n      <td>58</td>\n      <td>65.533333</td>\n      <td>7.533333</td>\n      <td>58.000000</td>\n      <td>6.253333</td>\n      <td>24.000000</td>\n    </tr>\n    <tr>\n      <th>21</th>\n      <td>50</td>\n      <td>119</td>\n      <td>65.533333</td>\n      <td>7.533333</td>\n      <td>58.000000</td>\n      <td>6.253333</td>\n      <td>24.000000</td>\n    </tr>\n    <tr>\n      <th>22</th>\n      <td>50</td>\n      <td>181</td>\n      <td>66.080000</td>\n      <td>8.080000</td>\n      <td>58.000000</td>\n      <td>6.253333</td>\n      <td>24.000000</td>\n    </tr>\n    <tr>\n      <th>23</th>\n      <td>50</td>\n      <td>242</td>\n      <td>83.840000</td>\n      <td>25.840000</td>\n      <td>58.000000</td>\n      <td>6.253333</td>\n      <td>24.000000</td>\n    </tr>\n    <tr>\n      <th>24</th>\n      <td>50</td>\n      <td>302</td>\n      <td>85.013333</td>\n      <td>27.013333</td>\n      <td>58.000000</td>\n      <td>6.253333</td>\n      <td>24.000000</td>\n    </tr>\n    <tr>\n      <th>25</th>\n      <td>50</td>\n      <td>362</td>\n      <td>83.720000</td>\n      <td>25.720000</td>\n      <td>58.000000</td>\n      <td>6.253333</td>\n      <td>24.000000</td>\n    </tr>\n    <tr>\n      <th>26</th>\n      <td>50</td>\n      <td>421</td>\n      <td>83.840000</td>\n      <td>25.840000</td>\n      <td>58.000000</td>\n      <td>6.253333</td>\n      <td>24.000000</td>\n    </tr>\n    <tr>\n      <th>27</th>\n      <td>50</td>\n      <td>480</td>\n      <td>83.840000</td>\n      <td>25.840000</td>\n      <td>58.000000</td>\n      <td>6.253333</td>\n      <td>24.000000</td>\n    </tr>\n    <tr>\n      <th>28</th>\n      <td>50</td>\n      <td>535</td>\n      <td>83.840000</td>\n      <td>25.840000</td>\n      <td>58.000000</td>\n      <td>6.253333</td>\n      <td>24.000000</td>\n    </tr>\n    <tr>\n      <th>29</th>\n      <td>50</td>\n      <td>593</td>\n      <td>64.906667</td>\n      <td>6.906667</td>\n      <td>58.000000</td>\n      <td>6.253333</td>\n      <td>24.000000</td>\n    </tr>\n    <tr>\n      <th>30</th>\n      <td>75</td>\n      <td>58</td>\n      <td>83.146667</td>\n      <td>3.813333</td>\n      <td>79.333333</td>\n      <td>7.640000</td>\n      <td>13.333333</td>\n    </tr>\n    <tr>\n      <th>31</th>\n      <td>75</td>\n      <td>119</td>\n      <td>83.146667</td>\n      <td>3.813333</td>\n      <td>79.333333</td>\n      <td>7.640000</td>\n      <td>13.333333</td>\n    </tr>\n    <tr>\n      <th>32</th>\n      <td>75</td>\n      <td>181</td>\n      <td>83.146667</td>\n      <td>3.813333</td>\n      <td>79.333333</td>\n      <td>7.640000</td>\n      <td>13.333333</td>\n    </tr>\n    <tr>\n      <th>33</th>\n      <td>75</td>\n      <td>242</td>\n      <td>90.880000</td>\n      <td>11.546667</td>\n      <td>79.333333</td>\n      <td>7.640000</td>\n      <td>13.333333</td>\n    </tr>\n    <tr>\n      <th>34</th>\n      <td>75</td>\n      <td>302</td>\n      <td>91.840000</td>\n      <td>12.506667</td>\n      <td>79.333333</td>\n      <td>7.640000</td>\n      <td>13.333333</td>\n    </tr>\n    <tr>\n      <th>35</th>\n      <td>75</td>\n      <td>362</td>\n      <td>90.880000</td>\n      <td>11.546667</td>\n      <td>79.333333</td>\n      <td>7.640000</td>\n      <td>13.333333</td>\n    </tr>\n    <tr>\n      <th>36</th>\n      <td>75</td>\n      <td>421</td>\n      <td>90.880000</td>\n      <td>11.546667</td>\n      <td>79.333333</td>\n      <td>7.640000</td>\n      <td>13.333333</td>\n    </tr>\n    <tr>\n      <th>37</th>\n      <td>75</td>\n      <td>480</td>\n      <td>90.880000</td>\n      <td>11.546667</td>\n      <td>79.333333</td>\n      <td>7.640000</td>\n      <td>13.333333</td>\n    </tr>\n    <tr>\n      <th>38</th>\n      <td>75</td>\n      <td>535</td>\n      <td>90.880000</td>\n      <td>11.546667</td>\n      <td>79.333333</td>\n      <td>7.640000</td>\n      <td>13.333333</td>\n    </tr>\n    <tr>\n      <th>39</th>\n      <td>75</td>\n      <td>593</td>\n      <td>81.546667</td>\n      <td>2.213333</td>\n      <td>79.333333</td>\n      <td>7.640000</td>\n      <td>13.333333</td>\n    </tr>\n    <tr>\n      <th>40</th>\n      <td>100</td>\n      <td>58</td>\n      <td>98.640000</td>\n      <td>0.640000</td>\n      <td>98.000000</td>\n      <td>9.186667</td>\n      <td>4.000000</td>\n    </tr>\n    <tr>\n      <th>41</th>\n      <td>100</td>\n      <td>119</td>\n      <td>98.640000</td>\n      <td>0.640000</td>\n      <td>98.000000</td>\n      <td>9.186667</td>\n      <td>4.000000</td>\n    </tr>\n    <tr>\n      <th>42</th>\n      <td>100</td>\n      <td>181</td>\n      <td>98.640000</td>\n      <td>0.640000</td>\n      <td>98.000000</td>\n      <td>9.186667</td>\n      <td>4.000000</td>\n    </tr>\n    <tr>\n      <th>43</th>\n      <td>100</td>\n      <td>242</td>\n      <td>98.000000</td>\n      <td>0.000000</td>\n      <td>98.000000</td>\n      <td>9.186667</td>\n      <td>4.000000</td>\n    </tr>\n    <tr>\n      <th>44</th>\n      <td>100</td>\n      <td>302</td>\n      <td>98.000000</td>\n      <td>0.000000</td>\n      <td>98.000000</td>\n      <td>9.186667</td>\n      <td>4.000000</td>\n    </tr>\n    <tr>\n      <th>45</th>\n      <td>100</td>\n      <td>362</td>\n      <td>98.000000</td>\n      <td>0.000000</td>\n      <td>98.000000</td>\n      <td>9.186667</td>\n      <td>4.000000</td>\n    </tr>\n    <tr>\n      <th>46</th>\n      <td>100</td>\n      <td>421</td>\n      <td>98.000000</td>\n      <td>0.000000</td>\n      <td>98.000000</td>\n      <td>9.186667</td>\n      <td>4.000000</td>\n    </tr>\n    <tr>\n      <th>47</th>\n      <td>100</td>\n      <td>480</td>\n      <td>98.000000</td>\n      <td>0.000000</td>\n      <td>98.000000</td>\n      <td>9.186667</td>\n      <td>4.000000</td>\n    </tr>\n    <tr>\n      <th>48</th>\n      <td>100</td>\n      <td>535</td>\n      <td>98.000000</td>\n      <td>0.000000</td>\n      <td>98.000000</td>\n      <td>9.186667</td>\n      <td>4.000000</td>\n    </tr>\n    <tr>\n      <th>49</th>\n      <td>100</td>\n      <td>593</td>\n      <td>98.000000</td>\n      <td>0.000000</td>\n      <td>98.000000</td>\n      <td>9.186667</td>\n      <td>4.000000</td>\n    </tr>\n  </tbody>\n</table>\n</div>"
     },
     "execution_count": 3,
     "metadata": {},
     "output_type": "execute_result"
    }
   ],
   "source": [
    "projected_cols = ['plans_pct', 'eps']\n",
    "aggregations = {'final_score': 'mean', 'rl_score': 'mean', 'bdi_score': 'mean', 'num_bdi_actions': 'mean', 'num_rl_actions': 'mean'}\n",
    "results_df.groupby(projected_cols).agg(aggregations).reset_index()"
   ],
   "metadata": {
    "collapsed": false,
    "ExecuteTime": {
     "end_time": "2023-09-21T15:30:29.468720832Z",
     "start_time": "2023-09-21T15:30:29.398061290Z"
    }
   }
  },
  {
   "cell_type": "code",
   "execution_count": 9,
   "outputs": [
    {
     "data": {
      "text/plain": "    eps  plans_pct  mean_score  max_score  min_score  stddev_score  \\\n0    58          0   19.186667         25          8      4.599334   \n1    58         25   42.906667        100          8     36.886302   \n2    58         50   65.533333        100          8     39.992342   \n3    58         75   83.146667        100         17     32.231717   \n4    58        100   98.640000        100         83      4.643042   \n5   119          0   19.186667         25          8      4.599334   \n6   119         25   42.906667        100          8     36.886302   \n7   119         50   65.533333        100          8     39.992342   \n8   119         75   83.146667        100         17     32.231717   \n9   119        100   98.640000        100         83      4.643042   \n10  181          0   23.400000         67          8     14.328199   \n11  181         25   46.133333        100          8     36.835402   \n12  181         50   66.080000        100          8     39.598239   \n13  181         75   83.146667        100         17     32.231717   \n14  181        100   98.640000        100         83      4.643042   \n15  242          0   65.853333         75         58      4.279724   \n16  242         25   74.893333        100         58     14.906532   \n17  242         50   83.840000        100         58     17.333798   \n18  242         75   90.880000        100         58     15.664524   \n19  242        100   98.000000        100         75      6.828003   \n20  302          0   67.746667         75         67      2.342863   \n21  302         25   76.306667        100         67     13.724089   \n22  302         50   85.013333        100         67     15.874077   \n23  302         75   91.840000        100         67     13.755628   \n24  302        100   98.000000        100         75      6.828003   \n25  362          0   65.066667         75         58      3.960389   \n26  362         25   74.346667        100         58     15.109057   \n27  362         50   83.720000        100         58     17.482470   \n28  362         75   90.880000        100         58     15.664524   \n29  362        100   98.000000        100         75      6.828003   \n30  421          0   65.853333         75         58      4.279724   \n31  421         25   74.893333        100         58     14.906532   \n32  421         50   83.840000        100         58     17.333798   \n33  421         75   90.880000        100         58     15.664524   \n34  421        100   98.000000        100         75      6.828003   \n35  480          0   65.853333         75         58      4.279724   \n36  480         25   74.893333        100         58     14.906532   \n37  480         50   83.840000        100         58     17.333798   \n38  480         75   90.880000        100         58     15.664524   \n39  480        100   98.000000        100         75      6.828003   \n40  535          0   65.853333         75         58      4.279724   \n41  535         25   74.893333        100         58     14.906532   \n42  535         50   83.840000        100         58     17.333798   \n43  535         75   90.880000        100         58     15.664524   \n44  535        100   98.000000        100         75      6.828003   \n45  593          0   16.920000         25          8      5.318911   \n46  593         25   41.960000        100          8     36.619091   \n47  593         50   64.906667        100          8     39.934803   \n48  593         75   81.546667        100          8     34.338653   \n49  593        100   98.000000        100         75      6.828003   \n\n        e_plus    e_minus  \n0    23.786001  14.587333  \n1    79.792969   6.020365  \n2   105.525675  25.540992  \n3   115.378384  50.914949  \n4   103.283042  93.996958  \n5    23.786001  14.587333  \n6    79.792969   6.020365  \n7   105.525675  25.540992  \n8   115.378384  50.914949  \n9   103.283042  93.996958  \n10   37.728199   9.071801  \n11   82.968735   9.297931  \n12  105.678239  26.481761  \n13  115.378384  50.914949  \n14  103.283042  93.996958  \n15   70.133057  61.573610  \n16   89.799865  59.986802  \n17  101.173798  66.506202  \n18  106.544524  75.215476  \n19  104.828003  91.171997  \n20   70.089530  65.403803  \n21   90.030756  62.582577  \n22  100.887410  69.139257  \n23  105.595628  78.084372  \n24  104.828003  91.171997  \n25   69.027056  61.106277  \n26   89.455724  59.237610  \n27  101.202470  66.237530  \n28  106.544524  75.215476  \n29  104.828003  91.171997  \n30   70.133057  61.573610  \n31   89.799865  59.986802  \n32  101.173798  66.506202  \n33  106.544524  75.215476  \n34  104.828003  91.171997  \n35   70.133057  61.573610  \n36   89.799865  59.986802  \n37  101.173798  66.506202  \n38  106.544524  75.215476  \n39  104.828003  91.171997  \n40   70.133057  61.573610  \n41   89.799865  59.986802  \n42  101.173798  66.506202  \n43  106.544524  75.215476  \n44  104.828003  91.171997  \n45   22.238911  11.601089  \n46   78.579091   5.340909  \n47  104.841469  24.971864  \n48  115.885319  47.208014  \n49  104.828003  91.171997  ",
      "text/html": "<div>\n<style scoped>\n    .dataframe tbody tr th:only-of-type {\n        vertical-align: middle;\n    }\n\n    .dataframe tbody tr th {\n        vertical-align: top;\n    }\n\n    .dataframe thead th {\n        text-align: right;\n    }\n</style>\n<table border=\"1\" class=\"dataframe\">\n  <thead>\n    <tr style=\"text-align: right;\">\n      <th></th>\n      <th>eps</th>\n      <th>plans_pct</th>\n      <th>mean_score</th>\n      <th>max_score</th>\n      <th>min_score</th>\n      <th>stddev_score</th>\n      <th>e_plus</th>\n      <th>e_minus</th>\n    </tr>\n  </thead>\n  <tbody>\n    <tr>\n      <th>0</th>\n      <td>58</td>\n      <td>0</td>\n      <td>19.186667</td>\n      <td>25</td>\n      <td>8</td>\n      <td>4.599334</td>\n      <td>23.786001</td>\n      <td>14.587333</td>\n    </tr>\n    <tr>\n      <th>1</th>\n      <td>58</td>\n      <td>25</td>\n      <td>42.906667</td>\n      <td>100</td>\n      <td>8</td>\n      <td>36.886302</td>\n      <td>79.792969</td>\n      <td>6.020365</td>\n    </tr>\n    <tr>\n      <th>2</th>\n      <td>58</td>\n      <td>50</td>\n      <td>65.533333</td>\n      <td>100</td>\n      <td>8</td>\n      <td>39.992342</td>\n      <td>105.525675</td>\n      <td>25.540992</td>\n    </tr>\n    <tr>\n      <th>3</th>\n      <td>58</td>\n      <td>75</td>\n      <td>83.146667</td>\n      <td>100</td>\n      <td>17</td>\n      <td>32.231717</td>\n      <td>115.378384</td>\n      <td>50.914949</td>\n    </tr>\n    <tr>\n      <th>4</th>\n      <td>58</td>\n      <td>100</td>\n      <td>98.640000</td>\n      <td>100</td>\n      <td>83</td>\n      <td>4.643042</td>\n      <td>103.283042</td>\n      <td>93.996958</td>\n    </tr>\n    <tr>\n      <th>5</th>\n      <td>119</td>\n      <td>0</td>\n      <td>19.186667</td>\n      <td>25</td>\n      <td>8</td>\n      <td>4.599334</td>\n      <td>23.786001</td>\n      <td>14.587333</td>\n    </tr>\n    <tr>\n      <th>6</th>\n      <td>119</td>\n      <td>25</td>\n      <td>42.906667</td>\n      <td>100</td>\n      <td>8</td>\n      <td>36.886302</td>\n      <td>79.792969</td>\n      <td>6.020365</td>\n    </tr>\n    <tr>\n      <th>7</th>\n      <td>119</td>\n      <td>50</td>\n      <td>65.533333</td>\n      <td>100</td>\n      <td>8</td>\n      <td>39.992342</td>\n      <td>105.525675</td>\n      <td>25.540992</td>\n    </tr>\n    <tr>\n      <th>8</th>\n      <td>119</td>\n      <td>75</td>\n      <td>83.146667</td>\n      <td>100</td>\n      <td>17</td>\n      <td>32.231717</td>\n      <td>115.378384</td>\n      <td>50.914949</td>\n    </tr>\n    <tr>\n      <th>9</th>\n      <td>119</td>\n      <td>100</td>\n      <td>98.640000</td>\n      <td>100</td>\n      <td>83</td>\n      <td>4.643042</td>\n      <td>103.283042</td>\n      <td>93.996958</td>\n    </tr>\n    <tr>\n      <th>10</th>\n      <td>181</td>\n      <td>0</td>\n      <td>23.400000</td>\n      <td>67</td>\n      <td>8</td>\n      <td>14.328199</td>\n      <td>37.728199</td>\n      <td>9.071801</td>\n    </tr>\n    <tr>\n      <th>11</th>\n      <td>181</td>\n      <td>25</td>\n      <td>46.133333</td>\n      <td>100</td>\n      <td>8</td>\n      <td>36.835402</td>\n      <td>82.968735</td>\n      <td>9.297931</td>\n    </tr>\n    <tr>\n      <th>12</th>\n      <td>181</td>\n      <td>50</td>\n      <td>66.080000</td>\n      <td>100</td>\n      <td>8</td>\n      <td>39.598239</td>\n      <td>105.678239</td>\n      <td>26.481761</td>\n    </tr>\n    <tr>\n      <th>13</th>\n      <td>181</td>\n      <td>75</td>\n      <td>83.146667</td>\n      <td>100</td>\n      <td>17</td>\n      <td>32.231717</td>\n      <td>115.378384</td>\n      <td>50.914949</td>\n    </tr>\n    <tr>\n      <th>14</th>\n      <td>181</td>\n      <td>100</td>\n      <td>98.640000</td>\n      <td>100</td>\n      <td>83</td>\n      <td>4.643042</td>\n      <td>103.283042</td>\n      <td>93.996958</td>\n    </tr>\n    <tr>\n      <th>15</th>\n      <td>242</td>\n      <td>0</td>\n      <td>65.853333</td>\n      <td>75</td>\n      <td>58</td>\n      <td>4.279724</td>\n      <td>70.133057</td>\n      <td>61.573610</td>\n    </tr>\n    <tr>\n      <th>16</th>\n      <td>242</td>\n      <td>25</td>\n      <td>74.893333</td>\n      <td>100</td>\n      <td>58</td>\n      <td>14.906532</td>\n      <td>89.799865</td>\n      <td>59.986802</td>\n    </tr>\n    <tr>\n      <th>17</th>\n      <td>242</td>\n      <td>50</td>\n      <td>83.840000</td>\n      <td>100</td>\n      <td>58</td>\n      <td>17.333798</td>\n      <td>101.173798</td>\n      <td>66.506202</td>\n    </tr>\n    <tr>\n      <th>18</th>\n      <td>242</td>\n      <td>75</td>\n      <td>90.880000</td>\n      <td>100</td>\n      <td>58</td>\n      <td>15.664524</td>\n      <td>106.544524</td>\n      <td>75.215476</td>\n    </tr>\n    <tr>\n      <th>19</th>\n      <td>242</td>\n      <td>100</td>\n      <td>98.000000</td>\n      <td>100</td>\n      <td>75</td>\n      <td>6.828003</td>\n      <td>104.828003</td>\n      <td>91.171997</td>\n    </tr>\n    <tr>\n      <th>20</th>\n      <td>302</td>\n      <td>0</td>\n      <td>67.746667</td>\n      <td>75</td>\n      <td>67</td>\n      <td>2.342863</td>\n      <td>70.089530</td>\n      <td>65.403803</td>\n    </tr>\n    <tr>\n      <th>21</th>\n      <td>302</td>\n      <td>25</td>\n      <td>76.306667</td>\n      <td>100</td>\n      <td>67</td>\n      <td>13.724089</td>\n      <td>90.030756</td>\n      <td>62.582577</td>\n    </tr>\n    <tr>\n      <th>22</th>\n      <td>302</td>\n      <td>50</td>\n      <td>85.013333</td>\n      <td>100</td>\n      <td>67</td>\n      <td>15.874077</td>\n      <td>100.887410</td>\n      <td>69.139257</td>\n    </tr>\n    <tr>\n      <th>23</th>\n      <td>302</td>\n      <td>75</td>\n      <td>91.840000</td>\n      <td>100</td>\n      <td>67</td>\n      <td>13.755628</td>\n      <td>105.595628</td>\n      <td>78.084372</td>\n    </tr>\n    <tr>\n      <th>24</th>\n      <td>302</td>\n      <td>100</td>\n      <td>98.000000</td>\n      <td>100</td>\n      <td>75</td>\n      <td>6.828003</td>\n      <td>104.828003</td>\n      <td>91.171997</td>\n    </tr>\n    <tr>\n      <th>25</th>\n      <td>362</td>\n      <td>0</td>\n      <td>65.066667</td>\n      <td>75</td>\n      <td>58</td>\n      <td>3.960389</td>\n      <td>69.027056</td>\n      <td>61.106277</td>\n    </tr>\n    <tr>\n      <th>26</th>\n      <td>362</td>\n      <td>25</td>\n      <td>74.346667</td>\n      <td>100</td>\n      <td>58</td>\n      <td>15.109057</td>\n      <td>89.455724</td>\n      <td>59.237610</td>\n    </tr>\n    <tr>\n      <th>27</th>\n      <td>362</td>\n      <td>50</td>\n      <td>83.720000</td>\n      <td>100</td>\n      <td>58</td>\n      <td>17.482470</td>\n      <td>101.202470</td>\n      <td>66.237530</td>\n    </tr>\n    <tr>\n      <th>28</th>\n      <td>362</td>\n      <td>75</td>\n      <td>90.880000</td>\n      <td>100</td>\n      <td>58</td>\n      <td>15.664524</td>\n      <td>106.544524</td>\n      <td>75.215476</td>\n    </tr>\n    <tr>\n      <th>29</th>\n      <td>362</td>\n      <td>100</td>\n      <td>98.000000</td>\n      <td>100</td>\n      <td>75</td>\n      <td>6.828003</td>\n      <td>104.828003</td>\n      <td>91.171997</td>\n    </tr>\n    <tr>\n      <th>30</th>\n      <td>421</td>\n      <td>0</td>\n      <td>65.853333</td>\n      <td>75</td>\n      <td>58</td>\n      <td>4.279724</td>\n      <td>70.133057</td>\n      <td>61.573610</td>\n    </tr>\n    <tr>\n      <th>31</th>\n      <td>421</td>\n      <td>25</td>\n      <td>74.893333</td>\n      <td>100</td>\n      <td>58</td>\n      <td>14.906532</td>\n      <td>89.799865</td>\n      <td>59.986802</td>\n    </tr>\n    <tr>\n      <th>32</th>\n      <td>421</td>\n      <td>50</td>\n      <td>83.840000</td>\n      <td>100</td>\n      <td>58</td>\n      <td>17.333798</td>\n      <td>101.173798</td>\n      <td>66.506202</td>\n    </tr>\n    <tr>\n      <th>33</th>\n      <td>421</td>\n      <td>75</td>\n      <td>90.880000</td>\n      <td>100</td>\n      <td>58</td>\n      <td>15.664524</td>\n      <td>106.544524</td>\n      <td>75.215476</td>\n    </tr>\n    <tr>\n      <th>34</th>\n      <td>421</td>\n      <td>100</td>\n      <td>98.000000</td>\n      <td>100</td>\n      <td>75</td>\n      <td>6.828003</td>\n      <td>104.828003</td>\n      <td>91.171997</td>\n    </tr>\n    <tr>\n      <th>35</th>\n      <td>480</td>\n      <td>0</td>\n      <td>65.853333</td>\n      <td>75</td>\n      <td>58</td>\n      <td>4.279724</td>\n      <td>70.133057</td>\n      <td>61.573610</td>\n    </tr>\n    <tr>\n      <th>36</th>\n      <td>480</td>\n      <td>25</td>\n      <td>74.893333</td>\n      <td>100</td>\n      <td>58</td>\n      <td>14.906532</td>\n      <td>89.799865</td>\n      <td>59.986802</td>\n    </tr>\n    <tr>\n      <th>37</th>\n      <td>480</td>\n      <td>50</td>\n      <td>83.840000</td>\n      <td>100</td>\n      <td>58</td>\n      <td>17.333798</td>\n      <td>101.173798</td>\n      <td>66.506202</td>\n    </tr>\n    <tr>\n      <th>38</th>\n      <td>480</td>\n      <td>75</td>\n      <td>90.880000</td>\n      <td>100</td>\n      <td>58</td>\n      <td>15.664524</td>\n      <td>106.544524</td>\n      <td>75.215476</td>\n    </tr>\n    <tr>\n      <th>39</th>\n      <td>480</td>\n      <td>100</td>\n      <td>98.000000</td>\n      <td>100</td>\n      <td>75</td>\n      <td>6.828003</td>\n      <td>104.828003</td>\n      <td>91.171997</td>\n    </tr>\n    <tr>\n      <th>40</th>\n      <td>535</td>\n      <td>0</td>\n      <td>65.853333</td>\n      <td>75</td>\n      <td>58</td>\n      <td>4.279724</td>\n      <td>70.133057</td>\n      <td>61.573610</td>\n    </tr>\n    <tr>\n      <th>41</th>\n      <td>535</td>\n      <td>25</td>\n      <td>74.893333</td>\n      <td>100</td>\n      <td>58</td>\n      <td>14.906532</td>\n      <td>89.799865</td>\n      <td>59.986802</td>\n    </tr>\n    <tr>\n      <th>42</th>\n      <td>535</td>\n      <td>50</td>\n      <td>83.840000</td>\n      <td>100</td>\n      <td>58</td>\n      <td>17.333798</td>\n      <td>101.173798</td>\n      <td>66.506202</td>\n    </tr>\n    <tr>\n      <th>43</th>\n      <td>535</td>\n      <td>75</td>\n      <td>90.880000</td>\n      <td>100</td>\n      <td>58</td>\n      <td>15.664524</td>\n      <td>106.544524</td>\n      <td>75.215476</td>\n    </tr>\n    <tr>\n      <th>44</th>\n      <td>535</td>\n      <td>100</td>\n      <td>98.000000</td>\n      <td>100</td>\n      <td>75</td>\n      <td>6.828003</td>\n      <td>104.828003</td>\n      <td>91.171997</td>\n    </tr>\n    <tr>\n      <th>45</th>\n      <td>593</td>\n      <td>0</td>\n      <td>16.920000</td>\n      <td>25</td>\n      <td>8</td>\n      <td>5.318911</td>\n      <td>22.238911</td>\n      <td>11.601089</td>\n    </tr>\n    <tr>\n      <th>46</th>\n      <td>593</td>\n      <td>25</td>\n      <td>41.960000</td>\n      <td>100</td>\n      <td>8</td>\n      <td>36.619091</td>\n      <td>78.579091</td>\n      <td>5.340909</td>\n    </tr>\n    <tr>\n      <th>47</th>\n      <td>593</td>\n      <td>50</td>\n      <td>64.906667</td>\n      <td>100</td>\n      <td>8</td>\n      <td>39.934803</td>\n      <td>104.841469</td>\n      <td>24.971864</td>\n    </tr>\n    <tr>\n      <th>48</th>\n      <td>593</td>\n      <td>75</td>\n      <td>81.546667</td>\n      <td>100</td>\n      <td>8</td>\n      <td>34.338653</td>\n      <td>115.885319</td>\n      <td>47.208014</td>\n    </tr>\n    <tr>\n      <th>49</th>\n      <td>593</td>\n      <td>100</td>\n      <td>98.000000</td>\n      <td>100</td>\n      <td>75</td>\n      <td>6.828003</td>\n      <td>104.828003</td>\n      <td>91.171997</td>\n    </tr>\n  </tbody>\n</table>\n</div>"
     },
     "execution_count": 9,
     "metadata": {},
     "output_type": "execute_result"
    }
   ],
   "source": [
    "plots_df = results_df[['final_score', 'eps', 'plans_pct']]\n",
    "plots_df = plots_df.groupby(['eps', 'plans_pct']).agg(mean_score = ('final_score', 'mean'), max_score=('final_score', 'max'), min_score=('final_score', 'min'), stddev_score=('final_score', 'std')).reset_index()\n",
    "plots_df['e_plus'] = plots_df['mean_score'] + plots_df['stddev_score']\n",
    "plots_df['e_minus'] = plots_df['mean_score'] - plots_df['stddev_score']\n",
    "plots_df"
   ],
   "metadata": {
    "collapsed": false,
    "ExecuteTime": {
     "end_time": "2023-09-21T15:42:49.951860252Z",
     "start_time": "2023-09-21T15:42:49.827938745Z"
    }
   }
  },
  {
   "cell_type": "code",
   "execution_count": 29,
   "outputs": [
    {
     "data": {
      "application/vnd.plotly.v1+json": {
       "data": [
        {
         "error_y": {
          "array": [
           4.599334068522733,
           4.599334068522733,
           14.328199373867507,
           4.279723827075295,
           2.3428634209037917,
           3.9603894612379573,
           4.279723827075295,
           4.279723827075295,
           4.279723827075295,
           5.318910678965271
          ],
          "thickness": 0.5,
          "type": "data",
          "visible": true
         },
         "name": "Plans pct 0",
         "x": [
          58,
          119,
          181,
          242,
          302,
          362,
          421,
          480,
          535,
          593
         ],
         "y": [
          19.186666666666667,
          19.186666666666667,
          23.4,
          65.85333333333334,
          67.74666666666667,
          65.06666666666666,
          65.85333333333334,
          65.85333333333334,
          65.85333333333334,
          16.92
         ],
         "type": "scatter"
        },
        {
         "error_y": {
          "array": [
           36.88630205481812,
           36.88630205481812,
           36.83540208612968,
           14.9065316115012,
           13.72408942810526,
           15.109057005769868,
           14.9065316115012,
           14.9065316115012,
           14.9065316115012,
           36.61909116619141
          ],
          "thickness": 0.5,
          "type": "data",
          "visible": true
         },
         "name": "Plans pct 25",
         "x": [
          58,
          119,
          181,
          242,
          302,
          362,
          421,
          480,
          535,
          593
         ],
         "y": [
          42.906666666666666,
          42.906666666666666,
          46.13333333333333,
          74.89333333333333,
          76.30666666666667,
          74.34666666666666,
          74.89333333333333,
          74.89333333333333,
          74.89333333333333,
          41.96
         ],
         "type": "scatter"
        },
        {
         "error_y": {
          "array": [
           39.99234160920546,
           39.99234160920546,
           39.59823910908843,
           17.333797637579035,
           15.874076549717973,
           17.48246998443746,
           17.333797637579035,
           17.333797637579035,
           17.333797637579035,
           39.9348027222931
          ],
          "thickness": 0.5,
          "type": "data",
          "visible": true
         },
         "name": "Plans pct 50",
         "x": [
          58,
          119,
          181,
          242,
          302,
          362,
          421,
          480,
          535,
          593
         ],
         "y": [
          65.53333333333333,
          65.53333333333333,
          66.08,
          83.84,
          85.01333333333334,
          83.72,
          83.84,
          83.84,
          83.84,
          64.90666666666667
         ],
         "type": "scatter"
        },
        {
         "error_y": {
          "array": [
           32.231717354239805,
           32.231717354239805,
           32.231717354239805,
           15.66452352602202,
           13.755627840898333,
           15.66452352602202,
           15.66452352602202,
           15.66452352602202,
           15.66452352602202,
           34.3386526098952
          ],
          "thickness": 0.5,
          "type": "data",
          "visible": true
         },
         "name": "Plans pct 75",
         "x": [
          58,
          119,
          181,
          242,
          302,
          362,
          421,
          480,
          535,
          593
         ],
         "y": [
          83.14666666666666,
          83.14666666666666,
          83.14666666666666,
          90.88,
          91.84,
          90.88,
          90.88,
          90.88,
          90.88,
          81.54666666666667
         ],
         "type": "scatter"
        },
        {
         "error_y": {
          "array": [
           4.643041873366838,
           4.643041873366838,
           4.643041873366838,
           6.828002754951231,
           6.828002754951231,
           6.828002754951231,
           6.828002754951231,
           6.828002754951231,
           6.828002754951231,
           6.828002754951231
          ],
          "thickness": 0.5,
          "type": "data",
          "visible": true
         },
         "name": "Plans pct 100",
         "x": [
          58,
          119,
          181,
          242,
          302,
          362,
          421,
          480,
          535,
          593
         ],
         "y": [
          98.64,
          98.64,
          98.64,
          98.0,
          98.0,
          98.0,
          98.0,
          98.0,
          98.0,
          98.0
         ],
         "type": "scatter"
        }
       ],
       "layout": {
        "template": {
         "data": {
          "histogram2dcontour": [
           {
            "type": "histogram2dcontour",
            "colorbar": {
             "outlinewidth": 0,
             "ticks": ""
            },
            "colorscale": [
             [
              0.0,
              "#0d0887"
             ],
             [
              0.1111111111111111,
              "#46039f"
             ],
             [
              0.2222222222222222,
              "#7201a8"
             ],
             [
              0.3333333333333333,
              "#9c179e"
             ],
             [
              0.4444444444444444,
              "#bd3786"
             ],
             [
              0.5555555555555556,
              "#d8576b"
             ],
             [
              0.6666666666666666,
              "#ed7953"
             ],
             [
              0.7777777777777778,
              "#fb9f3a"
             ],
             [
              0.8888888888888888,
              "#fdca26"
             ],
             [
              1.0,
              "#f0f921"
             ]
            ]
           }
          ],
          "choropleth": [
           {
            "type": "choropleth",
            "colorbar": {
             "outlinewidth": 0,
             "ticks": ""
            }
           }
          ],
          "histogram2d": [
           {
            "type": "histogram2d",
            "colorbar": {
             "outlinewidth": 0,
             "ticks": ""
            },
            "colorscale": [
             [
              0.0,
              "#0d0887"
             ],
             [
              0.1111111111111111,
              "#46039f"
             ],
             [
              0.2222222222222222,
              "#7201a8"
             ],
             [
              0.3333333333333333,
              "#9c179e"
             ],
             [
              0.4444444444444444,
              "#bd3786"
             ],
             [
              0.5555555555555556,
              "#d8576b"
             ],
             [
              0.6666666666666666,
              "#ed7953"
             ],
             [
              0.7777777777777778,
              "#fb9f3a"
             ],
             [
              0.8888888888888888,
              "#fdca26"
             ],
             [
              1.0,
              "#f0f921"
             ]
            ]
           }
          ],
          "heatmap": [
           {
            "type": "heatmap",
            "colorbar": {
             "outlinewidth": 0,
             "ticks": ""
            },
            "colorscale": [
             [
              0.0,
              "#0d0887"
             ],
             [
              0.1111111111111111,
              "#46039f"
             ],
             [
              0.2222222222222222,
              "#7201a8"
             ],
             [
              0.3333333333333333,
              "#9c179e"
             ],
             [
              0.4444444444444444,
              "#bd3786"
             ],
             [
              0.5555555555555556,
              "#d8576b"
             ],
             [
              0.6666666666666666,
              "#ed7953"
             ],
             [
              0.7777777777777778,
              "#fb9f3a"
             ],
             [
              0.8888888888888888,
              "#fdca26"
             ],
             [
              1.0,
              "#f0f921"
             ]
            ]
           }
          ],
          "heatmapgl": [
           {
            "type": "heatmapgl",
            "colorbar": {
             "outlinewidth": 0,
             "ticks": ""
            },
            "colorscale": [
             [
              0.0,
              "#0d0887"
             ],
             [
              0.1111111111111111,
              "#46039f"
             ],
             [
              0.2222222222222222,
              "#7201a8"
             ],
             [
              0.3333333333333333,
              "#9c179e"
             ],
             [
              0.4444444444444444,
              "#bd3786"
             ],
             [
              0.5555555555555556,
              "#d8576b"
             ],
             [
              0.6666666666666666,
              "#ed7953"
             ],
             [
              0.7777777777777778,
              "#fb9f3a"
             ],
             [
              0.8888888888888888,
              "#fdca26"
             ],
             [
              1.0,
              "#f0f921"
             ]
            ]
           }
          ],
          "contourcarpet": [
           {
            "type": "contourcarpet",
            "colorbar": {
             "outlinewidth": 0,
             "ticks": ""
            }
           }
          ],
          "contour": [
           {
            "type": "contour",
            "colorbar": {
             "outlinewidth": 0,
             "ticks": ""
            },
            "colorscale": [
             [
              0.0,
              "#0d0887"
             ],
             [
              0.1111111111111111,
              "#46039f"
             ],
             [
              0.2222222222222222,
              "#7201a8"
             ],
             [
              0.3333333333333333,
              "#9c179e"
             ],
             [
              0.4444444444444444,
              "#bd3786"
             ],
             [
              0.5555555555555556,
              "#d8576b"
             ],
             [
              0.6666666666666666,
              "#ed7953"
             ],
             [
              0.7777777777777778,
              "#fb9f3a"
             ],
             [
              0.8888888888888888,
              "#fdca26"
             ],
             [
              1.0,
              "#f0f921"
             ]
            ]
           }
          ],
          "surface": [
           {
            "type": "surface",
            "colorbar": {
             "outlinewidth": 0,
             "ticks": ""
            },
            "colorscale": [
             [
              0.0,
              "#0d0887"
             ],
             [
              0.1111111111111111,
              "#46039f"
             ],
             [
              0.2222222222222222,
              "#7201a8"
             ],
             [
              0.3333333333333333,
              "#9c179e"
             ],
             [
              0.4444444444444444,
              "#bd3786"
             ],
             [
              0.5555555555555556,
              "#d8576b"
             ],
             [
              0.6666666666666666,
              "#ed7953"
             ],
             [
              0.7777777777777778,
              "#fb9f3a"
             ],
             [
              0.8888888888888888,
              "#fdca26"
             ],
             [
              1.0,
              "#f0f921"
             ]
            ]
           }
          ],
          "mesh3d": [
           {
            "type": "mesh3d",
            "colorbar": {
             "outlinewidth": 0,
             "ticks": ""
            }
           }
          ],
          "scatter": [
           {
            "fillpattern": {
             "fillmode": "overlay",
             "size": 10,
             "solidity": 0.2
            },
            "type": "scatter"
           }
          ],
          "parcoords": [
           {
            "type": "parcoords",
            "line": {
             "colorbar": {
              "outlinewidth": 0,
              "ticks": ""
             }
            }
           }
          ],
          "scatterpolargl": [
           {
            "type": "scatterpolargl",
            "marker": {
             "colorbar": {
              "outlinewidth": 0,
              "ticks": ""
             }
            }
           }
          ],
          "bar": [
           {
            "error_x": {
             "color": "#2a3f5f"
            },
            "error_y": {
             "color": "#2a3f5f"
            },
            "marker": {
             "line": {
              "color": "#E5ECF6",
              "width": 0.5
             },
             "pattern": {
              "fillmode": "overlay",
              "size": 10,
              "solidity": 0.2
             }
            },
            "type": "bar"
           }
          ],
          "scattergeo": [
           {
            "type": "scattergeo",
            "marker": {
             "colorbar": {
              "outlinewidth": 0,
              "ticks": ""
             }
            }
           }
          ],
          "scatterpolar": [
           {
            "type": "scatterpolar",
            "marker": {
             "colorbar": {
              "outlinewidth": 0,
              "ticks": ""
             }
            }
           }
          ],
          "histogram": [
           {
            "marker": {
             "pattern": {
              "fillmode": "overlay",
              "size": 10,
              "solidity": 0.2
             }
            },
            "type": "histogram"
           }
          ],
          "scattergl": [
           {
            "type": "scattergl",
            "marker": {
             "colorbar": {
              "outlinewidth": 0,
              "ticks": ""
             }
            }
           }
          ],
          "scatter3d": [
           {
            "type": "scatter3d",
            "line": {
             "colorbar": {
              "outlinewidth": 0,
              "ticks": ""
             }
            },
            "marker": {
             "colorbar": {
              "outlinewidth": 0,
              "ticks": ""
             }
            }
           }
          ],
          "scattermapbox": [
           {
            "type": "scattermapbox",
            "marker": {
             "colorbar": {
              "outlinewidth": 0,
              "ticks": ""
             }
            }
           }
          ],
          "scatterternary": [
           {
            "type": "scatterternary",
            "marker": {
             "colorbar": {
              "outlinewidth": 0,
              "ticks": ""
             }
            }
           }
          ],
          "scattercarpet": [
           {
            "type": "scattercarpet",
            "marker": {
             "colorbar": {
              "outlinewidth": 0,
              "ticks": ""
             }
            }
           }
          ],
          "carpet": [
           {
            "aaxis": {
             "endlinecolor": "#2a3f5f",
             "gridcolor": "white",
             "linecolor": "white",
             "minorgridcolor": "white",
             "startlinecolor": "#2a3f5f"
            },
            "baxis": {
             "endlinecolor": "#2a3f5f",
             "gridcolor": "white",
             "linecolor": "white",
             "minorgridcolor": "white",
             "startlinecolor": "#2a3f5f"
            },
            "type": "carpet"
           }
          ],
          "table": [
           {
            "cells": {
             "fill": {
              "color": "#EBF0F8"
             },
             "line": {
              "color": "white"
             }
            },
            "header": {
             "fill": {
              "color": "#C8D4E3"
             },
             "line": {
              "color": "white"
             }
            },
            "type": "table"
           }
          ],
          "barpolar": [
           {
            "marker": {
             "line": {
              "color": "#E5ECF6",
              "width": 0.5
             },
             "pattern": {
              "fillmode": "overlay",
              "size": 10,
              "solidity": 0.2
             }
            },
            "type": "barpolar"
           }
          ],
          "pie": [
           {
            "automargin": true,
            "type": "pie"
           }
          ]
         },
         "layout": {
          "autotypenumbers": "strict",
          "colorway": [
           "#636efa",
           "#EF553B",
           "#00cc96",
           "#ab63fa",
           "#FFA15A",
           "#19d3f3",
           "#FF6692",
           "#B6E880",
           "#FF97FF",
           "#FECB52"
          ],
          "font": {
           "color": "#2a3f5f"
          },
          "hovermode": "closest",
          "hoverlabel": {
           "align": "left"
          },
          "paper_bgcolor": "white",
          "plot_bgcolor": "#E5ECF6",
          "polar": {
           "bgcolor": "#E5ECF6",
           "angularaxis": {
            "gridcolor": "white",
            "linecolor": "white",
            "ticks": ""
           },
           "radialaxis": {
            "gridcolor": "white",
            "linecolor": "white",
            "ticks": ""
           }
          },
          "ternary": {
           "bgcolor": "#E5ECF6",
           "aaxis": {
            "gridcolor": "white",
            "linecolor": "white",
            "ticks": ""
           },
           "baxis": {
            "gridcolor": "white",
            "linecolor": "white",
            "ticks": ""
           },
           "caxis": {
            "gridcolor": "white",
            "linecolor": "white",
            "ticks": ""
           }
          },
          "coloraxis": {
           "colorbar": {
            "outlinewidth": 0,
            "ticks": ""
           }
          },
          "colorscale": {
           "sequential": [
            [
             0.0,
             "#0d0887"
            ],
            [
             0.1111111111111111,
             "#46039f"
            ],
            [
             0.2222222222222222,
             "#7201a8"
            ],
            [
             0.3333333333333333,
             "#9c179e"
            ],
            [
             0.4444444444444444,
             "#bd3786"
            ],
            [
             0.5555555555555556,
             "#d8576b"
            ],
            [
             0.6666666666666666,
             "#ed7953"
            ],
            [
             0.7777777777777778,
             "#fb9f3a"
            ],
            [
             0.8888888888888888,
             "#fdca26"
            ],
            [
             1.0,
             "#f0f921"
            ]
           ],
           "sequentialminus": [
            [
             0.0,
             "#0d0887"
            ],
            [
             0.1111111111111111,
             "#46039f"
            ],
            [
             0.2222222222222222,
             "#7201a8"
            ],
            [
             0.3333333333333333,
             "#9c179e"
            ],
            [
             0.4444444444444444,
             "#bd3786"
            ],
            [
             0.5555555555555556,
             "#d8576b"
            ],
            [
             0.6666666666666666,
             "#ed7953"
            ],
            [
             0.7777777777777778,
             "#fb9f3a"
            ],
            [
             0.8888888888888888,
             "#fdca26"
            ],
            [
             1.0,
             "#f0f921"
            ]
           ],
           "diverging": [
            [
             0,
             "#8e0152"
            ],
            [
             0.1,
             "#c51b7d"
            ],
            [
             0.2,
             "#de77ae"
            ],
            [
             0.3,
             "#f1b6da"
            ],
            [
             0.4,
             "#fde0ef"
            ],
            [
             0.5,
             "#f7f7f7"
            ],
            [
             0.6,
             "#e6f5d0"
            ],
            [
             0.7,
             "#b8e186"
            ],
            [
             0.8,
             "#7fbc41"
            ],
            [
             0.9,
             "#4d9221"
            ],
            [
             1,
             "#276419"
            ]
           ]
          },
          "xaxis": {
           "gridcolor": "white",
           "linecolor": "white",
           "ticks": "",
           "title": {
            "standoff": 15
           },
           "zerolinecolor": "white",
           "automargin": true,
           "zerolinewidth": 2
          },
          "yaxis": {
           "gridcolor": "white",
           "linecolor": "white",
           "ticks": "",
           "title": {
            "standoff": 15
           },
           "zerolinecolor": "white",
           "automargin": true,
           "zerolinewidth": 2
          },
          "scene": {
           "xaxis": {
            "backgroundcolor": "#E5ECF6",
            "gridcolor": "white",
            "linecolor": "white",
            "showbackground": true,
            "ticks": "",
            "zerolinecolor": "white",
            "gridwidth": 2
           },
           "yaxis": {
            "backgroundcolor": "#E5ECF6",
            "gridcolor": "white",
            "linecolor": "white",
            "showbackground": true,
            "ticks": "",
            "zerolinecolor": "white",
            "gridwidth": 2
           },
           "zaxis": {
            "backgroundcolor": "#E5ECF6",
            "gridcolor": "white",
            "linecolor": "white",
            "showbackground": true,
            "ticks": "",
            "zerolinecolor": "white",
            "gridwidth": 2
           }
          },
          "shapedefaults": {
           "line": {
            "color": "#2a3f5f"
           }
          },
          "annotationdefaults": {
           "arrowcolor": "#2a3f5f",
           "arrowhead": 0,
           "arrowwidth": 1
          },
          "geo": {
           "bgcolor": "white",
           "landcolor": "#E5ECF6",
           "subunitcolor": "white",
           "showland": true,
           "showlakes": true,
           "lakecolor": "white"
          },
          "title": {
           "x": 0.05
          },
          "mapbox": {
           "style": "light"
          }
         }
        },
        "width": 1000,
        "height": 1000
       },
       "config": {
        "plotlyServerURL": "https://plot.ly"
       }
      },
      "text/html": "<div>                            <div id=\"b0e8f8ee-fec4-405b-a7c2-78afc10c0a88\" class=\"plotly-graph-div\" style=\"height:1000px; width:1000px;\"></div>            <script type=\"text/javascript\">                require([\"plotly\"], function(Plotly) {                    window.PLOTLYENV=window.PLOTLYENV || {};                                    if (document.getElementById(\"b0e8f8ee-fec4-405b-a7c2-78afc10c0a88\")) {                    Plotly.newPlot(                        \"b0e8f8ee-fec4-405b-a7c2-78afc10c0a88\",                        [{\"error_y\":{\"array\":[4.599334068522733,4.599334068522733,14.328199373867507,4.279723827075295,2.3428634209037917,3.9603894612379573,4.279723827075295,4.279723827075295,4.279723827075295,5.318910678965271],\"thickness\":0.5,\"type\":\"data\",\"visible\":true},\"name\":\"Plans pct 0\",\"x\":[58,119,181,242,302,362,421,480,535,593],\"y\":[19.186666666666667,19.186666666666667,23.4,65.85333333333334,67.74666666666667,65.06666666666666,65.85333333333334,65.85333333333334,65.85333333333334,16.92],\"type\":\"scatter\"},{\"error_y\":{\"array\":[36.88630205481812,36.88630205481812,36.83540208612968,14.9065316115012,13.72408942810526,15.109057005769868,14.9065316115012,14.9065316115012,14.9065316115012,36.61909116619141],\"thickness\":0.5,\"type\":\"data\",\"visible\":true},\"name\":\"Plans pct 25\",\"x\":[58,119,181,242,302,362,421,480,535,593],\"y\":[42.906666666666666,42.906666666666666,46.13333333333333,74.89333333333333,76.30666666666667,74.34666666666666,74.89333333333333,74.89333333333333,74.89333333333333,41.96],\"type\":\"scatter\"},{\"error_y\":{\"array\":[39.99234160920546,39.99234160920546,39.59823910908843,17.333797637579035,15.874076549717973,17.48246998443746,17.333797637579035,17.333797637579035,17.333797637579035,39.9348027222931],\"thickness\":0.5,\"type\":\"data\",\"visible\":true},\"name\":\"Plans pct 50\",\"x\":[58,119,181,242,302,362,421,480,535,593],\"y\":[65.53333333333333,65.53333333333333,66.08,83.84,85.01333333333334,83.72,83.84,83.84,83.84,64.90666666666667],\"type\":\"scatter\"},{\"error_y\":{\"array\":[32.231717354239805,32.231717354239805,32.231717354239805,15.66452352602202,13.755627840898333,15.66452352602202,15.66452352602202,15.66452352602202,15.66452352602202,34.3386526098952],\"thickness\":0.5,\"type\":\"data\",\"visible\":true},\"name\":\"Plans pct 75\",\"x\":[58,119,181,242,302,362,421,480,535,593],\"y\":[83.14666666666666,83.14666666666666,83.14666666666666,90.88,91.84,90.88,90.88,90.88,90.88,81.54666666666667],\"type\":\"scatter\"},{\"error_y\":{\"array\":[4.643041873366838,4.643041873366838,4.643041873366838,6.828002754951231,6.828002754951231,6.828002754951231,6.828002754951231,6.828002754951231,6.828002754951231,6.828002754951231],\"thickness\":0.5,\"type\":\"data\",\"visible\":true},\"name\":\"Plans pct 100\",\"x\":[58,119,181,242,302,362,421,480,535,593],\"y\":[98.64,98.64,98.64,98.0,98.0,98.0,98.0,98.0,98.0,98.0],\"type\":\"scatter\"}],                        {\"template\":{\"data\":{\"histogram2dcontour\":[{\"type\":\"histogram2dcontour\",\"colorbar\":{\"outlinewidth\":0,\"ticks\":\"\"},\"colorscale\":[[0.0,\"#0d0887\"],[0.1111111111111111,\"#46039f\"],[0.2222222222222222,\"#7201a8\"],[0.3333333333333333,\"#9c179e\"],[0.4444444444444444,\"#bd3786\"],[0.5555555555555556,\"#d8576b\"],[0.6666666666666666,\"#ed7953\"],[0.7777777777777778,\"#fb9f3a\"],[0.8888888888888888,\"#fdca26\"],[1.0,\"#f0f921\"]]}],\"choropleth\":[{\"type\":\"choropleth\",\"colorbar\":{\"outlinewidth\":0,\"ticks\":\"\"}}],\"histogram2d\":[{\"type\":\"histogram2d\",\"colorbar\":{\"outlinewidth\":0,\"ticks\":\"\"},\"colorscale\":[[0.0,\"#0d0887\"],[0.1111111111111111,\"#46039f\"],[0.2222222222222222,\"#7201a8\"],[0.3333333333333333,\"#9c179e\"],[0.4444444444444444,\"#bd3786\"],[0.5555555555555556,\"#d8576b\"],[0.6666666666666666,\"#ed7953\"],[0.7777777777777778,\"#fb9f3a\"],[0.8888888888888888,\"#fdca26\"],[1.0,\"#f0f921\"]]}],\"heatmap\":[{\"type\":\"heatmap\",\"colorbar\":{\"outlinewidth\":0,\"ticks\":\"\"},\"colorscale\":[[0.0,\"#0d0887\"],[0.1111111111111111,\"#46039f\"],[0.2222222222222222,\"#7201a8\"],[0.3333333333333333,\"#9c179e\"],[0.4444444444444444,\"#bd3786\"],[0.5555555555555556,\"#d8576b\"],[0.6666666666666666,\"#ed7953\"],[0.7777777777777778,\"#fb9f3a\"],[0.8888888888888888,\"#fdca26\"],[1.0,\"#f0f921\"]]}],\"heatmapgl\":[{\"type\":\"heatmapgl\",\"colorbar\":{\"outlinewidth\":0,\"ticks\":\"\"},\"colorscale\":[[0.0,\"#0d0887\"],[0.1111111111111111,\"#46039f\"],[0.2222222222222222,\"#7201a8\"],[0.3333333333333333,\"#9c179e\"],[0.4444444444444444,\"#bd3786\"],[0.5555555555555556,\"#d8576b\"],[0.6666666666666666,\"#ed7953\"],[0.7777777777777778,\"#fb9f3a\"],[0.8888888888888888,\"#fdca26\"],[1.0,\"#f0f921\"]]}],\"contourcarpet\":[{\"type\":\"contourcarpet\",\"colorbar\":{\"outlinewidth\":0,\"ticks\":\"\"}}],\"contour\":[{\"type\":\"contour\",\"colorbar\":{\"outlinewidth\":0,\"ticks\":\"\"},\"colorscale\":[[0.0,\"#0d0887\"],[0.1111111111111111,\"#46039f\"],[0.2222222222222222,\"#7201a8\"],[0.3333333333333333,\"#9c179e\"],[0.4444444444444444,\"#bd3786\"],[0.5555555555555556,\"#d8576b\"],[0.6666666666666666,\"#ed7953\"],[0.7777777777777778,\"#fb9f3a\"],[0.8888888888888888,\"#fdca26\"],[1.0,\"#f0f921\"]]}],\"surface\":[{\"type\":\"surface\",\"colorbar\":{\"outlinewidth\":0,\"ticks\":\"\"},\"colorscale\":[[0.0,\"#0d0887\"],[0.1111111111111111,\"#46039f\"],[0.2222222222222222,\"#7201a8\"],[0.3333333333333333,\"#9c179e\"],[0.4444444444444444,\"#bd3786\"],[0.5555555555555556,\"#d8576b\"],[0.6666666666666666,\"#ed7953\"],[0.7777777777777778,\"#fb9f3a\"],[0.8888888888888888,\"#fdca26\"],[1.0,\"#f0f921\"]]}],\"mesh3d\":[{\"type\":\"mesh3d\",\"colorbar\":{\"outlinewidth\":0,\"ticks\":\"\"}}],\"scatter\":[{\"fillpattern\":{\"fillmode\":\"overlay\",\"size\":10,\"solidity\":0.2},\"type\":\"scatter\"}],\"parcoords\":[{\"type\":\"parcoords\",\"line\":{\"colorbar\":{\"outlinewidth\":0,\"ticks\":\"\"}}}],\"scatterpolargl\":[{\"type\":\"scatterpolargl\",\"marker\":{\"colorbar\":{\"outlinewidth\":0,\"ticks\":\"\"}}}],\"bar\":[{\"error_x\":{\"color\":\"#2a3f5f\"},\"error_y\":{\"color\":\"#2a3f5f\"},\"marker\":{\"line\":{\"color\":\"#E5ECF6\",\"width\":0.5},\"pattern\":{\"fillmode\":\"overlay\",\"size\":10,\"solidity\":0.2}},\"type\":\"bar\"}],\"scattergeo\":[{\"type\":\"scattergeo\",\"marker\":{\"colorbar\":{\"outlinewidth\":0,\"ticks\":\"\"}}}],\"scatterpolar\":[{\"type\":\"scatterpolar\",\"marker\":{\"colorbar\":{\"outlinewidth\":0,\"ticks\":\"\"}}}],\"histogram\":[{\"marker\":{\"pattern\":{\"fillmode\":\"overlay\",\"size\":10,\"solidity\":0.2}},\"type\":\"histogram\"}],\"scattergl\":[{\"type\":\"scattergl\",\"marker\":{\"colorbar\":{\"outlinewidth\":0,\"ticks\":\"\"}}}],\"scatter3d\":[{\"type\":\"scatter3d\",\"line\":{\"colorbar\":{\"outlinewidth\":0,\"ticks\":\"\"}},\"marker\":{\"colorbar\":{\"outlinewidth\":0,\"ticks\":\"\"}}}],\"scattermapbox\":[{\"type\":\"scattermapbox\",\"marker\":{\"colorbar\":{\"outlinewidth\":0,\"ticks\":\"\"}}}],\"scatterternary\":[{\"type\":\"scatterternary\",\"marker\":{\"colorbar\":{\"outlinewidth\":0,\"ticks\":\"\"}}}],\"scattercarpet\":[{\"type\":\"scattercarpet\",\"marker\":{\"colorbar\":{\"outlinewidth\":0,\"ticks\":\"\"}}}],\"carpet\":[{\"aaxis\":{\"endlinecolor\":\"#2a3f5f\",\"gridcolor\":\"white\",\"linecolor\":\"white\",\"minorgridcolor\":\"white\",\"startlinecolor\":\"#2a3f5f\"},\"baxis\":{\"endlinecolor\":\"#2a3f5f\",\"gridcolor\":\"white\",\"linecolor\":\"white\",\"minorgridcolor\":\"white\",\"startlinecolor\":\"#2a3f5f\"},\"type\":\"carpet\"}],\"table\":[{\"cells\":{\"fill\":{\"color\":\"#EBF0F8\"},\"line\":{\"color\":\"white\"}},\"header\":{\"fill\":{\"color\":\"#C8D4E3\"},\"line\":{\"color\":\"white\"}},\"type\":\"table\"}],\"barpolar\":[{\"marker\":{\"line\":{\"color\":\"#E5ECF6\",\"width\":0.5},\"pattern\":{\"fillmode\":\"overlay\",\"size\":10,\"solidity\":0.2}},\"type\":\"barpolar\"}],\"pie\":[{\"automargin\":true,\"type\":\"pie\"}]},\"layout\":{\"autotypenumbers\":\"strict\",\"colorway\":[\"#636efa\",\"#EF553B\",\"#00cc96\",\"#ab63fa\",\"#FFA15A\",\"#19d3f3\",\"#FF6692\",\"#B6E880\",\"#FF97FF\",\"#FECB52\"],\"font\":{\"color\":\"#2a3f5f\"},\"hovermode\":\"closest\",\"hoverlabel\":{\"align\":\"left\"},\"paper_bgcolor\":\"white\",\"plot_bgcolor\":\"#E5ECF6\",\"polar\":{\"bgcolor\":\"#E5ECF6\",\"angularaxis\":{\"gridcolor\":\"white\",\"linecolor\":\"white\",\"ticks\":\"\"},\"radialaxis\":{\"gridcolor\":\"white\",\"linecolor\":\"white\",\"ticks\":\"\"}},\"ternary\":{\"bgcolor\":\"#E5ECF6\",\"aaxis\":{\"gridcolor\":\"white\",\"linecolor\":\"white\",\"ticks\":\"\"},\"baxis\":{\"gridcolor\":\"white\",\"linecolor\":\"white\",\"ticks\":\"\"},\"caxis\":{\"gridcolor\":\"white\",\"linecolor\":\"white\",\"ticks\":\"\"}},\"coloraxis\":{\"colorbar\":{\"outlinewidth\":0,\"ticks\":\"\"}},\"colorscale\":{\"sequential\":[[0.0,\"#0d0887\"],[0.1111111111111111,\"#46039f\"],[0.2222222222222222,\"#7201a8\"],[0.3333333333333333,\"#9c179e\"],[0.4444444444444444,\"#bd3786\"],[0.5555555555555556,\"#d8576b\"],[0.6666666666666666,\"#ed7953\"],[0.7777777777777778,\"#fb9f3a\"],[0.8888888888888888,\"#fdca26\"],[1.0,\"#f0f921\"]],\"sequentialminus\":[[0.0,\"#0d0887\"],[0.1111111111111111,\"#46039f\"],[0.2222222222222222,\"#7201a8\"],[0.3333333333333333,\"#9c179e\"],[0.4444444444444444,\"#bd3786\"],[0.5555555555555556,\"#d8576b\"],[0.6666666666666666,\"#ed7953\"],[0.7777777777777778,\"#fb9f3a\"],[0.8888888888888888,\"#fdca26\"],[1.0,\"#f0f921\"]],\"diverging\":[[0,\"#8e0152\"],[0.1,\"#c51b7d\"],[0.2,\"#de77ae\"],[0.3,\"#f1b6da\"],[0.4,\"#fde0ef\"],[0.5,\"#f7f7f7\"],[0.6,\"#e6f5d0\"],[0.7,\"#b8e186\"],[0.8,\"#7fbc41\"],[0.9,\"#4d9221\"],[1,\"#276419\"]]},\"xaxis\":{\"gridcolor\":\"white\",\"linecolor\":\"white\",\"ticks\":\"\",\"title\":{\"standoff\":15},\"zerolinecolor\":\"white\",\"automargin\":true,\"zerolinewidth\":2},\"yaxis\":{\"gridcolor\":\"white\",\"linecolor\":\"white\",\"ticks\":\"\",\"title\":{\"standoff\":15},\"zerolinecolor\":\"white\",\"automargin\":true,\"zerolinewidth\":2},\"scene\":{\"xaxis\":{\"backgroundcolor\":\"#E5ECF6\",\"gridcolor\":\"white\",\"linecolor\":\"white\",\"showbackground\":true,\"ticks\":\"\",\"zerolinecolor\":\"white\",\"gridwidth\":2},\"yaxis\":{\"backgroundcolor\":\"#E5ECF6\",\"gridcolor\":\"white\",\"linecolor\":\"white\",\"showbackground\":true,\"ticks\":\"\",\"zerolinecolor\":\"white\",\"gridwidth\":2},\"zaxis\":{\"backgroundcolor\":\"#E5ECF6\",\"gridcolor\":\"white\",\"linecolor\":\"white\",\"showbackground\":true,\"ticks\":\"\",\"zerolinecolor\":\"white\",\"gridwidth\":2}},\"shapedefaults\":{\"line\":{\"color\":\"#2a3f5f\"}},\"annotationdefaults\":{\"arrowcolor\":\"#2a3f5f\",\"arrowhead\":0,\"arrowwidth\":1},\"geo\":{\"bgcolor\":\"white\",\"landcolor\":\"#E5ECF6\",\"subunitcolor\":\"white\",\"showland\":true,\"showlakes\":true,\"lakecolor\":\"white\"},\"title\":{\"x\":0.05},\"mapbox\":{\"style\":\"light\"}}},\"width\":1000,\"height\":1000},                        {\"responsive\": true}                    ).then(function(){\n                            \nvar gd = document.getElementById('b0e8f8ee-fec4-405b-a7c2-78afc10c0a88');\nvar x = new MutationObserver(function (mutations, observer) {{\n        var display = window.getComputedStyle(gd).display;\n        if (!display || display === 'none') {{\n            console.log([gd, 'removed!']);\n            Plotly.purge(gd);\n            observer.disconnect();\n        }}\n}});\n\n// Listen for the removal of the full notebook cells\nvar notebookContainer = gd.closest('#notebook-container');\nif (notebookContainer) {{\n    x.observe(notebookContainer, {childList: true});\n}}\n\n// Listen for the clearing of the current output cell\nvar outputEl = gd.closest('.output');\nif (outputEl) {{\n    x.observe(outputEl, {childList: true});\n}}\n\n                        })                };                });            </script>        </div>"
     },
     "metadata": {},
     "output_type": "display_data"
    }
   ],
   "source": [
    "all_scaters = []\n",
    "for group, group_df in plots_df.groupby(\"plans_pct\"):\n",
    "    all_scaters.append(go.Scatter(name=f\"Plans pct {group}\",\n",
    "        x=group_df['eps'],\n",
    "        y=group_df['mean_score'],\n",
    "        error_y=dict(\n",
    "            type='data', # value of error bar given in data coordinates\n",
    "            array=group_df['stddev_score'],\n",
    "            visible=True,\n",
    "            thickness=0.5)\n",
    "    ))\n",
    "\n",
    "fig = go.Figure(data=all_scaters)\n",
    "fig.update_layout(width=1000,height=1000)\n",
    "fig.show()"
   ],
   "metadata": {
    "collapsed": false,
    "ExecuteTime": {
     "end_time": "2023-09-21T16:01:36.557047989Z",
     "start_time": "2023-09-21T16:01:36.515096913Z"
    }
   }
  },
  {
   "cell_type": "code",
   "execution_count": 24,
   "outputs": [
    {
     "data": {
      "application/vnd.plotly.v1+json": {
       "data": [
        {
         "alignmentgroup": "True",
         "hovertemplate": "agent=bdi_score<br>plans_pct=%{x}<br>score=%{y}<extra></extra>",
         "legendgroup": "bdi_score",
         "marker": {
          "color": "#636efa",
          "pattern": {
           "shape": ""
          }
         },
         "name": "bdi_score",
         "offsetgroup": "bdi_score",
         "orientation": "v",
         "showlegend": true,
         "textposition": "auto",
         "x": [
          0,
          25,
          50,
          75,
          100
         ],
         "xaxis": "x",
         "y": [
          0.0,
          30.0,
          58.0,
          79.33333333333333,
          98.0
         ],
         "yaxis": "y",
         "type": "bar"
        },
        {
         "alignmentgroup": "True",
         "hovertemplate": "agent=rl_score<br>plans_pct=%{x}<br>score=%{y}<extra></extra>",
         "legendgroup": "rl_score",
         "marker": {
          "color": "#EF553B",
          "pattern": {
           "shape": ""
          }
         },
         "name": "rl_score",
         "offsetgroup": "rl_score",
         "orientation": "v",
         "showlegend": true,
         "textposition": "auto",
         "x": [
          0,
          25,
          50,
          75,
          100
         ],
         "xaxis": "x",
         "y": [
          47.492,
          32.413333333333334,
          18.61466666666667,
          8.389333333333333,
          0.192
         ],
         "yaxis": "y",
         "type": "bar"
        }
       ],
       "layout": {
        "template": {
         "data": {
          "histogram2dcontour": [
           {
            "type": "histogram2dcontour",
            "colorbar": {
             "outlinewidth": 0,
             "ticks": ""
            },
            "colorscale": [
             [
              0.0,
              "#0d0887"
             ],
             [
              0.1111111111111111,
              "#46039f"
             ],
             [
              0.2222222222222222,
              "#7201a8"
             ],
             [
              0.3333333333333333,
              "#9c179e"
             ],
             [
              0.4444444444444444,
              "#bd3786"
             ],
             [
              0.5555555555555556,
              "#d8576b"
             ],
             [
              0.6666666666666666,
              "#ed7953"
             ],
             [
              0.7777777777777778,
              "#fb9f3a"
             ],
             [
              0.8888888888888888,
              "#fdca26"
             ],
             [
              1.0,
              "#f0f921"
             ]
            ]
           }
          ],
          "choropleth": [
           {
            "type": "choropleth",
            "colorbar": {
             "outlinewidth": 0,
             "ticks": ""
            }
           }
          ],
          "histogram2d": [
           {
            "type": "histogram2d",
            "colorbar": {
             "outlinewidth": 0,
             "ticks": ""
            },
            "colorscale": [
             [
              0.0,
              "#0d0887"
             ],
             [
              0.1111111111111111,
              "#46039f"
             ],
             [
              0.2222222222222222,
              "#7201a8"
             ],
             [
              0.3333333333333333,
              "#9c179e"
             ],
             [
              0.4444444444444444,
              "#bd3786"
             ],
             [
              0.5555555555555556,
              "#d8576b"
             ],
             [
              0.6666666666666666,
              "#ed7953"
             ],
             [
              0.7777777777777778,
              "#fb9f3a"
             ],
             [
              0.8888888888888888,
              "#fdca26"
             ],
             [
              1.0,
              "#f0f921"
             ]
            ]
           }
          ],
          "heatmap": [
           {
            "type": "heatmap",
            "colorbar": {
             "outlinewidth": 0,
             "ticks": ""
            },
            "colorscale": [
             [
              0.0,
              "#0d0887"
             ],
             [
              0.1111111111111111,
              "#46039f"
             ],
             [
              0.2222222222222222,
              "#7201a8"
             ],
             [
              0.3333333333333333,
              "#9c179e"
             ],
             [
              0.4444444444444444,
              "#bd3786"
             ],
             [
              0.5555555555555556,
              "#d8576b"
             ],
             [
              0.6666666666666666,
              "#ed7953"
             ],
             [
              0.7777777777777778,
              "#fb9f3a"
             ],
             [
              0.8888888888888888,
              "#fdca26"
             ],
             [
              1.0,
              "#f0f921"
             ]
            ]
           }
          ],
          "heatmapgl": [
           {
            "type": "heatmapgl",
            "colorbar": {
             "outlinewidth": 0,
             "ticks": ""
            },
            "colorscale": [
             [
              0.0,
              "#0d0887"
             ],
             [
              0.1111111111111111,
              "#46039f"
             ],
             [
              0.2222222222222222,
              "#7201a8"
             ],
             [
              0.3333333333333333,
              "#9c179e"
             ],
             [
              0.4444444444444444,
              "#bd3786"
             ],
             [
              0.5555555555555556,
              "#d8576b"
             ],
             [
              0.6666666666666666,
              "#ed7953"
             ],
             [
              0.7777777777777778,
              "#fb9f3a"
             ],
             [
              0.8888888888888888,
              "#fdca26"
             ],
             [
              1.0,
              "#f0f921"
             ]
            ]
           }
          ],
          "contourcarpet": [
           {
            "type": "contourcarpet",
            "colorbar": {
             "outlinewidth": 0,
             "ticks": ""
            }
           }
          ],
          "contour": [
           {
            "type": "contour",
            "colorbar": {
             "outlinewidth": 0,
             "ticks": ""
            },
            "colorscale": [
             [
              0.0,
              "#0d0887"
             ],
             [
              0.1111111111111111,
              "#46039f"
             ],
             [
              0.2222222222222222,
              "#7201a8"
             ],
             [
              0.3333333333333333,
              "#9c179e"
             ],
             [
              0.4444444444444444,
              "#bd3786"
             ],
             [
              0.5555555555555556,
              "#d8576b"
             ],
             [
              0.6666666666666666,
              "#ed7953"
             ],
             [
              0.7777777777777778,
              "#fb9f3a"
             ],
             [
              0.8888888888888888,
              "#fdca26"
             ],
             [
              1.0,
              "#f0f921"
             ]
            ]
           }
          ],
          "surface": [
           {
            "type": "surface",
            "colorbar": {
             "outlinewidth": 0,
             "ticks": ""
            },
            "colorscale": [
             [
              0.0,
              "#0d0887"
             ],
             [
              0.1111111111111111,
              "#46039f"
             ],
             [
              0.2222222222222222,
              "#7201a8"
             ],
             [
              0.3333333333333333,
              "#9c179e"
             ],
             [
              0.4444444444444444,
              "#bd3786"
             ],
             [
              0.5555555555555556,
              "#d8576b"
             ],
             [
              0.6666666666666666,
              "#ed7953"
             ],
             [
              0.7777777777777778,
              "#fb9f3a"
             ],
             [
              0.8888888888888888,
              "#fdca26"
             ],
             [
              1.0,
              "#f0f921"
             ]
            ]
           }
          ],
          "mesh3d": [
           {
            "type": "mesh3d",
            "colorbar": {
             "outlinewidth": 0,
             "ticks": ""
            }
           }
          ],
          "scatter": [
           {
            "fillpattern": {
             "fillmode": "overlay",
             "size": 10,
             "solidity": 0.2
            },
            "type": "scatter"
           }
          ],
          "parcoords": [
           {
            "type": "parcoords",
            "line": {
             "colorbar": {
              "outlinewidth": 0,
              "ticks": ""
             }
            }
           }
          ],
          "scatterpolargl": [
           {
            "type": "scatterpolargl",
            "marker": {
             "colorbar": {
              "outlinewidth": 0,
              "ticks": ""
             }
            }
           }
          ],
          "bar": [
           {
            "error_x": {
             "color": "#2a3f5f"
            },
            "error_y": {
             "color": "#2a3f5f"
            },
            "marker": {
             "line": {
              "color": "#E5ECF6",
              "width": 0.5
             },
             "pattern": {
              "fillmode": "overlay",
              "size": 10,
              "solidity": 0.2
             }
            },
            "type": "bar"
           }
          ],
          "scattergeo": [
           {
            "type": "scattergeo",
            "marker": {
             "colorbar": {
              "outlinewidth": 0,
              "ticks": ""
             }
            }
           }
          ],
          "scatterpolar": [
           {
            "type": "scatterpolar",
            "marker": {
             "colorbar": {
              "outlinewidth": 0,
              "ticks": ""
             }
            }
           }
          ],
          "histogram": [
           {
            "marker": {
             "pattern": {
              "fillmode": "overlay",
              "size": 10,
              "solidity": 0.2
             }
            },
            "type": "histogram"
           }
          ],
          "scattergl": [
           {
            "type": "scattergl",
            "marker": {
             "colorbar": {
              "outlinewidth": 0,
              "ticks": ""
             }
            }
           }
          ],
          "scatter3d": [
           {
            "type": "scatter3d",
            "line": {
             "colorbar": {
              "outlinewidth": 0,
              "ticks": ""
             }
            },
            "marker": {
             "colorbar": {
              "outlinewidth": 0,
              "ticks": ""
             }
            }
           }
          ],
          "scattermapbox": [
           {
            "type": "scattermapbox",
            "marker": {
             "colorbar": {
              "outlinewidth": 0,
              "ticks": ""
             }
            }
           }
          ],
          "scatterternary": [
           {
            "type": "scatterternary",
            "marker": {
             "colorbar": {
              "outlinewidth": 0,
              "ticks": ""
             }
            }
           }
          ],
          "scattercarpet": [
           {
            "type": "scattercarpet",
            "marker": {
             "colorbar": {
              "outlinewidth": 0,
              "ticks": ""
             }
            }
           }
          ],
          "carpet": [
           {
            "aaxis": {
             "endlinecolor": "#2a3f5f",
             "gridcolor": "white",
             "linecolor": "white",
             "minorgridcolor": "white",
             "startlinecolor": "#2a3f5f"
            },
            "baxis": {
             "endlinecolor": "#2a3f5f",
             "gridcolor": "white",
             "linecolor": "white",
             "minorgridcolor": "white",
             "startlinecolor": "#2a3f5f"
            },
            "type": "carpet"
           }
          ],
          "table": [
           {
            "cells": {
             "fill": {
              "color": "#EBF0F8"
             },
             "line": {
              "color": "white"
             }
            },
            "header": {
             "fill": {
              "color": "#C8D4E3"
             },
             "line": {
              "color": "white"
             }
            },
            "type": "table"
           }
          ],
          "barpolar": [
           {
            "marker": {
             "line": {
              "color": "#E5ECF6",
              "width": 0.5
             },
             "pattern": {
              "fillmode": "overlay",
              "size": 10,
              "solidity": 0.2
             }
            },
            "type": "barpolar"
           }
          ],
          "pie": [
           {
            "automargin": true,
            "type": "pie"
           }
          ]
         },
         "layout": {
          "autotypenumbers": "strict",
          "colorway": [
           "#636efa",
           "#EF553B",
           "#00cc96",
           "#ab63fa",
           "#FFA15A",
           "#19d3f3",
           "#FF6692",
           "#B6E880",
           "#FF97FF",
           "#FECB52"
          ],
          "font": {
           "color": "#2a3f5f"
          },
          "hovermode": "closest",
          "hoverlabel": {
           "align": "left"
          },
          "paper_bgcolor": "white",
          "plot_bgcolor": "#E5ECF6",
          "polar": {
           "bgcolor": "#E5ECF6",
           "angularaxis": {
            "gridcolor": "white",
            "linecolor": "white",
            "ticks": ""
           },
           "radialaxis": {
            "gridcolor": "white",
            "linecolor": "white",
            "ticks": ""
           }
          },
          "ternary": {
           "bgcolor": "#E5ECF6",
           "aaxis": {
            "gridcolor": "white",
            "linecolor": "white",
            "ticks": ""
           },
           "baxis": {
            "gridcolor": "white",
            "linecolor": "white",
            "ticks": ""
           },
           "caxis": {
            "gridcolor": "white",
            "linecolor": "white",
            "ticks": ""
           }
          },
          "coloraxis": {
           "colorbar": {
            "outlinewidth": 0,
            "ticks": ""
           }
          },
          "colorscale": {
           "sequential": [
            [
             0.0,
             "#0d0887"
            ],
            [
             0.1111111111111111,
             "#46039f"
            ],
            [
             0.2222222222222222,
             "#7201a8"
            ],
            [
             0.3333333333333333,
             "#9c179e"
            ],
            [
             0.4444444444444444,
             "#bd3786"
            ],
            [
             0.5555555555555556,
             "#d8576b"
            ],
            [
             0.6666666666666666,
             "#ed7953"
            ],
            [
             0.7777777777777778,
             "#fb9f3a"
            ],
            [
             0.8888888888888888,
             "#fdca26"
            ],
            [
             1.0,
             "#f0f921"
            ]
           ],
           "sequentialminus": [
            [
             0.0,
             "#0d0887"
            ],
            [
             0.1111111111111111,
             "#46039f"
            ],
            [
             0.2222222222222222,
             "#7201a8"
            ],
            [
             0.3333333333333333,
             "#9c179e"
            ],
            [
             0.4444444444444444,
             "#bd3786"
            ],
            [
             0.5555555555555556,
             "#d8576b"
            ],
            [
             0.6666666666666666,
             "#ed7953"
            ],
            [
             0.7777777777777778,
             "#fb9f3a"
            ],
            [
             0.8888888888888888,
             "#fdca26"
            ],
            [
             1.0,
             "#f0f921"
            ]
           ],
           "diverging": [
            [
             0,
             "#8e0152"
            ],
            [
             0.1,
             "#c51b7d"
            ],
            [
             0.2,
             "#de77ae"
            ],
            [
             0.3,
             "#f1b6da"
            ],
            [
             0.4,
             "#fde0ef"
            ],
            [
             0.5,
             "#f7f7f7"
            ],
            [
             0.6,
             "#e6f5d0"
            ],
            [
             0.7,
             "#b8e186"
            ],
            [
             0.8,
             "#7fbc41"
            ],
            [
             0.9,
             "#4d9221"
            ],
            [
             1,
             "#276419"
            ]
           ]
          },
          "xaxis": {
           "gridcolor": "white",
           "linecolor": "white",
           "ticks": "",
           "title": {
            "standoff": 15
           },
           "zerolinecolor": "white",
           "automargin": true,
           "zerolinewidth": 2
          },
          "yaxis": {
           "gridcolor": "white",
           "linecolor": "white",
           "ticks": "",
           "title": {
            "standoff": 15
           },
           "zerolinecolor": "white",
           "automargin": true,
           "zerolinewidth": 2
          },
          "scene": {
           "xaxis": {
            "backgroundcolor": "#E5ECF6",
            "gridcolor": "white",
            "linecolor": "white",
            "showbackground": true,
            "ticks": "",
            "zerolinecolor": "white",
            "gridwidth": 2
           },
           "yaxis": {
            "backgroundcolor": "#E5ECF6",
            "gridcolor": "white",
            "linecolor": "white",
            "showbackground": true,
            "ticks": "",
            "zerolinecolor": "white",
            "gridwidth": 2
           },
           "zaxis": {
            "backgroundcolor": "#E5ECF6",
            "gridcolor": "white",
            "linecolor": "white",
            "showbackground": true,
            "ticks": "",
            "zerolinecolor": "white",
            "gridwidth": 2
           }
          },
          "shapedefaults": {
           "line": {
            "color": "#2a3f5f"
           }
          },
          "annotationdefaults": {
           "arrowcolor": "#2a3f5f",
           "arrowhead": 0,
           "arrowwidth": 1
          },
          "geo": {
           "bgcolor": "white",
           "landcolor": "#E5ECF6",
           "subunitcolor": "white",
           "showland": true,
           "showlakes": true,
           "lakecolor": "white"
          },
          "title": {
           "x": 0.05
          },
          "mapbox": {
           "style": "light"
          }
         }
        },
        "xaxis": {
         "anchor": "y",
         "domain": [
          0.0,
          1.0
         ],
         "title": {
          "text": "plans_pct"
         }
        },
        "yaxis": {
         "anchor": "x",
         "domain": [
          0.0,
          1.0
         ],
         "title": {
          "text": "score"
         }
        },
        "legend": {
         "title": {
          "text": "agent"
         },
         "tracegroupgap": 0
        },
        "title": {
         "text": "Score Distribution"
        },
        "barmode": "relative",
        "width": 1000,
        "height": 1500
       },
       "config": {
        "plotlyServerURL": "https://plot.ly"
       }
      },
      "text/html": "<div>                            <div id=\"bda909d5-c4a1-4b80-aa66-a61f6bdd27cb\" class=\"plotly-graph-div\" style=\"height:1500px; width:1000px;\"></div>            <script type=\"text/javascript\">                require([\"plotly\"], function(Plotly) {                    window.PLOTLYENV=window.PLOTLYENV || {};                                    if (document.getElementById(\"bda909d5-c4a1-4b80-aa66-a61f6bdd27cb\")) {                    Plotly.newPlot(                        \"bda909d5-c4a1-4b80-aa66-a61f6bdd27cb\",                        [{\"alignmentgroup\":\"True\",\"hovertemplate\":\"agent=bdi_score\\u003cbr\\u003eplans_pct=%{x}\\u003cbr\\u003escore=%{y}\\u003cextra\\u003e\\u003c\\u002fextra\\u003e\",\"legendgroup\":\"bdi_score\",\"marker\":{\"color\":\"#636efa\",\"pattern\":{\"shape\":\"\"}},\"name\":\"bdi_score\",\"offsetgroup\":\"bdi_score\",\"orientation\":\"v\",\"showlegend\":true,\"textposition\":\"auto\",\"x\":[0,25,50,75,100],\"xaxis\":\"x\",\"y\":[0.0,30.0,58.0,79.33333333333333,98.0],\"yaxis\":\"y\",\"type\":\"bar\"},{\"alignmentgroup\":\"True\",\"hovertemplate\":\"agent=rl_score\\u003cbr\\u003eplans_pct=%{x}\\u003cbr\\u003escore=%{y}\\u003cextra\\u003e\\u003c\\u002fextra\\u003e\",\"legendgroup\":\"rl_score\",\"marker\":{\"color\":\"#EF553B\",\"pattern\":{\"shape\":\"\"}},\"name\":\"rl_score\",\"offsetgroup\":\"rl_score\",\"orientation\":\"v\",\"showlegend\":true,\"textposition\":\"auto\",\"x\":[0,25,50,75,100],\"xaxis\":\"x\",\"y\":[47.492,32.413333333333334,18.61466666666667,8.389333333333333,0.192],\"yaxis\":\"y\",\"type\":\"bar\"}],                        {\"template\":{\"data\":{\"histogram2dcontour\":[{\"type\":\"histogram2dcontour\",\"colorbar\":{\"outlinewidth\":0,\"ticks\":\"\"},\"colorscale\":[[0.0,\"#0d0887\"],[0.1111111111111111,\"#46039f\"],[0.2222222222222222,\"#7201a8\"],[0.3333333333333333,\"#9c179e\"],[0.4444444444444444,\"#bd3786\"],[0.5555555555555556,\"#d8576b\"],[0.6666666666666666,\"#ed7953\"],[0.7777777777777778,\"#fb9f3a\"],[0.8888888888888888,\"#fdca26\"],[1.0,\"#f0f921\"]]}],\"choropleth\":[{\"type\":\"choropleth\",\"colorbar\":{\"outlinewidth\":0,\"ticks\":\"\"}}],\"histogram2d\":[{\"type\":\"histogram2d\",\"colorbar\":{\"outlinewidth\":0,\"ticks\":\"\"},\"colorscale\":[[0.0,\"#0d0887\"],[0.1111111111111111,\"#46039f\"],[0.2222222222222222,\"#7201a8\"],[0.3333333333333333,\"#9c179e\"],[0.4444444444444444,\"#bd3786\"],[0.5555555555555556,\"#d8576b\"],[0.6666666666666666,\"#ed7953\"],[0.7777777777777778,\"#fb9f3a\"],[0.8888888888888888,\"#fdca26\"],[1.0,\"#f0f921\"]]}],\"heatmap\":[{\"type\":\"heatmap\",\"colorbar\":{\"outlinewidth\":0,\"ticks\":\"\"},\"colorscale\":[[0.0,\"#0d0887\"],[0.1111111111111111,\"#46039f\"],[0.2222222222222222,\"#7201a8\"],[0.3333333333333333,\"#9c179e\"],[0.4444444444444444,\"#bd3786\"],[0.5555555555555556,\"#d8576b\"],[0.6666666666666666,\"#ed7953\"],[0.7777777777777778,\"#fb9f3a\"],[0.8888888888888888,\"#fdca26\"],[1.0,\"#f0f921\"]]}],\"heatmapgl\":[{\"type\":\"heatmapgl\",\"colorbar\":{\"outlinewidth\":0,\"ticks\":\"\"},\"colorscale\":[[0.0,\"#0d0887\"],[0.1111111111111111,\"#46039f\"],[0.2222222222222222,\"#7201a8\"],[0.3333333333333333,\"#9c179e\"],[0.4444444444444444,\"#bd3786\"],[0.5555555555555556,\"#d8576b\"],[0.6666666666666666,\"#ed7953\"],[0.7777777777777778,\"#fb9f3a\"],[0.8888888888888888,\"#fdca26\"],[1.0,\"#f0f921\"]]}],\"contourcarpet\":[{\"type\":\"contourcarpet\",\"colorbar\":{\"outlinewidth\":0,\"ticks\":\"\"}}],\"contour\":[{\"type\":\"contour\",\"colorbar\":{\"outlinewidth\":0,\"ticks\":\"\"},\"colorscale\":[[0.0,\"#0d0887\"],[0.1111111111111111,\"#46039f\"],[0.2222222222222222,\"#7201a8\"],[0.3333333333333333,\"#9c179e\"],[0.4444444444444444,\"#bd3786\"],[0.5555555555555556,\"#d8576b\"],[0.6666666666666666,\"#ed7953\"],[0.7777777777777778,\"#fb9f3a\"],[0.8888888888888888,\"#fdca26\"],[1.0,\"#f0f921\"]]}],\"surface\":[{\"type\":\"surface\",\"colorbar\":{\"outlinewidth\":0,\"ticks\":\"\"},\"colorscale\":[[0.0,\"#0d0887\"],[0.1111111111111111,\"#46039f\"],[0.2222222222222222,\"#7201a8\"],[0.3333333333333333,\"#9c179e\"],[0.4444444444444444,\"#bd3786\"],[0.5555555555555556,\"#d8576b\"],[0.6666666666666666,\"#ed7953\"],[0.7777777777777778,\"#fb9f3a\"],[0.8888888888888888,\"#fdca26\"],[1.0,\"#f0f921\"]]}],\"mesh3d\":[{\"type\":\"mesh3d\",\"colorbar\":{\"outlinewidth\":0,\"ticks\":\"\"}}],\"scatter\":[{\"fillpattern\":{\"fillmode\":\"overlay\",\"size\":10,\"solidity\":0.2},\"type\":\"scatter\"}],\"parcoords\":[{\"type\":\"parcoords\",\"line\":{\"colorbar\":{\"outlinewidth\":0,\"ticks\":\"\"}}}],\"scatterpolargl\":[{\"type\":\"scatterpolargl\",\"marker\":{\"colorbar\":{\"outlinewidth\":0,\"ticks\":\"\"}}}],\"bar\":[{\"error_x\":{\"color\":\"#2a3f5f\"},\"error_y\":{\"color\":\"#2a3f5f\"},\"marker\":{\"line\":{\"color\":\"#E5ECF6\",\"width\":0.5},\"pattern\":{\"fillmode\":\"overlay\",\"size\":10,\"solidity\":0.2}},\"type\":\"bar\"}],\"scattergeo\":[{\"type\":\"scattergeo\",\"marker\":{\"colorbar\":{\"outlinewidth\":0,\"ticks\":\"\"}}}],\"scatterpolar\":[{\"type\":\"scatterpolar\",\"marker\":{\"colorbar\":{\"outlinewidth\":0,\"ticks\":\"\"}}}],\"histogram\":[{\"marker\":{\"pattern\":{\"fillmode\":\"overlay\",\"size\":10,\"solidity\":0.2}},\"type\":\"histogram\"}],\"scattergl\":[{\"type\":\"scattergl\",\"marker\":{\"colorbar\":{\"outlinewidth\":0,\"ticks\":\"\"}}}],\"scatter3d\":[{\"type\":\"scatter3d\",\"line\":{\"colorbar\":{\"outlinewidth\":0,\"ticks\":\"\"}},\"marker\":{\"colorbar\":{\"outlinewidth\":0,\"ticks\":\"\"}}}],\"scattermapbox\":[{\"type\":\"scattermapbox\",\"marker\":{\"colorbar\":{\"outlinewidth\":0,\"ticks\":\"\"}}}],\"scatterternary\":[{\"type\":\"scatterternary\",\"marker\":{\"colorbar\":{\"outlinewidth\":0,\"ticks\":\"\"}}}],\"scattercarpet\":[{\"type\":\"scattercarpet\",\"marker\":{\"colorbar\":{\"outlinewidth\":0,\"ticks\":\"\"}}}],\"carpet\":[{\"aaxis\":{\"endlinecolor\":\"#2a3f5f\",\"gridcolor\":\"white\",\"linecolor\":\"white\",\"minorgridcolor\":\"white\",\"startlinecolor\":\"#2a3f5f\"},\"baxis\":{\"endlinecolor\":\"#2a3f5f\",\"gridcolor\":\"white\",\"linecolor\":\"white\",\"minorgridcolor\":\"white\",\"startlinecolor\":\"#2a3f5f\"},\"type\":\"carpet\"}],\"table\":[{\"cells\":{\"fill\":{\"color\":\"#EBF0F8\"},\"line\":{\"color\":\"white\"}},\"header\":{\"fill\":{\"color\":\"#C8D4E3\"},\"line\":{\"color\":\"white\"}},\"type\":\"table\"}],\"barpolar\":[{\"marker\":{\"line\":{\"color\":\"#E5ECF6\",\"width\":0.5},\"pattern\":{\"fillmode\":\"overlay\",\"size\":10,\"solidity\":0.2}},\"type\":\"barpolar\"}],\"pie\":[{\"automargin\":true,\"type\":\"pie\"}]},\"layout\":{\"autotypenumbers\":\"strict\",\"colorway\":[\"#636efa\",\"#EF553B\",\"#00cc96\",\"#ab63fa\",\"#FFA15A\",\"#19d3f3\",\"#FF6692\",\"#B6E880\",\"#FF97FF\",\"#FECB52\"],\"font\":{\"color\":\"#2a3f5f\"},\"hovermode\":\"closest\",\"hoverlabel\":{\"align\":\"left\"},\"paper_bgcolor\":\"white\",\"plot_bgcolor\":\"#E5ECF6\",\"polar\":{\"bgcolor\":\"#E5ECF6\",\"angularaxis\":{\"gridcolor\":\"white\",\"linecolor\":\"white\",\"ticks\":\"\"},\"radialaxis\":{\"gridcolor\":\"white\",\"linecolor\":\"white\",\"ticks\":\"\"}},\"ternary\":{\"bgcolor\":\"#E5ECF6\",\"aaxis\":{\"gridcolor\":\"white\",\"linecolor\":\"white\",\"ticks\":\"\"},\"baxis\":{\"gridcolor\":\"white\",\"linecolor\":\"white\",\"ticks\":\"\"},\"caxis\":{\"gridcolor\":\"white\",\"linecolor\":\"white\",\"ticks\":\"\"}},\"coloraxis\":{\"colorbar\":{\"outlinewidth\":0,\"ticks\":\"\"}},\"colorscale\":{\"sequential\":[[0.0,\"#0d0887\"],[0.1111111111111111,\"#46039f\"],[0.2222222222222222,\"#7201a8\"],[0.3333333333333333,\"#9c179e\"],[0.4444444444444444,\"#bd3786\"],[0.5555555555555556,\"#d8576b\"],[0.6666666666666666,\"#ed7953\"],[0.7777777777777778,\"#fb9f3a\"],[0.8888888888888888,\"#fdca26\"],[1.0,\"#f0f921\"]],\"sequentialminus\":[[0.0,\"#0d0887\"],[0.1111111111111111,\"#46039f\"],[0.2222222222222222,\"#7201a8\"],[0.3333333333333333,\"#9c179e\"],[0.4444444444444444,\"#bd3786\"],[0.5555555555555556,\"#d8576b\"],[0.6666666666666666,\"#ed7953\"],[0.7777777777777778,\"#fb9f3a\"],[0.8888888888888888,\"#fdca26\"],[1.0,\"#f0f921\"]],\"diverging\":[[0,\"#8e0152\"],[0.1,\"#c51b7d\"],[0.2,\"#de77ae\"],[0.3,\"#f1b6da\"],[0.4,\"#fde0ef\"],[0.5,\"#f7f7f7\"],[0.6,\"#e6f5d0\"],[0.7,\"#b8e186\"],[0.8,\"#7fbc41\"],[0.9,\"#4d9221\"],[1,\"#276419\"]]},\"xaxis\":{\"gridcolor\":\"white\",\"linecolor\":\"white\",\"ticks\":\"\",\"title\":{\"standoff\":15},\"zerolinecolor\":\"white\",\"automargin\":true,\"zerolinewidth\":2},\"yaxis\":{\"gridcolor\":\"white\",\"linecolor\":\"white\",\"ticks\":\"\",\"title\":{\"standoff\":15},\"zerolinecolor\":\"white\",\"automargin\":true,\"zerolinewidth\":2},\"scene\":{\"xaxis\":{\"backgroundcolor\":\"#E5ECF6\",\"gridcolor\":\"white\",\"linecolor\":\"white\",\"showbackground\":true,\"ticks\":\"\",\"zerolinecolor\":\"white\",\"gridwidth\":2},\"yaxis\":{\"backgroundcolor\":\"#E5ECF6\",\"gridcolor\":\"white\",\"linecolor\":\"white\",\"showbackground\":true,\"ticks\":\"\",\"zerolinecolor\":\"white\",\"gridwidth\":2},\"zaxis\":{\"backgroundcolor\":\"#E5ECF6\",\"gridcolor\":\"white\",\"linecolor\":\"white\",\"showbackground\":true,\"ticks\":\"\",\"zerolinecolor\":\"white\",\"gridwidth\":2}},\"shapedefaults\":{\"line\":{\"color\":\"#2a3f5f\"}},\"annotationdefaults\":{\"arrowcolor\":\"#2a3f5f\",\"arrowhead\":0,\"arrowwidth\":1},\"geo\":{\"bgcolor\":\"white\",\"landcolor\":\"#E5ECF6\",\"subunitcolor\":\"white\",\"showland\":true,\"showlakes\":true,\"lakecolor\":\"white\"},\"title\":{\"x\":0.05},\"mapbox\":{\"style\":\"light\"}}},\"xaxis\":{\"anchor\":\"y\",\"domain\":[0.0,1.0],\"title\":{\"text\":\"plans_pct\"}},\"yaxis\":{\"anchor\":\"x\",\"domain\":[0.0,1.0],\"title\":{\"text\":\"score\"}},\"legend\":{\"title\":{\"text\":\"agent\"},\"tracegroupgap\":0},\"title\":{\"text\":\"Score Distribution\"},\"barmode\":\"relative\",\"width\":1000,\"height\":1500},                        {\"responsive\": true}                    ).then(function(){\n                            \nvar gd = document.getElementById('bda909d5-c4a1-4b80-aa66-a61f6bdd27cb');\nvar x = new MutationObserver(function (mutations, observer) {{\n        var display = window.getComputedStyle(gd).display;\n        if (!display || display === 'none') {{\n            console.log([gd, 'removed!']);\n            Plotly.purge(gd);\n            observer.disconnect();\n        }}\n}});\n\n// Listen for the removal of the full notebook cells\nvar notebookContainer = gd.closest('#notebook-container');\nif (notebookContainer) {{\n    x.observe(notebookContainer, {childList: true});\n}}\n\n// Listen for the clearing of the current output cell\nvar outputEl = gd.closest('.output');\nif (outputEl) {{\n    x.observe(outputEl, {childList: true});\n}}\n\n                        })                };                });            </script>        </div>"
     },
     "metadata": {},
     "output_type": "display_data"
    }
   ],
   "source": [
    "curve_plot_df = results_df[['plans_pct', 'bdi_score', 'rl_score']]\n",
    "curve_plot_df = pd.melt(curve_plot_df, id_vars=['plans_pct'], value_vars=['bdi_score', 'rl_score'], var_name='agent', value_name='score')\n",
    "#curve_plot_df['plans_pct'] = curve_plot_df['plans_pct'].astype(str)\n",
    "curve_plot_df = curve_plot_df.groupby(['plans_pct', 'agent']).agg({'score':'mean'}).reset_index(drop=False)\n",
    "\n",
    "fig = px.bar(curve_plot_df, x=\"plans_pct\", y=\"score\", color=\"agent\", title=\"Score Distribution\")\n",
    "fig.update_layout(width=1000,height=1500)\n",
    "fig.show()"
   ],
   "metadata": {
    "collapsed": false,
    "ExecuteTime": {
     "end_time": "2023-09-21T15:59:15.611931264Z",
     "start_time": "2023-09-21T15:59:15.540912464Z"
    }
   }
  },
  {
   "cell_type": "code",
   "execution_count": 15,
   "outputs": [
    {
     "ename": "ValueError",
     "evalue": "Value of 'x' is not the name of a column in 'data_frame'. Expected one of ['plan_library_size', 'eps', 'score'] but received: plans_pct",
     "output_type": "error",
     "traceback": [
      "\u001B[0;31m---------------------------------------------------------------------------\u001B[0m",
      "\u001B[0;31mValueError\u001B[0m                                Traceback (most recent call last)",
      "Cell \u001B[0;32mIn[15], line 6\u001B[0m\n\u001B[1;32m      3\u001B[0m \u001B[38;5;66;03m#curve_plot_df['plans_pct'] = curve_plot_df['plans_pct'].astype(str)\u001B[39;00m\n\u001B[1;32m      4\u001B[0m curve_plot_df \u001B[38;5;241m=\u001B[39m curve_plot_df\u001B[38;5;241m.\u001B[39mgroupby([\u001B[38;5;124m'\u001B[39m\u001B[38;5;124mplan_library_size\u001B[39m\u001B[38;5;124m'\u001B[39m, \u001B[38;5;124m'\u001B[39m\u001B[38;5;124meps\u001B[39m\u001B[38;5;124m'\u001B[39m])\u001B[38;5;241m.\u001B[39magg({\u001B[38;5;124m'\u001B[39m\u001B[38;5;124mscore\u001B[39m\u001B[38;5;124m'\u001B[39m:\u001B[38;5;124m'\u001B[39m\u001B[38;5;124mmean\u001B[39m\u001B[38;5;124m'\u001B[39m})\u001B[38;5;241m.\u001B[39mreset_index(drop\u001B[38;5;241m=\u001B[39m\u001B[38;5;28;01mFalse\u001B[39;00m)\n\u001B[0;32m----> 6\u001B[0m fig \u001B[38;5;241m=\u001B[39m \u001B[43mpx\u001B[49m\u001B[38;5;241;43m.\u001B[39;49m\u001B[43mbar\u001B[49m\u001B[43m(\u001B[49m\u001B[43mcurve_plot_df\u001B[49m\u001B[43m,\u001B[49m\u001B[43m \u001B[49m\u001B[43mx\u001B[49m\u001B[38;5;241;43m=\u001B[39;49m\u001B[38;5;124;43m\"\u001B[39;49m\u001B[38;5;124;43mplans_pct\u001B[39;49m\u001B[38;5;124;43m\"\u001B[39;49m\u001B[43m,\u001B[49m\u001B[43m \u001B[49m\u001B[43my\u001B[49m\u001B[38;5;241;43m=\u001B[39;49m\u001B[38;5;124;43m\"\u001B[39;49m\u001B[38;5;124;43mscore\u001B[39;49m\u001B[38;5;124;43m\"\u001B[39;49m\u001B[43m,\u001B[49m\u001B[43m \u001B[49m\u001B[43mcolor\u001B[49m\u001B[38;5;241;43m=\u001B[39;49m\u001B[38;5;124;43m\"\u001B[39;49m\u001B[38;5;124;43magent\u001B[39;49m\u001B[38;5;124;43m\"\u001B[39;49m\u001B[43m,\u001B[49m\u001B[43m \u001B[49m\u001B[43mtitle\u001B[49m\u001B[38;5;241;43m=\u001B[39;49m\u001B[38;5;124;43m\"\u001B[39;49m\u001B[38;5;124;43mScore Distribution\u001B[39;49m\u001B[38;5;124;43m\"\u001B[39;49m\u001B[43m)\u001B[49m\n\u001B[1;32m      7\u001B[0m fig\u001B[38;5;241m.\u001B[39mshow()\n",
      "File \u001B[0;32m~/miniconda3/envs/dl/lib/python3.9/site-packages/plotly/express/_chart_types.py:373\u001B[0m, in \u001B[0;36mbar\u001B[0;34m(data_frame, x, y, color, pattern_shape, facet_row, facet_col, facet_col_wrap, facet_row_spacing, facet_col_spacing, hover_name, hover_data, custom_data, text, base, error_x, error_x_minus, error_y, error_y_minus, animation_frame, animation_group, category_orders, labels, color_discrete_sequence, color_discrete_map, color_continuous_scale, pattern_shape_sequence, pattern_shape_map, range_color, color_continuous_midpoint, opacity, orientation, barmode, log_x, log_y, range_x, range_y, text_auto, title, template, width, height)\u001B[0m\n\u001B[1;32m    325\u001B[0m \u001B[38;5;28;01mdef\u001B[39;00m \u001B[38;5;21mbar\u001B[39m(\n\u001B[1;32m    326\u001B[0m     data_frame\u001B[38;5;241m=\u001B[39m\u001B[38;5;28;01mNone\u001B[39;00m,\n\u001B[1;32m    327\u001B[0m     x\u001B[38;5;241m=\u001B[39m\u001B[38;5;28;01mNone\u001B[39;00m,\n\u001B[0;32m   (...)\u001B[0m\n\u001B[1;32m    367\u001B[0m     height\u001B[38;5;241m=\u001B[39m\u001B[38;5;28;01mNone\u001B[39;00m,\n\u001B[1;32m    368\u001B[0m ) \u001B[38;5;241m-\u001B[39m\u001B[38;5;241m>\u001B[39m go\u001B[38;5;241m.\u001B[39mFigure:\n\u001B[1;32m    369\u001B[0m     \u001B[38;5;124;03m\"\"\"\u001B[39;00m\n\u001B[1;32m    370\u001B[0m \u001B[38;5;124;03m    In a bar plot, each row of `data_frame` is represented as a rectangular\u001B[39;00m\n\u001B[1;32m    371\u001B[0m \u001B[38;5;124;03m    mark.\u001B[39;00m\n\u001B[1;32m    372\u001B[0m \u001B[38;5;124;03m    \"\"\"\u001B[39;00m\n\u001B[0;32m--> 373\u001B[0m     \u001B[38;5;28;01mreturn\u001B[39;00m \u001B[43mmake_figure\u001B[49m\u001B[43m(\u001B[49m\n\u001B[1;32m    374\u001B[0m \u001B[43m        \u001B[49m\u001B[43margs\u001B[49m\u001B[38;5;241;43m=\u001B[39;49m\u001B[38;5;28;43mlocals\u001B[39;49m\u001B[43m(\u001B[49m\u001B[43m)\u001B[49m\u001B[43m,\u001B[49m\n\u001B[1;32m    375\u001B[0m \u001B[43m        \u001B[49m\u001B[43mconstructor\u001B[49m\u001B[38;5;241;43m=\u001B[39;49m\u001B[43mgo\u001B[49m\u001B[38;5;241;43m.\u001B[39;49m\u001B[43mBar\u001B[49m\u001B[43m,\u001B[49m\n\u001B[1;32m    376\u001B[0m \u001B[43m        \u001B[49m\u001B[43mtrace_patch\u001B[49m\u001B[38;5;241;43m=\u001B[39;49m\u001B[38;5;28;43mdict\u001B[39;49m\u001B[43m(\u001B[49m\u001B[43mtextposition\u001B[49m\u001B[38;5;241;43m=\u001B[39;49m\u001B[38;5;124;43m\"\u001B[39;49m\u001B[38;5;124;43mauto\u001B[39;49m\u001B[38;5;124;43m\"\u001B[39;49m\u001B[43m)\u001B[49m\u001B[43m,\u001B[49m\n\u001B[1;32m    377\u001B[0m \u001B[43m        \u001B[49m\u001B[43mlayout_patch\u001B[49m\u001B[38;5;241;43m=\u001B[39;49m\u001B[38;5;28;43mdict\u001B[39;49m\u001B[43m(\u001B[49m\u001B[43mbarmode\u001B[49m\u001B[38;5;241;43m=\u001B[39;49m\u001B[43mbarmode\u001B[49m\u001B[43m)\u001B[49m\u001B[43m,\u001B[49m\n\u001B[1;32m    378\u001B[0m \u001B[43m    \u001B[49m\u001B[43m)\u001B[49m\n",
      "File \u001B[0;32m~/miniconda3/envs/dl/lib/python3.9/site-packages/plotly/express/_core.py:2076\u001B[0m, in \u001B[0;36mmake_figure\u001B[0;34m(args, constructor, trace_patch, layout_patch)\u001B[0m\n\u001B[1;32m   2073\u001B[0m layout_patch \u001B[38;5;241m=\u001B[39m layout_patch \u001B[38;5;129;01mor\u001B[39;00m {}\n\u001B[1;32m   2074\u001B[0m apply_default_cascade(args)\n\u001B[0;32m-> 2076\u001B[0m args \u001B[38;5;241m=\u001B[39m \u001B[43mbuild_dataframe\u001B[49m\u001B[43m(\u001B[49m\u001B[43margs\u001B[49m\u001B[43m,\u001B[49m\u001B[43m \u001B[49m\u001B[43mconstructor\u001B[49m\u001B[43m)\u001B[49m\n\u001B[1;32m   2077\u001B[0m \u001B[38;5;28;01mif\u001B[39;00m constructor \u001B[38;5;129;01min\u001B[39;00m [go\u001B[38;5;241m.\u001B[39mTreemap, go\u001B[38;5;241m.\u001B[39mSunburst, go\u001B[38;5;241m.\u001B[39mIcicle] \u001B[38;5;129;01mand\u001B[39;00m args[\u001B[38;5;124m\"\u001B[39m\u001B[38;5;124mpath\u001B[39m\u001B[38;5;124m\"\u001B[39m] \u001B[38;5;129;01mis\u001B[39;00m \u001B[38;5;129;01mnot\u001B[39;00m \u001B[38;5;28;01mNone\u001B[39;00m:\n\u001B[1;32m   2078\u001B[0m     args \u001B[38;5;241m=\u001B[39m process_dataframe_hierarchy(args)\n",
      "File \u001B[0;32m~/miniconda3/envs/dl/lib/python3.9/site-packages/plotly/express/_core.py:1485\u001B[0m, in \u001B[0;36mbuild_dataframe\u001B[0;34m(args, constructor)\u001B[0m\n\u001B[1;32m   1482\u001B[0m     args[\u001B[38;5;124m\"\u001B[39m\u001B[38;5;124mcolor\u001B[39m\u001B[38;5;124m\"\u001B[39m] \u001B[38;5;241m=\u001B[39m \u001B[38;5;28;01mNone\u001B[39;00m\n\u001B[1;32m   1483\u001B[0m \u001B[38;5;66;03m# now that things have been prepped, we do the systematic rewriting of `args`\u001B[39;00m\n\u001B[0;32m-> 1485\u001B[0m df_output, wide_id_vars \u001B[38;5;241m=\u001B[39m \u001B[43mprocess_args_into_dataframe\u001B[49m\u001B[43m(\u001B[49m\n\u001B[1;32m   1486\u001B[0m \u001B[43m    \u001B[49m\u001B[43margs\u001B[49m\u001B[43m,\u001B[49m\u001B[43m \u001B[49m\u001B[43mwide_mode\u001B[49m\u001B[43m,\u001B[49m\u001B[43m \u001B[49m\u001B[43mvar_name\u001B[49m\u001B[43m,\u001B[49m\u001B[43m \u001B[49m\u001B[43mvalue_name\u001B[49m\n\u001B[1;32m   1487\u001B[0m \u001B[43m\u001B[49m\u001B[43m)\u001B[49m\n\u001B[1;32m   1489\u001B[0m \u001B[38;5;66;03m# now that `df_output` exists and `args` contains only references, we complete\u001B[39;00m\n\u001B[1;32m   1490\u001B[0m \u001B[38;5;66;03m# the special-case and wide-mode handling by further rewriting args and/or mutating\u001B[39;00m\n\u001B[1;32m   1491\u001B[0m \u001B[38;5;66;03m# df_output\u001B[39;00m\n\u001B[1;32m   1493\u001B[0m count_name \u001B[38;5;241m=\u001B[39m _escape_col_name(df_output, \u001B[38;5;124m\"\u001B[39m\u001B[38;5;124mcount\u001B[39m\u001B[38;5;124m\"\u001B[39m, [var_name, value_name])\n",
      "File \u001B[0;32m~/miniconda3/envs/dl/lib/python3.9/site-packages/plotly/express/_core.py:1210\u001B[0m, in \u001B[0;36mprocess_args_into_dataframe\u001B[0;34m(args, wide_mode, var_name, value_name)\u001B[0m\n\u001B[1;32m   1208\u001B[0m         \u001B[38;5;28;01mif\u001B[39;00m argument \u001B[38;5;241m==\u001B[39m \u001B[38;5;124m\"\u001B[39m\u001B[38;5;124mindex\u001B[39m\u001B[38;5;124m\"\u001B[39m:\n\u001B[1;32m   1209\u001B[0m             err_msg \u001B[38;5;241m+\u001B[39m\u001B[38;5;241m=\u001B[39m \u001B[38;5;124m\"\u001B[39m\u001B[38;5;130;01m\\n\u001B[39;00m\u001B[38;5;124m To use the index, pass it in directly as `df.index`.\u001B[39m\u001B[38;5;124m\"\u001B[39m\n\u001B[0;32m-> 1210\u001B[0m         \u001B[38;5;28;01mraise\u001B[39;00m \u001B[38;5;167;01mValueError\u001B[39;00m(err_msg)\n\u001B[1;32m   1211\u001B[0m \u001B[38;5;28;01melif\u001B[39;00m length \u001B[38;5;129;01mand\u001B[39;00m \u001B[38;5;28mlen\u001B[39m(df_input[argument]) \u001B[38;5;241m!=\u001B[39m length:\n\u001B[1;32m   1212\u001B[0m     \u001B[38;5;28;01mraise\u001B[39;00m \u001B[38;5;167;01mValueError\u001B[39;00m(\n\u001B[1;32m   1213\u001B[0m         \u001B[38;5;124m\"\u001B[39m\u001B[38;5;124mAll arguments should have the same length. \u001B[39m\u001B[38;5;124m\"\u001B[39m\n\u001B[1;32m   1214\u001B[0m         \u001B[38;5;124m\"\u001B[39m\u001B[38;5;124mThe length of column argument `df[\u001B[39m\u001B[38;5;132;01m%s\u001B[39;00m\u001B[38;5;124m]` is \u001B[39m\u001B[38;5;132;01m%d\u001B[39;00m\u001B[38;5;124m, whereas the \u001B[39m\u001B[38;5;124m\"\u001B[39m\n\u001B[0;32m   (...)\u001B[0m\n\u001B[1;32m   1221\u001B[0m         )\n\u001B[1;32m   1222\u001B[0m     )\n",
      "\u001B[0;31mValueError\u001B[0m: Value of 'x' is not the name of a column in 'data_frame'. Expected one of ['plan_library_size', 'eps', 'score'] but received: plans_pct"
     ]
    }
   ],
   "source": [
    "curve_plot_df = results_df[['plan_library_size', 'eps', 'bdi_score', 'rl_score']]\n",
    "curve_plot_df = pd.melt(curve_plot_df, id_vars=['plan_library_size', 'eps'], value_vars=['bdi_score', 'rl_score'], var_name='agent', value_name='score')\n",
    "#curve_plot_df['plans_pct'] = curve_plot_df['plans_pct'].astype(str)\n",
    "curve_plot_df = curve_plot_df.groupby(['plan_library_size', 'eps']).agg({'score':'mean'}).reset_index(drop=False)\n",
    "\n",
    "fig = px.bar(curve_plot_df, x=\"plans_pct\", y=\"score\", color=\"agent\", title=\"Score Distribution\")\n",
    "fig.show()"
   ],
   "metadata": {
    "collapsed": false
   }
  },
  {
   "cell_type": "code",
   "execution_count": 13,
   "outputs": [
    {
     "data": {
      "application/vnd.plotly.v1+json": {
       "data": [
        {
         "alignmentgroup": "True",
         "hovertemplate": "agent=bdi_score<br>plans_pct=%{x}<br>score=%{y}<extra></extra>",
         "legendgroup": "bdi_score",
         "marker": {
          "color": "#636efa",
          "pattern": {
           "shape": ""
          }
         },
         "name": "bdi_score",
         "offsetgroup": "bdi_score",
         "orientation": "v",
         "showlegend": true,
         "textposition": "auto",
         "x": [
          0,
          25,
          50,
          75,
          100
         ],
         "xaxis": "x",
         "y": [
          0.0,
          30.0,
          58.0,
          79.33333333333333,
          98.0
         ],
         "yaxis": "y",
         "type": "bar"
        },
        {
         "alignmentgroup": "True",
         "hovertemplate": "agent=rl_score<br>plans_pct=%{x}<br>score=%{y}<extra></extra>",
         "legendgroup": "rl_score",
         "marker": {
          "color": "#EF553B",
          "pattern": {
           "shape": ""
          }
         },
         "name": "rl_score",
         "offsetgroup": "rl_score",
         "orientation": "v",
         "showlegend": true,
         "textposition": "auto",
         "x": [
          0,
          25,
          50,
          75,
          100
         ],
         "xaxis": "x",
         "y": [
          47.492,
          32.413333333333334,
          18.61466666666667,
          8.389333333333333,
          0.192
         ],
         "yaxis": "y",
         "type": "bar"
        }
       ],
       "layout": {
        "template": {
         "data": {
          "histogram2dcontour": [
           {
            "type": "histogram2dcontour",
            "colorbar": {
             "outlinewidth": 0,
             "ticks": ""
            },
            "colorscale": [
             [
              0.0,
              "#0d0887"
             ],
             [
              0.1111111111111111,
              "#46039f"
             ],
             [
              0.2222222222222222,
              "#7201a8"
             ],
             [
              0.3333333333333333,
              "#9c179e"
             ],
             [
              0.4444444444444444,
              "#bd3786"
             ],
             [
              0.5555555555555556,
              "#d8576b"
             ],
             [
              0.6666666666666666,
              "#ed7953"
             ],
             [
              0.7777777777777778,
              "#fb9f3a"
             ],
             [
              0.8888888888888888,
              "#fdca26"
             ],
             [
              1.0,
              "#f0f921"
             ]
            ]
           }
          ],
          "choropleth": [
           {
            "type": "choropleth",
            "colorbar": {
             "outlinewidth": 0,
             "ticks": ""
            }
           }
          ],
          "histogram2d": [
           {
            "type": "histogram2d",
            "colorbar": {
             "outlinewidth": 0,
             "ticks": ""
            },
            "colorscale": [
             [
              0.0,
              "#0d0887"
             ],
             [
              0.1111111111111111,
              "#46039f"
             ],
             [
              0.2222222222222222,
              "#7201a8"
             ],
             [
              0.3333333333333333,
              "#9c179e"
             ],
             [
              0.4444444444444444,
              "#bd3786"
             ],
             [
              0.5555555555555556,
              "#d8576b"
             ],
             [
              0.6666666666666666,
              "#ed7953"
             ],
             [
              0.7777777777777778,
              "#fb9f3a"
             ],
             [
              0.8888888888888888,
              "#fdca26"
             ],
             [
              1.0,
              "#f0f921"
             ]
            ]
           }
          ],
          "heatmap": [
           {
            "type": "heatmap",
            "colorbar": {
             "outlinewidth": 0,
             "ticks": ""
            },
            "colorscale": [
             [
              0.0,
              "#0d0887"
             ],
             [
              0.1111111111111111,
              "#46039f"
             ],
             [
              0.2222222222222222,
              "#7201a8"
             ],
             [
              0.3333333333333333,
              "#9c179e"
             ],
             [
              0.4444444444444444,
              "#bd3786"
             ],
             [
              0.5555555555555556,
              "#d8576b"
             ],
             [
              0.6666666666666666,
              "#ed7953"
             ],
             [
              0.7777777777777778,
              "#fb9f3a"
             ],
             [
              0.8888888888888888,
              "#fdca26"
             ],
             [
              1.0,
              "#f0f921"
             ]
            ]
           }
          ],
          "heatmapgl": [
           {
            "type": "heatmapgl",
            "colorbar": {
             "outlinewidth": 0,
             "ticks": ""
            },
            "colorscale": [
             [
              0.0,
              "#0d0887"
             ],
             [
              0.1111111111111111,
              "#46039f"
             ],
             [
              0.2222222222222222,
              "#7201a8"
             ],
             [
              0.3333333333333333,
              "#9c179e"
             ],
             [
              0.4444444444444444,
              "#bd3786"
             ],
             [
              0.5555555555555556,
              "#d8576b"
             ],
             [
              0.6666666666666666,
              "#ed7953"
             ],
             [
              0.7777777777777778,
              "#fb9f3a"
             ],
             [
              0.8888888888888888,
              "#fdca26"
             ],
             [
              1.0,
              "#f0f921"
             ]
            ]
           }
          ],
          "contourcarpet": [
           {
            "type": "contourcarpet",
            "colorbar": {
             "outlinewidth": 0,
             "ticks": ""
            }
           }
          ],
          "contour": [
           {
            "type": "contour",
            "colorbar": {
             "outlinewidth": 0,
             "ticks": ""
            },
            "colorscale": [
             [
              0.0,
              "#0d0887"
             ],
             [
              0.1111111111111111,
              "#46039f"
             ],
             [
              0.2222222222222222,
              "#7201a8"
             ],
             [
              0.3333333333333333,
              "#9c179e"
             ],
             [
              0.4444444444444444,
              "#bd3786"
             ],
             [
              0.5555555555555556,
              "#d8576b"
             ],
             [
              0.6666666666666666,
              "#ed7953"
             ],
             [
              0.7777777777777778,
              "#fb9f3a"
             ],
             [
              0.8888888888888888,
              "#fdca26"
             ],
             [
              1.0,
              "#f0f921"
             ]
            ]
           }
          ],
          "surface": [
           {
            "type": "surface",
            "colorbar": {
             "outlinewidth": 0,
             "ticks": ""
            },
            "colorscale": [
             [
              0.0,
              "#0d0887"
             ],
             [
              0.1111111111111111,
              "#46039f"
             ],
             [
              0.2222222222222222,
              "#7201a8"
             ],
             [
              0.3333333333333333,
              "#9c179e"
             ],
             [
              0.4444444444444444,
              "#bd3786"
             ],
             [
              0.5555555555555556,
              "#d8576b"
             ],
             [
              0.6666666666666666,
              "#ed7953"
             ],
             [
              0.7777777777777778,
              "#fb9f3a"
             ],
             [
              0.8888888888888888,
              "#fdca26"
             ],
             [
              1.0,
              "#f0f921"
             ]
            ]
           }
          ],
          "mesh3d": [
           {
            "type": "mesh3d",
            "colorbar": {
             "outlinewidth": 0,
             "ticks": ""
            }
           }
          ],
          "scatter": [
           {
            "marker": {
             "line": {
              "color": "#283442"
             }
            },
            "type": "scatter"
           }
          ],
          "parcoords": [
           {
            "type": "parcoords",
            "line": {
             "colorbar": {
              "outlinewidth": 0,
              "ticks": ""
             }
            }
           }
          ],
          "scatterpolargl": [
           {
            "type": "scatterpolargl",
            "marker": {
             "colorbar": {
              "outlinewidth": 0,
              "ticks": ""
             }
            }
           }
          ],
          "bar": [
           {
            "error_x": {
             "color": "#f2f5fa"
            },
            "error_y": {
             "color": "#f2f5fa"
            },
            "marker": {
             "line": {
              "color": "rgb(17,17,17)",
              "width": 0.5
             },
             "pattern": {
              "fillmode": "overlay",
              "size": 10,
              "solidity": 0.2
             }
            },
            "type": "bar"
           }
          ],
          "scattergeo": [
           {
            "type": "scattergeo",
            "marker": {
             "colorbar": {
              "outlinewidth": 0,
              "ticks": ""
             }
            }
           }
          ],
          "scatterpolar": [
           {
            "type": "scatterpolar",
            "marker": {
             "colorbar": {
              "outlinewidth": 0,
              "ticks": ""
             }
            }
           }
          ],
          "histogram": [
           {
            "marker": {
             "pattern": {
              "fillmode": "overlay",
              "size": 10,
              "solidity": 0.2
             }
            },
            "type": "histogram"
           }
          ],
          "scattergl": [
           {
            "marker": {
             "line": {
              "color": "#283442"
             }
            },
            "type": "scattergl"
           }
          ],
          "scatter3d": [
           {
            "type": "scatter3d",
            "line": {
             "colorbar": {
              "outlinewidth": 0,
              "ticks": ""
             }
            },
            "marker": {
             "colorbar": {
              "outlinewidth": 0,
              "ticks": ""
             }
            }
           }
          ],
          "scattermapbox": [
           {
            "type": "scattermapbox",
            "marker": {
             "colorbar": {
              "outlinewidth": 0,
              "ticks": ""
             }
            }
           }
          ],
          "scatterternary": [
           {
            "type": "scatterternary",
            "marker": {
             "colorbar": {
              "outlinewidth": 0,
              "ticks": ""
             }
            }
           }
          ],
          "scattercarpet": [
           {
            "type": "scattercarpet",
            "marker": {
             "colorbar": {
              "outlinewidth": 0,
              "ticks": ""
             }
            }
           }
          ],
          "carpet": [
           {
            "aaxis": {
             "endlinecolor": "#A2B1C6",
             "gridcolor": "#506784",
             "linecolor": "#506784",
             "minorgridcolor": "#506784",
             "startlinecolor": "#A2B1C6"
            },
            "baxis": {
             "endlinecolor": "#A2B1C6",
             "gridcolor": "#506784",
             "linecolor": "#506784",
             "minorgridcolor": "#506784",
             "startlinecolor": "#A2B1C6"
            },
            "type": "carpet"
           }
          ],
          "table": [
           {
            "cells": {
             "fill": {
              "color": "#506784"
             },
             "line": {
              "color": "rgb(17,17,17)"
             }
            },
            "header": {
             "fill": {
              "color": "#2a3f5f"
             },
             "line": {
              "color": "rgb(17,17,17)"
             }
            },
            "type": "table"
           }
          ],
          "barpolar": [
           {
            "marker": {
             "line": {
              "color": "rgb(17,17,17)",
              "width": 0.5
             },
             "pattern": {
              "fillmode": "overlay",
              "size": 10,
              "solidity": 0.2
             }
            },
            "type": "barpolar"
           }
          ],
          "pie": [
           {
            "automargin": true,
            "type": "pie"
           }
          ]
         },
         "layout": {
          "autotypenumbers": "strict",
          "colorway": [
           "#636efa",
           "#EF553B",
           "#00cc96",
           "#ab63fa",
           "#FFA15A",
           "#19d3f3",
           "#FF6692",
           "#B6E880",
           "#FF97FF",
           "#FECB52"
          ],
          "font": {
           "color": "#f2f5fa"
          },
          "hovermode": "closest",
          "hoverlabel": {
           "align": "left"
          },
          "paper_bgcolor": "rgb(17,17,17)",
          "plot_bgcolor": "rgb(17,17,17)",
          "polar": {
           "bgcolor": "rgb(17,17,17)",
           "angularaxis": {
            "gridcolor": "#506784",
            "linecolor": "#506784",
            "ticks": ""
           },
           "radialaxis": {
            "gridcolor": "#506784",
            "linecolor": "#506784",
            "ticks": ""
           }
          },
          "ternary": {
           "bgcolor": "rgb(17,17,17)",
           "aaxis": {
            "gridcolor": "#506784",
            "linecolor": "#506784",
            "ticks": ""
           },
           "baxis": {
            "gridcolor": "#506784",
            "linecolor": "#506784",
            "ticks": ""
           },
           "caxis": {
            "gridcolor": "#506784",
            "linecolor": "#506784",
            "ticks": ""
           }
          },
          "coloraxis": {
           "colorbar": {
            "outlinewidth": 0,
            "ticks": ""
           }
          },
          "colorscale": {
           "sequential": [
            [
             0.0,
             "#0d0887"
            ],
            [
             0.1111111111111111,
             "#46039f"
            ],
            [
             0.2222222222222222,
             "#7201a8"
            ],
            [
             0.3333333333333333,
             "#9c179e"
            ],
            [
             0.4444444444444444,
             "#bd3786"
            ],
            [
             0.5555555555555556,
             "#d8576b"
            ],
            [
             0.6666666666666666,
             "#ed7953"
            ],
            [
             0.7777777777777778,
             "#fb9f3a"
            ],
            [
             0.8888888888888888,
             "#fdca26"
            ],
            [
             1.0,
             "#f0f921"
            ]
           ],
           "sequentialminus": [
            [
             0.0,
             "#0d0887"
            ],
            [
             0.1111111111111111,
             "#46039f"
            ],
            [
             0.2222222222222222,
             "#7201a8"
            ],
            [
             0.3333333333333333,
             "#9c179e"
            ],
            [
             0.4444444444444444,
             "#bd3786"
            ],
            [
             0.5555555555555556,
             "#d8576b"
            ],
            [
             0.6666666666666666,
             "#ed7953"
            ],
            [
             0.7777777777777778,
             "#fb9f3a"
            ],
            [
             0.8888888888888888,
             "#fdca26"
            ],
            [
             1.0,
             "#f0f921"
            ]
           ],
           "diverging": [
            [
             0,
             "#8e0152"
            ],
            [
             0.1,
             "#c51b7d"
            ],
            [
             0.2,
             "#de77ae"
            ],
            [
             0.3,
             "#f1b6da"
            ],
            [
             0.4,
             "#fde0ef"
            ],
            [
             0.5,
             "#f7f7f7"
            ],
            [
             0.6,
             "#e6f5d0"
            ],
            [
             0.7,
             "#b8e186"
            ],
            [
             0.8,
             "#7fbc41"
            ],
            [
             0.9,
             "#4d9221"
            ],
            [
             1,
             "#276419"
            ]
           ]
          },
          "xaxis": {
           "gridcolor": "#283442",
           "linecolor": "#506784",
           "ticks": "",
           "title": {
            "standoff": 15
           },
           "zerolinecolor": "#283442",
           "automargin": true,
           "zerolinewidth": 2
          },
          "yaxis": {
           "gridcolor": "#283442",
           "linecolor": "#506784",
           "ticks": "",
           "title": {
            "standoff": 15
           },
           "zerolinecolor": "#283442",
           "automargin": true,
           "zerolinewidth": 2
          },
          "scene": {
           "xaxis": {
            "backgroundcolor": "rgb(17,17,17)",
            "gridcolor": "#506784",
            "linecolor": "#506784",
            "showbackground": true,
            "ticks": "",
            "zerolinecolor": "#C8D4E3",
            "gridwidth": 2
           },
           "yaxis": {
            "backgroundcolor": "rgb(17,17,17)",
            "gridcolor": "#506784",
            "linecolor": "#506784",
            "showbackground": true,
            "ticks": "",
            "zerolinecolor": "#C8D4E3",
            "gridwidth": 2
           },
           "zaxis": {
            "backgroundcolor": "rgb(17,17,17)",
            "gridcolor": "#506784",
            "linecolor": "#506784",
            "showbackground": true,
            "ticks": "",
            "zerolinecolor": "#C8D4E3",
            "gridwidth": 2
           }
          },
          "shapedefaults": {
           "line": {
            "color": "#f2f5fa"
           }
          },
          "annotationdefaults": {
           "arrowcolor": "#f2f5fa",
           "arrowhead": 0,
           "arrowwidth": 1
          },
          "geo": {
           "bgcolor": "rgb(17,17,17)",
           "landcolor": "rgb(17,17,17)",
           "subunitcolor": "#506784",
           "showland": true,
           "showlakes": true,
           "lakecolor": "rgb(17,17,17)"
          },
          "title": {
           "x": 0.05
          },
          "updatemenudefaults": {
           "bgcolor": "#506784",
           "borderwidth": 0
          },
          "sliderdefaults": {
           "bgcolor": "#C8D4E3",
           "borderwidth": 1,
           "bordercolor": "rgb(17,17,17)",
           "tickwidth": 0
          },
          "mapbox": {
           "style": "dark"
          }
         }
        },
        "xaxis": {
         "anchor": "y",
         "domain": [
          0.0,
          1.0
         ],
         "title": {
          "text": "plans_pct"
         }
        },
        "yaxis": {
         "anchor": "x",
         "domain": [
          0.0,
          1.0
         ],
         "title": {
          "text": "score"
         }
        },
        "legend": {
         "title": {
          "text": "agent"
         },
         "tracegroupgap": 0
        },
        "title": {
         "text": "Score Distribution"
        },
        "barmode": "relative"
       },
       "config": {
        "plotlyServerURL": "https://plot.ly"
       }
      },
      "text/html": "<div>                            <div id=\"a0b10fb7-2224-4610-8c1b-12c00f72528c\" class=\"plotly-graph-div\" style=\"height:525px; width:100%;\"></div>            <script type=\"text/javascript\">                require([\"plotly\"], function(Plotly) {                    window.PLOTLYENV=window.PLOTLYENV || {};                                    if (document.getElementById(\"a0b10fb7-2224-4610-8c1b-12c00f72528c\")) {                    Plotly.newPlot(                        \"a0b10fb7-2224-4610-8c1b-12c00f72528c\",                        [{\"alignmentgroup\":\"True\",\"hovertemplate\":\"agent=bdi_score\\u003cbr\\u003eplans_pct=%{x}\\u003cbr\\u003escore=%{y}\\u003cextra\\u003e\\u003c\\u002fextra\\u003e\",\"legendgroup\":\"bdi_score\",\"marker\":{\"color\":\"#636efa\",\"pattern\":{\"shape\":\"\"}},\"name\":\"bdi_score\",\"offsetgroup\":\"bdi_score\",\"orientation\":\"v\",\"showlegend\":true,\"textposition\":\"auto\",\"x\":[0,25,50,75,100],\"xaxis\":\"x\",\"y\":[0.0,30.0,58.0,79.33333333333333,98.0],\"yaxis\":\"y\",\"type\":\"bar\"},{\"alignmentgroup\":\"True\",\"hovertemplate\":\"agent=rl_score\\u003cbr\\u003eplans_pct=%{x}\\u003cbr\\u003escore=%{y}\\u003cextra\\u003e\\u003c\\u002fextra\\u003e\",\"legendgroup\":\"rl_score\",\"marker\":{\"color\":\"#EF553B\",\"pattern\":{\"shape\":\"\"}},\"name\":\"rl_score\",\"offsetgroup\":\"rl_score\",\"orientation\":\"v\",\"showlegend\":true,\"textposition\":\"auto\",\"x\":[0,25,50,75,100],\"xaxis\":\"x\",\"y\":[47.492,32.413333333333334,18.61466666666667,8.389333333333333,0.192],\"yaxis\":\"y\",\"type\":\"bar\"}],                        {\"template\":{\"data\":{\"histogram2dcontour\":[{\"type\":\"histogram2dcontour\",\"colorbar\":{\"outlinewidth\":0,\"ticks\":\"\"},\"colorscale\":[[0.0,\"#0d0887\"],[0.1111111111111111,\"#46039f\"],[0.2222222222222222,\"#7201a8\"],[0.3333333333333333,\"#9c179e\"],[0.4444444444444444,\"#bd3786\"],[0.5555555555555556,\"#d8576b\"],[0.6666666666666666,\"#ed7953\"],[0.7777777777777778,\"#fb9f3a\"],[0.8888888888888888,\"#fdca26\"],[1.0,\"#f0f921\"]]}],\"choropleth\":[{\"type\":\"choropleth\",\"colorbar\":{\"outlinewidth\":0,\"ticks\":\"\"}}],\"histogram2d\":[{\"type\":\"histogram2d\",\"colorbar\":{\"outlinewidth\":0,\"ticks\":\"\"},\"colorscale\":[[0.0,\"#0d0887\"],[0.1111111111111111,\"#46039f\"],[0.2222222222222222,\"#7201a8\"],[0.3333333333333333,\"#9c179e\"],[0.4444444444444444,\"#bd3786\"],[0.5555555555555556,\"#d8576b\"],[0.6666666666666666,\"#ed7953\"],[0.7777777777777778,\"#fb9f3a\"],[0.8888888888888888,\"#fdca26\"],[1.0,\"#f0f921\"]]}],\"heatmap\":[{\"type\":\"heatmap\",\"colorbar\":{\"outlinewidth\":0,\"ticks\":\"\"},\"colorscale\":[[0.0,\"#0d0887\"],[0.1111111111111111,\"#46039f\"],[0.2222222222222222,\"#7201a8\"],[0.3333333333333333,\"#9c179e\"],[0.4444444444444444,\"#bd3786\"],[0.5555555555555556,\"#d8576b\"],[0.6666666666666666,\"#ed7953\"],[0.7777777777777778,\"#fb9f3a\"],[0.8888888888888888,\"#fdca26\"],[1.0,\"#f0f921\"]]}],\"heatmapgl\":[{\"type\":\"heatmapgl\",\"colorbar\":{\"outlinewidth\":0,\"ticks\":\"\"},\"colorscale\":[[0.0,\"#0d0887\"],[0.1111111111111111,\"#46039f\"],[0.2222222222222222,\"#7201a8\"],[0.3333333333333333,\"#9c179e\"],[0.4444444444444444,\"#bd3786\"],[0.5555555555555556,\"#d8576b\"],[0.6666666666666666,\"#ed7953\"],[0.7777777777777778,\"#fb9f3a\"],[0.8888888888888888,\"#fdca26\"],[1.0,\"#f0f921\"]]}],\"contourcarpet\":[{\"type\":\"contourcarpet\",\"colorbar\":{\"outlinewidth\":0,\"ticks\":\"\"}}],\"contour\":[{\"type\":\"contour\",\"colorbar\":{\"outlinewidth\":0,\"ticks\":\"\"},\"colorscale\":[[0.0,\"#0d0887\"],[0.1111111111111111,\"#46039f\"],[0.2222222222222222,\"#7201a8\"],[0.3333333333333333,\"#9c179e\"],[0.4444444444444444,\"#bd3786\"],[0.5555555555555556,\"#d8576b\"],[0.6666666666666666,\"#ed7953\"],[0.7777777777777778,\"#fb9f3a\"],[0.8888888888888888,\"#fdca26\"],[1.0,\"#f0f921\"]]}],\"surface\":[{\"type\":\"surface\",\"colorbar\":{\"outlinewidth\":0,\"ticks\":\"\"},\"colorscale\":[[0.0,\"#0d0887\"],[0.1111111111111111,\"#46039f\"],[0.2222222222222222,\"#7201a8\"],[0.3333333333333333,\"#9c179e\"],[0.4444444444444444,\"#bd3786\"],[0.5555555555555556,\"#d8576b\"],[0.6666666666666666,\"#ed7953\"],[0.7777777777777778,\"#fb9f3a\"],[0.8888888888888888,\"#fdca26\"],[1.0,\"#f0f921\"]]}],\"mesh3d\":[{\"type\":\"mesh3d\",\"colorbar\":{\"outlinewidth\":0,\"ticks\":\"\"}}],\"scatter\":[{\"marker\":{\"line\":{\"color\":\"#283442\"}},\"type\":\"scatter\"}],\"parcoords\":[{\"type\":\"parcoords\",\"line\":{\"colorbar\":{\"outlinewidth\":0,\"ticks\":\"\"}}}],\"scatterpolargl\":[{\"type\":\"scatterpolargl\",\"marker\":{\"colorbar\":{\"outlinewidth\":0,\"ticks\":\"\"}}}],\"bar\":[{\"error_x\":{\"color\":\"#f2f5fa\"},\"error_y\":{\"color\":\"#f2f5fa\"},\"marker\":{\"line\":{\"color\":\"rgb(17,17,17)\",\"width\":0.5},\"pattern\":{\"fillmode\":\"overlay\",\"size\":10,\"solidity\":0.2}},\"type\":\"bar\"}],\"scattergeo\":[{\"type\":\"scattergeo\",\"marker\":{\"colorbar\":{\"outlinewidth\":0,\"ticks\":\"\"}}}],\"scatterpolar\":[{\"type\":\"scatterpolar\",\"marker\":{\"colorbar\":{\"outlinewidth\":0,\"ticks\":\"\"}}}],\"histogram\":[{\"marker\":{\"pattern\":{\"fillmode\":\"overlay\",\"size\":10,\"solidity\":0.2}},\"type\":\"histogram\"}],\"scattergl\":[{\"marker\":{\"line\":{\"color\":\"#283442\"}},\"type\":\"scattergl\"}],\"scatter3d\":[{\"type\":\"scatter3d\",\"line\":{\"colorbar\":{\"outlinewidth\":0,\"ticks\":\"\"}},\"marker\":{\"colorbar\":{\"outlinewidth\":0,\"ticks\":\"\"}}}],\"scattermapbox\":[{\"type\":\"scattermapbox\",\"marker\":{\"colorbar\":{\"outlinewidth\":0,\"ticks\":\"\"}}}],\"scatterternary\":[{\"type\":\"scatterternary\",\"marker\":{\"colorbar\":{\"outlinewidth\":0,\"ticks\":\"\"}}}],\"scattercarpet\":[{\"type\":\"scattercarpet\",\"marker\":{\"colorbar\":{\"outlinewidth\":0,\"ticks\":\"\"}}}],\"carpet\":[{\"aaxis\":{\"endlinecolor\":\"#A2B1C6\",\"gridcolor\":\"#506784\",\"linecolor\":\"#506784\",\"minorgridcolor\":\"#506784\",\"startlinecolor\":\"#A2B1C6\"},\"baxis\":{\"endlinecolor\":\"#A2B1C6\",\"gridcolor\":\"#506784\",\"linecolor\":\"#506784\",\"minorgridcolor\":\"#506784\",\"startlinecolor\":\"#A2B1C6\"},\"type\":\"carpet\"}],\"table\":[{\"cells\":{\"fill\":{\"color\":\"#506784\"},\"line\":{\"color\":\"rgb(17,17,17)\"}},\"header\":{\"fill\":{\"color\":\"#2a3f5f\"},\"line\":{\"color\":\"rgb(17,17,17)\"}},\"type\":\"table\"}],\"barpolar\":[{\"marker\":{\"line\":{\"color\":\"rgb(17,17,17)\",\"width\":0.5},\"pattern\":{\"fillmode\":\"overlay\",\"size\":10,\"solidity\":0.2}},\"type\":\"barpolar\"}],\"pie\":[{\"automargin\":true,\"type\":\"pie\"}]},\"layout\":{\"autotypenumbers\":\"strict\",\"colorway\":[\"#636efa\",\"#EF553B\",\"#00cc96\",\"#ab63fa\",\"#FFA15A\",\"#19d3f3\",\"#FF6692\",\"#B6E880\",\"#FF97FF\",\"#FECB52\"],\"font\":{\"color\":\"#f2f5fa\"},\"hovermode\":\"closest\",\"hoverlabel\":{\"align\":\"left\"},\"paper_bgcolor\":\"rgb(17,17,17)\",\"plot_bgcolor\":\"rgb(17,17,17)\",\"polar\":{\"bgcolor\":\"rgb(17,17,17)\",\"angularaxis\":{\"gridcolor\":\"#506784\",\"linecolor\":\"#506784\",\"ticks\":\"\"},\"radialaxis\":{\"gridcolor\":\"#506784\",\"linecolor\":\"#506784\",\"ticks\":\"\"}},\"ternary\":{\"bgcolor\":\"rgb(17,17,17)\",\"aaxis\":{\"gridcolor\":\"#506784\",\"linecolor\":\"#506784\",\"ticks\":\"\"},\"baxis\":{\"gridcolor\":\"#506784\",\"linecolor\":\"#506784\",\"ticks\":\"\"},\"caxis\":{\"gridcolor\":\"#506784\",\"linecolor\":\"#506784\",\"ticks\":\"\"}},\"coloraxis\":{\"colorbar\":{\"outlinewidth\":0,\"ticks\":\"\"}},\"colorscale\":{\"sequential\":[[0.0,\"#0d0887\"],[0.1111111111111111,\"#46039f\"],[0.2222222222222222,\"#7201a8\"],[0.3333333333333333,\"#9c179e\"],[0.4444444444444444,\"#bd3786\"],[0.5555555555555556,\"#d8576b\"],[0.6666666666666666,\"#ed7953\"],[0.7777777777777778,\"#fb9f3a\"],[0.8888888888888888,\"#fdca26\"],[1.0,\"#f0f921\"]],\"sequentialminus\":[[0.0,\"#0d0887\"],[0.1111111111111111,\"#46039f\"],[0.2222222222222222,\"#7201a8\"],[0.3333333333333333,\"#9c179e\"],[0.4444444444444444,\"#bd3786\"],[0.5555555555555556,\"#d8576b\"],[0.6666666666666666,\"#ed7953\"],[0.7777777777777778,\"#fb9f3a\"],[0.8888888888888888,\"#fdca26\"],[1.0,\"#f0f921\"]],\"diverging\":[[0,\"#8e0152\"],[0.1,\"#c51b7d\"],[0.2,\"#de77ae\"],[0.3,\"#f1b6da\"],[0.4,\"#fde0ef\"],[0.5,\"#f7f7f7\"],[0.6,\"#e6f5d0\"],[0.7,\"#b8e186\"],[0.8,\"#7fbc41\"],[0.9,\"#4d9221\"],[1,\"#276419\"]]},\"xaxis\":{\"gridcolor\":\"#283442\",\"linecolor\":\"#506784\",\"ticks\":\"\",\"title\":{\"standoff\":15},\"zerolinecolor\":\"#283442\",\"automargin\":true,\"zerolinewidth\":2},\"yaxis\":{\"gridcolor\":\"#283442\",\"linecolor\":\"#506784\",\"ticks\":\"\",\"title\":{\"standoff\":15},\"zerolinecolor\":\"#283442\",\"automargin\":true,\"zerolinewidth\":2},\"scene\":{\"xaxis\":{\"backgroundcolor\":\"rgb(17,17,17)\",\"gridcolor\":\"#506784\",\"linecolor\":\"#506784\",\"showbackground\":true,\"ticks\":\"\",\"zerolinecolor\":\"#C8D4E3\",\"gridwidth\":2},\"yaxis\":{\"backgroundcolor\":\"rgb(17,17,17)\",\"gridcolor\":\"#506784\",\"linecolor\":\"#506784\",\"showbackground\":true,\"ticks\":\"\",\"zerolinecolor\":\"#C8D4E3\",\"gridwidth\":2},\"zaxis\":{\"backgroundcolor\":\"rgb(17,17,17)\",\"gridcolor\":\"#506784\",\"linecolor\":\"#506784\",\"showbackground\":true,\"ticks\":\"\",\"zerolinecolor\":\"#C8D4E3\",\"gridwidth\":2}},\"shapedefaults\":{\"line\":{\"color\":\"#f2f5fa\"}},\"annotationdefaults\":{\"arrowcolor\":\"#f2f5fa\",\"arrowhead\":0,\"arrowwidth\":1},\"geo\":{\"bgcolor\":\"rgb(17,17,17)\",\"landcolor\":\"rgb(17,17,17)\",\"subunitcolor\":\"#506784\",\"showland\":true,\"showlakes\":true,\"lakecolor\":\"rgb(17,17,17)\"},\"title\":{\"x\":0.05},\"updatemenudefaults\":{\"bgcolor\":\"#506784\",\"borderwidth\":0},\"sliderdefaults\":{\"bgcolor\":\"#C8D4E3\",\"borderwidth\":1,\"bordercolor\":\"rgb(17,17,17)\",\"tickwidth\":0},\"mapbox\":{\"style\":\"dark\"}}},\"xaxis\":{\"anchor\":\"y\",\"domain\":[0.0,1.0],\"title\":{\"text\":\"plans_pct\"}},\"yaxis\":{\"anchor\":\"x\",\"domain\":[0.0,1.0],\"title\":{\"text\":\"score\"}},\"legend\":{\"title\":{\"text\":\"agent\"},\"tracegroupgap\":0},\"title\":{\"text\":\"Score Distribution\"},\"barmode\":\"relative\"},                        {\"responsive\": true}                    ).then(function(){\n                            \nvar gd = document.getElementById('a0b10fb7-2224-4610-8c1b-12c00f72528c');\nvar x = new MutationObserver(function (mutations, observer) {{\n        var display = window.getComputedStyle(gd).display;\n        if (!display || display === 'none') {{\n            console.log([gd, 'removed!']);\n            Plotly.purge(gd);\n            observer.disconnect();\n        }}\n}});\n\n// Listen for the removal of the full notebook cells\nvar notebookContainer = gd.closest('#notebook-container');\nif (notebookContainer) {{\n    x.observe(notebookContainer, {childList: true});\n}}\n\n// Listen for the clearing of the current output cell\nvar outputEl = gd.closest('.output');\nif (outputEl) {{\n    x.observe(outputEl, {childList: true});\n}}\n\n                        })                };                });            </script>        </div>"
     },
     "metadata": {},
     "output_type": "display_data"
    }
   ],
   "source": [
    "curve_plot_df = results_df[['plans_pct', 'bdi_score', 'rl_score']]\n",
    "curve_plot_df = pd.melt(curve_plot_df, id_vars=['plans_pct'], value_vars=['bdi_score', 'rl_score'], var_name='agent', value_name='score')\n",
    "#curve_plot_df['plans_pct'] = curve_plot_df['plans_pct'].astype(str)\n",
    "curve_plot_df = curve_plot_df.groupby(['plans_pct', 'agent']).agg({'score':'mean'}).reset_index(drop=False)\n",
    "\n",
    "fig = px.bar(curve_plot_df, x=\"plans_pct\", y=\"score\", color=\"agent\", title=\"Score Distribution\")\n",
    "fig.show()"
   ],
   "metadata": {
    "collapsed": false,
    "ExecuteTime": {
     "start_time": "2023-09-20T20:40:29.972586Z",
     "end_time": "2023-09-20T20:40:30.093765Z"
    }
   }
  },
  {
   "cell_type": "code",
   "execution_count": 21,
   "outputs": [
    {
     "data": {
      "application/vnd.plotly.v1+json": {
       "data": [
        {
         "coloraxis": "coloraxis",
         "name": "0",
         "x": [
          58,
          119,
          181,
          242,
          302,
          362,
          421,
          480,
          535,
          593
         ],
         "y": [
          12,
          13,
          14,
          15,
          16,
          17,
          18,
          19,
          20,
          21,
          22,
          23,
          24,
          25,
          26,
          27,
          28,
          29,
          30,
          31,
          32,
          33,
          34,
          35,
          36,
          37,
          38,
          39,
          40,
          41
         ],
         "z": [
          [
           17.0,
           17.0,
           17.0,
           67.0,
           67.0,
           67.0,
           67.0,
           67.0,
           67.0,
           17.0
          ],
          [
           17.0,
           17.0,
           17.0,
           67.0,
           67.0,
           67.0,
           67.0,
           67.0,
           67.0,
           17.0
          ],
          [
           17.0,
           17.0,
           17.0,
           67.0,
           67.0,
           67.0,
           67.0,
           67.0,
           67.0,
           17.0
          ],
          [
           25.0,
           25.0,
           25.0,
           58.0,
           67.0,
           58.0,
           58.0,
           58.0,
           58.0,
           8.0
          ],
          [
           25.0,
           25.0,
           25.0,
           67.0,
           67.0,
           67.0,
           67.0,
           67.0,
           67.0,
           17.0
          ],
          [
           25.0,
           25.0,
           25.0,
           58.0,
           67.0,
           58.0,
           58.0,
           58.0,
           58.0,
           8.0
          ],
          [
           25.0,
           25.0,
           58.0,
           67.0,
           67.0,
           58.0,
           67.0,
           67.0,
           67.0,
           17.0
          ],
          [
           87.88888888888889,
           87.88888888888889,
           87.88888888888889,
           90.77777777777777,
           90.77777777777777,
           90.77777777777777,
           90.77777777777777,
           90.77777777777777,
           90.77777777777777,
           85.22222222222223
          ],
          [
           25.0,
           25.0,
           25.0,
           67.0,
           67.0,
           67.0,
           67.0,
           67.0,
           67.0,
           17.0
          ],
          [
           17.0,
           17.0,
           17.0,
           67.0,
           67.0,
           67.0,
           67.0,
           67.0,
           67.0,
           17.0
          ],
          [
           25.0,
           25.0,
           67.0,
           75.0,
           75.0,
           67.0,
           75.0,
           75.0,
           75.0,
           25.0
          ],
          [
           17.0,
           17.0,
           17.0,
           58.0,
           67.0,
           58.0,
           58.0,
           58.0,
           58.0,
           8.0
          ],
          [
           17.0,
           17.0,
           17.0,
           67.0,
           67.0,
           67.0,
           67.0,
           67.0,
           67.0,
           17.0
          ],
          [
           17.0,
           17.0,
           17.0,
           67.0,
           67.0,
           67.0,
           67.0,
           67.0,
           67.0,
           17.0
          ],
          [
           89.17647058823529,
           89.17647058823529,
           94.11764705882354,
           94.11764705882354,
           94.11764705882354,
           93.17647058823529,
           94.11764705882354,
           94.11764705882354,
           94.11764705882354,
           88.23529411764706
          ],
          [
           17.0,
           17.0,
           58.0,
           67.0,
           67.0,
           58.0,
           67.0,
           67.0,
           67.0,
           25.0
          ],
          [
           17.0,
           17.0,
           17.0,
           67.0,
           67.0,
           67.0,
           67.0,
           67.0,
           67.0,
           25.0
          ],
          [
           17.0,
           17.0,
           17.0,
           67.0,
           67.0,
           67.0,
           67.0,
           67.0,
           67.0,
           25.0
          ],
          [
           25.0,
           25.0,
           25.0,
           67.0,
           75.0,
           67.0,
           67.0,
           67.0,
           67.0,
           17.0
          ],
          [
           17.0,
           17.0,
           17.0,
           67.0,
           67.0,
           67.0,
           67.0,
           67.0,
           67.0,
           25.0
          ],
          [
           25.0,
           25.0,
           25.0,
           67.0,
           75.0,
           67.0,
           67.0,
           67.0,
           67.0,
           17.0
          ],
          [
           17.0,
           17.0,
           17.0,
           67.0,
           67.0,
           67.0,
           67.0,
           67.0,
           67.0,
           17.0
          ],
          [
           89.11538461538461,
           89.11538461538461,
           89.11538461538461,
           94.26923076923077,
           94.26923076923077,
           94.26923076923077,
           94.26923076923077,
           94.26923076923077,
           94.26923076923077,
           88.5
          ],
          [
           17.0,
           17.0,
           17.0,
           67.0,
           67.0,
           67.0,
           67.0,
           67.0,
           67.0,
           17.0
          ],
          [
           17.0,
           17.0,
           17.0,
           67.0,
           67.0,
           67.0,
           67.0,
           67.0,
           67.0,
           17.0
          ],
          [
           17.0,
           17.0,
           17.0,
           58.0,
           67.0,
           58.0,
           58.0,
           58.0,
           58.0,
           8.0
          ],
          [
           17.0,
           17.0,
           17.0,
           58.0,
           67.0,
           58.0,
           58.0,
           58.0,
           58.0,
           8.0
          ],
          [
           17.0,
           17.0,
           17.0,
           58.0,
           67.0,
           58.0,
           58.0,
           58.0,
           58.0,
           8.0
          ],
          [
           17.0,
           17.0,
           17.0,
           58.0,
           67.0,
           58.0,
           58.0,
           58.0,
           58.0,
           8.0
          ],
          [
           67.11196911196912,
           67.11196911196912,
           68.17374517374517,
           85.01158301158301,
           85.70656370656371,
           84.85328185328186,
           85.01158301158301,
           85.01158301158301,
           85.01158301158301,
           66.26254826254826
          ]
         ],
         "type": "heatmap",
         "xaxis": "x",
         "yaxis": "y",
         "hovertemplate": "eps: %{x}<br>plan_library_size: %{y}<br>color: %{z}<extra></extra>"
        }
       ],
       "layout": {
        "template": {
         "data": {
          "histogram2dcontour": [
           {
            "type": "histogram2dcontour",
            "colorbar": {
             "outlinewidth": 0,
             "ticks": ""
            },
            "colorscale": [
             [
              0.0,
              "#0d0887"
             ],
             [
              0.1111111111111111,
              "#46039f"
             ],
             [
              0.2222222222222222,
              "#7201a8"
             ],
             [
              0.3333333333333333,
              "#9c179e"
             ],
             [
              0.4444444444444444,
              "#bd3786"
             ],
             [
              0.5555555555555556,
              "#d8576b"
             ],
             [
              0.6666666666666666,
              "#ed7953"
             ],
             [
              0.7777777777777778,
              "#fb9f3a"
             ],
             [
              0.8888888888888888,
              "#fdca26"
             ],
             [
              1.0,
              "#f0f921"
             ]
            ]
           }
          ],
          "choropleth": [
           {
            "type": "choropleth",
            "colorbar": {
             "outlinewidth": 0,
             "ticks": ""
            }
           }
          ],
          "histogram2d": [
           {
            "type": "histogram2d",
            "colorbar": {
             "outlinewidth": 0,
             "ticks": ""
            },
            "colorscale": [
             [
              0.0,
              "#0d0887"
             ],
             [
              0.1111111111111111,
              "#46039f"
             ],
             [
              0.2222222222222222,
              "#7201a8"
             ],
             [
              0.3333333333333333,
              "#9c179e"
             ],
             [
              0.4444444444444444,
              "#bd3786"
             ],
             [
              0.5555555555555556,
              "#d8576b"
             ],
             [
              0.6666666666666666,
              "#ed7953"
             ],
             [
              0.7777777777777778,
              "#fb9f3a"
             ],
             [
              0.8888888888888888,
              "#fdca26"
             ],
             [
              1.0,
              "#f0f921"
             ]
            ]
           }
          ],
          "heatmap": [
           {
            "type": "heatmap",
            "colorbar": {
             "outlinewidth": 0,
             "ticks": ""
            },
            "colorscale": [
             [
              0.0,
              "#0d0887"
             ],
             [
              0.1111111111111111,
              "#46039f"
             ],
             [
              0.2222222222222222,
              "#7201a8"
             ],
             [
              0.3333333333333333,
              "#9c179e"
             ],
             [
              0.4444444444444444,
              "#bd3786"
             ],
             [
              0.5555555555555556,
              "#d8576b"
             ],
             [
              0.6666666666666666,
              "#ed7953"
             ],
             [
              0.7777777777777778,
              "#fb9f3a"
             ],
             [
              0.8888888888888888,
              "#fdca26"
             ],
             [
              1.0,
              "#f0f921"
             ]
            ]
           }
          ],
          "heatmapgl": [
           {
            "type": "heatmapgl",
            "colorbar": {
             "outlinewidth": 0,
             "ticks": ""
            },
            "colorscale": [
             [
              0.0,
              "#0d0887"
             ],
             [
              0.1111111111111111,
              "#46039f"
             ],
             [
              0.2222222222222222,
              "#7201a8"
             ],
             [
              0.3333333333333333,
              "#9c179e"
             ],
             [
              0.4444444444444444,
              "#bd3786"
             ],
             [
              0.5555555555555556,
              "#d8576b"
             ],
             [
              0.6666666666666666,
              "#ed7953"
             ],
             [
              0.7777777777777778,
              "#fb9f3a"
             ],
             [
              0.8888888888888888,
              "#fdca26"
             ],
             [
              1.0,
              "#f0f921"
             ]
            ]
           }
          ],
          "contourcarpet": [
           {
            "type": "contourcarpet",
            "colorbar": {
             "outlinewidth": 0,
             "ticks": ""
            }
           }
          ],
          "contour": [
           {
            "type": "contour",
            "colorbar": {
             "outlinewidth": 0,
             "ticks": ""
            },
            "colorscale": [
             [
              0.0,
              "#0d0887"
             ],
             [
              0.1111111111111111,
              "#46039f"
             ],
             [
              0.2222222222222222,
              "#7201a8"
             ],
             [
              0.3333333333333333,
              "#9c179e"
             ],
             [
              0.4444444444444444,
              "#bd3786"
             ],
             [
              0.5555555555555556,
              "#d8576b"
             ],
             [
              0.6666666666666666,
              "#ed7953"
             ],
             [
              0.7777777777777778,
              "#fb9f3a"
             ],
             [
              0.8888888888888888,
              "#fdca26"
             ],
             [
              1.0,
              "#f0f921"
             ]
            ]
           }
          ],
          "surface": [
           {
            "type": "surface",
            "colorbar": {
             "outlinewidth": 0,
             "ticks": ""
            },
            "colorscale": [
             [
              0.0,
              "#0d0887"
             ],
             [
              0.1111111111111111,
              "#46039f"
             ],
             [
              0.2222222222222222,
              "#7201a8"
             ],
             [
              0.3333333333333333,
              "#9c179e"
             ],
             [
              0.4444444444444444,
              "#bd3786"
             ],
             [
              0.5555555555555556,
              "#d8576b"
             ],
             [
              0.6666666666666666,
              "#ed7953"
             ],
             [
              0.7777777777777778,
              "#fb9f3a"
             ],
             [
              0.8888888888888888,
              "#fdca26"
             ],
             [
              1.0,
              "#f0f921"
             ]
            ]
           }
          ],
          "mesh3d": [
           {
            "type": "mesh3d",
            "colorbar": {
             "outlinewidth": 0,
             "ticks": ""
            }
           }
          ],
          "scatter": [
           {
            "marker": {
             "line": {
              "color": "#283442"
             }
            },
            "type": "scatter"
           }
          ],
          "parcoords": [
           {
            "type": "parcoords",
            "line": {
             "colorbar": {
              "outlinewidth": 0,
              "ticks": ""
             }
            }
           }
          ],
          "scatterpolargl": [
           {
            "type": "scatterpolargl",
            "marker": {
             "colorbar": {
              "outlinewidth": 0,
              "ticks": ""
             }
            }
           }
          ],
          "bar": [
           {
            "error_x": {
             "color": "#f2f5fa"
            },
            "error_y": {
             "color": "#f2f5fa"
            },
            "marker": {
             "line": {
              "color": "rgb(17,17,17)",
              "width": 0.5
             },
             "pattern": {
              "fillmode": "overlay",
              "size": 10,
              "solidity": 0.2
             }
            },
            "type": "bar"
           }
          ],
          "scattergeo": [
           {
            "type": "scattergeo",
            "marker": {
             "colorbar": {
              "outlinewidth": 0,
              "ticks": ""
             }
            }
           }
          ],
          "scatterpolar": [
           {
            "type": "scatterpolar",
            "marker": {
             "colorbar": {
              "outlinewidth": 0,
              "ticks": ""
             }
            }
           }
          ],
          "histogram": [
           {
            "marker": {
             "pattern": {
              "fillmode": "overlay",
              "size": 10,
              "solidity": 0.2
             }
            },
            "type": "histogram"
           }
          ],
          "scattergl": [
           {
            "marker": {
             "line": {
              "color": "#283442"
             }
            },
            "type": "scattergl"
           }
          ],
          "scatter3d": [
           {
            "type": "scatter3d",
            "line": {
             "colorbar": {
              "outlinewidth": 0,
              "ticks": ""
             }
            },
            "marker": {
             "colorbar": {
              "outlinewidth": 0,
              "ticks": ""
             }
            }
           }
          ],
          "scattermapbox": [
           {
            "type": "scattermapbox",
            "marker": {
             "colorbar": {
              "outlinewidth": 0,
              "ticks": ""
             }
            }
           }
          ],
          "scatterternary": [
           {
            "type": "scatterternary",
            "marker": {
             "colorbar": {
              "outlinewidth": 0,
              "ticks": ""
             }
            }
           }
          ],
          "scattercarpet": [
           {
            "type": "scattercarpet",
            "marker": {
             "colorbar": {
              "outlinewidth": 0,
              "ticks": ""
             }
            }
           }
          ],
          "carpet": [
           {
            "aaxis": {
             "endlinecolor": "#A2B1C6",
             "gridcolor": "#506784",
             "linecolor": "#506784",
             "minorgridcolor": "#506784",
             "startlinecolor": "#A2B1C6"
            },
            "baxis": {
             "endlinecolor": "#A2B1C6",
             "gridcolor": "#506784",
             "linecolor": "#506784",
             "minorgridcolor": "#506784",
             "startlinecolor": "#A2B1C6"
            },
            "type": "carpet"
           }
          ],
          "table": [
           {
            "cells": {
             "fill": {
              "color": "#506784"
             },
             "line": {
              "color": "rgb(17,17,17)"
             }
            },
            "header": {
             "fill": {
              "color": "#2a3f5f"
             },
             "line": {
              "color": "rgb(17,17,17)"
             }
            },
            "type": "table"
           }
          ],
          "barpolar": [
           {
            "marker": {
             "line": {
              "color": "rgb(17,17,17)",
              "width": 0.5
             },
             "pattern": {
              "fillmode": "overlay",
              "size": 10,
              "solidity": 0.2
             }
            },
            "type": "barpolar"
           }
          ],
          "pie": [
           {
            "automargin": true,
            "type": "pie"
           }
          ]
         },
         "layout": {
          "autotypenumbers": "strict",
          "colorway": [
           "#636efa",
           "#EF553B",
           "#00cc96",
           "#ab63fa",
           "#FFA15A",
           "#19d3f3",
           "#FF6692",
           "#B6E880",
           "#FF97FF",
           "#FECB52"
          ],
          "font": {
           "color": "#f2f5fa"
          },
          "hovermode": "closest",
          "hoverlabel": {
           "align": "left"
          },
          "paper_bgcolor": "rgb(17,17,17)",
          "plot_bgcolor": "rgb(17,17,17)",
          "polar": {
           "bgcolor": "rgb(17,17,17)",
           "angularaxis": {
            "gridcolor": "#506784",
            "linecolor": "#506784",
            "ticks": ""
           },
           "radialaxis": {
            "gridcolor": "#506784",
            "linecolor": "#506784",
            "ticks": ""
           }
          },
          "ternary": {
           "bgcolor": "rgb(17,17,17)",
           "aaxis": {
            "gridcolor": "#506784",
            "linecolor": "#506784",
            "ticks": ""
           },
           "baxis": {
            "gridcolor": "#506784",
            "linecolor": "#506784",
            "ticks": ""
           },
           "caxis": {
            "gridcolor": "#506784",
            "linecolor": "#506784",
            "ticks": ""
           }
          },
          "coloraxis": {
           "colorbar": {
            "outlinewidth": 0,
            "ticks": ""
           }
          },
          "colorscale": {
           "sequential": [
            [
             0.0,
             "#0d0887"
            ],
            [
             0.1111111111111111,
             "#46039f"
            ],
            [
             0.2222222222222222,
             "#7201a8"
            ],
            [
             0.3333333333333333,
             "#9c179e"
            ],
            [
             0.4444444444444444,
             "#bd3786"
            ],
            [
             0.5555555555555556,
             "#d8576b"
            ],
            [
             0.6666666666666666,
             "#ed7953"
            ],
            [
             0.7777777777777778,
             "#fb9f3a"
            ],
            [
             0.8888888888888888,
             "#fdca26"
            ],
            [
             1.0,
             "#f0f921"
            ]
           ],
           "sequentialminus": [
            [
             0.0,
             "#0d0887"
            ],
            [
             0.1111111111111111,
             "#46039f"
            ],
            [
             0.2222222222222222,
             "#7201a8"
            ],
            [
             0.3333333333333333,
             "#9c179e"
            ],
            [
             0.4444444444444444,
             "#bd3786"
            ],
            [
             0.5555555555555556,
             "#d8576b"
            ],
            [
             0.6666666666666666,
             "#ed7953"
            ],
            [
             0.7777777777777778,
             "#fb9f3a"
            ],
            [
             0.8888888888888888,
             "#fdca26"
            ],
            [
             1.0,
             "#f0f921"
            ]
           ],
           "diverging": [
            [
             0,
             "#8e0152"
            ],
            [
             0.1,
             "#c51b7d"
            ],
            [
             0.2,
             "#de77ae"
            ],
            [
             0.3,
             "#f1b6da"
            ],
            [
             0.4,
             "#fde0ef"
            ],
            [
             0.5,
             "#f7f7f7"
            ],
            [
             0.6,
             "#e6f5d0"
            ],
            [
             0.7,
             "#b8e186"
            ],
            [
             0.8,
             "#7fbc41"
            ],
            [
             0.9,
             "#4d9221"
            ],
            [
             1,
             "#276419"
            ]
           ]
          },
          "xaxis": {
           "gridcolor": "#283442",
           "linecolor": "#506784",
           "ticks": "",
           "title": {
            "standoff": 15
           },
           "zerolinecolor": "#283442",
           "automargin": true,
           "zerolinewidth": 2
          },
          "yaxis": {
           "gridcolor": "#283442",
           "linecolor": "#506784",
           "ticks": "",
           "title": {
            "standoff": 15
           },
           "zerolinecolor": "#283442",
           "automargin": true,
           "zerolinewidth": 2
          },
          "scene": {
           "xaxis": {
            "backgroundcolor": "rgb(17,17,17)",
            "gridcolor": "#506784",
            "linecolor": "#506784",
            "showbackground": true,
            "ticks": "",
            "zerolinecolor": "#C8D4E3",
            "gridwidth": 2
           },
           "yaxis": {
            "backgroundcolor": "rgb(17,17,17)",
            "gridcolor": "#506784",
            "linecolor": "#506784",
            "showbackground": true,
            "ticks": "",
            "zerolinecolor": "#C8D4E3",
            "gridwidth": 2
           },
           "zaxis": {
            "backgroundcolor": "rgb(17,17,17)",
            "gridcolor": "#506784",
            "linecolor": "#506784",
            "showbackground": true,
            "ticks": "",
            "zerolinecolor": "#C8D4E3",
            "gridwidth": 2
           }
          },
          "shapedefaults": {
           "line": {
            "color": "#f2f5fa"
           }
          },
          "annotationdefaults": {
           "arrowcolor": "#f2f5fa",
           "arrowhead": 0,
           "arrowwidth": 1
          },
          "geo": {
           "bgcolor": "rgb(17,17,17)",
           "landcolor": "rgb(17,17,17)",
           "subunitcolor": "#506784",
           "showland": true,
           "showlakes": true,
           "lakecolor": "rgb(17,17,17)"
          },
          "title": {
           "x": 0.05
          },
          "updatemenudefaults": {
           "bgcolor": "#506784",
           "borderwidth": 0
          },
          "sliderdefaults": {
           "bgcolor": "#C8D4E3",
           "borderwidth": 1,
           "bordercolor": "rgb(17,17,17)",
           "tickwidth": 0
          },
          "mapbox": {
           "style": "dark"
          }
         }
        },
        "xaxis": {
         "anchor": "y",
         "domain": [
          0.0,
          1.0
         ],
         "scaleanchor": "y",
         "constrain": "domain",
         "title": {
          "text": "eps"
         },
         "type": "category"
        },
        "yaxis": {
         "anchor": "x",
         "domain": [
          0.0,
          1.0
         ],
         "autorange": "reversed",
         "constrain": "domain",
         "title": {
          "text": "plan_library_size"
         }
        },
        "coloraxis": {
         "colorscale": [
          [
           0.0,
           "#0d0887"
          ],
          [
           0.1111111111111111,
           "#46039f"
          ],
          [
           0.2222222222222222,
           "#7201a8"
          ],
          [
           0.3333333333333333,
           "#9c179e"
          ],
          [
           0.4444444444444444,
           "#bd3786"
          ],
          [
           0.5555555555555556,
           "#d8576b"
          ],
          [
           0.6666666666666666,
           "#ed7953"
          ],
          [
           0.7777777777777778,
           "#fb9f3a"
          ],
          [
           0.8888888888888888,
           "#fdca26"
          ],
          [
           1.0,
           "#f0f921"
          ]
         ]
        },
        "margin": {
         "t": 60
        },
        "width": 1000,
        "height": 700
       },
       "config": {
        "plotlyServerURL": "https://plot.ly"
       }
      },
      "text/html": "<div>                            <div id=\"d6fb66f8-839b-4f56-983e-ab1b8dee0248\" class=\"plotly-graph-div\" style=\"height:700px; width:1000px;\"></div>            <script type=\"text/javascript\">                require([\"plotly\"], function(Plotly) {                    window.PLOTLYENV=window.PLOTLYENV || {};                                    if (document.getElementById(\"d6fb66f8-839b-4f56-983e-ab1b8dee0248\")) {                    Plotly.newPlot(                        \"d6fb66f8-839b-4f56-983e-ab1b8dee0248\",                        [{\"coloraxis\":\"coloraxis\",\"name\":\"0\",\"x\":[58,119,181,242,302,362,421,480,535,593],\"y\":[12,13,14,15,16,17,18,19,20,21,22,23,24,25,26,27,28,29,30,31,32,33,34,35,36,37,38,39,40,41],\"z\":[[17.0,17.0,17.0,67.0,67.0,67.0,67.0,67.0,67.0,17.0],[17.0,17.0,17.0,67.0,67.0,67.0,67.0,67.0,67.0,17.0],[17.0,17.0,17.0,67.0,67.0,67.0,67.0,67.0,67.0,17.0],[25.0,25.0,25.0,58.0,67.0,58.0,58.0,58.0,58.0,8.0],[25.0,25.0,25.0,67.0,67.0,67.0,67.0,67.0,67.0,17.0],[25.0,25.0,25.0,58.0,67.0,58.0,58.0,58.0,58.0,8.0],[25.0,25.0,58.0,67.0,67.0,58.0,67.0,67.0,67.0,17.0],[87.88888888888889,87.88888888888889,87.88888888888889,90.77777777777777,90.77777777777777,90.77777777777777,90.77777777777777,90.77777777777777,90.77777777777777,85.22222222222223],[25.0,25.0,25.0,67.0,67.0,67.0,67.0,67.0,67.0,17.0],[17.0,17.0,17.0,67.0,67.0,67.0,67.0,67.0,67.0,17.0],[25.0,25.0,67.0,75.0,75.0,67.0,75.0,75.0,75.0,25.0],[17.0,17.0,17.0,58.0,67.0,58.0,58.0,58.0,58.0,8.0],[17.0,17.0,17.0,67.0,67.0,67.0,67.0,67.0,67.0,17.0],[17.0,17.0,17.0,67.0,67.0,67.0,67.0,67.0,67.0,17.0],[89.17647058823529,89.17647058823529,94.11764705882354,94.11764705882354,94.11764705882354,93.17647058823529,94.11764705882354,94.11764705882354,94.11764705882354,88.23529411764706],[17.0,17.0,58.0,67.0,67.0,58.0,67.0,67.0,67.0,25.0],[17.0,17.0,17.0,67.0,67.0,67.0,67.0,67.0,67.0,25.0],[17.0,17.0,17.0,67.0,67.0,67.0,67.0,67.0,67.0,25.0],[25.0,25.0,25.0,67.0,75.0,67.0,67.0,67.0,67.0,17.0],[17.0,17.0,17.0,67.0,67.0,67.0,67.0,67.0,67.0,25.0],[25.0,25.0,25.0,67.0,75.0,67.0,67.0,67.0,67.0,17.0],[17.0,17.0,17.0,67.0,67.0,67.0,67.0,67.0,67.0,17.0],[89.11538461538461,89.11538461538461,89.11538461538461,94.26923076923077,94.26923076923077,94.26923076923077,94.26923076923077,94.26923076923077,94.26923076923077,88.5],[17.0,17.0,17.0,67.0,67.0,67.0,67.0,67.0,67.0,17.0],[17.0,17.0,17.0,67.0,67.0,67.0,67.0,67.0,67.0,17.0],[17.0,17.0,17.0,58.0,67.0,58.0,58.0,58.0,58.0,8.0],[17.0,17.0,17.0,58.0,67.0,58.0,58.0,58.0,58.0,8.0],[17.0,17.0,17.0,58.0,67.0,58.0,58.0,58.0,58.0,8.0],[17.0,17.0,17.0,58.0,67.0,58.0,58.0,58.0,58.0,8.0],[67.11196911196912,67.11196911196912,68.17374517374517,85.01158301158301,85.70656370656371,84.85328185328186,85.01158301158301,85.01158301158301,85.01158301158301,66.26254826254826]],\"type\":\"heatmap\",\"xaxis\":\"x\",\"yaxis\":\"y\",\"hovertemplate\":\"eps: %{x}\\u003cbr\\u003eplan_library_size: %{y}\\u003cbr\\u003ecolor: %{z}\\u003cextra\\u003e\\u003c\\u002fextra\\u003e\"}],                        {\"template\":{\"data\":{\"histogram2dcontour\":[{\"type\":\"histogram2dcontour\",\"colorbar\":{\"outlinewidth\":0,\"ticks\":\"\"},\"colorscale\":[[0.0,\"#0d0887\"],[0.1111111111111111,\"#46039f\"],[0.2222222222222222,\"#7201a8\"],[0.3333333333333333,\"#9c179e\"],[0.4444444444444444,\"#bd3786\"],[0.5555555555555556,\"#d8576b\"],[0.6666666666666666,\"#ed7953\"],[0.7777777777777778,\"#fb9f3a\"],[0.8888888888888888,\"#fdca26\"],[1.0,\"#f0f921\"]]}],\"choropleth\":[{\"type\":\"choropleth\",\"colorbar\":{\"outlinewidth\":0,\"ticks\":\"\"}}],\"histogram2d\":[{\"type\":\"histogram2d\",\"colorbar\":{\"outlinewidth\":0,\"ticks\":\"\"},\"colorscale\":[[0.0,\"#0d0887\"],[0.1111111111111111,\"#46039f\"],[0.2222222222222222,\"#7201a8\"],[0.3333333333333333,\"#9c179e\"],[0.4444444444444444,\"#bd3786\"],[0.5555555555555556,\"#d8576b\"],[0.6666666666666666,\"#ed7953\"],[0.7777777777777778,\"#fb9f3a\"],[0.8888888888888888,\"#fdca26\"],[1.0,\"#f0f921\"]]}],\"heatmap\":[{\"type\":\"heatmap\",\"colorbar\":{\"outlinewidth\":0,\"ticks\":\"\"},\"colorscale\":[[0.0,\"#0d0887\"],[0.1111111111111111,\"#46039f\"],[0.2222222222222222,\"#7201a8\"],[0.3333333333333333,\"#9c179e\"],[0.4444444444444444,\"#bd3786\"],[0.5555555555555556,\"#d8576b\"],[0.6666666666666666,\"#ed7953\"],[0.7777777777777778,\"#fb9f3a\"],[0.8888888888888888,\"#fdca26\"],[1.0,\"#f0f921\"]]}],\"heatmapgl\":[{\"type\":\"heatmapgl\",\"colorbar\":{\"outlinewidth\":0,\"ticks\":\"\"},\"colorscale\":[[0.0,\"#0d0887\"],[0.1111111111111111,\"#46039f\"],[0.2222222222222222,\"#7201a8\"],[0.3333333333333333,\"#9c179e\"],[0.4444444444444444,\"#bd3786\"],[0.5555555555555556,\"#d8576b\"],[0.6666666666666666,\"#ed7953\"],[0.7777777777777778,\"#fb9f3a\"],[0.8888888888888888,\"#fdca26\"],[1.0,\"#f0f921\"]]}],\"contourcarpet\":[{\"type\":\"contourcarpet\",\"colorbar\":{\"outlinewidth\":0,\"ticks\":\"\"}}],\"contour\":[{\"type\":\"contour\",\"colorbar\":{\"outlinewidth\":0,\"ticks\":\"\"},\"colorscale\":[[0.0,\"#0d0887\"],[0.1111111111111111,\"#46039f\"],[0.2222222222222222,\"#7201a8\"],[0.3333333333333333,\"#9c179e\"],[0.4444444444444444,\"#bd3786\"],[0.5555555555555556,\"#d8576b\"],[0.6666666666666666,\"#ed7953\"],[0.7777777777777778,\"#fb9f3a\"],[0.8888888888888888,\"#fdca26\"],[1.0,\"#f0f921\"]]}],\"surface\":[{\"type\":\"surface\",\"colorbar\":{\"outlinewidth\":0,\"ticks\":\"\"},\"colorscale\":[[0.0,\"#0d0887\"],[0.1111111111111111,\"#46039f\"],[0.2222222222222222,\"#7201a8\"],[0.3333333333333333,\"#9c179e\"],[0.4444444444444444,\"#bd3786\"],[0.5555555555555556,\"#d8576b\"],[0.6666666666666666,\"#ed7953\"],[0.7777777777777778,\"#fb9f3a\"],[0.8888888888888888,\"#fdca26\"],[1.0,\"#f0f921\"]]}],\"mesh3d\":[{\"type\":\"mesh3d\",\"colorbar\":{\"outlinewidth\":0,\"ticks\":\"\"}}],\"scatter\":[{\"marker\":{\"line\":{\"color\":\"#283442\"}},\"type\":\"scatter\"}],\"parcoords\":[{\"type\":\"parcoords\",\"line\":{\"colorbar\":{\"outlinewidth\":0,\"ticks\":\"\"}}}],\"scatterpolargl\":[{\"type\":\"scatterpolargl\",\"marker\":{\"colorbar\":{\"outlinewidth\":0,\"ticks\":\"\"}}}],\"bar\":[{\"error_x\":{\"color\":\"#f2f5fa\"},\"error_y\":{\"color\":\"#f2f5fa\"},\"marker\":{\"line\":{\"color\":\"rgb(17,17,17)\",\"width\":0.5},\"pattern\":{\"fillmode\":\"overlay\",\"size\":10,\"solidity\":0.2}},\"type\":\"bar\"}],\"scattergeo\":[{\"type\":\"scattergeo\",\"marker\":{\"colorbar\":{\"outlinewidth\":0,\"ticks\":\"\"}}}],\"scatterpolar\":[{\"type\":\"scatterpolar\",\"marker\":{\"colorbar\":{\"outlinewidth\":0,\"ticks\":\"\"}}}],\"histogram\":[{\"marker\":{\"pattern\":{\"fillmode\":\"overlay\",\"size\":10,\"solidity\":0.2}},\"type\":\"histogram\"}],\"scattergl\":[{\"marker\":{\"line\":{\"color\":\"#283442\"}},\"type\":\"scattergl\"}],\"scatter3d\":[{\"type\":\"scatter3d\",\"line\":{\"colorbar\":{\"outlinewidth\":0,\"ticks\":\"\"}},\"marker\":{\"colorbar\":{\"outlinewidth\":0,\"ticks\":\"\"}}}],\"scattermapbox\":[{\"type\":\"scattermapbox\",\"marker\":{\"colorbar\":{\"outlinewidth\":0,\"ticks\":\"\"}}}],\"scatterternary\":[{\"type\":\"scatterternary\",\"marker\":{\"colorbar\":{\"outlinewidth\":0,\"ticks\":\"\"}}}],\"scattercarpet\":[{\"type\":\"scattercarpet\",\"marker\":{\"colorbar\":{\"outlinewidth\":0,\"ticks\":\"\"}}}],\"carpet\":[{\"aaxis\":{\"endlinecolor\":\"#A2B1C6\",\"gridcolor\":\"#506784\",\"linecolor\":\"#506784\",\"minorgridcolor\":\"#506784\",\"startlinecolor\":\"#A2B1C6\"},\"baxis\":{\"endlinecolor\":\"#A2B1C6\",\"gridcolor\":\"#506784\",\"linecolor\":\"#506784\",\"minorgridcolor\":\"#506784\",\"startlinecolor\":\"#A2B1C6\"},\"type\":\"carpet\"}],\"table\":[{\"cells\":{\"fill\":{\"color\":\"#506784\"},\"line\":{\"color\":\"rgb(17,17,17)\"}},\"header\":{\"fill\":{\"color\":\"#2a3f5f\"},\"line\":{\"color\":\"rgb(17,17,17)\"}},\"type\":\"table\"}],\"barpolar\":[{\"marker\":{\"line\":{\"color\":\"rgb(17,17,17)\",\"width\":0.5},\"pattern\":{\"fillmode\":\"overlay\",\"size\":10,\"solidity\":0.2}},\"type\":\"barpolar\"}],\"pie\":[{\"automargin\":true,\"type\":\"pie\"}]},\"layout\":{\"autotypenumbers\":\"strict\",\"colorway\":[\"#636efa\",\"#EF553B\",\"#00cc96\",\"#ab63fa\",\"#FFA15A\",\"#19d3f3\",\"#FF6692\",\"#B6E880\",\"#FF97FF\",\"#FECB52\"],\"font\":{\"color\":\"#f2f5fa\"},\"hovermode\":\"closest\",\"hoverlabel\":{\"align\":\"left\"},\"paper_bgcolor\":\"rgb(17,17,17)\",\"plot_bgcolor\":\"rgb(17,17,17)\",\"polar\":{\"bgcolor\":\"rgb(17,17,17)\",\"angularaxis\":{\"gridcolor\":\"#506784\",\"linecolor\":\"#506784\",\"ticks\":\"\"},\"radialaxis\":{\"gridcolor\":\"#506784\",\"linecolor\":\"#506784\",\"ticks\":\"\"}},\"ternary\":{\"bgcolor\":\"rgb(17,17,17)\",\"aaxis\":{\"gridcolor\":\"#506784\",\"linecolor\":\"#506784\",\"ticks\":\"\"},\"baxis\":{\"gridcolor\":\"#506784\",\"linecolor\":\"#506784\",\"ticks\":\"\"},\"caxis\":{\"gridcolor\":\"#506784\",\"linecolor\":\"#506784\",\"ticks\":\"\"}},\"coloraxis\":{\"colorbar\":{\"outlinewidth\":0,\"ticks\":\"\"}},\"colorscale\":{\"sequential\":[[0.0,\"#0d0887\"],[0.1111111111111111,\"#46039f\"],[0.2222222222222222,\"#7201a8\"],[0.3333333333333333,\"#9c179e\"],[0.4444444444444444,\"#bd3786\"],[0.5555555555555556,\"#d8576b\"],[0.6666666666666666,\"#ed7953\"],[0.7777777777777778,\"#fb9f3a\"],[0.8888888888888888,\"#fdca26\"],[1.0,\"#f0f921\"]],\"sequentialminus\":[[0.0,\"#0d0887\"],[0.1111111111111111,\"#46039f\"],[0.2222222222222222,\"#7201a8\"],[0.3333333333333333,\"#9c179e\"],[0.4444444444444444,\"#bd3786\"],[0.5555555555555556,\"#d8576b\"],[0.6666666666666666,\"#ed7953\"],[0.7777777777777778,\"#fb9f3a\"],[0.8888888888888888,\"#fdca26\"],[1.0,\"#f0f921\"]],\"diverging\":[[0,\"#8e0152\"],[0.1,\"#c51b7d\"],[0.2,\"#de77ae\"],[0.3,\"#f1b6da\"],[0.4,\"#fde0ef\"],[0.5,\"#f7f7f7\"],[0.6,\"#e6f5d0\"],[0.7,\"#b8e186\"],[0.8,\"#7fbc41\"],[0.9,\"#4d9221\"],[1,\"#276419\"]]},\"xaxis\":{\"gridcolor\":\"#283442\",\"linecolor\":\"#506784\",\"ticks\":\"\",\"title\":{\"standoff\":15},\"zerolinecolor\":\"#283442\",\"automargin\":true,\"zerolinewidth\":2},\"yaxis\":{\"gridcolor\":\"#283442\",\"linecolor\":\"#506784\",\"ticks\":\"\",\"title\":{\"standoff\":15},\"zerolinecolor\":\"#283442\",\"automargin\":true,\"zerolinewidth\":2},\"scene\":{\"xaxis\":{\"backgroundcolor\":\"rgb(17,17,17)\",\"gridcolor\":\"#506784\",\"linecolor\":\"#506784\",\"showbackground\":true,\"ticks\":\"\",\"zerolinecolor\":\"#C8D4E3\",\"gridwidth\":2},\"yaxis\":{\"backgroundcolor\":\"rgb(17,17,17)\",\"gridcolor\":\"#506784\",\"linecolor\":\"#506784\",\"showbackground\":true,\"ticks\":\"\",\"zerolinecolor\":\"#C8D4E3\",\"gridwidth\":2},\"zaxis\":{\"backgroundcolor\":\"rgb(17,17,17)\",\"gridcolor\":\"#506784\",\"linecolor\":\"#506784\",\"showbackground\":true,\"ticks\":\"\",\"zerolinecolor\":\"#C8D4E3\",\"gridwidth\":2}},\"shapedefaults\":{\"line\":{\"color\":\"#f2f5fa\"}},\"annotationdefaults\":{\"arrowcolor\":\"#f2f5fa\",\"arrowhead\":0,\"arrowwidth\":1},\"geo\":{\"bgcolor\":\"rgb(17,17,17)\",\"landcolor\":\"rgb(17,17,17)\",\"subunitcolor\":\"#506784\",\"showland\":true,\"showlakes\":true,\"lakecolor\":\"rgb(17,17,17)\"},\"title\":{\"x\":0.05},\"updatemenudefaults\":{\"bgcolor\":\"#506784\",\"borderwidth\":0},\"sliderdefaults\":{\"bgcolor\":\"#C8D4E3\",\"borderwidth\":1,\"bordercolor\":\"rgb(17,17,17)\",\"tickwidth\":0},\"mapbox\":{\"style\":\"dark\"}}},\"xaxis\":{\"anchor\":\"y\",\"domain\":[0.0,1.0],\"scaleanchor\":\"y\",\"constrain\":\"domain\",\"title\":{\"text\":\"eps\"},\"type\":\"category\"},\"yaxis\":{\"anchor\":\"x\",\"domain\":[0.0,1.0],\"autorange\":\"reversed\",\"constrain\":\"domain\",\"title\":{\"text\":\"plan_library_size\"}},\"coloraxis\":{\"colorscale\":[[0.0,\"#0d0887\"],[0.1111111111111111,\"#46039f\"],[0.2222222222222222,\"#7201a8\"],[0.3333333333333333,\"#9c179e\"],[0.4444444444444444,\"#bd3786\"],[0.5555555555555556,\"#d8576b\"],[0.6666666666666666,\"#ed7953\"],[0.7777777777777778,\"#fb9f3a\"],[0.8888888888888888,\"#fdca26\"],[1.0,\"#f0f921\"]]},\"margin\":{\"t\":60},\"width\":1000,\"height\":700},                        {\"responsive\": true}                    ).then(function(){\n                            \nvar gd = document.getElementById('d6fb66f8-839b-4f56-983e-ab1b8dee0248');\nvar x = new MutationObserver(function (mutations, observer) {{\n        var display = window.getComputedStyle(gd).display;\n        if (!display || display === 'none') {{\n            console.log([gd, 'removed!']);\n            Plotly.purge(gd);\n            observer.disconnect();\n        }}\n}});\n\n// Listen for the removal of the full notebook cells\nvar notebookContainer = gd.closest('#notebook-container');\nif (notebookContainer) {{\n    x.observe(notebookContainer, {childList: true});\n}}\n\n// Listen for the clearing of the current output cell\nvar outputEl = gd.closest('.output');\nif (outputEl) {{\n    x.observe(outputEl, {childList: true});\n}}\n\n                        })                };                });            </script>        </div>"
     },
     "metadata": {},
     "output_type": "display_data"
    }
   ],
   "source": [
    "heatmap_df = results_df[['plan_library_size', 'eps', 'final_score']]\n",
    "heatmap_df = heatmap_df.groupby(['plan_library_size', 'eps']).agg({'final_score': 'mean'}).reset_index()\n",
    "heatmap_df = heatmap_df.pivot(index='plan_library_size', columns='eps')['final_score'].fillna(0)\n",
    "\n",
    "fig = px.imshow(heatmap_df, x=heatmap_df.columns, y=heatmap_df.index)\n",
    "fig.update_layout(width=1000,height=700)\n",
    "fig.update_xaxes(type='category')\n",
    "#fig.update_yaxes(type='category')\n",
    "fig.show()"
   ],
   "metadata": {
    "collapsed": false,
    "ExecuteTime": {
     "start_time": "2023-09-20T20:49:51.041367Z",
     "end_time": "2023-09-20T20:49:51.168421Z"
    }
   }
  },
  {
   "cell_type": "code",
   "execution_count": 31,
   "outputs": [
    {
     "data": {
      "application/vnd.plotly.v1+json": {
       "data": [
        {
         "hovertemplate": "plans_pct=%{x}<br>eps=%{y}<br>final_score=%{marker.size}<extra></extra>",
         "legendgroup": "",
         "marker": {
          "color": "#636efa",
          "size": [
           19.186666666666667,
           19.186666666666667,
           23.4,
           65.85333333333334,
           67.74666666666667,
           65.06666666666666,
           65.85333333333334,
           65.85333333333334,
           65.85333333333334,
           16.92,
           42.906666666666666,
           42.906666666666666,
           46.13333333333333,
           74.89333333333333,
           76.30666666666667,
           74.34666666666666,
           74.89333333333333,
           74.89333333333333,
           74.89333333333333,
           41.96,
           65.53333333333333,
           65.53333333333333,
           66.08,
           83.84,
           85.01333333333334,
           83.72,
           83.84,
           83.84,
           83.84,
           64.90666666666667,
           83.14666666666666,
           83.14666666666666,
           83.14666666666666,
           90.88,
           91.84,
           90.88,
           90.88,
           90.88,
           90.88,
           81.54666666666667,
           98.64,
           98.64,
           98.64,
           98.0,
           98.0,
           98.0,
           98.0,
           98.0,
           98.0,
           98.0
          ],
          "sizemode": "area",
          "sizeref": 0.2466,
          "symbol": "circle"
         },
         "mode": "markers",
         "name": "",
         "orientation": "v",
         "showlegend": false,
         "x": [
          0,
          0,
          0,
          0,
          0,
          0,
          0,
          0,
          0,
          0,
          25,
          25,
          25,
          25,
          25,
          25,
          25,
          25,
          25,
          25,
          50,
          50,
          50,
          50,
          50,
          50,
          50,
          50,
          50,
          50,
          75,
          75,
          75,
          75,
          75,
          75,
          75,
          75,
          75,
          75,
          100,
          100,
          100,
          100,
          100,
          100,
          100,
          100,
          100,
          100
         ],
         "xaxis": "x",
         "y": [
          58,
          119,
          181,
          242,
          302,
          362,
          421,
          480,
          535,
          593,
          58,
          119,
          181,
          242,
          302,
          362,
          421,
          480,
          535,
          593,
          58,
          119,
          181,
          242,
          302,
          362,
          421,
          480,
          535,
          593,
          58,
          119,
          181,
          242,
          302,
          362,
          421,
          480,
          535,
          593,
          58,
          119,
          181,
          242,
          302,
          362,
          421,
          480,
          535,
          593
         ],
         "yaxis": "y",
         "type": "scatter"
        }
       ],
       "layout": {
        "template": {
         "data": {
          "histogram2dcontour": [
           {
            "type": "histogram2dcontour",
            "colorbar": {
             "outlinewidth": 0,
             "ticks": ""
            },
            "colorscale": [
             [
              0.0,
              "#0d0887"
             ],
             [
              0.1111111111111111,
              "#46039f"
             ],
             [
              0.2222222222222222,
              "#7201a8"
             ],
             [
              0.3333333333333333,
              "#9c179e"
             ],
             [
              0.4444444444444444,
              "#bd3786"
             ],
             [
              0.5555555555555556,
              "#d8576b"
             ],
             [
              0.6666666666666666,
              "#ed7953"
             ],
             [
              0.7777777777777778,
              "#fb9f3a"
             ],
             [
              0.8888888888888888,
              "#fdca26"
             ],
             [
              1.0,
              "#f0f921"
             ]
            ]
           }
          ],
          "choropleth": [
           {
            "type": "choropleth",
            "colorbar": {
             "outlinewidth": 0,
             "ticks": ""
            }
           }
          ],
          "histogram2d": [
           {
            "type": "histogram2d",
            "colorbar": {
             "outlinewidth": 0,
             "ticks": ""
            },
            "colorscale": [
             [
              0.0,
              "#0d0887"
             ],
             [
              0.1111111111111111,
              "#46039f"
             ],
             [
              0.2222222222222222,
              "#7201a8"
             ],
             [
              0.3333333333333333,
              "#9c179e"
             ],
             [
              0.4444444444444444,
              "#bd3786"
             ],
             [
              0.5555555555555556,
              "#d8576b"
             ],
             [
              0.6666666666666666,
              "#ed7953"
             ],
             [
              0.7777777777777778,
              "#fb9f3a"
             ],
             [
              0.8888888888888888,
              "#fdca26"
             ],
             [
              1.0,
              "#f0f921"
             ]
            ]
           }
          ],
          "heatmap": [
           {
            "type": "heatmap",
            "colorbar": {
             "outlinewidth": 0,
             "ticks": ""
            },
            "colorscale": [
             [
              0.0,
              "#0d0887"
             ],
             [
              0.1111111111111111,
              "#46039f"
             ],
             [
              0.2222222222222222,
              "#7201a8"
             ],
             [
              0.3333333333333333,
              "#9c179e"
             ],
             [
              0.4444444444444444,
              "#bd3786"
             ],
             [
              0.5555555555555556,
              "#d8576b"
             ],
             [
              0.6666666666666666,
              "#ed7953"
             ],
             [
              0.7777777777777778,
              "#fb9f3a"
             ],
             [
              0.8888888888888888,
              "#fdca26"
             ],
             [
              1.0,
              "#f0f921"
             ]
            ]
           }
          ],
          "heatmapgl": [
           {
            "type": "heatmapgl",
            "colorbar": {
             "outlinewidth": 0,
             "ticks": ""
            },
            "colorscale": [
             [
              0.0,
              "#0d0887"
             ],
             [
              0.1111111111111111,
              "#46039f"
             ],
             [
              0.2222222222222222,
              "#7201a8"
             ],
             [
              0.3333333333333333,
              "#9c179e"
             ],
             [
              0.4444444444444444,
              "#bd3786"
             ],
             [
              0.5555555555555556,
              "#d8576b"
             ],
             [
              0.6666666666666666,
              "#ed7953"
             ],
             [
              0.7777777777777778,
              "#fb9f3a"
             ],
             [
              0.8888888888888888,
              "#fdca26"
             ],
             [
              1.0,
              "#f0f921"
             ]
            ]
           }
          ],
          "contourcarpet": [
           {
            "type": "contourcarpet",
            "colorbar": {
             "outlinewidth": 0,
             "ticks": ""
            }
           }
          ],
          "contour": [
           {
            "type": "contour",
            "colorbar": {
             "outlinewidth": 0,
             "ticks": ""
            },
            "colorscale": [
             [
              0.0,
              "#0d0887"
             ],
             [
              0.1111111111111111,
              "#46039f"
             ],
             [
              0.2222222222222222,
              "#7201a8"
             ],
             [
              0.3333333333333333,
              "#9c179e"
             ],
             [
              0.4444444444444444,
              "#bd3786"
             ],
             [
              0.5555555555555556,
              "#d8576b"
             ],
             [
              0.6666666666666666,
              "#ed7953"
             ],
             [
              0.7777777777777778,
              "#fb9f3a"
             ],
             [
              0.8888888888888888,
              "#fdca26"
             ],
             [
              1.0,
              "#f0f921"
             ]
            ]
           }
          ],
          "surface": [
           {
            "type": "surface",
            "colorbar": {
             "outlinewidth": 0,
             "ticks": ""
            },
            "colorscale": [
             [
              0.0,
              "#0d0887"
             ],
             [
              0.1111111111111111,
              "#46039f"
             ],
             [
              0.2222222222222222,
              "#7201a8"
             ],
             [
              0.3333333333333333,
              "#9c179e"
             ],
             [
              0.4444444444444444,
              "#bd3786"
             ],
             [
              0.5555555555555556,
              "#d8576b"
             ],
             [
              0.6666666666666666,
              "#ed7953"
             ],
             [
              0.7777777777777778,
              "#fb9f3a"
             ],
             [
              0.8888888888888888,
              "#fdca26"
             ],
             [
              1.0,
              "#f0f921"
             ]
            ]
           }
          ],
          "mesh3d": [
           {
            "type": "mesh3d",
            "colorbar": {
             "outlinewidth": 0,
             "ticks": ""
            }
           }
          ],
          "scatter": [
           {
            "marker": {
             "line": {
              "color": "#283442"
             }
            },
            "type": "scatter"
           }
          ],
          "parcoords": [
           {
            "type": "parcoords",
            "line": {
             "colorbar": {
              "outlinewidth": 0,
              "ticks": ""
             }
            }
           }
          ],
          "scatterpolargl": [
           {
            "type": "scatterpolargl",
            "marker": {
             "colorbar": {
              "outlinewidth": 0,
              "ticks": ""
             }
            }
           }
          ],
          "bar": [
           {
            "error_x": {
             "color": "#f2f5fa"
            },
            "error_y": {
             "color": "#f2f5fa"
            },
            "marker": {
             "line": {
              "color": "rgb(17,17,17)",
              "width": 0.5
             },
             "pattern": {
              "fillmode": "overlay",
              "size": 10,
              "solidity": 0.2
             }
            },
            "type": "bar"
           }
          ],
          "scattergeo": [
           {
            "type": "scattergeo",
            "marker": {
             "colorbar": {
              "outlinewidth": 0,
              "ticks": ""
             }
            }
           }
          ],
          "scatterpolar": [
           {
            "type": "scatterpolar",
            "marker": {
             "colorbar": {
              "outlinewidth": 0,
              "ticks": ""
             }
            }
           }
          ],
          "histogram": [
           {
            "marker": {
             "pattern": {
              "fillmode": "overlay",
              "size": 10,
              "solidity": 0.2
             }
            },
            "type": "histogram"
           }
          ],
          "scattergl": [
           {
            "marker": {
             "line": {
              "color": "#283442"
             }
            },
            "type": "scattergl"
           }
          ],
          "scatter3d": [
           {
            "type": "scatter3d",
            "line": {
             "colorbar": {
              "outlinewidth": 0,
              "ticks": ""
             }
            },
            "marker": {
             "colorbar": {
              "outlinewidth": 0,
              "ticks": ""
             }
            }
           }
          ],
          "scattermapbox": [
           {
            "type": "scattermapbox",
            "marker": {
             "colorbar": {
              "outlinewidth": 0,
              "ticks": ""
             }
            }
           }
          ],
          "scatterternary": [
           {
            "type": "scatterternary",
            "marker": {
             "colorbar": {
              "outlinewidth": 0,
              "ticks": ""
             }
            }
           }
          ],
          "scattercarpet": [
           {
            "type": "scattercarpet",
            "marker": {
             "colorbar": {
              "outlinewidth": 0,
              "ticks": ""
             }
            }
           }
          ],
          "carpet": [
           {
            "aaxis": {
             "endlinecolor": "#A2B1C6",
             "gridcolor": "#506784",
             "linecolor": "#506784",
             "minorgridcolor": "#506784",
             "startlinecolor": "#A2B1C6"
            },
            "baxis": {
             "endlinecolor": "#A2B1C6",
             "gridcolor": "#506784",
             "linecolor": "#506784",
             "minorgridcolor": "#506784",
             "startlinecolor": "#A2B1C6"
            },
            "type": "carpet"
           }
          ],
          "table": [
           {
            "cells": {
             "fill": {
              "color": "#506784"
             },
             "line": {
              "color": "rgb(17,17,17)"
             }
            },
            "header": {
             "fill": {
              "color": "#2a3f5f"
             },
             "line": {
              "color": "rgb(17,17,17)"
             }
            },
            "type": "table"
           }
          ],
          "barpolar": [
           {
            "marker": {
             "line": {
              "color": "rgb(17,17,17)",
              "width": 0.5
             },
             "pattern": {
              "fillmode": "overlay",
              "size": 10,
              "solidity": 0.2
             }
            },
            "type": "barpolar"
           }
          ],
          "pie": [
           {
            "automargin": true,
            "type": "pie"
           }
          ]
         },
         "layout": {
          "autotypenumbers": "strict",
          "colorway": [
           "#636efa",
           "#EF553B",
           "#00cc96",
           "#ab63fa",
           "#FFA15A",
           "#19d3f3",
           "#FF6692",
           "#B6E880",
           "#FF97FF",
           "#FECB52"
          ],
          "font": {
           "color": "#f2f5fa"
          },
          "hovermode": "closest",
          "hoverlabel": {
           "align": "left"
          },
          "paper_bgcolor": "rgb(17,17,17)",
          "plot_bgcolor": "rgb(17,17,17)",
          "polar": {
           "bgcolor": "rgb(17,17,17)",
           "angularaxis": {
            "gridcolor": "#506784",
            "linecolor": "#506784",
            "ticks": ""
           },
           "radialaxis": {
            "gridcolor": "#506784",
            "linecolor": "#506784",
            "ticks": ""
           }
          },
          "ternary": {
           "bgcolor": "rgb(17,17,17)",
           "aaxis": {
            "gridcolor": "#506784",
            "linecolor": "#506784",
            "ticks": ""
           },
           "baxis": {
            "gridcolor": "#506784",
            "linecolor": "#506784",
            "ticks": ""
           },
           "caxis": {
            "gridcolor": "#506784",
            "linecolor": "#506784",
            "ticks": ""
           }
          },
          "coloraxis": {
           "colorbar": {
            "outlinewidth": 0,
            "ticks": ""
           }
          },
          "colorscale": {
           "sequential": [
            [
             0.0,
             "#0d0887"
            ],
            [
             0.1111111111111111,
             "#46039f"
            ],
            [
             0.2222222222222222,
             "#7201a8"
            ],
            [
             0.3333333333333333,
             "#9c179e"
            ],
            [
             0.4444444444444444,
             "#bd3786"
            ],
            [
             0.5555555555555556,
             "#d8576b"
            ],
            [
             0.6666666666666666,
             "#ed7953"
            ],
            [
             0.7777777777777778,
             "#fb9f3a"
            ],
            [
             0.8888888888888888,
             "#fdca26"
            ],
            [
             1.0,
             "#f0f921"
            ]
           ],
           "sequentialminus": [
            [
             0.0,
             "#0d0887"
            ],
            [
             0.1111111111111111,
             "#46039f"
            ],
            [
             0.2222222222222222,
             "#7201a8"
            ],
            [
             0.3333333333333333,
             "#9c179e"
            ],
            [
             0.4444444444444444,
             "#bd3786"
            ],
            [
             0.5555555555555556,
             "#d8576b"
            ],
            [
             0.6666666666666666,
             "#ed7953"
            ],
            [
             0.7777777777777778,
             "#fb9f3a"
            ],
            [
             0.8888888888888888,
             "#fdca26"
            ],
            [
             1.0,
             "#f0f921"
            ]
           ],
           "diverging": [
            [
             0,
             "#8e0152"
            ],
            [
             0.1,
             "#c51b7d"
            ],
            [
             0.2,
             "#de77ae"
            ],
            [
             0.3,
             "#f1b6da"
            ],
            [
             0.4,
             "#fde0ef"
            ],
            [
             0.5,
             "#f7f7f7"
            ],
            [
             0.6,
             "#e6f5d0"
            ],
            [
             0.7,
             "#b8e186"
            ],
            [
             0.8,
             "#7fbc41"
            ],
            [
             0.9,
             "#4d9221"
            ],
            [
             1,
             "#276419"
            ]
           ]
          },
          "xaxis": {
           "gridcolor": "#283442",
           "linecolor": "#506784",
           "ticks": "",
           "title": {
            "standoff": 15
           },
           "zerolinecolor": "#283442",
           "automargin": true,
           "zerolinewidth": 2
          },
          "yaxis": {
           "gridcolor": "#283442",
           "linecolor": "#506784",
           "ticks": "",
           "title": {
            "standoff": 15
           },
           "zerolinecolor": "#283442",
           "automargin": true,
           "zerolinewidth": 2
          },
          "scene": {
           "xaxis": {
            "backgroundcolor": "rgb(17,17,17)",
            "gridcolor": "#506784",
            "linecolor": "#506784",
            "showbackground": true,
            "ticks": "",
            "zerolinecolor": "#C8D4E3",
            "gridwidth": 2
           },
           "yaxis": {
            "backgroundcolor": "rgb(17,17,17)",
            "gridcolor": "#506784",
            "linecolor": "#506784",
            "showbackground": true,
            "ticks": "",
            "zerolinecolor": "#C8D4E3",
            "gridwidth": 2
           },
           "zaxis": {
            "backgroundcolor": "rgb(17,17,17)",
            "gridcolor": "#506784",
            "linecolor": "#506784",
            "showbackground": true,
            "ticks": "",
            "zerolinecolor": "#C8D4E3",
            "gridwidth": 2
           }
          },
          "shapedefaults": {
           "line": {
            "color": "#f2f5fa"
           }
          },
          "annotationdefaults": {
           "arrowcolor": "#f2f5fa",
           "arrowhead": 0,
           "arrowwidth": 1
          },
          "geo": {
           "bgcolor": "rgb(17,17,17)",
           "landcolor": "rgb(17,17,17)",
           "subunitcolor": "#506784",
           "showland": true,
           "showlakes": true,
           "lakecolor": "rgb(17,17,17)"
          },
          "title": {
           "x": 0.05
          },
          "updatemenudefaults": {
           "bgcolor": "#506784",
           "borderwidth": 0
          },
          "sliderdefaults": {
           "bgcolor": "#C8D4E3",
           "borderwidth": 1,
           "bordercolor": "rgb(17,17,17)",
           "tickwidth": 0
          },
          "mapbox": {
           "style": "dark"
          }
         }
        },
        "xaxis": {
         "anchor": "y",
         "domain": [
          0.0,
          1.0
         ],
         "title": {
          "text": "plans_pct"
         }
        },
        "yaxis": {
         "anchor": "x",
         "domain": [
          0.0,
          1.0
         ],
         "title": {
          "text": "eps"
         }
        },
        "legend": {
         "tracegroupgap": 0,
         "itemsizing": "constant"
        },
        "margin": {
         "t": 60
        },
        "width": 700,
        "height": 700
       },
       "config": {
        "plotlyServerURL": "https://plot.ly"
       }
      },
      "text/html": "<div>                            <div id=\"7ab3a831-26a1-4c7b-bc0e-4efdae61608b\" class=\"plotly-graph-div\" style=\"height:700px; width:700px;\"></div>            <script type=\"text/javascript\">                require([\"plotly\"], function(Plotly) {                    window.PLOTLYENV=window.PLOTLYENV || {};                                    if (document.getElementById(\"7ab3a831-26a1-4c7b-bc0e-4efdae61608b\")) {                    Plotly.newPlot(                        \"7ab3a831-26a1-4c7b-bc0e-4efdae61608b\",                        [{\"hovertemplate\":\"plans_pct=%{x}\\u003cbr\\u003eeps=%{y}\\u003cbr\\u003efinal_score=%{marker.size}\\u003cextra\\u003e\\u003c\\u002fextra\\u003e\",\"legendgroup\":\"\",\"marker\":{\"color\":\"#636efa\",\"size\":[19.186666666666667,19.186666666666667,23.4,65.85333333333334,67.74666666666667,65.06666666666666,65.85333333333334,65.85333333333334,65.85333333333334,16.92,42.906666666666666,42.906666666666666,46.13333333333333,74.89333333333333,76.30666666666667,74.34666666666666,74.89333333333333,74.89333333333333,74.89333333333333,41.96,65.53333333333333,65.53333333333333,66.08,83.84,85.01333333333334,83.72,83.84,83.84,83.84,64.90666666666667,83.14666666666666,83.14666666666666,83.14666666666666,90.88,91.84,90.88,90.88,90.88,90.88,81.54666666666667,98.64,98.64,98.64,98.0,98.0,98.0,98.0,98.0,98.0,98.0],\"sizemode\":\"area\",\"sizeref\":0.2466,\"symbol\":\"circle\"},\"mode\":\"markers\",\"name\":\"\",\"orientation\":\"v\",\"showlegend\":false,\"x\":[0,0,0,0,0,0,0,0,0,0,25,25,25,25,25,25,25,25,25,25,50,50,50,50,50,50,50,50,50,50,75,75,75,75,75,75,75,75,75,75,100,100,100,100,100,100,100,100,100,100],\"xaxis\":\"x\",\"y\":[58,119,181,242,302,362,421,480,535,593,58,119,181,242,302,362,421,480,535,593,58,119,181,242,302,362,421,480,535,593,58,119,181,242,302,362,421,480,535,593,58,119,181,242,302,362,421,480,535,593],\"yaxis\":\"y\",\"type\":\"scatter\"}],                        {\"template\":{\"data\":{\"histogram2dcontour\":[{\"type\":\"histogram2dcontour\",\"colorbar\":{\"outlinewidth\":0,\"ticks\":\"\"},\"colorscale\":[[0.0,\"#0d0887\"],[0.1111111111111111,\"#46039f\"],[0.2222222222222222,\"#7201a8\"],[0.3333333333333333,\"#9c179e\"],[0.4444444444444444,\"#bd3786\"],[0.5555555555555556,\"#d8576b\"],[0.6666666666666666,\"#ed7953\"],[0.7777777777777778,\"#fb9f3a\"],[0.8888888888888888,\"#fdca26\"],[1.0,\"#f0f921\"]]}],\"choropleth\":[{\"type\":\"choropleth\",\"colorbar\":{\"outlinewidth\":0,\"ticks\":\"\"}}],\"histogram2d\":[{\"type\":\"histogram2d\",\"colorbar\":{\"outlinewidth\":0,\"ticks\":\"\"},\"colorscale\":[[0.0,\"#0d0887\"],[0.1111111111111111,\"#46039f\"],[0.2222222222222222,\"#7201a8\"],[0.3333333333333333,\"#9c179e\"],[0.4444444444444444,\"#bd3786\"],[0.5555555555555556,\"#d8576b\"],[0.6666666666666666,\"#ed7953\"],[0.7777777777777778,\"#fb9f3a\"],[0.8888888888888888,\"#fdca26\"],[1.0,\"#f0f921\"]]}],\"heatmap\":[{\"type\":\"heatmap\",\"colorbar\":{\"outlinewidth\":0,\"ticks\":\"\"},\"colorscale\":[[0.0,\"#0d0887\"],[0.1111111111111111,\"#46039f\"],[0.2222222222222222,\"#7201a8\"],[0.3333333333333333,\"#9c179e\"],[0.4444444444444444,\"#bd3786\"],[0.5555555555555556,\"#d8576b\"],[0.6666666666666666,\"#ed7953\"],[0.7777777777777778,\"#fb9f3a\"],[0.8888888888888888,\"#fdca26\"],[1.0,\"#f0f921\"]]}],\"heatmapgl\":[{\"type\":\"heatmapgl\",\"colorbar\":{\"outlinewidth\":0,\"ticks\":\"\"},\"colorscale\":[[0.0,\"#0d0887\"],[0.1111111111111111,\"#46039f\"],[0.2222222222222222,\"#7201a8\"],[0.3333333333333333,\"#9c179e\"],[0.4444444444444444,\"#bd3786\"],[0.5555555555555556,\"#d8576b\"],[0.6666666666666666,\"#ed7953\"],[0.7777777777777778,\"#fb9f3a\"],[0.8888888888888888,\"#fdca26\"],[1.0,\"#f0f921\"]]}],\"contourcarpet\":[{\"type\":\"contourcarpet\",\"colorbar\":{\"outlinewidth\":0,\"ticks\":\"\"}}],\"contour\":[{\"type\":\"contour\",\"colorbar\":{\"outlinewidth\":0,\"ticks\":\"\"},\"colorscale\":[[0.0,\"#0d0887\"],[0.1111111111111111,\"#46039f\"],[0.2222222222222222,\"#7201a8\"],[0.3333333333333333,\"#9c179e\"],[0.4444444444444444,\"#bd3786\"],[0.5555555555555556,\"#d8576b\"],[0.6666666666666666,\"#ed7953\"],[0.7777777777777778,\"#fb9f3a\"],[0.8888888888888888,\"#fdca26\"],[1.0,\"#f0f921\"]]}],\"surface\":[{\"type\":\"surface\",\"colorbar\":{\"outlinewidth\":0,\"ticks\":\"\"},\"colorscale\":[[0.0,\"#0d0887\"],[0.1111111111111111,\"#46039f\"],[0.2222222222222222,\"#7201a8\"],[0.3333333333333333,\"#9c179e\"],[0.4444444444444444,\"#bd3786\"],[0.5555555555555556,\"#d8576b\"],[0.6666666666666666,\"#ed7953\"],[0.7777777777777778,\"#fb9f3a\"],[0.8888888888888888,\"#fdca26\"],[1.0,\"#f0f921\"]]}],\"mesh3d\":[{\"type\":\"mesh3d\",\"colorbar\":{\"outlinewidth\":0,\"ticks\":\"\"}}],\"scatter\":[{\"marker\":{\"line\":{\"color\":\"#283442\"}},\"type\":\"scatter\"}],\"parcoords\":[{\"type\":\"parcoords\",\"line\":{\"colorbar\":{\"outlinewidth\":0,\"ticks\":\"\"}}}],\"scatterpolargl\":[{\"type\":\"scatterpolargl\",\"marker\":{\"colorbar\":{\"outlinewidth\":0,\"ticks\":\"\"}}}],\"bar\":[{\"error_x\":{\"color\":\"#f2f5fa\"},\"error_y\":{\"color\":\"#f2f5fa\"},\"marker\":{\"line\":{\"color\":\"rgb(17,17,17)\",\"width\":0.5},\"pattern\":{\"fillmode\":\"overlay\",\"size\":10,\"solidity\":0.2}},\"type\":\"bar\"}],\"scattergeo\":[{\"type\":\"scattergeo\",\"marker\":{\"colorbar\":{\"outlinewidth\":0,\"ticks\":\"\"}}}],\"scatterpolar\":[{\"type\":\"scatterpolar\",\"marker\":{\"colorbar\":{\"outlinewidth\":0,\"ticks\":\"\"}}}],\"histogram\":[{\"marker\":{\"pattern\":{\"fillmode\":\"overlay\",\"size\":10,\"solidity\":0.2}},\"type\":\"histogram\"}],\"scattergl\":[{\"marker\":{\"line\":{\"color\":\"#283442\"}},\"type\":\"scattergl\"}],\"scatter3d\":[{\"type\":\"scatter3d\",\"line\":{\"colorbar\":{\"outlinewidth\":0,\"ticks\":\"\"}},\"marker\":{\"colorbar\":{\"outlinewidth\":0,\"ticks\":\"\"}}}],\"scattermapbox\":[{\"type\":\"scattermapbox\",\"marker\":{\"colorbar\":{\"outlinewidth\":0,\"ticks\":\"\"}}}],\"scatterternary\":[{\"type\":\"scatterternary\",\"marker\":{\"colorbar\":{\"outlinewidth\":0,\"ticks\":\"\"}}}],\"scattercarpet\":[{\"type\":\"scattercarpet\",\"marker\":{\"colorbar\":{\"outlinewidth\":0,\"ticks\":\"\"}}}],\"carpet\":[{\"aaxis\":{\"endlinecolor\":\"#A2B1C6\",\"gridcolor\":\"#506784\",\"linecolor\":\"#506784\",\"minorgridcolor\":\"#506784\",\"startlinecolor\":\"#A2B1C6\"},\"baxis\":{\"endlinecolor\":\"#A2B1C6\",\"gridcolor\":\"#506784\",\"linecolor\":\"#506784\",\"minorgridcolor\":\"#506784\",\"startlinecolor\":\"#A2B1C6\"},\"type\":\"carpet\"}],\"table\":[{\"cells\":{\"fill\":{\"color\":\"#506784\"},\"line\":{\"color\":\"rgb(17,17,17)\"}},\"header\":{\"fill\":{\"color\":\"#2a3f5f\"},\"line\":{\"color\":\"rgb(17,17,17)\"}},\"type\":\"table\"}],\"barpolar\":[{\"marker\":{\"line\":{\"color\":\"rgb(17,17,17)\",\"width\":0.5},\"pattern\":{\"fillmode\":\"overlay\",\"size\":10,\"solidity\":0.2}},\"type\":\"barpolar\"}],\"pie\":[{\"automargin\":true,\"type\":\"pie\"}]},\"layout\":{\"autotypenumbers\":\"strict\",\"colorway\":[\"#636efa\",\"#EF553B\",\"#00cc96\",\"#ab63fa\",\"#FFA15A\",\"#19d3f3\",\"#FF6692\",\"#B6E880\",\"#FF97FF\",\"#FECB52\"],\"font\":{\"color\":\"#f2f5fa\"},\"hovermode\":\"closest\",\"hoverlabel\":{\"align\":\"left\"},\"paper_bgcolor\":\"rgb(17,17,17)\",\"plot_bgcolor\":\"rgb(17,17,17)\",\"polar\":{\"bgcolor\":\"rgb(17,17,17)\",\"angularaxis\":{\"gridcolor\":\"#506784\",\"linecolor\":\"#506784\",\"ticks\":\"\"},\"radialaxis\":{\"gridcolor\":\"#506784\",\"linecolor\":\"#506784\",\"ticks\":\"\"}},\"ternary\":{\"bgcolor\":\"rgb(17,17,17)\",\"aaxis\":{\"gridcolor\":\"#506784\",\"linecolor\":\"#506784\",\"ticks\":\"\"},\"baxis\":{\"gridcolor\":\"#506784\",\"linecolor\":\"#506784\",\"ticks\":\"\"},\"caxis\":{\"gridcolor\":\"#506784\",\"linecolor\":\"#506784\",\"ticks\":\"\"}},\"coloraxis\":{\"colorbar\":{\"outlinewidth\":0,\"ticks\":\"\"}},\"colorscale\":{\"sequential\":[[0.0,\"#0d0887\"],[0.1111111111111111,\"#46039f\"],[0.2222222222222222,\"#7201a8\"],[0.3333333333333333,\"#9c179e\"],[0.4444444444444444,\"#bd3786\"],[0.5555555555555556,\"#d8576b\"],[0.6666666666666666,\"#ed7953\"],[0.7777777777777778,\"#fb9f3a\"],[0.8888888888888888,\"#fdca26\"],[1.0,\"#f0f921\"]],\"sequentialminus\":[[0.0,\"#0d0887\"],[0.1111111111111111,\"#46039f\"],[0.2222222222222222,\"#7201a8\"],[0.3333333333333333,\"#9c179e\"],[0.4444444444444444,\"#bd3786\"],[0.5555555555555556,\"#d8576b\"],[0.6666666666666666,\"#ed7953\"],[0.7777777777777778,\"#fb9f3a\"],[0.8888888888888888,\"#fdca26\"],[1.0,\"#f0f921\"]],\"diverging\":[[0,\"#8e0152\"],[0.1,\"#c51b7d\"],[0.2,\"#de77ae\"],[0.3,\"#f1b6da\"],[0.4,\"#fde0ef\"],[0.5,\"#f7f7f7\"],[0.6,\"#e6f5d0\"],[0.7,\"#b8e186\"],[0.8,\"#7fbc41\"],[0.9,\"#4d9221\"],[1,\"#276419\"]]},\"xaxis\":{\"gridcolor\":\"#283442\",\"linecolor\":\"#506784\",\"ticks\":\"\",\"title\":{\"standoff\":15},\"zerolinecolor\":\"#283442\",\"automargin\":true,\"zerolinewidth\":2},\"yaxis\":{\"gridcolor\":\"#283442\",\"linecolor\":\"#506784\",\"ticks\":\"\",\"title\":{\"standoff\":15},\"zerolinecolor\":\"#283442\",\"automargin\":true,\"zerolinewidth\":2},\"scene\":{\"xaxis\":{\"backgroundcolor\":\"rgb(17,17,17)\",\"gridcolor\":\"#506784\",\"linecolor\":\"#506784\",\"showbackground\":true,\"ticks\":\"\",\"zerolinecolor\":\"#C8D4E3\",\"gridwidth\":2},\"yaxis\":{\"backgroundcolor\":\"rgb(17,17,17)\",\"gridcolor\":\"#506784\",\"linecolor\":\"#506784\",\"showbackground\":true,\"ticks\":\"\",\"zerolinecolor\":\"#C8D4E3\",\"gridwidth\":2},\"zaxis\":{\"backgroundcolor\":\"rgb(17,17,17)\",\"gridcolor\":\"#506784\",\"linecolor\":\"#506784\",\"showbackground\":true,\"ticks\":\"\",\"zerolinecolor\":\"#C8D4E3\",\"gridwidth\":2}},\"shapedefaults\":{\"line\":{\"color\":\"#f2f5fa\"}},\"annotationdefaults\":{\"arrowcolor\":\"#f2f5fa\",\"arrowhead\":0,\"arrowwidth\":1},\"geo\":{\"bgcolor\":\"rgb(17,17,17)\",\"landcolor\":\"rgb(17,17,17)\",\"subunitcolor\":\"#506784\",\"showland\":true,\"showlakes\":true,\"lakecolor\":\"rgb(17,17,17)\"},\"title\":{\"x\":0.05},\"updatemenudefaults\":{\"bgcolor\":\"#506784\",\"borderwidth\":0},\"sliderdefaults\":{\"bgcolor\":\"#C8D4E3\",\"borderwidth\":1,\"bordercolor\":\"rgb(17,17,17)\",\"tickwidth\":0},\"mapbox\":{\"style\":\"dark\"}}},\"xaxis\":{\"anchor\":\"y\",\"domain\":[0.0,1.0],\"title\":{\"text\":\"plans_pct\"}},\"yaxis\":{\"anchor\":\"x\",\"domain\":[0.0,1.0],\"title\":{\"text\":\"eps\"}},\"legend\":{\"tracegroupgap\":0,\"itemsizing\":\"constant\"},\"margin\":{\"t\":60},\"width\":700,\"height\":700},                        {\"responsive\": true}                    ).then(function(){\n                            \nvar gd = document.getElementById('7ab3a831-26a1-4c7b-bc0e-4efdae61608b');\nvar x = new MutationObserver(function (mutations, observer) {{\n        var display = window.getComputedStyle(gd).display;\n        if (!display || display === 'none') {{\n            console.log([gd, 'removed!']);\n            Plotly.purge(gd);\n            observer.disconnect();\n        }}\n}});\n\n// Listen for the removal of the full notebook cells\nvar notebookContainer = gd.closest('#notebook-container');\nif (notebookContainer) {{\n    x.observe(notebookContainer, {childList: true});\n}}\n\n// Listen for the clearing of the current output cell\nvar outputEl = gd.closest('.output');\nif (outputEl) {{\n    x.observe(outputEl, {childList: true});\n}}\n\n                        })                };                });            </script>        </div>"
     },
     "metadata": {},
     "output_type": "display_data"
    }
   ],
   "source": [
    "curve_points_df = results_df[['plans_pct', 'eps', 'final_score']]\n",
    "curve_points_df = curve_points_df.groupby(['plans_pct', 'eps']).agg({'final_score': 'mean'}).reset_index()\n",
    "fig = px.scatter(curve_points_df, x=\"plans_pct\", y=\"eps\", size='final_score')\n",
    "fig.update_layout(width=700,height=700)\n",
    "fig.show()"
   ],
   "metadata": {
    "collapsed": false,
    "ExecuteTime": {
     "start_time": "2023-09-20T20:58:22.512209Z",
     "end_time": "2023-09-20T20:58:22.686791Z"
    }
   }
  },
  {
   "cell_type": "code",
   "execution_count": null,
   "outputs": [],
   "source": [],
   "metadata": {
    "collapsed": false
   }
  }
 ],
 "metadata": {
  "kernelspec": {
   "display_name": "Python 3",
   "language": "python",
   "name": "python3"
  },
  "language_info": {
   "codemirror_mode": {
    "name": "ipython",
    "version": 2
   },
   "file_extension": ".py",
   "mimetype": "text/x-python",
   "name": "python",
   "nbconvert_exporter": "python",
   "pygments_lexer": "ipython2",
   "version": "2.7.6"
  }
 },
 "nbformat": 4,
 "nbformat_minor": 0
}
