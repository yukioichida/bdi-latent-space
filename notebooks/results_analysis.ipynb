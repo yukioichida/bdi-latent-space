{
 "cells": [
  {
   "cell_type": "code",
   "execution_count": 1,
   "metadata": {
    "collapsed": true,
    "ExecuteTime": {
     "start_time": "2023-09-05T09:30:08.589431Z",
     "end_time": "2023-09-05T09:30:08.840952Z"
    }
   },
   "outputs": [
    {
     "data": {
      "text/plain": "   plan_found  variation  error  score  complete  num_plans  plan_library_size\n0           0         21   True      0     False          0                 24\n1           1         22  False    100      True          6                 24\n2           1         23   True      3     False          4                 24\n3           1         24  False    100      True          8                 24\n4           1         25   True      3     False          5                 24",
      "text/html": "<div>\n<style scoped>\n    .dataframe tbody tr th:only-of-type {\n        vertical-align: middle;\n    }\n\n    .dataframe tbody tr th {\n        vertical-align: top;\n    }\n\n    .dataframe thead th {\n        text-align: right;\n    }\n</style>\n<table border=\"1\" class=\"dataframe\">\n  <thead>\n    <tr style=\"text-align: right;\">\n      <th></th>\n      <th>plan_found</th>\n      <th>variation</th>\n      <th>error</th>\n      <th>score</th>\n      <th>complete</th>\n      <th>num_plans</th>\n      <th>plan_library_size</th>\n    </tr>\n  </thead>\n  <tbody>\n    <tr>\n      <th>0</th>\n      <td>0</td>\n      <td>21</td>\n      <td>True</td>\n      <td>0</td>\n      <td>False</td>\n      <td>0</td>\n      <td>24</td>\n    </tr>\n    <tr>\n      <th>1</th>\n      <td>1</td>\n      <td>22</td>\n      <td>False</td>\n      <td>100</td>\n      <td>True</td>\n      <td>6</td>\n      <td>24</td>\n    </tr>\n    <tr>\n      <th>2</th>\n      <td>1</td>\n      <td>23</td>\n      <td>True</td>\n      <td>3</td>\n      <td>False</td>\n      <td>4</td>\n      <td>24</td>\n    </tr>\n    <tr>\n      <th>3</th>\n      <td>1</td>\n      <td>24</td>\n      <td>False</td>\n      <td>100</td>\n      <td>True</td>\n      <td>8</td>\n      <td>24</td>\n    </tr>\n    <tr>\n      <th>4</th>\n      <td>1</td>\n      <td>25</td>\n      <td>True</td>\n      <td>3</td>\n      <td>False</td>\n      <td>5</td>\n      <td>24</td>\n    </tr>\n  </tbody>\n</table>\n</div>"
     },
     "execution_count": 1,
     "metadata": {},
     "output_type": "execute_result"
    }
   ],
   "source": [
    "import pandas as pd\n",
    "\n",
    "results_df = pd.read_csv(\"../results.csv\")\n",
    "results_df.head()"
   ]
  },
  {
   "cell_type": "code",
   "execution_count": 2,
   "outputs": [
    {
     "name": "stdout",
     "output_type": "stream",
     "text": [
      "Plan Library size: 15\n",
      "Score: 11.444444444444445\n",
      "Plan Library size: 18\n",
      "Score: 33.666666666666664\n",
      "Plan Library size: 21\n",
      "Score: 55.888888888888886\n",
      "Plan Library size: 24\n",
      "Score: 67.33333333333333\n"
     ]
    },
    {
     "name": "stderr",
     "output_type": "stream",
     "text": [
      "/tmp/ipykernel_22018/3846244346.py:1: FutureWarning: In a future version of pandas, a length 1 tuple will be returned when iterating over a groupby with a grouper equal to a list of length 1. Don't supply a list with a single grouper to avoid this warning.\n",
      "  for group, group_df in results_df.groupby([\"plan_library_size\"]):\n"
     ]
    }
   ],
   "source": [
    "size = []\n",
    "score = []\n",
    "for group, group_df in results_df.groupby([\"plan_library_size\"]):\n",
    "    print(f\"Plan Library size: {group}\")\n",
    "    print(f\"Score: {group_df['score'].mean()}\")"
   ],
   "metadata": {
    "collapsed": false,
    "ExecuteTime": {
     "start_time": "2023-09-05T09:30:08.991038Z",
     "end_time": "2023-09-05T09:30:09.070887Z"
    }
   }
  },
  {
   "cell_type": "code",
   "execution_count": null,
   "outputs": [],
   "source": [
    "import matplotlib.pyplot as plt\n",
    "\n",
    "import numpy as np\n",
    "\n",
    "plt"
   ],
   "metadata": {
    "collapsed": false
   }
  }
 ],
 "metadata": {
  "kernelspec": {
   "display_name": "Python 3",
   "language": "python",
   "name": "python3"
  },
  "language_info": {
   "codemirror_mode": {
    "name": "ipython",
    "version": 2
   },
   "file_extension": ".py",
   "mimetype": "text/x-python",
   "name": "python",
   "nbconvert_exporter": "python",
   "pygments_lexer": "ipython2",
   "version": "2.7.6"
  }
 },
 "nbformat": 4,
 "nbformat_minor": 0
}
