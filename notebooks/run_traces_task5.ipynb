{
 "cells": [
  {
   "cell_type": "code",
   "execution_count": 2,
   "metadata": {
    "collapsed": true,
    "ExecuteTime": {
     "start_time": "2023-08-24T14:43:07.983822Z",
     "end_time": "2023-08-24T14:43:08.391897Z"
    }
   },
   "outputs": [],
   "source": [
    "from scienceworld import ScienceWorldEnv\n",
    "import re\n",
    "\n",
    "import pandas as pd"
   ]
  },
  {
   "cell_type": "markdown",
   "source": [
    "# Task 5 - your_task_is_to_use_chemistry_to_create_yellow-orange_paint"
   ],
   "metadata": {
    "collapsed": false
   }
  },
  {
   "cell_type": "markdown",
   "source": [
    "## Green"
   ],
   "metadata": {
    "collapsed": false
   }
  },
  {
   "cell_type": "code",
   "execution_count": 26,
   "outputs": [
    {
     "data": {
      "text/plain": "['pour cup containing red paint in art studio in cup containing nothing',\n 'pour cup containing blue paint in art studio in cup containing red paint in table',\n 'mix cup containing blue paint and red paint',\n 'focus on paint in cup containing violet paint',\n 'wait1',\n 'pour cup containing violet paint in cup containing violet paint',\n 'open cupboard',\n 'pour cup containing red paint in cup containing violet paint',\n 'mix cup containing red paint and violet paint',\n 'focus on paint in cup containing violet-red paint']"
     },
     "execution_count": 26,
     "metadata": {},
     "output_type": "execute_result"
    }
   ],
   "source": [
    "#\n",
    "variation = 27\n",
    "# 1 and 7 is generating the corect plan\n",
    "task_df = pd.read_csv(f\"../plans/plans_csv/task-5-chemistry-mix-paint-(tertiary-color)/your_task_is_to_use_chemistry_to_create_violet-red_paint/{variation}.csv\")\n",
    "task_df['action'].values.tolist()"
   ],
   "metadata": {
    "collapsed": false,
    "ExecuteTime": {
     "start_time": "2023-08-24T17:54:22.447034Z",
     "end_time": "2023-08-24T17:54:22.516069Z"
    }
   }
  },
  {
   "cell_type": "code",
   "execution_count": 27,
   "outputs": [
    {
     "name": "stdout",
     "output_type": "stream",
     "text": [
      "Your task is to use chemistry to create violet-red paint. When you are part-way done, focus on the intermediate (secondary color) paint you created.  When you are completely done, focus on the violet paint.\n",
      "---- Step 0 | action: pour cup containing red paint in art studio in cup containing nothing | Finish False | reward 0 -----\n",
      "You pour the contents of the wood cup into the glass cup.\n",
      "---- Step 1 | action: pour cup containing blue paint in art studio in cup containing red paint in table | Finish False | reward 3 -----\n",
      "You pour the contents of the wood cup into the glass cup.\n",
      "---- Step 2 | action: mix cup containing blue paint and red paint | Finish False | reward 10 -----\n",
      "Red and blue paint mix to produce violet paint.\n",
      "---- Step 3 | action: focus on paint in cup containing violet paint | Finish False | reward 50 -----\n",
      "You focus on the violet paint.\n",
      "---- Step 4 | action: wait1 | Finish False | reward 0 -----\n",
      "You decide to wait for 1 iterations.\n",
      "---- Step 5 | action: pour cup containing violet paint in cup containing violet paint | Finish False | reward 0 -----\n",
      "You can't move something into itself.\n",
      "---- Step 6 | action: open cupboard | Finish False | reward 0 -----\n",
      "The large cupboard is now open.\n",
      "---- Step 7 | action: pour cup containing red paint in cup containing violet paint | Finish False | reward 3 -----\n",
      "You pour the contents of the wood cup into the glass cup.\n",
      "---- Step 8 | action: mix cup containing red paint and violet paint | Finish False | reward 4 -----\n",
      "Violet and red paint mix to produce violet-red paint.\n",
      "---- Step 9 | action: focus on paint in cup containing violet-red paint | Finish True | reward 23 -----\n",
      "You focus on the violet-red paint.\n",
      "This room is called the art studio. In it, you see: \n",
      "\tthe agent\n",
      "\ta substance called air\n",
      "\ta large cupboard. The large cupboard door is open. In the large cupboard is: a drawer, a wood cup (containing yellow paint), a wood cup (containing nothing), a wood cup (containing blue paint).\n",
      "\ta table. On the table is: a glass cup (containing violet-red paint).\n",
      "\ta wood cup (containing nothing)\n",
      "\ta wood cup (containing yellow paint)\n",
      "\ta wood cup (containing nothing)\n",
      "You also see:\n",
      "\tA door to the hallway (that is closed)\n",
      "\n",
      "Finished: True\n",
      "Completed keys: tertiary_red paint, secondary, tertiary_violet paint\n",
      "----------------------------------------------------------------------------------------------------\n",
      "Sequential Subgoals:\n",
      "----------------------------------------------------------------------------------------------------\n",
      "0\ttrue\t                                GoalFind\tfocus on the intermediate mixing result (violet paint)\n",
      "1\ttrue\t                                GoalFind\tfocus on the final mixing result (violet-red paint)\n",
      "----------------------------------------------------------------------------------------------------\n",
      "Unordered and Optional Subgoals:\n",
      "----------------------------------------------------------------------------------------------------\n",
      "0\tfalse\t                   GoalMoveToNewLocation\tmove to a new location (unless starting in task location)\n",
      "1\tfalse\t                      GoalMoveToLocation\tmove to the location of the paint\n",
      "2\ttrue\t                    GoalInRoomWithObject\tbe in same location as red paint\n",
      "3\ttrue\t                    GoalInRoomWithObject\tbe in same location as blue paint\n",
      "4\ttrue\t            GoalObjectsInSingleContainer\thave all ingredients (secondary) alone in a single container\n",
      "5\ttrue\t                    GoalInRoomWithObject\tbe in same location as (secondary) violet paint\n",
      "6\ttrue\t                    GoalInRoomWithObject\tbe in same location as (tertiary) violet paint\n",
      "7\ttrue\t                    GoalInRoomWithObject\tbe in same location as (tertiary) red paint\n",
      "8\ttrue\t            GoalObjectsInSingleContainer\thave all ingredients (tertiary) alone in a single container\n",
      "9\ttrue\t                    GoalInRoomWithObject\tbe in same location as violet-red paint\n",
      "----------------------------------------------------------------------------------------------------\n",
      "\n"
     ]
    }
   ],
   "source": [
    "env = ScienceWorldEnv(\"\", \"\", envStepLimit=100)\n",
    "task_name = 'chemistry-mix-paint-tertiary-color'\n",
    "\n",
    "plan = task_df['action']\n",
    "env.load(task_name, variation)\n",
    "\n",
    "print(env.getTaskDescription())\n",
    "\n",
    "# Reset the environment\n",
    "observation, info = env.reset()\n",
    "for i, action in enumerate(plan):\n",
    "    action = action.replace(\"green house\", \"greenhouse\")\n",
    "    observation, reward, isCompleted, info = env.step(action)\n",
    "    print(f\"---- Step {i} | action: {action} | Finish {isCompleted} | reward {reward} -----\")\n",
    "    print(observation)\n",
    "print(info['look'])\n",
    "print(f\"Finished: {isCompleted}\")\n",
    "print(env.getGoalProgressStr())"
   ],
   "metadata": {
    "collapsed": false,
    "ExecuteTime": {
     "start_time": "2023-08-24T17:54:23.899373Z",
     "end_time": "2023-08-24T17:54:25.909967Z"
    }
   }
  },
  {
   "cell_type": "code",
   "execution_count": 22,
   "outputs": [],
   "source": [
    "elements = []\n",
    "for _ in range(1000):\n",
    "    a = env.getRandomVariationTest()\n",
    "    if a not in elements:\n",
    "        elements.append(a)"
   ],
   "metadata": {
    "collapsed": false,
    "ExecuteTime": {
     "start_time": "2023-08-24T15:52:30.373972Z",
     "end_time": "2023-08-24T15:52:30.467802Z"
    }
   }
  },
  {
   "cell_type": "code",
   "execution_count": 23,
   "outputs": [
    {
     "data": {
      "text/plain": "[27, 28, 29, 30, 31, 32, 33, 34, 35]"
     },
     "execution_count": 23,
     "metadata": {},
     "output_type": "execute_result"
    }
   ],
   "source": [
    "elements.sort()\n",
    "elements"
   ],
   "metadata": {
    "collapsed": false,
    "ExecuteTime": {
     "start_time": "2023-08-24T15:52:32.388444Z",
     "end_time": "2023-08-24T15:52:32.391735Z"
    }
   }
  },
  {
   "cell_type": "code",
   "execution_count": null,
   "outputs": [],
   "source": [],
   "metadata": {
    "collapsed": false
   }
  }
 ],
 "metadata": {
  "kernelspec": {
   "display_name": "Python 3",
   "language": "python",
   "name": "python3"
  },
  "language_info": {
   "codemirror_mode": {
    "name": "ipython",
    "version": 2
   },
   "file_extension": ".py",
   "mimetype": "text/x-python",
   "name": "python",
   "nbconvert_exporter": "python",
   "pygments_lexer": "ipython2",
   "version": "2.7.6"
  }
 },
 "nbformat": 4,
 "nbformat_minor": 0
}
