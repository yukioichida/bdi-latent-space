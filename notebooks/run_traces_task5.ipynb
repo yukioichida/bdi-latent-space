{
 "cells": [
  {
   "cell_type": "code",
   "execution_count": 2,
   "metadata": {
    "collapsed": true,
    "ExecuteTime": {
     "start_time": "2023-08-23T10:33:44.900089Z",
     "end_time": "2023-08-23T10:33:45.550574Z"
    }
   },
   "outputs": [],
   "source": [
    "from scienceworld import ScienceWorldEnv\n",
    "import re\n",
    "from sources.agent.scienceworld import parse_observation\n",
    "\n",
    "import pandas as pd"
   ]
  },
  {
   "cell_type": "markdown",
   "source": [
    "# Task 5 - mix pain"
   ],
   "metadata": {
    "collapsed": false
   }
  },
  {
   "cell_type": "markdown",
   "source": [
    "## Green"
   ],
   "metadata": {
    "collapsed": false
   }
  },
  {
   "cell_type": "code",
   "execution_count": 13,
   "outputs": [
    {
     "data": {
      "text/plain": "                                              action  landmark  variation  \\\n0                            open door to art studio     False          0   \n1                                   go to art studio     False          0   \n2  pour cup containing blue paint in art studio i...     False          0   \n3  pour cup containing yellow paint in art studio...     False          0   \n4                                            mix jug     False          0   \n5                               focus on green paint      True          0   \n\n   order                                               goal  \\\n0      0  Your task is to use chemistry to create green ...   \n1      1  Your task is to use chemistry to create green ...   \n2      2  Your task is to use chemistry to create green ...   \n3      3  Your task is to use chemistry to create green ...   \n4      4  Your task is to use chemistry to create green ...   \n5      5  Your task is to use chemistry to create green ...   \n\n                                        task_id  \n0  task-5-chemistry-mix-paint-(secondary-color)  \n1  task-5-chemistry-mix-paint-(secondary-color)  \n2  task-5-chemistry-mix-paint-(secondary-color)  \n3  task-5-chemistry-mix-paint-(secondary-color)  \n4  task-5-chemistry-mix-paint-(secondary-color)  \n5  task-5-chemistry-mix-paint-(secondary-color)  ",
      "text/html": "<div>\n<style scoped>\n    .dataframe tbody tr th:only-of-type {\n        vertical-align: middle;\n    }\n\n    .dataframe tbody tr th {\n        vertical-align: top;\n    }\n\n    .dataframe thead th {\n        text-align: right;\n    }\n</style>\n<table border=\"1\" class=\"dataframe\">\n  <thead>\n    <tr style=\"text-align: right;\">\n      <th></th>\n      <th>action</th>\n      <th>landmark</th>\n      <th>variation</th>\n      <th>order</th>\n      <th>goal</th>\n      <th>task_id</th>\n    </tr>\n  </thead>\n  <tbody>\n    <tr>\n      <th>0</th>\n      <td>open door to art studio</td>\n      <td>False</td>\n      <td>0</td>\n      <td>0</td>\n      <td>Your task is to use chemistry to create green ...</td>\n      <td>task-5-chemistry-mix-paint-(secondary-color)</td>\n    </tr>\n    <tr>\n      <th>1</th>\n      <td>go to art studio</td>\n      <td>False</td>\n      <td>0</td>\n      <td>1</td>\n      <td>Your task is to use chemistry to create green ...</td>\n      <td>task-5-chemistry-mix-paint-(secondary-color)</td>\n    </tr>\n    <tr>\n      <th>2</th>\n      <td>pour cup containing blue paint in art studio i...</td>\n      <td>False</td>\n      <td>0</td>\n      <td>2</td>\n      <td>Your task is to use chemistry to create green ...</td>\n      <td>task-5-chemistry-mix-paint-(secondary-color)</td>\n    </tr>\n    <tr>\n      <th>3</th>\n      <td>pour cup containing yellow paint in art studio...</td>\n      <td>False</td>\n      <td>0</td>\n      <td>3</td>\n      <td>Your task is to use chemistry to create green ...</td>\n      <td>task-5-chemistry-mix-paint-(secondary-color)</td>\n    </tr>\n    <tr>\n      <th>4</th>\n      <td>mix jug</td>\n      <td>False</td>\n      <td>0</td>\n      <td>4</td>\n      <td>Your task is to use chemistry to create green ...</td>\n      <td>task-5-chemistry-mix-paint-(secondary-color)</td>\n    </tr>\n    <tr>\n      <th>5</th>\n      <td>focus on green paint</td>\n      <td>True</td>\n      <td>0</td>\n      <td>5</td>\n      <td>Your task is to use chemistry to create green ...</td>\n      <td>task-5-chemistry-mix-paint-(secondary-color)</td>\n    </tr>\n  </tbody>\n</table>\n</div>"
     },
     "execution_count": 13,
     "metadata": {},
     "output_type": "execute_result"
    }
   ],
   "source": [
    "#\n",
    "variation = 0\n",
    "# 1 and 7 is generating the corect plan\n",
    "task_df = pd.read_csv(f\"../data/plans_csv/task-5-chemistry-mix-paint-(secondary-color)/your_task_is_to_use_chemistry_to_create_green_paint/{variation}.csv\")\n",
    "task_df"
   ],
   "metadata": {
    "collapsed": false,
    "ExecuteTime": {
     "start_time": "2023-08-23T10:38:16.072960Z",
     "end_time": "2023-08-23T10:38:16.115898Z"
    }
   }
  },
  {
   "cell_type": "code",
   "execution_count": 14,
   "outputs": [
    {
     "name": "stdout",
     "output_type": "stream",
     "text": [
      "Your task is to use chemistry to create green paint. When you are done, focus on the green paint.\n",
      "---- Step 0 | action: open door to art studio | Finish False | reward 0 -----\n",
      "The door is now open.\n",
      "---- Step 1 | action: go to art studio | Finish False | reward 30 -----\n",
      "You move to the art studio.\n",
      "---- Step 2 | action: pour cup containing blue paint in art studio in jug | Finish False | reward 0 -----\n",
      "You pour the contents of the wood cup into the jug.\n",
      "---- Step 3 | action: pour cup containing yellow paint in art studio in jug | Finish False | reward 10 -----\n",
      "You pour the contents of the wood cup into the jug.\n",
      "---- Step 4 | action: mix jug | Finish False | reward 10 -----\n",
      "Blue and yellow paint mix to produce green paint.\n",
      "---- Step 5 | action: focus on green paint | Finish True | reward 50 -----\n",
      "You focus on the green paint.\n",
      "This room is called the art studio. In it, you see: \n",
      "\tthe agent\n",
      "\ta substance called air\n",
      "\ta large cupboard. The large cupboard door is closed. \n",
      "\ta paint cupboard. The paint cupboard door is closed. \n",
      "\ta table. On the table is: a jug (containing green paint).\n",
      "\ta wood cup (containing nothing)\n",
      "\ta wood cup (containing red paint)\n",
      "\ta wood cup (containing nothing)\n",
      "You also see:\n",
      "\tA door to the hallway (that is open)\n",
      "\n",
      "Finished: True\n",
      "Completed keys: \n",
      "----------------------------------------------------------------------------------------------------\n",
      "Sequential Subgoals:\n",
      "----------------------------------------------------------------------------------------------------\n",
      "0\ttrue\t                                GoalFind\tfocus on the mixing result (green paint)\n",
      "----------------------------------------------------------------------------------------------------\n",
      "Unordered and Optional Subgoals:\n",
      "----------------------------------------------------------------------------------------------------\n",
      "0\ttrue\t                   GoalMoveToNewLocation\tmove to a new location\n",
      "1\ttrue\t                    GoalInRoomWithObject\tbe in same location as blue paint\n",
      "2\ttrue\t                    GoalInRoomWithObject\tbe in same location as yellow paint\n",
      "3\ttrue\t            GoalObjectsInSingleContainer\thave all ingredients alone in a single container\n",
      "4\ttrue\t                    GoalInRoomWithObject\tbe in same location as green paint\n",
      "----------------------------------------------------------------------------------------------------\n",
      "\n"
     ]
    }
   ],
   "source": [
    "env = ScienceWorldEnv(\"\", \"\", envStepLimit=100)\n",
    "task_name = 'chemistry-mix-paint-secondary-color'\n",
    "\n",
    "plan = task_df['action']\n",
    "env.load(task_name, variation)\n",
    "\n",
    "print(env.getTaskDescription())\n",
    "\n",
    "# Reset the environment\n",
    "observation, info = env.reset()\n",
    "for i, action in enumerate(plan):\n",
    "    action = action.replace(\"green house\", \"greenhouse\")\n",
    "    observation, reward, isCompleted, info = env.step(action)\n",
    "    print(f\"---- Step {i} | action: {action} | Finish {isCompleted} | reward {reward} -----\")\n",
    "    print(observation)\n",
    "print(info['look'])\n",
    "print(f\"Finished: {isCompleted}\")\n",
    "print(env.getGoalProgressStr())"
   ],
   "metadata": {
    "collapsed": false,
    "ExecuteTime": {
     "start_time": "2023-08-23T10:38:16.435050Z",
     "end_time": "2023-08-23T10:38:18.266673Z"
    }
   }
  }
 ],
 "metadata": {
  "kernelspec": {
   "display_name": "Python 3",
   "language": "python",
   "name": "python3"
  },
  "language_info": {
   "codemirror_mode": {
    "name": "ipython",
    "version": 2
   },
   "file_extension": ".py",
   "mimetype": "text/x-python",
   "name": "python",
   "nbconvert_exporter": "python",
   "pygments_lexer": "ipython2",
   "version": "2.7.6"
  }
 },
 "nbformat": 4,
 "nbformat_minor": 0
}
