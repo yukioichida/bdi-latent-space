{
 "cells": [
  {
   "cell_type": "code",
   "execution_count": 2,
   "metadata": {
    "collapsed": true,
    "ExecuteTime": {
     "start_time": "2023-09-12T09:21:25.245039Z",
     "end_time": "2023-09-12T09:21:25.877092Z"
    }
   },
   "outputs": [],
   "source": [
    "from scienceworld import ScienceWorldEnv\n",
    "import re\n",
    "\n",
    "import pandas as pd"
   ]
  },
  {
   "cell_type": "markdown",
   "source": [
    "# Task 1 - Your task is to boil caesium"
   ],
   "metadata": {
    "collapsed": false
   }
  },
  {
   "cell_type": "markdown",
   "source": [
    "## caesium"
   ],
   "metadata": {
    "collapsed": false
   }
  },
  {
   "cell_type": "code",
   "execution_count": 3,
   "outputs": [
    {
     "data": {
      "text/plain": "                        action  landmark  variation  order  \\\n0         open door to kitchen     False         24      0   \n1                go to kitchen     False         24      1   \n2         open door to hallway     False         24      2   \n3                go to hallway     False         24      3   \n4        open door to workshop     False         24      4   \n5               go to workshop     False         24      5   \n6         focus on yellow wire     False         24      6   \n7  move yellow wire to red box     False         24      7   \n\n                                         goal                       task_id  \n0  Your task is to find a(n) non-living thing  task-3-find-non-living-thing  \n1  Your task is to find a(n) non-living thing  task-3-find-non-living-thing  \n2  Your task is to find a(n) non-living thing  task-3-find-non-living-thing  \n3  Your task is to find a(n) non-living thing  task-3-find-non-living-thing  \n4  Your task is to find a(n) non-living thing  task-3-find-non-living-thing  \n5  Your task is to find a(n) non-living thing  task-3-find-non-living-thing  \n6  Your task is to find a(n) non-living thing  task-3-find-non-living-thing  \n7  Your task is to find a(n) non-living thing  task-3-find-non-living-thing  ",
      "text/html": "<div>\n<style scoped>\n    .dataframe tbody tr th:only-of-type {\n        vertical-align: middle;\n    }\n\n    .dataframe tbody tr th {\n        vertical-align: top;\n    }\n\n    .dataframe thead th {\n        text-align: right;\n    }\n</style>\n<table border=\"1\" class=\"dataframe\">\n  <thead>\n    <tr style=\"text-align: right;\">\n      <th></th>\n      <th>action</th>\n      <th>landmark</th>\n      <th>variation</th>\n      <th>order</th>\n      <th>goal</th>\n      <th>task_id</th>\n    </tr>\n  </thead>\n  <tbody>\n    <tr>\n      <th>0</th>\n      <td>open door to kitchen</td>\n      <td>False</td>\n      <td>24</td>\n      <td>0</td>\n      <td>Your task is to find a(n) non-living thing</td>\n      <td>task-3-find-non-living-thing</td>\n    </tr>\n    <tr>\n      <th>1</th>\n      <td>go to kitchen</td>\n      <td>False</td>\n      <td>24</td>\n      <td>1</td>\n      <td>Your task is to find a(n) non-living thing</td>\n      <td>task-3-find-non-living-thing</td>\n    </tr>\n    <tr>\n      <th>2</th>\n      <td>open door to hallway</td>\n      <td>False</td>\n      <td>24</td>\n      <td>2</td>\n      <td>Your task is to find a(n) non-living thing</td>\n      <td>task-3-find-non-living-thing</td>\n    </tr>\n    <tr>\n      <th>3</th>\n      <td>go to hallway</td>\n      <td>False</td>\n      <td>24</td>\n      <td>3</td>\n      <td>Your task is to find a(n) non-living thing</td>\n      <td>task-3-find-non-living-thing</td>\n    </tr>\n    <tr>\n      <th>4</th>\n      <td>open door to workshop</td>\n      <td>False</td>\n      <td>24</td>\n      <td>4</td>\n      <td>Your task is to find a(n) non-living thing</td>\n      <td>task-3-find-non-living-thing</td>\n    </tr>\n    <tr>\n      <th>5</th>\n      <td>go to workshop</td>\n      <td>False</td>\n      <td>24</td>\n      <td>5</td>\n      <td>Your task is to find a(n) non-living thing</td>\n      <td>task-3-find-non-living-thing</td>\n    </tr>\n    <tr>\n      <th>6</th>\n      <td>focus on yellow wire</td>\n      <td>False</td>\n      <td>24</td>\n      <td>6</td>\n      <td>Your task is to find a(n) non-living thing</td>\n      <td>task-3-find-non-living-thing</td>\n    </tr>\n    <tr>\n      <th>7</th>\n      <td>move yellow wire to red box</td>\n      <td>False</td>\n      <td>24</td>\n      <td>7</td>\n      <td>Your task is to find a(n) non-living thing</td>\n      <td>task-3-find-non-living-thing</td>\n    </tr>\n  </tbody>\n</table>\n</div>"
     },
     "execution_count": 3,
     "metadata": {},
     "output_type": "execute_result"
    }
   ],
   "source": [
    "#\n",
    "variation = 24\n",
    "# 1 and 7 is generating the corect plan\n",
    "task_df = pd.read_csv(f\"../plans/plans_csv/task-3-find-non-living-thing/your_task_is_to_find_a(n)_non-living_thing/{variation}.csv\")\n",
    "task_df"
   ],
   "metadata": {
    "collapsed": false,
    "ExecuteTime": {
     "start_time": "2023-09-12T09:21:26.169095Z",
     "end_time": "2023-09-12T09:21:26.350198Z"
    }
   }
  },
  {
   "cell_type": "code",
   "execution_count": 6,
   "outputs": [
    {
     "name": "stdout",
     "output_type": "stream",
     "text": [
      "Your task is to find a(n) non-living thing. First, focus on the thing. Then, move it to the red box in the workshop.\n",
      "Your task is to find a(n) non-living thing by moving it to the red box in the workshop.\n",
      "---- Step 0 | action: open door to kitchen | Finish False | reward 8 -----\n",
      "The door is now open.\n",
      "---- Step 1 | action: go to kitchen | Finish False | reward 9 -----\n",
      "You move to the kitchen.\n",
      "---- Step 2 | action: open door to hallway | Finish False | reward 0 -----\n",
      "The door is now open.\n",
      "---- Step 3 | action: go to hallway | Finish False | reward 0 -----\n",
      "You move to the hallway.\n",
      "---- Step 4 | action: open door to workshop | Finish False | reward 0 -----\n",
      "The door is now open.\n",
      "---- Step 5 | action: go to workshop | Finish False | reward 8 -----\n",
      "You move to the workshop.\n",
      "---- Step 6 | action: focus on yellow wire | Finish False | reward 50 -----\n",
      "You focus on the yellow wire.\n",
      "---- Step 7 | action: move yellow wire to red box | Finish True | reward 25 -----\n",
      "You move the yellow wire to the red box.\n",
      "This room is called the workshop. In it, you see: \n",
      "\tthe agent\n",
      "\ta substance called air\n",
      "\ta red box (containing a yellow wire)\n",
      "\ta table. On the table is: a battery, a black wire, a blue wire, a green light bulb, which is off, a red light bulb, which is off, a switch, which is off, a violet light bulb, which is off.\n",
      "\ta ultra low temperature freezer. The ultra low temperature freezer door is closed. \n",
      "You also see:\n",
      "\tA door to the hallway (that is open)\n",
      "\n",
      "Finished: True\n",
      "Completed keys: \n",
      "----------------------------------------------------------------------------------------------------\n",
      "Sequential Subgoals:\n",
      "----------------------------------------------------------------------------------------------------\n",
      "0\ttrue\t               GoalFocusOnNonlivingThing\tfocus on a non-living thing\n",
      "1\ttrue\t                   GoalObjectInContainer\tmove living thing to answer box\n",
      "----------------------------------------------------------------------------------------------------\n",
      "Unordered and Optional Subgoals:\n",
      "----------------------------------------------------------------------------------------------------\n",
      "0\tfalse\t                   GoalObjectInContainer\tPick up object\n",
      "1\ttrue\t                  GoalInRoomWithOpenDoor\tBe in a room with an open door\n",
      "2\ttrue\t                   GoalMoveToNewLocation\tMove to a new location\n",
      "3\ttrue\t                      GoalMoveToLocation\tMove to the location of the answer box\n",
      "----------------------------------------------------------------------------------------------------\n",
      "\n"
     ]
    }
   ],
   "source": [
    "env = ScienceWorldEnv(\"\", \"\", envStepLimit=100)\n",
    "task_name = 'find-non-living-thing'\n",
    "\n",
    "plan = task_df['action']\n",
    "env.load(task_name, variation)\n",
    "\n",
    "print(env.getTaskDescription())\n",
    "print(env.getTaskDescription().replace(\". First, focus on the thing. Then,\", \"\").replace(\"move\", \"by moving\"))\n",
    "\n",
    "# Reset the environment\n",
    "observation, info = env.reset()\n",
    "for i, action in enumerate(plan):\n",
    "    action = action.replace(\"green house\", \"greenhouse\")\n",
    "    observation, reward, isCompleted, info = env.step(action)\n",
    "    print(f\"---- Step {i} | action: {action} | Finish {isCompleted} | reward {reward} -----\")\n",
    "    print(observation)\n",
    "print(info['look'])\n",
    "print(f\"Finished: {isCompleted}\")\n",
    "print(env.getGoalProgressStr())"
   ],
   "metadata": {
    "collapsed": false,
    "ExecuteTime": {
     "start_time": "2023-09-12T09:46:47.952788Z",
     "end_time": "2023-09-12T09:46:50.091543Z"
    }
   }
  },
  {
   "cell_type": "code",
   "execution_count": 7,
   "outputs": [
    {
     "data": {
      "text/plain": "                                                 goal\n0   Your task is to find a(n) non-living thing by ...\n1   Your task is to find a(n) non-living thing by ...\n2   Your task is to find a(n) non-living thing by ...\n3   Your task is to find a(n) non-living thing by ...\n4   Your task is to find a(n) non-living thing by ...\n5   Your task is to find a(n) non-living thing by ...\n6   Your task is to find a(n) non-living thing by ...\n7   Your task is to find a(n) non-living thing by ...\n8   Your task is to find a(n) non-living thing by ...\n9   Your task is to find a(n) non-living thing by ...\n10  Your task is to find a(n) non-living thing by ...\n11  Your task is to find a(n) non-living thing by ...\n12  Your task is to find a(n) non-living thing by ...\n13  Your task is to find a(n) non-living thing by ...\n14  Your task is to find a(n) non-living thing by ...\n15  Your task is to find a(n) non-living thing by ...\n16  Your task is to find a(n) non-living thing by ...\n17  Your task is to find a(n) non-living thing by ...\n18  Your task is to find a(n) non-living thing by ...\n19  Your task is to find a(n) non-living thing by ...\n20  Your task is to find a(n) non-living thing by ...\n21  Your task is to find a(n) non-living thing by ...\n22  Your task is to find a(n) non-living thing by ...\n23  Your task is to find a(n) non-living thing by ...\n24  Your task is to find a(n) non-living thing by ...\n25  Your task is to find a(n) non-living thing by ...\n26  Your task is to find a(n) non-living thing by ...\n27  Your task is to find a(n) non-living thing by ...\n28  Your task is to find a(n) non-living thing by ...\n29  Your task is to find a(n) non-living thing by ...",
      "text/html": "<div>\n<style scoped>\n    .dataframe tbody tr th:only-of-type {\n        vertical-align: middle;\n    }\n\n    .dataframe tbody tr th {\n        vertical-align: top;\n    }\n\n    .dataframe thead th {\n        text-align: right;\n    }\n</style>\n<table border=\"1\" class=\"dataframe\">\n  <thead>\n    <tr style=\"text-align: right;\">\n      <th></th>\n      <th>goal</th>\n    </tr>\n  </thead>\n  <tbody>\n    <tr>\n      <th>0</th>\n      <td>Your task is to find a(n) non-living thing by ...</td>\n    </tr>\n    <tr>\n      <th>1</th>\n      <td>Your task is to find a(n) non-living thing by ...</td>\n    </tr>\n    <tr>\n      <th>2</th>\n      <td>Your task is to find a(n) non-living thing by ...</td>\n    </tr>\n    <tr>\n      <th>3</th>\n      <td>Your task is to find a(n) non-living thing by ...</td>\n    </tr>\n    <tr>\n      <th>4</th>\n      <td>Your task is to find a(n) non-living thing by ...</td>\n    </tr>\n    <tr>\n      <th>5</th>\n      <td>Your task is to find a(n) non-living thing by ...</td>\n    </tr>\n    <tr>\n      <th>6</th>\n      <td>Your task is to find a(n) non-living thing by ...</td>\n    </tr>\n    <tr>\n      <th>7</th>\n      <td>Your task is to find a(n) non-living thing by ...</td>\n    </tr>\n    <tr>\n      <th>8</th>\n      <td>Your task is to find a(n) non-living thing by ...</td>\n    </tr>\n    <tr>\n      <th>9</th>\n      <td>Your task is to find a(n) non-living thing by ...</td>\n    </tr>\n    <tr>\n      <th>10</th>\n      <td>Your task is to find a(n) non-living thing by ...</td>\n    </tr>\n    <tr>\n      <th>11</th>\n      <td>Your task is to find a(n) non-living thing by ...</td>\n    </tr>\n    <tr>\n      <th>12</th>\n      <td>Your task is to find a(n) non-living thing by ...</td>\n    </tr>\n    <tr>\n      <th>13</th>\n      <td>Your task is to find a(n) non-living thing by ...</td>\n    </tr>\n    <tr>\n      <th>14</th>\n      <td>Your task is to find a(n) non-living thing by ...</td>\n    </tr>\n    <tr>\n      <th>15</th>\n      <td>Your task is to find a(n) non-living thing by ...</td>\n    </tr>\n    <tr>\n      <th>16</th>\n      <td>Your task is to find a(n) non-living thing by ...</td>\n    </tr>\n    <tr>\n      <th>17</th>\n      <td>Your task is to find a(n) non-living thing by ...</td>\n    </tr>\n    <tr>\n      <th>18</th>\n      <td>Your task is to find a(n) non-living thing by ...</td>\n    </tr>\n    <tr>\n      <th>19</th>\n      <td>Your task is to find a(n) non-living thing by ...</td>\n    </tr>\n    <tr>\n      <th>20</th>\n      <td>Your task is to find a(n) non-living thing by ...</td>\n    </tr>\n    <tr>\n      <th>21</th>\n      <td>Your task is to find a(n) non-living thing by ...</td>\n    </tr>\n    <tr>\n      <th>22</th>\n      <td>Your task is to find a(n) non-living thing by ...</td>\n    </tr>\n    <tr>\n      <th>23</th>\n      <td>Your task is to find a(n) non-living thing by ...</td>\n    </tr>\n    <tr>\n      <th>24</th>\n      <td>Your task is to find a(n) non-living thing by ...</td>\n    </tr>\n    <tr>\n      <th>25</th>\n      <td>Your task is to find a(n) non-living thing by ...</td>\n    </tr>\n    <tr>\n      <th>26</th>\n      <td>Your task is to find a(n) non-living thing by ...</td>\n    </tr>\n    <tr>\n      <th>27</th>\n      <td>Your task is to find a(n) non-living thing by ...</td>\n    </tr>\n    <tr>\n      <th>28</th>\n      <td>Your task is to find a(n) non-living thing by ...</td>\n    </tr>\n    <tr>\n      <th>29</th>\n      <td>Your task is to find a(n) non-living thing by ...</td>\n    </tr>\n  </tbody>\n</table>\n</div>"
     },
     "execution_count": 7,
     "metadata": {},
     "output_type": "execute_result"
    }
   ],
   "source": [
    "all_goals = []\n",
    "for v in env.getVariationsTest():\n",
    "    env.load(task_name, v)\n",
    "    goal = env.getTaskDescription().replace(\". First, focus on the thing. Then,\", \"\").replace(\"move\", \"by moving\")\n",
    "    all_goals.append({'goal': goal})\n",
    "\n",
    "pd.DataFrame(all_goals).drop_duplicates()"
   ],
   "metadata": {
    "collapsed": false,
    "ExecuteTime": {
     "start_time": "2023-09-12T09:52:06.390002Z",
     "end_time": "2023-09-12T09:52:08.748066Z"
    }
   }
  },
  {
   "cell_type": "code",
   "execution_count": null,
   "outputs": [],
   "source": [],
   "metadata": {
    "collapsed": false
   }
  }
 ],
 "metadata": {
  "kernelspec": {
   "display_name": "Python 3",
   "language": "python",
   "name": "python3"
  },
  "language_info": {
   "codemirror_mode": {
    "name": "ipython",
    "version": 2
   },
   "file_extension": ".py",
   "mimetype": "text/x-python",
   "name": "python",
   "nbconvert_exporter": "python",
   "pygments_lexer": "ipython2",
   "version": "2.7.6"
  }
 },
 "nbformat": 4,
 "nbformat_minor": 0
}
