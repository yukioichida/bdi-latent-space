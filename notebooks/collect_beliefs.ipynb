{
 "cells": [
  {
   "cell_type": "code",
   "execution_count": 8,
   "metadata": {
    "collapsed": true
   },
   "outputs": [],
   "source": [
    "import pandas as pd\n",
    "import json"
   ]
  },
  {
   "cell_type": "code",
   "execution_count": 9,
   "metadata": {},
   "outputs": [
    {
     "data": {
      "text/plain": [
       "True"
      ]
     },
     "execution_count": 9,
     "metadata": {},
     "output_type": "execute_result"
    }
   ],
   "source": [
    "import torch\n",
    "\n",
    "torch.cuda.is_available()"
   ]
  },
  {
   "cell_type": "code",
   "execution_count": 10,
   "metadata": {
    "collapsed": false
   },
   "outputs": [
    {
     "name": "stdout",
     "output_type": "stream",
     "text": [
      "Tasks stored in this gold data: dict_keys(['0', '1', '2', '3', '4', '6', '7', '8', '9', '10', '11', '12', '13', '14', '15', '16', '17', '18', '19', '20', '21', '22', '23', '24', '25', '26', '27', '28', '29'])\n"
     ]
    }
   ],
   "source": [
    "#filenameIn = \"../data/goldsequences-0.json\"\n",
    "filename = \"../data/goldsequences-0-1-2-3-4-6-7-8-9-10-11-12-13-14-15-16-17-18-19-20-21-22-23-24-25-26-27-28-29.json\"\n",
    "f = open(filename)\n",
    "data = json.load(f)\n",
    "print(\"Tasks stored in this gold data: \" + str(data.keys()))"
   ]
  },
  {
   "cell_type": "code",
   "execution_count": 11,
   "metadata": {
    "collapsed": false
   },
   "outputs": [],
   "source": [
    "a = 3"
   ]
  },
  {
   "cell_type": "code",
   "execution_count": 12,
   "metadata": {
    "collapsed": false
   },
   "outputs": [],
   "source": [
    "\n",
    "rows = []\n",
    "for taskIdx in data.keys():\n",
    "    taskData = data[taskIdx]\n",
    "    taskName = taskData['taskName']\n",
    "    goldSequences = taskData['goldActionSequences']\n",
    "    for goldSequence in goldSequences:\n",
    "        fold = goldSequence['fold']\n",
    "        path = goldSequence['path']\n",
    "        texts = []\n",
    "        for step in path:\n",
    "            action = step['action']\n",
    "            texts.append(step['inventory'])\n",
    "            texts.append(step['freelook'])\n",
    "            texts.append(step['observation'])\n",
    "        unique_texts = list(set(texts))\n",
    "        for text in unique_texts:\n",
    "            rows.append({\n",
    "                'task':  taskName,\n",
    "                'text': text\n",
    "            })\n",
    "\n",
    "dataset_df = pd.DataFrame(rows)"
   ]
  },
  {
   "cell_type": "code",
   "execution_count": 13,
   "metadata": {
    "collapsed": false
   },
   "outputs": [],
   "source": [
    "#dataset_df.to_csv(\"../data/dataset_fulltext.csv\", index=False)"
   ]
  },
  {
   "cell_type": "code",
   "execution_count": 14,
   "metadata": {
    "collapsed": false
   },
   "outputs": [
    {
     "data": {
      "text/html": [
       "<div>\n",
       "<style scoped>\n",
       "    .dataframe tbody tr th:only-of-type {\n",
       "        vertical-align: middle;\n",
       "    }\n",
       "\n",
       "    .dataframe tbody tr th {\n",
       "        vertical-align: top;\n",
       "    }\n",
       "\n",
       "    .dataframe thead th {\n",
       "        text-align: right;\n",
       "    }\n",
       "</style>\n",
       "<table border=\"1\" class=\"dataframe\">\n",
       "  <thead>\n",
       "    <tr style=\"text-align: right;\">\n",
       "      <th></th>\n",
       "      <th>task</th>\n",
       "      <th>text</th>\n",
       "    </tr>\n",
       "  </thead>\n",
       "  <tbody>\n",
       "    <tr>\n",
       "      <th>0</th>\n",
       "      <td>task-1-boil</td>\n",
       "      <td>The sink is now activated.</td>\n",
       "    </tr>\n",
       "    <tr>\n",
       "      <th>1</th>\n",
       "      <td>task-1-boil</td>\n",
       "      <td>The sink is now deactivated.</td>\n",
       "    </tr>\n",
       "    <tr>\n",
       "      <th>2</th>\n",
       "      <td>task-1-boil</td>\n",
       "      <td>This room is called the kitchen. In it, you se...</td>\n",
       "    </tr>\n",
       "    <tr>\n",
       "      <th>3</th>\n",
       "      <td>task-1-boil</td>\n",
       "      <td>This room is called the kitchen. In it, you se...</td>\n",
       "    </tr>\n",
       "    <tr>\n",
       "      <th>4</th>\n",
       "      <td>task-1-boil</td>\n",
       "      <td>The cupboard is now open.</td>\n",
       "    </tr>\n",
       "  </tbody>\n",
       "</table>\n",
       "</div>"
      ],
      "text/plain": [
       "          task                                               text\n",
       "0  task-1-boil                         The sink is now activated.\n",
       "1  task-1-boil                       The sink is now deactivated.\n",
       "2  task-1-boil  This room is called the kitchen. In it, you se...\n",
       "3  task-1-boil  This room is called the kitchen. In it, you se...\n",
       "4  task-1-boil                          The cupboard is now open."
      ]
     },
     "execution_count": 14,
     "metadata": {},
     "output_type": "execute_result"
    }
   ],
   "source": [
    "dataset_df.head()"
   ]
  },
  {
   "cell_type": "code",
   "execution_count": 15,
   "metadata": {
    "collapsed": false
   },
   "outputs": [
    {
     "data": {
      "text/plain": [
       "694988"
      ]
     },
     "execution_count": 15,
     "metadata": {},
     "output_type": "execute_result"
    }
   ],
   "source": [
    "len(dataset_df)"
   ]
  },
  {
   "cell_type": "code",
   "execution_count": 16,
   "metadata": {
    "collapsed": false
   },
   "outputs": [
    {
     "data": {
      "text/plain": [
       "task-8-inclined-plane-friction-(named-surfaces)              385746\n",
       "task-9-mendellian-genetics-(unknown-plant)                    70584\n",
       "task-8-inclined-plane-friction-(unnamed-surfaces)             50668\n",
       "task-8-inclined-plane-determine-angle                         40475\n",
       "task-2a-test-conductivity                                     27838\n",
       "task-9-mendellian-genetics-(known-plant)                      17657\n",
       "task-10-measure-melting-point-(known-substance)               16817\n",
       "task-10-use-thermometer                                       16696\n",
       "task-2a-test-conductivity-of-unknown-substances               16359\n",
       "task-4-grow-fruit                                             11165\n",
       "task-3-find-plant                                              5569\n",
       "task-4-grow-plant                                              5481\n",
       "task-3-find-animal                                             5364\n",
       "task-3-find-living-thing                                       5361\n",
       "task-3-find-non-living-thing                                   3352\n",
       "task-1-boil                                                    2238\n",
       "task-1-freeze                                                  1933\n",
       "task-1-melt                                                    1744\n",
       "task-1-change-the-state-of-matter-of                           1586\n",
       "task-6-lifespan-(longest-lived-then-shortest-lived)            1372\n",
       "task-5-chemistry-mix                                           1329\n",
       "task-6-lifespan-(shortest-lived)                               1247\n",
       "task-6-lifespan-(longest-lived)                                1247\n",
       "task-5-chemistry-mix-paint-(tertiary-color)                    1060\n",
       "task-5-chemistry-mix-paint-(secondary-color)                    712\n",
       "task-2-power-component-(renewable-vs-nonrenewable-energy)       637\n",
       "task-2-power-component                                          335\n",
       "task-7-identify-life-stages-1                                   264\n",
       "task-7-identify-life-stages-2                                   152\n",
       "Name: task, dtype: int64"
      ]
     },
     "execution_count": 16,
     "metadata": {},
     "output_type": "execute_result"
    }
   ],
   "source": [
    "dataset_df['task'].value_counts()"
   ]
  },
  {
   "cell_type": "code",
   "execution_count": null,
   "metadata": {},
   "outputs": [],
   "source": []
  }
 ],
 "metadata": {
  "kernelspec": {
   "display_name": "Python 3.9.13 ('dl')",
   "language": "python",
   "name": "python3"
  },
  "language_info": {
   "codemirror_mode": {
    "name": "ipython",
    "version": 3
   },
   "file_extension": ".py",
   "mimetype": "text/x-python",
   "name": "python",
   "nbconvert_exporter": "python",
   "pygments_lexer": "ipython3",
   "version": "3.9.15 (main, Nov 24 2022, 14:31:59) \n[GCC 11.2.0]"
  },
  "vscode": {
   "interpreter": {
    "hash": "19baf8b851d6fdd473d0102fcfabb1b9d48003f68d845d764d56361af3fe92f4"
   }
  }
 },
 "nbformat": 4,
 "nbformat_minor": 0
}
