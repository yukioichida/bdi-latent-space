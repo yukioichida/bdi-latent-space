{
 "cells": [
  {
   "cell_type": "code",
   "execution_count": 12,
   "metadata": {
    "collapsed": true
   },
   "outputs": [],
   "source": [
    "import pandas as pd\n",
    "import json"
   ]
  },
  {
   "cell_type": "code",
   "execution_count": 13,
   "outputs": [
    {
     "name": "stdout",
     "output_type": "stream",
     "text": [
      "Tasks stored in this gold data: dict_keys(['0', '1', '2', '3', '4', '6', '7', '8', '9', '10', '11', '12', '13', '14', '15', '16', '17', '18', '19', '20', '21', '22', '23', '24', '25', '26', '27', '28', '29'])\n"
     ]
    }
   ],
   "source": [
    "#filenameIn = \"../data/goldsequences-0.json\"\n",
    "filename = \"../data/goldsequences-0-1-2-3-4-6-7-8-9-10-11-12-13-14-15-16-17-18-19-20-21-22-23-24-25-26-27-28-29.json\"\n",
    "f = open(filename)\n",
    "data = json.load(f)\n",
    "print(\"Tasks stored in this gold data: \" + str(data.keys()))"
   ],
   "metadata": {
    "collapsed": false
   }
  },
  {
   "cell_type": "code",
   "execution_count": 20,
   "outputs": [],
   "source": [
    "\n",
    "rows = []\n",
    "for taskIdx in data.keys():\n",
    "    taskData = data[taskIdx]\n",
    "    taskName = taskData['taskName']\n",
    "    goldSequences = taskData['goldActionSequences']\n",
    "    for goldSequence in goldSequences:\n",
    "        fold = goldSequence['fold']\n",
    "        path = goldSequence['path']\n",
    "        texts = []\n",
    "        for step in path:\n",
    "            action = step['action']\n",
    "            texts.append(step['inventory'])\n",
    "            texts.append(step['freelook'])\n",
    "            texts.append(step['observation'])\n",
    "        unique_texts = list(set(texts))\n",
    "        for text in unique_texts:\n",
    "            rows.append({\n",
    "                'task':  taskName,\n",
    "                'text': text\n",
    "            })\n",
    "\n",
    "dataset_df = pd.DataFrame(rows)"
   ],
   "metadata": {
    "collapsed": false
   }
  },
  {
   "cell_type": "code",
   "execution_count": 22,
   "outputs": [],
   "source": [
    "dataset_df.to_csv(\"../data/dataset_fulltext.csv\", index=False)"
   ],
   "metadata": {
    "collapsed": false
   }
  },
  {
   "cell_type": "code",
   "execution_count": 24,
   "outputs": [
    {
     "data": {
      "text/plain": "          task                                               text\n0  task-1-boil  This room is called the kitchen. In it, you se...\n1  task-1-boil           You move the metal pot to the inventory.\n2  task-1-boil               You decide to wait for 1 iterations.\n3  task-1-boil  This room is called the kitchen. In it, you se...\n4  task-1-boil  the thermometer measures a temperature of 58 d...",
      "text/html": "<div>\n<style scoped>\n    .dataframe tbody tr th:only-of-type {\n        vertical-align: middle;\n    }\n\n    .dataframe tbody tr th {\n        vertical-align: top;\n    }\n\n    .dataframe thead th {\n        text-align: right;\n    }\n</style>\n<table border=\"1\" class=\"dataframe\">\n  <thead>\n    <tr style=\"text-align: right;\">\n      <th></th>\n      <th>task</th>\n      <th>text</th>\n    </tr>\n  </thead>\n  <tbody>\n    <tr>\n      <th>0</th>\n      <td>task-1-boil</td>\n      <td>This room is called the kitchen. In it, you se...</td>\n    </tr>\n    <tr>\n      <th>1</th>\n      <td>task-1-boil</td>\n      <td>You move the metal pot to the inventory.</td>\n    </tr>\n    <tr>\n      <th>2</th>\n      <td>task-1-boil</td>\n      <td>You decide to wait for 1 iterations.</td>\n    </tr>\n    <tr>\n      <th>3</th>\n      <td>task-1-boil</td>\n      <td>This room is called the kitchen. In it, you se...</td>\n    </tr>\n    <tr>\n      <th>4</th>\n      <td>task-1-boil</td>\n      <td>the thermometer measures a temperature of 58 d...</td>\n    </tr>\n  </tbody>\n</table>\n</div>"
     },
     "execution_count": 24,
     "metadata": {},
     "output_type": "execute_result"
    }
   ],
   "source": [
    "dataset_df.head()"
   ],
   "metadata": {
    "collapsed": false
   }
  },
  {
   "cell_type": "code",
   "execution_count": 25,
   "outputs": [
    {
     "data": {
      "text/plain": "694988"
     },
     "execution_count": 25,
     "metadata": {},
     "output_type": "execute_result"
    }
   ],
   "source": [
    "len(dataset_df)"
   ],
   "metadata": {
    "collapsed": false
   }
  },
  {
   "cell_type": "code",
   "execution_count": null,
   "outputs": [],
   "source": [],
   "metadata": {
    "collapsed": false
   }
  }
 ],
 "metadata": {
  "kernelspec": {
   "display_name": "Python 3",
   "language": "python",
   "name": "python3"
  },
  "language_info": {
   "codemirror_mode": {
    "name": "ipython",
    "version": 2
   },
   "file_extension": ".py",
   "mimetype": "text/x-python",
   "name": "python",
   "nbconvert_exporter": "python",
   "pygments_lexer": "ipython2",
   "version": "2.7.6"
  }
 },
 "nbformat": 4,
 "nbformat_minor": 0
}
