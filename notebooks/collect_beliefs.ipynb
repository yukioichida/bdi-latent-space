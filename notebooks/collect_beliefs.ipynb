{
 "cells": [
  {
   "cell_type": "code",
   "execution_count": 3,
   "metadata": {
    "collapsed": true,
    "ExecuteTime": {
     "start_time": "2023-07-12T13:48:14.622523Z",
     "end_time": "2023-07-12T13:48:16.046391Z"
    }
   },
   "outputs": [
    {
     "data": {
      "text/plain": "True"
     },
     "execution_count": 3,
     "metadata": {},
     "output_type": "execute_result"
    }
   ],
   "source": [
    "import pandas as pd\n",
    "import json\n",
    "import torch\n",
    "\n",
    "torch.cuda.is_available()"
   ]
  },
  {
   "cell_type": "code",
   "execution_count": 4,
   "metadata": {
    "collapsed": false,
    "ExecuteTime": {
     "start_time": "2023-07-12T13:48:20.164115Z",
     "end_time": "2023-07-12T13:48:20.209204Z"
    }
   },
   "outputs": [
    {
     "name": "stdout",
     "output_type": "stream",
     "text": [
      "Tasks stored in this gold data: dict_keys(['0'])\n"
     ]
    }
   ],
   "source": [
    "filename = \"../data/goldsequences-0.json\"\n",
    "#filename = \"../data/goldsequences-0-1-2-3-4-6-7-8-9-10-11-12-13-14-15-16-17-18-19-20-21-22-23-24-25-26-27-28-29.json\"\n",
    "f = open(filename)\n",
    "data = json.load(f)\n",
    "print(\"Tasks stored in this gold data: \" + str(data.keys()))"
   ]
  },
  {
   "cell_type": "code",
   "execution_count": 7,
   "outputs": [
    {
     "ename": "KeyError",
     "evalue": "0",
     "output_type": "error",
     "traceback": [
      "\u001B[0;31m---------------------------------------------------------------------------\u001B[0m",
      "\u001B[0;31mKeyError\u001B[0m                                  Traceback (most recent call last)",
      "Cell \u001B[0;32mIn[7], line 1\u001B[0m\n\u001B[0;32m----> 1\u001B[0m \u001B[43mdata\u001B[49m\u001B[43m[\u001B[49m\u001B[38;5;241;43m0\u001B[39;49m\u001B[43m]\u001B[49m\n",
      "\u001B[0;31mKeyError\u001B[0m: 0"
     ]
    }
   ],
   "source": [
    "data[0]"
   ],
   "metadata": {
    "collapsed": false
   }
  },
  {
   "cell_type": "code",
   "execution_count": 17,
   "metadata": {
    "collapsed": false,
    "ExecuteTime": {
     "start_time": "2023-07-12T13:53:09.719366Z",
     "end_time": "2023-07-12T13:53:09.766975Z"
    }
   },
   "outputs": [],
   "source": [
    "rows = []\n",
    "for taskIdx in data.keys():\n",
    "    taskData = data[taskIdx]\n",
    "    taskName = taskData['taskName']\n",
    "    goldSequences = taskData['goldActionSequences']\n",
    "    for goldSequence in goldSequences:\n",
    "        fold = goldSequence['fold']\n",
    "        path = goldSequence['path']\n",
    "        texts = []\n",
    "        step_idx = 0\n",
    "        for step in path:\n",
    "            texts.append(step['inventory'])\n",
    "            texts.append(step['freelook'])\n",
    "            texts.append(step['observation'])\n",
    "\n",
    "dataset_df = pd.DataFrame(rows)"
   ]
  },
  {
   "cell_type": "code",
   "execution_count": 18,
   "metadata": {
    "collapsed": false,
    "ExecuteTime": {
     "start_time": "2023-07-12T13:53:09.988345Z",
     "end_time": "2023-07-12T13:53:09.990153Z"
    }
   },
   "outputs": [
    {
     "data": {
      "text/plain": "(40, 1)"
     },
     "execution_count": 18,
     "metadata": {},
     "output_type": "execute_result"
    }
   ],
   "source": [
    "len(path), len(goldSequences)"
   ]
  },
  {
   "cell_type": "code",
   "execution_count": null,
   "metadata": {},
   "outputs": [],
   "source": []
  }
 ],
 "metadata": {
  "kernelspec": {
   "display_name": "Python 3.9.13 ('dl')",
   "language": "python",
   "name": "python3"
  },
  "language_info": {
   "codemirror_mode": {
    "name": "ipython",
    "version": 3
   },
   "file_extension": ".py",
   "mimetype": "text/x-python",
   "name": "python",
   "nbconvert_exporter": "python",
   "pygments_lexer": "ipython3",
   "version": "3.9.15 (main, Nov 24 2022, 14:31:59) \n[GCC 11.2.0]"
  },
  "vscode": {
   "interpreter": {
    "hash": "19baf8b851d6fdd473d0102fcfabb1b9d48003f68d845d764d56361af3fe92f4"
   }
  }
 },
 "nbformat": 4,
 "nbformat_minor": 0
}
