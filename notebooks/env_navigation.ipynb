{
 "cells": [
  {
   "cell_type": "code",
   "execution_count": 1,
   "metadata": {
    "collapsed": true,
    "ExecuteTime": {
     "start_time": "2023-08-06T19:22:05.252603Z",
     "end_time": "2023-08-06T19:22:05.255602Z"
    }
   },
   "outputs": [],
   "source": [
    "from scienceworld import ScienceWorldEnv\n",
    "import re\n",
    "from sources.agent.scienceworld import parse_observation"
   ]
  },
  {
   "cell_type": "code",
   "execution_count": 2,
   "outputs": [],
   "source": [
    "env = ScienceWorldEnv(\"\", \"\", envStepLimit=100)"
   ],
   "metadata": {
    "collapsed": false,
    "ExecuteTime": {
     "start_time": "2023-08-06T19:22:05.254604Z",
     "end_time": "2023-08-06T19:22:06.295394Z"
    }
   }
  },
  {
   "cell_type": "code",
   "execution_count": 3,
   "outputs": [
    {
     "name": "stdout",
     "output_type": "stream",
     "text": [
      "Task Names: ['boil', 'change-the-state-of-matter-of', 'chemistry-mix', 'chemistry-mix-paint-secondary-color', 'chemistry-mix-paint-tertiary-color', 'find-animal', 'find-living-thing', 'find-non-living-thing', 'find-plant', 'freeze', 'grow-fruit', 'grow-plant', 'identify-life-stages-1', 'identify-life-stages-2', 'inclined-plane-determine-angle', 'inclined-plane-friction-named-surfaces', 'inclined-plane-friction-unnamed-surfaces', 'lifespan-longest-lived', 'lifespan-longest-lived-then-shortest-lived', 'lifespan-shortest-lived', 'measure-melting-point-known-substance', 'measure-melting-point-unknown-substance', 'melt', 'mendelian-genetics-known-plant', 'mendelian-genetics-unknown-plant', 'power-component', 'power-component-renewable-vs-nonrenewable-energy', 'test-conductivity', 'test-conductivity-of-unknown-substances', 'use-thermometer']\n"
     ]
    },
    {
     "data": {
      "text/plain": "('boil', 30)"
     },
     "execution_count": 3,
     "metadata": {},
     "output_type": "execute_result"
    }
   ],
   "source": [
    "taskNames = env.getTaskNames()\n",
    "print(\"Task Names: \" + str(taskNames))\n",
    "\n",
    "# Choose task\n",
    "taskName = taskNames[0]  # Just get first task\n",
    "env.load(taskName, 0, \"\")  # Load the task, so we have access to some extra accessors e.g. getRandomVariationTrain()\n",
    "maxVariations = env.getMaxVariations(taskName)\n",
    "taskName, maxVariations"
   ],
   "metadata": {
    "collapsed": false,
    "ExecuteTime": {
     "start_time": "2023-08-06T19:22:06.295394Z",
     "end_time": "2023-08-06T19:22:06.434664Z"
    }
   }
  },
  {
   "cell_type": "code",
   "execution_count": 4,
   "outputs": [],
   "source": [
    "def parse(observation: str, inventory: str) -> list[str]:\n",
    "    x = re.search(r\"([\\S\\s]*?)(?:In it, you see:)([\\S\\s]*?)(?:You also see:)([\\S\\s]*)\", observation)\n",
    "    groups = x.groups()\n",
    "\n",
    "    location = groups[0]\n",
    "    objects = groups[1]\n",
    "    doors = groups[2]\n",
    "\n",
    "    loc_split = [location.strip()]\n",
    "    obs_split = [obs.strip() for obs in objects.split('\\n') if len(obs.strip()) > 0]\n",
    "    obs_split = [f\"You see a {obs}\" for obs in obs_split]\n",
    "    doors_split = [door.strip() for door in doors.split('\\n') if len(door.strip()) > 0]\n",
    "    inventory_items = inventory.replace('\\n', ' ').replace('\\t', '')\n",
    "    return loc_split + obs_split + doors_split + [inventory_items]"
   ],
   "metadata": {
    "collapsed": false,
    "ExecuteTime": {
     "start_time": "2023-08-06T19:22:13.003045Z",
     "end_time": "2023-08-06T19:22:13.046087Z"
    }
   }
  },
  {
   "cell_type": "code",
   "execution_count": 5,
   "outputs": [
    {
     "name": "stdout",
     "output_type": "stream",
     "text": [
      "Task Name: boil variation 0\n",
      "Task Variation: 0 / 30\n",
      "Task Description: Your task is to boil water. For compounds without a boiling point, combusting the substance is also acceptable. First, focus on the substance. Then, take actions that will cause it to change its state of matter.\n"
     ]
    }
   ],
   "source": [
    "#randVariationIdx = env.getRandomVariationTest()\n",
    "randVariationIdx = 0\n",
    "env.load(taskName, randVariationIdx)\n",
    "# Reset the environment\n",
    "observation, info = env.reset()\n",
    "\n",
    "print(f\"Task Name: \" + taskName + \" variation \" + str(randVariationIdx))\n",
    "print(\"Task Variation: \" + str(randVariationIdx) + \" / \" + str(maxVariations))\n",
    "print(\"Task Description: \" + str(env.getTaskDescription()))\n",
    "\n",
    "score = 0.0\n",
    "curIter = 0\n",
    "\n",
    "# Run one episode until we reach a stopping condition (including exceeding the maximum steps)\n",
    "action_str = \"look around\"  # First action\n",
    "observation, reward, isCompleted, info = env.step(action_str)"
   ],
   "metadata": {
    "collapsed": false,
    "ExecuteTime": {
     "start_time": "2023-08-06T19:22:13.171341Z",
     "end_time": "2023-08-06T19:22:13.576570Z"
    }
   }
  },
  {
   "cell_type": "code",
   "execution_count": 8,
   "outputs": [
    {
     "data": {
      "text/plain": "[{'action': 'open art studio door',\n  'template_id': 0,\n  'obj_ids': [17580],\n  'type_ids': [140]},\n {'action': 'open bedroom door',\n  'template_id': 0,\n  'obj_ids': [17568],\n  'type_ids': [140]},\n {'action': 'open door to workshop',\n  'template_id': 0,\n  'obj_ids': [17574],\n  'type_ids': [140]},\n {'action': 'open door to kitchen',\n  'template_id': 0,\n  'obj_ids': [17562],\n  'type_ids': [140]},\n {'action': 'open door to living room',\n  'template_id': 0,\n  'obj_ids': [17565],\n  'type_ids': [140]},\n {'action': 'open door to greenhouse',\n  'template_id': 0,\n  'obj_ids': [17577],\n  'type_ids': [140]},\n {'action': 'look around', 'template_id': 3, 'obj_ids': [], 'type_ids': []},\n {'action': 'look at art studio door',\n  'template_id': 4,\n  'obj_ids': [17580],\n  'type_ids': [140]},\n {'action': 'look at greenhouse',\n  'template_id': 4,\n  'obj_ids': [17418],\n  'type_ids': [132]},\n {'action': 'look at bedroom door',\n  'template_id': 4,\n  'obj_ids': [17568],\n  'type_ids': [140]},\n {'action': 'look at picture',\n  'template_id': 4,\n  'obj_ids': [17517],\n  'type_ids': [139]},\n {'action': 'look at orange',\n  'template_id': 4,\n  'obj_ids': [17598],\n  'type_ids': [193]},\n {'action': 'look at kitchen',\n  'template_id': 4,\n  'obj_ids': [17205],\n  'type_ids': [132]},\n {'action': 'look at door to workshop',\n  'template_id': 4,\n  'obj_ids': [17574],\n  'type_ids': [140]},\n {'action': 'look at art studio',\n  'template_id': 4,\n  'obj_ids': [17451],\n  'type_ids': [132]},\n {'action': 'look at door to kitchen',\n  'template_id': 4,\n  'obj_ids': [17562],\n  'type_ids': [140]},\n {'action': 'look at living room',\n  'template_id': 4,\n  'obj_ids': [17301],\n  'type_ids': [132]},\n {'action': 'look at hallway',\n  'template_id': 4,\n  'obj_ids': [17511],\n  'type_ids': [132]},\n {'action': 'look at air',\n  'template_id': 4,\n  'obj_ids': [17514],\n  'type_ids': [144]},\n {'action': 'look at bedroom',\n  'template_id': 4,\n  'obj_ids': [17325],\n  'type_ids': [132]},\n {'action': 'look at door to living room',\n  'template_id': 4,\n  'obj_ids': [17565],\n  'type_ids': [140]},\n {'action': 'look at agent',\n  'template_id': 4,\n  'obj_ids': [17592],\n  'type_ids': [0]},\n {'action': 'look at door to greenhouse',\n  'template_id': 4,\n  'obj_ids': [17577],\n  'type_ids': [140]},\n {'action': 'look at workshop',\n  'template_id': 4,\n  'obj_ids': [17382],\n  'type_ids': [132]},\n {'action': 'look at inventory',\n  'template_id': 4,\n  'obj_ids': [17595],\n  'type_ids': [1]},\n {'action': 'look in greenhouse',\n  'template_id': 5,\n  'obj_ids': [17418],\n  'type_ids': [132]},\n {'action': 'look in kitchen',\n  'template_id': 5,\n  'obj_ids': [17205],\n  'type_ids': [132]},\n {'action': 'look in art studio',\n  'template_id': 5,\n  'obj_ids': [17451],\n  'type_ids': [132]},\n {'action': 'look in living room',\n  'template_id': 5,\n  'obj_ids': [17301],\n  'type_ids': [132]},\n {'action': 'look in hallway',\n  'template_id': 5,\n  'obj_ids': [17511],\n  'type_ids': [132]},\n {'action': 'look in bedroom',\n  'template_id': 5,\n  'obj_ids': [17325],\n  'type_ids': [132]},\n {'action': 'look in workshop',\n  'template_id': 5,\n  'obj_ids': [17382],\n  'type_ids': [132]},\n {'action': 'look in inventory',\n  'template_id': 5,\n  'obj_ids': [17595],\n  'type_ids': [1]},\n {'action': 'eat orange',\n  'template_id': 8,\n  'obj_ids': [17598],\n  'type_ids': [193]},\n {'action': 'move picture to greenhouse',\n  'template_id': 9,\n  'obj_ids': [17517, 17418],\n  'type_ids': [139, 132]},\n {'action': 'move picture to kitchen',\n  'template_id': 9,\n  'obj_ids': [17517, 17205],\n  'type_ids': [139, 132]},\n {'action': 'move picture to art studio',\n  'template_id': 9,\n  'obj_ids': [17517, 17451],\n  'type_ids': [139, 132]},\n {'action': 'move picture to living room',\n  'template_id': 9,\n  'obj_ids': [17517, 17301],\n  'type_ids': [139, 132]},\n {'action': 'move picture to hallway',\n  'template_id': 9,\n  'obj_ids': [17517, 17511],\n  'type_ids': [139, 132]},\n {'action': 'move picture to bedroom',\n  'template_id': 9,\n  'obj_ids': [17517, 17325],\n  'type_ids': [139, 132]},\n {'action': 'move picture to workshop',\n  'template_id': 9,\n  'obj_ids': [17517, 17382],\n  'type_ids': [139, 132]},\n {'action': 'move picture to inventory',\n  'template_id': 9,\n  'obj_ids': [17517, 17595],\n  'type_ids': [139, 1]},\n {'action': 'move orange to greenhouse',\n  'template_id': 9,\n  'obj_ids': [17598, 17418],\n  'type_ids': [193, 132]},\n {'action': 'move orange to kitchen',\n  'template_id': 9,\n  'obj_ids': [17598, 17205],\n  'type_ids': [193, 132]},\n {'action': 'move orange to art studio',\n  'template_id': 9,\n  'obj_ids': [17598, 17451],\n  'type_ids': [193, 132]},\n {'action': 'move orange to living room',\n  'template_id': 9,\n  'obj_ids': [17598, 17301],\n  'type_ids': [193, 132]},\n {'action': 'move orange to hallway',\n  'template_id': 9,\n  'obj_ids': [17598, 17511],\n  'type_ids': [193, 132]},\n {'action': 'move orange to bedroom',\n  'template_id': 9,\n  'obj_ids': [17598, 17325],\n  'type_ids': [193, 132]},\n {'action': 'move orange to workshop',\n  'template_id': 9,\n  'obj_ids': [17598, 17382],\n  'type_ids': [193, 132]},\n {'action': 'move orange to inventory',\n  'template_id': 9,\n  'obj_ids': [17598, 17595],\n  'type_ids': [193, 1]},\n {'action': 'focus on art studio door',\n  'template_id': 11,\n  'obj_ids': [17580],\n  'type_ids': [140]},\n {'action': 'focus on greenhouse',\n  'template_id': 11,\n  'obj_ids': [17418],\n  'type_ids': [132]},\n {'action': 'focus on bedroom door',\n  'template_id': 11,\n  'obj_ids': [17568],\n  'type_ids': [140]},\n {'action': 'focus on picture',\n  'template_id': 11,\n  'obj_ids': [17517],\n  'type_ids': [139]},\n {'action': 'focus on orange',\n  'template_id': 11,\n  'obj_ids': [17598],\n  'type_ids': [193]},\n {'action': 'focus on kitchen',\n  'template_id': 11,\n  'obj_ids': [17205],\n  'type_ids': [132]},\n {'action': 'focus on door to workshop',\n  'template_id': 11,\n  'obj_ids': [17574],\n  'type_ids': [140]},\n {'action': 'focus on art studio',\n  'template_id': 11,\n  'obj_ids': [17451],\n  'type_ids': [132]},\n {'action': 'focus on door to kitchen',\n  'template_id': 11,\n  'obj_ids': [17562],\n  'type_ids': [140]},\n {'action': 'focus on living room',\n  'template_id': 11,\n  'obj_ids': [17301],\n  'type_ids': [132]},\n {'action': 'focus on hallway',\n  'template_id': 11,\n  'obj_ids': [17511],\n  'type_ids': [132]},\n {'action': 'focus on air',\n  'template_id': 11,\n  'obj_ids': [17514],\n  'type_ids': [144]},\n {'action': 'focus on bedroom',\n  'template_id': 11,\n  'obj_ids': [17325],\n  'type_ids': [132]},\n {'action': 'focus on door to living room',\n  'template_id': 11,\n  'obj_ids': [17565],\n  'type_ids': [140]},\n {'action': 'focus on agent',\n  'template_id': 11,\n  'obj_ids': [17592],\n  'type_ids': [0]},\n {'action': 'focus on door to greenhouse',\n  'template_id': 11,\n  'obj_ids': [17577],\n  'type_ids': [140]},\n {'action': 'focus on workshop',\n  'template_id': 11,\n  'obj_ids': [17382],\n  'type_ids': [132]},\n {'action': 'focus on inventory',\n  'template_id': 11,\n  'obj_ids': [17595],\n  'type_ids': [1]},\n {'action': 'reset task', 'template_id': 12, 'obj_ids': [], 'type_ids': []},\n {'action': 'connect art studio door to greenhouse',\n  'template_id': 16,\n  'obj_ids': [17580, 17418],\n  'type_ids': [140, 132]},\n {'action': 'connect art studio door to bedroom door',\n  'template_id': 16,\n  'obj_ids': [17580, 17568],\n  'type_ids': [140, 140]},\n {'action': 'connect art studio door to picture',\n  'template_id': 16,\n  'obj_ids': [17580, 17517],\n  'type_ids': [140, 139]},\n {'action': 'connect art studio door to orange',\n  'template_id': 16,\n  'obj_ids': [17580, 17598],\n  'type_ids': [140, 193]},\n {'action': 'connect art studio door to kitchen',\n  'template_id': 16,\n  'obj_ids': [17580, 17205],\n  'type_ids': [140, 132]},\n {'action': 'connect art studio door to door to workshop',\n  'template_id': 16,\n  'obj_ids': [17580, 17574],\n  'type_ids': [140, 140]},\n {'action': 'connect art studio door to art studio',\n  'template_id': 16,\n  'obj_ids': [17580, 17451],\n  'type_ids': [140, 132]},\n {'action': 'connect art studio door to door to kitchen',\n  'template_id': 16,\n  'obj_ids': [17580, 17562],\n  'type_ids': [140, 140]},\n {'action': 'connect art studio door to living room',\n  'template_id': 16,\n  'obj_ids': [17580, 17301],\n  'type_ids': [140, 132]},\n {'action': 'connect art studio door to hallway',\n  'template_id': 16,\n  'obj_ids': [17580, 17511],\n  'type_ids': [140, 132]},\n {'action': 'connect art studio door to air',\n  'template_id': 16,\n  'obj_ids': [17580, 17514],\n  'type_ids': [140, 144]},\n {'action': 'connect art studio door to bedroom',\n  'template_id': 16,\n  'obj_ids': [17580, 17325],\n  'type_ids': [140, 132]},\n {'action': 'connect art studio door to door to living room',\n  'template_id': 16,\n  'obj_ids': [17580, 17565],\n  'type_ids': [140, 140]},\n {'action': 'connect art studio door to agent',\n  'template_id': 16,\n  'obj_ids': [17580, 17592],\n  'type_ids': [140, 0]},\n {'action': 'connect art studio door to door to greenhouse',\n  'template_id': 16,\n  'obj_ids': [17580, 17577],\n  'type_ids': [140, 140]},\n {'action': 'connect art studio door to workshop',\n  'template_id': 16,\n  'obj_ids': [17580, 17382],\n  'type_ids': [140, 132]},\n {'action': 'connect art studio door to inventory',\n  'template_id': 16,\n  'obj_ids': [17580, 17595],\n  'type_ids': [140, 1]},\n {'action': 'connect greenhouse to art studio door',\n  'template_id': 16,\n  'obj_ids': [17418, 17580],\n  'type_ids': [132, 140]},\n {'action': 'connect greenhouse to bedroom door',\n  'template_id': 16,\n  'obj_ids': [17418, 17568],\n  'type_ids': [132, 140]},\n {'action': 'connect greenhouse to picture',\n  'template_id': 16,\n  'obj_ids': [17418, 17517],\n  'type_ids': [132, 139]},\n {'action': 'connect greenhouse to orange',\n  'template_id': 16,\n  'obj_ids': [17418, 17598],\n  'type_ids': [132, 193]},\n {'action': 'connect greenhouse to kitchen',\n  'template_id': 16,\n  'obj_ids': [17418, 17205],\n  'type_ids': [132, 132]},\n {'action': 'connect greenhouse to door to workshop',\n  'template_id': 16,\n  'obj_ids': [17418, 17574],\n  'type_ids': [132, 140]},\n {'action': 'connect greenhouse to art studio',\n  'template_id': 16,\n  'obj_ids': [17418, 17451],\n  'type_ids': [132, 132]},\n {'action': 'connect greenhouse to door to kitchen',\n  'template_id': 16,\n  'obj_ids': [17418, 17562],\n  'type_ids': [132, 140]},\n {'action': 'connect greenhouse to living room',\n  'template_id': 16,\n  'obj_ids': [17418, 17301],\n  'type_ids': [132, 132]},\n {'action': 'connect greenhouse to hallway',\n  'template_id': 16,\n  'obj_ids': [17418, 17511],\n  'type_ids': [132, 132]},\n {'action': 'connect greenhouse to air',\n  'template_id': 16,\n  'obj_ids': [17418, 17514],\n  'type_ids': [132, 144]},\n {'action': 'connect greenhouse to bedroom',\n  'template_id': 16,\n  'obj_ids': [17418, 17325],\n  'type_ids': [132, 132]},\n {'action': 'connect greenhouse to door to living room',\n  'template_id': 16,\n  'obj_ids': [17418, 17565],\n  'type_ids': [132, 140]},\n {'action': 'connect greenhouse to agent',\n  'template_id': 16,\n  'obj_ids': [17418, 17592],\n  'type_ids': [132, 0]},\n {'action': 'connect greenhouse to door to greenhouse',\n  'template_id': 16,\n  'obj_ids': [17418, 17577],\n  'type_ids': [132, 140]},\n {'action': 'connect greenhouse to workshop',\n  'template_id': 16,\n  'obj_ids': [17418, 17382],\n  'type_ids': [132, 132]},\n {'action': 'connect greenhouse to inventory',\n  'template_id': 16,\n  'obj_ids': [17418, 17595],\n  'type_ids': [132, 1]},\n {'action': 'connect bedroom door to art studio door',\n  'template_id': 16,\n  'obj_ids': [17568, 17580],\n  'type_ids': [140, 140]},\n {'action': 'connect bedroom door to greenhouse',\n  'template_id': 16,\n  'obj_ids': [17568, 17418],\n  'type_ids': [140, 132]},\n {'action': 'connect bedroom door to picture',\n  'template_id': 16,\n  'obj_ids': [17568, 17517],\n  'type_ids': [140, 139]},\n {'action': 'connect bedroom door to orange',\n  'template_id': 16,\n  'obj_ids': [17568, 17598],\n  'type_ids': [140, 193]},\n {'action': 'connect bedroom door to kitchen',\n  'template_id': 16,\n  'obj_ids': [17568, 17205],\n  'type_ids': [140, 132]},\n {'action': 'connect bedroom door to door to workshop',\n  'template_id': 16,\n  'obj_ids': [17568, 17574],\n  'type_ids': [140, 140]},\n {'action': 'connect bedroom door to art studio',\n  'template_id': 16,\n  'obj_ids': [17568, 17451],\n  'type_ids': [140, 132]},\n {'action': 'connect bedroom door to door to kitchen',\n  'template_id': 16,\n  'obj_ids': [17568, 17562],\n  'type_ids': [140, 140]},\n {'action': 'connect bedroom door to living room',\n  'template_id': 16,\n  'obj_ids': [17568, 17301],\n  'type_ids': [140, 132]},\n {'action': 'connect bedroom door to hallway',\n  'template_id': 16,\n  'obj_ids': [17568, 17511],\n  'type_ids': [140, 132]},\n {'action': 'connect bedroom door to air',\n  'template_id': 16,\n  'obj_ids': [17568, 17514],\n  'type_ids': [140, 144]},\n {'action': 'connect bedroom door to bedroom',\n  'template_id': 16,\n  'obj_ids': [17568, 17325],\n  'type_ids': [140, 132]},\n {'action': 'connect bedroom door to door to living room',\n  'template_id': 16,\n  'obj_ids': [17568, 17565],\n  'type_ids': [140, 140]},\n {'action': 'connect bedroom door to agent',\n  'template_id': 16,\n  'obj_ids': [17568, 17592],\n  'type_ids': [140, 0]},\n {'action': 'connect bedroom door to door to greenhouse',\n  'template_id': 16,\n  'obj_ids': [17568, 17577],\n  'type_ids': [140, 140]},\n {'action': 'connect bedroom door to workshop',\n  'template_id': 16,\n  'obj_ids': [17568, 17382],\n  'type_ids': [140, 132]},\n {'action': 'connect bedroom door to inventory',\n  'template_id': 16,\n  'obj_ids': [17568, 17595],\n  'type_ids': [140, 1]},\n {'action': 'connect picture to art studio door',\n  'template_id': 16,\n  'obj_ids': [17517, 17580],\n  'type_ids': [139, 140]},\n {'action': 'connect picture to greenhouse',\n  'template_id': 16,\n  'obj_ids': [17517, 17418],\n  'type_ids': [139, 132]},\n {'action': 'connect picture to bedroom door',\n  'template_id': 16,\n  'obj_ids': [17517, 17568],\n  'type_ids': [139, 140]},\n {'action': 'connect picture to orange',\n  'template_id': 16,\n  'obj_ids': [17517, 17598],\n  'type_ids': [139, 193]},\n {'action': 'connect picture to kitchen',\n  'template_id': 16,\n  'obj_ids': [17517, 17205],\n  'type_ids': [139, 132]},\n {'action': 'connect picture to door to workshop',\n  'template_id': 16,\n  'obj_ids': [17517, 17574],\n  'type_ids': [139, 140]},\n {'action': 'connect picture to art studio',\n  'template_id': 16,\n  'obj_ids': [17517, 17451],\n  'type_ids': [139, 132]},\n {'action': 'connect picture to door to kitchen',\n  'template_id': 16,\n  'obj_ids': [17517, 17562],\n  'type_ids': [139, 140]},\n {'action': 'connect picture to living room',\n  'template_id': 16,\n  'obj_ids': [17517, 17301],\n  'type_ids': [139, 132]},\n {'action': 'connect picture to hallway',\n  'template_id': 16,\n  'obj_ids': [17517, 17511],\n  'type_ids': [139, 132]},\n {'action': 'connect picture to air',\n  'template_id': 16,\n  'obj_ids': [17517, 17514],\n  'type_ids': [139, 144]},\n {'action': 'connect picture to bedroom',\n  'template_id': 16,\n  'obj_ids': [17517, 17325],\n  'type_ids': [139, 132]},\n {'action': 'connect picture to door to living room',\n  'template_id': 16,\n  'obj_ids': [17517, 17565],\n  'type_ids': [139, 140]},\n {'action': 'connect picture to agent',\n  'template_id': 16,\n  'obj_ids': [17517, 17592],\n  'type_ids': [139, 0]},\n {'action': 'connect picture to door to greenhouse',\n  'template_id': 16,\n  'obj_ids': [17517, 17577],\n  'type_ids': [139, 140]},\n {'action': 'connect picture to workshop',\n  'template_id': 16,\n  'obj_ids': [17517, 17382],\n  'type_ids': [139, 132]},\n {'action': 'connect picture to inventory',\n  'template_id': 16,\n  'obj_ids': [17517, 17595],\n  'type_ids': [139, 1]},\n {'action': 'connect orange to art studio door',\n  'template_id': 16,\n  'obj_ids': [17598, 17580],\n  'type_ids': [193, 140]},\n {'action': 'connect orange to greenhouse',\n  'template_id': 16,\n  'obj_ids': [17598, 17418],\n  'type_ids': [193, 132]},\n {'action': 'connect orange to bedroom door',\n  'template_id': 16,\n  'obj_ids': [17598, 17568],\n  'type_ids': [193, 140]},\n {'action': 'connect orange to picture',\n  'template_id': 16,\n  'obj_ids': [17598, 17517],\n  'type_ids': [193, 139]},\n {'action': 'connect orange to kitchen',\n  'template_id': 16,\n  'obj_ids': [17598, 17205],\n  'type_ids': [193, 132]},\n {'action': 'connect orange to door to workshop',\n  'template_id': 16,\n  'obj_ids': [17598, 17574],\n  'type_ids': [193, 140]},\n {'action': 'connect orange to art studio',\n  'template_id': 16,\n  'obj_ids': [17598, 17451],\n  'type_ids': [193, 132]},\n {'action': 'connect orange to door to kitchen',\n  'template_id': 16,\n  'obj_ids': [17598, 17562],\n  'type_ids': [193, 140]},\n {'action': 'connect orange to living room',\n  'template_id': 16,\n  'obj_ids': [17598, 17301],\n  'type_ids': [193, 132]},\n {'action': 'connect orange to hallway',\n  'template_id': 16,\n  'obj_ids': [17598, 17511],\n  'type_ids': [193, 132]},\n {'action': 'connect orange to air',\n  'template_id': 16,\n  'obj_ids': [17598, 17514],\n  'type_ids': [193, 144]},\n {'action': 'connect orange to bedroom',\n  'template_id': 16,\n  'obj_ids': [17598, 17325],\n  'type_ids': [193, 132]},\n {'action': 'connect orange to door to living room',\n  'template_id': 16,\n  'obj_ids': [17598, 17565],\n  'type_ids': [193, 140]},\n {'action': 'connect orange to agent',\n  'template_id': 16,\n  'obj_ids': [17598, 17592],\n  'type_ids': [193, 0]},\n {'action': 'connect orange to door to greenhouse',\n  'template_id': 16,\n  'obj_ids': [17598, 17577],\n  'type_ids': [193, 140]},\n {'action': 'connect orange to workshop',\n  'template_id': 16,\n  'obj_ids': [17598, 17382],\n  'type_ids': [193, 132]},\n {'action': 'connect orange to inventory',\n  'template_id': 16,\n  'obj_ids': [17598, 17595],\n  'type_ids': [193, 1]},\n {'action': 'connect kitchen to art studio door',\n  'template_id': 16,\n  'obj_ids': [17205, 17580],\n  'type_ids': [132, 140]},\n {'action': 'connect kitchen to greenhouse',\n  'template_id': 16,\n  'obj_ids': [17205, 17418],\n  'type_ids': [132, 132]},\n {'action': 'connect kitchen to bedroom door',\n  'template_id': 16,\n  'obj_ids': [17205, 17568],\n  'type_ids': [132, 140]},\n {'action': 'connect kitchen to picture',\n  'template_id': 16,\n  'obj_ids': [17205, 17517],\n  'type_ids': [132, 139]},\n {'action': 'connect kitchen to orange',\n  'template_id': 16,\n  'obj_ids': [17205, 17598],\n  'type_ids': [132, 193]},\n {'action': 'connect kitchen to door to workshop',\n  'template_id': 16,\n  'obj_ids': [17205, 17574],\n  'type_ids': [132, 140]},\n {'action': 'connect kitchen to art studio',\n  'template_id': 16,\n  'obj_ids': [17205, 17451],\n  'type_ids': [132, 132]},\n {'action': 'connect kitchen to door to kitchen',\n  'template_id': 16,\n  'obj_ids': [17205, 17562],\n  'type_ids': [132, 140]},\n {'action': 'connect kitchen to living room',\n  'template_id': 16,\n  'obj_ids': [17205, 17301],\n  'type_ids': [132, 132]},\n {'action': 'connect kitchen to hallway',\n  'template_id': 16,\n  'obj_ids': [17205, 17511],\n  'type_ids': [132, 132]},\n {'action': 'connect kitchen to air',\n  'template_id': 16,\n  'obj_ids': [17205, 17514],\n  'type_ids': [132, 144]},\n {'action': 'connect kitchen to bedroom',\n  'template_id': 16,\n  'obj_ids': [17205, 17325],\n  'type_ids': [132, 132]},\n {'action': 'connect kitchen to door to living room',\n  'template_id': 16,\n  'obj_ids': [17205, 17565],\n  'type_ids': [132, 140]},\n {'action': 'connect kitchen to agent',\n  'template_id': 16,\n  'obj_ids': [17205, 17592],\n  'type_ids': [132, 0]},\n {'action': 'connect kitchen to door to greenhouse',\n  'template_id': 16,\n  'obj_ids': [17205, 17577],\n  'type_ids': [132, 140]},\n {'action': 'connect kitchen to workshop',\n  'template_id': 16,\n  'obj_ids': [17205, 17382],\n  'type_ids': [132, 132]},\n {'action': 'connect kitchen to inventory',\n  'template_id': 16,\n  'obj_ids': [17205, 17595],\n  'type_ids': [132, 1]},\n {'action': 'connect door to workshop to art studio door',\n  'template_id': 16,\n  'obj_ids': [17574, 17580],\n  'type_ids': [140, 140]},\n {'action': 'connect door to workshop to greenhouse',\n  'template_id': 16,\n  'obj_ids': [17574, 17418],\n  'type_ids': [140, 132]},\n {'action': 'connect door to workshop to bedroom door',\n  'template_id': 16,\n  'obj_ids': [17574, 17568],\n  'type_ids': [140, 140]},\n {'action': 'connect door to workshop to picture',\n  'template_id': 16,\n  'obj_ids': [17574, 17517],\n  'type_ids': [140, 139]},\n {'action': 'connect door to workshop to orange',\n  'template_id': 16,\n  'obj_ids': [17574, 17598],\n  'type_ids': [140, 193]},\n {'action': 'connect door to workshop to kitchen',\n  'template_id': 16,\n  'obj_ids': [17574, 17205],\n  'type_ids': [140, 132]},\n {'action': 'connect door to workshop to art studio',\n  'template_id': 16,\n  'obj_ids': [17574, 17451],\n  'type_ids': [140, 132]},\n {'action': 'connect door to workshop to door to kitchen',\n  'template_id': 16,\n  'obj_ids': [17574, 17562],\n  'type_ids': [140, 140]},\n {'action': 'connect door to workshop to living room',\n  'template_id': 16,\n  'obj_ids': [17574, 17301],\n  'type_ids': [140, 132]},\n {'action': 'connect door to workshop to hallway',\n  'template_id': 16,\n  'obj_ids': [17574, 17511],\n  'type_ids': [140, 132]},\n {'action': 'connect door to workshop to air',\n  'template_id': 16,\n  'obj_ids': [17574, 17514],\n  'type_ids': [140, 144]},\n {'action': 'connect door to workshop to bedroom',\n  'template_id': 16,\n  'obj_ids': [17574, 17325],\n  'type_ids': [140, 132]},\n {'action': 'connect door to workshop to door to living room',\n  'template_id': 16,\n  'obj_ids': [17574, 17565],\n  'type_ids': [140, 140]},\n {'action': 'connect door to workshop to agent',\n  'template_id': 16,\n  'obj_ids': [17574, 17592],\n  'type_ids': [140, 0]},\n {'action': 'connect door to workshop to door to greenhouse',\n  'template_id': 16,\n  'obj_ids': [17574, 17577],\n  'type_ids': [140, 140]},\n {'action': 'connect door to workshop to workshop',\n  'template_id': 16,\n  'obj_ids': [17574, 17382],\n  'type_ids': [140, 132]},\n {'action': 'connect door to workshop to inventory',\n  'template_id': 16,\n  'obj_ids': [17574, 17595],\n  'type_ids': [140, 1]},\n {'action': 'connect art studio to art studio door',\n  'template_id': 16,\n  'obj_ids': [17451, 17580],\n  'type_ids': [132, 140]},\n {'action': 'connect art studio to greenhouse',\n  'template_id': 16,\n  'obj_ids': [17451, 17418],\n  'type_ids': [132, 132]},\n {'action': 'connect art studio to bedroom door',\n  'template_id': 16,\n  'obj_ids': [17451, 17568],\n  'type_ids': [132, 140]},\n {'action': 'connect art studio to picture',\n  'template_id': 16,\n  'obj_ids': [17451, 17517],\n  'type_ids': [132, 139]},\n {'action': 'connect art studio to orange',\n  'template_id': 16,\n  'obj_ids': [17451, 17598],\n  'type_ids': [132, 193]},\n {'action': 'connect art studio to kitchen',\n  'template_id': 16,\n  'obj_ids': [17451, 17205],\n  'type_ids': [132, 132]},\n {'action': 'connect art studio to door to workshop',\n  'template_id': 16,\n  'obj_ids': [17451, 17574],\n  'type_ids': [132, 140]},\n {'action': 'connect art studio to door to kitchen',\n  'template_id': 16,\n  'obj_ids': [17451, 17562],\n  'type_ids': [132, 140]},\n {'action': 'connect art studio to living room',\n  'template_id': 16,\n  'obj_ids': [17451, 17301],\n  'type_ids': [132, 132]},\n {'action': 'connect art studio to hallway',\n  'template_id': 16,\n  'obj_ids': [17451, 17511],\n  'type_ids': [132, 132]},\n {'action': 'connect art studio to air',\n  'template_id': 16,\n  'obj_ids': [17451, 17514],\n  'type_ids': [132, 144]},\n {'action': 'connect art studio to bedroom',\n  'template_id': 16,\n  'obj_ids': [17451, 17325],\n  'type_ids': [132, 132]},\n {'action': 'connect art studio to door to living room',\n  'template_id': 16,\n  'obj_ids': [17451, 17565],\n  'type_ids': [132, 140]},\n {'action': 'connect art studio to agent',\n  'template_id': 16,\n  'obj_ids': [17451, 17592],\n  'type_ids': [132, 0]},\n {'action': 'connect art studio to door to greenhouse',\n  'template_id': 16,\n  'obj_ids': [17451, 17577],\n  'type_ids': [132, 140]},\n {'action': 'connect art studio to workshop',\n  'template_id': 16,\n  'obj_ids': [17451, 17382],\n  'type_ids': [132, 132]},\n {'action': 'connect art studio to inventory',\n  'template_id': 16,\n  'obj_ids': [17451, 17595],\n  'type_ids': [132, 1]},\n {'action': 'connect door to kitchen to art studio door',\n  'template_id': 16,\n  'obj_ids': [17562, 17580],\n  'type_ids': [140, 140]},\n {'action': 'connect door to kitchen to greenhouse',\n  'template_id': 16,\n  'obj_ids': [17562, 17418],\n  'type_ids': [140, 132]},\n {'action': 'connect door to kitchen to bedroom door',\n  'template_id': 16,\n  'obj_ids': [17562, 17568],\n  'type_ids': [140, 140]},\n {'action': 'connect door to kitchen to picture',\n  'template_id': 16,\n  'obj_ids': [17562, 17517],\n  'type_ids': [140, 139]},\n {'action': 'connect door to kitchen to orange',\n  'template_id': 16,\n  'obj_ids': [17562, 17598],\n  'type_ids': [140, 193]},\n {'action': 'connect door to kitchen to kitchen',\n  'template_id': 16,\n  'obj_ids': [17562, 17205],\n  'type_ids': [140, 132]},\n {'action': 'connect door to kitchen to door to workshop',\n  'template_id': 16,\n  'obj_ids': [17562, 17574],\n  'type_ids': [140, 140]},\n {'action': 'connect door to kitchen to art studio',\n  'template_id': 16,\n  'obj_ids': [17562, 17451],\n  'type_ids': [140, 132]},\n {'action': 'connect door to kitchen to living room',\n  'template_id': 16,\n  'obj_ids': [17562, 17301],\n  'type_ids': [140, 132]},\n {'action': 'connect door to kitchen to hallway',\n  'template_id': 16,\n  'obj_ids': [17562, 17511],\n  'type_ids': [140, 132]},\n {'action': 'connect door to kitchen to air',\n  'template_id': 16,\n  'obj_ids': [17562, 17514],\n  'type_ids': [140, 144]},\n {'action': 'connect door to kitchen to bedroom',\n  'template_id': 16,\n  'obj_ids': [17562, 17325],\n  'type_ids': [140, 132]},\n {'action': 'connect door to kitchen to door to living room',\n  'template_id': 16,\n  'obj_ids': [17562, 17565],\n  'type_ids': [140, 140]},\n {'action': 'connect door to kitchen to agent',\n  'template_id': 16,\n  'obj_ids': [17562, 17592],\n  'type_ids': [140, 0]},\n {'action': 'connect door to kitchen to door to greenhouse',\n  'template_id': 16,\n  'obj_ids': [17562, 17577],\n  'type_ids': [140, 140]},\n {'action': 'connect door to kitchen to workshop',\n  'template_id': 16,\n  'obj_ids': [17562, 17382],\n  'type_ids': [140, 132]},\n {'action': 'connect door to kitchen to inventory',\n  'template_id': 16,\n  'obj_ids': [17562, 17595],\n  'type_ids': [140, 1]},\n {'action': 'connect living room to art studio door',\n  'template_id': 16,\n  'obj_ids': [17301, 17580],\n  'type_ids': [132, 140]},\n {'action': 'connect living room to greenhouse',\n  'template_id': 16,\n  'obj_ids': [17301, 17418],\n  'type_ids': [132, 132]},\n {'action': 'connect living room to bedroom door',\n  'template_id': 16,\n  'obj_ids': [17301, 17568],\n  'type_ids': [132, 140]},\n {'action': 'connect living room to picture',\n  'template_id': 16,\n  'obj_ids': [17301, 17517],\n  'type_ids': [132, 139]},\n {'action': 'connect living room to orange',\n  'template_id': 16,\n  'obj_ids': [17301, 17598],\n  'type_ids': [132, 193]},\n {'action': 'connect living room to kitchen',\n  'template_id': 16,\n  'obj_ids': [17301, 17205],\n  'type_ids': [132, 132]},\n {'action': 'connect living room to door to workshop',\n  'template_id': 16,\n  'obj_ids': [17301, 17574],\n  'type_ids': [132, 140]},\n {'action': 'connect living room to art studio',\n  'template_id': 16,\n  'obj_ids': [17301, 17451],\n  'type_ids': [132, 132]},\n {'action': 'connect living room to door to kitchen',\n  'template_id': 16,\n  'obj_ids': [17301, 17562],\n  'type_ids': [132, 140]},\n {'action': 'connect living room to hallway',\n  'template_id': 16,\n  'obj_ids': [17301, 17511],\n  'type_ids': [132, 132]},\n {'action': 'connect living room to air',\n  'template_id': 16,\n  'obj_ids': [17301, 17514],\n  'type_ids': [132, 144]},\n {'action': 'connect living room to bedroom',\n  'template_id': 16,\n  'obj_ids': [17301, 17325],\n  'type_ids': [132, 132]},\n {'action': 'connect living room to door to living room',\n  'template_id': 16,\n  'obj_ids': [17301, 17565],\n  'type_ids': [132, 140]},\n {'action': 'connect living room to agent',\n  'template_id': 16,\n  'obj_ids': [17301, 17592],\n  'type_ids': [132, 0]},\n {'action': 'connect living room to door to greenhouse',\n  'template_id': 16,\n  'obj_ids': [17301, 17577],\n  'type_ids': [132, 140]},\n {'action': 'connect living room to workshop',\n  'template_id': 16,\n  'obj_ids': [17301, 17382],\n  'type_ids': [132, 132]},\n {'action': 'connect living room to inventory',\n  'template_id': 16,\n  'obj_ids': [17301, 17595],\n  'type_ids': [132, 1]},\n {'action': 'connect hallway to art studio door',\n  'template_id': 16,\n  'obj_ids': [17511, 17580],\n  'type_ids': [132, 140]},\n {'action': 'connect hallway to greenhouse',\n  'template_id': 16,\n  'obj_ids': [17511, 17418],\n  'type_ids': [132, 132]},\n {'action': 'connect hallway to bedroom door',\n  'template_id': 16,\n  'obj_ids': [17511, 17568],\n  'type_ids': [132, 140]},\n {'action': 'connect hallway to picture',\n  'template_id': 16,\n  'obj_ids': [17511, 17517],\n  'type_ids': [132, 139]},\n {'action': 'connect hallway to orange',\n  'template_id': 16,\n  'obj_ids': [17511, 17598],\n  'type_ids': [132, 193]},\n {'action': 'connect hallway to kitchen',\n  'template_id': 16,\n  'obj_ids': [17511, 17205],\n  'type_ids': [132, 132]},\n {'action': 'connect hallway to door to workshop',\n  'template_id': 16,\n  'obj_ids': [17511, 17574],\n  'type_ids': [132, 140]},\n {'action': 'connect hallway to art studio',\n  'template_id': 16,\n  'obj_ids': [17511, 17451],\n  'type_ids': [132, 132]},\n {'action': 'connect hallway to door to kitchen',\n  'template_id': 16,\n  'obj_ids': [17511, 17562],\n  'type_ids': [132, 140]},\n {'action': 'connect hallway to living room',\n  'template_id': 16,\n  'obj_ids': [17511, 17301],\n  'type_ids': [132, 132]},\n {'action': 'connect hallway to air',\n  'template_id': 16,\n  'obj_ids': [17511, 17514],\n  'type_ids': [132, 144]},\n {'action': 'connect hallway to bedroom',\n  'template_id': 16,\n  'obj_ids': [17511, 17325],\n  'type_ids': [132, 132]},\n {'action': 'connect hallway to door to living room',\n  'template_id': 16,\n  'obj_ids': [17511, 17565],\n  'type_ids': [132, 140]},\n {'action': 'connect hallway to agent',\n  'template_id': 16,\n  'obj_ids': [17511, 17592],\n  'type_ids': [132, 0]},\n {'action': 'connect hallway to door to greenhouse',\n  'template_id': 16,\n  'obj_ids': [17511, 17577],\n  'type_ids': [132, 140]},\n {'action': 'connect hallway to workshop',\n  'template_id': 16,\n  'obj_ids': [17511, 17382],\n  'type_ids': [132, 132]},\n {'action': 'connect hallway to inventory',\n  'template_id': 16,\n  'obj_ids': [17511, 17595],\n  'type_ids': [132, 1]},\n {'action': 'connect air to art studio door',\n  'template_id': 16,\n  'obj_ids': [17514, 17580],\n  'type_ids': [144, 140]},\n {'action': 'connect air to greenhouse',\n  'template_id': 16,\n  'obj_ids': [17514, 17418],\n  'type_ids': [144, 132]},\n {'action': 'connect air to bedroom door',\n  'template_id': 16,\n  'obj_ids': [17514, 17568],\n  'type_ids': [144, 140]},\n {'action': 'connect air to picture',\n  'template_id': 16,\n  'obj_ids': [17514, 17517],\n  'type_ids': [144, 139]},\n {'action': 'connect air to orange',\n  'template_id': 16,\n  'obj_ids': [17514, 17598],\n  'type_ids': [144, 193]},\n {'action': 'connect air to kitchen',\n  'template_id': 16,\n  'obj_ids': [17514, 17205],\n  'type_ids': [144, 132]},\n {'action': 'connect air to door to workshop',\n  'template_id': 16,\n  'obj_ids': [17514, 17574],\n  'type_ids': [144, 140]},\n {'action': 'connect air to art studio',\n  'template_id': 16,\n  'obj_ids': [17514, 17451],\n  'type_ids': [144, 132]},\n {'action': 'connect air to door to kitchen',\n  'template_id': 16,\n  'obj_ids': [17514, 17562],\n  'type_ids': [144, 140]},\n {'action': 'connect air to living room',\n  'template_id': 16,\n  'obj_ids': [17514, 17301],\n  'type_ids': [144, 132]},\n {'action': 'connect air to hallway',\n  'template_id': 16,\n  'obj_ids': [17514, 17511],\n  'type_ids': [144, 132]},\n {'action': 'connect air to bedroom',\n  'template_id': 16,\n  'obj_ids': [17514, 17325],\n  'type_ids': [144, 132]},\n {'action': 'connect air to door to living room',\n  'template_id': 16,\n  'obj_ids': [17514, 17565],\n  'type_ids': [144, 140]},\n {'action': 'connect air to agent',\n  'template_id': 16,\n  'obj_ids': [17514, 17592],\n  'type_ids': [144, 0]},\n {'action': 'connect air to door to greenhouse',\n  'template_id': 16,\n  'obj_ids': [17514, 17577],\n  'type_ids': [144, 140]},\n {'action': 'connect air to workshop',\n  'template_id': 16,\n  'obj_ids': [17514, 17382],\n  'type_ids': [144, 132]},\n {'action': 'connect air to inventory',\n  'template_id': 16,\n  'obj_ids': [17514, 17595],\n  'type_ids': [144, 1]},\n {'action': 'connect bedroom to art studio door',\n  'template_id': 16,\n  'obj_ids': [17325, 17580],\n  'type_ids': [132, 140]},\n {'action': 'connect bedroom to greenhouse',\n  'template_id': 16,\n  'obj_ids': [17325, 17418],\n  'type_ids': [132, 132]},\n {'action': 'connect bedroom to bedroom door',\n  'template_id': 16,\n  'obj_ids': [17325, 17568],\n  'type_ids': [132, 140]},\n {'action': 'connect bedroom to picture',\n  'template_id': 16,\n  'obj_ids': [17325, 17517],\n  'type_ids': [132, 139]},\n {'action': 'connect bedroom to orange',\n  'template_id': 16,\n  'obj_ids': [17325, 17598],\n  'type_ids': [132, 193]},\n {'action': 'connect bedroom to kitchen',\n  'template_id': 16,\n  'obj_ids': [17325, 17205],\n  'type_ids': [132, 132]},\n {'action': 'connect bedroom to door to workshop',\n  'template_id': 16,\n  'obj_ids': [17325, 17574],\n  'type_ids': [132, 140]},\n {'action': 'connect bedroom to art studio',\n  'template_id': 16,\n  'obj_ids': [17325, 17451],\n  'type_ids': [132, 132]},\n {'action': 'connect bedroom to door to kitchen',\n  'template_id': 16,\n  'obj_ids': [17325, 17562],\n  'type_ids': [132, 140]},\n {'action': 'connect bedroom to living room',\n  'template_id': 16,\n  'obj_ids': [17325, 17301],\n  'type_ids': [132, 132]},\n {'action': 'connect bedroom to hallway',\n  'template_id': 16,\n  'obj_ids': [17325, 17511],\n  'type_ids': [132, 132]},\n {'action': 'connect bedroom to air',\n  'template_id': 16,\n  'obj_ids': [17325, 17514],\n  'type_ids': [132, 144]},\n {'action': 'connect bedroom to door to living room',\n  'template_id': 16,\n  'obj_ids': [17325, 17565],\n  'type_ids': [132, 140]},\n {'action': 'connect bedroom to agent',\n  'template_id': 16,\n  'obj_ids': [17325, 17592],\n  'type_ids': [132, 0]},\n {'action': 'connect bedroom to door to greenhouse',\n  'template_id': 16,\n  'obj_ids': [17325, 17577],\n  'type_ids': [132, 140]},\n {'action': 'connect bedroom to workshop',\n  'template_id': 16,\n  'obj_ids': [17325, 17382],\n  'type_ids': [132, 132]},\n {'action': 'connect bedroom to inventory',\n  'template_id': 16,\n  'obj_ids': [17325, 17595],\n  'type_ids': [132, 1]},\n {'action': 'connect door to living room to art studio door',\n  'template_id': 16,\n  'obj_ids': [17565, 17580],\n  'type_ids': [140, 140]},\n {'action': 'connect door to living room to greenhouse',\n  'template_id': 16,\n  'obj_ids': [17565, 17418],\n  'type_ids': [140, 132]},\n {'action': 'connect door to living room to bedroom door',\n  'template_id': 16,\n  'obj_ids': [17565, 17568],\n  'type_ids': [140, 140]},\n {'action': 'connect door to living room to picture',\n  'template_id': 16,\n  'obj_ids': [17565, 17517],\n  'type_ids': [140, 139]},\n {'action': 'connect door to living room to orange',\n  'template_id': 16,\n  'obj_ids': [17565, 17598],\n  'type_ids': [140, 193]},\n {'action': 'connect door to living room to kitchen',\n  'template_id': 16,\n  'obj_ids': [17565, 17205],\n  'type_ids': [140, 132]},\n {'action': 'connect door to living room to door to workshop',\n  'template_id': 16,\n  'obj_ids': [17565, 17574],\n  'type_ids': [140, 140]},\n {'action': 'connect door to living room to art studio',\n  'template_id': 16,\n  'obj_ids': [17565, 17451],\n  'type_ids': [140, 132]},\n {'action': 'connect door to living room to door to kitchen',\n  'template_id': 16,\n  'obj_ids': [17565, 17562],\n  'type_ids': [140, 140]},\n {'action': 'connect door to living room to living room',\n  'template_id': 16,\n  'obj_ids': [17565, 17301],\n  'type_ids': [140, 132]},\n {'action': 'connect door to living room to hallway',\n  'template_id': 16,\n  'obj_ids': [17565, 17511],\n  'type_ids': [140, 132]},\n {'action': 'connect door to living room to air',\n  'template_id': 16,\n  'obj_ids': [17565, 17514],\n  'type_ids': [140, 144]},\n {'action': 'connect door to living room to bedroom',\n  'template_id': 16,\n  'obj_ids': [17565, 17325],\n  'type_ids': [140, 132]},\n {'action': 'connect door to living room to agent',\n  'template_id': 16,\n  'obj_ids': [17565, 17592],\n  'type_ids': [140, 0]},\n {'action': 'connect door to living room to door to greenhouse',\n  'template_id': 16,\n  'obj_ids': [17565, 17577],\n  'type_ids': [140, 140]},\n {'action': 'connect door to living room to workshop',\n  'template_id': 16,\n  'obj_ids': [17565, 17382],\n  'type_ids': [140, 132]},\n {'action': 'connect door to living room to inventory',\n  'template_id': 16,\n  'obj_ids': [17565, 17595],\n  'type_ids': [140, 1]},\n {'action': 'connect agent to art studio door',\n  'template_id': 16,\n  'obj_ids': [17592, 17580],\n  'type_ids': [0, 140]},\n {'action': 'connect agent to greenhouse',\n  'template_id': 16,\n  'obj_ids': [17592, 17418],\n  'type_ids': [0, 132]},\n {'action': 'connect agent to bedroom door',\n  'template_id': 16,\n  'obj_ids': [17592, 17568],\n  'type_ids': [0, 140]},\n {'action': 'connect agent to picture',\n  'template_id': 16,\n  'obj_ids': [17592, 17517],\n  'type_ids': [0, 139]},\n {'action': 'connect agent to orange',\n  'template_id': 16,\n  'obj_ids': [17592, 17598],\n  'type_ids': [0, 193]},\n {'action': 'connect agent to kitchen',\n  'template_id': 16,\n  'obj_ids': [17592, 17205],\n  'type_ids': [0, 132]},\n {'action': 'connect agent to door to workshop',\n  'template_id': 16,\n  'obj_ids': [17592, 17574],\n  'type_ids': [0, 140]},\n {'action': 'connect agent to art studio',\n  'template_id': 16,\n  'obj_ids': [17592, 17451],\n  'type_ids': [0, 132]},\n {'action': 'connect agent to door to kitchen',\n  'template_id': 16,\n  'obj_ids': [17592, 17562],\n  'type_ids': [0, 140]},\n {'action': 'connect agent to living room',\n  'template_id': 16,\n  'obj_ids': [17592, 17301],\n  'type_ids': [0, 132]},\n {'action': 'connect agent to hallway',\n  'template_id': 16,\n  'obj_ids': [17592, 17511],\n  'type_ids': [0, 132]},\n {'action': 'connect agent to air',\n  'template_id': 16,\n  'obj_ids': [17592, 17514],\n  'type_ids': [0, 144]},\n {'action': 'connect agent to bedroom',\n  'template_id': 16,\n  'obj_ids': [17592, 17325],\n  'type_ids': [0, 132]},\n {'action': 'connect agent to door to living room',\n  'template_id': 16,\n  'obj_ids': [17592, 17565],\n  'type_ids': [0, 140]},\n {'action': 'connect agent to door to greenhouse',\n  'template_id': 16,\n  'obj_ids': [17592, 17577],\n  'type_ids': [0, 140]},\n {'action': 'connect agent to workshop',\n  'template_id': 16,\n  'obj_ids': [17592, 17382],\n  'type_ids': [0, 132]},\n {'action': 'connect agent to inventory',\n  'template_id': 16,\n  'obj_ids': [17592, 17595],\n  'type_ids': [0, 1]},\n {'action': 'connect door to greenhouse to art studio door',\n  'template_id': 16,\n  'obj_ids': [17577, 17580],\n  'type_ids': [140, 140]},\n {'action': 'connect door to greenhouse to greenhouse',\n  'template_id': 16,\n  'obj_ids': [17577, 17418],\n  'type_ids': [140, 132]},\n {'action': 'connect door to greenhouse to bedroom door',\n  'template_id': 16,\n  'obj_ids': [17577, 17568],\n  'type_ids': [140, 140]},\n {'action': 'connect door to greenhouse to picture',\n  'template_id': 16,\n  'obj_ids': [17577, 17517],\n  'type_ids': [140, 139]},\n {'action': 'connect door to greenhouse to orange',\n  'template_id': 16,\n  'obj_ids': [17577, 17598],\n  'type_ids': [140, 193]},\n {'action': 'connect door to greenhouse to kitchen',\n  'template_id': 16,\n  'obj_ids': [17577, 17205],\n  'type_ids': [140, 132]},\n {'action': 'connect door to greenhouse to door to workshop',\n  'template_id': 16,\n  'obj_ids': [17577, 17574],\n  'type_ids': [140, 140]},\n {'action': 'connect door to greenhouse to art studio',\n  'template_id': 16,\n  'obj_ids': [17577, 17451],\n  'type_ids': [140, 132]},\n {'action': 'connect door to greenhouse to door to kitchen',\n  'template_id': 16,\n  'obj_ids': [17577, 17562],\n  'type_ids': [140, 140]},\n {'action': 'connect door to greenhouse to living room',\n  'template_id': 16,\n  'obj_ids': [17577, 17301],\n  'type_ids': [140, 132]},\n {'action': 'connect door to greenhouse to hallway',\n  'template_id': 16,\n  'obj_ids': [17577, 17511],\n  'type_ids': [140, 132]},\n {'action': 'connect door to greenhouse to air',\n  'template_id': 16,\n  'obj_ids': [17577, 17514],\n  'type_ids': [140, 144]},\n {'action': 'connect door to greenhouse to bedroom',\n  'template_id': 16,\n  'obj_ids': [17577, 17325],\n  'type_ids': [140, 132]},\n {'action': 'connect door to greenhouse to door to living room',\n  'template_id': 16,\n  'obj_ids': [17577, 17565],\n  'type_ids': [140, 140]},\n {'action': 'connect door to greenhouse to agent',\n  'template_id': 16,\n  'obj_ids': [17577, 17592],\n  'type_ids': [140, 0]},\n {'action': 'connect door to greenhouse to workshop',\n  'template_id': 16,\n  'obj_ids': [17577, 17382],\n  'type_ids': [140, 132]},\n {'action': 'connect door to greenhouse to inventory',\n  'template_id': 16,\n  'obj_ids': [17577, 17595],\n  'type_ids': [140, 1]},\n {'action': 'connect workshop to art studio door',\n  'template_id': 16,\n  'obj_ids': [17382, 17580],\n  'type_ids': [132, 140]},\n {'action': 'connect workshop to greenhouse',\n  'template_id': 16,\n  'obj_ids': [17382, 17418],\n  'type_ids': [132, 132]},\n {'action': 'connect workshop to bedroom door',\n  'template_id': 16,\n  'obj_ids': [17382, 17568],\n  'type_ids': [132, 140]},\n {'action': 'connect workshop to picture',\n  'template_id': 16,\n  'obj_ids': [17382, 17517],\n  'type_ids': [132, 139]},\n {'action': 'connect workshop to orange',\n  'template_id': 16,\n  'obj_ids': [17382, 17598],\n  'type_ids': [132, 193]},\n {'action': 'connect workshop to kitchen',\n  'template_id': 16,\n  'obj_ids': [17382, 17205],\n  'type_ids': [132, 132]},\n {'action': 'connect workshop to door to workshop',\n  'template_id': 16,\n  'obj_ids': [17382, 17574],\n  'type_ids': [132, 140]},\n {'action': 'connect workshop to art studio',\n  'template_id': 16,\n  'obj_ids': [17382, 17451],\n  'type_ids': [132, 132]},\n {'action': 'connect workshop to door to kitchen',\n  'template_id': 16,\n  'obj_ids': [17382, 17562],\n  'type_ids': [132, 140]},\n {'action': 'connect workshop to living room',\n  'template_id': 16,\n  'obj_ids': [17382, 17301],\n  'type_ids': [132, 132]},\n {'action': 'connect workshop to hallway',\n  'template_id': 16,\n  'obj_ids': [17382, 17511],\n  'type_ids': [132, 132]},\n {'action': 'connect workshop to air',\n  'template_id': 16,\n  'obj_ids': [17382, 17514],\n  'type_ids': [132, 144]},\n {'action': 'connect workshop to bedroom',\n  'template_id': 16,\n  'obj_ids': [17382, 17325],\n  'type_ids': [132, 132]},\n {'action': 'connect workshop to door to living room',\n  'template_id': 16,\n  'obj_ids': [17382, 17565],\n  'type_ids': [132, 140]},\n {'action': 'connect workshop to agent',\n  'template_id': 16,\n  'obj_ids': [17382, 17592],\n  'type_ids': [132, 0]},\n {'action': 'connect workshop to door to greenhouse',\n  'template_id': 16,\n  'obj_ids': [17382, 17577],\n  'type_ids': [132, 140]},\n {'action': 'connect workshop to inventory',\n  'template_id': 16,\n  'obj_ids': [17382, 17595],\n  'type_ids': [132, 1]},\n {'action': 'connect inventory to art studio door',\n  'template_id': 16,\n  'obj_ids': [17595, 17580],\n  'type_ids': [1, 140]},\n {'action': 'connect inventory to greenhouse',\n  'template_id': 16,\n  'obj_ids': [17595, 17418],\n  'type_ids': [1, 132]},\n {'action': 'connect inventory to bedroom door',\n  'template_id': 16,\n  'obj_ids': [17595, 17568],\n  'type_ids': [1, 140]},\n {'action': 'connect inventory to picture',\n  'template_id': 16,\n  'obj_ids': [17595, 17517],\n  'type_ids': [1, 139]},\n {'action': 'connect inventory to orange',\n  'template_id': 16,\n  'obj_ids': [17595, 17598],\n  'type_ids': [1, 193]},\n {'action': 'connect inventory to kitchen',\n  'template_id': 16,\n  'obj_ids': [17595, 17205],\n  'type_ids': [1, 132]},\n {'action': 'connect inventory to door to workshop',\n  'template_id': 16,\n  'obj_ids': [17595, 17574],\n  'type_ids': [1, 140]},\n {'action': 'connect inventory to art studio',\n  'template_id': 16,\n  'obj_ids': [17595, 17451],\n  'type_ids': [1, 132]},\n {'action': 'connect inventory to door to kitchen',\n  'template_id': 16,\n  'obj_ids': [17595, 17562],\n  'type_ids': [1, 140]},\n {'action': 'connect inventory to living room',\n  'template_id': 16,\n  'obj_ids': [17595, 17301],\n  'type_ids': [1, 132]},\n {'action': 'connect inventory to hallway',\n  'template_id': 16,\n  'obj_ids': [17595, 17511],\n  'type_ids': [1, 132]},\n {'action': 'connect inventory to air',\n  'template_id': 16,\n  'obj_ids': [17595, 17514],\n  'type_ids': [1, 144]},\n {'action': 'connect inventory to bedroom',\n  'template_id': 16,\n  'obj_ids': [17595, 17325],\n  'type_ids': [1, 132]},\n {'action': 'connect inventory to door to living room',\n  'template_id': 16,\n  'obj_ids': [17595, 17565],\n  'type_ids': [1, 140]},\n {'action': 'connect inventory to agent',\n  'template_id': 16,\n  'obj_ids': [17595, 17592],\n  'type_ids': [1, 0]},\n {'action': 'connect inventory to door to greenhouse',\n  'template_id': 16,\n  'obj_ids': [17595, 17577],\n  'type_ids': [1, 140]},\n {'action': 'connect inventory to workshop',\n  'template_id': 16,\n  'obj_ids': [17595, 17382],\n  'type_ids': [1, 132]},\n {'action': 'disconnect art studio door',\n  'template_id': 17,\n  'obj_ids': [17580],\n  'type_ids': [140]},\n {'action': 'disconnect greenhouse',\n  'template_id': 17,\n  'obj_ids': [17418],\n  'type_ids': [132]},\n {'action': 'disconnect bedroom door',\n  'template_id': 17,\n  'obj_ids': [17568],\n  'type_ids': [140]},\n {'action': 'disconnect picture',\n  'template_id': 17,\n  'obj_ids': [17517],\n  'type_ids': [139]},\n {'action': 'disconnect orange',\n  'template_id': 17,\n  'obj_ids': [17598],\n  'type_ids': [193]},\n {'action': 'disconnect kitchen',\n  'template_id': 17,\n  'obj_ids': [17205],\n  'type_ids': [132]},\n {'action': 'disconnect door to workshop',\n  'template_id': 17,\n  'obj_ids': [17574],\n  'type_ids': [140]},\n {'action': 'disconnect art studio',\n  'template_id': 17,\n  'obj_ids': [17451],\n  'type_ids': [132]},\n {'action': 'disconnect door to kitchen',\n  'template_id': 17,\n  'obj_ids': [17562],\n  'type_ids': [140]},\n {'action': 'disconnect living room',\n  'template_id': 17,\n  'obj_ids': [17301],\n  'type_ids': [132]},\n {'action': 'disconnect hallway',\n  'template_id': 17,\n  'obj_ids': [17511],\n  'type_ids': [132]},\n {'action': 'disconnect air',\n  'template_id': 17,\n  'obj_ids': [17514],\n  'type_ids': [144]},\n {'action': 'disconnect bedroom',\n  'template_id': 17,\n  'obj_ids': [17325],\n  'type_ids': [132]},\n {'action': 'disconnect door to living room',\n  'template_id': 17,\n  'obj_ids': [17565],\n  'type_ids': [140]},\n {'action': 'disconnect agent',\n  'template_id': 17,\n  'obj_ids': [17592],\n  'type_ids': [0]},\n {'action': 'disconnect door to greenhouse',\n  'template_id': 17,\n  'obj_ids': [17577],\n  'type_ids': [140]},\n {'action': 'disconnect workshop',\n  'template_id': 17,\n  'obj_ids': [17382],\n  'type_ids': [132]},\n {'action': 'disconnect inventory',\n  'template_id': 17,\n  'obj_ids': [17595],\n  'type_ids': [1]},\n {'action': 'wait1', 'template_id': 18, 'obj_ids': [], 'type_ids': []},\n {'action': 'wait', 'template_id': 19, 'obj_ids': [], 'type_ids': []},\n {'action': 'inventory', 'template_id': 20, 'obj_ids': [], 'type_ids': []},\n {'action': 'pick up picture',\n  'template_id': 21,\n  'obj_ids': [17517],\n  'type_ids': [139]},\n {'action': 'put down orange',\n  'template_id': 22,\n  'obj_ids': [17598],\n  'type_ids': [193]},\n {'action': 'mix art studio door',\n  'template_id': 23,\n  'obj_ids': [17580],\n  'type_ids': [140]},\n {'action': 'mix greenhouse',\n  'template_id': 23,\n  'obj_ids': [17418],\n  'type_ids': [132]},\n {'action': 'mix bedroom door',\n  'template_id': 23,\n  'obj_ids': [17568],\n  'type_ids': [140]},\n {'action': 'mix picture',\n  'template_id': 23,\n  'obj_ids': [17517],\n  'type_ids': [139]},\n {'action': 'mix orange',\n  'template_id': 23,\n  'obj_ids': [17598],\n  'type_ids': [193]},\n {'action': 'mix kitchen',\n  'template_id': 23,\n  'obj_ids': [17205],\n  'type_ids': [132]},\n {'action': 'mix door to workshop',\n  'template_id': 23,\n  'obj_ids': [17574],\n  'type_ids': [140]},\n {'action': 'mix art studio',\n  'template_id': 23,\n  'obj_ids': [17451],\n  'type_ids': [132]},\n {'action': 'mix door to kitchen',\n  'template_id': 23,\n  'obj_ids': [17562],\n  'type_ids': [140]},\n {'action': 'mix living room',\n  'template_id': 23,\n  'obj_ids': [17301],\n  'type_ids': [132]},\n {'action': 'mix hallway',\n  'template_id': 23,\n  'obj_ids': [17511],\n  'type_ids': [132]},\n {'action': 'mix air',\n  'template_id': 23,\n  'obj_ids': [17514],\n  'type_ids': [144]},\n {'action': 'mix bedroom',\n  'template_id': 23,\n  'obj_ids': [17325],\n  'type_ids': [132]},\n {'action': 'mix door to living room',\n  'template_id': 23,\n  'obj_ids': [17565],\n  'type_ids': [140]},\n {'action': 'mix agent',\n  'template_id': 23,\n  'obj_ids': [17592],\n  'type_ids': [0]},\n {'action': 'mix door to greenhouse',\n  'template_id': 23,\n  'obj_ids': [17577],\n  'type_ids': [140]},\n {'action': 'mix workshop',\n  'template_id': 23,\n  'obj_ids': [17382],\n  'type_ids': [132]},\n {'action': 'mix inventory',\n  'template_id': 23,\n  'obj_ids': [17595],\n  'type_ids': [1]},\n {'action': 'task', 'template_id': 24, 'obj_ids': [], 'type_ids': []}]"
     },
     "execution_count": 8,
     "metadata": {},
     "output_type": "execute_result"
    }
   ],
   "source": [
    "env.getValidActionObjectCombinationsWithTemplates()"
   ],
   "metadata": {
    "collapsed": false,
    "ExecuteTime": {
     "start_time": "2023-08-06T19:23:03.685328Z",
     "end_time": "2023-08-06T19:23:03.788482Z"
    }
   }
  },
  {
   "cell_type": "code",
   "execution_count": 6,
   "outputs": [
    {
     "name": "stdout",
     "output_type": "stream",
     "text": [
      "This room is called the hallway. In it, you see: \n",
      "\tthe agent\n",
      "\ta substance called air\n",
      "\ta picture\n",
      "You also see:\n",
      "\tA door to the art studio (that is closed)\n",
      "\tA door to the bedroom (that is closed)\n",
      "\tA door to the greenhouse (that is closed)\n",
      "\tA door to the kitchen (that is closed)\n",
      "\tA door to the living room (that is closed)\n",
      "\tA door to the workshop (that is closed)\n",
      "\n"
     ]
    },
    {
     "data": {
      "text/plain": "['This room is called the hallway.',\n 'You see a the agent',\n 'You see a a substance called air',\n 'You see a a picture',\n 'A door to the art studio (that is closed)',\n 'A door to the bedroom (that is closed)',\n 'A door to the greenhouse (that is closed)',\n 'A door to the kitchen (that is closed)',\n 'A door to the living room (that is closed)',\n 'A door to the workshop (that is closed)',\n 'In your inventory, you see: an orange ']"
     },
     "execution_count": 6,
     "metadata": {},
     "output_type": "execute_result"
    }
   ],
   "source": [
    "look = info['look']\n",
    "print(look)\n",
    "inv = info['inv']\n",
    "\n",
    "beliefs_a = parse(look, inventory=inv)\n",
    "beliefs_a"
   ],
   "metadata": {
    "collapsed": false,
    "ExecuteTime": {
     "start_time": "2023-08-05T16:48:50.617554Z",
     "end_time": "2023-08-05T16:48:50.648551Z"
    }
   }
  },
  {
   "cell_type": "code",
   "execution_count": 7,
   "outputs": [],
   "source": [
    "observation, reward, isCompleted, info = env.step(\"open door to the art studio\")"
   ],
   "metadata": {
    "collapsed": false,
    "ExecuteTime": {
     "start_time": "2023-07-31T11:56:57.754142Z",
     "end_time": "2023-07-31T11:56:57.855956Z"
    }
   }
  },
  {
   "cell_type": "code",
   "execution_count": 8,
   "outputs": [
    {
     "data": {
      "text/plain": "['This room is called the hallway.',\n 'You see a the agent',\n 'You see a a substance called air',\n 'You see a a picture',\n 'A door to the art studio (that is open)',\n 'A door to the bedroom (that is closed)',\n 'A door to the greenhouse (that is closed)',\n 'A door to the kitchen (that is closed)',\n 'A door to the living room (that is closed)',\n 'A door to the workshop (that is closed)',\n 'In your inventory, you see: an orange ']"
     },
     "execution_count": 8,
     "metadata": {},
     "output_type": "execute_result"
    }
   ],
   "source": [
    "beliefs_b = parse(info['look'], inventory=inv)\n",
    "beliefs_b"
   ],
   "metadata": {
    "collapsed": false,
    "ExecuteTime": {
     "start_time": "2023-07-31T11:56:57.923883Z",
     "end_time": "2023-07-31T11:56:57.973718Z"
    }
   }
  },
  {
   "cell_type": "code",
   "execution_count": 9,
   "outputs": [
    {
     "data": {
      "text/plain": "['A door to the art studio (that is closed)']"
     },
     "execution_count": 9,
     "metadata": {},
     "output_type": "execute_result"
    }
   ],
   "source": [
    "list(set(beliefs_a) - set(beliefs_b))"
   ],
   "metadata": {
    "collapsed": false,
    "ExecuteTime": {
     "start_time": "2023-07-31T11:56:58.616718Z",
     "end_time": "2023-07-31T11:56:58.627633Z"
    }
   }
  },
  {
   "cell_type": "code",
   "execution_count": 10,
   "outputs": [
    {
     "data": {
      "text/plain": "['This room is called the hallway.',\n 'You see a the agent',\n 'You see a a substance called air',\n 'A door to the art studio (that is open)',\n 'A door to the bedroom (that is closed)',\n 'A door to the greenhouse (that is closed)',\n 'A door to the kitchen (that is closed)',\n 'A door to the living room (that is closed)',\n 'A door to the workshop (that is closed)',\n 'In your inventory, you see: an orange ']"
     },
     "execution_count": 10,
     "metadata": {},
     "output_type": "execute_result"
    }
   ],
   "source": [
    "observation, reward, isCompleted, info = env.step(\"pick up picture\")\n",
    "beliefs_c = parse(info['look'], inventory=inv)\n",
    "beliefs_c"
   ],
   "metadata": {
    "collapsed": false,
    "ExecuteTime": {
     "start_time": "2023-07-31T11:56:59.498558Z",
     "end_time": "2023-07-31T11:56:59.585500Z"
    }
   }
  },
  {
   "cell_type": "code",
   "execution_count": 11,
   "outputs": [
    {
     "data": {
      "text/plain": "['You see a a picture']"
     },
     "execution_count": 11,
     "metadata": {},
     "output_type": "execute_result"
    }
   ],
   "source": [
    "list(set(beliefs_b) - set(beliefs_c))"
   ],
   "metadata": {
    "collapsed": false,
    "ExecuteTime": {
     "start_time": "2023-07-31T11:57:00.491778Z",
     "end_time": "2023-07-31T11:57:00.502463Z"
    }
   }
  },
  {
   "cell_type": "code",
   "execution_count": 12,
   "outputs": [
    {
     "data": {
      "text/plain": "['This room is called the art studio.',\n 'You see a the agent',\n 'You see a a substance called air',\n 'You see a a large cupboard. The large cupboard door is closed.',\n 'You see a a table. On the table is: a jug (containing nothing).',\n 'You see a a wood cup (containing blue paint)',\n 'You see a a wood cup (containing yellow paint)',\n 'You see a a wood cup (containing red paint)',\n 'A door to the hallway (that is open)',\n 'In your inventory, you see: an orange ']"
     },
     "execution_count": 12,
     "metadata": {},
     "output_type": "execute_result"
    }
   ],
   "source": [
    "# go action must have specific preconditions (go to the x -> the door to the x must be opened)\n",
    "# they change drastically the belief\n",
    "observation, reward, isCompleted, info = env.step(\"go to the art studio\")\n",
    "beliefs_d = parse(info['look'], inventory=inv)\n",
    "beliefs_d"
   ],
   "metadata": {
    "collapsed": false,
    "ExecuteTime": {
     "start_time": "2023-07-31T11:57:01.190631Z",
     "end_time": "2023-07-31T11:57:01.311605Z"
    }
   }
  },
  {
   "cell_type": "code",
   "execution_count": 68,
   "outputs": [
    {
     "data": {
      "text/plain": "['You see a a large cupboard. The large cupboard door is closed.',\n 'You see a a wood cup (containing red paint)',\n 'This room is called the art studio.',\n 'You see a a table. On the table is: a jug (containing nothing).',\n 'You see a a wood cup (containing yellow paint)',\n 'You see a a wood cup (containing blue paint)',\n 'A door to the hallway (that is open)']"
     },
     "execution_count": 68,
     "metadata": {},
     "output_type": "execute_result"
    }
   ],
   "source": [
    "list(set(beliefs_d) - set(beliefs_c))"
   ],
   "metadata": {
    "collapsed": false,
    "ExecuteTime": {
     "start_time": "2023-07-27T08:16:30.933277Z",
     "end_time": "2023-07-27T08:16:30.987771Z"
    }
   }
  },
  {
   "cell_type": "code",
   "execution_count": null,
   "outputs": [],
   "source": [],
   "metadata": {
    "collapsed": false
   }
  }
 ],
 "metadata": {
  "kernelspec": {
   "display_name": "Python 3",
   "language": "python",
   "name": "python3"
  },
  "language_info": {
   "codemirror_mode": {
    "name": "ipython",
    "version": 2
   },
   "file_extension": ".py",
   "mimetype": "text/x-python",
   "name": "python",
   "nbconvert_exporter": "python",
   "pygments_lexer": "ipython2",
   "version": "2.7.6"
  }
 },
 "nbformat": 4,
 "nbformat_minor": 0
}
