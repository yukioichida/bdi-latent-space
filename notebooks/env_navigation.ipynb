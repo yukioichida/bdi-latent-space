{
 "cells": [
  {
   "cell_type": "code",
   "execution_count": 1,
   "metadata": {
    "collapsed": true,
    "ExecuteTime": {
     "start_time": "2023-08-07T14:09:20.337716Z",
     "end_time": "2023-08-07T14:09:20.338500Z"
    }
   },
   "outputs": [],
   "source": [
    "from scienceworld import ScienceWorldEnv\n",
    "import re\n",
    "from sources.agent.scienceworld import parse_observation"
   ]
  },
  {
   "cell_type": "code",
   "execution_count": 2,
   "outputs": [],
   "source": [
    "env = ScienceWorldEnv(\"\", \"\", envStepLimit=100)"
   ],
   "metadata": {
    "collapsed": false,
    "ExecuteTime": {
     "start_time": "2023-08-07T14:09:20.337822Z",
     "end_time": "2023-08-07T14:09:21.515548Z"
    }
   }
  },
  {
   "cell_type": "code",
   "execution_count": 3,
   "outputs": [
    {
     "name": "stdout",
     "output_type": "stream",
     "text": [
      "Task Names: ['boil', 'change-the-state-of-matter-of', 'chemistry-mix', 'chemistry-mix-paint-secondary-color', 'chemistry-mix-paint-tertiary-color', 'find-animal', 'find-living-thing', 'find-non-living-thing', 'find-plant', 'freeze', 'grow-fruit', 'grow-plant', 'identify-life-stages-1', 'identify-life-stages-2', 'inclined-plane-determine-angle', 'inclined-plane-friction-named-surfaces', 'inclined-plane-friction-unnamed-surfaces', 'lifespan-longest-lived', 'lifespan-longest-lived-then-shortest-lived', 'lifespan-shortest-lived', 'measure-melting-point-known-substance', 'measure-melting-point-unknown-substance', 'melt', 'mendelian-genetics-known-plant', 'mendelian-genetics-unknown-plant', 'power-component', 'power-component-renewable-vs-nonrenewable-energy', 'test-conductivity', 'test-conductivity-of-unknown-substances', 'use-thermometer']\n"
     ]
    },
    {
     "data": {
      "text/plain": "('boil', 30)"
     },
     "execution_count": 3,
     "metadata": {},
     "output_type": "execute_result"
    }
   ],
   "source": [
    "taskNames = env.getTaskNames()\n",
    "print(\"Task Names: \" + str(taskNames))\n",
    "\n",
    "# Choose task\n",
    "taskName = taskNames[0]  # Just get first task\n",
    "env.load(taskName, 0, \"\")  # Load the task, so we have access to some extra accessors e.g. getRandomVariationTrain()\n",
    "maxVariations = env.getMaxVariations(taskName)\n",
    "taskName, maxVariations"
   ],
   "metadata": {
    "collapsed": false,
    "ExecuteTime": {
     "start_time": "2023-08-07T14:09:21.519627Z",
     "end_time": "2023-08-07T14:09:21.709225Z"
    }
   }
  },
  {
   "cell_type": "code",
   "execution_count": 4,
   "outputs": [],
   "source": [
    "def parse(observation: str, inventory: str) -> list[str]:\n",
    "    x = re.search(r\"([\\S\\s]*?)(?:In it, you see:)([\\S\\s]*?)(?:You also see:)([\\S\\s]*)\", observation)\n",
    "    groups = x.groups()\n",
    "\n",
    "    location = groups[0]\n",
    "    objects = groups[1]\n",
    "    doors = groups[2]\n",
    "\n",
    "    loc_split = [location.strip()]\n",
    "    obs_split = [obs.strip() for obs in objects.split('\\n') if len(obs.strip()) > 0]\n",
    "    obs_split = [f\"You see a {obs}\" for obs in obs_split]\n",
    "    doors_split = [door.strip() for door in doors.split('\\n') if len(door.strip()) > 0]\n",
    "    inventory_items = inventory.replace('\\n', ' ').replace('\\t', '')\n",
    "    return loc_split + obs_split + doors_split + [inventory_items]"
   ],
   "metadata": {
    "collapsed": false,
    "ExecuteTime": {
     "start_time": "2023-08-07T14:09:21.736245Z",
     "end_time": "2023-08-07T14:09:21.783754Z"
    }
   }
  },
  {
   "cell_type": "code",
   "execution_count": 5,
   "outputs": [
    {
     "name": "stdout",
     "output_type": "stream",
     "text": [
      "Task Name: boil variation 0\n",
      "Task Variation: 0 / 30\n",
      "Task Description: Your task is to boil water. For compounds without a boiling point, combusting the substance is also acceptable. First, focus on the substance. Then, take actions that will cause it to change its state of matter.\n"
     ]
    }
   ],
   "source": [
    "#randVariationIdx = env.getRandomVariationTest()\n",
    "randVariationIdx = 0\n",
    "env.load(taskName, randVariationIdx)\n",
    "# Reset the environment\n",
    "observation, info = env.reset()\n",
    "\n",
    "print(f\"Task Name: \" + taskName + \" variation \" + str(randVariationIdx))\n",
    "print(\"Task Variation: \" + str(randVariationIdx) + \" / \" + str(maxVariations))\n",
    "print(\"Task Description: \" + str(env.getTaskDescription()))\n",
    "\n",
    "score = 0.0\n",
    "curIter = 0\n",
    "\n",
    "# Run one episode until we reach a stopping condition (including exceeding the maximum steps)\n",
    "action_str = \"look around\"  # First action\n",
    "observation, reward, isCompleted, info = env.step(action_str)"
   ],
   "metadata": {
    "collapsed": false,
    "ExecuteTime": {
     "start_time": "2023-08-07T14:09:26.792348Z",
     "end_time": "2023-08-07T14:09:27.338877Z"
    }
   }
  },
  {
   "cell_type": "code",
   "execution_count": 10,
   "outputs": [
    {
     "data": {
      "text/plain": "['open door to greenhouse',\n 'open door to kitchen',\n 'open door to living room',\n 'open door to workshop']"
     },
     "execution_count": 10,
     "metadata": {},
     "output_type": "execute_result"
    }
   ],
   "source": [
    "valid = info['valid']\n",
    "[v for v in valid if 'open door to' in v]"
   ],
   "metadata": {
    "collapsed": false,
    "ExecuteTime": {
     "start_time": "2023-08-07T14:10:32.535473Z",
     "end_time": "2023-08-07T14:10:32.550704Z"
    }
   }
  },
  {
   "cell_type": "code",
   "execution_count": 13,
   "outputs": [
    {
     "data": {
      "text/plain": "'No known action matches that input.'"
     },
     "execution_count": 13,
     "metadata": {},
     "output_type": "execute_result"
    }
   ],
   "source": [
    "observation, reward, isCompleted, info = env.step(\"open cupboard\")\n",
    "observation"
   ],
   "metadata": {
    "collapsed": false,
    "ExecuteTime": {
     "start_time": "2023-08-07T15:23:36.601491Z",
     "end_time": "2023-08-07T15:23:36.678038Z"
    }
   }
  },
  {
   "cell_type": "code",
   "execution_count": 6,
   "outputs": [
    {
     "name": "stdout",
     "output_type": "stream",
     "text": [
      "This room is called the hallway. In it, you see: \n",
      "\tthe agent\n",
      "\ta substance called air\n",
      "\ta picture\n",
      "You also see:\n",
      "\tA door to the art studio (that is closed)\n",
      "\tA door to the bedroom (that is closed)\n",
      "\tA door to the greenhouse (that is closed)\n",
      "\tA door to the kitchen (that is closed)\n",
      "\tA door to the living room (that is closed)\n",
      "\tA door to the workshop (that is closed)\n",
      "\n"
     ]
    },
    {
     "data": {
      "text/plain": "['This room is called the hallway.',\n 'You see a the agent',\n 'You see a a substance called air',\n 'You see a a picture',\n 'A door to the art studio (that is closed)',\n 'A door to the bedroom (that is closed)',\n 'A door to the greenhouse (that is closed)',\n 'A door to the kitchen (that is closed)',\n 'A door to the living room (that is closed)',\n 'A door to the workshop (that is closed)',\n 'In your inventory, you see: an orange ']"
     },
     "execution_count": 6,
     "metadata": {},
     "output_type": "execute_result"
    }
   ],
   "source": [
    "    look = info['look']\n",
    "print(look)\n",
    "inv = info['inv']\n",
    "\n",
    "beliefs_a = parse(look, inventory=inv)\n",
    "beliefs_a"
   ],
   "metadata": {
    "collapsed": false,
    "ExecuteTime": {
     "start_time": "2023-08-05T16:48:50.617554Z",
     "end_time": "2023-08-05T16:48:50.648551Z"
    }
   }
  },
  {
   "cell_type": "code",
   "execution_count": 7,
   "outputs": [],
   "source": [
    "observation, reward, isCompleted, info = env.step(\"open door to the art studio\")"
   ],
   "metadata": {
    "collapsed": false,
    "ExecuteTime": {
     "start_time": "2023-07-31T11:56:57.754142Z",
     "end_time": "2023-07-31T11:56:57.855956Z"
    }
   }
  },
  {
   "cell_type": "code",
   "execution_count": 8,
   "outputs": [
    {
     "data": {
      "text/plain": "['This room is called the hallway.',\n 'You see a the agent',\n 'You see a a substance called air',\n 'You see a a picture',\n 'A door to the art studio (that is open)',\n 'A door to the bedroom (that is closed)',\n 'A door to the greenhouse (that is closed)',\n 'A door to the kitchen (that is closed)',\n 'A door to the living room (that is closed)',\n 'A door to the workshop (that is closed)',\n 'In your inventory, you see: an orange ']"
     },
     "execution_count": 8,
     "metadata": {},
     "output_type": "execute_result"
    }
   ],
   "source": [
    "beliefs_b = parse(info['look'], inventory=inv)\n",
    "beliefs_b"
   ],
   "metadata": {
    "collapsed": false,
    "ExecuteTime": {
     "start_time": "2023-07-31T11:56:57.923883Z",
     "end_time": "2023-07-31T11:56:57.973718Z"
    }
   }
  },
  {
   "cell_type": "code",
   "execution_count": 9,
   "outputs": [
    {
     "data": {
      "text/plain": "['A door to the art studio (that is closed)']"
     },
     "execution_count": 9,
     "metadata": {},
     "output_type": "execute_result"
    }
   ],
   "source": [
    "list(set(beliefs_a) - set(beliefs_b))"
   ],
   "metadata": {
    "collapsed": false,
    "ExecuteTime": {
     "start_time": "2023-07-31T11:56:58.616718Z",
     "end_time": "2023-07-31T11:56:58.627633Z"
    }
   }
  },
  {
   "cell_type": "code",
   "execution_count": 10,
   "outputs": [
    {
     "data": {
      "text/plain": "['This room is called the hallway.',\n 'You see a the agent',\n 'You see a a substance called air',\n 'A door to the art studio (that is open)',\n 'A door to the bedroom (that is closed)',\n 'A door to the greenhouse (that is closed)',\n 'A door to the kitchen (that is closed)',\n 'A door to the living room (that is closed)',\n 'A door to the workshop (that is closed)',\n 'In your inventory, you see: an orange ']"
     },
     "execution_count": 10,
     "metadata": {},
     "output_type": "execute_result"
    }
   ],
   "source": [
    "observation, reward, isCompleted, info = env.step(\"pick up picture\")\n",
    "beliefs_c = parse(info['look'], inventory=inv)\n",
    "beliefs_c"
   ],
   "metadata": {
    "collapsed": false,
    "ExecuteTime": {
     "start_time": "2023-07-31T11:56:59.498558Z",
     "end_time": "2023-07-31T11:56:59.585500Z"
    }
   }
  },
  {
   "cell_type": "code",
   "execution_count": 11,
   "outputs": [
    {
     "data": {
      "text/plain": "['You see a a picture']"
     },
     "execution_count": 11,
     "metadata": {},
     "output_type": "execute_result"
    }
   ],
   "source": [
    "list(set(beliefs_b) - set(beliefs_c))"
   ],
   "metadata": {
    "collapsed": false,
    "ExecuteTime": {
     "start_time": "2023-07-31T11:57:00.491778Z",
     "end_time": "2023-07-31T11:57:00.502463Z"
    }
   }
  },
  {
   "cell_type": "code",
   "execution_count": 12,
   "outputs": [
    {
     "data": {
      "text/plain": "['This room is called the art studio.',\n 'You see a the agent',\n 'You see a a substance called air',\n 'You see a a large cupboard. The large cupboard door is closed.',\n 'You see a a table. On the table is: a jug (containing nothing).',\n 'You see a a wood cup (containing blue paint)',\n 'You see a a wood cup (containing yellow paint)',\n 'You see a a wood cup (containing red paint)',\n 'A door to the hallway (that is open)',\n 'In your inventory, you see: an orange ']"
     },
     "execution_count": 12,
     "metadata": {},
     "output_type": "execute_result"
    }
   ],
   "source": [
    "# go action must have specific preconditions (go to the x -> the door to the x must be opened)\n",
    "# they change drastically the belief\n",
    "observation, reward, isCompleted, info = env.step(\"go to the art studio\")\n",
    "beliefs_d = parse(info['look'], inventory=inv)\n",
    "beliefs_d"
   ],
   "metadata": {
    "collapsed": false,
    "ExecuteTime": {
     "start_time": "2023-07-31T11:57:01.190631Z",
     "end_time": "2023-07-31T11:57:01.311605Z"
    }
   }
  },
  {
   "cell_type": "code",
   "execution_count": 68,
   "outputs": [
    {
     "data": {
      "text/plain": "['You see a a large cupboard. The large cupboard door is closed.',\n 'You see a a wood cup (containing red paint)',\n 'This room is called the art studio.',\n 'You see a a table. On the table is: a jug (containing nothing).',\n 'You see a a wood cup (containing yellow paint)',\n 'You see a a wood cup (containing blue paint)',\n 'A door to the hallway (that is open)']"
     },
     "execution_count": 68,
     "metadata": {},
     "output_type": "execute_result"
    }
   ],
   "source": [
    "list(set(beliefs_d) - set(beliefs_c))"
   ],
   "metadata": {
    "collapsed": false,
    "ExecuteTime": {
     "start_time": "2023-07-27T08:16:30.933277Z",
     "end_time": "2023-07-27T08:16:30.987771Z"
    }
   }
  },
  {
   "cell_type": "code",
   "execution_count": null,
   "outputs": [],
   "source": [],
   "metadata": {
    "collapsed": false
   }
  }
 ],
 "metadata": {
  "kernelspec": {
   "display_name": "Python 3",
   "language": "python",
   "name": "python3"
  },
  "language_info": {
   "codemirror_mode": {
    "name": "ipython",
    "version": 2
   },
   "file_extension": ".py",
   "mimetype": "text/x-python",
   "name": "python",
   "nbconvert_exporter": "python",
   "pygments_lexer": "ipython2",
   "version": "2.7.6"
  }
 },
 "nbformat": 4,
 "nbformat_minor": 0
}
