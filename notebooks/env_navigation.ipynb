{
 "cells": [
  {
   "cell_type": "code",
   "execution_count": 1,
   "metadata": {
    "collapsed": true,
    "ExecuteTime": {
     "start_time": "2023-07-12T13:35:14.482683Z",
     "end_time": "2023-07-12T13:35:14.487700Z"
    }
   },
   "outputs": [],
   "source": [
    "from scienceworld import ScienceWorldEnv\n",
    "\n",
    "from sources.agent.scienceworld import parse_observation"
   ]
  },
  {
   "cell_type": "code",
   "execution_count": 2,
   "outputs": [],
   "source": [
    "env = ScienceWorldEnv(\"\", \"\", envStepLimit=100)"
   ],
   "metadata": {
    "collapsed": false,
    "ExecuteTime": {
     "start_time": "2023-07-12T13:35:14.489702Z",
     "end_time": "2023-07-12T13:35:15.224725Z"
    }
   }
  },
  {
   "cell_type": "code",
   "execution_count": 3,
   "outputs": [
    {
     "name": "stdout",
     "output_type": "stream",
     "text": [
      "Task Names: ['boil', 'change-the-state-of-matter-of', 'chemistry-mix', 'chemistry-mix-paint-secondary-color', 'chemistry-mix-paint-tertiary-color', 'find-animal', 'find-living-thing', 'find-non-living-thing', 'find-plant', 'freeze', 'grow-fruit', 'grow-plant', 'identify-life-stages-1', 'identify-life-stages-2', 'inclined-plane-determine-angle', 'inclined-plane-friction-named-surfaces', 'inclined-plane-friction-unnamed-surfaces', 'lifespan-longest-lived', 'lifespan-longest-lived-then-shortest-lived', 'lifespan-shortest-lived', 'measure-melting-point-known-substance', 'measure-melting-point-unknown-substance', 'melt', 'mendelian-genetics-known-plant', 'mendelian-genetics-unknown-plant', 'power-component', 'power-component-renewable-vs-nonrenewable-energy', 'test-conductivity', 'test-conductivity-of-unknown-substances', 'use-thermometer']\n"
     ]
    },
    {
     "data": {
      "text/plain": "('boil', 30)"
     },
     "execution_count": 3,
     "metadata": {},
     "output_type": "execute_result"
    }
   ],
   "source": [
    "taskNames = env.getTaskNames()\n",
    "print(\"Task Names: \" + str(taskNames))\n",
    "\n",
    "# Choose task\n",
    "taskName = taskNames[0]  # Just get first task\n",
    "env.load(taskName, 0, \"\")  # Load the task, so we have access to some extra accessors e.g. getRandomVariationTrain()\n",
    "maxVariations = env.getMaxVariations(taskName)\n",
    "taskName, maxVariations"
   ],
   "metadata": {
    "collapsed": false,
    "ExecuteTime": {
     "start_time": "2023-07-12T13:35:15.227924Z",
     "end_time": "2023-07-12T13:35:15.336871Z"
    }
   }
  },
  {
   "cell_type": "code",
   "execution_count": 4,
   "outputs": [
    {
     "name": "stdout",
     "output_type": "stream",
     "text": [
      "Task Name: boil variation 27\n",
      "Task Variation: 27 / 30\n",
      "Task Description: Your task is to boil gallium. For compounds without a boiling point, combusting the substance is also acceptable. First, focus on the substance. Then, take actions that will cause it to change its state of matter.\n"
     ]
    }
   ],
   "source": [
    "randVariationIdx = env.getRandomVariationTest()\n",
    "#randVariationIdx = 0\n",
    "env.load(taskName, randVariationIdx)\n",
    "# Reset the environment\n",
    "observation, info = env.reset()\n",
    "\n",
    "print(f\"Task Name: \" + taskName + \" variation \" + str(randVariationIdx))\n",
    "print(\"Task Variation: \" + str(randVariationIdx) + \" / \" + str(maxVariations))\n",
    "print(\"Task Description: \" + str(env.getTaskDescription()))\n",
    "\n",
    "score = 0.0\n",
    "curIter = 0\n",
    "\n",
    "# Run one episode until we reach a stopping condition (including exceeding the maximum steps)\n",
    "action_str = \"look around\"  # First action\n",
    "observation, reward, isCompleted, info = env.step(action_str)"
   ],
   "metadata": {
    "collapsed": false,
    "ExecuteTime": {
     "start_time": "2023-07-12T13:35:15.339868Z",
     "end_time": "2023-07-12T13:35:15.713394Z"
    }
   }
  },
  {
   "cell_type": "code",
   "execution_count": 5,
   "outputs": [
    {
     "data": {
      "text/plain": "['This room is called the art studio.',\n 'the agent',\n 'a substance called air',\n 'a large cupboard. The large cupboard door is closed.',\n 'a table. On the table is: a glass cup (containing nothing).',\n 'a wood cup (containing yellow paint)',\n 'a wood cup (containing blue paint)',\n 'a wood cup (containing red paint)',\n 'A door to the hallway (that is closed)',\n 'In your inventory, you see: an orange ']"
     },
     "execution_count": 5,
     "metadata": {},
     "output_type": "execute_result"
    }
   ],
   "source": [
    "look = info['look']\n",
    "inv = info['inv']\n",
    "\n",
    "beliefs = parse_observation(look, inventory=inv)\n",
    "beliefs"
   ],
   "metadata": {
    "collapsed": false,
    "ExecuteTime": {
     "start_time": "2023-07-12T13:35:15.713394Z",
     "end_time": "2023-07-12T13:35:15.717942Z"
    }
   }
  },
  {
   "cell_type": "code",
   "execution_count": 6,
   "outputs": [
    {
     "data": {
      "text/plain": "'In your inventory, you see:\\n\\tan orange\\n'"
     },
     "execution_count": 6,
     "metadata": {},
     "output_type": "execute_result"
    }
   ],
   "source": [
    "info['inv']"
   ],
   "metadata": {
    "collapsed": false,
    "ExecuteTime": {
     "start_time": "2023-07-12T13:35:15.716936Z",
     "end_time": "2023-07-12T13:35:15.722458Z"
    }
   }
  },
  {
   "cell_type": "code",
   "execution_count": 8,
   "outputs": [
    {
     "data": {
      "text/plain": "dict_keys(['moves', 'score', 'reward', 'look', 'inv', 'taskDesc', 'valid', 'variationIdx', 'taskName', 'simplificationStr'])"
     },
     "execution_count": 8,
     "metadata": {},
     "output_type": "execute_result"
    }
   ],
   "source": [
    "info.keys()"
   ],
   "metadata": {
    "collapsed": false,
    "ExecuteTime": {
     "start_time": "2023-07-12T13:47:14.203244Z",
     "end_time": "2023-07-12T13:47:14.207247Z"
    }
   }
  },
  {
   "cell_type": "code",
   "execution_count": 10,
   "outputs": [
    {
     "data": {
      "text/plain": "939"
     },
     "execution_count": 10,
     "metadata": {},
     "output_type": "execute_result"
    }
   ],
   "source": [
    "len(info['valid'])"
   ],
   "metadata": {
    "collapsed": false,
    "ExecuteTime": {
     "start_time": "2023-07-12T13:47:34.727544Z",
     "end_time": "2023-07-12T13:47:34.731701Z"
    }
   }
  },
  {
   "cell_type": "code",
   "execution_count": null,
   "outputs": [],
   "source": [],
   "metadata": {
    "collapsed": false
   }
  }
 ],
 "metadata": {
  "kernelspec": {
   "display_name": "Python 3",
   "language": "python",
   "name": "python3"
  },
  "language_info": {
   "codemirror_mode": {
    "name": "ipython",
    "version": 2
   },
   "file_extension": ".py",
   "mimetype": "text/x-python",
   "name": "python",
   "nbconvert_exporter": "python",
   "pygments_lexer": "ipython2",
   "version": "2.7.6"
  }
 },
 "nbformat": 4,
 "nbformat_minor": 0
}
