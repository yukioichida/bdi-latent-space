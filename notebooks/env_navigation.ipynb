{
 "cells": [
  {
   "cell_type": "code",
   "execution_count": 10,
   "metadata": {
    "collapsed": true,
    "ExecuteTime": {
     "start_time": "2023-07-27T08:05:59.871645Z",
     "end_time": "2023-07-27T08:05:59.883534Z"
    }
   },
   "outputs": [],
   "source": [
    "from scienceworld import ScienceWorldEnv\n",
    "import re\n",
    "from sources.agent.scienceworld import parse_observation"
   ]
  },
  {
   "cell_type": "code",
   "execution_count": 2,
   "outputs": [],
   "source": [
    "env = ScienceWorldEnv(\"\", \"\", envStepLimit=100)"
   ],
   "metadata": {
    "collapsed": false,
    "ExecuteTime": {
     "start_time": "2023-07-27T08:04:34.674314Z",
     "end_time": "2023-07-27T08:04:35.688021Z"
    }
   }
  },
  {
   "cell_type": "code",
   "execution_count": 3,
   "outputs": [
    {
     "name": "stdout",
     "output_type": "stream",
     "text": [
      "Task Names: ['boil', 'change-the-state-of-matter-of', 'chemistry-mix', 'chemistry-mix-paint-secondary-color', 'chemistry-mix-paint-tertiary-color', 'find-animal', 'find-living-thing', 'find-non-living-thing', 'find-plant', 'freeze', 'grow-fruit', 'grow-plant', 'identify-life-stages-1', 'identify-life-stages-2', 'inclined-plane-determine-angle', 'inclined-plane-friction-named-surfaces', 'inclined-plane-friction-unnamed-surfaces', 'lifespan-longest-lived', 'lifespan-longest-lived-then-shortest-lived', 'lifespan-shortest-lived', 'measure-melting-point-known-substance', 'measure-melting-point-unknown-substance', 'melt', 'mendelian-genetics-known-plant', 'mendelian-genetics-unknown-plant', 'power-component', 'power-component-renewable-vs-nonrenewable-energy', 'test-conductivity', 'test-conductivity-of-unknown-substances', 'use-thermometer']\n"
     ]
    },
    {
     "data": {
      "text/plain": "('boil', 30)"
     },
     "execution_count": 3,
     "metadata": {},
     "output_type": "execute_result"
    }
   ],
   "source": [
    "taskNames = env.getTaskNames()\n",
    "print(\"Task Names: \" + str(taskNames))\n",
    "\n",
    "# Choose task\n",
    "taskName = taskNames[0]  # Just get first task\n",
    "env.load(taskName, 0, \"\")  # Load the task, so we have access to some extra accessors e.g. getRandomVariationTrain()\n",
    "maxVariations = env.getMaxVariations(taskName)\n",
    "taskName, maxVariations"
   ],
   "metadata": {
    "collapsed": false,
    "ExecuteTime": {
     "start_time": "2023-07-27T08:04:35.676962Z",
     "end_time": "2023-07-27T08:04:35.811050Z"
    }
   }
  },
  {
   "cell_type": "code",
   "execution_count": 47,
   "outputs": [],
   "source": [
    "def parse(observation: str, inventory: str) -> list[str]:\n",
    "    x = re.search(r\"([\\S\\s]*?)(?:In it, you see:)([\\S\\s]*?)(?:You also see:)([\\S\\s]*)\", observation)\n",
    "    groups = x.groups()\n",
    "\n",
    "    location = groups[0]\n",
    "    objects = groups[1]\n",
    "    doors = groups[2]\n",
    "\n",
    "    loc_split = [location.strip()]\n",
    "    obs_split = [obs.strip() for obs in objects.split('\\n') if len(obs.strip()) > 0]\n",
    "    obs_split = [f\"You see a {obs}\" for obs in obs_split]\n",
    "    doors_split = [door.strip() for door in doors.split('\\n') if len(door.strip()) > 0]\n",
    "    inventory_items = inventory.replace('\\n', ' ').replace('\\t', '')\n",
    "    return loc_split + obs_split + doors_split + [inventory_items]"
   ],
   "metadata": {
    "collapsed": false,
    "ExecuteTime": {
     "start_time": "2023-07-27T08:14:15.997420Z",
     "end_time": "2023-07-27T08:14:16.000942Z"
    }
   }
  },
  {
   "cell_type": "code",
   "execution_count": 69,
   "outputs": [
    {
     "name": "stdout",
     "output_type": "stream",
     "text": [
      "Task Name: boil variation 0\n",
      "Task Variation: 0 / 30\n",
      "Task Description: Your task is to boil water. For compounds without a boiling point, combusting the substance is also acceptable. First, focus on the substance. Then, take actions that will cause it to change its state of matter.\n"
     ]
    }
   ],
   "source": [
    "#randVariationIdx = env.getRandomVariationTest()\n",
    "randVariationIdx = 0\n",
    "env.load(taskName, randVariationIdx)\n",
    "# Reset the environment\n",
    "observation, info = env.reset()\n",
    "\n",
    "print(f\"Task Name: \" + taskName + \" variation \" + str(randVariationIdx))\n",
    "print(\"Task Variation: \" + str(randVariationIdx) + \" / \" + str(maxVariations))\n",
    "print(\"Task Description: \" + str(env.getTaskDescription()))\n",
    "\n",
    "score = 0.0\n",
    "curIter = 0\n",
    "\n",
    "# Run one episode until we reach a stopping condition (including exceeding the maximum steps)\n",
    "action_str = \"look around\"  # First action\n",
    "observation, reward, isCompleted, info = env.step(action_str)"
   ],
   "metadata": {
    "collapsed": false,
    "ExecuteTime": {
     "start_time": "2023-07-27T08:37:27.136802Z",
     "end_time": "2023-07-27T08:37:27.313754Z"
    }
   }
  },
  {
   "cell_type": "code",
   "execution_count": 70,
   "outputs": [
    {
     "name": "stdout",
     "output_type": "stream",
     "text": [
      "This room is called the hallway. In it, you see: \n",
      "\tthe agent\n",
      "\ta substance called air\n",
      "\ta picture\n",
      "You also see:\n",
      "\tA door to the art studio (that is closed)\n",
      "\tA door to the bedroom (that is closed)\n",
      "\tA door to the greenhouse (that is closed)\n",
      "\tA door to the kitchen (that is closed)\n",
      "\tA door to the living room (that is closed)\n",
      "\tA door to the workshop (that is closed)\n",
      "\n"
     ]
    },
    {
     "data": {
      "text/plain": "['This room is called the hallway.',\n 'You see a the agent',\n 'You see a a substance called air',\n 'You see a a picture',\n 'A door to the art studio (that is closed)',\n 'A door to the bedroom (that is closed)',\n 'A door to the greenhouse (that is closed)',\n 'A door to the kitchen (that is closed)',\n 'A door to the living room (that is closed)',\n 'A door to the workshop (that is closed)',\n 'In your inventory, you see: an orange ']"
     },
     "execution_count": 70,
     "metadata": {},
     "output_type": "execute_result"
    }
   ],
   "source": [
    "look = info['look']\n",
    "print(look)\n",
    "inv = info['inv']\n",
    "\n",
    "beliefs_a = parse(look, inventory=inv)\n",
    "beliefs_a"
   ],
   "metadata": {
    "collapsed": false,
    "ExecuteTime": {
     "start_time": "2023-07-27T08:37:27.447482Z",
     "end_time": "2023-07-27T08:37:27.454492Z"
    }
   }
  },
  {
   "cell_type": "code",
   "execution_count": 71,
   "outputs": [],
   "source": [
    "observation, reward, isCompleted, info = env.step(\"open door to the art studio\")"
   ],
   "metadata": {
    "collapsed": false,
    "ExecuteTime": {
     "start_time": "2023-07-27T08:37:29.776244Z",
     "end_time": "2023-07-27T08:37:29.817218Z"
    }
   }
  },
  {
   "cell_type": "code",
   "execution_count": 72,
   "outputs": [
    {
     "data": {
      "text/plain": "['This room is called the hallway.',\n 'You see a the agent',\n 'You see a a substance called air',\n 'You see a a picture',\n 'A door to the art studio (that is open)',\n 'A door to the bedroom (that is closed)',\n 'A door to the greenhouse (that is closed)',\n 'A door to the kitchen (that is closed)',\n 'A door to the living room (that is closed)',\n 'A door to the workshop (that is closed)',\n 'In your inventory, you see: an orange ']"
     },
     "execution_count": 72,
     "metadata": {},
     "output_type": "execute_result"
    }
   ],
   "source": [
    "beliefs_b = parse(info['look'], inventory=inv)\n",
    "beliefs_b"
   ],
   "metadata": {
    "collapsed": false,
    "ExecuteTime": {
     "start_time": "2023-07-27T08:37:29.936469Z",
     "end_time": "2023-07-27T08:37:30.020820Z"
    }
   }
  },
  {
   "cell_type": "code",
   "execution_count": 73,
   "outputs": [
    {
     "data": {
      "text/plain": "['A door to the art studio (that is closed)']"
     },
     "execution_count": 73,
     "metadata": {},
     "output_type": "execute_result"
    }
   ],
   "source": [
    "list(set(beliefs_a) - set(beliefs_b))"
   ],
   "metadata": {
    "collapsed": false,
    "ExecuteTime": {
     "start_time": "2023-07-27T08:37:30.959264Z",
     "end_time": "2023-07-27T08:37:30.963766Z"
    }
   }
  },
  {
   "cell_type": "code",
   "execution_count": 65,
   "outputs": [
    {
     "data": {
      "text/plain": "['This room is called the hallway.',\n 'You see a the agent',\n 'You see a a substance called air',\n 'A door to the art studio (that is open)',\n 'A door to the bedroom (that is closed)',\n 'A door to the greenhouse (that is closed)',\n 'A door to the kitchen (that is closed)',\n 'A door to the living room (that is closed)',\n 'A door to the workshop (that is closed)',\n 'In your inventory, you see: an orange ']"
     },
     "execution_count": 65,
     "metadata": {},
     "output_type": "execute_result"
    }
   ],
   "source": [
    "observation, reward, isCompleted, info = env.step(\"pick up picture\")\n",
    "beliefs_c = parse(info['look'], inventory=inv)\n",
    "beliefs_c"
   ],
   "metadata": {
    "collapsed": false,
    "ExecuteTime": {
     "start_time": "2023-07-27T08:15:37.230062Z",
     "end_time": "2023-07-27T08:15:37.271678Z"
    }
   }
  },
  {
   "cell_type": "code",
   "execution_count": 66,
   "outputs": [
    {
     "data": {
      "text/plain": "['You see a a picture']"
     },
     "execution_count": 66,
     "metadata": {},
     "output_type": "execute_result"
    }
   ],
   "source": [
    "list(set(beliefs_b) - set(beliefs_c))"
   ],
   "metadata": {
    "collapsed": false,
    "ExecuteTime": {
     "start_time": "2023-07-27T08:15:42.189238Z",
     "end_time": "2023-07-27T08:15:42.194244Z"
    }
   }
  },
  {
   "cell_type": "code",
   "execution_count": 67,
   "outputs": [
    {
     "data": {
      "text/plain": "['This room is called the art studio.',\n 'You see a the agent',\n 'You see a a substance called air',\n 'You see a a large cupboard. The large cupboard door is closed.',\n 'You see a a table. On the table is: a jug (containing nothing).',\n 'You see a a wood cup (containing yellow paint)',\n 'You see a a wood cup (containing red paint)',\n 'You see a a wood cup (containing blue paint)',\n 'A door to the hallway (that is open)',\n 'In your inventory, you see: an orange ']"
     },
     "execution_count": 67,
     "metadata": {},
     "output_type": "execute_result"
    }
   ],
   "source": [
    "# go action must have specific preconditions (go to the x -> the door to the x must be opened)\n",
    "# they change drastically the belief\n",
    "observation, reward, isCompleted, info = env.step(\"go to the art studio\")\n",
    "beliefs_d = parse(info['look'], inventory=inv)\n",
    "beliefs_d"
   ],
   "metadata": {
    "collapsed": false,
    "ExecuteTime": {
     "start_time": "2023-07-27T08:16:19.581514Z",
     "end_time": "2023-07-27T08:16:19.657194Z"
    }
   }
  },
  {
   "cell_type": "code",
   "execution_count": 68,
   "outputs": [
    {
     "data": {
      "text/plain": "['You see a a large cupboard. The large cupboard door is closed.',\n 'You see a a wood cup (containing red paint)',\n 'This room is called the art studio.',\n 'You see a a table. On the table is: a jug (containing nothing).',\n 'You see a a wood cup (containing yellow paint)',\n 'You see a a wood cup (containing blue paint)',\n 'A door to the hallway (that is open)']"
     },
     "execution_count": 68,
     "metadata": {},
     "output_type": "execute_result"
    }
   ],
   "source": [
    "list(set(beliefs_d) - set(beliefs_c))"
   ],
   "metadata": {
    "collapsed": false,
    "ExecuteTime": {
     "start_time": "2023-07-27T08:16:30.933277Z",
     "end_time": "2023-07-27T08:16:30.987771Z"
    }
   }
  },
  {
   "cell_type": "code",
   "execution_count": null,
   "outputs": [],
   "source": [],
   "metadata": {
    "collapsed": false
   }
  }
 ],
 "metadata": {
  "kernelspec": {
   "display_name": "Python 3",
   "language": "python",
   "name": "python3"
  },
  "language_info": {
   "codemirror_mode": {
    "name": "ipython",
    "version": 2
   },
   "file_extension": ".py",
   "mimetype": "text/x-python",
   "name": "python",
   "nbconvert_exporter": "python",
   "pygments_lexer": "ipython2",
   "version": "2.7.6"
  }
 },
 "nbformat": 4,
 "nbformat_minor": 0
}
