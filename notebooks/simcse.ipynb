{
 "cells": [
  {
   "cell_type": "code",
   "execution_count": 1,
   "metadata": {
    "collapsed": true,
    "ExecuteTime": {
     "end_time": "2023-10-16T19:53:39.897332129Z",
     "start_time": "2023-10-16T19:53:32.868641383Z"
    }
   },
   "outputs": [],
   "source": [
    "import torch\n",
    "import torch.nn as nn\n",
    "#from scipy.spatial.distance import cosine\n",
    "from transformers import AutoModel, AutoTokenizer\n",
    "from datasets import load_dataset\n",
    "from transformers import default_data_collator\n",
    "from torch.utils.data import DataLoader\n",
    "\n",
    "# Import our models. The package will take care of downloading the models automatically\n",
    "tokenizer = AutoTokenizer.from_pretrained(\"princeton-nlp/sup-simcse-bert-base-uncased\")\n",
    "model = AutoModel.from_pretrained(\"princeton-nlp/sup-simcse-bert-base-uncased\")\n",
    "model = model.to('cuda')\n",
    "\n",
    "raw_datasets = load_dataset('glue', 'mnli')\n",
    "\n",
    "id_to_label = {\n",
    "    0: 'entailment',\n",
    "    1: 'neutral',\n",
    "    2: 'contradiction'\n",
    "}"
   ]
  },
  {
   "cell_type": "code",
   "execution_count": 5,
   "outputs": [
    {
     "data": {
      "text/plain": "Running tokenizer on entailment dataset:   0%|          | 0/130899 [00:00<?, ? examples/s]",
      "application/vnd.jupyter.widget-view+json": {
       "version_major": 2,
       "version_minor": 0,
       "model_id": "340f8bcfcaad4cd7a38095447eeeda67"
      }
     },
     "metadata": {},
     "output_type": "display_data"
    }
   ],
   "source": [
    "def preprocess_p_function(dataset):\n",
    "    premise = tokenizer(dataset['premise'], padding=\"max_length\", max_length=64, truncation=True, return_tensors=\"pt\")\n",
    "    return premise\n",
    "\n",
    "def preprocess_h_function(dataset):\n",
    "    premise = tokenizer(dataset['hypothesis'], padding=\"max_length\", max_length=64, truncation=True, return_tensors=\"pt\")\n",
    "    return premise\n",
    "\n",
    "train_dataset = raw_datasets[\"train\"]\n",
    "entailment_ds = train_dataset.filter(lambda row: row['label'] == 0)\n",
    "nonentailment_ds = train_dataset.filter(lambda row: row['label'] != 0)\n",
    "\n",
    "p_entailment = entailment_ds.map(\n",
    "            preprocess_p_function,\n",
    "            #num_proc=20,\n",
    "            batched=True,\n",
    "            remove_columns=entailment_ds.column_names,\n",
    "            desc=\"Running tokenizer on entailment dataset\"\n",
    "        )\n",
    "\n",
    "h_entailment = entailment_ds.map(\n",
    "            preprocess_h_function,\n",
    "            #num_proc=20,\n",
    "            batched=True,\n",
    "            remove_columns=entailment_ds.column_names,\n",
    "            desc=\"Running tokenizer on entailment dataset\"\n",
    "        )\n",
    "\n",
    "p_entailment_dl = DataLoader(p_entailment, shuffle=False, collate_fn=default_data_collator, batch_size=128)\n",
    "h_entailment_dl = DataLoader(h_entailment, shuffle=False, collate_fn=default_data_collator, batch_size=128)\n"
   ],
   "metadata": {
    "collapsed": false,
    "ExecuteTime": {
     "end_time": "2023-10-16T19:54:17.193111012Z",
     "start_time": "2023-10-16T19:54:08.585111465Z"
    }
   }
  },
  {
   "cell_type": "code",
   "execution_count": 6,
   "outputs": [
    {
     "name": "stdout",
     "output_type": "stream",
     "text": [
      "1023\n"
     ]
    }
   ],
   "source": [
    "from tqdm import tqdm\n",
    "print(len(p_entailment_dl))"
   ],
   "metadata": {
    "collapsed": false,
    "ExecuteTime": {
     "end_time": "2023-10-16T19:54:17.199573326Z",
     "start_time": "2023-10-16T19:54:17.193735650Z"
    }
   }
  },
  {
   "cell_type": "code",
   "execution_count": 9,
   "outputs": [
    {
     "name": "stderr",
     "output_type": "stream",
     "text": [
      "100%|██████████| 1023/1023 [26:52<00:00,  1.58s/it]\n"
     ]
    }
   ],
   "source": [
    "cos = nn.CosineSimilarity(dim=1, eps=1e-6)\n",
    "a = []\n",
    "model.eval()\n",
    "\n",
    "total = len(p_entailment_dl)\n",
    "with torch.no_grad():\n",
    "    for prem_batch, hyp_batch in tqdm(zip(p_entailment_dl, h_entailment_dl), total=total):\n",
    "        #print(hyp_batch['input_ids'].size())\n",
    "        hyp_batch = {k:b.to(\"cuda\") for k,b in hyp_batch.items()}\n",
    "        prem_batch = {k:b.to(\"cuda\") for k,b in prem_batch.items()}\n",
    "        h_embedding = model(**hyp_batch).pooler_output\n",
    "        p_embedding = model(**prem_batch).pooler_output\n",
    "        sim = cos(p_embedding, h_embedding)\n",
    "        a.append(sim)\n",
    "        #break\n",
    "\n"
   ],
   "metadata": {
    "collapsed": false,
    "ExecuteTime": {
     "end_time": "2023-10-16T20:21:19.757496163Z",
     "start_time": "2023-10-16T19:54:27.089446332Z"
    }
   }
  },
  {
   "cell_type": "code",
   "execution_count": 11,
   "outputs": [],
   "source": [
    "similarity_tensor = torch.cat(a)"
   ],
   "metadata": {
    "collapsed": false,
    "ExecuteTime": {
     "end_time": "2023-10-16T20:23:33.044756968Z",
     "start_time": "2023-10-16T20:23:33.002652423Z"
    }
   }
  },
  {
   "cell_type": "code",
   "execution_count": 19,
   "outputs": [
    {
     "data": {
      "text/plain": "(tensor(0.7726, device='cuda:0'),\n tensor(0.1298, device='cuda:0'),\n tensor(-0.1027, device='cuda:0'),\n tensor(1.0000, device='cuda:0'),\n tensor(0.7872, device='cuda:0'))"
     },
     "execution_count": 19,
     "metadata": {},
     "output_type": "execute_result"
    }
   ],
   "source": [
    "\n",
    "similarity_tensor.mean(), similarity_tensor.std(), similarity_tensor.min(), similarity_tensor.max(),similarity_tensor.median()"
   ],
   "metadata": {
    "collapsed": false,
    "ExecuteTime": {
     "end_time": "2023-10-16T20:24:25.698060436Z",
     "start_time": "2023-10-16T20:24:25.653022263Z"
    }
   }
  },
  {
   "cell_type": "code",
   "execution_count": 20,
   "outputs": [
    {
     "data": {
      "text/plain": "Running tokenizer on entailment dataset:   0%|          | 0/261803 [00:00<?, ? examples/s]",
      "application/vnd.jupyter.widget-view+json": {
       "version_major": 2,
       "version_minor": 0,
       "model_id": "d88c7868bd96449aa30611f395f802f8"
      }
     },
     "metadata": {},
     "output_type": "display_data"
    },
    {
     "data": {
      "text/plain": "Running tokenizer on entailment dataset:   0%|          | 0/261803 [00:00<?, ? examples/s]",
      "application/vnd.jupyter.widget-view+json": {
       "version_major": 2,
       "version_minor": 0,
       "model_id": "fc782f13c4084e81a13b4085943aa204"
      }
     },
     "metadata": {},
     "output_type": "display_data"
    }
   ],
   "source": [
    "p = nonentailment_ds.map(\n",
    "            preprocess_p_function,\n",
    "            #num_proc=20,\n",
    "            batched=True,\n",
    "            remove_columns=entailment_ds.column_names,\n",
    "            desc=\"Running tokenizer on entailment dataset\"\n",
    "        )\n",
    "\n",
    "h = nonentailment_ds.map(\n",
    "            preprocess_h_function,\n",
    "            #num_proc=20,\n",
    "            batched=True,\n",
    "            remove_columns=entailment_ds.column_names,\n",
    "            desc=\"Running tokenizer on entailment dataset\"\n",
    "        )\n",
    "\n",
    "p_n = DataLoader(p, shuffle=False, collate_fn=default_data_collator, batch_size=128)\n",
    "h_n = DataLoader(h, shuffle=False, collate_fn=default_data_collator, batch_size=128)"
   ],
   "metadata": {
    "collapsed": false,
    "ExecuteTime": {
     "end_time": "2023-10-16T20:25:50.044761041Z",
     "start_time": "2023-10-16T20:25:19.450204107Z"
    }
   }
  },
  {
   "cell_type": "code",
   "execution_count": 21,
   "outputs": [
    {
     "name": "stderr",
     "output_type": "stream",
     "text": [
      "100%|██████████| 2046/2046 [48:38<00:00,  1.43s/it]\n"
     ]
    }
   ],
   "source": [
    "cos = nn.CosineSimilarity(dim=1, eps=1e-6)\n",
    "a_ne = []\n",
    "model.eval()\n",
    "\n",
    "total = len(h_n)\n",
    "with torch.no_grad():\n",
    "    for prem_batch, hyp_batch in tqdm(zip(p_n, h_n), total=total):\n",
    "        #print(hyp_batch['input_ids'].size())\n",
    "        hyp_batch = {k:b.to(\"cuda\") for k,b in hyp_batch.items()}\n",
    "        prem_batch = {k:b.to(\"cuda\") for k,b in prem_batch.items()}\n",
    "        h_embedding = model(**hyp_batch).pooler_output\n",
    "        p_embedding = model(**prem_batch).pooler_output\n",
    "        sim = cos(p_embedding, h_embedding)\n",
    "        a_ne.append(sim)\n",
    "        #break\n",
    "\n"
   ],
   "metadata": {
    "collapsed": false,
    "ExecuteTime": {
     "end_time": "2023-10-16T21:14:29.959289539Z",
     "start_time": "2023-10-16T20:25:51.016721286Z"
    }
   }
  },
  {
   "cell_type": "code",
   "execution_count": 37,
   "outputs": [
    {
     "data": {
      "text/plain": "(tensor(0.5347, device='cuda:0'),\n tensor(0.1754, device='cuda:0'),\n tensor(-0.2846, device='cuda:0'),\n tensor(0.9000, device='cuda:0'),\n tensor(0.5454, device='cuda:0'))"
     },
     "execution_count": 37,
     "metadata": {},
     "output_type": "execute_result"
    }
   ],
   "source": [
    "ne_similarity_tensor = torch.cat(a_ne)\n",
    "ne_similarity_tensor = ne_similarity_tensor[ne_similarity_tensor < 0.9]\n",
    "ne_similarity_tensor.mean(), ne_similarity_tensor.std(), ne_similarity_tensor.min(), ne_similarity_tensor.max(),ne_similarity_tensor.median()"
   ],
   "metadata": {
    "collapsed": false,
    "ExecuteTime": {
     "end_time": "2023-10-16T21:47:40.466689660Z",
     "start_time": "2023-10-16T21:47:40.422441386Z"
    }
   }
  },
  {
   "cell_type": "code",
   "execution_count": 10,
   "outputs": [
    {
     "data": {
      "text/plain": "Filter:   0%|          | 0/392702 [00:00<?, ? examples/s]",
      "application/vnd.jupyter.widget-view+json": {
       "version_major": 2,
       "version_minor": 0,
       "model_id": "348e1c77864a4fb9874b330196f7dd36"
      }
     },
     "metadata": {},
     "output_type": "display_data"
    },
    {
     "data": {
      "text/plain": "130899"
     },
     "execution_count": 10,
     "metadata": {},
     "output_type": "execute_result"
    }
   ],
   "source": [
    "ds = raw_datasets[\"train\"]\n",
    "len(ds.filter(lambda row: row['label'] == 0))"
   ],
   "metadata": {
    "collapsed": false,
    "ExecuteTime": {
     "end_time": "2023-10-16T17:31:02.993904102Z",
     "start_time": "2023-10-16T17:31:01.114275661Z"
    }
   }
  },
  {
   "cell_type": "code",
   "execution_count": 36,
   "outputs": [
    {
     "data": {
      "text/plain": "2471"
     },
     "execution_count": 36,
     "metadata": {},
     "output_type": "execute_result"
    }
   ],
   "source": [
    "len((ne_similarity_tensor > .9).nonzero(as_tuple=True)[0])"
   ],
   "metadata": {
    "collapsed": false,
    "ExecuteTime": {
     "end_time": "2023-10-16T21:47:16.194727476Z",
     "start_time": "2023-10-16T21:47:16.183754591Z"
    }
   }
  },
  {
   "cell_type": "code",
   "execution_count": 31,
   "outputs": [
    {
     "data": {
      "text/plain": "{'premise': 'mean is we moved closer, in,',\n 'hypothesis': 'mean is we moved closer, in,',\n 'label': 1,\n 'idx': 97443}"
     },
     "execution_count": 31,
     "metadata": {},
     "output_type": "execute_result"
    }
   ],
   "source": [
    "nonentailment_ds[64487]"
   ],
   "metadata": {
    "collapsed": false,
    "ExecuteTime": {
     "end_time": "2023-10-16T21:46:31.404921398Z",
     "start_time": "2023-10-16T21:46:31.360864215Z"
    }
   }
  },
  {
   "cell_type": "code",
   "execution_count": null,
   "outputs": [],
   "source": [],
   "metadata": {
    "collapsed": false
   }
  }
 ],
 "metadata": {
  "kernelspec": {
   "display_name": "Python 3",
   "language": "python",
   "name": "python3"
  },
  "language_info": {
   "codemirror_mode": {
    "name": "ipython",
    "version": 2
   },
   "file_extension": ".py",
   "mimetype": "text/x-python",
   "name": "python",
   "nbconvert_exporter": "python",
   "pygments_lexer": "ipython2",
   "version": "2.7.6"
  }
 },
 "nbformat": 4,
 "nbformat_minor": 0
}
