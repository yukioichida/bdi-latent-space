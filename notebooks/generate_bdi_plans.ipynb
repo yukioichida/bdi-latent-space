{
 "cells": [
  {
   "cell_type": "markdown",
   "source": [
    "# TASKS\n",
    "- task 1\n",
    "- task 4\n",
    "- task 5"
   ],
   "metadata": {
    "collapsed": false
   }
  },
  {
   "cell_type": "markdown",
   "source": [
    "## BOIL WATER"
   ],
   "metadata": {
    "collapsed": false
   }
  },
  {
   "cell_type": "code",
   "execution_count": null,
   "metadata": {
    "collapsed": true
   },
   "outputs": [],
   "source": [
    "plan = ['open door to kitchen', # move to kitchen\n",
    "        'go to kitchen', # move to kitchen\n",
    "        'pick up thermometer', # pick up thermometer\n",
    "        'open cupboard', # get metal pot\n",
    "        'pick up metal pot', # get metal pot\n",
    "        'move metal pot to sink', # fill metal pot with water\n",
    "        'activate sink', # fill metal pot with water\n",
    "        'deactivate sink', # fill metal pot with water\n",
    "        'pick up metal pot', # fill metal pot with water\n",
    "        'move metal pot to stove', # heat water on stove\n",
    "        'activate stove', # heat water on stove\n",
    "        'wait', # heat water on stove\n",
    "        'use thermometer in inventory on substance in metal pot', # heat water on stove\n",
    "        'use thermometer in inventory on substance in metal pot', # heat water on stove\n",
    "        'focus on substance in metal pot', # heat water on stove\n",
    "        'wait', # heat water on stove\n",
    "        'use thermometer in inventory on substance in metal pot', # heat water on stove\n",
    "        'focus on substance in metal pot' # heat water on stove\n",
    "        ]\n",
    "\n",
    "# MAIN GOAL\n",
    "\"\"\"\n",
    "    If your task is to boil water THEN\n",
    "        move to kitchen\n",
    "        pick up thermometer\n",
    "        get metal pot\n",
    "        fill metal pot with water\n",
    "        heat water on stove\n",
    "        focus on substance in metal pot\n",
    "\"\"\"\n",
    "\n",
    "# get metal pot\n",
    "\"\"\"\n",
    "    IF your task is to get metal pot CONSIDERING you are in the kitchen AND you see a cupboard THEN\n",
    "        open cupboard\n",
    "        pick up metal pot\n",
    "\"\"\"\n",
    "\n",
    "# fill metal pot with water\n",
    "\"\"\"\n",
    "    If your task is to fill metal pot with water CONSIDERING you have metal pot in your inventory AND you see a sink THEN\n",
    "        move metal pot to sink\n",
    "        activate sink\n",
    "        deactivate sink\n",
    "        pick up metal pot\n",
    "\"\"\"\n",
    "\n",
    "# heat water on stove\n",
    "\"\"\"\n",
    "    IF your task is to heat water on stove CONSIDERING you have metal pot with water AND you see a stove THEN\n",
    "        move metal pot to stove\n",
    "        activate stove\n",
    "        wait\n",
    "        use thermometer in inventory on substance in metal pot\n",
    "        use thermometer in inventory on substance in metal pot\n",
    "        focus on substance in metal pot\n",
    "        wait\n",
    "        use thermometer in inventory on substance in metal pot\n",
    "\"\"\"\n"
   ]
  },
  {
   "cell_type": "markdown",
   "source": [
    "## BOIL TIN"
   ],
   "metadata": {
    "collapsed": false
   }
  },
  {
   "cell_type": "code",
   "execution_count": null,
   "outputs": [],
   "source": [
    "plan = ['open door to kitchen',\n",
    "        'go to kitchen',\n",
    "\n",
    "        'pick up thermometer',\n",
    "\n",
    "        'open cupboard', # pick up metal pot\n",
    "        'pick up metal pot', # pick up metal pot\n",
    "\n",
    "        'open door to hallway',\n",
    "        'go to hallway',\n",
    "        'open door to workshop',\n",
    "        'go to workshop',\n",
    "\n",
    "        'pick up substance in cup', # variation 23\n",
    "        'move substance in inventory to metal pot',\n",
    "\n",
    "        'go to hallway',\n",
    "        'go to kitchen',\n",
    "        #'move metal pot to stove', # stove broken in variation 23\n",
    "        #'activate stove',# stove broken in variation 23\n",
    "        'open door to outside', # move to foun\n",
    "        'go to outside', # move to foundry\n",
    "        'open door to foundry', # move to foundry\n",
    "        'go to foundry', # move to foundry\n",
    "\n",
    "        'open blast furnace',\n",
    "        'move metal pot to blast furnace',\n",
    "        'activate blast furnace',\n",
    "        'focus on substance in metal pot',\n",
    "        'examine substance in metal pot',\n",
    "        'use thermometer in inventory on substance in metal pot',\n",
    "        'wait',\n",
    "        'focus on substance in metal pot', # liquid\n",
    "        'wait',\n",
    "        'wait',\n",
    "        'wait',\n",
    "        'wait',\n",
    "        'focus on substance in metal pot' # gaseous\n",
    "        ]\n",
    "\n",
    "# MAIN GOAL\n",
    "\"\"\"\n",
    "    IF your task is to boil tin THEN\n",
    "        move to kitchen\n",
    "        get metal pot\n",
    "        move to workshop\n",
    "        get tin\n",
    "        move to foundry\n",
    "        heat tin in blast furnace\n",
    "\n",
    "\"\"\"\n",
    "\n",
    "\"\"\"\n",
    "    IF your task is to get tin CONSIDERING you are in the workshop AND you have a metal pot in your inventory THEN\n",
    "        pick up substance in cup\n",
    "        move substance in inventory to metal pot\n",
    "\"\"\"\n",
    "\n",
    "\"\"\"IF your task is to heat tin in blast furnace CONSIDERING you are in the foundry AND you see a blast furnace THEN\n",
    "    ...\n",
    "\n",
    "\"\"\"\n"
   ],
   "metadata": {
    "collapsed": false
   }
  }
 ],
 "metadata": {
  "kernelspec": {
   "display_name": "Python 3",
   "language": "python",
   "name": "python3"
  },
  "language_info": {
   "codemirror_mode": {
    "name": "ipython",
    "version": 2
   },
   "file_extension": ".py",
   "mimetype": "text/x-python",
   "name": "python",
   "nbconvert_exporter": "python",
   "pygments_lexer": "ipython2",
   "version": "2.7.6"
  }
 },
 "nbformat": 4,
 "nbformat_minor": 0
}
