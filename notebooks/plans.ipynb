{
 "cells": [
  {
   "cell_type": "code",
   "execution_count": 8,
   "metadata": {
    "collapsed": true,
    "ExecuteTime": {
     "start_time": "2023-07-12T14:03:23.484378Z",
     "end_time": "2023-07-12T14:03:23.486378Z"
    }
   },
   "outputs": [],
   "source": [
    "from sources.bdi_components.plans import load_plans_from_file\n",
    "\n",
    "plan_file = \"../plans/boil_water.plan\"\n",
    "\n",
    "plans = load_plans_from_file(plan_file)"
   ]
  },
  {
   "cell_type": "code",
   "execution_count": 9,
   "outputs": [
    {
     "data": {
      "text/plain": "['you have a metal pot in inventory with water, a thermometer ',\n ' you see a stove']"
     },
     "execution_count": 9,
     "metadata": {},
     "output_type": "execute_result"
    }
   ],
   "source": [
    "plans[4].context"
   ],
   "metadata": {
    "collapsed": false,
    "ExecuteTime": {
     "start_time": "2023-07-12T14:03:23.752475Z",
     "end_time": "2023-07-12T14:03:23.756969Z"
    }
   }
  },
  {
   "cell_type": "code",
   "execution_count": 10,
   "outputs": [
    {
     "data": {
      "text/plain": "Plan(task='boil an water', context=['your are seeing the kitchen door'], body=['go to the kitchen first', 'pick the metal pot', 'fill metal pot with water', 'pick up thermometer', 'heat the water'], idx=0)"
     },
     "execution_count": 10,
     "metadata": {},
     "output_type": "execute_result"
    }
   ],
   "source": [
    "plans[0]"
   ],
   "metadata": {
    "collapsed": false,
    "ExecuteTime": {
     "start_time": "2023-07-12T16:19:51.103310Z",
     "end_time": "2023-07-12T16:19:51.153227Z"
    }
   }
  },
  {
   "cell_type": "code",
   "execution_count": null,
   "outputs": [],
   "source": [],
   "metadata": {
    "collapsed": false
   }
  }
 ],
 "metadata": {
  "kernelspec": {
   "display_name": "Python 3",
   "language": "python",
   "name": "python3"
  },
  "language_info": {
   "codemirror_mode": {
    "name": "ipython",
    "version": 2
   },
   "file_extension": ".py",
   "mimetype": "text/x-python",
   "name": "python",
   "nbconvert_exporter": "python",
   "pygments_lexer": "ipython2",
   "version": "2.7.6"
  }
 },
 "nbformat": 4,
 "nbformat_minor": 0
}
