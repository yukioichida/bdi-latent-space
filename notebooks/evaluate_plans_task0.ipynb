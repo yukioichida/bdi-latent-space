{
 "cells": [
  {
   "cell_type": "code",
   "execution_count": 1,
   "outputs": [],
   "source": [
    "from sources.bdi_components.plans import PlanLibrary\n",
    "from sources.bdi_components.belief import BeliefBase, State\n",
    "from sources.bdi_components.inference import NLIModel\n",
    "from sources.agent.agent import BDIAgent\n",
    "\n",
    "from sources.agent.scienceworld import parse_observation\n",
    "\n",
    "from scienceworld import ScienceWorldEnv\n",
    "import re\n",
    "from sources.agent.scienceworld import parse_observation"
   ],
   "metadata": {
    "collapsed": false,
    "ExecuteTime": {
     "start_time": "2023-08-21T16:06:00.498930Z",
     "end_time": "2023-08-21T16:06:01.278475Z"
    }
   }
  },
  {
   "cell_type": "code",
   "execution_count": 2,
   "outputs": [],
   "source": [
    "hg_model_hub_name = \"alisawuffles/roberta-large-wanli\"\n",
    "nli_model = NLIModel(hg_model_hub_name)"
   ],
   "metadata": {
    "collapsed": false,
    "ExecuteTime": {
     "start_time": "2023-08-21T16:06:01.283797Z",
     "end_time": "2023-08-21T16:06:05.445148Z"
    }
   }
  },
  {
   "cell_type": "code",
   "execution_count": 3,
   "metadata": {
    "collapsed": true,
    "ExecuteTime": {
     "start_time": "2023-08-21T16:06:05.445148Z",
     "end_time": "2023-08-21T16:06:05.447278Z"
    }
   },
   "outputs": [
    {
     "name": "stdout",
     "output_type": "stream",
     "text": [
      "dict_keys(['boil water', 'get metal pot', 'fill metal pot with water', 'heat water on stove', 'move to kitchen'])\n"
     ]
    }
   ],
   "source": [
    "# MAIN GOAL\n",
    "main_plan = \"\"\"\n",
    "    IF your goal is to boil water THEN\n",
    "        move to kitchen,\n",
    "        pick up thermometer,\n",
    "        get metal pot,\n",
    "        fill metal pot with water,\n",
    "        heat water on stove,\n",
    "        focus on substance in metal pot,\n",
    "\"\"\"\n",
    "\n",
    "# get metal pot\n",
    "subplan_a = \"\"\"\n",
    "    IF your goal is to get metal pot CONSIDERING you are in the kitchen AND you see a cupboard THEN\n",
    "        open cupboard,\n",
    "        pick up metal pot,\n",
    "\"\"\"\n",
    "\n",
    "# fill metal pot with water\n",
    "subplan_b = \"\"\"\n",
    "    IF your goal is to fill metal pot with water CONSIDERING you have metal pot in your inventory AND you see a sink THEN\n",
    "        move metal pot to sink,\n",
    "        activate sink,\n",
    "        deactivate sink,\n",
    "        pick up metal pot,\n",
    "\"\"\"\n",
    "\n",
    "# heat water on stove\n",
    "subplan_c = \"\"\"\n",
    "    IF your goal is to heat water on stove CONSIDERING you have metal pot with water AND you see a stove THEN\n",
    "        move metal pot to stove,\n",
    "        activate stove,\n",
    "        wait,\n",
    "        use thermometer in inventory on substance in metal pot,\n",
    "        use thermometer in inventory on substance in metal pot,\n",
    "        focus on substance in metal pot,\n",
    "        wait,\n",
    "        use thermometer in inventory on substance in metal pot\n",
    "\"\"\"\n",
    "\n",
    "subplan_d = \"\"\"\n",
    "    IF your goal is to move to kitchen CONSIDERING you are in art studio THEN\n",
    "        open door,\n",
    "        go to hallway,\n",
    "        open door to kitchen,\n",
    "        go to kitchen\n",
    "\"\"\"\n",
    "\n",
    "all_plans = [main_plan, subplan_a, subplan_b, subplan_c, subplan_d]\n",
    "\n",
    "pl = PlanLibrary()\n",
    "pl.load_plans_from_strings(all_plans)\n",
    "print(pl.plans.keys())"
   ]
  },
  {
   "cell_type": "code",
   "execution_count": 4,
   "outputs": [
    {
     "name": "stdout",
     "output_type": "stream",
     "text": [
      "Task Name: boil variation 0\n",
      "Task Description: Your task is to boil water. For compounds without a boiling point, combusting the substance is also acceptable. First, focus on the substance. Then, take actions that will cause it to change its state of matter.\n"
     ]
    }
   ],
   "source": [
    "env = ScienceWorldEnv(\"\", \"\", envStepLimit=100)\n",
    "randVariationIdx = 0 # water\n",
    "env.load('boil', randVariationIdx)\n",
    "# Reset the environment\n",
    "observation, info = env.reset()\n",
    "\n",
    "print(f\"Task Name: \" + 'boil' + \" variation \" + str(randVariationIdx))\n",
    "print(\"Task Description: \" + str(env.getTaskDescription()))\n",
    "randVariationIdx = 0 # tin\n",
    "env.load('boil', randVariationIdx)\n",
    "# Reset the environment\n",
    "observation, info = env.reset()"
   ],
   "metadata": {
    "collapsed": false,
    "ExecuteTime": {
     "start_time": "2023-08-21T16:06:05.449285Z",
     "end_time": "2023-08-21T16:06:06.766344Z"
    }
   }
  },
  {
   "cell_type": "code",
   "execution_count": 5,
   "outputs": [
    {
     "name": "stdout",
     "output_type": "stream",
     "text": [
      "Root event: boil water\n"
     ]
    },
    {
     "data": {
      "text/plain": "['This room is called the art studio.',\n 'You see the agent',\n 'You see a substance called air',\n 'You see a large cupboard. The large cupboard door is closed.',\n 'You see a table. On the table is: a bowl (containing nothing).',\n 'You see a wood cup (containing blue paint)',\n 'You see a wood cup (containing red paint)',\n 'You see a wood cup (containing yellow paint)',\n 'A door to the hallway (that is closed)']"
     },
     "execution_count": 5,
     "metadata": {},
     "output_type": "execute_result"
    }
   ],
   "source": [
    "def parse(look: str) -> list[str]:\n",
    "    x = re.search(r\"([\\S\\s]*?)(?:In it, you see:)([\\S\\s]*?)(?:You also see:)([\\S\\s]*)\", look)\n",
    "    if x == None:\n",
    "        x = re.search(r\"([\\S\\s]*?)(?:Here you see:)([\\S\\s]*?)(?:You also see:)([\\S\\s]*)\", look)\n",
    "    groups = x.groups()\n",
    "\n",
    "    location = groups[0]\n",
    "    objects = groups[1]\n",
    "    doors = groups[2]\n",
    "\n",
    "    loc_split = [location.strip()]\n",
    "    obs_split = [obs.strip() for obs in objects.split('\\n') if len(obs.strip()) > 0]\n",
    "    obs_split = [f\"You see {obs}\" for obs in obs_split]\n",
    "    doors_split = [door.strip() for door in doors.split('\\n') if len(door.strip()) > 0]\n",
    "    return loc_split + obs_split + doors_split\n",
    "\n",
    "observation, reward, isCompleted, info = env.step('look around')\n",
    "#root_event = env.getTaskDescription().split('.')[0].lower()\n",
    "root_event = 'boil water'\n",
    "print(f\"Root event: {root_event}\")\n",
    "parsed_obs = parse(info['look'])\n",
    "parsed_obs"
   ],
   "metadata": {
    "collapsed": false,
    "ExecuteTime": {
     "start_time": "2023-08-21T16:06:06.765346Z",
     "end_time": "2023-08-21T16:06:06.867543Z"
    }
   }
  },
  {
   "cell_type": "code",
   "execution_count": 6,
   "outputs": [
    {
     "data": {
      "text/plain": "State(goal='boil water', observation='This room is called the art studio. In it, you see: \\n\\tthe agent\\n\\ta substance called air\\n\\ta large cupboard. The large cupboard door is closed. \\n\\ta table. On the table is: a bowl (containing nothing).\\n\\ta wood cup (containing blue paint)\\n\\ta wood cup (containing red paint)\\n\\ta wood cup (containing yellow paint)\\nYou also see:\\n\\tA door to the hallway (that is closed)', look=['This room is called the art studio.', 'You see the agent', 'You see a substance called air', 'You see a large cupboard. The large cupboard door is closed.', 'You see a table. On the table is: a bowl (containing nothing).', 'You see a wood cup (containing blue paint)', 'You see a wood cup (containing red paint)', 'You see a wood cup (containing yellow paint)', 'A door to the hallway (that is closed)'], inventory='In your inventory, you see: an orange ')"
     },
     "execution_count": 6,
     "metadata": {},
     "output_type": "execute_result"
    }
   ],
   "source": [
    "inventory = info['inv'].replace('\\n', ' ').replace('\\t', '')\n",
    "current_state = State(goal=root_event, observation=observation, look=parsed_obs, inventory=inventory)\n",
    "current_state"
   ],
   "metadata": {
    "collapsed": false,
    "ExecuteTime": {
     "start_time": "2023-08-21T16:06:06.869561Z",
     "end_time": "2023-08-21T16:06:06.874089Z"
    }
   }
  },
  {
   "cell_type": "code",
   "execution_count": 7,
   "outputs": [
    {
     "name": "stderr",
     "output_type": "stream",
     "text": [
      "Asking to truncate to max_length but no maximum length is provided and the model has no predefined maximum length. Default to no truncation.\n"
     ]
    },
    {
     "name": "stdout",
     "output_type": "stream",
     "text": [
      "-> Event move to kitchen\n",
      "drill down to event: move to kitchen\n",
      "-> Event open door\n",
      "Executing action open door\n",
      "-> Event go to hallway\n",
      "event go to hallway not recognized as a subgoal neither an action\n",
      "-> Event pick up thermometer\n",
      "event pick up thermometer not recognized as a subgoal neither an action\n"
     ]
    }
   ],
   "source": [
    "def step_function(action: str) -> State:\n",
    "    observation, reward, isCompleted, info = env.step(action)\n",
    "    parsed_obs = parse(info['look'])\n",
    "    inventory = info['inv'].replace('\\n', ' ').replace('\\t', '')\n",
    "\n",
    "    print(f\"Action {action} executed -> obs perceived {observation}\")\n",
    "    return State(goal=root_event, observation=observation, look=parsed_obs, inventory=inventory)\n",
    "\n",
    "\n",
    "agent = BDIAgent(plan_library=pl, nli_model=nli_model)\n",
    "agent.act(current_state, info['valid'], step_function=step_function)"
   ],
   "metadata": {
    "collapsed": false,
    "ExecuteTime": {
     "start_time": "2023-08-21T16:06:06.874089Z",
     "end_time": "2023-08-21T16:06:07.727366Z"
    }
   }
  },
  {
   "cell_type": "code",
   "execution_count": 12,
   "outputs": [
    {
     "data": {
      "text/plain": "['open cupboard', 'open door', 'open drawer']"
     },
     "execution_count": 12,
     "metadata": {},
     "output_type": "execute_result"
    }
   ],
   "source": [
    "[act for act in info['valid'] if act.startswith(\"open\")]"
   ],
   "metadata": {
    "collapsed": false,
    "ExecuteTime": {
     "start_time": "2023-08-21T16:01:42.881598Z",
     "end_time": "2023-08-21T16:01:42.934190Z"
    }
   }
  },
  {
   "cell_type": "code",
   "execution_count": 13,
   "outputs": [
    {
     "data": {
      "text/plain": "'This room is called the art studio. In it, you see: \\n\\tthe agent\\n\\ta substance called air\\n\\ta large cupboard. The large cupboard door is closed. \\n\\ta table. On the table is: a bowl (containing nothing).\\n\\ta wood cup (containing blue paint)\\n\\ta wood cup (containing red paint)\\n\\ta wood cup (containing yellow paint)\\nYou also see:\\n\\tA door to the hallway (that is closed)\\n'"
     },
     "execution_count": 13,
     "metadata": {},
     "output_type": "execute_result"
    }
   ],
   "source": [
    "for i, action in enumerate(plan):\n",
    "    observation, reward, isCompleted, info = env.step(action)\n",
    "    print(f\"---- Step {i} | action: {action} | Finish {isCompleted} | reward {reward} -----\")\n",
    "    print(observation)"
   ],
   "metadata": {
    "collapsed": false,
    "ExecuteTime": {
     "start_time": "2023-08-21T16:01:53.128139Z",
     "end_time": "2023-08-21T16:01:53.187583Z"
    }
   }
  },
  {
   "cell_type": "code",
   "execution_count": 18,
   "outputs": [
    {
     "data": {
      "text/plain": "['open door', 'go to hallway', 'open door to kitchen', 'go to kitchen']"
     },
     "execution_count": 18,
     "metadata": {},
     "output_type": "execute_result"
    }
   ],
   "source": [
    "pl.plans['move to kitchen'][0].body"
   ],
   "metadata": {
    "collapsed": false,
    "ExecuteTime": {
     "start_time": "2023-08-21T16:03:33.999603Z",
     "end_time": "2023-08-21T16:03:34.006600Z"
    }
   }
  },
  {
   "cell_type": "code",
   "execution_count": 8,
   "outputs": [
    {
     "data": {
      "text/plain": "[Plan(triggering_event='get metal pot', context=['you are in the kitchen AND you see a cupboard'], body=['open cupboard', 'pick up metal pot', ''], idx=1)]"
     },
     "execution_count": 8,
     "metadata": {},
     "output_type": "execute_result"
    }
   ],
   "source": [
    "pl.plans['get metal pot']"
   ],
   "metadata": {
    "collapsed": false,
    "ExecuteTime": {
     "start_time": "2023-08-21T16:27:59.495938Z",
     "end_time": "2023-08-21T16:27:59.512404Z"
    }
   }
  },
  {
   "cell_type": "code",
   "execution_count": null,
   "outputs": [],
   "source": [],
   "metadata": {
    "collapsed": false
   }
  }
 ],
 "metadata": {
  "kernelspec": {
   "display_name": "Python 3",
   "language": "python",
   "name": "python3"
  },
  "language_info": {
   "codemirror_mode": {
    "name": "ipython",
    "version": 2
   },
   "file_extension": ".py",
   "mimetype": "text/x-python",
   "name": "python",
   "nbconvert_exporter": "python",
   "pygments_lexer": "ipython2",
   "version": "2.7.6"
  }
 },
 "nbformat": 4,
 "nbformat_minor": 0
}
