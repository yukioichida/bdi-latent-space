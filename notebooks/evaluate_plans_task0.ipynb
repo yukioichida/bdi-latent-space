{
 "cells": [
  {
   "cell_type": "code",
   "execution_count": 1,
   "outputs": [],
   "source": [
    "from scienceworld import ScienceWorldEnv\n",
    "\n",
    "from sources.agent.agent import BDIAgent\n",
    "from sources.agent.scienceworld import parse_observation\n",
    "from sources.bdi_components.belief import State\n",
    "from sources.bdi_components.inference import NLIModel\n",
    "from sources.bdi_components.plans import PlanLibrary"
   ],
   "metadata": {
    "collapsed": false,
    "ExecuteTime": {
     "start_time": "2023-08-23T10:21:06.708243Z",
     "end_time": "2023-08-23T10:21:07.730634Z"
    }
   }
  },
  {
   "cell_type": "code",
   "execution_count": 2,
   "outputs": [],
   "source": [
    "hg_model_hub_name = \"alisawuffles/roberta-large-wanli\"\n",
    "nli_model = NLIModel(hg_model_hub_name)"
   ],
   "metadata": {
    "collapsed": false,
    "ExecuteTime": {
     "start_time": "2023-08-23T10:21:07.736145Z",
     "end_time": "2023-08-23T10:21:13.193349Z"
    }
   }
  },
  {
   "cell_type": "code",
   "execution_count": 3,
   "metadata": {
    "collapsed": true,
    "ExecuteTime": {
     "start_time": "2023-08-23T10:21:13.198773Z",
     "end_time": "2023-08-23T10:21:13.200256Z"
    }
   },
   "outputs": [
    {
     "name": "stdout",
     "output_type": "stream",
     "text": [
      "dict_keys(['boil water', 'get metal pot', 'fill metal pot with water', 'heat water on stove', 'move to art studio', 'move to bedroom', 'move to greenhouse', 'move to kitchen', 'move to living room', 'move to workshop', 'move to outside', 'move to foundry', 'move to bathroom', 'move to hallway'])\n"
     ]
    }
   ],
   "source": [
    "# MAIN GOAL\n",
    "main_plan = \"\"\"\n",
    "    IF your goal is to boil water THEN\n",
    "        move to kitchen,\n",
    "        pick up thermometer,\n",
    "        get metal pot,\n",
    "        fill metal pot with water,\n",
    "        heat water on stove,\n",
    "        focus on substance in metal pot\n",
    "\"\"\"\n",
    "\n",
    "# get metal pot\n",
    "subplan_a = \"\"\"\n",
    "    IF your goal is to get metal pot CONSIDERING you are in the kitchen AND you see a cupboard THEN\n",
    "        open cupboard,\n",
    "        pick up metal pot\n",
    "\"\"\"\n",
    "\n",
    "# fill metal pot with water\n",
    "subplan_b = \"\"\"\n",
    "    IF your goal is to fill metal pot with water CONSIDERING you have metal pot in your inventory AND you see a sink THEN\n",
    "        move metal pot to sink,\n",
    "        activate sink,\n",
    "        deactivate sink,\n",
    "        pick up metal pot\n",
    "\"\"\"\n",
    "\n",
    "# heat water on stove\n",
    "subplan_c = \"\"\"\n",
    "    IF your goal is to heat water on stove CONSIDERING you have metal pot with water in your inventory AND you see a stove THEN\n",
    "        move metal pot to stove,\n",
    "        activate stove,\n",
    "        wait,\n",
    "        use thermometer on metal pot,\n",
    "        use thermometer on metal pot,\n",
    "        focus on substance in metal pot,\n",
    "        wait,\n",
    "        use thermometer on metal pot\n",
    "\"\"\"\n",
    "\n",
    "all_plans = [main_plan, subplan_a, subplan_b, subplan_c]\n",
    "\n",
    "pl = PlanLibrary()\n",
    "pl.load_plans_from_strings(all_plans) # load plans from strings above\n",
    "pl.load_plans_from_file(\"plans.txt\") # load plans from file\n",
    "print(pl.plans.keys())"
   ]
  },
  {
   "cell_type": "code",
   "execution_count": 4,
   "outputs": [
    {
     "name": "stdout",
     "output_type": "stream",
     "text": [
      "Task Name: boil variation 0\n",
      "Task Description: Your task is to boil water. For compounds without a boiling point, combusting the substance is also acceptable. First, focus on the substance. Then, take actions that will cause it to change its state of matter.\n"
     ]
    }
   ],
   "source": [
    "env = ScienceWorldEnv(\"\", \"\", envStepLimit=100)\n",
    "\n",
    "randVariationIdx = 0\n",
    "task_type = 'boil'\n",
    "root_event = 'boil water'\n",
    "env.load('boil', randVariationIdx)\n",
    "\n",
    "print(f\"Task Name: \" + 'boil' + \" variation \" + str(randVariationIdx))\n",
    "print(\"Task Description: \" + str(env.getTaskDescription()))\n",
    "\n",
    "# Reset the environment\n",
    "observation, info = env.reset()\n",
    "# initial state\n",
    "observation, reward, isCompleted, info = env.step('look around')\n",
    "current_state = parse_observation(observation=observation, inventory=info['inv'], look_around=info['look'],\n",
    "                                  task=root_event, valid_actions=info['valid'])"
   ],
   "metadata": {
    "collapsed": false,
    "ExecuteTime": {
     "start_time": "2023-08-23T10:21:13.202256Z",
     "end_time": "2023-08-23T10:21:14.327805Z"
    }
   }
  },
  {
   "cell_type": "code",
   "execution_count": 5,
   "outputs": [
    {
     "name": "stderr",
     "output_type": "stream",
     "text": [
      "Asking to truncate to max_length but no maximum length is provided and the model has no predefined maximum length. Default to no truncation.\n"
     ]
    },
    {
     "name": "stdout",
     "output_type": "stream",
     "text": [
      "The door is now open.\n",
      "You move to the kitchen.\n",
      "You move the thermometer to the inventory.\n",
      "The cupboard is now open.\n",
      "You move the metal pot to the inventory.\n",
      "You move the metal pot to the sink.\n",
      "The sink is now activated.\n",
      "The sink is now deactivated.\n",
      "You move the metal pot to the inventory.\n",
      "You move the metal pot to the stove.\n",
      "The stove is now activated.\n",
      "You decide to wait for 10 iterations.\n",
      "the thermometer measures a temperature of 156 degrees celsius\n",
      "the thermometer measures a temperature of 161 degrees celsius\n",
      "You focus on the water.\n",
      "You decide to wait for 10 iterations.\n",
      "the thermometer measures a temperature of 200 degrees celsius\n",
      "Event focus on substance in metal pot is not a subgoal nor an action.\n",
      "Completed keys: \n",
      "----------------------------------------------------------------------------------------------------\n",
      "Sequential Subgoals:\n",
      "----------------------------------------------------------------------------------------------------\n",
      "0\ttrue\t                                GoalFind\tfocus on substance\n",
      "1\ttrue\t                 GoalChangeStateOfMatter\tsubstance is in a liquid state\n",
      "2\ttrue\t                 GoalChangeStateOfMatter\tsubstance is in a gaseous state (or combusting)\n",
      "----------------------------------------------------------------------------------------------------\n",
      "Unordered and Optional Subgoals:\n",
      "----------------------------------------------------------------------------------------------------\n",
      "0\ttrue\t                    GoalInRoomWithObject\tbe in same location as water\n",
      "1\ttrue\t            GoalObjectsInSingleContainer\thave substance alone in a single container\n",
      "2\ttrue\t              GoalActivateDeviceWithName\tactivate heater (stove)\n",
      "3\tfalse\t              GoalActivateDeviceWithName\tactivate heater (blast furnace)\n",
      "4\tfalse\t              GoalActivateDeviceWithName\tactivate heater (oven)\n",
      "5\tfalse\t              GoalActivateDeviceWithName\tactivate heater (hot plate)\n",
      "6\tfalse\t     GoalSpecificObjectInDirectContainer\thave lighter in inventory\n",
      "7\tfalse\t     GoalSpecificObjectInDirectContainer\tmove wood into fire pit\n",
      "8\tfalse\t                   GoalTemperatureOnFire\tignite wood\n",
      "9\ttrue\t                   GoalObjectInContainer\thave object on heater (stove)\n",
      "10\tfalse\t                   GoalObjectInContainer\thave object on heater (blast furnace)\n",
      "11\tfalse\t                   GoalObjectInContainer\thave object on heater (oven)\n",
      "12\tfalse\t                   GoalObjectInContainer\thave object on heater (hot plate)\n",
      "13\tfalse\t                   GoalObjectInContainer\thave object on heater (fire pit)\n",
      "14\ttrue\t                 GoalTemperatureIncrease\theat object by at least 20C\n",
      "----------------------------------------------------------------------------------------------------\n",
      "\n"
     ]
    }
   ],
   "source": [
    "def step_function(action: str) -> State:\n",
    "    observation, reward, isCompleted, info = env.step(action)\n",
    "    print(observation)\n",
    "    updated_state = parse_observation(observation=observation, inventory=info['inv'], look_around=info['look'],\n",
    "                                  task=root_event, valid_actions=info['valid'])\n",
    "    return updated_state\n",
    "\n",
    "agent = BDIAgent(plan_library=pl, nli_model=nli_model)\n",
    "agent.act(current_state, step_function=step_function)\n",
    "\n",
    "print(env.getGoalProgressStr())"
   ],
   "metadata": {
    "collapsed": false,
    "ExecuteTime": {
     "start_time": "2023-08-23T10:21:14.331316Z",
     "end_time": "2023-08-23T10:21:35.129256Z"
    }
   }
  },
  {
   "cell_type": "code",
   "execution_count": 5,
   "outputs": [],
   "source": [],
   "metadata": {
    "collapsed": false,
    "ExecuteTime": {
     "start_time": "2023-08-23T10:21:35.129256Z",
     "end_time": "2023-08-23T10:21:35.132329Z"
    }
   }
  }
 ],
 "metadata": {
  "kernelspec": {
   "display_name": "Python 3",
   "language": "python",
   "name": "python3"
  },
  "language_info": {
   "codemirror_mode": {
    "name": "ipython",
    "version": 2
   },
   "file_extension": ".py",
   "mimetype": "text/x-python",
   "name": "python",
   "nbconvert_exporter": "python",
   "pygments_lexer": "ipython2",
   "version": "2.7.6"
  }
 },
 "nbformat": 4,
 "nbformat_minor": 0
}
