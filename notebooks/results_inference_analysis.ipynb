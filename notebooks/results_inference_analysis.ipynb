{
 "cells": [
  {
   "cell_type": "code",
   "execution_count": 1,
   "outputs": [],
   "source": [
    "import pandas as pd\n",
    "import plotly.graph_objects as go\n",
    "import plotly.express as px\n",
    "import plotly.io as pio\n",
    "from plotly.subplots import make_subplots\n",
    "\n",
    "pio.templates.default = \"simple_white\"\n",
    "\n",
    "from scienceworld import ScienceWorldEnv\n",
    "\n",
    "\n",
    "from sources.scienceworld import load_step_function, parse_observation\n",
    "from sources.agent import BDIAgent\n",
    "from sources.bdi_components.inference import NLIModel\n",
    "from sources.bdi_components.belief import State\n",
    "\n",
    "import numpy as np\n",
    "from os import listdir\n",
    "from os.path import isfile, join\n",
    "import re\n"
   ],
   "metadata": {
    "collapsed": false,
    "ExecuteTime": {
     "start_time": "2023-10-06T21:24:18.115570Z",
     "end_time": "2023-10-06T21:24:20.575779Z"
    }
   }
  },
  {
   "cell_type": "code",
   "execution_count": 44,
   "outputs": [],
   "source": [
    "def preprocess_df(results_df):\n",
    "    results_df.loc[results_df[\"plans_pct\"] == 1, \"plans_pct\"] = 100\n",
    "    results_df.loc[results_df[\"plans_pct\"] == 2, \"plans_pct\"] = 25\n",
    "    results_df.loc[results_df[\"plans_pct\"] == 5, \"plans_pct\"] = 50\n",
    "    results_df.loc[results_df[\"plans_pct\"] == 7, \"plans_pct\"] = 75\n",
    "    results_df['rl_score'] = results_df['rl_score'] / 100\n",
    "    results_df['bdi_score'] = results_df['bdi_score'] / 100\n",
    "    results_df['final_score'] = results_df['final_score'] / 100\n",
    "    return results_df"
   ],
   "metadata": {
    "collapsed": false,
    "ExecuteTime": {
     "start_time": "2023-10-07T09:19:18.067430Z",
     "end_time": "2023-10-07T09:19:18.069431Z"
    }
   }
  },
  {
   "cell_type": "code",
   "execution_count": 50,
   "metadata": {
    "collapsed": true,
    "ExecuteTime": {
     "start_time": "2023-10-07T09:21:33.410923Z",
     "end_time": "2023-10-07T09:21:33.463466Z"
    }
   },
   "outputs": [
    {
     "name": "stdout",
     "output_type": "stream",
     "text": [
      "['melt', 'find-non-living-thing']\n"
     ]
    },
    {
     "data": {
      "text/plain": "     num_bdi_actions  num_rl_actions  plan_found  variation  error  bdi_score  \\\n0                  0              50           0         21   True        0.0   \n1                  5              50           1         22   True        0.0   \n2                  3              50           1         23   True        0.0   \n3                  5              50           1         24   True        0.0   \n4                  2              50           1         25   True        0.0   \n..               ...             ...         ...        ...    ...        ...   \n247                9               0           1        295  False        1.0   \n248               11               0           1        296  False        1.0   \n249               11               0           1        297  False        1.0   \n250               11               0           1        298  False        1.0   \n251               11               0           1        299  False        1.0   \n\n     rl_score  final_score  complete  num_plans  plan_library_size  plans_pct  \\\n0        0.03         0.03     False          0                 24        100   \n1        0.05         0.05     False          2                 24        100   \n2        0.05         0.05     False          2                 24        100   \n3        0.05         0.05     False          3                 24        100   \n4        0.03         0.03     False          2                 24        100   \n..        ...          ...       ...        ...                ...        ...   \n247      0.00         1.00      True          3                 41        100   \n248      0.00         1.00      True          3                 41        100   \n249      0.00         1.00      True          3                 41        100   \n250      0.00         1.00      True          3                 41        100   \n251      0.00         1.00      True          3                 41        100   \n\n     eps                                    drrn_model_file  \\\n0    457  models/model_task1melt/model-steps56000-eps457.pt   \n1    457  models/model_task1melt/model-steps56000-eps457.pt   \n2    457  models/model_task1melt/model-steps56000-eps457.pt   \n3    457  models/model_task1melt/model-steps56000-eps457.pt   \n4    457  models/model_task1melt/model-steps56000-eps457.pt   \n..   ...                                                ...   \n247  242    models/models_task13/model-steps32000-eps242.pt   \n248  242    models/models_task13/model-steps32000-eps242.pt   \n249  242    models/models_task13/model-steps32000-eps242.pt   \n250  242    models/models_task13/model-steps32000-eps242.pt   \n251  242    models/models_task13/model-steps32000-eps242.pt   \n\n                                             nli_model                   task  \\\n0            gchhablani/bert-base-cased-finetuned-mnli                   melt   \n1            gchhablani/bert-base-cased-finetuned-mnli                   melt   \n2            gchhablani/bert-base-cased-finetuned-mnli                   melt   \n3            gchhablani/bert-base-cased-finetuned-mnli                   melt   \n4            gchhablani/bert-base-cased-finetuned-mnli                   melt   \n..                                                 ...                    ...   \n247  ynie/roberta-large-snli_mnli_fever_anli_R1_R2_...  find-non-living-thing   \n248  ynie/roberta-large-snli_mnli_fever_anli_R1_R2_...  find-non-living-thing   \n249  ynie/roberta-large-snli_mnli_fever_anli_R1_R2_...  find-non-living-thing   \n250  ynie/roberta-large-snli_mnli_fever_anli_R1_R2_...  find-non-living-thing   \n251  ynie/roberta-large-snli_mnli_fever_anli_R1_R2_...  find-non-living-thing   \n\n     num_total_plans  num_common_plans  num_specific_plans  \n0                193               180                  13  \n1                193               180                  13  \n2                193               180                  13  \n3                193               180                  13  \n4                193               180                  13  \n..               ...               ...                 ...  \n247              210               180                  30  \n248              210               180                  30  \n249              210               180                  30  \n250              210               180                  30  \n251              210               180                  30  \n\n[252 rows x 19 columns]",
      "text/html": "<div>\n<style scoped>\n    .dataframe tbody tr th:only-of-type {\n        vertical-align: middle;\n    }\n\n    .dataframe tbody tr th {\n        vertical-align: top;\n    }\n\n    .dataframe thead th {\n        text-align: right;\n    }\n</style>\n<table border=\"1\" class=\"dataframe\">\n  <thead>\n    <tr style=\"text-align: right;\">\n      <th></th>\n      <th>num_bdi_actions</th>\n      <th>num_rl_actions</th>\n      <th>plan_found</th>\n      <th>variation</th>\n      <th>error</th>\n      <th>bdi_score</th>\n      <th>rl_score</th>\n      <th>final_score</th>\n      <th>complete</th>\n      <th>num_plans</th>\n      <th>plan_library_size</th>\n      <th>plans_pct</th>\n      <th>eps</th>\n      <th>drrn_model_file</th>\n      <th>nli_model</th>\n      <th>task</th>\n      <th>num_total_plans</th>\n      <th>num_common_plans</th>\n      <th>num_specific_plans</th>\n    </tr>\n  </thead>\n  <tbody>\n    <tr>\n      <th>0</th>\n      <td>0</td>\n      <td>50</td>\n      <td>0</td>\n      <td>21</td>\n      <td>True</td>\n      <td>0.0</td>\n      <td>0.03</td>\n      <td>0.03</td>\n      <td>False</td>\n      <td>0</td>\n      <td>24</td>\n      <td>100</td>\n      <td>457</td>\n      <td>models/model_task1melt/model-steps56000-eps457.pt</td>\n      <td>gchhablani/bert-base-cased-finetuned-mnli</td>\n      <td>melt</td>\n      <td>193</td>\n      <td>180</td>\n      <td>13</td>\n    </tr>\n    <tr>\n      <th>1</th>\n      <td>5</td>\n      <td>50</td>\n      <td>1</td>\n      <td>22</td>\n      <td>True</td>\n      <td>0.0</td>\n      <td>0.05</td>\n      <td>0.05</td>\n      <td>False</td>\n      <td>2</td>\n      <td>24</td>\n      <td>100</td>\n      <td>457</td>\n      <td>models/model_task1melt/model-steps56000-eps457.pt</td>\n      <td>gchhablani/bert-base-cased-finetuned-mnli</td>\n      <td>melt</td>\n      <td>193</td>\n      <td>180</td>\n      <td>13</td>\n    </tr>\n    <tr>\n      <th>2</th>\n      <td>3</td>\n      <td>50</td>\n      <td>1</td>\n      <td>23</td>\n      <td>True</td>\n      <td>0.0</td>\n      <td>0.05</td>\n      <td>0.05</td>\n      <td>False</td>\n      <td>2</td>\n      <td>24</td>\n      <td>100</td>\n      <td>457</td>\n      <td>models/model_task1melt/model-steps56000-eps457.pt</td>\n      <td>gchhablani/bert-base-cased-finetuned-mnli</td>\n      <td>melt</td>\n      <td>193</td>\n      <td>180</td>\n      <td>13</td>\n    </tr>\n    <tr>\n      <th>3</th>\n      <td>5</td>\n      <td>50</td>\n      <td>1</td>\n      <td>24</td>\n      <td>True</td>\n      <td>0.0</td>\n      <td>0.05</td>\n      <td>0.05</td>\n      <td>False</td>\n      <td>3</td>\n      <td>24</td>\n      <td>100</td>\n      <td>457</td>\n      <td>models/model_task1melt/model-steps56000-eps457.pt</td>\n      <td>gchhablani/bert-base-cased-finetuned-mnli</td>\n      <td>melt</td>\n      <td>193</td>\n      <td>180</td>\n      <td>13</td>\n    </tr>\n    <tr>\n      <th>4</th>\n      <td>2</td>\n      <td>50</td>\n      <td>1</td>\n      <td>25</td>\n      <td>True</td>\n      <td>0.0</td>\n      <td>0.03</td>\n      <td>0.03</td>\n      <td>False</td>\n      <td>2</td>\n      <td>24</td>\n      <td>100</td>\n      <td>457</td>\n      <td>models/model_task1melt/model-steps56000-eps457.pt</td>\n      <td>gchhablani/bert-base-cased-finetuned-mnli</td>\n      <td>melt</td>\n      <td>193</td>\n      <td>180</td>\n      <td>13</td>\n    </tr>\n    <tr>\n      <th>...</th>\n      <td>...</td>\n      <td>...</td>\n      <td>...</td>\n      <td>...</td>\n      <td>...</td>\n      <td>...</td>\n      <td>...</td>\n      <td>...</td>\n      <td>...</td>\n      <td>...</td>\n      <td>...</td>\n      <td>...</td>\n      <td>...</td>\n      <td>...</td>\n      <td>...</td>\n      <td>...</td>\n      <td>...</td>\n      <td>...</td>\n      <td>...</td>\n    </tr>\n    <tr>\n      <th>247</th>\n      <td>9</td>\n      <td>0</td>\n      <td>1</td>\n      <td>295</td>\n      <td>False</td>\n      <td>1.0</td>\n      <td>0.00</td>\n      <td>1.00</td>\n      <td>True</td>\n      <td>3</td>\n      <td>41</td>\n      <td>100</td>\n      <td>242</td>\n      <td>models/models_task13/model-steps32000-eps242.pt</td>\n      <td>ynie/roberta-large-snli_mnli_fever_anli_R1_R2_...</td>\n      <td>find-non-living-thing</td>\n      <td>210</td>\n      <td>180</td>\n      <td>30</td>\n    </tr>\n    <tr>\n      <th>248</th>\n      <td>11</td>\n      <td>0</td>\n      <td>1</td>\n      <td>296</td>\n      <td>False</td>\n      <td>1.0</td>\n      <td>0.00</td>\n      <td>1.00</td>\n      <td>True</td>\n      <td>3</td>\n      <td>41</td>\n      <td>100</td>\n      <td>242</td>\n      <td>models/models_task13/model-steps32000-eps242.pt</td>\n      <td>ynie/roberta-large-snli_mnli_fever_anli_R1_R2_...</td>\n      <td>find-non-living-thing</td>\n      <td>210</td>\n      <td>180</td>\n      <td>30</td>\n    </tr>\n    <tr>\n      <th>249</th>\n      <td>11</td>\n      <td>0</td>\n      <td>1</td>\n      <td>297</td>\n      <td>False</td>\n      <td>1.0</td>\n      <td>0.00</td>\n      <td>1.00</td>\n      <td>True</td>\n      <td>3</td>\n      <td>41</td>\n      <td>100</td>\n      <td>242</td>\n      <td>models/models_task13/model-steps32000-eps242.pt</td>\n      <td>ynie/roberta-large-snli_mnli_fever_anli_R1_R2_...</td>\n      <td>find-non-living-thing</td>\n      <td>210</td>\n      <td>180</td>\n      <td>30</td>\n    </tr>\n    <tr>\n      <th>250</th>\n      <td>11</td>\n      <td>0</td>\n      <td>1</td>\n      <td>298</td>\n      <td>False</td>\n      <td>1.0</td>\n      <td>0.00</td>\n      <td>1.00</td>\n      <td>True</td>\n      <td>3</td>\n      <td>41</td>\n      <td>100</td>\n      <td>242</td>\n      <td>models/models_task13/model-steps32000-eps242.pt</td>\n      <td>ynie/roberta-large-snli_mnli_fever_anli_R1_R2_...</td>\n      <td>find-non-living-thing</td>\n      <td>210</td>\n      <td>180</td>\n      <td>30</td>\n    </tr>\n    <tr>\n      <th>251</th>\n      <td>11</td>\n      <td>0</td>\n      <td>1</td>\n      <td>299</td>\n      <td>False</td>\n      <td>1.0</td>\n      <td>0.00</td>\n      <td>1.00</td>\n      <td>True</td>\n      <td>3</td>\n      <td>41</td>\n      <td>100</td>\n      <td>242</td>\n      <td>models/models_task13/model-steps32000-eps242.pt</td>\n      <td>ynie/roberta-large-snli_mnli_fever_anli_R1_R2_...</td>\n      <td>find-non-living-thing</td>\n      <td>210</td>\n      <td>180</td>\n      <td>30</td>\n    </tr>\n  </tbody>\n</table>\n<p>252 rows × 19 columns</p>\n</div>"
     },
     "execution_count": 50,
     "metadata": {},
     "output_type": "execute_result"
    }
   ],
   "source": [
    "import pandas as pd\n",
    "\n",
    "\n",
    "plan_statistics = pd.read_csv(\"plan_statistics.csv\")\n",
    "\n",
    "dirs = [\"../results/v2-gchhablani-bert-base-cased-finetuned-mnli/\", \"../results/v2-MoritzLaurer-MiniLM-L6-mnli/\", \"../results/v2-ynie-roberta-large-snli_mnli_fever_anli_R1_R2_R3-nli/\"]\n",
    "#dirs = [\"../results/v2-minilm/\"]\n",
    "tasks = ['melt', 'find-non-living-thing']\n",
    "print(tasks)\n",
    "#files_overall = \"results_melt.csv\"\n",
    "#files_nli = \"results_nli_melt.csv\"\n",
    "\n",
    "all_overall_dfs = []\n",
    "all_nli_dfs = []\n",
    "for dir in dirs:\n",
    "    for task in tasks:\n",
    "        results_df = pd.read_csv(dir+f\"results_{task}.csv\")\n",
    "        results_df['task'] = task\n",
    "        all_overall_dfs.append(results_df)\n",
    "\n",
    "        nli_results_df = pd.read_csv(dir+f\"results_nli_{task}.csv\")\n",
    "        nli_results_df['task'] = task\n",
    "        all_nli_dfs.append(nli_results_df)\n",
    "\n",
    "overall_results_df = pd.concat(all_overall_dfs)\n",
    "overall_results_df = preprocess_df(overall_results_df)\n",
    "overall_results_df = pd.merge(overall_results_df, plan_statistics, on=['plans_pct', 'task'])\n",
    "overall_results_df"
   ]
  },
  {
   "cell_type": "code",
   "execution_count": 51,
   "outputs": [
    {
     "data": {
      "text/plain": "                    task  plans_pct  eps  num_specific_plans  \\\n2  find-non-living-thing        100  242                  30   \n1  find-non-living-thing        100  242                  30   \n0  find-non-living-thing        100  242                  30   \n5                   melt        100  457                  13   \n4                   melt        100  457                  13   \n3                   melt        100  457                  13   \n\n                                           nli_model  variation  final_score  \\\n2  ynie/roberta-large-snli_mnli_fever_anli_R1_R2_...         75     0.980000   \n1          gchhablani/bert-base-cased-finetuned-mnli         75     0.937200   \n0                        MoritzLaurer/MiniLM-L6-mnli         75     0.885333   \n5  ynie/roberta-large-snli_mnli_fever_anli_R1_R2_...          9     0.676667   \n4          gchhablani/bert-base-cased-finetuned-mnli          9     0.362222   \n3                        MoritzLaurer/MiniLM-L6-mnli          9     0.262222   \n\n   rl_score  bdi_score  num_bdi_actions  num_rl_actions     error  num_plans  \n2  0.000000   0.980000         9.186667        4.000000  0.080000   2.840000  \n1  0.094400   0.842800         9.613333       10.000000  0.200000   2.720000  \n0  0.196000   0.689333         7.653333       18.666667  0.373333   2.573333  \n5  0.003333   0.673333        20.888889       16.666667  0.333333   5.666667  \n4  0.028889   0.333333        11.444444       33.333333  0.666667   3.555556  \n3  0.028889   0.233333         8.777778       50.000000  1.000000   3.555556  ",
      "text/html": "<div>\n<style scoped>\n    .dataframe tbody tr th:only-of-type {\n        vertical-align: middle;\n    }\n\n    .dataframe tbody tr th {\n        vertical-align: top;\n    }\n\n    .dataframe thead th {\n        text-align: right;\n    }\n</style>\n<table border=\"1\" class=\"dataframe\">\n  <thead>\n    <tr style=\"text-align: right;\">\n      <th></th>\n      <th>task</th>\n      <th>plans_pct</th>\n      <th>eps</th>\n      <th>num_specific_plans</th>\n      <th>nli_model</th>\n      <th>variation</th>\n      <th>final_score</th>\n      <th>rl_score</th>\n      <th>bdi_score</th>\n      <th>num_bdi_actions</th>\n      <th>num_rl_actions</th>\n      <th>error</th>\n      <th>num_plans</th>\n    </tr>\n  </thead>\n  <tbody>\n    <tr>\n      <th>2</th>\n      <td>find-non-living-thing</td>\n      <td>100</td>\n      <td>242</td>\n      <td>30</td>\n      <td>ynie/roberta-large-snli_mnli_fever_anli_R1_R2_...</td>\n      <td>75</td>\n      <td>0.980000</td>\n      <td>0.000000</td>\n      <td>0.980000</td>\n      <td>9.186667</td>\n      <td>4.000000</td>\n      <td>0.080000</td>\n      <td>2.840000</td>\n    </tr>\n    <tr>\n      <th>1</th>\n      <td>find-non-living-thing</td>\n      <td>100</td>\n      <td>242</td>\n      <td>30</td>\n      <td>gchhablani/bert-base-cased-finetuned-mnli</td>\n      <td>75</td>\n      <td>0.937200</td>\n      <td>0.094400</td>\n      <td>0.842800</td>\n      <td>9.613333</td>\n      <td>10.000000</td>\n      <td>0.200000</td>\n      <td>2.720000</td>\n    </tr>\n    <tr>\n      <th>0</th>\n      <td>find-non-living-thing</td>\n      <td>100</td>\n      <td>242</td>\n      <td>30</td>\n      <td>MoritzLaurer/MiniLM-L6-mnli</td>\n      <td>75</td>\n      <td>0.885333</td>\n      <td>0.196000</td>\n      <td>0.689333</td>\n      <td>7.653333</td>\n      <td>18.666667</td>\n      <td>0.373333</td>\n      <td>2.573333</td>\n    </tr>\n    <tr>\n      <th>5</th>\n      <td>melt</td>\n      <td>100</td>\n      <td>457</td>\n      <td>13</td>\n      <td>ynie/roberta-large-snli_mnli_fever_anli_R1_R2_...</td>\n      <td>9</td>\n      <td>0.676667</td>\n      <td>0.003333</td>\n      <td>0.673333</td>\n      <td>20.888889</td>\n      <td>16.666667</td>\n      <td>0.333333</td>\n      <td>5.666667</td>\n    </tr>\n    <tr>\n      <th>4</th>\n      <td>melt</td>\n      <td>100</td>\n      <td>457</td>\n      <td>13</td>\n      <td>gchhablani/bert-base-cased-finetuned-mnli</td>\n      <td>9</td>\n      <td>0.362222</td>\n      <td>0.028889</td>\n      <td>0.333333</td>\n      <td>11.444444</td>\n      <td>33.333333</td>\n      <td>0.666667</td>\n      <td>3.555556</td>\n    </tr>\n    <tr>\n      <th>3</th>\n      <td>melt</td>\n      <td>100</td>\n      <td>457</td>\n      <td>13</td>\n      <td>MoritzLaurer/MiniLM-L6-mnli</td>\n      <td>9</td>\n      <td>0.262222</td>\n      <td>0.028889</td>\n      <td>0.233333</td>\n      <td>8.777778</td>\n      <td>50.000000</td>\n      <td>1.000000</td>\n      <td>3.555556</td>\n    </tr>\n  </tbody>\n</table>\n</div>"
     },
     "execution_count": 51,
     "metadata": {},
     "output_type": "execute_result"
    }
   ],
   "source": [
    "projected_cols = ['task', 'plans_pct', 'eps', 'num_specific_plans', 'nli_model']\n",
    "aggregations = {'variation': 'count', 'final_score': 'mean', 'rl_score': 'mean', 'bdi_score': 'mean',\n",
    "                'num_bdi_actions': 'mean', 'num_rl_actions': 'mean', 'error': 'mean', 'num_plans': 'mean'}\n",
    "\n",
    "grouped_df = overall_results_df.groupby(projected_cols).agg(aggregations).reset_index()\n",
    "grouped_df['dense_rank'] = (\n",
    "    grouped_df.groupby(['plans_pct', 'task', \"nli_model\"])['final_score'].rank(method='dense', ascending=False).astype(int))\n",
    "\n",
    "#grouped_df = grouped_df.sort_values(['plans_pct', 'dense_rank'], ascending=[True, True]).reset_index()\n",
    "grouped_df = grouped_df[(grouped_df['dense_rank'] == 1)].sort_values([\"task\", \"num_specific_plans\", \"nli_model\"])\n",
    "# avoiding tied rows\n",
    "grouped_df.drop(columns=['dense_rank']).sort_values(by=['final_score', 'nli_model'], ascending=[False, False])"
   ],
   "metadata": {
    "collapsed": false,
    "ExecuteTime": {
     "start_time": "2023-10-07T09:22:11.982917Z",
     "end_time": "2023-10-07T09:22:12.017491Z"
    }
   }
  },
  {
   "cell_type": "code",
   "execution_count": 52,
   "outputs": [
    {
     "data": {
      "text/plain": "                    task                                          nli_model  \\\n0  find-non-living-thing                        MoritzLaurer/MiniLM-L6-mnli   \n1  find-non-living-thing          gchhablani/bert-base-cased-finetuned-mnli   \n2  find-non-living-thing  ynie/roberta-large-snli_mnli_fever_anli_R1_R2_...   \n3                   melt                        MoritzLaurer/MiniLM-L6-mnli   \n4                   melt          gchhablani/bert-base-cased-finetuned-mnli   \n5                   melt  ynie/roberta-large-snli_mnli_fever_anli_R1_R2_...   \n\n   final_score  bdi_score  num_bdi_actions     error  num_plans  \n0     0.885333   0.689333         7.653333  0.373333   2.573333  \n1     0.937200   0.842800         9.613333  0.200000   2.720000  \n2     0.980000   0.980000         9.186667  0.080000   2.840000  \n3     0.262222   0.233333         8.777778  1.000000   3.555556  \n4     0.362222   0.333333        11.444444  0.666667   3.555556  \n5     0.676667   0.673333        20.888889  0.333333   5.666667  ",
      "text/html": "<div>\n<style scoped>\n    .dataframe tbody tr th:only-of-type {\n        vertical-align: middle;\n    }\n\n    .dataframe tbody tr th {\n        vertical-align: top;\n    }\n\n    .dataframe thead th {\n        text-align: right;\n    }\n</style>\n<table border=\"1\" class=\"dataframe\">\n  <thead>\n    <tr style=\"text-align: right;\">\n      <th></th>\n      <th>task</th>\n      <th>nli_model</th>\n      <th>final_score</th>\n      <th>bdi_score</th>\n      <th>num_bdi_actions</th>\n      <th>error</th>\n      <th>num_plans</th>\n    </tr>\n  </thead>\n  <tbody>\n    <tr>\n      <th>0</th>\n      <td>find-non-living-thing</td>\n      <td>MoritzLaurer/MiniLM-L6-mnli</td>\n      <td>0.885333</td>\n      <td>0.689333</td>\n      <td>7.653333</td>\n      <td>0.373333</td>\n      <td>2.573333</td>\n    </tr>\n    <tr>\n      <th>1</th>\n      <td>find-non-living-thing</td>\n      <td>gchhablani/bert-base-cased-finetuned-mnli</td>\n      <td>0.937200</td>\n      <td>0.842800</td>\n      <td>9.613333</td>\n      <td>0.200000</td>\n      <td>2.720000</td>\n    </tr>\n    <tr>\n      <th>2</th>\n      <td>find-non-living-thing</td>\n      <td>ynie/roberta-large-snli_mnli_fever_anli_R1_R2_...</td>\n      <td>0.980000</td>\n      <td>0.980000</td>\n      <td>9.186667</td>\n      <td>0.080000</td>\n      <td>2.840000</td>\n    </tr>\n    <tr>\n      <th>3</th>\n      <td>melt</td>\n      <td>MoritzLaurer/MiniLM-L6-mnli</td>\n      <td>0.262222</td>\n      <td>0.233333</td>\n      <td>8.777778</td>\n      <td>1.000000</td>\n      <td>3.555556</td>\n    </tr>\n    <tr>\n      <th>4</th>\n      <td>melt</td>\n      <td>gchhablani/bert-base-cased-finetuned-mnli</td>\n      <td>0.362222</td>\n      <td>0.333333</td>\n      <td>11.444444</td>\n      <td>0.666667</td>\n      <td>3.555556</td>\n    </tr>\n    <tr>\n      <th>5</th>\n      <td>melt</td>\n      <td>ynie/roberta-large-snli_mnli_fever_anli_R1_R2_...</td>\n      <td>0.676667</td>\n      <td>0.673333</td>\n      <td>20.888889</td>\n      <td>0.333333</td>\n      <td>5.666667</td>\n    </tr>\n  </tbody>\n</table>\n</div>"
     },
     "execution_count": 52,
     "metadata": {},
     "output_type": "execute_result"
    }
   ],
   "source": [
    "write_df = grouped_df.loc[:, ['task', 'nli_model', 'final_score', 'bdi_score', 'num_bdi_actions', 'error', 'num_plans']]\n",
    "write_df"
   ],
   "metadata": {
    "collapsed": false,
    "ExecuteTime": {
     "start_time": "2023-10-07T09:22:12.680777Z",
     "end_time": "2023-10-07T09:22:12.695222Z"
    }
   }
  },
  {
   "cell_type": "code",
   "execution_count": 20,
   "outputs": [
    {
     "data": {
      "text/plain": "({'hallway'}, 1)"
     },
     "execution_count": 20,
     "metadata": {},
     "output_type": "execute_result"
    }
   ],
   "source": [
    "sentence_a = \"In your inventory, you see: an orange\"\n",
    "sentence_b = \"you are in the hallway\"\n",
    "sentence_c = \"you are in the bathroom\"\n",
    "\n",
    "words_doc1 = set(sentence_b.split())\n",
    "words_doc2 = set(sentence_c.split())\n",
    "\n",
    "\n",
    "\n",
    "def lexical_overlap(a, b):\n",
    "    words_doc1 = set(a.split())\n",
    "    words_doc2 = set(b.split())\n",
    "\n",
    "    diff = words_doc1.difference(words_doc2)\n",
    "    return len(diff)\n",
    "\n",
    "dff = words_doc1.difference(words_doc2)\n",
    "dff, len(dff)"
   ],
   "metadata": {
    "collapsed": false,
    "ExecuteTime": {
     "start_time": "2023-10-06T21:31:47.813415Z",
     "end_time": "2023-10-06T21:31:47.860778Z"
    }
   }
  },
  {
   "cell_type": "code",
   "execution_count": 8,
   "outputs": [],
   "source": [
    "# https://seaborn.pydata.org/examples/grouped_barplot.html\n",
    "\n",
    "# load nli csv\n",
    "# compute lexical overlap (see code below)\n",
    "# mean of each nli using a https://seaborn.pydata.org/examples/grouped_barplot.html to show quantities\n",
    "\n",
    "\n",
    "#"
   ],
   "metadata": {
    "collapsed": false,
    "ExecuteTime": {
     "start_time": "2023-10-06T08:21:38.258966Z",
     "end_time": "2023-10-06T08:21:38.362714Z"
    }
   }
  },
  {
   "cell_type": "code",
   "execution_count": 53,
   "outputs": [
    {
     "name": "stdout",
     "output_type": "stream",
     "text": [
      "5397\n"
     ]
    },
    {
     "data": {
      "text/plain": "                                                   p                   h  \\\n0             In your inventory, you see: an orange   you are in hallway   \n1               This room is called the living room.  you are in hallway   \n2                                  You see the agent  you are in hallway   \n3                     You see a substance called air  you are in hallway   \n4  You see a book shelf (containing A book (Frank...  you are in hallway   \n\n   output                                      model  task  \n0       2  gchhablani/bert-base-cased-finetuned-mnli  melt  \n1       2  gchhablani/bert-base-cased-finetuned-mnli  melt  \n2       2  gchhablani/bert-base-cased-finetuned-mnli  melt  \n3       2  gchhablani/bert-base-cased-finetuned-mnli  melt  \n4       2  gchhablani/bert-base-cased-finetuned-mnli  melt  ",
      "text/html": "<div>\n<style scoped>\n    .dataframe tbody tr th:only-of-type {\n        vertical-align: middle;\n    }\n\n    .dataframe tbody tr th {\n        vertical-align: top;\n    }\n\n    .dataframe thead th {\n        text-align: right;\n    }\n</style>\n<table border=\"1\" class=\"dataframe\">\n  <thead>\n    <tr style=\"text-align: right;\">\n      <th></th>\n      <th>p</th>\n      <th>h</th>\n      <th>output</th>\n      <th>model</th>\n      <th>task</th>\n    </tr>\n  </thead>\n  <tbody>\n    <tr>\n      <th>0</th>\n      <td>In your inventory, you see: an orange</td>\n      <td>you are in hallway</td>\n      <td>2</td>\n      <td>gchhablani/bert-base-cased-finetuned-mnli</td>\n      <td>melt</td>\n    </tr>\n    <tr>\n      <th>1</th>\n      <td>This room is called the living room.</td>\n      <td>you are in hallway</td>\n      <td>2</td>\n      <td>gchhablani/bert-base-cased-finetuned-mnli</td>\n      <td>melt</td>\n    </tr>\n    <tr>\n      <th>2</th>\n      <td>You see the agent</td>\n      <td>you are in hallway</td>\n      <td>2</td>\n      <td>gchhablani/bert-base-cased-finetuned-mnli</td>\n      <td>melt</td>\n    </tr>\n    <tr>\n      <th>3</th>\n      <td>You see a substance called air</td>\n      <td>you are in hallway</td>\n      <td>2</td>\n      <td>gchhablani/bert-base-cased-finetuned-mnli</td>\n      <td>melt</td>\n    </tr>\n    <tr>\n      <th>4</th>\n      <td>You see a book shelf (containing A book (Frank...</td>\n      <td>you are in hallway</td>\n      <td>2</td>\n      <td>gchhablani/bert-base-cased-finetuned-mnli</td>\n      <td>melt</td>\n    </tr>\n  </tbody>\n</table>\n</div>"
     },
     "execution_count": 53,
     "metadata": {},
     "output_type": "execute_result"
    }
   ],
   "source": [
    "nli_results_df = pd.concat(all_nli_dfs)\n",
    "print(len(nli_results_df))\n",
    "nli_results_df.head()"
   ],
   "metadata": {
    "collapsed": false,
    "ExecuteTime": {
     "start_time": "2023-10-07T09:23:10.291298Z",
     "end_time": "2023-10-07T09:23:10.318405Z"
    }
   }
  },
  {
   "cell_type": "code",
   "execution_count": 54,
   "outputs": [
    {
     "name": "stdout",
     "output_type": "stream",
     "text": [
      "MoritzLaurer/MiniLM-L6-mnli\n",
      "gchhablani/bert-base-cased-finetuned-mnli\n",
      "ynie/roberta-large-snli_mnli_fever_anli_R1_R2_R3-nli\n"
     ]
    },
    {
     "data": {
      "text/plain": "                                                   p                   h  \\\n0             In your inventory, you see: an orange   you are in hallway   \n1               This room is called the living room.  you are in hallway   \n2                                  You see the agent  you are in hallway   \n3                     You see a substance called air  you are in hallway   \n4  You see a book shelf (containing A book (Frank...  you are in hallway   \n\n   output                        model  task      inference  lexical_overlap  \\\n0       2  MoritzLaurer/MiniLM-L6-mnli  melt  contradiction                6   \n1       2  MoritzLaurer/MiniLM-L6-mnli  melt  contradiction                7   \n2       1  MoritzLaurer/MiniLM-L6-mnli  melt        neutral                4   \n3       2  MoritzLaurer/MiniLM-L6-mnli  melt  contradiction                6   \n4       2  MoritzLaurer/MiniLM-L6-mnli  melt  contradiction               14   \n\n   length_p  length_h  \n0         7         4  \n1         7         4  \n2         4         4  \n3         6         4  \n4        15         4  ",
      "text/html": "<div>\n<style scoped>\n    .dataframe tbody tr th:only-of-type {\n        vertical-align: middle;\n    }\n\n    .dataframe tbody tr th {\n        vertical-align: top;\n    }\n\n    .dataframe thead th {\n        text-align: right;\n    }\n</style>\n<table border=\"1\" class=\"dataframe\">\n  <thead>\n    <tr style=\"text-align: right;\">\n      <th></th>\n      <th>p</th>\n      <th>h</th>\n      <th>output</th>\n      <th>model</th>\n      <th>task</th>\n      <th>inference</th>\n      <th>lexical_overlap</th>\n      <th>length_p</th>\n      <th>length_h</th>\n    </tr>\n  </thead>\n  <tbody>\n    <tr>\n      <th>0</th>\n      <td>In your inventory, you see: an orange</td>\n      <td>you are in hallway</td>\n      <td>2</td>\n      <td>MoritzLaurer/MiniLM-L6-mnli</td>\n      <td>melt</td>\n      <td>contradiction</td>\n      <td>6</td>\n      <td>7</td>\n      <td>4</td>\n    </tr>\n    <tr>\n      <th>1</th>\n      <td>This room is called the living room.</td>\n      <td>you are in hallway</td>\n      <td>2</td>\n      <td>MoritzLaurer/MiniLM-L6-mnli</td>\n      <td>melt</td>\n      <td>contradiction</td>\n      <td>7</td>\n      <td>7</td>\n      <td>4</td>\n    </tr>\n    <tr>\n      <th>2</th>\n      <td>You see the agent</td>\n      <td>you are in hallway</td>\n      <td>1</td>\n      <td>MoritzLaurer/MiniLM-L6-mnli</td>\n      <td>melt</td>\n      <td>neutral</td>\n      <td>4</td>\n      <td>4</td>\n      <td>4</td>\n    </tr>\n    <tr>\n      <th>3</th>\n      <td>You see a substance called air</td>\n      <td>you are in hallway</td>\n      <td>2</td>\n      <td>MoritzLaurer/MiniLM-L6-mnli</td>\n      <td>melt</td>\n      <td>contradiction</td>\n      <td>6</td>\n      <td>6</td>\n      <td>4</td>\n    </tr>\n    <tr>\n      <th>4</th>\n      <td>You see a book shelf (containing A book (Frank...</td>\n      <td>you are in hallway</td>\n      <td>2</td>\n      <td>MoritzLaurer/MiniLM-L6-mnli</td>\n      <td>melt</td>\n      <td>contradiction</td>\n      <td>14</td>\n      <td>15</td>\n      <td>4</td>\n    </tr>\n  </tbody>\n</table>\n</div>"
     },
     "execution_count": 54,
     "metadata": {},
     "output_type": "execute_result"
    }
   ],
   "source": [
    "from transformers import AutoTokenizer, AutoModelForSequenceClassification, AutoConfig\n",
    "\n",
    "all_groups_df = []\n",
    "for model, group_df in nli_results_df.groupby(\"model\"):\n",
    "    print(model)\n",
    "    config = AutoConfig.from_pretrained(model)\n",
    "    #print(config.label2id)\n",
    "    #print(config.id2label)\n",
    "    group_df['inference'] = group_df['output'].apply(lambda id: config.id2label[id].lower())\n",
    "    all_groups_df.append(group_df)\n",
    "\n",
    "filtered_nli_df = pd.concat(all_groups_df)\n",
    "#filtered_nli_df['levenshtein_distance'] = filtered_nli_df.apply(lambda row: levenshtein_distance(row['p'], row['h']), axis=1)\n",
    "filtered_nli_df['lexical_overlap'] = filtered_nli_df.apply(lambda row: lexical_overlap(row['p'], row['h']), axis=1)\n",
    "filtered_nli_df['length_p'] = filtered_nli_df['p'].apply(lambda p: len(p.split()))\n",
    "filtered_nli_df['length_h'] = filtered_nli_df['h'].apply(lambda h: len(h.split()))\n",
    "\n",
    "filtered_nli_df.head()"
   ],
   "metadata": {
    "collapsed": false,
    "ExecuteTime": {
     "start_time": "2023-10-07T09:41:22.848480Z",
     "end_time": "2023-10-07T09:41:23.788429Z"
    }
   }
  },
  {
   "cell_type": "code",
   "execution_count": 56,
   "outputs": [
    {
     "data": {
      "text/plain": "                                               model  num_entailment  \\\n0                        MoritzLaurer/MiniLM-L6-mnli              25   \n1                        MoritzLaurer/MiniLM-L6-mnli              23   \n2          gchhablani/bert-base-cased-finetuned-mnli              25   \n3          gchhablani/bert-base-cased-finetuned-mnli              25   \n4  ynie/roberta-large-snli_mnli_fever_anli_R1_R2_...              54   \n\n   num_nonentailment  mean_entailment_lexical_overlap    mean_h     mean_p  \\\n0               1051                         6.960000  4.200000   7.840000   \n1                668                         8.913043  4.826087  10.956522   \n2               1050                         7.560000  4.160000   8.400000   \n3                665                         9.280000  4.800000  11.120000   \n4               1021                         8.962963  4.074074  10.000000   \n\n                    task  \n0  find-non-living-thing  \n1                   melt  \n2  find-non-living-thing  \n3                   melt  \n4  find-non-living-thing  ",
      "text/html": "<div>\n<style scoped>\n    .dataframe tbody tr th:only-of-type {\n        vertical-align: middle;\n    }\n\n    .dataframe tbody tr th {\n        vertical-align: top;\n    }\n\n    .dataframe thead th {\n        text-align: right;\n    }\n</style>\n<table border=\"1\" class=\"dataframe\">\n  <thead>\n    <tr style=\"text-align: right;\">\n      <th></th>\n      <th>model</th>\n      <th>num_entailment</th>\n      <th>num_nonentailment</th>\n      <th>mean_entailment_lexical_overlap</th>\n      <th>mean_h</th>\n      <th>mean_p</th>\n      <th>task</th>\n    </tr>\n  </thead>\n  <tbody>\n    <tr>\n      <th>0</th>\n      <td>MoritzLaurer/MiniLM-L6-mnli</td>\n      <td>25</td>\n      <td>1051</td>\n      <td>6.960000</td>\n      <td>4.200000</td>\n      <td>7.840000</td>\n      <td>find-non-living-thing</td>\n    </tr>\n    <tr>\n      <th>1</th>\n      <td>MoritzLaurer/MiniLM-L6-mnli</td>\n      <td>23</td>\n      <td>668</td>\n      <td>8.913043</td>\n      <td>4.826087</td>\n      <td>10.956522</td>\n      <td>melt</td>\n    </tr>\n    <tr>\n      <th>2</th>\n      <td>gchhablani/bert-base-cased-finetuned-mnli</td>\n      <td>25</td>\n      <td>1050</td>\n      <td>7.560000</td>\n      <td>4.160000</td>\n      <td>8.400000</td>\n      <td>find-non-living-thing</td>\n    </tr>\n    <tr>\n      <th>3</th>\n      <td>gchhablani/bert-base-cased-finetuned-mnli</td>\n      <td>25</td>\n      <td>665</td>\n      <td>9.280000</td>\n      <td>4.800000</td>\n      <td>11.120000</td>\n      <td>melt</td>\n    </tr>\n    <tr>\n      <th>4</th>\n      <td>ynie/roberta-large-snli_mnli_fever_anli_R1_R2_...</td>\n      <td>54</td>\n      <td>1021</td>\n      <td>8.962963</td>\n      <td>4.074074</td>\n      <td>10.000000</td>\n      <td>find-non-living-thing</td>\n    </tr>\n  </tbody>\n</table>\n</div>"
     },
     "execution_count": 56,
     "metadata": {},
     "output_type": "execute_result"
    }
   ],
   "source": [
    "all_statistics = []\n",
    "for (model, task), group_df in filtered_nli_df.groupby([\"model\", \"task\"]):\n",
    "    all_statistics.append({\n",
    "        'model': model,\n",
    "        'num_entailment': len(group_df[group_df['inference'] == 'entailment']),\n",
    "        #'num_neutral': len(group_df[group_df['inference'] == 'neutral']),\n",
    "        #'num_contradiction': len(group_df[group_df['inference'] == 'contradiction']),\n",
    "        'num_nonentailment': len(group_df[group_df['inference'] == 'neutral']) + len(group_df[group_df['inference'] == 'contradiction']),\n",
    "        #'num_inferences': len(group_df),\n",
    "        'mean_entailment_lexical_overlap': group_df[group_df['inference'] == 'entailment']['lexical_overlap'].mean(),\n",
    "        'mean_h': group_df[group_df['inference'] == 'entailment']['length_h'].mean(),\n",
    "        'mean_p': group_df[group_df['inference'] == 'entailment']['length_p'].mean(),\n",
    "        \"task\": task\n",
    "    })\n",
    "\n",
    "statistics_df = pd.DataFrame(all_statistics)\n",
    "#full_models_df = pd.merge(statistics_df, on='model', how='inner')\n",
    "full_models_df = statistics_df\n",
    "full_models_df.head()"
   ],
   "metadata": {
    "collapsed": false,
    "ExecuteTime": {
     "start_time": "2023-10-07T09:42:16.255732Z",
     "end_time": "2023-10-07T09:42:16.311872Z"
    }
   }
  },
  {
   "cell_type": "code",
   "execution_count": null,
   "outputs": [],
   "source": [
    "\"\"\"\n",
    "We compute the lexical overlap to measure the inference difficult between the belief base and plan context that we manually developed in order to evaluate our approach.\n",
    "Specifically, given a sentence pair consisting in a belief and a context, we calculate the number of words contained in beliefs that are absent in plan context.\n",
    "In cases where lexical overlap is high between the premise and hypothesis, the inference tends to easily infer entailment relation since both sentences are similar and may express the same idea.\n",
    "Hence, in such cases, sophisticated language models exploit shallow syntatic heuristics to infer logical entailment between sentences.\n",
    "\n",
    "Note that most beliefs contain more words than the plan context, which illustrates the\n",
    "\"\"\""
   ],
   "metadata": {
    "collapsed": false
   }
  },
  {
   "cell_type": "code",
   "execution_count": 34,
   "outputs": [],
   "source": [
    "full_models_df.rename(columns={\n",
    "    'model': \"Model\",\n",
    "    'bdi_score': 'BDI Score',\n",
    "    'num_bdi_actions': 'Num BDI actions',\n",
    "    'num_entailment': \"Pairs (E)\",\n",
    "    'num_nonentailment': \"Pairs (NE)\",\n",
    "    'mean_entailment_lexical_overlap': 'LO',\n",
    "    'num_inferences': \"Pairs (Total)\"\n",
    "\n",
    "}, inplace=True)\n",
    "\n",
    "full_models_df.to_csv(\"overall_nli_table.csv\", index=False, float_format='%.2f')"
   ],
   "metadata": {
    "collapsed": false,
    "ExecuteTime": {
     "start_time": "2023-10-06T21:57:46.261395Z",
     "end_time": "2023-10-06T21:57:46.267394Z"
    }
   }
  },
  {
   "cell_type": "code",
   "execution_count": 24,
   "outputs": [],
   "source": [
    "gt_df = filtered_nli_df[filtered_nli_df['model'] == 'roberta-large-mnli'][['p', 'h', 'inference']].sort_values(['h', 'inference'])\n",
    "gt_df.loc[gt_df['inference'] != 'entailment' ,'inference'] = 'non_entailment'\n",
    "gt_df['y'] = 1 # temp\n",
    "gt_df.sort_values(['h', 'inference']).to_csv(\"ground_truth.csv\", index=False)"
   ],
   "metadata": {
    "collapsed": false
   }
  },
  {
   "cell_type": "code",
   "execution_count": 13,
   "outputs": [],
   "source": [
    "# Não vale a pena medir ground thruth, pois minilm não gerou todos planos (falhou antes pois não deu sequência nos subgoals seguintes)\n",
    "\n",
    "# na real vale contar quantos falsos entailment e quantos falsos não entailment"
   ],
   "metadata": {
    "collapsed": false,
    "ExecuteTime": {
     "start_time": "2023-10-06T08:21:39.838846Z",
     "end_time": "2023-10-06T08:21:39.879622Z"
    }
   }
  },
  {
   "cell_type": "code",
   "execution_count": null,
   "outputs": [],
   "source": [],
   "metadata": {
    "collapsed": false
   }
  }
 ],
 "metadata": {
  "kernelspec": {
   "display_name": "Python 3",
   "language": "python",
   "name": "python3"
  },
  "language_info": {
   "codemirror_mode": {
    "name": "ipython",
    "version": 2
   },
   "file_extension": ".py",
   "mimetype": "text/x-python",
   "name": "python",
   "nbconvert_exporter": "python",
   "pygments_lexer": "ipython2",
   "version": "2.7.6"
  }
 },
 "nbformat": 4,
 "nbformat_minor": 0
}
