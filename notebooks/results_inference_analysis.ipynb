{
 "cells": [
  {
   "cell_type": "code",
   "execution_count": 75,
   "outputs": [],
   "source": [
    "import pandas as pd\n",
    "import plotly.graph_objects as go\n",
    "import plotly.express as px\n",
    "import plotly.io as pio\n",
    "from plotly.subplots import make_subplots\n",
    "\n",
    "pio.templates.default = \"simple_white\"\n",
    "\n",
    "from scienceworld import ScienceWorldEnv\n",
    "\n",
    "from Levenshtein import distance as levenshtein_distance\n",
    "\n",
    "from sources.scienceworld import load_step_function, parse_observation\n",
    "from sources.agent import BDIAgent\n",
    "from sources.bdi_components.inference import NLIModel\n",
    "from sources.bdi_components.belief import State\n",
    "\n",
    "import numpy as np\n",
    "from os import listdir\n",
    "from os.path import isfile, join\n",
    "import re\n"
   ],
   "metadata": {
    "collapsed": false,
    "ExecuteTime": {
     "end_time": "2023-10-05T18:00:21.300910859Z",
     "start_time": "2023-10-05T18:00:21.257710723Z"
    }
   }
  },
  {
   "cell_type": "code",
   "execution_count": 35,
   "outputs": [],
   "source": [
    "def preprocess_df(results_df):\n",
    "    results_df.loc[results_df[\"plans_pct\"] == 1, \"plans_pct\"] = 100\n",
    "    results_df.loc[results_df[\"plans_pct\"] == 2, \"plans_pct\"] = 25\n",
    "    results_df.loc[results_df[\"plans_pct\"] == 5, \"plans_pct\"] = 50\n",
    "    results_df.loc[results_df[\"plans_pct\"] == 7, \"plans_pct\"] = 75\n",
    "    results_df['task'] = 'melt'\n",
    "    results_df['rl_score'] = results_df['rl_score'] / 100\n",
    "    results_df['bdi_score'] = results_df['bdi_score'] / 100\n",
    "    results_df['final_score'] = results_df['final_score'] / 100\n",
    "    return results_df"
   ],
   "metadata": {
    "collapsed": false,
    "ExecuteTime": {
     "end_time": "2023-10-05T16:51:21.921352608Z",
     "start_time": "2023-10-05T16:51:21.878756309Z"
    }
   }
  },
  {
   "cell_type": "code",
   "execution_count": 87,
   "metadata": {
    "collapsed": true,
    "ExecuteTime": {
     "end_time": "2023-10-05T19:07:28.456060781Z",
     "start_time": "2023-10-05T19:07:28.394752536Z"
    }
   },
   "outputs": [
    {
     "name": "stdout",
     "output_type": "stream",
     "text": [
      "1359\n"
     ]
    },
    {
     "data": {
      "text/plain": "   num_bdi_actions  num_rl_actions  plan_found  variation  error  bdi_score  \\\n0                0              50           0         21   True        0.0   \n1                0              50           0         22   True        0.0   \n2                0              50           0         23   True        0.0   \n3                0              50           0         24   True        0.0   \n4                0              50           0         25   True        0.0   \n\n   rl_score  final_score  complete  num_plans_x  plan_library_size  plans_pct  \\\n0      0.03         0.03     False            0                 11          0   \n1      0.03         0.03     False            0                 11          0   \n2      0.03         0.03     False            0                 11          0   \n3      0.03         0.03     False            0                 11          0   \n4      0.03         0.03     False            0                 11          0   \n\n   eps                                   drrn_model_file           nli_model  \\\n0  117  models/model_task1melt/model-steps8000-eps117.pt  roberta-large-mnli   \n1  117  models/model_task1melt/model-steps8000-eps117.pt  roberta-large-mnli   \n2  117  models/model_task1melt/model-steps8000-eps117.pt  roberta-large-mnli   \n3  117  models/model_task1melt/model-steps8000-eps117.pt  roberta-large-mnli   \n4  117  models/model_task1melt/model-steps8000-eps117.pt  roberta-large-mnli   \n\n   task  num_plans_y  num_common_plans  num_specific_plans  \n0  melt          180               180                   0  \n1  melt          180               180                   0  \n2  melt          180               180                   0  \n3  melt          180               180                   0  \n4  melt          180               180                   0  ",
      "text/html": "<div>\n<style scoped>\n    .dataframe tbody tr th:only-of-type {\n        vertical-align: middle;\n    }\n\n    .dataframe tbody tr th {\n        vertical-align: top;\n    }\n\n    .dataframe thead th {\n        text-align: right;\n    }\n</style>\n<table border=\"1\" class=\"dataframe\">\n  <thead>\n    <tr style=\"text-align: right;\">\n      <th></th>\n      <th>num_bdi_actions</th>\n      <th>num_rl_actions</th>\n      <th>plan_found</th>\n      <th>variation</th>\n      <th>error</th>\n      <th>bdi_score</th>\n      <th>rl_score</th>\n      <th>final_score</th>\n      <th>complete</th>\n      <th>num_plans_x</th>\n      <th>plan_library_size</th>\n      <th>plans_pct</th>\n      <th>eps</th>\n      <th>drrn_model_file</th>\n      <th>nli_model</th>\n      <th>task</th>\n      <th>num_plans_y</th>\n      <th>num_common_plans</th>\n      <th>num_specific_plans</th>\n    </tr>\n  </thead>\n  <tbody>\n    <tr>\n      <th>0</th>\n      <td>0</td>\n      <td>50</td>\n      <td>0</td>\n      <td>21</td>\n      <td>True</td>\n      <td>0.0</td>\n      <td>0.03</td>\n      <td>0.03</td>\n      <td>False</td>\n      <td>0</td>\n      <td>11</td>\n      <td>0</td>\n      <td>117</td>\n      <td>models/model_task1melt/model-steps8000-eps117.pt</td>\n      <td>roberta-large-mnli</td>\n      <td>melt</td>\n      <td>180</td>\n      <td>180</td>\n      <td>0</td>\n    </tr>\n    <tr>\n      <th>1</th>\n      <td>0</td>\n      <td>50</td>\n      <td>0</td>\n      <td>22</td>\n      <td>True</td>\n      <td>0.0</td>\n      <td>0.03</td>\n      <td>0.03</td>\n      <td>False</td>\n      <td>0</td>\n      <td>11</td>\n      <td>0</td>\n      <td>117</td>\n      <td>models/model_task1melt/model-steps8000-eps117.pt</td>\n      <td>roberta-large-mnli</td>\n      <td>melt</td>\n      <td>180</td>\n      <td>180</td>\n      <td>0</td>\n    </tr>\n    <tr>\n      <th>2</th>\n      <td>0</td>\n      <td>50</td>\n      <td>0</td>\n      <td>23</td>\n      <td>True</td>\n      <td>0.0</td>\n      <td>0.03</td>\n      <td>0.03</td>\n      <td>False</td>\n      <td>0</td>\n      <td>11</td>\n      <td>0</td>\n      <td>117</td>\n      <td>models/model_task1melt/model-steps8000-eps117.pt</td>\n      <td>roberta-large-mnli</td>\n      <td>melt</td>\n      <td>180</td>\n      <td>180</td>\n      <td>0</td>\n    </tr>\n    <tr>\n      <th>3</th>\n      <td>0</td>\n      <td>50</td>\n      <td>0</td>\n      <td>24</td>\n      <td>True</td>\n      <td>0.0</td>\n      <td>0.03</td>\n      <td>0.03</td>\n      <td>False</td>\n      <td>0</td>\n      <td>11</td>\n      <td>0</td>\n      <td>117</td>\n      <td>models/model_task1melt/model-steps8000-eps117.pt</td>\n      <td>roberta-large-mnli</td>\n      <td>melt</td>\n      <td>180</td>\n      <td>180</td>\n      <td>0</td>\n    </tr>\n    <tr>\n      <th>4</th>\n      <td>0</td>\n      <td>50</td>\n      <td>0</td>\n      <td>25</td>\n      <td>True</td>\n      <td>0.0</td>\n      <td>0.03</td>\n      <td>0.03</td>\n      <td>False</td>\n      <td>0</td>\n      <td>11</td>\n      <td>0</td>\n      <td>117</td>\n      <td>models/model_task1melt/model-steps8000-eps117.pt</td>\n      <td>roberta-large-mnli</td>\n      <td>melt</td>\n      <td>180</td>\n      <td>180</td>\n      <td>0</td>\n    </tr>\n  </tbody>\n</table>\n</div>"
     },
     "execution_count": 87,
     "metadata": {},
     "output_type": "execute_result"
    }
   ],
   "source": [
    "import pandas as pd\n",
    "\n",
    "all_task = [\"\"]\n",
    "\n",
    "plan_statistics = pd.read_csv(\"plan_statistics.csv\")\n",
    "\n",
    "dirs = [\"../results/v2-roberta_large_mnli/\", \"../results/v2-roberta_large_anli/\", \"../results/v2-minilm/\", \"../results/v2-bert/\"]\n",
    "#dirs = [\"../results/v2-minilm/\"]\n",
    "files_overall = \"results_melt.csv\"\n",
    "files_nli = \"results_nli_melt.csv\"\n",
    "\n",
    "all_overall_dfs = []\n",
    "for dir in dirs:\n",
    "    file = dir+files_overall\n",
    "    results_df = pd.read_csv(file)\n",
    "    all_overall_dfs.append(results_df)\n",
    "\n",
    "overall_results_df = pd.concat(all_overall_dfs)\n",
    "overall_results_df = preprocess_df(overall_results_df)\n",
    "overall_results_df = pd.merge(overall_results_df, plan_statistics, on=['plans_pct', 'task'])\n",
    "\n",
    "print(len(overall_results_df))\n",
    "overall_results_df.head()"
   ]
  },
  {
   "cell_type": "code",
   "execution_count": 88,
   "outputs": [
    {
     "data": {
      "text/plain": "     task  plans_pct  eps  num_specific_plans  \\\n147  melt        100  565                  13   \n150  melt        100  614                  13   \n146  melt        100  565                  13   \n149  melt        100  614                  13   \n139  melt        100  457                  13   \n138  melt        100  457                  13   \n142  melt        100  512                  13   \n\n                                             nli_model  variation  \\\n147  ynie/roberta-large-snli_mnli_fever_anli_R1_R2_...          9   \n150  ynie/roberta-large-snli_mnli_fever_anli_R1_R2_...          9   \n146                                 roberta-large-mnli          9   \n149                                 roberta-large-mnli          9   \n139          gchhablani/bert-base-cased-finetuned-mnli          9   \n138                        MoritzLaurer/MiniLM-L6-mnli          9   \n142                        MoritzLaurer/MiniLM-L6-mnli          9   \n\n     final_score  rl_score  bdi_score  num_bdi_actions  num_rl_actions  error  \n147     0.680000  0.006667   0.673333        20.888889       16.666667      3  \n150     0.680000  0.006667   0.673333        20.888889       16.666667      3  \n146     0.680000  0.006667   0.673333        20.888889       16.666667      3  \n149     0.680000  0.006667   0.673333        20.888889       16.666667      3  \n139     0.362222  0.028889   0.333333        11.444444       33.333333      6  \n138     0.262222  0.028889   0.233333         8.777778       50.000000      9  \n142     0.262222  0.028889   0.233333         8.777778       50.000000      9  ",
      "text/html": "<div>\n<style scoped>\n    .dataframe tbody tr th:only-of-type {\n        vertical-align: middle;\n    }\n\n    .dataframe tbody tr th {\n        vertical-align: top;\n    }\n\n    .dataframe thead th {\n        text-align: right;\n    }\n</style>\n<table border=\"1\" class=\"dataframe\">\n  <thead>\n    <tr style=\"text-align: right;\">\n      <th></th>\n      <th>task</th>\n      <th>plans_pct</th>\n      <th>eps</th>\n      <th>num_specific_plans</th>\n      <th>nli_model</th>\n      <th>variation</th>\n      <th>final_score</th>\n      <th>rl_score</th>\n      <th>bdi_score</th>\n      <th>num_bdi_actions</th>\n      <th>num_rl_actions</th>\n      <th>error</th>\n    </tr>\n  </thead>\n  <tbody>\n    <tr>\n      <th>147</th>\n      <td>melt</td>\n      <td>100</td>\n      <td>565</td>\n      <td>13</td>\n      <td>ynie/roberta-large-snli_mnli_fever_anli_R1_R2_...</td>\n      <td>9</td>\n      <td>0.680000</td>\n      <td>0.006667</td>\n      <td>0.673333</td>\n      <td>20.888889</td>\n      <td>16.666667</td>\n      <td>3</td>\n    </tr>\n    <tr>\n      <th>150</th>\n      <td>melt</td>\n      <td>100</td>\n      <td>614</td>\n      <td>13</td>\n      <td>ynie/roberta-large-snli_mnli_fever_anli_R1_R2_...</td>\n      <td>9</td>\n      <td>0.680000</td>\n      <td>0.006667</td>\n      <td>0.673333</td>\n      <td>20.888889</td>\n      <td>16.666667</td>\n      <td>3</td>\n    </tr>\n    <tr>\n      <th>146</th>\n      <td>melt</td>\n      <td>100</td>\n      <td>565</td>\n      <td>13</td>\n      <td>roberta-large-mnli</td>\n      <td>9</td>\n      <td>0.680000</td>\n      <td>0.006667</td>\n      <td>0.673333</td>\n      <td>20.888889</td>\n      <td>16.666667</td>\n      <td>3</td>\n    </tr>\n    <tr>\n      <th>149</th>\n      <td>melt</td>\n      <td>100</td>\n      <td>614</td>\n      <td>13</td>\n      <td>roberta-large-mnli</td>\n      <td>9</td>\n      <td>0.680000</td>\n      <td>0.006667</td>\n      <td>0.673333</td>\n      <td>20.888889</td>\n      <td>16.666667</td>\n      <td>3</td>\n    </tr>\n    <tr>\n      <th>139</th>\n      <td>melt</td>\n      <td>100</td>\n      <td>457</td>\n      <td>13</td>\n      <td>gchhablani/bert-base-cased-finetuned-mnli</td>\n      <td>9</td>\n      <td>0.362222</td>\n      <td>0.028889</td>\n      <td>0.333333</td>\n      <td>11.444444</td>\n      <td>33.333333</td>\n      <td>6</td>\n    </tr>\n    <tr>\n      <th>138</th>\n      <td>melt</td>\n      <td>100</td>\n      <td>457</td>\n      <td>13</td>\n      <td>MoritzLaurer/MiniLM-L6-mnli</td>\n      <td>9</td>\n      <td>0.262222</td>\n      <td>0.028889</td>\n      <td>0.233333</td>\n      <td>8.777778</td>\n      <td>50.000000</td>\n      <td>9</td>\n    </tr>\n    <tr>\n      <th>142</th>\n      <td>melt</td>\n      <td>100</td>\n      <td>512</td>\n      <td>13</td>\n      <td>MoritzLaurer/MiniLM-L6-mnli</td>\n      <td>9</td>\n      <td>0.262222</td>\n      <td>0.028889</td>\n      <td>0.233333</td>\n      <td>8.777778</td>\n      <td>50.000000</td>\n      <td>9</td>\n    </tr>\n  </tbody>\n</table>\n</div>"
     },
     "execution_count": 88,
     "metadata": {},
     "output_type": "execute_result"
    }
   ],
   "source": [
    "projected_cols = ['task', 'plans_pct', 'eps', 'num_specific_plans', 'nli_model']\n",
    "aggregations = {'variation': 'count', 'final_score': 'mean', 'rl_score': 'mean', 'bdi_score': 'mean',\n",
    "                'num_bdi_actions': 'mean', 'num_rl_actions': 'mean', 'error': 'sum'}\n",
    "\n",
    "grouped_df = overall_results_df.groupby(projected_cols).agg(aggregations).reset_index()\n",
    "grouped_df['dense_rank'] = (\n",
    "    grouped_df.groupby(['plans_pct', 'task', \"nli_model\"])['final_score'].rank(method='dense', ascending=False).astype(int))\n",
    "\n",
    "#grouped_df = grouped_df.sort_values(['plans_pct', 'dense_rank'], ascending=[True, True]).reset_index()\n",
    "grouped_df = grouped_df[(grouped_df['dense_rank'] == 1)].sort_values([\"task\", \"num_specific_plans\", \"nli_model\"])\n",
    "# avoiding tied rows\n",
    "grouped_df = grouped_df[grouped_df['plans_pct'] == 100]\n",
    "grouped_df.drop(columns=['dense_rank']).sort_values(by=['final_score', 'nli_model'], ascending=[False, False])"
   ],
   "metadata": {
    "collapsed": false,
    "ExecuteTime": {
     "end_time": "2023-10-05T19:07:34.686896333Z",
     "start_time": "2023-10-05T19:07:34.639370434Z"
    }
   }
  },
  {
   "cell_type": "code",
   "execution_count": 108,
   "outputs": [
    {
     "data": {
      "text/plain": "({'In', 'an', 'inventory,', 'orange', 'see:', 'your'}, 6)"
     },
     "execution_count": 108,
     "metadata": {},
     "output_type": "execute_result"
    }
   ],
   "source": [
    "sentence_a = \"In your inventory, you see: an orange\"\n",
    "sentence_b = \"you are in hallway\"\n",
    "sentence_c = \"you are in the bathroom\"\n",
    "\n",
    "words_doc1 = set(sentence_a.split())\n",
    "words_doc2 = set(sentence_b.split())\n",
    "\n",
    "\n",
    "\n",
    "def lexical_overlap(a, b):\n",
    "    words_doc1 = set(a.split())\n",
    "    words_doc2 = set(b.split())\n",
    "\n",
    "    diff = words_doc1.difference(words_doc2)\n",
    "    return len(diff)\n",
    "\n",
    "intersection = words_doc1.difference(words_doc2)\n",
    "intersection, len(intersection)"
   ],
   "metadata": {
    "collapsed": false,
    "ExecuteTime": {
     "end_time": "2023-10-05T19:27:28.176479935Z",
     "start_time": "2023-10-05T19:27:28.167665107Z"
    }
   }
  },
  {
   "cell_type": "code",
   "execution_count": null,
   "outputs": [],
   "source": [
    "# https://seaborn.pydata.org/examples/grouped_barplot.html\n",
    "\n",
    "# load nli csv\n",
    "# compute lexical overlap (see code below)\n",
    "# mean of each nli using a https://seaborn.pydata.org/examples/grouped_barplot.html to show quantities\n",
    "\n",
    "\n",
    "#"
   ],
   "metadata": {
    "collapsed": false
   }
  },
  {
   "cell_type": "code",
   "execution_count": 113,
   "outputs": [
    {
     "name": "stdout",
     "output_type": "stream",
     "text": [
      "2982\n"
     ]
    },
    {
     "data": {
      "text/plain": "                                                   p                   h  \\\n0             In your inventory, you see: an orange   you are in hallway   \n1                  This room is called the bathroom.  you are in hallway   \n2                                  You see the agent  you are in hallway   \n3                     You see a substance called air  you are in hallway   \n4  You see a bathtub, which is turned off. In the...  you are in hallway   \n\n   output               model  \n0       0  roberta-large-mnli  \n1       0  roberta-large-mnli  \n2       1  roberta-large-mnli  \n3       1  roberta-large-mnli  \n4       1  roberta-large-mnli  ",
      "text/html": "<div>\n<style scoped>\n    .dataframe tbody tr th:only-of-type {\n        vertical-align: middle;\n    }\n\n    .dataframe tbody tr th {\n        vertical-align: top;\n    }\n\n    .dataframe thead th {\n        text-align: right;\n    }\n</style>\n<table border=\"1\" class=\"dataframe\">\n  <thead>\n    <tr style=\"text-align: right;\">\n      <th></th>\n      <th>p</th>\n      <th>h</th>\n      <th>output</th>\n      <th>model</th>\n    </tr>\n  </thead>\n  <tbody>\n    <tr>\n      <th>0</th>\n      <td>In your inventory, you see: an orange</td>\n      <td>you are in hallway</td>\n      <td>0</td>\n      <td>roberta-large-mnli</td>\n    </tr>\n    <tr>\n      <th>1</th>\n      <td>This room is called the bathroom.</td>\n      <td>you are in hallway</td>\n      <td>0</td>\n      <td>roberta-large-mnli</td>\n    </tr>\n    <tr>\n      <th>2</th>\n      <td>You see the agent</td>\n      <td>you are in hallway</td>\n      <td>1</td>\n      <td>roberta-large-mnli</td>\n    </tr>\n    <tr>\n      <th>3</th>\n      <td>You see a substance called air</td>\n      <td>you are in hallway</td>\n      <td>1</td>\n      <td>roberta-large-mnli</td>\n    </tr>\n    <tr>\n      <th>4</th>\n      <td>You see a bathtub, which is turned off. In the...</td>\n      <td>you are in hallway</td>\n      <td>1</td>\n      <td>roberta-large-mnli</td>\n    </tr>\n  </tbody>\n</table>\n</div>"
     },
     "execution_count": 113,
     "metadata": {},
     "output_type": "execute_result"
    }
   ],
   "source": [
    "all_nli_dfs = []\n",
    "for dir in dirs:\n",
    "    file = dir + files_nli\n",
    "    results_df = pd.read_csv(file)\n",
    "    all_nli_dfs.append(results_df)\n",
    "\n",
    "nli_results_df = pd.concat(all_nli_dfs)\n",
    "print(len(nli_results_df))\n",
    "nli_results_df.head()"
   ],
   "metadata": {
    "collapsed": false,
    "ExecuteTime": {
     "end_time": "2023-10-05T19:28:51.792286123Z",
     "start_time": "2023-10-05T19:28:51.748675735Z"
    }
   }
  },
  {
   "cell_type": "code",
   "execution_count": 114,
   "outputs": [
    {
     "name": "stdout",
     "output_type": "stream",
     "text": [
      "MoritzLaurer/MiniLM-L6-mnli\n",
      "gchhablani/bert-base-cased-finetuned-mnli\n",
      "roberta-large-mnli\n",
      "ynie/roberta-large-snli_mnli_fever_anli_R1_R2_R3-nli\n"
     ]
    },
    {
     "data": {
      "text/plain": "                                                   p                   h  \\\n0             In your inventory, you see: an orange   you are in hallway   \n1                  This room is called the bathroom.  you are in hallway   \n2                                  You see the agent  you are in hallway   \n3                     You see a substance called air  you are in hallway   \n4  You see a bathtub, which is turned off. In the...  you are in hallway   \n\n   output                        model      inference  levenshtein_distance  \\\n0       2  MoritzLaurer/MiniLM-L6-mnli  contradiction                    29   \n1       2  MoritzLaurer/MiniLM-L6-mnli  contradiction                    25   \n2       1  MoritzLaurer/MiniLM-L6-mnli        neutral                    12   \n3       2  MoritzLaurer/MiniLM-L6-mnli  contradiction                    19   \n4       2  MoritzLaurer/MiniLM-L6-mnli  contradiction                    56   \n\n   lexical_overlap  \n0                6  \n1                6  \n2                4  \n3                6  \n4               13  ",
      "text/html": "<div>\n<style scoped>\n    .dataframe tbody tr th:only-of-type {\n        vertical-align: middle;\n    }\n\n    .dataframe tbody tr th {\n        vertical-align: top;\n    }\n\n    .dataframe thead th {\n        text-align: right;\n    }\n</style>\n<table border=\"1\" class=\"dataframe\">\n  <thead>\n    <tr style=\"text-align: right;\">\n      <th></th>\n      <th>p</th>\n      <th>h</th>\n      <th>output</th>\n      <th>model</th>\n      <th>inference</th>\n      <th>levenshtein_distance</th>\n      <th>lexical_overlap</th>\n    </tr>\n  </thead>\n  <tbody>\n    <tr>\n      <th>0</th>\n      <td>In your inventory, you see: an orange</td>\n      <td>you are in hallway</td>\n      <td>2</td>\n      <td>MoritzLaurer/MiniLM-L6-mnli</td>\n      <td>contradiction</td>\n      <td>29</td>\n      <td>6</td>\n    </tr>\n    <tr>\n      <th>1</th>\n      <td>This room is called the bathroom.</td>\n      <td>you are in hallway</td>\n      <td>2</td>\n      <td>MoritzLaurer/MiniLM-L6-mnli</td>\n      <td>contradiction</td>\n      <td>25</td>\n      <td>6</td>\n    </tr>\n    <tr>\n      <th>2</th>\n      <td>You see the agent</td>\n      <td>you are in hallway</td>\n      <td>1</td>\n      <td>MoritzLaurer/MiniLM-L6-mnli</td>\n      <td>neutral</td>\n      <td>12</td>\n      <td>4</td>\n    </tr>\n    <tr>\n      <th>3</th>\n      <td>You see a substance called air</td>\n      <td>you are in hallway</td>\n      <td>2</td>\n      <td>MoritzLaurer/MiniLM-L6-mnli</td>\n      <td>contradiction</td>\n      <td>19</td>\n      <td>6</td>\n    </tr>\n    <tr>\n      <th>4</th>\n      <td>You see a bathtub, which is turned off. In the...</td>\n      <td>you are in hallway</td>\n      <td>2</td>\n      <td>MoritzLaurer/MiniLM-L6-mnli</td>\n      <td>contradiction</td>\n      <td>56</td>\n      <td>13</td>\n    </tr>\n  </tbody>\n</table>\n</div>"
     },
     "execution_count": 114,
     "metadata": {},
     "output_type": "execute_result"
    }
   ],
   "source": [
    "from transformers import AutoTokenizer, AutoModelForSequenceClassification, AutoConfig\n",
    "\n",
    "all_groups_df = []\n",
    "for model, group_df in nli_results_df.groupby(\"model\"):\n",
    "    print(model)\n",
    "    config = AutoConfig.from_pretrained(model)\n",
    "    #print(config.label2id)\n",
    "    #print(config.id2label)\n",
    "    group_df['inference'] = group_df['output'].apply(lambda id: config.id2label[id].lower())\n",
    "    all_groups_df.append(group_df)\n",
    "\n",
    "filtered_nli_df = pd.concat(all_groups_df)\n",
    "filtered_nli_df['levenshtein_distance'] = filtered_nli_df.apply(lambda row: levenshtein_distance(row['p'], row['h']), axis=1)\n",
    "filtered_nli_df['lexical_overlap'] = filtered_nli_df.apply(lambda row: lexical_overlap(row['p'], row['h']), axis=1)\n",
    "filtered_nli_df.head()"
   ],
   "metadata": {
    "collapsed": false,
    "ExecuteTime": {
     "end_time": "2023-10-05T19:28:54.037249887Z",
     "start_time": "2023-10-05T19:28:53.315909529Z"
    }
   }
  },
  {
   "cell_type": "code",
   "execution_count": 117,
   "outputs": [
    {
     "name": "stdout",
     "output_type": "stream",
     "text": [
      "MoritzLaurer/MiniLM-L6-mnli\n",
      "23\n",
      "8.91304347826087\n",
      "111\n",
      "556\n",
      "690\n",
      "-\n",
      "gchhablani/bert-base-cased-finetuned-mnli\n",
      "25\n",
      "9.28\n",
      "171\n",
      "494\n",
      "690\n",
      "-\n",
      "roberta-large-mnli\n",
      "33\n",
      "9.515151515151516\n",
      "408\n",
      "360\n",
      "801\n",
      "-\n",
      "ynie/roberta-large-snli_mnli_fever_anli_R1_R2_R3-nli\n",
      "43\n",
      "9.023255813953488\n",
      "452\n",
      "306\n",
      "801\n",
      "-\n"
     ]
    }
   ],
   "source": [
    "for model, group_df in filtered_nli_df.groupby(\"model\"):\n",
    "    print(model)\n",
    "    print(len(group_df[group_df['inference'] == 'entailment']))\n",
    "\n",
    "    print(group_df[group_df['inference'] == 'entailment']['lexical_overlap'].mean())\n",
    "    #print(group_df[group_df['inference'] == 'entailment']['lexical_overlap'].std())\n",
    "    print(len(group_df[group_df['inference'] == 'neutral']))\n",
    "    print(len(group_df[group_df['inference'] == 'contradiction']))\n",
    "    print(len(group_df))\n",
    "    print(\"-\")"
   ],
   "metadata": {
    "collapsed": false,
    "ExecuteTime": {
     "end_time": "2023-10-05T19:29:30.083431591Z",
     "start_time": "2023-10-05T19:29:29.843757338Z"
    }
   }
  },
  {
   "cell_type": "code",
   "execution_count": 99,
   "outputs": [
    {
     "data": {
      "text/plain": "                                                     p  \\\n132  In your inventory, you see: a metal pot (conta...   \n96    You see a cupboard. The cupboard door is closed.   \n645                This room is called the art studio.   \n358                  This room is called the workshop.   \n81                   This room is called the bathroom.   \n84   You see a bathtub, which is turned off. In the...   \n88   You see a toilet. In the toilet is: A drain, w...   \n607                   This room is called the foundry.   \n409                This room is called the greenhouse.   \n190               A door to the hallway (that is open)   \n247                   This room is called the kitchen.   \n713               This room is called the living room.   \n500            A door to the greenhouse (that is open)   \n302               A door to the outside (that is open)   \n493       This outside location is called the outside.   \n495            You see a fire pit (containing nothing)   \n496            You see a fountain (containing nothing)   \n497                                 You see the ground   \n112                   This room is called the kitchen.   \n665                This room is called the art studio.   \n601                   This room is called the foundry.   \n378                  This room is called the workshop.   \n753              A door to the bathroom (that is open)   \n736                   This room is called the kitchen.   \n171              A door to the bathroom (that is open)   \n154                   This room is called the kitchen.   \n339  In your inventory, you see: a metal pot (conta...   \n517  In your inventory, you see: a metal pot (conta...   \n538  In your inventory, you see: a metal pot (conta...   \n613  In your inventory, you see: a metal pot (conta...   \n434  In your inventory, you see: a metal pot (conta...   \n346  In your inventory, you see: a metal pot (conta...   \n774  In your inventory, you see: a metal pot (conta...   \n\n                                                     h  output  \\\n132               you have metal pot in your inventory       2   \n96                                  you see a cupboard       2   \n645                              you are in art studio       2   \n358                              you are in art studio       2   \n81                                 you are in bathroom       2   \n84                                 you are in bathroom       2   \n88                                 you are in bathroom       2   \n607                                 you are in foundry       2   \n409                              you are in greenhouse       2   \n190                                 you are in hallway       2   \n247                                 you are in kitchen       2   \n713                             you are in living room       2   \n500                                 you are in outside       2   \n302                                 you are in outside       2   \n493                                 you are in outside       2   \n495                                 you are in outside       2   \n496                                 you are in outside       2   \n497                                 you are in outside       2   \n112                            you are in the kitchen        2   \n665                                you are in workshop       2   \n601                                you are in workshop       2   \n378                                you are in workshop       2   \n753                            you are not in workshop       2   \n736                            you are not in workshop       2   \n171                           you are not in workshop        2   \n154                           you are not in workshop        2   \n339  you have a metal pot with mercury in your inve...       2   \n517               you have metal pot in your inventory       2   \n538  you have metal pot with caesium in your inventory       2   \n613  you have metal pot with gallium in your inventory       2   \n434  you have metal pot with mercury in your inventory       2   \n346  you have metal pot with mercury in your inventory       2   \n774      you have metal pot with tin in your inventory       2   \n\n                  model   inference  levenshtein_distance  \n132  roberta-large-mnli  entailment                   109  \n96   roberta-large-mnli  entailment                    32  \n645  roberta-large-mnli  entailment                    19  \n358  roberta-large-mnli  entailment                    25  \n81   roberta-large-mnli  entailment                    19  \n84   roberta-large-mnli  entailment                    53  \n88   roberta-large-mnli  entailment                    74  \n607  roberta-large-mnli  entailment                    19  \n409  roberta-large-mnli  entailment                    19  \n190  roberta-large-mnli  entailment                    26  \n247  roberta-large-mnli  entailment                    19  \n713  roberta-large-mnli  entailment                    19  \n500  roberta-large-mnli  entailment                    29  \n302  roberta-large-mnli  entailment                    26  \n493  roberta-large-mnli  entailment                    30  \n495  roberta-large-mnli  entailment                    27  \n496  roberta-large-mnli  entailment                    28  \n497  roberta-large-mnli  entailment                    12  \n112  roberta-large-mnli  entailment                    17  \n665  roberta-large-mnli  entailment                    27  \n601  roberta-large-mnli  entailment                    25  \n378  roberta-large-mnli  entailment                    19  \n753  roberta-large-mnli  entailment                    28  \n736  roberta-large-mnli  entailment                    27  \n171  roberta-large-mnli  entailment                    28  \n154  roberta-large-mnli  entailment                    27  \n339  roberta-large-mnli  entailment                   117  \n517  roberta-large-mnli  entailment                   110  \n538  roberta-large-mnli  entailment                   119  \n613  roberta-large-mnli  entailment                   119  \n434  roberta-large-mnli  entailment                   124  \n346  roberta-large-mnli  entailment                   124  \n774  roberta-large-mnli  entailment                   119  ",
      "text/html": "<div>\n<style scoped>\n    .dataframe tbody tr th:only-of-type {\n        vertical-align: middle;\n    }\n\n    .dataframe tbody tr th {\n        vertical-align: top;\n    }\n\n    .dataframe thead th {\n        text-align: right;\n    }\n</style>\n<table border=\"1\" class=\"dataframe\">\n  <thead>\n    <tr style=\"text-align: right;\">\n      <th></th>\n      <th>p</th>\n      <th>h</th>\n      <th>output</th>\n      <th>model</th>\n      <th>inference</th>\n      <th>levenshtein_distance</th>\n    </tr>\n  </thead>\n  <tbody>\n    <tr>\n      <th>132</th>\n      <td>In your inventory, you see: a metal pot (conta...</td>\n      <td>you have metal pot in your inventory</td>\n      <td>2</td>\n      <td>roberta-large-mnli</td>\n      <td>entailment</td>\n      <td>109</td>\n    </tr>\n    <tr>\n      <th>96</th>\n      <td>You see a cupboard. The cupboard door is closed.</td>\n      <td>you see a cupboard</td>\n      <td>2</td>\n      <td>roberta-large-mnli</td>\n      <td>entailment</td>\n      <td>32</td>\n    </tr>\n    <tr>\n      <th>645</th>\n      <td>This room is called the art studio.</td>\n      <td>you are in art studio</td>\n      <td>2</td>\n      <td>roberta-large-mnli</td>\n      <td>entailment</td>\n      <td>19</td>\n    </tr>\n    <tr>\n      <th>358</th>\n      <td>This room is called the workshop.</td>\n      <td>you are in art studio</td>\n      <td>2</td>\n      <td>roberta-large-mnli</td>\n      <td>entailment</td>\n      <td>25</td>\n    </tr>\n    <tr>\n      <th>81</th>\n      <td>This room is called the bathroom.</td>\n      <td>you are in bathroom</td>\n      <td>2</td>\n      <td>roberta-large-mnli</td>\n      <td>entailment</td>\n      <td>19</td>\n    </tr>\n    <tr>\n      <th>84</th>\n      <td>You see a bathtub, which is turned off. In the...</td>\n      <td>you are in bathroom</td>\n      <td>2</td>\n      <td>roberta-large-mnli</td>\n      <td>entailment</td>\n      <td>53</td>\n    </tr>\n    <tr>\n      <th>88</th>\n      <td>You see a toilet. In the toilet is: A drain, w...</td>\n      <td>you are in bathroom</td>\n      <td>2</td>\n      <td>roberta-large-mnli</td>\n      <td>entailment</td>\n      <td>74</td>\n    </tr>\n    <tr>\n      <th>607</th>\n      <td>This room is called the foundry.</td>\n      <td>you are in foundry</td>\n      <td>2</td>\n      <td>roberta-large-mnli</td>\n      <td>entailment</td>\n      <td>19</td>\n    </tr>\n    <tr>\n      <th>409</th>\n      <td>This room is called the greenhouse.</td>\n      <td>you are in greenhouse</td>\n      <td>2</td>\n      <td>roberta-large-mnli</td>\n      <td>entailment</td>\n      <td>19</td>\n    </tr>\n    <tr>\n      <th>190</th>\n      <td>A door to the hallway (that is open)</td>\n      <td>you are in hallway</td>\n      <td>2</td>\n      <td>roberta-large-mnli</td>\n      <td>entailment</td>\n      <td>26</td>\n    </tr>\n    <tr>\n      <th>247</th>\n      <td>This room is called the kitchen.</td>\n      <td>you are in kitchen</td>\n      <td>2</td>\n      <td>roberta-large-mnli</td>\n      <td>entailment</td>\n      <td>19</td>\n    </tr>\n    <tr>\n      <th>713</th>\n      <td>This room is called the living room.</td>\n      <td>you are in living room</td>\n      <td>2</td>\n      <td>roberta-large-mnli</td>\n      <td>entailment</td>\n      <td>19</td>\n    </tr>\n    <tr>\n      <th>500</th>\n      <td>A door to the greenhouse (that is open)</td>\n      <td>you are in outside</td>\n      <td>2</td>\n      <td>roberta-large-mnli</td>\n      <td>entailment</td>\n      <td>29</td>\n    </tr>\n    <tr>\n      <th>302</th>\n      <td>A door to the outside (that is open)</td>\n      <td>you are in outside</td>\n      <td>2</td>\n      <td>roberta-large-mnli</td>\n      <td>entailment</td>\n      <td>26</td>\n    </tr>\n    <tr>\n      <th>493</th>\n      <td>This outside location is called the outside.</td>\n      <td>you are in outside</td>\n      <td>2</td>\n      <td>roberta-large-mnli</td>\n      <td>entailment</td>\n      <td>30</td>\n    </tr>\n    <tr>\n      <th>495</th>\n      <td>You see a fire pit (containing nothing)</td>\n      <td>you are in outside</td>\n      <td>2</td>\n      <td>roberta-large-mnli</td>\n      <td>entailment</td>\n      <td>27</td>\n    </tr>\n    <tr>\n      <th>496</th>\n      <td>You see a fountain (containing nothing)</td>\n      <td>you are in outside</td>\n      <td>2</td>\n      <td>roberta-large-mnli</td>\n      <td>entailment</td>\n      <td>28</td>\n    </tr>\n    <tr>\n      <th>497</th>\n      <td>You see the ground</td>\n      <td>you are in outside</td>\n      <td>2</td>\n      <td>roberta-large-mnli</td>\n      <td>entailment</td>\n      <td>12</td>\n    </tr>\n    <tr>\n      <th>112</th>\n      <td>This room is called the kitchen.</td>\n      <td>you are in the kitchen</td>\n      <td>2</td>\n      <td>roberta-large-mnli</td>\n      <td>entailment</td>\n      <td>17</td>\n    </tr>\n    <tr>\n      <th>665</th>\n      <td>This room is called the art studio.</td>\n      <td>you are in workshop</td>\n      <td>2</td>\n      <td>roberta-large-mnli</td>\n      <td>entailment</td>\n      <td>27</td>\n    </tr>\n    <tr>\n      <th>601</th>\n      <td>This room is called the foundry.</td>\n      <td>you are in workshop</td>\n      <td>2</td>\n      <td>roberta-large-mnli</td>\n      <td>entailment</td>\n      <td>25</td>\n    </tr>\n    <tr>\n      <th>378</th>\n      <td>This room is called the workshop.</td>\n      <td>you are in workshop</td>\n      <td>2</td>\n      <td>roberta-large-mnli</td>\n      <td>entailment</td>\n      <td>19</td>\n    </tr>\n    <tr>\n      <th>753</th>\n      <td>A door to the bathroom (that is open)</td>\n      <td>you are not in workshop</td>\n      <td>2</td>\n      <td>roberta-large-mnli</td>\n      <td>entailment</td>\n      <td>28</td>\n    </tr>\n    <tr>\n      <th>736</th>\n      <td>This room is called the kitchen.</td>\n      <td>you are not in workshop</td>\n      <td>2</td>\n      <td>roberta-large-mnli</td>\n      <td>entailment</td>\n      <td>27</td>\n    </tr>\n    <tr>\n      <th>171</th>\n      <td>A door to the bathroom (that is open)</td>\n      <td>you are not in workshop</td>\n      <td>2</td>\n      <td>roberta-large-mnli</td>\n      <td>entailment</td>\n      <td>28</td>\n    </tr>\n    <tr>\n      <th>154</th>\n      <td>This room is called the kitchen.</td>\n      <td>you are not in workshop</td>\n      <td>2</td>\n      <td>roberta-large-mnli</td>\n      <td>entailment</td>\n      <td>27</td>\n    </tr>\n    <tr>\n      <th>339</th>\n      <td>In your inventory, you see: a metal pot (conta...</td>\n      <td>you have a metal pot with mercury in your inve...</td>\n      <td>2</td>\n      <td>roberta-large-mnli</td>\n      <td>entailment</td>\n      <td>117</td>\n    </tr>\n    <tr>\n      <th>517</th>\n      <td>In your inventory, you see: a metal pot (conta...</td>\n      <td>you have metal pot in your inventory</td>\n      <td>2</td>\n      <td>roberta-large-mnli</td>\n      <td>entailment</td>\n      <td>110</td>\n    </tr>\n    <tr>\n      <th>538</th>\n      <td>In your inventory, you see: a metal pot (conta...</td>\n      <td>you have metal pot with caesium in your inventory</td>\n      <td>2</td>\n      <td>roberta-large-mnli</td>\n      <td>entailment</td>\n      <td>119</td>\n    </tr>\n    <tr>\n      <th>613</th>\n      <td>In your inventory, you see: a metal pot (conta...</td>\n      <td>you have metal pot with gallium in your inventory</td>\n      <td>2</td>\n      <td>roberta-large-mnli</td>\n      <td>entailment</td>\n      <td>119</td>\n    </tr>\n    <tr>\n      <th>434</th>\n      <td>In your inventory, you see: a metal pot (conta...</td>\n      <td>you have metal pot with mercury in your inventory</td>\n      <td>2</td>\n      <td>roberta-large-mnli</td>\n      <td>entailment</td>\n      <td>124</td>\n    </tr>\n    <tr>\n      <th>346</th>\n      <td>In your inventory, you see: a metal pot (conta...</td>\n      <td>you have metal pot with mercury in your inventory</td>\n      <td>2</td>\n      <td>roberta-large-mnli</td>\n      <td>entailment</td>\n      <td>124</td>\n    </tr>\n    <tr>\n      <th>774</th>\n      <td>In your inventory, you see: a metal pot (conta...</td>\n      <td>you have metal pot with tin in your inventory</td>\n      <td>2</td>\n      <td>roberta-large-mnli</td>\n      <td>entailment</td>\n      <td>119</td>\n    </tr>\n  </tbody>\n</table>\n</div>"
     },
     "metadata": {},
     "output_type": "display_data"
    },
    {
     "data": {
      "text/plain": "                                                     p  \\\n132  In your inventory, you see: a metal pot (conta...   \n96    You see a cupboard. The cupboard door is closed.   \n645                This room is called the art studio.   \n336              A door to the bathroom (that is open)   \n81                   This room is called the bathroom.   \n507               A door to the foundry (that is open)   \n607                   This room is called the foundry.   \n476            A door to the greenhouse (that is open)   \n409                This room is called the greenhouse.   \n190               A door to the hallway (that is open)   \n247                   This room is called the kitchen.   \n713               This room is called the living room.   \n499               A door to the foundry (that is open)   \n500            A door to the greenhouse (that is open)   \n302               A door to the outside (that is open)   \n493       This outside location is called the outside.   \n423   You see a bee hive. The bee hive door is closed.   \n605  You see a blast furnace, which is turned off. ...   \n495            You see a fire pit (containing nothing)   \n496            You see a fountain (containing nothing)   \n425                                   You see a shovel   \n497                                 You see the ground   \n112                   This room is called the kitchen.   \n665                This room is called the art studio.   \n601                   This room is called the foundry.   \n378                  This room is called the workshop.   \n753              A door to the bathroom (that is open)   \n754               A door to the hallway (that is open)   \n755               A door to the outside (that is open)   \n736                   This room is called the kitchen.   \n740  You see a counter. On the counter is: a bowl (...   \n737                                  You see the agent   \n171              A door to the bathroom (that is open)   \n172               A door to the hallway (that is open)   \n173               A door to the outside (that is open)   \n154                   This room is called the kitchen.   \n339  In your inventory, you see: a metal pot (conta...   \n517  In your inventory, you see: a metal pot (conta...   \n538  In your inventory, you see: a metal pot (conta...   \n613  In your inventory, you see: a metal pot (conta...   \n346  In your inventory, you see: a metal pot (conta...   \n434  In your inventory, you see: a metal pot (conta...   \n774  In your inventory, you see: a metal pot (conta...   \n\n                                                     h  output  \\\n132               you have metal pot in your inventory       0   \n96                                  you see a cupboard       0   \n645                              you are in art studio       0   \n336                                you are in bathroom       0   \n81                                 you are in bathroom       0   \n507                                 you are in foundry       0   \n607                                 you are in foundry       0   \n476                              you are in greenhouse       0   \n409                              you are in greenhouse       0   \n190                                 you are in hallway       0   \n247                                 you are in kitchen       0   \n713                             you are in living room       0   \n499                                 you are in outside       0   \n500                                 you are in outside       0   \n302                                 you are in outside       0   \n493                                 you are in outside       0   \n423                                 you are in outside       0   \n605                                 you are in outside       0   \n495                                 you are in outside       0   \n496                                 you are in outside       0   \n425                                 you are in outside       0   \n497                                 you are in outside       0   \n112                            you are in the kitchen        0   \n665                                you are in workshop       0   \n601                                you are in workshop       0   \n378                                you are in workshop       0   \n753                            you are not in workshop       0   \n754                            you are not in workshop       0   \n755                            you are not in workshop       0   \n736                            you are not in workshop       0   \n740                            you are not in workshop       0   \n737                            you are not in workshop       0   \n171                           you are not in workshop        0   \n172                           you are not in workshop        0   \n173                           you are not in workshop        0   \n154                           you are not in workshop        0   \n339  you have a metal pot with mercury in your inve...       0   \n517               you have metal pot in your inventory       0   \n538  you have metal pot with caesium in your inventory       0   \n613  you have metal pot with gallium in your inventory       0   \n346  you have metal pot with mercury in your inventory       0   \n434  you have metal pot with mercury in your inventory       0   \n774      you have metal pot with tin in your inventory       0   \n\n                                                 model   inference  \\\n132  ynie/roberta-large-snli_mnli_fever_anli_R1_R2_...  entailment   \n96   ynie/roberta-large-snli_mnli_fever_anli_R1_R2_...  entailment   \n645  ynie/roberta-large-snli_mnli_fever_anli_R1_R2_...  entailment   \n336  ynie/roberta-large-snli_mnli_fever_anli_R1_R2_...  entailment   \n81   ynie/roberta-large-snli_mnli_fever_anli_R1_R2_...  entailment   \n507  ynie/roberta-large-snli_mnli_fever_anli_R1_R2_...  entailment   \n607  ynie/roberta-large-snli_mnli_fever_anli_R1_R2_...  entailment   \n476  ynie/roberta-large-snli_mnli_fever_anli_R1_R2_...  entailment   \n409  ynie/roberta-large-snli_mnli_fever_anli_R1_R2_...  entailment   \n190  ynie/roberta-large-snli_mnli_fever_anli_R1_R2_...  entailment   \n247  ynie/roberta-large-snli_mnli_fever_anli_R1_R2_...  entailment   \n713  ynie/roberta-large-snli_mnli_fever_anli_R1_R2_...  entailment   \n499  ynie/roberta-large-snli_mnli_fever_anli_R1_R2_...  entailment   \n500  ynie/roberta-large-snli_mnli_fever_anli_R1_R2_...  entailment   \n302  ynie/roberta-large-snli_mnli_fever_anli_R1_R2_...  entailment   \n493  ynie/roberta-large-snli_mnli_fever_anli_R1_R2_...  entailment   \n423  ynie/roberta-large-snli_mnli_fever_anli_R1_R2_...  entailment   \n605  ynie/roberta-large-snli_mnli_fever_anli_R1_R2_...  entailment   \n495  ynie/roberta-large-snli_mnli_fever_anli_R1_R2_...  entailment   \n496  ynie/roberta-large-snli_mnli_fever_anli_R1_R2_...  entailment   \n425  ynie/roberta-large-snli_mnli_fever_anli_R1_R2_...  entailment   \n497  ynie/roberta-large-snli_mnli_fever_anli_R1_R2_...  entailment   \n112  ynie/roberta-large-snli_mnli_fever_anli_R1_R2_...  entailment   \n665  ynie/roberta-large-snli_mnli_fever_anli_R1_R2_...  entailment   \n601  ynie/roberta-large-snli_mnli_fever_anli_R1_R2_...  entailment   \n378  ynie/roberta-large-snli_mnli_fever_anli_R1_R2_...  entailment   \n753  ynie/roberta-large-snli_mnli_fever_anli_R1_R2_...  entailment   \n754  ynie/roberta-large-snli_mnli_fever_anli_R1_R2_...  entailment   \n755  ynie/roberta-large-snli_mnli_fever_anli_R1_R2_...  entailment   \n736  ynie/roberta-large-snli_mnli_fever_anli_R1_R2_...  entailment   \n740  ynie/roberta-large-snli_mnli_fever_anli_R1_R2_...  entailment   \n737  ynie/roberta-large-snli_mnli_fever_anli_R1_R2_...  entailment   \n171  ynie/roberta-large-snli_mnli_fever_anli_R1_R2_...  entailment   \n172  ynie/roberta-large-snli_mnli_fever_anli_R1_R2_...  entailment   \n173  ynie/roberta-large-snli_mnli_fever_anli_R1_R2_...  entailment   \n154  ynie/roberta-large-snli_mnli_fever_anli_R1_R2_...  entailment   \n339  ynie/roberta-large-snli_mnli_fever_anli_R1_R2_...  entailment   \n517  ynie/roberta-large-snli_mnli_fever_anli_R1_R2_...  entailment   \n538  ynie/roberta-large-snli_mnli_fever_anli_R1_R2_...  entailment   \n613  ynie/roberta-large-snli_mnli_fever_anli_R1_R2_...  entailment   \n346  ynie/roberta-large-snli_mnli_fever_anli_R1_R2_...  entailment   \n434  ynie/roberta-large-snli_mnli_fever_anli_R1_R2_...  entailment   \n774  ynie/roberta-large-snli_mnli_fever_anli_R1_R2_...  entailment   \n\n     levenshtein_distance  \n132                   109  \n96                     32  \n645                    19  \n336                    26  \n81                     19  \n507                    26  \n607                    19  \n476                    26  \n409                    19  \n190                    26  \n247                    19  \n713                    19  \n499                    27  \n500                    29  \n302                    26  \n493                    30  \n423                    37  \n605                    65  \n495                    27  \n496                    28  \n425                    12  \n497                    12  \n112                    17  \n665                    27  \n601                    25  \n378                    19  \n753                    28  \n754                    28  \n755                    26  \n736                    27  \n740                    94  \n737                    16  \n171                    28  \n172                    28  \n173                    26  \n154                    27  \n339                   117  \n517                   110  \n538                   119  \n613                   119  \n346                   124  \n434                   124  \n774                   119  ",
      "text/html": "<div>\n<style scoped>\n    .dataframe tbody tr th:only-of-type {\n        vertical-align: middle;\n    }\n\n    .dataframe tbody tr th {\n        vertical-align: top;\n    }\n\n    .dataframe thead th {\n        text-align: right;\n    }\n</style>\n<table border=\"1\" class=\"dataframe\">\n  <thead>\n    <tr style=\"text-align: right;\">\n      <th></th>\n      <th>p</th>\n      <th>h</th>\n      <th>output</th>\n      <th>model</th>\n      <th>inference</th>\n      <th>levenshtein_distance</th>\n    </tr>\n  </thead>\n  <tbody>\n    <tr>\n      <th>132</th>\n      <td>In your inventory, you see: a metal pot (conta...</td>\n      <td>you have metal pot in your inventory</td>\n      <td>0</td>\n      <td>ynie/roberta-large-snli_mnli_fever_anli_R1_R2_...</td>\n      <td>entailment</td>\n      <td>109</td>\n    </tr>\n    <tr>\n      <th>96</th>\n      <td>You see a cupboard. The cupboard door is closed.</td>\n      <td>you see a cupboard</td>\n      <td>0</td>\n      <td>ynie/roberta-large-snli_mnli_fever_anli_R1_R2_...</td>\n      <td>entailment</td>\n      <td>32</td>\n    </tr>\n    <tr>\n      <th>645</th>\n      <td>This room is called the art studio.</td>\n      <td>you are in art studio</td>\n      <td>0</td>\n      <td>ynie/roberta-large-snli_mnli_fever_anli_R1_R2_...</td>\n      <td>entailment</td>\n      <td>19</td>\n    </tr>\n    <tr>\n      <th>336</th>\n      <td>A door to the bathroom (that is open)</td>\n      <td>you are in bathroom</td>\n      <td>0</td>\n      <td>ynie/roberta-large-snli_mnli_fever_anli_R1_R2_...</td>\n      <td>entailment</td>\n      <td>26</td>\n    </tr>\n    <tr>\n      <th>81</th>\n      <td>This room is called the bathroom.</td>\n      <td>you are in bathroom</td>\n      <td>0</td>\n      <td>ynie/roberta-large-snli_mnli_fever_anli_R1_R2_...</td>\n      <td>entailment</td>\n      <td>19</td>\n    </tr>\n    <tr>\n      <th>507</th>\n      <td>A door to the foundry (that is open)</td>\n      <td>you are in foundry</td>\n      <td>0</td>\n      <td>ynie/roberta-large-snli_mnli_fever_anli_R1_R2_...</td>\n      <td>entailment</td>\n      <td>26</td>\n    </tr>\n    <tr>\n      <th>607</th>\n      <td>This room is called the foundry.</td>\n      <td>you are in foundry</td>\n      <td>0</td>\n      <td>ynie/roberta-large-snli_mnli_fever_anli_R1_R2_...</td>\n      <td>entailment</td>\n      <td>19</td>\n    </tr>\n    <tr>\n      <th>476</th>\n      <td>A door to the greenhouse (that is open)</td>\n      <td>you are in greenhouse</td>\n      <td>0</td>\n      <td>ynie/roberta-large-snli_mnli_fever_anli_R1_R2_...</td>\n      <td>entailment</td>\n      <td>26</td>\n    </tr>\n    <tr>\n      <th>409</th>\n      <td>This room is called the greenhouse.</td>\n      <td>you are in greenhouse</td>\n      <td>0</td>\n      <td>ynie/roberta-large-snli_mnli_fever_anli_R1_R2_...</td>\n      <td>entailment</td>\n      <td>19</td>\n    </tr>\n    <tr>\n      <th>190</th>\n      <td>A door to the hallway (that is open)</td>\n      <td>you are in hallway</td>\n      <td>0</td>\n      <td>ynie/roberta-large-snli_mnli_fever_anli_R1_R2_...</td>\n      <td>entailment</td>\n      <td>26</td>\n    </tr>\n    <tr>\n      <th>247</th>\n      <td>This room is called the kitchen.</td>\n      <td>you are in kitchen</td>\n      <td>0</td>\n      <td>ynie/roberta-large-snli_mnli_fever_anli_R1_R2_...</td>\n      <td>entailment</td>\n      <td>19</td>\n    </tr>\n    <tr>\n      <th>713</th>\n      <td>This room is called the living room.</td>\n      <td>you are in living room</td>\n      <td>0</td>\n      <td>ynie/roberta-large-snli_mnli_fever_anli_R1_R2_...</td>\n      <td>entailment</td>\n      <td>19</td>\n    </tr>\n    <tr>\n      <th>499</th>\n      <td>A door to the foundry (that is open)</td>\n      <td>you are in outside</td>\n      <td>0</td>\n      <td>ynie/roberta-large-snli_mnli_fever_anli_R1_R2_...</td>\n      <td>entailment</td>\n      <td>27</td>\n    </tr>\n    <tr>\n      <th>500</th>\n      <td>A door to the greenhouse (that is open)</td>\n      <td>you are in outside</td>\n      <td>0</td>\n      <td>ynie/roberta-large-snli_mnli_fever_anli_R1_R2_...</td>\n      <td>entailment</td>\n      <td>29</td>\n    </tr>\n    <tr>\n      <th>302</th>\n      <td>A door to the outside (that is open)</td>\n      <td>you are in outside</td>\n      <td>0</td>\n      <td>ynie/roberta-large-snli_mnli_fever_anli_R1_R2_...</td>\n      <td>entailment</td>\n      <td>26</td>\n    </tr>\n    <tr>\n      <th>493</th>\n      <td>This outside location is called the outside.</td>\n      <td>you are in outside</td>\n      <td>0</td>\n      <td>ynie/roberta-large-snli_mnli_fever_anli_R1_R2_...</td>\n      <td>entailment</td>\n      <td>30</td>\n    </tr>\n    <tr>\n      <th>423</th>\n      <td>You see a bee hive. The bee hive door is closed.</td>\n      <td>you are in outside</td>\n      <td>0</td>\n      <td>ynie/roberta-large-snli_mnli_fever_anli_R1_R2_...</td>\n      <td>entailment</td>\n      <td>37</td>\n    </tr>\n    <tr>\n      <th>605</th>\n      <td>You see a blast furnace, which is turned off. ...</td>\n      <td>you are in outside</td>\n      <td>0</td>\n      <td>ynie/roberta-large-snli_mnli_fever_anli_R1_R2_...</td>\n      <td>entailment</td>\n      <td>65</td>\n    </tr>\n    <tr>\n      <th>495</th>\n      <td>You see a fire pit (containing nothing)</td>\n      <td>you are in outside</td>\n      <td>0</td>\n      <td>ynie/roberta-large-snli_mnli_fever_anli_R1_R2_...</td>\n      <td>entailment</td>\n      <td>27</td>\n    </tr>\n    <tr>\n      <th>496</th>\n      <td>You see a fountain (containing nothing)</td>\n      <td>you are in outside</td>\n      <td>0</td>\n      <td>ynie/roberta-large-snli_mnli_fever_anli_R1_R2_...</td>\n      <td>entailment</td>\n      <td>28</td>\n    </tr>\n    <tr>\n      <th>425</th>\n      <td>You see a shovel</td>\n      <td>you are in outside</td>\n      <td>0</td>\n      <td>ynie/roberta-large-snli_mnli_fever_anli_R1_R2_...</td>\n      <td>entailment</td>\n      <td>12</td>\n    </tr>\n    <tr>\n      <th>497</th>\n      <td>You see the ground</td>\n      <td>you are in outside</td>\n      <td>0</td>\n      <td>ynie/roberta-large-snli_mnli_fever_anli_R1_R2_...</td>\n      <td>entailment</td>\n      <td>12</td>\n    </tr>\n    <tr>\n      <th>112</th>\n      <td>This room is called the kitchen.</td>\n      <td>you are in the kitchen</td>\n      <td>0</td>\n      <td>ynie/roberta-large-snli_mnli_fever_anli_R1_R2_...</td>\n      <td>entailment</td>\n      <td>17</td>\n    </tr>\n    <tr>\n      <th>665</th>\n      <td>This room is called the art studio.</td>\n      <td>you are in workshop</td>\n      <td>0</td>\n      <td>ynie/roberta-large-snli_mnli_fever_anli_R1_R2_...</td>\n      <td>entailment</td>\n      <td>27</td>\n    </tr>\n    <tr>\n      <th>601</th>\n      <td>This room is called the foundry.</td>\n      <td>you are in workshop</td>\n      <td>0</td>\n      <td>ynie/roberta-large-snli_mnli_fever_anli_R1_R2_...</td>\n      <td>entailment</td>\n      <td>25</td>\n    </tr>\n    <tr>\n      <th>378</th>\n      <td>This room is called the workshop.</td>\n      <td>you are in workshop</td>\n      <td>0</td>\n      <td>ynie/roberta-large-snli_mnli_fever_anli_R1_R2_...</td>\n      <td>entailment</td>\n      <td>19</td>\n    </tr>\n    <tr>\n      <th>753</th>\n      <td>A door to the bathroom (that is open)</td>\n      <td>you are not in workshop</td>\n      <td>0</td>\n      <td>ynie/roberta-large-snli_mnli_fever_anli_R1_R2_...</td>\n      <td>entailment</td>\n      <td>28</td>\n    </tr>\n    <tr>\n      <th>754</th>\n      <td>A door to the hallway (that is open)</td>\n      <td>you are not in workshop</td>\n      <td>0</td>\n      <td>ynie/roberta-large-snli_mnli_fever_anli_R1_R2_...</td>\n      <td>entailment</td>\n      <td>28</td>\n    </tr>\n    <tr>\n      <th>755</th>\n      <td>A door to the outside (that is open)</td>\n      <td>you are not in workshop</td>\n      <td>0</td>\n      <td>ynie/roberta-large-snli_mnli_fever_anli_R1_R2_...</td>\n      <td>entailment</td>\n      <td>26</td>\n    </tr>\n    <tr>\n      <th>736</th>\n      <td>This room is called the kitchen.</td>\n      <td>you are not in workshop</td>\n      <td>0</td>\n      <td>ynie/roberta-large-snli_mnli_fever_anli_R1_R2_...</td>\n      <td>entailment</td>\n      <td>27</td>\n    </tr>\n    <tr>\n      <th>740</th>\n      <td>You see a counter. On the counter is: a bowl (...</td>\n      <td>you are not in workshop</td>\n      <td>0</td>\n      <td>ynie/roberta-large-snli_mnli_fever_anli_R1_R2_...</td>\n      <td>entailment</td>\n      <td>94</td>\n    </tr>\n    <tr>\n      <th>737</th>\n      <td>You see the agent</td>\n      <td>you are not in workshop</td>\n      <td>0</td>\n      <td>ynie/roberta-large-snli_mnli_fever_anli_R1_R2_...</td>\n      <td>entailment</td>\n      <td>16</td>\n    </tr>\n    <tr>\n      <th>171</th>\n      <td>A door to the bathroom (that is open)</td>\n      <td>you are not in workshop</td>\n      <td>0</td>\n      <td>ynie/roberta-large-snli_mnli_fever_anli_R1_R2_...</td>\n      <td>entailment</td>\n      <td>28</td>\n    </tr>\n    <tr>\n      <th>172</th>\n      <td>A door to the hallway (that is open)</td>\n      <td>you are not in workshop</td>\n      <td>0</td>\n      <td>ynie/roberta-large-snli_mnli_fever_anli_R1_R2_...</td>\n      <td>entailment</td>\n      <td>28</td>\n    </tr>\n    <tr>\n      <th>173</th>\n      <td>A door to the outside (that is open)</td>\n      <td>you are not in workshop</td>\n      <td>0</td>\n      <td>ynie/roberta-large-snli_mnli_fever_anli_R1_R2_...</td>\n      <td>entailment</td>\n      <td>26</td>\n    </tr>\n    <tr>\n      <th>154</th>\n      <td>This room is called the kitchen.</td>\n      <td>you are not in workshop</td>\n      <td>0</td>\n      <td>ynie/roberta-large-snli_mnli_fever_anli_R1_R2_...</td>\n      <td>entailment</td>\n      <td>27</td>\n    </tr>\n    <tr>\n      <th>339</th>\n      <td>In your inventory, you see: a metal pot (conta...</td>\n      <td>you have a metal pot with mercury in your inve...</td>\n      <td>0</td>\n      <td>ynie/roberta-large-snli_mnli_fever_anli_R1_R2_...</td>\n      <td>entailment</td>\n      <td>117</td>\n    </tr>\n    <tr>\n      <th>517</th>\n      <td>In your inventory, you see: a metal pot (conta...</td>\n      <td>you have metal pot in your inventory</td>\n      <td>0</td>\n      <td>ynie/roberta-large-snli_mnli_fever_anli_R1_R2_...</td>\n      <td>entailment</td>\n      <td>110</td>\n    </tr>\n    <tr>\n      <th>538</th>\n      <td>In your inventory, you see: a metal pot (conta...</td>\n      <td>you have metal pot with caesium in your inventory</td>\n      <td>0</td>\n      <td>ynie/roberta-large-snli_mnli_fever_anli_R1_R2_...</td>\n      <td>entailment</td>\n      <td>119</td>\n    </tr>\n    <tr>\n      <th>613</th>\n      <td>In your inventory, you see: a metal pot (conta...</td>\n      <td>you have metal pot with gallium in your inventory</td>\n      <td>0</td>\n      <td>ynie/roberta-large-snli_mnli_fever_anli_R1_R2_...</td>\n      <td>entailment</td>\n      <td>119</td>\n    </tr>\n    <tr>\n      <th>346</th>\n      <td>In your inventory, you see: a metal pot (conta...</td>\n      <td>you have metal pot with mercury in your inventory</td>\n      <td>0</td>\n      <td>ynie/roberta-large-snli_mnli_fever_anli_R1_R2_...</td>\n      <td>entailment</td>\n      <td>124</td>\n    </tr>\n    <tr>\n      <th>434</th>\n      <td>In your inventory, you see: a metal pot (conta...</td>\n      <td>you have metal pot with mercury in your inventory</td>\n      <td>0</td>\n      <td>ynie/roberta-large-snli_mnli_fever_anli_R1_R2_...</td>\n      <td>entailment</td>\n      <td>124</td>\n    </tr>\n    <tr>\n      <th>774</th>\n      <td>In your inventory, you see: a metal pot (conta...</td>\n      <td>you have metal pot with tin in your inventory</td>\n      <td>0</td>\n      <td>ynie/roberta-large-snli_mnli_fever_anli_R1_R2_...</td>\n      <td>entailment</td>\n      <td>119</td>\n    </tr>\n  </tbody>\n</table>\n</div>"
     },
     "metadata": {},
     "output_type": "display_data"
    }
   ],
   "source": [
    "df = filtered_nli_df[filtered_nli_df['model'].isin(['ynie/roberta-large-snli_mnli_fever_anli_R1_R2_R3-nli', 'roberta-large-mnli'])]\n",
    "for _, group_df in df[df['inference'] == 'entailment'].groupby(\"model\"):\n",
    "    display(group_df.sort_values(['h', 'p']))"
   ],
   "metadata": {
    "collapsed": false,
    "ExecuteTime": {
     "end_time": "2023-10-05T19:22:15.195813141Z",
     "start_time": "2023-10-05T19:22:15.016564735Z"
    }
   }
  },
  {
   "cell_type": "code",
   "execution_count": 86,
   "outputs": [],
   "source": [
    "gt_df = filtered_nli_df[filtered_nli_df['model'] == 'roberta-large-mnli'][['p', 'h', 'inference']].sort_values(['h', 'inference'])\n",
    "gt_df.loc[gt_df['inference'] != 'entailment' ,'inference'] = 'non_entailment'\n",
    "gt_df['y'] = 1 # temp\n",
    "gt_df.sort_values(['h', 'inference']).to_csv(\"ground_truth.csv\", index=False)"
   ],
   "metadata": {
    "collapsed": false,
    "ExecuteTime": {
     "end_time": "2023-10-05T18:14:34.377367748Z",
     "start_time": "2023-10-05T18:14:34.361275730Z"
    }
   }
  },
  {
   "cell_type": "code",
   "execution_count": null,
   "outputs": [],
   "source": [
    "# Não vale a pena medir ground thruth, pois minilm não gerou todos planos (falhou antes pois não deu sequência nos subgoals seguintes)"
   ],
   "metadata": {
    "collapsed": false
   }
  }
 ],
 "metadata": {
  "kernelspec": {
   "display_name": "Python 3",
   "language": "python",
   "name": "python3"
  },
  "language_info": {
   "codemirror_mode": {
    "name": "ipython",
    "version": 2
   },
   "file_extension": ".py",
   "mimetype": "text/x-python",
   "name": "python",
   "nbconvert_exporter": "python",
   "pygments_lexer": "ipython2",
   "version": "2.7.6"
  }
 },
 "nbformat": 4,
 "nbformat_minor": 0
}
