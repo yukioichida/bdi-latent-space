{
 "cells": [
  {
   "cell_type": "code",
   "execution_count": 2,
   "metadata": {
    "collapsed": true,
    "ExecuteTime": {
     "start_time": "2023-08-25T12:59:36.915815Z",
     "end_time": "2023-08-25T12:59:36.933512Z"
    }
   },
   "outputs": [],
   "source": [
    "from scienceworld import ScienceWorldEnv\n",
    "import re\n",
    "\n",
    "import pandas as pd"
   ]
  },
  {
   "cell_type": "code",
   "execution_count": 19,
   "outputs": [
    {
     "data": {
      "text/plain": "'grow-plant'"
     },
     "execution_count": 19,
     "metadata": {},
     "output_type": "execute_result"
    }
   ],
   "source": [
    "env = ScienceWorldEnv(\"\", \"\", envStepLimit=100)\n",
    "task_names = env.getTaskNames()\n",
    "task_name = [task for task in task_names if task == 'grow-plant'][0]\n",
    "task_name"
   ],
   "metadata": {
    "collapsed": false,
    "ExecuteTime": {
     "start_time": "2023-08-25T13:02:40.121838Z",
     "end_time": "2023-08-25T13:02:40.934644Z"
    }
   }
  },
  {
   "cell_type": "markdown",
   "source": [
    "# Task 4 - grow plant"
   ],
   "metadata": {
    "collapsed": false
   }
  },
  {
   "cell_type": "markdown",
   "source": [
    "## Orange Plant"
   ],
   "metadata": {
    "collapsed": false
   }
  },
  {
   "cell_type": "code",
   "execution_count": 50,
   "outputs": [
    {
     "data": {
      "text/plain": "                                          action  landmark  variation  order  \\\n0                           open door to hallway     False         96      0   \n1                                  go to hallway     False         96      1   \n2                       open door to living room     False         96      2   \n3                              go to living room     False         96      3   \n4                               pick up seed jar      True         96      4   \n5                           open door to hallway     False         96      5   \n6                                  go to hallway     False         96      6   \n7                       open door to green house     False         96      7   \n8                              go to green house     False         96      8   \n9   move orange seed in seed jar to flower pot 1     False         96      9   \n10                                             0      True         96     10   \n11          focus on orange seed in flower pot 1     False         96     11   \n12                                 activate sink      True         96     12   \n13                              move jug to sink      True         96     13   \n14                    pour jug into flower pot 1     False         96     14   \n15                               deactivate sink      True         96     15   \n16                                         wait1      True         96     16   \n17                                         wait1      True         96     17   \n18                                         wait1      True         96     18   \n19                                         wait1      True         96     19   \n20                                         wait1      True         96     20   \n21                                 activate sink      True         96     21   \n22                              move jug to sink      True         96     22   \n23                    pour jug into flower pot 1     False         96     23   \n24                               deactivate sink      True         96     24   \n25                                         wait1      True         96     25   \n26                                         wait1      True         96     26   \n27                                         wait1      True         96     27   \n\n                                             goal            task_id  \n0   Your task is to grow a orange plant from seed  task-4-grow-plant  \n1   Your task is to grow a orange plant from seed  task-4-grow-plant  \n2   Your task is to grow a orange plant from seed  task-4-grow-plant  \n3   Your task is to grow a orange plant from seed  task-4-grow-plant  \n4   Your task is to grow a orange plant from seed  task-4-grow-plant  \n5   Your task is to grow a orange plant from seed  task-4-grow-plant  \n6   Your task is to grow a orange plant from seed  task-4-grow-plant  \n7   Your task is to grow a orange plant from seed  task-4-grow-plant  \n8   Your task is to grow a orange plant from seed  task-4-grow-plant  \n9   Your task is to grow a orange plant from seed  task-4-grow-plant  \n10  Your task is to grow a orange plant from seed  task-4-grow-plant  \n11  Your task is to grow a orange plant from seed  task-4-grow-plant  \n12  Your task is to grow a orange plant from seed  task-4-grow-plant  \n13  Your task is to grow a orange plant from seed  task-4-grow-plant  \n14  Your task is to grow a orange plant from seed  task-4-grow-plant  \n15  Your task is to grow a orange plant from seed  task-4-grow-plant  \n16  Your task is to grow a orange plant from seed  task-4-grow-plant  \n17  Your task is to grow a orange plant from seed  task-4-grow-plant  \n18  Your task is to grow a orange plant from seed  task-4-grow-plant  \n19  Your task is to grow a orange plant from seed  task-4-grow-plant  \n20  Your task is to grow a orange plant from seed  task-4-grow-plant  \n21  Your task is to grow a orange plant from seed  task-4-grow-plant  \n22  Your task is to grow a orange plant from seed  task-4-grow-plant  \n23  Your task is to grow a orange plant from seed  task-4-grow-plant  \n24  Your task is to grow a orange plant from seed  task-4-grow-plant  \n25  Your task is to grow a orange plant from seed  task-4-grow-plant  \n26  Your task is to grow a orange plant from seed  task-4-grow-plant  \n27  Your task is to grow a orange plant from seed  task-4-grow-plant  ",
      "text/html": "<div>\n<style scoped>\n    .dataframe tbody tr th:only-of-type {\n        vertical-align: middle;\n    }\n\n    .dataframe tbody tr th {\n        vertical-align: top;\n    }\n\n    .dataframe thead th {\n        text-align: right;\n    }\n</style>\n<table border=\"1\" class=\"dataframe\">\n  <thead>\n    <tr style=\"text-align: right;\">\n      <th></th>\n      <th>action</th>\n      <th>landmark</th>\n      <th>variation</th>\n      <th>order</th>\n      <th>goal</th>\n      <th>task_id</th>\n    </tr>\n  </thead>\n  <tbody>\n    <tr>\n      <th>0</th>\n      <td>open door to hallway</td>\n      <td>False</td>\n      <td>96</td>\n      <td>0</td>\n      <td>Your task is to grow a orange plant from seed</td>\n      <td>task-4-grow-plant</td>\n    </tr>\n    <tr>\n      <th>1</th>\n      <td>go to hallway</td>\n      <td>False</td>\n      <td>96</td>\n      <td>1</td>\n      <td>Your task is to grow a orange plant from seed</td>\n      <td>task-4-grow-plant</td>\n    </tr>\n    <tr>\n      <th>2</th>\n      <td>open door to living room</td>\n      <td>False</td>\n      <td>96</td>\n      <td>2</td>\n      <td>Your task is to grow a orange plant from seed</td>\n      <td>task-4-grow-plant</td>\n    </tr>\n    <tr>\n      <th>3</th>\n      <td>go to living room</td>\n      <td>False</td>\n      <td>96</td>\n      <td>3</td>\n      <td>Your task is to grow a orange plant from seed</td>\n      <td>task-4-grow-plant</td>\n    </tr>\n    <tr>\n      <th>4</th>\n      <td>pick up seed jar</td>\n      <td>True</td>\n      <td>96</td>\n      <td>4</td>\n      <td>Your task is to grow a orange plant from seed</td>\n      <td>task-4-grow-plant</td>\n    </tr>\n    <tr>\n      <th>5</th>\n      <td>open door to hallway</td>\n      <td>False</td>\n      <td>96</td>\n      <td>5</td>\n      <td>Your task is to grow a orange plant from seed</td>\n      <td>task-4-grow-plant</td>\n    </tr>\n    <tr>\n      <th>6</th>\n      <td>go to hallway</td>\n      <td>False</td>\n      <td>96</td>\n      <td>6</td>\n      <td>Your task is to grow a orange plant from seed</td>\n      <td>task-4-grow-plant</td>\n    </tr>\n    <tr>\n      <th>7</th>\n      <td>open door to green house</td>\n      <td>False</td>\n      <td>96</td>\n      <td>7</td>\n      <td>Your task is to grow a orange plant from seed</td>\n      <td>task-4-grow-plant</td>\n    </tr>\n    <tr>\n      <th>8</th>\n      <td>go to green house</td>\n      <td>False</td>\n      <td>96</td>\n      <td>8</td>\n      <td>Your task is to grow a orange plant from seed</td>\n      <td>task-4-grow-plant</td>\n    </tr>\n    <tr>\n      <th>9</th>\n      <td>move orange seed in seed jar to flower pot 1</td>\n      <td>False</td>\n      <td>96</td>\n      <td>9</td>\n      <td>Your task is to grow a orange plant from seed</td>\n      <td>task-4-grow-plant</td>\n    </tr>\n    <tr>\n      <th>10</th>\n      <td>0</td>\n      <td>True</td>\n      <td>96</td>\n      <td>10</td>\n      <td>Your task is to grow a orange plant from seed</td>\n      <td>task-4-grow-plant</td>\n    </tr>\n    <tr>\n      <th>11</th>\n      <td>focus on orange seed in flower pot 1</td>\n      <td>False</td>\n      <td>96</td>\n      <td>11</td>\n      <td>Your task is to grow a orange plant from seed</td>\n      <td>task-4-grow-plant</td>\n    </tr>\n    <tr>\n      <th>12</th>\n      <td>activate sink</td>\n      <td>True</td>\n      <td>96</td>\n      <td>12</td>\n      <td>Your task is to grow a orange plant from seed</td>\n      <td>task-4-grow-plant</td>\n    </tr>\n    <tr>\n      <th>13</th>\n      <td>move jug to sink</td>\n      <td>True</td>\n      <td>96</td>\n      <td>13</td>\n      <td>Your task is to grow a orange plant from seed</td>\n      <td>task-4-grow-plant</td>\n    </tr>\n    <tr>\n      <th>14</th>\n      <td>pour jug into flower pot 1</td>\n      <td>False</td>\n      <td>96</td>\n      <td>14</td>\n      <td>Your task is to grow a orange plant from seed</td>\n      <td>task-4-grow-plant</td>\n    </tr>\n    <tr>\n      <th>15</th>\n      <td>deactivate sink</td>\n      <td>True</td>\n      <td>96</td>\n      <td>15</td>\n      <td>Your task is to grow a orange plant from seed</td>\n      <td>task-4-grow-plant</td>\n    </tr>\n    <tr>\n      <th>16</th>\n      <td>wait1</td>\n      <td>True</td>\n      <td>96</td>\n      <td>16</td>\n      <td>Your task is to grow a orange plant from seed</td>\n      <td>task-4-grow-plant</td>\n    </tr>\n    <tr>\n      <th>17</th>\n      <td>wait1</td>\n      <td>True</td>\n      <td>96</td>\n      <td>17</td>\n      <td>Your task is to grow a orange plant from seed</td>\n      <td>task-4-grow-plant</td>\n    </tr>\n    <tr>\n      <th>18</th>\n      <td>wait1</td>\n      <td>True</td>\n      <td>96</td>\n      <td>18</td>\n      <td>Your task is to grow a orange plant from seed</td>\n      <td>task-4-grow-plant</td>\n    </tr>\n    <tr>\n      <th>19</th>\n      <td>wait1</td>\n      <td>True</td>\n      <td>96</td>\n      <td>19</td>\n      <td>Your task is to grow a orange plant from seed</td>\n      <td>task-4-grow-plant</td>\n    </tr>\n    <tr>\n      <th>20</th>\n      <td>wait1</td>\n      <td>True</td>\n      <td>96</td>\n      <td>20</td>\n      <td>Your task is to grow a orange plant from seed</td>\n      <td>task-4-grow-plant</td>\n    </tr>\n    <tr>\n      <th>21</th>\n      <td>activate sink</td>\n      <td>True</td>\n      <td>96</td>\n      <td>21</td>\n      <td>Your task is to grow a orange plant from seed</td>\n      <td>task-4-grow-plant</td>\n    </tr>\n    <tr>\n      <th>22</th>\n      <td>move jug to sink</td>\n      <td>True</td>\n      <td>96</td>\n      <td>22</td>\n      <td>Your task is to grow a orange plant from seed</td>\n      <td>task-4-grow-plant</td>\n    </tr>\n    <tr>\n      <th>23</th>\n      <td>pour jug into flower pot 1</td>\n      <td>False</td>\n      <td>96</td>\n      <td>23</td>\n      <td>Your task is to grow a orange plant from seed</td>\n      <td>task-4-grow-plant</td>\n    </tr>\n    <tr>\n      <th>24</th>\n      <td>deactivate sink</td>\n      <td>True</td>\n      <td>96</td>\n      <td>24</td>\n      <td>Your task is to grow a orange plant from seed</td>\n      <td>task-4-grow-plant</td>\n    </tr>\n    <tr>\n      <th>25</th>\n      <td>wait1</td>\n      <td>True</td>\n      <td>96</td>\n      <td>25</td>\n      <td>Your task is to grow a orange plant from seed</td>\n      <td>task-4-grow-plant</td>\n    </tr>\n    <tr>\n      <th>26</th>\n      <td>wait1</td>\n      <td>True</td>\n      <td>96</td>\n      <td>26</td>\n      <td>Your task is to grow a orange plant from seed</td>\n      <td>task-4-grow-plant</td>\n    </tr>\n    <tr>\n      <th>27</th>\n      <td>wait1</td>\n      <td>True</td>\n      <td>96</td>\n      <td>27</td>\n      <td>Your task is to grow a orange plant from seed</td>\n      <td>task-4-grow-plant</td>\n    </tr>\n  </tbody>\n</table>\n</div>"
     },
     "execution_count": 50,
     "metadata": {},
     "output_type": "execute_result"
    }
   ],
   "source": [
    "#\n",
    "variation = 96\n",
    "# 1 and 7 is generating the corect plan\n",
    "task_df = pd.read_csv(f\"../plans/plans_csv/task-4-grow-plant/your_task_is_to_grow_a_orange_plant_from_seed/{variation}.csv\")\n",
    "task_df"
   ],
   "metadata": {
    "collapsed": false,
    "ExecuteTime": {
     "start_time": "2023-08-25T14:17:25.675915Z",
     "end_time": "2023-08-25T14:17:25.701767Z"
    }
   }
  },
  {
   "cell_type": "code",
   "execution_count": 51,
   "outputs": [
    {
     "name": "stdout",
     "output_type": "stream",
     "text": [
      "---- Step 0 | action: open door to hallway | Finish False | reward 0 -----\n",
      "The door is now open.\n",
      "---- Step 1 | action: go to hallway | Finish False | reward 1 -----\n",
      "You move to the hallway.\n",
      "---- Step 2 | action: open door to living room | Finish False | reward 0 -----\n",
      "The door is now open.\n",
      "---- Step 3 | action: go to living room | Finish False | reward 1 -----\n",
      "You move to the living room.\n",
      "---- Step 4 | action: pick up seed jar | Finish False | reward 2 -----\n",
      "You move the seed jar to the inventory.\n",
      "---- Step 5 | action: open door to hallway | Finish False | reward 0 -----\n",
      "The door is already open.\n",
      "---- Step 6 | action: go to hallway | Finish False | reward 0 -----\n",
      "You move to the hallway.\n",
      "---- Step 7 | action: open door to greenhouse | Finish False | reward 0 -----\n",
      "The door is now open.\n",
      "---- Step 8 | action: go to greenhouse | Finish False | reward 7 -----\n",
      "You move to the greenhouse.\n",
      "---- Step 9 | action: move orange seed in seed jar to flower pot 1 | Finish False | reward 0 -----\n",
      "Ambiguous request: Please enter the number for the action you intended (or blank to cancel):\n",
      "0:\tmove orange seed (in seed jar, in inventory, in agent, in greenhouse) to flower pot 1 (in greenhouse)\n",
      "1:\tmove orange seed (in seed jar, in inventory, in agent, in greenhouse) to flower pot 1 (in greenhouse)\n",
      "2:\tmove orange seed (in seed jar, in inventory, in agent, in greenhouse) to flower pot 1 (in greenhouse)\n",
      "3:\tmove orange seed (in seed jar, in inventory, in agent, in greenhouse) to flower pot 1 (in greenhouse)\n",
      "4:\tmove orange seed (in seed jar, in inventory, in agent, in greenhouse) to flower pot 1 (in greenhouse)\n",
      "\n",
      "---- Step 10 | action: 0 | Finish False | reward 1 -----\n",
      "You move the orange seed to the flower pot 1.\n",
      "---- Step 11 | action: focus on orange seed in flower pot 1 | Finish False | reward 25 -----\n",
      "You focus on the orange seed.\n",
      "---- Step 12 | action: activate sink | Finish False | reward 0 -----\n",
      "The sink is now activated.\n",
      "---- Step 13 | action: move jug to sink | Finish False | reward 0 -----\n",
      "You move the jug to the sink.\n",
      "---- Step 14 | action: pour jug into flower pot 1 | Finish False | reward 1 -----\n",
      "You pour the contents of the jug into the flower pot 1.\n",
      "---- Step 15 | action: deactivate sink | Finish False | reward 0 -----\n",
      "The sink is now deactivated.\n",
      "---- Step 16 | action: wait1 | Finish False | reward 0 -----\n",
      "You decide to wait for 1 iterations.\n",
      "---- Step 17 | action: wait1 | Finish False | reward 0 -----\n",
      "You decide to wait for 1 iterations.\n",
      "---- Step 18 | action: wait1 | Finish False | reward 0 -----\n",
      "You decide to wait for 1 iterations.\n",
      "---- Step 19 | action: wait1 | Finish False | reward 25 -----\n",
      "You decide to wait for 1 iterations.\n",
      "---- Step 20 | action: wait1 | Finish False | reward 0 -----\n",
      "You decide to wait for 1 iterations.\n",
      "---- Step 21 | action: activate sink | Finish False | reward 0 -----\n",
      "The sink is now activated.\n",
      "---- Step 22 | action: move jug to sink | Finish False | reward 0 -----\n",
      "You move the jug to the sink.\n",
      "---- Step 23 | action: pour jug into flower pot 1 | Finish False | reward 0 -----\n",
      "You pour the contents of the jug into the flower pot 1.\n",
      "---- Step 24 | action: deactivate sink | Finish False | reward 0 -----\n",
      "The sink is now deactivated.\n",
      "---- Step 25 | action: wait1 | Finish False | reward 0 -----\n",
      "You decide to wait for 1 iterations.\n",
      "---- Step 26 | action: wait1 | Finish False | reward 0 -----\n",
      "You decide to wait for 1 iterations.\n",
      "---- Step 27 | action: wait1 | Finish False | reward 0 -----\n",
      "You decide to wait for 1 iterations.\n",
      "This room is called the greenhouse. In it, you see: \n",
      "\tthe agent\n",
      "\ta substance called air\n",
      "\ta bee hive. The bee hive door is closed. \n",
      "\ta flower pot 1 (containing a orange tree in the seedling stage, soil, a substance called water)\n",
      "\ta flower pot 2 (containing soil)\n",
      "\ta flower pot 3 (containing soil)\n",
      "\ta shovel\n",
      "\ta sink, which is turned off. In the sink is: a jug (containing a substance called water).\n",
      "You also see:\n",
      "\tA door to the hallway (that is open)\n",
      "\tA door to the outside (that is closed)\n",
      "\n",
      "Completed keys: move1, move2, haveSeedJar\n",
      "----------------------------------------------------------------------------------------------------\n",
      "Sequential Subgoals:\n",
      "----------------------------------------------------------------------------------------------------\n",
      "0\ttrue\t                           GoalLifeStage\tfocus plant is in seed stage\n",
      "1\ttrue\t                           GoalLifeStage\tfocus plant is in seedling stage\n",
      "2\tfalse\t                           GoalLifeStage\tfocus plant is in adult stage\n",
      "3\tfalse\t                           GoalLifeStage\tfocus plant is in reproducing stage\n",
      "----------------------------------------------------------------------------------------------------\n",
      "Unordered and Optional Subgoals:\n",
      "----------------------------------------------------------------------------------------------------\n",
      "0\ttrue\t                    GoalInRoomWithObject\tbe in same location as seed jar\n",
      "1\ttrue\t     GoalSpecificObjectInDirectContainer\thave seed jar in inventory\n",
      "2\tfalse\t     GoalSpecificObjectInDirectContainer\thave shovel in inventory\n",
      "3\tfalse\t     GoalSpecificObjectInDirectContainer\thave soil in inventory\n",
      "4\ttrue\t                    GoalInRoomWithObject\tbe in same location as soil\n",
      "5\ttrue\t                   GoalMoveToNewLocation\tmove to a new location\n",
      "6\ttrue\t                      GoalMoveToLocation\tmove to the greenhouse\n",
      "7\ttrue\t                      GoalMoveToLocation\tmove to the greenhouse (after having seed jar)\n",
      "8\ttrue\t     GoalSpecificObjectInDirectContainer\thave soil in flower pot (1)\n",
      "9\ttrue\t     GoalSpecificObjectInDirectContainer\thave soil in flower pot (2)\n",
      "10\ttrue\t     GoalSpecificObjectInDirectContainer\thave soil in flower pot (3)\n",
      "11\ttrue\t     GoalSpecificObjectInDirectContainer\thave water in flower pot (1)\n",
      "12\tfalse\t     GoalSpecificObjectInDirectContainer\thave water in flower pot (2)\n",
      "13\tfalse\t     GoalSpecificObjectInDirectContainer\thave water in flower pot (3)\n",
      "14\ttrue\t     GoalSpecificObjectInDirectContainer\thave seed in flower pot (1)\n",
      "15\tfalse\t     GoalSpecificObjectInDirectContainer\thave seed in flower pot (2)\n",
      "16\tfalse\t     GoalSpecificObjectInDirectContainer\thave seed in flower pot (3)\n",
      "----------------------------------------------------------------------------------------------------\n",
      "\n"
     ]
    }
   ],
   "source": [
    "plan = task_df['action'].values\n",
    "env.load(task_name, variation)\n",
    "# Reset the environment\n",
    "observation, info = env.reset()\n",
    "for i, action in enumerate(plan):\n",
    "    action = action.replace(\"green house\", \"greenhouse\")\n",
    "    observation, reward, isCompleted, info = env.step(action)\n",
    "    print(f\"---- Step {i} | action: {action} | Finish {isCompleted} | reward {reward} -----\")\n",
    "    print(observation)\n",
    "print(info['look'])\n",
    "print(env.getGoalProgressStr())"
   ],
   "metadata": {
    "collapsed": false,
    "ExecuteTime": {
     "start_time": "2023-08-25T14:17:27.319675Z",
     "end_time": "2023-08-25T14:17:30.397577Z"
    }
   }
  },
  {
   "cell_type": "code",
   "execution_count": 52,
   "outputs": [
    {
     "name": "stdout",
     "output_type": "stream",
     "text": [
      "---- Step 0 | action: open door to hallway | Finish False | reward 0 -----\n",
      "The door is already open.\n",
      "---- Step 1 | action: go to hallway | Finish False | reward 25 -----\n",
      "You move to the hallway.\n",
      "---- Step 2 | action: open door to living room | Finish False | reward 0 -----\n",
      "The door is already open.\n",
      "---- Step 3 | action: go to living room | Finish False | reward 0 -----\n",
      "You move to the living room.\n",
      "---- Step 4 | action: pick up seed jar | Finish False | reward 0 -----\n",
      "You move the seed jar to the inventory.\n",
      "---- Step 5 | action: open door to hallway | Finish False | reward 0 -----\n",
      "The door is already open.\n",
      "---- Step 6 | action: go to hallway | Finish True | reward 12 -----\n",
      "You move to the hallway.\n",
      "---- Step 7 | action: open door to greenhouse | Finish True | reward 0 -----\n",
      "The door is already open.\n",
      "---- Step 8 | action: go to greenhouse | Finish True | reward 0 -----\n",
      "You move to the greenhouse.\n",
      "---- Step 9 | action: move orange seed in seed jar to flower pot 1 | Finish True | reward 0 -----\n",
      "Ambiguous request: Please enter the number for the action you intended (or blank to cancel):\n",
      "0:\tmove orange seed (in seed jar, in inventory, in agent, in greenhouse) to flower pot 1 (in greenhouse)\n",
      "1:\tmove orange seed (in seed jar, in inventory, in agent, in greenhouse) to flower pot 1 (in greenhouse)\n",
      "2:\tmove orange seed (in seed jar, in inventory, in agent, in greenhouse) to flower pot 1 (in greenhouse)\n",
      "3:\tmove orange seed (in seed jar, in inventory, in agent, in greenhouse) to flower pot 1 (in greenhouse)\n",
      "\n",
      "---- Step 10 | action: 0 | Finish True | reward 0 -----\n",
      "You move the orange seed to the flower pot 1.\n",
      "---- Step 11 | action: focus on orange seed in flower pot 1 | Finish True | reward 0 -----\n",
      "You focus on the orange seed.\n",
      "---- Step 12 | action: activate sink | Finish True | reward 0 -----\n",
      "The sink is now activated.\n",
      "---- Step 13 | action: move jug to sink | Finish True | reward 0 -----\n",
      "You move the jug to the sink.\n",
      "---- Step 14 | action: pour jug into flower pot 1 | Finish True | reward 0 -----\n",
      "You pour the contents of the jug into the flower pot 1.\n",
      "---- Step 15 | action: deactivate sink | Finish True | reward 0 -----\n",
      "The sink is now deactivated.\n",
      "---- Step 16 | action: wait1 | Finish True | reward 0 -----\n",
      "You decide to wait for 1 iterations.\n",
      "---- Step 17 | action: wait1 | Finish True | reward 0 -----\n",
      "You decide to wait for 1 iterations.\n",
      "---- Step 18 | action: wait1 | Finish True | reward 0 -----\n",
      "You decide to wait for 1 iterations.\n",
      "---- Step 19 | action: wait1 | Finish True | reward 0 -----\n",
      "You decide to wait for 1 iterations.\n",
      "---- Step 20 | action: wait1 | Finish True | reward 0 -----\n",
      "You decide to wait for 1 iterations.\n",
      "---- Step 21 | action: activate sink | Finish True | reward 0 -----\n",
      "The sink is now activated.\n",
      "---- Step 22 | action: move jug to sink | Finish True | reward 0 -----\n",
      "You move the jug to the sink.\n",
      "---- Step 23 | action: pour jug into flower pot 1 | Finish True | reward 0 -----\n",
      "You pour the contents of the jug into the flower pot 1.\n",
      "---- Step 24 | action: deactivate sink | Finish True | reward 0 -----\n",
      "The sink is now deactivated.\n",
      "---- Step 25 | action: wait1 | Finish True | reward 0 -----\n",
      "You decide to wait for 1 iterations.\n",
      "---- Step 26 | action: wait1 | Finish True | reward 0 -----\n",
      "You decide to wait for 1 iterations.\n",
      "---- Step 27 | action: wait1 | Finish True | reward 0 -----\n",
      "You decide to wait for 1 iterations.\n",
      "This room is called the greenhouse. In it, you see: \n",
      "\tthe agent\n",
      "\ta substance called air\n",
      "\ta bee hive. The bee hive door is closed. \n",
      "\ta flower pot 1 (containing a orange seed, a orange tree in the reproducing stage. On the orange tree you see: a flower. , soil)\n",
      "\ta flower pot 2 (containing soil)\n",
      "\ta flower pot 3 (containing soil)\n",
      "\ta shovel\n",
      "\ta sink, which is turned off. In the sink is: a jug (containing a substance called water).\n",
      "You also see:\n",
      "\tA door to the hallway (that is open)\n",
      "\tA door to the outside (that is closed)\n",
      "\n",
      "Completed keys: move1, move2, haveSeedJar\n",
      "----------------------------------------------------------------------------------------------------\n",
      "Sequential Subgoals:\n",
      "----------------------------------------------------------------------------------------------------\n",
      "0\ttrue\t                           GoalLifeStage\tfocus plant is in seed stage\n",
      "1\ttrue\t                           GoalLifeStage\tfocus plant is in seedling stage\n",
      "2\ttrue\t                           GoalLifeStage\tfocus plant is in adult stage\n",
      "3\ttrue\t                           GoalLifeStage\tfocus plant is in reproducing stage\n",
      "----------------------------------------------------------------------------------------------------\n",
      "Unordered and Optional Subgoals:\n",
      "----------------------------------------------------------------------------------------------------\n",
      "0\ttrue\t                    GoalInRoomWithObject\tbe in same location as seed jar\n",
      "1\ttrue\t     GoalSpecificObjectInDirectContainer\thave seed jar in inventory\n",
      "2\tfalse\t     GoalSpecificObjectInDirectContainer\thave shovel in inventory\n",
      "3\tfalse\t     GoalSpecificObjectInDirectContainer\thave soil in inventory\n",
      "4\ttrue\t                    GoalInRoomWithObject\tbe in same location as soil\n",
      "5\ttrue\t                   GoalMoveToNewLocation\tmove to a new location\n",
      "6\ttrue\t                      GoalMoveToLocation\tmove to the greenhouse\n",
      "7\ttrue\t                      GoalMoveToLocation\tmove to the greenhouse (after having seed jar)\n",
      "8\ttrue\t     GoalSpecificObjectInDirectContainer\thave soil in flower pot (1)\n",
      "9\ttrue\t     GoalSpecificObjectInDirectContainer\thave soil in flower pot (2)\n",
      "10\ttrue\t     GoalSpecificObjectInDirectContainer\thave soil in flower pot (3)\n",
      "11\ttrue\t     GoalSpecificObjectInDirectContainer\thave water in flower pot (1)\n",
      "12\tfalse\t     GoalSpecificObjectInDirectContainer\thave water in flower pot (2)\n",
      "13\tfalse\t     GoalSpecificObjectInDirectContainer\thave water in flower pot (3)\n",
      "14\ttrue\t     GoalSpecificObjectInDirectContainer\thave seed in flower pot (1)\n",
      "15\tfalse\t     GoalSpecificObjectInDirectContainer\thave seed in flower pot (2)\n",
      "16\tfalse\t     GoalSpecificObjectInDirectContainer\thave seed in flower pot (3)\n",
      "----------------------------------------------------------------------------------------------------\n",
      "\n"
     ]
    }
   ],
   "source": [
    "for i, action in enumerate(plan):\n",
    "    action = action.replace(\"green house\", \"greenhouse\")\n",
    "    observation, reward, isCompleted, info = env.step(action)\n",
    "    print(f\"---- Step {i} | action: {action} | Finish {isCompleted} | reward {reward} -----\")\n",
    "    print(observation)\n",
    "print(info['look'])\n",
    "print(env.getGoalProgressStr())"
   ],
   "metadata": {
    "collapsed": false,
    "ExecuteTime": {
     "start_time": "2023-08-25T14:17:43.729773Z",
     "end_time": "2023-08-25T14:17:47.025255Z"
    }
   }
  },
  {
   "cell_type": "code",
   "execution_count": 6,
   "outputs": [
    {
     "data": {
      "text/plain": "                                               action  landmark  variation  \\\n0                            open door to living room     False          7   \n1                                   go to living room     False          7   \n2                                    pick up seed jar      True          7   \n3                                open door to hallway     False          7   \n4                                       go to hallway     False          7   \n..                                                ...       ...        ...   \n76                                   move jug to sink      True          7   \n77                         pour jug into flower pot 2      True          7   \n78                                    deactivate sink      True          7   \n79  focus on apple in apple tree in the reproducin...     False          7   \n80                                                  0      True          7   \n\n    order                          goal            task_id  \n0       0  Your task is to grow a apple  task-4-grow-fruit  \n1       1  Your task is to grow a apple  task-4-grow-fruit  \n2       2  Your task is to grow a apple  task-4-grow-fruit  \n3       3  Your task is to grow a apple  task-4-grow-fruit  \n4       4  Your task is to grow a apple  task-4-grow-fruit  \n..    ...                           ...                ...  \n76     76  Your task is to grow a apple  task-4-grow-fruit  \n77     77  Your task is to grow a apple  task-4-grow-fruit  \n78     78  Your task is to grow a apple  task-4-grow-fruit  \n79     79  Your task is to grow a apple  task-4-grow-fruit  \n80     80  Your task is to grow a apple  task-4-grow-fruit  \n\n[81 rows x 6 columns]",
      "text/html": "<div>\n<style scoped>\n    .dataframe tbody tr th:only-of-type {\n        vertical-align: middle;\n    }\n\n    .dataframe tbody tr th {\n        vertical-align: top;\n    }\n\n    .dataframe thead th {\n        text-align: right;\n    }\n</style>\n<table border=\"1\" class=\"dataframe\">\n  <thead>\n    <tr style=\"text-align: right;\">\n      <th></th>\n      <th>action</th>\n      <th>landmark</th>\n      <th>variation</th>\n      <th>order</th>\n      <th>goal</th>\n      <th>task_id</th>\n    </tr>\n  </thead>\n  <tbody>\n    <tr>\n      <th>0</th>\n      <td>open door to living room</td>\n      <td>False</td>\n      <td>7</td>\n      <td>0</td>\n      <td>Your task is to grow a apple</td>\n      <td>task-4-grow-fruit</td>\n    </tr>\n    <tr>\n      <th>1</th>\n      <td>go to living room</td>\n      <td>False</td>\n      <td>7</td>\n      <td>1</td>\n      <td>Your task is to grow a apple</td>\n      <td>task-4-grow-fruit</td>\n    </tr>\n    <tr>\n      <th>2</th>\n      <td>pick up seed jar</td>\n      <td>True</td>\n      <td>7</td>\n      <td>2</td>\n      <td>Your task is to grow a apple</td>\n      <td>task-4-grow-fruit</td>\n    </tr>\n    <tr>\n      <th>3</th>\n      <td>open door to hallway</td>\n      <td>False</td>\n      <td>7</td>\n      <td>3</td>\n      <td>Your task is to grow a apple</td>\n      <td>task-4-grow-fruit</td>\n    </tr>\n    <tr>\n      <th>4</th>\n      <td>go to hallway</td>\n      <td>False</td>\n      <td>7</td>\n      <td>4</td>\n      <td>Your task is to grow a apple</td>\n      <td>task-4-grow-fruit</td>\n    </tr>\n    <tr>\n      <th>...</th>\n      <td>...</td>\n      <td>...</td>\n      <td>...</td>\n      <td>...</td>\n      <td>...</td>\n      <td>...</td>\n    </tr>\n    <tr>\n      <th>76</th>\n      <td>move jug to sink</td>\n      <td>True</td>\n      <td>7</td>\n      <td>76</td>\n      <td>Your task is to grow a apple</td>\n      <td>task-4-grow-fruit</td>\n    </tr>\n    <tr>\n      <th>77</th>\n      <td>pour jug into flower pot 2</td>\n      <td>True</td>\n      <td>7</td>\n      <td>77</td>\n      <td>Your task is to grow a apple</td>\n      <td>task-4-grow-fruit</td>\n    </tr>\n    <tr>\n      <th>78</th>\n      <td>deactivate sink</td>\n      <td>True</td>\n      <td>7</td>\n      <td>78</td>\n      <td>Your task is to grow a apple</td>\n      <td>task-4-grow-fruit</td>\n    </tr>\n    <tr>\n      <th>79</th>\n      <td>focus on apple in apple tree in the reproducin...</td>\n      <td>False</td>\n      <td>7</td>\n      <td>79</td>\n      <td>Your task is to grow a apple</td>\n      <td>task-4-grow-fruit</td>\n    </tr>\n    <tr>\n      <th>80</th>\n      <td>0</td>\n      <td>True</td>\n      <td>7</td>\n      <td>80</td>\n      <td>Your task is to grow a apple</td>\n      <td>task-4-grow-fruit</td>\n    </tr>\n  </tbody>\n</table>\n<p>81 rows × 6 columns</p>\n</div>"
     },
     "execution_count": 6,
     "metadata": {},
     "output_type": "execute_result"
    }
   ],
   "source": [
    "#\n",
    "variation = 7\n",
    "# 1 and 7 is generating the corect plan\n",
    "task_df = pd.read_csv(f\"../data/plans_csv/task-4-grow-plant/your_task_is_to_grow_a_orange_plant_from_seed/{variation}.csv\")\n",
    "task_df"
   ],
   "metadata": {
    "collapsed": false,
    "ExecuteTime": {
     "start_time": "2023-08-25T12:59:38.833604Z",
     "end_time": "2023-08-25T12:59:38.847699Z"
    }
   }
  },
  {
   "cell_type": "code",
   "execution_count": 7,
   "outputs": [
    {
     "name": "stdout",
     "output_type": "stream",
     "text": [
      "Task Name: grow-fruit variation 7\n",
      "Task Variation: 7\n",
      "Task Description: Your task is to grow a apple. This will require growing several plants, and them being crosspollinated to produce fruit.  Seeds can be found in the living room. To complete the task, focus on the grown apple.\n",
      "---- Step 0 | action: open door to living room | Finish False | reward 0 -----\n",
      "The door is now open.\n",
      "---- Step 1 | action: go to living room | Finish False | reward 7 -----\n",
      "You move to the living room.\n",
      "---- Step 2 | action: pick up seed jar | Finish False | reward 2 -----\n",
      "You move the seed jar to the inventory.\n",
      "---- Step 3 | action: open door to hallway | Finish False | reward 0 -----\n",
      "The door is already open.\n",
      "---- Step 4 | action: go to hallway | Finish False | reward 0 -----\n",
      "You move to the hallway.\n",
      "---- Step 5 | action: open door to greenhouse | Finish False | reward 0 -----\n",
      "The door is now open.\n",
      "---- Step 6 | action: go to greenhouse | Finish False | reward 5 -----\n",
      "You move to the greenhouse.\n",
      "---- Step 7 | action: move soil to flower pot 3 | Finish False | reward 2 -----\n",
      "You move the soil to the flower pot 3.\n",
      "---- Step 8 | action: pick up shovel | Finish False | reward 2 -----\n",
      "You move the shovel to the inventory.\n",
      "---- Step 9 | action: open door to outside | Finish False | reward 0 -----\n",
      "The door is now open.\n",
      "---- Step 10 | action: go to outside | Finish False | reward 0 -----\n",
      "You move to the outside.\n",
      "---- Step 11 | action: use shovel in inventory on ground | Finish False | reward 0 -----\n",
      "You dig a hole in the ground, and place the soil nearby.\n",
      "---- Step 12 | action: pick up soil | Finish False | reward 2 -----\n",
      "You move the soil to the inventory.\n",
      "---- Step 13 | action: open door to greenhouse | Finish False | reward 0 -----\n",
      "The door is already open.\n",
      "---- Step 14 | action: go to greenhouse | Finish False | reward 0 -----\n",
      "You move to the greenhouse.\n",
      "---- Step 15 | action: move soil in inventory to flower pot 1 | Finish False | reward 1 -----\n",
      "You move the soil to the flower pot 1.\n",
      "---- Step 16 | action: open door to outside | Finish False | reward 0 -----\n",
      "The door is already open.\n",
      "---- Step 17 | action: go to outside | Finish False | reward 0 -----\n",
      "You move to the outside.\n",
      "---- Step 18 | action: use shovel in inventory on ground | Finish False | reward 0 -----\n",
      "You dig a hole in the ground, and place the soil nearby.\n",
      "---- Step 19 | action: pick up soil | Finish False | reward 0 -----\n",
      "You move the soil to the inventory.\n",
      "---- Step 20 | action: open door to greenhouse | Finish False | reward 0 -----\n",
      "The door is already open.\n",
      "---- Step 21 | action: go to greenhouse | Finish False | reward 0 -----\n",
      "You move to the greenhouse.\n",
      "---- Step 22 | action: move soil in inventory to flower pot 2 | Finish False | reward 2 -----\n",
      "You move the soil to the flower pot 2.\n",
      "---- Step 23 | action: move apple seed in seed jar to flower pot 3 | Finish False | reward 0 -----\n",
      "Ambiguous request: Please enter the number for the action you intended (or blank to cancel):\n",
      "0:\tmove apple seed (in seed jar, in inventory, in agent, in greenhouse) to flower pot 3 (in greenhouse)\n",
      "1:\tmove apple seed (in seed jar, in inventory, in agent, in greenhouse) to flower pot 3 (in greenhouse)\n",
      "2:\tmove apple seed (in seed jar, in inventory, in agent, in greenhouse) to flower pot 3 (in greenhouse)\n",
      "3:\tmove apple seed (in seed jar, in inventory, in agent, in greenhouse) to flower pot 3 (in greenhouse)\n",
      "4:\tmove apple seed (in seed jar, in inventory, in agent, in greenhouse) to flower pot 3 (in greenhouse)\n",
      "\n",
      "---- Step 24 | action: 0 | Finish False | reward 2 -----\n",
      "You move the apple seed to the flower pot 3.\n",
      "---- Step 25 | action: move apple seed in seed jar to flower pot 1 | Finish False | reward 0 -----\n",
      "Ambiguous request: Please enter the number for the action you intended (or blank to cancel):\n",
      "0:\tmove apple seed (in seed jar, in inventory, in agent, in greenhouse) to flower pot 1 (in greenhouse)\n",
      "1:\tmove apple seed (in seed jar, in inventory, in agent, in greenhouse) to flower pot 1 (in greenhouse)\n",
      "2:\tmove apple seed (in seed jar, in inventory, in agent, in greenhouse) to flower pot 1 (in greenhouse)\n",
      "3:\tmove apple seed (in seed jar, in inventory, in agent, in greenhouse) to flower pot 1 (in greenhouse)\n",
      "\n",
      "---- Step 26 | action: 0 | Finish False | reward 2 -----\n",
      "You move the apple seed to the flower pot 1.\n",
      "---- Step 27 | action: move apple seed in seed jar to flower pot 2 | Finish False | reward 0 -----\n",
      "Ambiguous request: Please enter the number for the action you intended (or blank to cancel):\n",
      "0:\tmove apple seed (in seed jar, in inventory, in agent, in greenhouse) to flower pot 2 (in greenhouse)\n",
      "1:\tmove apple seed (in seed jar, in inventory, in agent, in greenhouse) to flower pot 2 (in greenhouse)\n",
      "2:\tmove apple seed (in seed jar, in inventory, in agent, in greenhouse) to flower pot 2 (in greenhouse)\n",
      "\n",
      "---- Step 28 | action: 0 | Finish False | reward 2 -----\n",
      "You move the apple seed to the flower pot 2.\n",
      "---- Step 29 | action: activate sink | Finish False | reward 0 -----\n",
      "The sink is now activated.\n",
      "---- Step 30 | action: move jug to sink | Finish False | reward 0 -----\n",
      "You move the jug to the sink.\n",
      "---- Step 31 | action: pour jug into flower pot 3 | Finish False | reward 1 -----\n",
      "You pour the contents of the jug into the flower pot 3.\n",
      "---- Step 32 | action: move jug to sink | Finish False | reward 0 -----\n",
      "You move the jug to the sink.\n",
      "---- Step 33 | action: pour jug into flower pot 1 | Finish False | reward 2 -----\n",
      "You pour the contents of the jug into the flower pot 1.\n",
      "---- Step 34 | action: move jug to sink | Finish False | reward 0 -----\n",
      "You move the jug to the sink.\n",
      "---- Step 35 | action: pour jug into flower pot 2 | Finish False | reward 2 -----\n",
      "You pour the contents of the jug into the flower pot 2.\n",
      "---- Step 36 | action: deactivate sink | Finish False | reward 0 -----\n",
      "The sink is now deactivated.\n",
      "---- Step 37 | action: wait1 | Finish False | reward 0 -----\n",
      "You decide to wait for 1 iterations.\n",
      "---- Step 38 | action: wait1 | Finish False | reward 2 -----\n",
      "You decide to wait for 1 iterations.\n",
      "---- Step 39 | action: wait1 | Finish False | reward 1 -----\n",
      "You decide to wait for 1 iterations.\n",
      "---- Step 40 | action: wait1 | Finish False | reward 0 -----\n",
      "You decide to wait for 1 iterations.\n",
      "---- Step 41 | action: wait1 | Finish False | reward 0 -----\n",
      "You decide to wait for 1 iterations.\n",
      "---- Step 42 | action: activate sink | Finish False | reward 0 -----\n",
      "The sink is now activated.\n",
      "---- Step 43 | action: move jug to sink | Finish False | reward 0 -----\n",
      "You move the jug to the sink.\n",
      "---- Step 44 | action: pour jug into flower pot 3 | Finish False | reward 0 -----\n",
      "You pour the contents of the jug into the flower pot 3.\n",
      "---- Step 45 | action: move jug to sink | Finish False | reward 0 -----\n",
      "You move the jug to the sink.\n",
      "---- Step 46 | action: pour jug into flower pot 1 | Finish False | reward 0 -----\n",
      "You pour the contents of the jug into the flower pot 1.\n",
      "---- Step 47 | action: move jug to sink | Finish False | reward 0 -----\n",
      "You move the jug to the sink.\n",
      "---- Step 48 | action: pour jug into flower pot 2 | Finish False | reward 0 -----\n",
      "You pour the contents of the jug into the flower pot 2.\n",
      "---- Step 49 | action: deactivate sink | Finish False | reward 0 -----\n",
      "The sink is now deactivated.\n",
      "---- Step 50 | action: close door to hallway | Finish False | reward 0 -----\n",
      "The door is now closed.\n",
      "---- Step 51 | action: close door to outside | Finish False | reward 0 -----\n",
      "The door is now closed.\n",
      "---- Step 52 | action: open bee hive | Finish False | reward 2 -----\n",
      "The bee hive is now open.\n",
      "---- Step 53 | action: wait1 | Finish False | reward 2 -----\n",
      "You decide to wait for 1 iterations.\n",
      "---- Step 54 | action: wait1 | Finish False | reward 2 -----\n",
      "You decide to wait for 1 iterations.\n",
      "---- Step 55 | action: wait1 | Finish False | reward 2 -----\n",
      "You decide to wait for 1 iterations.\n",
      "---- Step 56 | action: wait1 | Finish False | reward 3 -----\n",
      "You decide to wait for 1 iterations.\n",
      "---- Step 57 | action: wait1 | Finish False | reward 0 -----\n",
      "You decide to wait for 1 iterations.\n",
      "---- Step 58 | action: activate sink | Finish False | reward 0 -----\n",
      "The sink is now activated.\n",
      "---- Step 59 | action: move jug to sink | Finish False | reward 0 -----\n",
      "You move the jug to the sink.\n",
      "---- Step 60 | action: pour jug into flower pot 3 | Finish False | reward 0 -----\n",
      "You pour the contents of the jug into the flower pot 3.\n",
      "---- Step 61 | action: move jug to sink | Finish False | reward 0 -----\n",
      "You move the jug to the sink.\n",
      "---- Step 62 | action: pour jug into flower pot 1 | Finish False | reward 0 -----\n",
      "You pour the contents of the jug into the flower pot 1.\n",
      "---- Step 63 | action: move jug to sink | Finish False | reward 0 -----\n",
      "You move the jug to the sink.\n",
      "---- Step 64 | action: pour jug into flower pot 2 | Finish False | reward 0 -----\n",
      "You pour the contents of the jug into the flower pot 2.\n",
      "---- Step 65 | action: deactivate sink | Finish False | reward 0 -----\n",
      "The sink is now deactivated.\n",
      "---- Step 66 | action: wait1 | Finish False | reward 0 -----\n",
      "You decide to wait for 1 iterations.\n",
      "---- Step 67 | action: wait1 | Finish False | reward 2 -----\n",
      "You decide to wait for 1 iterations.\n",
      "---- Step 68 | action: wait1 | Finish False | reward 0 -----\n",
      "You decide to wait for 1 iterations.\n",
      "---- Step 69 | action: wait1 | Finish False | reward 0 -----\n",
      "You decide to wait for 1 iterations.\n",
      "---- Step 70 | action: wait1 | Finish False | reward 0 -----\n",
      "You decide to wait for 1 iterations.\n",
      "---- Step 71 | action: activate sink | Finish False | reward 0 -----\n",
      "The sink is now activated.\n",
      "---- Step 72 | action: move jug to sink | Finish False | reward 0 -----\n",
      "You move the jug to the sink.\n",
      "---- Step 73 | action: pour jug into flower pot 3 | Finish False | reward 0 -----\n",
      "You pour the contents of the jug into the flower pot 3.\n",
      "---- Step 74 | action: move jug to sink | Finish False | reward 0 -----\n",
      "You move the jug to the sink.\n",
      "---- Step 75 | action: pour jug into flower pot 1 | Finish False | reward 0 -----\n",
      "You pour the contents of the jug into the flower pot 1.\n",
      "---- Step 76 | action: move jug to sink | Finish False | reward 0 -----\n",
      "You move the jug to the sink.\n",
      "---- Step 77 | action: pour jug into flower pot 2 | Finish False | reward 0 -----\n",
      "You pour the contents of the jug into the flower pot 2.\n",
      "---- Step 78 | action: deactivate sink | Finish False | reward 0 -----\n",
      "The sink is now deactivated.\n",
      "---- Step 79 | action: focus on apple in apple tree in the reproducing stage | Finish False | reward 0 -----\n",
      "Ambiguous request: Please enter the number for the action you intended (or blank to cancel):\n",
      "0:\tfocus on apple (in apple tree, in flower pot 3, in greenhouse)\n",
      "1:\tfocus on apple (in apple tree, in flower pot 1, in greenhouse)\n",
      "2:\tfocus on apple (in apple tree, in flower pot 2, in greenhouse)\n",
      "3:\tfocus on apple (in apple tree, in flower pot 2, in greenhouse)\n",
      "\n",
      "---- Step 80 | action: 0 | Finish True | reward 50 -----\n",
      "You focus on the apple.\n",
      "This room is called the greenhouse. In it, you see: \n",
      "\tthe agent\n",
      "\ta substance called air\n",
      "\ta adult bee\n",
      "\ta adult bee\n",
      "\ta bee hive. The bee hive door is open. In the bee hive is: nothing.\n",
      "\ta flower pot 1 (containing a apple tree in the reproducing stage. On the apple tree you see: a red apple, a flower, pollen. , soil)\n",
      "\ta flower pot 2 (containing a apple tree in the reproducing stage. On the apple tree you see: a red apple, a red apple, a flower, pollen. , soil)\n",
      "\ta flower pot 3 (containing a apple tree in the reproducing stage. On the apple tree you see: a red apple, a wilting flower. , soil)\n",
      "\ta sink, which is turned off. In the sink is: a jug (containing a substance called water).\n",
      "You also see:\n",
      "\tA door to the hallway (that is closed)\n",
      "\tA door to the outside (that is closed)\n",
      "\n",
      "Completed keys: move1, atLeast1Reproducing, atLeast2Reproducing, move2, haveSeedJar\n",
      "----------------------------------------------------------------------------------------------------\n",
      "Sequential Subgoals:\n",
      "----------------------------------------------------------------------------------------------------\n",
      "0\ttrue\t                                GoalFind\tfocus on the grown fruit\n",
      "----------------------------------------------------------------------------------------------------\n",
      "Unordered and Optional Subgoals:\n",
      "----------------------------------------------------------------------------------------------------\n",
      "0\ttrue\t                    GoalInRoomWithObject\tbe in same location as seed jar\n",
      "1\ttrue\t     GoalSpecificObjectInDirectContainer\thave seed jar in inventory\n",
      "2\ttrue\t     GoalSpecificObjectInDirectContainer\thave shovel in inventory\n",
      "3\ttrue\t     GoalSpecificObjectInDirectContainer\thave soil in inventory\n",
      "4\ttrue\t                    GoalInRoomWithObject\tbe in same location as soil\n",
      "5\ttrue\t                   GoalMoveToNewLocation\tmove to a new location\n",
      "6\ttrue\t                      GoalMoveToLocation\tmove to the greenhouse\n",
      "7\ttrue\t                      GoalMoveToLocation\tmove to the greenhouse (after having seed jar)\n",
      "8\ttrue\t     GoalSpecificObjectInDirectContainer\thave soil in flower pot (1)\n",
      "9\ttrue\t     GoalSpecificObjectInDirectContainer\thave soil in flower pot (2)\n",
      "10\ttrue\t     GoalSpecificObjectInDirectContainer\thave soil in flower pot (3)\n",
      "11\ttrue\t     GoalSpecificObjectInDirectContainer\thave water in flower pot (1)\n",
      "12\ttrue\t     GoalSpecificObjectInDirectContainer\thave water in flower pot (2)\n",
      "13\ttrue\t     GoalSpecificObjectInDirectContainer\thave water in flower pot (3)\n",
      "14\ttrue\t     GoalSpecificObjectInDirectContainer\thave seed in flower pot (1)\n",
      "15\ttrue\t     GoalSpecificObjectInDirectContainer\thave seed in flower pot (2)\n",
      "16\ttrue\t     GoalSpecificObjectInDirectContainer\thave seed in flower pot (3)\n",
      "17\ttrue\t                   GoalLifeStageAnywhere\thave at least 1 plants as seeds\n",
      "18\ttrue\t                   GoalLifeStageAnywhere\thave at least 1 plants as seedlings\n",
      "19\ttrue\t                   GoalLifeStageAnywhere\thave at least 1 plants as adult plants\n",
      "20\ttrue\t                   GoalLifeStageAnywhere\thave at least 1 plants as reproducing plants\n",
      "21\ttrue\t                   GoalLifeStageAnywhere\thave at least 2 plants as seeds\n",
      "22\ttrue\t                   GoalLifeStageAnywhere\thave at least 2 plants as seedlings\n",
      "23\ttrue\t                   GoalLifeStageAnywhere\thave at least 2 plants as adult plants\n",
      "24\ttrue\t                   GoalLifeStageAnywhere\thave at least 2 plants as reproducing plants\n",
      "25\ttrue\t                       GoalContainerOpen\tbee hive open (after reprod. life stage)\n",
      "26\ttrue\t                    GoalInRoomWithObject\tbe in same location as pollinator (after reprod. life stage)\n",
      "27\ttrue\t                    GoalInRoomWithObject\tbe in same location as fruit\n",
      "----------------------------------------------------------------------------------------------------\n",
      "\n"
     ]
    }
   ],
   "source": [
    "\n",
    "plan = task_df['action']#.values[:68]\n",
    "randVariationIdx = variation\n",
    "env.load(task_name, randVariationIdx)\n",
    "# Reset the environment\n",
    "observation, info = env.reset()\n",
    "\n",
    "print(f\"Task Name: \" + task_name + \" variation \" + str(randVariationIdx))\n",
    "print(\"Task Variation: \" + str(randVariationIdx))\n",
    "print(\"Task Description: \" + str(env.getTaskDescription()))\n",
    "observation, info = env.reset()\n",
    "\n",
    "for i, action in enumerate(plan):\n",
    "    action = action.replace(\"green house\", \"greenhouse\")\n",
    "    observation, reward, isCompleted, info = env.step(action)\n",
    "    print(f\"---- Step {i} | action: {action} | Finish {isCompleted} | reward {reward} -----\")\n",
    "    print(observation)\n",
    "print(info['look'])\n",
    "print(env.getGoalProgressStr())"
   ],
   "metadata": {
    "collapsed": false,
    "ExecuteTime": {
     "start_time": "2023-08-25T12:59:38.846699Z",
     "end_time": "2023-08-25T12:59:50.657876Z"
    }
   }
  },
  {
   "cell_type": "code",
   "execution_count": 13,
   "outputs": [
    {
     "data": {
      "text/plain": "[62,\n 63,\n 64,\n 65,\n 66,\n 67,\n 68,\n 69,\n 70,\n 71,\n 72,\n 73,\n 74,\n 75,\n 76,\n 77,\n 78,\n 79,\n 80,\n 81,\n 82,\n 83,\n 84,\n 85,\n 86,\n 87,\n 88,\n 89,\n 90,\n 91,\n 92]"
     },
     "execution_count": 13,
     "metadata": {},
     "output_type": "execute_result"
    }
   ],
   "source": [
    "a = []\n",
    "for _ in range(1000):\n",
    "    b = env.getRandomVariationDev()\n",
    "    if b not in a:\n",
    "        a.append(b)\n",
    "a.sort()\n",
    "a"
   ],
   "metadata": {
    "collapsed": false,
    "ExecuteTime": {
     "start_time": "2023-08-25T13:01:18.563515Z",
     "end_time": "2023-08-25T13:01:18.649971Z"
    }
   }
  },
  {
   "cell_type": "markdown",
   "source": [
    "# Apple Juice"
   ],
   "metadata": {
    "collapsed": false
   }
  },
  {
   "cell_type": "code",
   "execution_count": 9,
   "outputs": [
    {
     "ename": "NameError",
     "evalue": "name 'taskName' is not defined",
     "output_type": "error",
     "traceback": [
      "\u001B[0;31m---------------------------------------------------------------------------\u001B[0m",
      "\u001B[0;31mNameError\u001B[0m                                 Traceback (most recent call last)",
      "Cell \u001B[0;32mIn[9], line 28\u001B[0m\n\u001B[1;32m      1\u001B[0m plan \u001B[38;5;241m=\u001B[39m [\u001B[38;5;124m'\u001B[39m\u001B[38;5;124mopen door to kitchen\u001B[39m\u001B[38;5;124m'\u001B[39m,\n\u001B[1;32m      2\u001B[0m         \u001B[38;5;124m'\u001B[39m\u001B[38;5;124mgo to kitchen\u001B[39m\u001B[38;5;124m'\u001B[39m,\n\u001B[1;32m      3\u001B[0m \n\u001B[0;32m   (...)\u001B[0m\n\u001B[1;32m     24\u001B[0m         \u001B[38;5;124m'\u001B[39m\u001B[38;5;124mexamine apple juice\u001B[39m\u001B[38;5;124m'\u001B[39m,\n\u001B[1;32m     25\u001B[0m         ]\n\u001B[1;32m     27\u001B[0m randVariationIdx \u001B[38;5;241m=\u001B[39m \u001B[38;5;241m8\u001B[39m \u001B[38;5;66;03m# apple juice\u001B[39;00m\n\u001B[0;32m---> 28\u001B[0m env\u001B[38;5;241m.\u001B[39mload(\u001B[43mtaskName\u001B[49m, randVariationIdx)\n\u001B[1;32m     29\u001B[0m \u001B[38;5;66;03m# Reset the environment\u001B[39;00m\n\u001B[1;32m     30\u001B[0m observation, info \u001B[38;5;241m=\u001B[39m env\u001B[38;5;241m.\u001B[39mreset()\n",
      "\u001B[0;31mNameError\u001B[0m: name 'taskName' is not defined"
     ]
    }
   ],
   "source": [
    "plan = ['open door to kitchen',\n",
    "        'go to kitchen',\n",
    "\n",
    "        'pick up thermometer',\n",
    "\n",
    "        'open cupboard', # pick up metal pot\n",
    "        'pick up metal pot', # pick up metal pot\n",
    "\n",
    "        'open fridge',\n",
    "        'pour cup containing apple juice into metal pot',\n",
    "        'pick up metal pot',\n",
    "\n",
    "        'move metal pot to stove',\n",
    "        'activate stove',\n",
    "\n",
    "        'focus on apple juice',\n",
    "        'use thermometer in inventory on apple juice',\n",
    "        'wait',\n",
    "        'use thermometer in inventory on apple juice',\n",
    "        'focus on apple juice',\n",
    "        'wait',\n",
    "        'wait',\n",
    "        'use thermometer in inventory on apple juice',\n",
    "        'examine apple juice',\n",
    "        ]\n",
    "\n",
    "randVariationIdx = 8 # apple juice\n",
    "env.load(taskName, randVariationIdx)\n",
    "# Reset the environment\n",
    "observation, info = env.reset()\n",
    "\n",
    "print(f\"Task Name: \" + taskName + \" variation \" + str(randVariationIdx))\n",
    "print(\"Task Variation: \" + str(randVariationIdx) + \" / \" + str(maxVariations))\n",
    "print(\"Task Description: \" + str(env.getTaskDescription()))\n",
    "observation, info = env.reset()\n",
    "\n",
    "for i, action in enumerate(plan):\n",
    "    observation, reward, isCompleted, info = env.step(action)\n",
    "    print(f\"---- Step {i} | action: {action} | Finish {isCompleted} | reward {reward} -----\")\n",
    "    print(observation)\n",
    "print(info['look'])\n",
    "print(env.getGoalProgressStr())"
   ],
   "metadata": {
    "collapsed": false,
    "ExecuteTime": {
     "start_time": "2023-08-14T08:57:49.298449Z",
     "end_time": "2023-08-14T08:57:53.197299Z"
    }
   }
  },
  {
   "cell_type": "code",
   "execution_count": null,
   "outputs": [],
   "source": [
    "observation"
   ],
   "metadata": {
    "collapsed": false,
    "ExecuteTime": {
     "start_time": "2023-08-14T08:56:15.480044Z",
     "end_time": "2023-08-14T08:56:15.529292Z"
    }
   }
  },
  {
   "cell_type": "markdown",
   "source": [
    "# Search objects"
   ],
   "metadata": {
    "collapsed": false
   }
  },
  {
   "cell_type": "code",
   "execution_count": null,
   "outputs": [],
   "source": [
    "\n",
    "\n",
    "randVariationIdx = 23 # tin\n",
    "env.load(taskName, randVariationIdx)\n",
    "# Reset the environment\n",
    "observation, info = env.reset()\n",
    "\n",
    "print(f\"Task Name: \" + taskName + \" variation \" + str(randVariationIdx))\n",
    "print(\"Task Variation: \" + str(randVariationIdx) + \" / \" + str(maxVariations))\n",
    "print(\"Task Description: \" + str(env.getTaskDescription()))\n",
    "observation, info = env.reset()\n",
    "\n",
    "observation, reward, isCompleted, info = env.step(action)\n",
    "print(info['look'])\n",
    "env.getPossibleObjects()"
   ],
   "metadata": {
    "collapsed": false,
    "ExecuteTime": {
     "start_time": "2023-08-14T08:49:01.667146Z",
     "end_time": "2023-08-14T08:49:01.862373Z"
    }
   }
  },
  {
   "cell_type": "code",
   "execution_count": null,
   "outputs": [],
   "source": [],
   "metadata": {
    "collapsed": false,
    "ExecuteTime": {
     "start_time": "2023-08-14T08:49:01.863370Z",
     "end_time": "2023-08-14T08:49:01.866877Z"
    }
   }
  },
  {
   "cell_type": "code",
   "execution_count": null,
   "outputs": [],
   "source": [],
   "metadata": {
    "collapsed": false,
    "ExecuteTime": {
     "start_time": "2023-08-14T08:49:01.866877Z",
     "end_time": "2023-08-14T08:49:01.869390Z"
    }
   }
  }
 ],
 "metadata": {
  "kernelspec": {
   "display_name": "Python 3",
   "language": "python",
   "name": "python3"
  },
  "language_info": {
   "codemirror_mode": {
    "name": "ipython",
    "version": 2
   },
   "file_extension": ".py",
   "mimetype": "text/x-python",
   "name": "python",
   "nbconvert_exporter": "python",
   "pygments_lexer": "ipython2",
   "version": "2.7.6"
  }
 },
 "nbformat": 4,
 "nbformat_minor": 0
}
