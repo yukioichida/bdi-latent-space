{
 "cells": [
  {
   "cell_type": "code",
   "execution_count": 2,
   "outputs": [],
   "source": [
    "from scienceworld import ScienceWorldEnv\n",
    "from sources.agent import BDIAgent\n",
    "from sources.scienceworld import parse_observation\n",
    "\n",
    "from sources.bdi_components.belief import State\n",
    "from sources.bdi_components.inference import NLIModel\n",
    "from sources.bdi_components.plans import PlanLibrary"
   ],
   "metadata": {
    "collapsed": false,
    "ExecuteTime": {
     "start_time": "2023-08-31T16:52:55.084648Z",
     "end_time": "2023-08-31T16:52:56.679436Z"
    }
   }
  },
  {
   "cell_type": "code",
   "execution_count": 3,
   "outputs": [],
   "source": [
    "hg_model_hub_name = \"alisawuffles/roberta-large-wanli\"\n",
    "nli_model = NLIModel(hg_model_hub_name)"
   ],
   "metadata": {
    "collapsed": false,
    "ExecuteTime": {
     "start_time": "2023-08-31T16:52:57.248090Z",
     "end_time": "2023-08-31T16:53:05.677763Z"
    }
   }
  },
  {
   "cell_type": "code",
   "execution_count": 4,
   "metadata": {
    "collapsed": true,
    "ExecuteTime": {
     "start_time": "2023-08-31T16:53:05.678762Z",
     "end_time": "2023-08-31T16:53:05.743067Z"
    }
   },
   "outputs": [
    {
     "name": "stdout",
     "output_type": "stream",
     "text": [
      "dict_keys(['melt caesium', 'get metal pot', 'get caesium', 'heat caesium on blast furnace', 'move to art studio', 'move to bedroom', 'move to greenhouse', 'move to kitchen', 'move to living room', 'move to workshop', 'move to outside', 'move to foundry', 'move to bathroom', 'move to hallway'])\n"
     ]
    }
   ],
   "source": [
    "\n",
    "\n",
    "pl = PlanLibrary()\n",
    "pl.load_plans_from_file(\"../plans/plans_nl/plan_1_melt.plan\")  # load plans from strings above\n",
    "pl.load_plans_from_file(\"plans_navigation.txt\")  # load plans from file\n",
    "print(pl.plans.keys())"
   ]
  },
  {
   "cell_type": "code",
   "execution_count": 5,
   "outputs": [
    {
     "name": "stdout",
     "output_type": "stream",
     "text": [
      "Task Name: boil variation 28\n",
      "Task Description: Your task is to melt caesium. First, focus on the substance. Then, take actions that will cause it to change its state of matter.\n"
     ]
    },
    {
     "data": {
      "text/plain": "'melt caesium'"
     },
     "execution_count": 5,
     "metadata": {},
     "output_type": "execute_result"
    }
   ],
   "source": [
    "env = ScienceWorldEnv(\"\", \"\", envStepLimit=100)\n",
    "\n",
    "#root_event = 'use chemistry to create green paint'\n",
    "\n",
    "task = 'melt'\n",
    "env.load(task, 0)\n",
    "#randVariationIdx = env.getRandomVariationTest()\n",
    "randVariationIdx = 28\n",
    "env.load(task, randVariationIdx)\n",
    "\n",
    "goal = env.getTaskDescription().split('.')[0].replace(\"Your task is to\", \"\").strip()\n",
    "\n",
    "print(f\"Task Name: \" + 'boil' + \" variation \" + str(randVariationIdx))\n",
    "print(\"Task Description: \" + str(env.getTaskDescription()))\n",
    "\n",
    "# Reset the environment\n",
    "observation, info = env.reset()\n",
    "# initial state\n",
    "observation, reward, isCompleted, info = env.step('look around')\n",
    "current_state = parse_observation(observation=observation, inventory=info['inv'], look_around=info['look'],\n",
    "                                  task=goal, valid_actions=info['valid'])\n",
    "\n",
    "goal"
   ],
   "metadata": {
    "collapsed": false,
    "ExecuteTime": {
     "start_time": "2023-08-31T16:53:10.093956Z",
     "end_time": "2023-08-31T16:53:11.502695Z"
    }
   }
  },
  {
   "cell_type": "code",
   "execution_count": 6,
   "outputs": [
    {
     "name": "stderr",
     "output_type": "stream",
     "text": [
      "Asking to truncate to max_length but no maximum length is provided and the model has no predefined maximum length. Default to no truncation.\n"
     ]
    },
    {
     "name": "stdout",
     "output_type": "stream",
     "text": [
      "event -> melt caesium -> state False\n",
      "event -> move to kitchen -> state False\n",
      "Action: open door to kitchen -> Obs The door is now open.\n",
      "Action: go to kitchen -> Obs You move to the kitchen.\n",
      "Action: pick up thermometer -> Obs You move the thermometer to the inventory.\n",
      "event -> get metal pot -> state False\n",
      "Action: open cupboard -> Obs The cupboard is now open.\n",
      "Action: pick up metal pot -> Obs You move the metal pot to the inventory.\n",
      "event -> get caesium -> state False\n",
      "event -> move to workshop -> state False\n",
      "Action: open door to hallway -> Obs The door is now open.\n",
      "Action: go to hallway -> Obs You move to the hallway.\n",
      "Action: open door to workshop -> Obs The door is now open.\n",
      "Action: go to workshop -> Obs You move to the workshop.\n",
      "Action: pick up caesium -> Obs You move the caesium to the inventory.\n",
      "Action: focus on caesium -> Obs You focus on the caesium.\n",
      "Action: move caesium to metal pot -> Obs You move the caesium to the metal pot.\n",
      "event -> heat caesium on blast furnace -> state False\n",
      "event -> move to foundry -> state False\n",
      "Action: open door -> Obs The door is already open.\n",
      "Action: go to hallway -> Obs You move to the hallway.\n",
      "Action: open door to greenhouse -> Obs The door is now open.\n",
      "Action: go to greenhouse -> Obs You move to the greenhouse.\n",
      "Action: open door to outside -> Obs The door is now open.\n",
      "Action: go to outside -> Obs You move to the outside.\n",
      "Action: open door to foundry -> Obs The door is now open.\n",
      "Action: go to foundry -> Obs You move to the foundry.\n",
      "Action: open blast furnace -> Obs The blast furnace is now open.\n",
      "Action: move metal pot to blast furnace -> Obs You move the metal pot to the blast furnace.\n",
      "Action: activate blast furnace -> Obs The blast furnace is now activated.\n",
      "Action: use thermometer on metal pot -> Obs the thermometer measures a temperature of 279 degrees celsius\n",
      "Action: wait -> Obs You decide to wait for 10 iterations.\n",
      "Action: use thermometer on metal pot -> Obs the thermometer measures a temperature of 1620 degrees celsius\n",
      "Completed keys: \n",
      "----------------------------------------------------------------------------------------------------\n",
      "Sequential Subgoals:\n",
      "----------------------------------------------------------------------------------------------------\n",
      "0\ttrue\t                                GoalFind\tfocus on substance\n",
      "1\ttrue\t                 GoalChangeStateOfMatter\tsubstance is in a solid state\n",
      "2\ttrue\t                 GoalChangeStateOfMatter\tsubstance is in a liquid state\n",
      "----------------------------------------------------------------------------------------------------\n",
      "Unordered and Optional Subgoals:\n",
      "----------------------------------------------------------------------------------------------------\n",
      "0\ttrue\t                    GoalInRoomWithObject\tbe in same location as caesium\n",
      "1\ttrue\t            GoalObjectsInSingleContainer\thave substance alone in a single container\n",
      "2\tfalse\t              GoalActivateDeviceWithName\tactivate heater (stove)\n",
      "3\ttrue\t              GoalActivateDeviceWithName\tactivate heater (blast furnace)\n",
      "4\tfalse\t              GoalActivateDeviceWithName\tactivate heater (oven)\n",
      "5\tfalse\t              GoalActivateDeviceWithName\tactivate heater (hot plate)\n",
      "6\tfalse\t     GoalSpecificObjectInDirectContainer\thave lighter in inventory\n",
      "7\tfalse\t     GoalSpecificObjectInDirectContainer\tmove wood into fire pit\n",
      "8\tfalse\t                   GoalTemperatureOnFire\tignite wood\n",
      "9\tfalse\t                   GoalObjectInContainer\thave object on heater (stove)\n",
      "10\ttrue\t                   GoalObjectInContainer\thave object on heater (blast furnace)\n",
      "11\tfalse\t                   GoalObjectInContainer\thave object on heater (oven)\n",
      "12\tfalse\t                   GoalObjectInContainer\thave object on heater (hot plate)\n",
      "13\tfalse\t                   GoalObjectInContainer\thave object on heater (fire pit)\n",
      "14\ttrue\t                 GoalTemperatureIncrease\theat object by at least 20C\n",
      "----------------------------------------------------------------------------------------------------\n",
      "\n",
      "100\n"
     ]
    }
   ],
   "source": [
    "def step_function(action: str) -> State:\n",
    "    observation, reward, isCompleted, info = env.step(action)\n",
    "    updated_state = parse_observation(observation=observation,\n",
    "                                      inventory=info['inv'],\n",
    "                                      look_around=info['look'],\n",
    "                                      task=goal,\n",
    "                                      valid_actions=info['valid'],\n",
    "                                      score=info['score'])\n",
    "    print(f\"Action: {action} -> Obs {observation}\")\n",
    "    return updated_state\n",
    "\n",
    "\n",
    "agent = BDIAgent(plan_library=pl, nli_model=nli_model)\n",
    "last_state = agent.act(current_state, step_function=step_function)\n",
    "\n",
    "print(env.getGoalProgressStr())\n",
    "print(last_state.reward)"
   ],
   "metadata": {
    "collapsed": false,
    "ExecuteTime": {
     "start_time": "2023-08-31T16:53:11.502695Z",
     "end_time": "2023-08-31T16:53:55.494353Z"
    }
   }
  },
  {
   "cell_type": "code",
   "execution_count": null,
   "outputs": [],
   "source": [],
   "metadata": {
    "collapsed": false
   }
  }
 ],
 "metadata": {
  "kernelspec": {
   "display_name": "Python 3",
   "language": "python",
   "name": "python3"
  },
  "language_info": {
   "codemirror_mode": {
    "name": "ipython",
    "version": 2
   },
   "file_extension": ".py",
   "mimetype": "text/x-python",
   "name": "python",
   "nbconvert_exporter": "python",
   "pygments_lexer": "ipython2",
   "version": "2.7.6"
  }
 },
 "nbformat": 4,
 "nbformat_minor": 0
}
