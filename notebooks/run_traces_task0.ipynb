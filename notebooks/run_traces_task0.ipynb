{
 "cells": [
  {
   "cell_type": "code",
   "execution_count": 1,
   "metadata": {
    "collapsed": true,
    "ExecuteTime": {
     "start_time": "2023-08-22T17:56:57.811992Z",
     "end_time": "2023-08-22T17:56:57.822030Z"
    }
   },
   "outputs": [],
   "source": [
    "from scienceworld import ScienceWorldEnv\n",
    "import re\n",
    "from sources.agent.scienceworld import parse_observation"
   ]
  },
  {
   "cell_type": "code",
   "execution_count": 2,
   "outputs": [],
   "source": [
    "env = ScienceWorldEnv(\"\", \"\", envStepLimit=100)"
   ],
   "metadata": {
    "collapsed": false,
    "ExecuteTime": {
     "start_time": "2023-08-22T17:56:58.522168Z",
     "end_time": "2023-08-22T17:56:59.603507Z"
    }
   }
  },
  {
   "cell_type": "code",
   "execution_count": 3,
   "outputs": [
    {
     "name": "stdout",
     "output_type": "stream",
     "text": [
      "Task Names: ['boil', 'change-the-state-of-matter-of', 'chemistry-mix', 'chemistry-mix-paint-secondary-color', 'chemistry-mix-paint-tertiary-color', 'find-animal', 'find-living-thing', 'find-non-living-thing', 'find-plant', 'freeze', 'grow-fruit', 'grow-plant', 'identify-life-stages-1', 'identify-life-stages-2', 'inclined-plane-determine-angle', 'inclined-plane-friction-named-surfaces', 'inclined-plane-friction-unnamed-surfaces', 'lifespan-longest-lived', 'lifespan-longest-lived-then-shortest-lived', 'lifespan-shortest-lived', 'measure-melting-point-known-substance', 'measure-melting-point-unknown-substance', 'melt', 'mendelian-genetics-known-plant', 'mendelian-genetics-unknown-plant', 'power-component', 'power-component-renewable-vs-nonrenewable-energy', 'test-conductivity', 'test-conductivity-of-unknown-substances', 'use-thermometer']\n",
      "Task Name: boil variation 0\n",
      "Task Variation: 0 / 30\n",
      "Task Description: Your task is to boil water. For compounds without a boiling point, combusting the substance is also acceptable. First, focus on the substance. Then, take actions that will cause it to change its state of matter.\n"
     ]
    }
   ],
   "source": [
    "taskNames = env.getTaskNames()\n",
    "print(\"Task Names: \" + str(taskNames))\n",
    "\n",
    "# Choose task\n",
    "taskName = taskNames[0]  # Just get first task\n",
    "env.load(taskName, 0, \"\")  # Load the task, so we have access to some extra accessors e.g. getRandomVariationTrain()\n",
    "maxVariations = env.getMaxVariations(taskName)\n",
    "taskName, maxVariations\n",
    "\n",
    "#randVariationIdx = env.getRandomVariationTest()\n",
    "randVariationIdx = 0 # water\n",
    "env.load(taskName, randVariationIdx)\n",
    "# Reset the environment\n",
    "observation, info = env.reset()\n",
    "\n",
    "print(f\"Task Name: \" + taskName + \" variation \" + str(randVariationIdx))\n",
    "print(\"Task Variation: \" + str(randVariationIdx) + \" / \" + str(maxVariations))\n",
    "print(\"Task Description: \" + str(env.getTaskDescription()))"
   ],
   "metadata": {
    "collapsed": false,
    "ExecuteTime": {
     "start_time": "2023-08-22T17:57:00.504495Z",
     "end_time": "2023-08-22T17:57:00.941165Z"
    }
   }
  },
  {
   "cell_type": "markdown",
   "source": [
    "# Water"
   ],
   "metadata": {
    "collapsed": false
   }
  },
  {
   "cell_type": "code",
   "execution_count": 5,
   "outputs": [
    {
     "name": "stdout",
     "output_type": "stream",
     "text": [
      "Task Name: boil variation 1\n",
      "Task Variation: 1 / 30\n",
      "Task Description: Your task is to boil water. For compounds without a boiling point, combusting the substance is also acceptable. First, focus on the substance. Then, take actions that will cause it to change its state of matter.\n",
      "---- Step 0 | action: open door to kitchen | Finish False | reward 0 -----\n",
      "No known action matches that input.\n",
      "---- Step 1 | action: go to kitchen | Finish False | reward 0 -----\n",
      "No known action matches that input.\n",
      "---- Step 2 | action: pick up thermometer | Finish False | reward 0 -----\n",
      "No known action matches that input.\n",
      "---- Step 3 | action: open cupboard | Finish False | reward 0 -----\n",
      "The large cupboard is now open.\n",
      "---- Step 4 | action: pick up metal pot | Finish False | reward 0 -----\n",
      "No known action matches that input.\n",
      "---- Step 5 | action: move metal pot to sink | Finish False | reward 0 -----\n",
      "No known action matches that input.\n",
      "---- Step 6 | action: activate sink | Finish False | reward 0 -----\n",
      "No known action matches that input.\n",
      "---- Step 7 | action: deactivate sink | Finish False | reward 0 -----\n",
      "No known action matches that input.\n",
      "---- Step 8 | action: pick up metal pot | Finish False | reward 0 -----\n",
      "No known action matches that input.\n",
      "---- Step 9 | action: move metal pot to stove | Finish False | reward 0 -----\n",
      "No known action matches that input.\n",
      "---- Step 10 | action: activate stove | Finish False | reward 0 -----\n",
      "No known action matches that input.\n",
      "Completed keys: \n",
      "----------------------------------------------------------------------------------------------------\n",
      "Sequential Subgoals:\n",
      "----------------------------------------------------------------------------------------------------\n",
      "0\tfalse\t                                GoalFind\tfocus on substance\n",
      "1\tfalse\t                 GoalChangeStateOfMatter\tsubstance is in a liquid state\n",
      "2\tfalse\t                 GoalChangeStateOfMatter\tsubstance is in a gaseous state (or combusting)\n",
      "----------------------------------------------------------------------------------------------------\n",
      "Unordered and Optional Subgoals:\n",
      "----------------------------------------------------------------------------------------------------\n",
      "0\tfalse\t                    GoalInRoomWithObject\tbe in same location as water\n",
      "1\tfalse\t            GoalObjectsInSingleContainer\thave substance alone in a single container\n",
      "2\tfalse\t              GoalActivateDeviceWithName\tactivate heater (stove)\n",
      "3\tfalse\t              GoalActivateDeviceWithName\tactivate heater (blast furnace)\n",
      "4\tfalse\t              GoalActivateDeviceWithName\tactivate heater (oven)\n",
      "5\tfalse\t              GoalActivateDeviceWithName\tactivate heater (hot plate)\n",
      "6\tfalse\t     GoalSpecificObjectInDirectContainer\thave lighter in inventory\n",
      "7\tfalse\t     GoalSpecificObjectInDirectContainer\tmove wood into fire pit\n",
      "8\tfalse\t                   GoalTemperatureOnFire\tignite wood\n",
      "9\tfalse\t                   GoalObjectInContainer\thave object on heater (stove)\n",
      "10\tfalse\t                   GoalObjectInContainer\thave object on heater (blast furnace)\n",
      "11\tfalse\t                   GoalObjectInContainer\thave object on heater (oven)\n",
      "12\tfalse\t                   GoalObjectInContainer\thave object on heater (hot plate)\n",
      "13\tfalse\t                   GoalObjectInContainer\thave object on heater (fire pit)\n",
      "14\tfalse\t                 GoalTemperatureIncrease\theat object by at least 20C\n",
      "----------------------------------------------------------------------------------------------------\n",
      "\n"
     ]
    }
   ],
   "source": [
    "plan = ['open door to kitchen', # move to kitchen\n",
    "        'go to kitchen', # move to kitchen\n",
    "        'pick up thermometer', # pick up thermometer\n",
    "        'open cupboard', # get metal pot\n",
    "        'pick up metal pot', # get metal pot\n",
    "        'move metal pot to sink', # fill metal pot with water\n",
    "        'activate sink', # fill metal pot with water\n",
    "        'deactivate sink', # fill metal pot with water\n",
    "        'pick up metal pot', # fill metal pot with water\n",
    "        'move metal pot to stove', # heat water on stove\n",
    "        'activate stove', # heat water on stove\n",
    "        #'wait', # heat water on stove\n",
    "        #'use thermometer in inventory on substance in metal pot', # heat water on stove\n",
    "        #'use thermometer in inventory on substance in metal pot', # heat water on stove\n",
    "        #'focus on substance in metal pot', # heat water on stove\n",
    "        #'wait', # heat water on stove\n",
    "        #'use thermometer in inventory on substance in metal pot', # heat water on stove\n",
    "        #'focus on substance in metal pot' # heat water on stove\n",
    "        ]\n",
    "\n",
    "randVariationIdx = 1\n",
    "env.load(taskName, randVariationIdx)\n",
    "# Reset the environment\n",
    "observation, info = env.reset()\n",
    "\n",
    "print(f\"Task Name: \" + taskName + \" variation \" + str(randVariationIdx))\n",
    "print(\"Task Variation: \" + str(randVariationIdx) + \" / \" + str(maxVariations))\n",
    "print(\"Task Description: \" + str(env.getTaskDescription()))\n",
    "observation, info = env.reset()\n",
    "\n",
    "for i, action in enumerate(plan):\n",
    "    observation, reward, isCompleted, info = env.step(action)\n",
    "    print(f\"---- Step {i} | action: {action} | Finish {isCompleted} | reward {reward} -----\")\n",
    "    print(observation)\n",
    "\n",
    "print(env.getGoalProgressStr())"
   ],
   "metadata": {
    "collapsed": false,
    "ExecuteTime": {
     "start_time": "2023-08-22T17:57:30.476518Z",
     "end_time": "2023-08-22T17:57:31.655185Z"
    }
   }
  },
  {
   "cell_type": "markdown",
   "source": [
    "# Tin"
   ],
   "metadata": {
    "collapsed": false
   }
  },
  {
   "cell_type": "code",
   "execution_count": 6,
   "outputs": [
    {
     "name": "stdout",
     "output_type": "stream",
     "text": [
      "Task Name: boil variation 23\n",
      "Task Variation: 23 / 30\n",
      "Task Description: Your task is to boil tin. For compounds without a boiling point, combusting the substance is also acceptable. First, focus on the substance. Then, take actions that will cause it to change its state of matter.\n",
      "---- Step 0 | action: open door to kitchen | Finish False | reward 0 -----\n",
      "The door is now open.\n",
      "---- Step 1 | action: go to kitchen | Finish False | reward 0 -----\n",
      "You move to the kitchen.\n",
      "---- Step 2 | action: pick up thermometer | Finish False | reward 0 -----\n",
      "You move the thermometer to the inventory.\n",
      "---- Step 3 | action: open cupboard | Finish False | reward 0 -----\n",
      "The cupboard is now open.\n",
      "---- Step 4 | action: pick up metal pot | Finish False | reward 0 -----\n",
      "You move the metal pot to the inventory.\n",
      "---- Step 5 | action: open door to hallway | Finish False | reward 0 -----\n",
      "The door is now open.\n",
      "---- Step 6 | action: go to hallway | Finish False | reward 0 -----\n",
      "You move to the hallway.\n",
      "---- Step 7 | action: open door to workshop | Finish False | reward 0 -----\n",
      "The door is now open.\n",
      "---- Step 8 | action: go to workshop | Finish False | reward 3 -----\n",
      "You move to the workshop.\n",
      "---- Step 9 | action: pick up substance in cup | Finish False | reward 0 -----\n",
      "You move the tin to the inventory.\n",
      "---- Step 10 | action: move substance in inventory to metal pot | Finish False | reward 0 -----\n",
      "You move the tin to the metal pot.\n",
      "---- Step 11 | action: go to hallway | Finish False | reward 0 -----\n",
      "You move to the hallway.\n",
      "---- Step 12 | action: go to kitchen | Finish False | reward 0 -----\n",
      "You move to the kitchen.\n",
      "---- Step 13 | action: open door to outside | Finish False | reward 0 -----\n",
      "The door is now open.\n",
      "---- Step 14 | action: go to outside | Finish False | reward 0 -----\n",
      "You move to the outside.\n",
      "---- Step 15 | action: open door to foundry | Finish False | reward 0 -----\n",
      "The door is now open.\n",
      "---- Step 16 | action: go to foundry | Finish False | reward 0 -----\n",
      "You move to the foundry.\n",
      "---- Step 17 | action: open blast furnace | Finish False | reward 0 -----\n",
      "The blast furnace is now open.\n",
      "---- Step 18 | action: move metal pot to blast furnace | Finish False | reward 0 -----\n",
      "You move the metal pot to the blast furnace.\n",
      "---- Step 19 | action: activate blast furnace | Finish False | reward 2 -----\n",
      "The blast furnace is now activated.\n",
      "---- Step 20 | action: focus on substance in metal pot | Finish False | reward 37 -----\n",
      "You focus on the tin.\n",
      "---- Step 21 | action: examine substance in metal pot | Finish False | reward 0 -----\n",
      "a substance called tin\n",
      "---- Step 22 | action: use thermometer in inventory on substance in metal pot | Finish False | reward 0 -----\n",
      "the thermometer measures a temperature of 143 degrees celsius\n",
      "---- Step 23 | action: wait | Finish False | reward 33 -----\n",
      "You decide to wait for 10 iterations.\n",
      "---- Step 24 | action: focus on substance in metal pot | Finish False | reward 0 -----\n",
      "You focus on the liquid tin.\n",
      "---- Step 25 | action: wait | Finish False | reward 0 -----\n",
      "You decide to wait for 10 iterations.\n",
      "---- Step 26 | action: wait | Finish False | reward 0 -----\n",
      "You decide to wait for 10 iterations.\n",
      "---- Step 27 | action: wait | Finish False | reward 0 -----\n",
      "You decide to wait for 10 iterations.\n",
      "---- Step 28 | action: wait | Finish True | reward 25 -----\n",
      "You decide to wait for 10 iterations.\n",
      "---- Step 29 | action: focus on substance in metal pot | Finish True | reward 0 -----\n",
      "You focus on the gaseous tin.\n",
      "This room is called the foundry. In it, you see: \n",
      "\tthe agent\n",
      "\ta substance called air\n",
      "\ta blast furnace, which is turned on. The blast furnace door is open. In the blast furnace is: a liquid steel (containing a substance called gaseous tin).\n",
      "\ta sink, which is turned off. In the sink is: nothing.\n",
      "\ta table. On the table is: nothing.\n",
      "You also see:\n",
      "\tA door to the outside (that is open)\n",
      "\n",
      "Completed keys: \n",
      "----------------------------------------------------------------------------------------------------\n",
      "Sequential Subgoals:\n",
      "----------------------------------------------------------------------------------------------------\n",
      "0\ttrue\t                                GoalFind\tfocus on substance\n",
      "1\ttrue\t                 GoalChangeStateOfMatter\tsubstance is in a liquid state\n",
      "2\ttrue\t                 GoalChangeStateOfMatter\tsubstance is in a gaseous state (or combusting)\n",
      "----------------------------------------------------------------------------------------------------\n",
      "Unordered and Optional Subgoals:\n",
      "----------------------------------------------------------------------------------------------------\n",
      "0\ttrue\t                    GoalInRoomWithObject\tbe in same location as tin\n",
      "1\ttrue\t            GoalObjectsInSingleContainer\thave substance alone in a single container\n",
      "2\tfalse\t              GoalActivateDeviceWithName\tactivate heater (stove)\n",
      "3\ttrue\t              GoalActivateDeviceWithName\tactivate heater (blast furnace)\n",
      "4\tfalse\t              GoalActivateDeviceWithName\tactivate heater (oven)\n",
      "5\tfalse\t              GoalActivateDeviceWithName\tactivate heater (hot plate)\n",
      "6\tfalse\t     GoalSpecificObjectInDirectContainer\thave lighter in inventory\n",
      "7\tfalse\t     GoalSpecificObjectInDirectContainer\tmove wood into fire pit\n",
      "8\tfalse\t                   GoalTemperatureOnFire\tignite wood\n",
      "9\tfalse\t                   GoalObjectInContainer\thave object on heater (stove)\n",
      "10\ttrue\t                   GoalObjectInContainer\thave object on heater (blast furnace)\n",
      "11\tfalse\t                   GoalObjectInContainer\thave object on heater (oven)\n",
      "12\tfalse\t                   GoalObjectInContainer\thave object on heater (hot plate)\n",
      "13\tfalse\t                   GoalObjectInContainer\thave object on heater (fire pit)\n",
      "14\ttrue\t                 GoalTemperatureIncrease\theat object by at least 20C\n",
      "----------------------------------------------------------------------------------------------------\n",
      "\n"
     ]
    }
   ],
   "source": [
    "plan = ['open door to kitchen',\n",
    "        'go to kitchen',\n",
    "\n",
    "        'pick up thermometer',\n",
    "\n",
    "        'open cupboard', # pick up metal pot\n",
    "        'pick up metal pot', # pick up metal pot\n",
    "\n",
    "        'open door to hallway',\n",
    "        'go to hallway',\n",
    "        'open door to workshop',\n",
    "        'go to workshop',\n",
    "\n",
    "        'pick up substance in cup', # variation 23\n",
    "        'move substance in inventory to metal pot',\n",
    "\n",
    "        'go to hallway',\n",
    "        'go to kitchen',\n",
    "        #'move metal pot to stove', # stove broken in variation 23\n",
    "        #'activate stove',# stove broken in variation 23\n",
    "        'open door to outside', # move to foun\n",
    "        'go to outside', # move to foundry\n",
    "        'open door to foundry', # move to foundry\n",
    "        'go to foundry', # move to foundry\n",
    "\n",
    "        'open blast furnace',\n",
    "        'move metal pot to blast furnace',\n",
    "        'activate blast furnace',\n",
    "        'focus on substance in metal pot',\n",
    "        'examine substance in metal pot',\n",
    "        'use thermometer in inventory on substance in metal pot',\n",
    "        'wait',\n",
    "        'focus on substance in metal pot', # liquid\n",
    "        'wait',\n",
    "        'wait',\n",
    "        'wait',\n",
    "        'wait',\n",
    "        'focus on substance in metal pot' # gaseous\n",
    "        ]\n",
    "\n",
    "randVariationIdx = 23 # tin\n",
    "env.load(taskName, randVariationIdx)\n",
    "# Reset the environment\n",
    "observation, info = env.reset()\n",
    "\n",
    "print(f\"Task Name: \" + taskName + \" variation \" + str(randVariationIdx))\n",
    "print(\"Task Variation: \" + str(randVariationIdx) + \" / \" + str(maxVariations))\n",
    "print(\"Task Description: \" + str(env.getTaskDescription()))\n",
    "observation, info = env.reset()\n",
    "\n",
    "for i, action in enumerate(plan):\n",
    "    observation, reward, isCompleted, info = env.step(action)\n",
    "    print(f\"---- Step {i} | action: {action} | Finish {isCompleted} | reward {reward} -----\")\n",
    "    print(observation)\n",
    "print(info['look'])\n",
    "print(env.getGoalProgressStr())"
   ],
   "metadata": {
    "collapsed": false,
    "ExecuteTime": {
     "start_time": "2023-08-14T08:48:57.770257Z",
     "end_time": "2023-08-14T08:49:00.475177Z"
    }
   }
  },
  {
   "cell_type": "markdown",
   "source": [
    "# Apple Juice"
   ],
   "metadata": {
    "collapsed": false
   }
  },
  {
   "cell_type": "code",
   "execution_count": 29,
   "outputs": [
    {
     "name": "stdout",
     "output_type": "stream",
     "text": [
      "Task Name: boil variation 8\n",
      "Task Variation: 8 / 30\n",
      "Task Description: Your task is to boil apple juice. For compounds without a boiling point, combusting the substance is also acceptable. First, focus on the substance. Then, take actions that will cause it to change its state of matter.\n",
      "---- Step 0 | action: open door to kitchen | Finish False | reward 0 -----\n",
      "The door is now open.\n",
      "---- Step 1 | action: go to kitchen | Finish False | reward 3 -----\n",
      "You move to the kitchen.\n",
      "---- Step 2 | action: pick up thermometer | Finish False | reward 0 -----\n",
      "You move the thermometer to the inventory.\n",
      "---- Step 3 | action: open cupboard | Finish False | reward 0 -----\n",
      "The cupboard is now open.\n",
      "---- Step 4 | action: pick up metal pot | Finish False | reward 0 -----\n",
      "You move the metal pot to the inventory.\n",
      "---- Step 5 | action: open fridge | Finish False | reward 0 -----\n",
      "The fridge is now open.\n",
      "---- Step 6 | action: pour cup containing apple juice into metal pot | Finish False | reward 0 -----\n",
      "You pour the contents of the glass cup into the metal pot.\n",
      "---- Step 7 | action: pick up metal pot | Finish False | reward 0 -----\n",
      "You move the metal pot to the inventory.\n",
      "---- Step 8 | action: move metal pot to stove | Finish False | reward 0 -----\n",
      "You move the metal pot to the stove.\n",
      "---- Step 9 | action: activate stove | Finish False | reward 2 -----\n",
      "The stove is now activated.\n",
      "---- Step 10 | action: focus on apple juice | Finish False | reward 68 -----\n",
      "You focus on the apple juice.\n",
      "---- Step 11 | action: use thermometer in inventory on apple juice | Finish False | reward 0 -----\n",
      "the thermometer measures a temperature of 13 degrees celsius\n",
      "---- Step 12 | action: wait | Finish False | reward 2 -----\n",
      "You decide to wait for 10 iterations.\n",
      "---- Step 13 | action: use thermometer in inventory on apple juice | Finish False | reward 0 -----\n",
      "the thermometer measures a temperature of 68 degrees celsius\n",
      "---- Step 14 | action: focus on apple juice | Finish False | reward 0 -----\n",
      "You focus on the apple juice.\n",
      "---- Step 15 | action: wait | Finish False | reward 0 -----\n",
      "You decide to wait for 10 iterations.\n",
      "---- Step 16 | action: wait | Finish True | reward 25 -----\n",
      "You decide to wait for 10 iterations.\n",
      "---- Step 17 | action: use thermometer in inventory on apple juice | Finish True | reward 0 -----\n",
      "the thermometer measures a temperature of 164 degrees celsius\n",
      "---- Step 18 | action: examine apple juice | Finish True | reward 0 -----\n",
      "gaseous apple juice\n",
      "This room is called the kitchen. In it, you see: \n",
      "\tthe agent\n",
      "\ta substance called air\n",
      "\ta chair. On the chair is: nothing.\n",
      "\ta counter. On the counter is: a bowl (containing a red apple, a banana, an orange, a potato), a drawer.\n",
      "\ta cupboard. The cupboard door is open. In the cupboard is: a ceramic cup (containing nothing), a drawer, a tin cup (containing nothing).\n",
      "\ta freezer. The freezer door is closed. \n",
      "\ta fridge. The fridge door is open. In the fridge is: a glass cup (containing nothing), a wood cup (containing orange juice).\n",
      "\ta glass jar (containing a substance called sodium chloride)\n",
      "\ta lighter\n",
      "\ta oven, which is turned off. The oven door is closed. \n",
      "\ta painting\n",
      "\ta sink, which is turned off. In the sink is: nothing.\n",
      "\ta substance called soap\n",
      "\ta stopwatch, which is deactivated. \n",
      "\ta stove, which is turned on. On the stove is: a metal pot (containing gaseous apple juice).\n",
      "\ta table. On the table is: a glass cup (containing nothing).\n",
      "You also see:\n",
      "\tA door to the bathroom (that is open)\n",
      "\tA door to the hallway (that is closed)\n",
      "\tA door to the outside (that is closed)\n",
      "\n",
      "Completed keys: \n",
      "----------------------------------------------------------------------------------------------------\n",
      "Sequential Subgoals:\n",
      "----------------------------------------------------------------------------------------------------\n",
      "0\ttrue\t                                GoalFind\tfocus on substance\n",
      "1\ttrue\t                 GoalChangeStateOfMatter\tsubstance is in a liquid state\n",
      "2\ttrue\t                 GoalChangeStateOfMatter\tsubstance is in a gaseous state (or combusting)\n",
      "----------------------------------------------------------------------------------------------------\n",
      "Unordered and Optional Subgoals:\n",
      "----------------------------------------------------------------------------------------------------\n",
      "0\ttrue\t                    GoalInRoomWithObject\tbe in same location as apple juice\n",
      "1\ttrue\t            GoalObjectsInSingleContainer\thave substance alone in a single container\n",
      "2\ttrue\t              GoalActivateDeviceWithName\tactivate heater (stove)\n",
      "3\tfalse\t              GoalActivateDeviceWithName\tactivate heater (blast furnace)\n",
      "4\tfalse\t              GoalActivateDeviceWithName\tactivate heater (oven)\n",
      "5\tfalse\t              GoalActivateDeviceWithName\tactivate heater (hot plate)\n",
      "6\tfalse\t     GoalSpecificObjectInDirectContainer\thave lighter in inventory\n",
      "7\tfalse\t     GoalSpecificObjectInDirectContainer\tmove wood into fire pit\n",
      "8\tfalse\t                   GoalTemperatureOnFire\tignite wood\n",
      "9\ttrue\t                   GoalObjectInContainer\thave object on heater (stove)\n",
      "10\tfalse\t                   GoalObjectInContainer\thave object on heater (blast furnace)\n",
      "11\tfalse\t                   GoalObjectInContainer\thave object on heater (oven)\n",
      "12\tfalse\t                   GoalObjectInContainer\thave object on heater (hot plate)\n",
      "13\tfalse\t                   GoalObjectInContainer\thave object on heater (fire pit)\n",
      "14\ttrue\t                 GoalTemperatureIncrease\theat object by at least 20C\n",
      "----------------------------------------------------------------------------------------------------\n",
      "\n"
     ]
    }
   ],
   "source": [
    "plan = ['open door to kitchen',\n",
    "        'go to kitchen',\n",
    "\n",
    "        'pick up thermometer',\n",
    "\n",
    "        'open cupboard', # pick up metal pot\n",
    "        'pick up metal pot', # pick up metal pot\n",
    "\n",
    "        'open fridge',\n",
    "        'pour cup containing apple juice into metal pot',\n",
    "        'pick up metal pot',\n",
    "\n",
    "        'move metal pot to stove',\n",
    "        'activate stove',\n",
    "\n",
    "        'focus on apple juice',\n",
    "        'use thermometer in inventory on apple juice',\n",
    "        'wait',\n",
    "        'use thermometer in inventory on apple juice',\n",
    "        'focus on apple juice',\n",
    "        'wait',\n",
    "        'wait',\n",
    "        'use thermometer in inventory on apple juice',\n",
    "        'examine apple juice',\n",
    "        ]\n",
    "\n",
    "randVariationIdx = 8 # apple juice\n",
    "env.load(taskName, randVariationIdx)\n",
    "# Reset the environment\n",
    "observation, info = env.reset()\n",
    "\n",
    "print(f\"Task Name: \" + taskName + \" variation \" + str(randVariationIdx))\n",
    "print(\"Task Variation: \" + str(randVariationIdx) + \" / \" + str(maxVariations))\n",
    "print(\"Task Description: \" + str(env.getTaskDescription()))\n",
    "observation, info = env.reset()\n",
    "\n",
    "for i, action in enumerate(plan):\n",
    "    observation, reward, isCompleted, info = env.step(action)\n",
    "    print(f\"---- Step {i} | action: {action} | Finish {isCompleted} | reward {reward} -----\")\n",
    "    print(observation)\n",
    "print(info['look'])\n",
    "print(env.getGoalProgressStr())"
   ],
   "metadata": {
    "collapsed": false,
    "ExecuteTime": {
     "start_time": "2023-08-14T08:57:49.298449Z",
     "end_time": "2023-08-14T08:57:53.197299Z"
    }
   }
  },
  {
   "cell_type": "code",
   "execution_count": 25,
   "outputs": [
    {
     "data": {
      "text/plain": "'gaseous apple juice'"
     },
     "execution_count": 25,
     "metadata": {},
     "output_type": "execute_result"
    }
   ],
   "source": [
    "observation"
   ],
   "metadata": {
    "collapsed": false,
    "ExecuteTime": {
     "start_time": "2023-08-14T08:56:15.480044Z",
     "end_time": "2023-08-14T08:56:15.529292Z"
    }
   }
  },
  {
   "cell_type": "markdown",
   "source": [
    "# Search objects"
   ],
   "metadata": {
    "collapsed": false
   }
  },
  {
   "cell_type": "code",
   "execution_count": 9,
   "outputs": [
    {
     "name": "stdout",
     "output_type": "stream",
     "text": [
      "Task Name: boil variation 23\n",
      "Task Variation: 23 / 30\n",
      "Task Description: Your task is to boil tin. For compounds without a boiling point, combusting the substance is also acceptable. First, focus on the substance. Then, take actions that will cause it to change its state of matter.\n",
      "This room is called the bathroom. In it, you see: \n",
      "\tthe agent\n",
      "\ta substance called air\n",
      "\ta bathtub, which is turned off. In the bathtub is: nothing.\n",
      "\ta drawing\n",
      "\ta glass cup (containing nothing)\n",
      "\ta sink, which is turned off. In the sink is: nothing.\n",
      "\ta toilet. In the toilet is: A drain, which is open, a substance called water.\n",
      "You also see:\n",
      "\tA door to the kitchen (that is closed)\n",
      "\n"
     ]
    },
    {
     "data": {
      "text/plain": "['agent',\n 'air',\n 'bathroom',\n 'bathtub',\n 'cup',\n 'door',\n 'drawing',\n 'kitchen',\n 'sink',\n 'substance in toilet',\n 'toilet']"
     },
     "execution_count": 9,
     "metadata": {},
     "output_type": "execute_result"
    }
   ],
   "source": [
    "\n",
    "\n",
    "randVariationIdx = 23 # tin\n",
    "env.load(taskName, randVariationIdx)\n",
    "# Reset the environment\n",
    "observation, info = env.reset()\n",
    "\n",
    "print(f\"Task Name: \" + taskName + \" variation \" + str(randVariationIdx))\n",
    "print(\"Task Variation: \" + str(randVariationIdx) + \" / \" + str(maxVariations))\n",
    "print(\"Task Description: \" + str(env.getTaskDescription()))\n",
    "observation, info = env.reset()\n",
    "\n",
    "observation, reward, isCompleted, info = env.step(action)\n",
    "print(info['look'])\n",
    "env.getPossibleObjects()"
   ],
   "metadata": {
    "collapsed": false,
    "ExecuteTime": {
     "start_time": "2023-08-14T08:49:01.667146Z",
     "end_time": "2023-08-14T08:49:01.862373Z"
    }
   }
  },
  {
   "cell_type": "code",
   "execution_count": 9,
   "outputs": [],
   "source": [],
   "metadata": {
    "collapsed": false,
    "ExecuteTime": {
     "start_time": "2023-08-14T08:49:01.863370Z",
     "end_time": "2023-08-14T08:49:01.866877Z"
    }
   }
  },
  {
   "cell_type": "code",
   "execution_count": 9,
   "outputs": [],
   "source": [],
   "metadata": {
    "collapsed": false,
    "ExecuteTime": {
     "start_time": "2023-08-14T08:49:01.866877Z",
     "end_time": "2023-08-14T08:49:01.869390Z"
    }
   }
  }
 ],
 "metadata": {
  "kernelspec": {
   "display_name": "Python 3",
   "language": "python",
   "name": "python3"
  },
  "language_info": {
   "codemirror_mode": {
    "name": "ipython",
    "version": 2
   },
   "file_extension": ".py",
   "mimetype": "text/x-python",
   "name": "python",
   "nbconvert_exporter": "python",
   "pygments_lexer": "ipython2",
   "version": "2.7.6"
  }
 },
 "nbformat": 4,
 "nbformat_minor": 0
}
