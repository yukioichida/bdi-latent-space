{
 "cells": [
  {
   "cell_type": "code",
   "execution_count": 2,
   "metadata": {
    "collapsed": true,
    "ExecuteTime": {
     "start_time": "2023-08-25T15:49:15.249312Z",
     "end_time": "2023-08-25T15:49:15.910763Z"
    }
   },
   "outputs": [],
   "source": [
    "from scienceworld import ScienceWorldEnv\n",
    "import re\n",
    "\n",
    "import pandas as pd"
   ]
  },
  {
   "cell_type": "markdown",
   "source": [
    "# Task 1 - Your task is to boil caesium"
   ],
   "metadata": {
    "collapsed": false
   }
  },
  {
   "cell_type": "markdown",
   "source": [
    "## caesium"
   ],
   "metadata": {
    "collapsed": false
   }
  },
  {
   "cell_type": "code",
   "execution_count": 10,
   "outputs": [
    {
     "data": {
      "text/plain": "                                            action  landmark  variation  \\\n0                             open door to kitchen      True         29   \n1                                    go to kitchen      True         29   \n2                              pick up thermometer      True         29   \n3                                    open cupboard      True         29   \n4                                pick up metal pot      True         29   \n5                                      open fridge      True         29   \n6                                     open freezer      True         29   \n7                                   open glass jar      True         29   \n8                                        open oven      True         29   \n9                          open drawer in cupboard      True         29   \n10                          open drawer in counter      True         29   \n11                           open door to bathroom      True         29   \n12                                  go to bathroom      True         29   \n13                            open door to kitchen      True         29   \n14                                   go to kitchen      True         29   \n15                            open door to outside      True         29   \n16                                   go to outside      True         29   \n17                            open door to foundry      True         29   \n18                                   go to foundry      True         29   \n19                            open door to outside      True         29   \n20                                   go to outside      True         29   \n21                        open door to green house      True         29   \n22                               go to green house      True         29   \n23                            open door to hallway      True         29   \n24                                   go to hallway      True         29   \n25                           open door to workshop      True         29   \n26                                  go to workshop      True         29   \n27                                 pick up caesium      True         29   \n28                            open door to hallway      True         29   \n29                                   go to hallway      True         29   \n30                            open door to kitchen      True         29   \n31                                   go to kitchen      True         29   \n32                                focus on caesium      True         29   \n33                       move caesium to metal pot      True         29   \n34                               pick up metal pot      True         29   \n35                         move metal pot to stove      True         29   \n36                                  activate stove      True         29   \n37                               pick up metal pot      True         29   \n38                            open door to outside      True         29   \n39                                   go to outside      True         29   \n40                            open door to foundry      True         29   \n41                                   go to foundry      True         29   \n42                              open blast furnace      True         29   \n43                 move metal pot to blast furnace      True         29   \n44                          activate blast furnace      True         29   \n45                          examine liquid caesium      True         29   \n46  use thermometer in inventory on liquid caesium      True         29   \n47                          examine liquid caesium      True         29   \n48  use thermometer in inventory on liquid caesium      True         29   \n49                          examine liquid caesium      True         29   \n50  use thermometer in inventory on liquid caesium      True         29   \n51                          examine liquid caesium      True         29   \n52  use thermometer in inventory on liquid caesium      True         29   \n53                          examine liquid caesium      True         29   \n\n    order                          goal      task_id  \n0       0  Your task is to boil caesium  task-1-boil  \n1       1  Your task is to boil caesium  task-1-boil  \n2       2  Your task is to boil caesium  task-1-boil  \n3       3  Your task is to boil caesium  task-1-boil  \n4       4  Your task is to boil caesium  task-1-boil  \n5       5  Your task is to boil caesium  task-1-boil  \n6       6  Your task is to boil caesium  task-1-boil  \n7       7  Your task is to boil caesium  task-1-boil  \n8       8  Your task is to boil caesium  task-1-boil  \n9       9  Your task is to boil caesium  task-1-boil  \n10     10  Your task is to boil caesium  task-1-boil  \n11     11  Your task is to boil caesium  task-1-boil  \n12     12  Your task is to boil caesium  task-1-boil  \n13     13  Your task is to boil caesium  task-1-boil  \n14     14  Your task is to boil caesium  task-1-boil  \n15     15  Your task is to boil caesium  task-1-boil  \n16     16  Your task is to boil caesium  task-1-boil  \n17     17  Your task is to boil caesium  task-1-boil  \n18     18  Your task is to boil caesium  task-1-boil  \n19     19  Your task is to boil caesium  task-1-boil  \n20     20  Your task is to boil caesium  task-1-boil  \n21     21  Your task is to boil caesium  task-1-boil  \n22     22  Your task is to boil caesium  task-1-boil  \n23     23  Your task is to boil caesium  task-1-boil  \n24     24  Your task is to boil caesium  task-1-boil  \n25     25  Your task is to boil caesium  task-1-boil  \n26     26  Your task is to boil caesium  task-1-boil  \n27     27  Your task is to boil caesium  task-1-boil  \n28     28  Your task is to boil caesium  task-1-boil  \n29     29  Your task is to boil caesium  task-1-boil  \n30     30  Your task is to boil caesium  task-1-boil  \n31     31  Your task is to boil caesium  task-1-boil  \n32     32  Your task is to boil caesium  task-1-boil  \n33     33  Your task is to boil caesium  task-1-boil  \n34     34  Your task is to boil caesium  task-1-boil  \n35     35  Your task is to boil caesium  task-1-boil  \n36     36  Your task is to boil caesium  task-1-boil  \n37     37  Your task is to boil caesium  task-1-boil  \n38     38  Your task is to boil caesium  task-1-boil  \n39     39  Your task is to boil caesium  task-1-boil  \n40     40  Your task is to boil caesium  task-1-boil  \n41     41  Your task is to boil caesium  task-1-boil  \n42     42  Your task is to boil caesium  task-1-boil  \n43     43  Your task is to boil caesium  task-1-boil  \n44     44  Your task is to boil caesium  task-1-boil  \n45     45  Your task is to boil caesium  task-1-boil  \n46     46  Your task is to boil caesium  task-1-boil  \n47     47  Your task is to boil caesium  task-1-boil  \n48     48  Your task is to boil caesium  task-1-boil  \n49     49  Your task is to boil caesium  task-1-boil  \n50     50  Your task is to boil caesium  task-1-boil  \n51     51  Your task is to boil caesium  task-1-boil  \n52     52  Your task is to boil caesium  task-1-boil  \n53     53  Your task is to boil caesium  task-1-boil  ",
      "text/html": "<div>\n<style scoped>\n    .dataframe tbody tr th:only-of-type {\n        vertical-align: middle;\n    }\n\n    .dataframe tbody tr th {\n        vertical-align: top;\n    }\n\n    .dataframe thead th {\n        text-align: right;\n    }\n</style>\n<table border=\"1\" class=\"dataframe\">\n  <thead>\n    <tr style=\"text-align: right;\">\n      <th></th>\n      <th>action</th>\n      <th>landmark</th>\n      <th>variation</th>\n      <th>order</th>\n      <th>goal</th>\n      <th>task_id</th>\n    </tr>\n  </thead>\n  <tbody>\n    <tr>\n      <th>0</th>\n      <td>open door to kitchen</td>\n      <td>True</td>\n      <td>29</td>\n      <td>0</td>\n      <td>Your task is to boil caesium</td>\n      <td>task-1-boil</td>\n    </tr>\n    <tr>\n      <th>1</th>\n      <td>go to kitchen</td>\n      <td>True</td>\n      <td>29</td>\n      <td>1</td>\n      <td>Your task is to boil caesium</td>\n      <td>task-1-boil</td>\n    </tr>\n    <tr>\n      <th>2</th>\n      <td>pick up thermometer</td>\n      <td>True</td>\n      <td>29</td>\n      <td>2</td>\n      <td>Your task is to boil caesium</td>\n      <td>task-1-boil</td>\n    </tr>\n    <tr>\n      <th>3</th>\n      <td>open cupboard</td>\n      <td>True</td>\n      <td>29</td>\n      <td>3</td>\n      <td>Your task is to boil caesium</td>\n      <td>task-1-boil</td>\n    </tr>\n    <tr>\n      <th>4</th>\n      <td>pick up metal pot</td>\n      <td>True</td>\n      <td>29</td>\n      <td>4</td>\n      <td>Your task is to boil caesium</td>\n      <td>task-1-boil</td>\n    </tr>\n    <tr>\n      <th>5</th>\n      <td>open fridge</td>\n      <td>True</td>\n      <td>29</td>\n      <td>5</td>\n      <td>Your task is to boil caesium</td>\n      <td>task-1-boil</td>\n    </tr>\n    <tr>\n      <th>6</th>\n      <td>open freezer</td>\n      <td>True</td>\n      <td>29</td>\n      <td>6</td>\n      <td>Your task is to boil caesium</td>\n      <td>task-1-boil</td>\n    </tr>\n    <tr>\n      <th>7</th>\n      <td>open glass jar</td>\n      <td>True</td>\n      <td>29</td>\n      <td>7</td>\n      <td>Your task is to boil caesium</td>\n      <td>task-1-boil</td>\n    </tr>\n    <tr>\n      <th>8</th>\n      <td>open oven</td>\n      <td>True</td>\n      <td>29</td>\n      <td>8</td>\n      <td>Your task is to boil caesium</td>\n      <td>task-1-boil</td>\n    </tr>\n    <tr>\n      <th>9</th>\n      <td>open drawer in cupboard</td>\n      <td>True</td>\n      <td>29</td>\n      <td>9</td>\n      <td>Your task is to boil caesium</td>\n      <td>task-1-boil</td>\n    </tr>\n    <tr>\n      <th>10</th>\n      <td>open drawer in counter</td>\n      <td>True</td>\n      <td>29</td>\n      <td>10</td>\n      <td>Your task is to boil caesium</td>\n      <td>task-1-boil</td>\n    </tr>\n    <tr>\n      <th>11</th>\n      <td>open door to bathroom</td>\n      <td>True</td>\n      <td>29</td>\n      <td>11</td>\n      <td>Your task is to boil caesium</td>\n      <td>task-1-boil</td>\n    </tr>\n    <tr>\n      <th>12</th>\n      <td>go to bathroom</td>\n      <td>True</td>\n      <td>29</td>\n      <td>12</td>\n      <td>Your task is to boil caesium</td>\n      <td>task-1-boil</td>\n    </tr>\n    <tr>\n      <th>13</th>\n      <td>open door to kitchen</td>\n      <td>True</td>\n      <td>29</td>\n      <td>13</td>\n      <td>Your task is to boil caesium</td>\n      <td>task-1-boil</td>\n    </tr>\n    <tr>\n      <th>14</th>\n      <td>go to kitchen</td>\n      <td>True</td>\n      <td>29</td>\n      <td>14</td>\n      <td>Your task is to boil caesium</td>\n      <td>task-1-boil</td>\n    </tr>\n    <tr>\n      <th>15</th>\n      <td>open door to outside</td>\n      <td>True</td>\n      <td>29</td>\n      <td>15</td>\n      <td>Your task is to boil caesium</td>\n      <td>task-1-boil</td>\n    </tr>\n    <tr>\n      <th>16</th>\n      <td>go to outside</td>\n      <td>True</td>\n      <td>29</td>\n      <td>16</td>\n      <td>Your task is to boil caesium</td>\n      <td>task-1-boil</td>\n    </tr>\n    <tr>\n      <th>17</th>\n      <td>open door to foundry</td>\n      <td>True</td>\n      <td>29</td>\n      <td>17</td>\n      <td>Your task is to boil caesium</td>\n      <td>task-1-boil</td>\n    </tr>\n    <tr>\n      <th>18</th>\n      <td>go to foundry</td>\n      <td>True</td>\n      <td>29</td>\n      <td>18</td>\n      <td>Your task is to boil caesium</td>\n      <td>task-1-boil</td>\n    </tr>\n    <tr>\n      <th>19</th>\n      <td>open door to outside</td>\n      <td>True</td>\n      <td>29</td>\n      <td>19</td>\n      <td>Your task is to boil caesium</td>\n      <td>task-1-boil</td>\n    </tr>\n    <tr>\n      <th>20</th>\n      <td>go to outside</td>\n      <td>True</td>\n      <td>29</td>\n      <td>20</td>\n      <td>Your task is to boil caesium</td>\n      <td>task-1-boil</td>\n    </tr>\n    <tr>\n      <th>21</th>\n      <td>open door to green house</td>\n      <td>True</td>\n      <td>29</td>\n      <td>21</td>\n      <td>Your task is to boil caesium</td>\n      <td>task-1-boil</td>\n    </tr>\n    <tr>\n      <th>22</th>\n      <td>go to green house</td>\n      <td>True</td>\n      <td>29</td>\n      <td>22</td>\n      <td>Your task is to boil caesium</td>\n      <td>task-1-boil</td>\n    </tr>\n    <tr>\n      <th>23</th>\n      <td>open door to hallway</td>\n      <td>True</td>\n      <td>29</td>\n      <td>23</td>\n      <td>Your task is to boil caesium</td>\n      <td>task-1-boil</td>\n    </tr>\n    <tr>\n      <th>24</th>\n      <td>go to hallway</td>\n      <td>True</td>\n      <td>29</td>\n      <td>24</td>\n      <td>Your task is to boil caesium</td>\n      <td>task-1-boil</td>\n    </tr>\n    <tr>\n      <th>25</th>\n      <td>open door to workshop</td>\n      <td>True</td>\n      <td>29</td>\n      <td>25</td>\n      <td>Your task is to boil caesium</td>\n      <td>task-1-boil</td>\n    </tr>\n    <tr>\n      <th>26</th>\n      <td>go to workshop</td>\n      <td>True</td>\n      <td>29</td>\n      <td>26</td>\n      <td>Your task is to boil caesium</td>\n      <td>task-1-boil</td>\n    </tr>\n    <tr>\n      <th>27</th>\n      <td>pick up caesium</td>\n      <td>True</td>\n      <td>29</td>\n      <td>27</td>\n      <td>Your task is to boil caesium</td>\n      <td>task-1-boil</td>\n    </tr>\n    <tr>\n      <th>28</th>\n      <td>open door to hallway</td>\n      <td>True</td>\n      <td>29</td>\n      <td>28</td>\n      <td>Your task is to boil caesium</td>\n      <td>task-1-boil</td>\n    </tr>\n    <tr>\n      <th>29</th>\n      <td>go to hallway</td>\n      <td>True</td>\n      <td>29</td>\n      <td>29</td>\n      <td>Your task is to boil caesium</td>\n      <td>task-1-boil</td>\n    </tr>\n    <tr>\n      <th>30</th>\n      <td>open door to kitchen</td>\n      <td>True</td>\n      <td>29</td>\n      <td>30</td>\n      <td>Your task is to boil caesium</td>\n      <td>task-1-boil</td>\n    </tr>\n    <tr>\n      <th>31</th>\n      <td>go to kitchen</td>\n      <td>True</td>\n      <td>29</td>\n      <td>31</td>\n      <td>Your task is to boil caesium</td>\n      <td>task-1-boil</td>\n    </tr>\n    <tr>\n      <th>32</th>\n      <td>focus on caesium</td>\n      <td>True</td>\n      <td>29</td>\n      <td>32</td>\n      <td>Your task is to boil caesium</td>\n      <td>task-1-boil</td>\n    </tr>\n    <tr>\n      <th>33</th>\n      <td>move caesium to metal pot</td>\n      <td>True</td>\n      <td>29</td>\n      <td>33</td>\n      <td>Your task is to boil caesium</td>\n      <td>task-1-boil</td>\n    </tr>\n    <tr>\n      <th>34</th>\n      <td>pick up metal pot</td>\n      <td>True</td>\n      <td>29</td>\n      <td>34</td>\n      <td>Your task is to boil caesium</td>\n      <td>task-1-boil</td>\n    </tr>\n    <tr>\n      <th>35</th>\n      <td>move metal pot to stove</td>\n      <td>True</td>\n      <td>29</td>\n      <td>35</td>\n      <td>Your task is to boil caesium</td>\n      <td>task-1-boil</td>\n    </tr>\n    <tr>\n      <th>36</th>\n      <td>activate stove</td>\n      <td>True</td>\n      <td>29</td>\n      <td>36</td>\n      <td>Your task is to boil caesium</td>\n      <td>task-1-boil</td>\n    </tr>\n    <tr>\n      <th>37</th>\n      <td>pick up metal pot</td>\n      <td>True</td>\n      <td>29</td>\n      <td>37</td>\n      <td>Your task is to boil caesium</td>\n      <td>task-1-boil</td>\n    </tr>\n    <tr>\n      <th>38</th>\n      <td>open door to outside</td>\n      <td>True</td>\n      <td>29</td>\n      <td>38</td>\n      <td>Your task is to boil caesium</td>\n      <td>task-1-boil</td>\n    </tr>\n    <tr>\n      <th>39</th>\n      <td>go to outside</td>\n      <td>True</td>\n      <td>29</td>\n      <td>39</td>\n      <td>Your task is to boil caesium</td>\n      <td>task-1-boil</td>\n    </tr>\n    <tr>\n      <th>40</th>\n      <td>open door to foundry</td>\n      <td>True</td>\n      <td>29</td>\n      <td>40</td>\n      <td>Your task is to boil caesium</td>\n      <td>task-1-boil</td>\n    </tr>\n    <tr>\n      <th>41</th>\n      <td>go to foundry</td>\n      <td>True</td>\n      <td>29</td>\n      <td>41</td>\n      <td>Your task is to boil caesium</td>\n      <td>task-1-boil</td>\n    </tr>\n    <tr>\n      <th>42</th>\n      <td>open blast furnace</td>\n      <td>True</td>\n      <td>29</td>\n      <td>42</td>\n      <td>Your task is to boil caesium</td>\n      <td>task-1-boil</td>\n    </tr>\n    <tr>\n      <th>43</th>\n      <td>move metal pot to blast furnace</td>\n      <td>True</td>\n      <td>29</td>\n      <td>43</td>\n      <td>Your task is to boil caesium</td>\n      <td>task-1-boil</td>\n    </tr>\n    <tr>\n      <th>44</th>\n      <td>activate blast furnace</td>\n      <td>True</td>\n      <td>29</td>\n      <td>44</td>\n      <td>Your task is to boil caesium</td>\n      <td>task-1-boil</td>\n    </tr>\n    <tr>\n      <th>45</th>\n      <td>examine liquid caesium</td>\n      <td>True</td>\n      <td>29</td>\n      <td>45</td>\n      <td>Your task is to boil caesium</td>\n      <td>task-1-boil</td>\n    </tr>\n    <tr>\n      <th>46</th>\n      <td>use thermometer in inventory on liquid caesium</td>\n      <td>True</td>\n      <td>29</td>\n      <td>46</td>\n      <td>Your task is to boil caesium</td>\n      <td>task-1-boil</td>\n    </tr>\n    <tr>\n      <th>47</th>\n      <td>examine liquid caesium</td>\n      <td>True</td>\n      <td>29</td>\n      <td>47</td>\n      <td>Your task is to boil caesium</td>\n      <td>task-1-boil</td>\n    </tr>\n    <tr>\n      <th>48</th>\n      <td>use thermometer in inventory on liquid caesium</td>\n      <td>True</td>\n      <td>29</td>\n      <td>48</td>\n      <td>Your task is to boil caesium</td>\n      <td>task-1-boil</td>\n    </tr>\n    <tr>\n      <th>49</th>\n      <td>examine liquid caesium</td>\n      <td>True</td>\n      <td>29</td>\n      <td>49</td>\n      <td>Your task is to boil caesium</td>\n      <td>task-1-boil</td>\n    </tr>\n    <tr>\n      <th>50</th>\n      <td>use thermometer in inventory on liquid caesium</td>\n      <td>True</td>\n      <td>29</td>\n      <td>50</td>\n      <td>Your task is to boil caesium</td>\n      <td>task-1-boil</td>\n    </tr>\n    <tr>\n      <th>51</th>\n      <td>examine liquid caesium</td>\n      <td>True</td>\n      <td>29</td>\n      <td>51</td>\n      <td>Your task is to boil caesium</td>\n      <td>task-1-boil</td>\n    </tr>\n    <tr>\n      <th>52</th>\n      <td>use thermometer in inventory on liquid caesium</td>\n      <td>True</td>\n      <td>29</td>\n      <td>52</td>\n      <td>Your task is to boil caesium</td>\n      <td>task-1-boil</td>\n    </tr>\n    <tr>\n      <th>53</th>\n      <td>examine liquid caesium</td>\n      <td>True</td>\n      <td>29</td>\n      <td>53</td>\n      <td>Your task is to boil caesium</td>\n      <td>task-1-boil</td>\n    </tr>\n  </tbody>\n</table>\n</div>"
     },
     "execution_count": 10,
     "metadata": {},
     "output_type": "execute_result"
    }
   ],
   "source": [
    "#\n",
    "variation = 29\n",
    "# 1 and 7 is generating the corect plan\n",
    "task_df = pd.read_csv(f\"../plans/plans_csv/task-1-boil/your_task_is_to_boil_caesium/{variation}.csv\")\n",
    "task_df"
   ],
   "metadata": {
    "collapsed": false,
    "ExecuteTime": {
     "start_time": "2023-08-25T16:31:54.463694Z",
     "end_time": "2023-08-25T16:31:54.504497Z"
    }
   }
  },
  {
   "cell_type": "code",
   "execution_count": 11,
   "outputs": [
    {
     "name": "stdout",
     "output_type": "stream",
     "text": [
      "Your task is to boil caesium. For compounds without a boiling point, combusting the substance is also acceptable. First, focus on the substance. Then, take actions that will cause it to change its state of matter.\n",
      "---- Step 0 | action: open door to kitchen | Finish False | reward 0 -----\n",
      "The door is now open.\n",
      "---- Step 1 | action: go to kitchen | Finish False | reward 0 -----\n",
      "You move to the kitchen.\n",
      "---- Step 2 | action: pick up thermometer | Finish False | reward 0 -----\n",
      "You move the thermometer to the inventory.\n",
      "---- Step 3 | action: open cupboard | Finish False | reward 0 -----\n",
      "The cupboard is now open.\n",
      "---- Step 4 | action: pick up metal pot | Finish False | reward 0 -----\n",
      "You move the metal pot to the inventory.\n",
      "---- Step 5 | action: open fridge | Finish False | reward 0 -----\n",
      "The fridge is now open.\n",
      "---- Step 6 | action: open freezer | Finish False | reward 0 -----\n",
      "The freezer is now open.\n",
      "---- Step 7 | action: open glass jar | Finish False | reward 0 -----\n",
      "The glass jar is now open.\n",
      "---- Step 8 | action: open oven | Finish False | reward 0 -----\n",
      "The oven is now open.\n",
      "---- Step 9 | action: open drawer in cupboard | Finish False | reward 0 -----\n",
      "The drawer is now open.\n",
      "---- Step 10 | action: open drawer in counter | Finish False | reward 0 -----\n",
      "The drawer is now open.\n",
      "---- Step 11 | action: open door to bathroom | Finish False | reward 0 -----\n",
      "The door is now open.\n",
      "---- Step 12 | action: go to bathroom | Finish False | reward 0 -----\n",
      "You move to the bathroom.\n",
      "---- Step 13 | action: open door to kitchen | Finish False | reward 0 -----\n",
      "The door is already open.\n",
      "---- Step 14 | action: go to kitchen | Finish False | reward 0 -----\n",
      "You move to the kitchen.\n",
      "---- Step 15 | action: open door to outside | Finish False | reward 0 -----\n",
      "The door is already open.\n",
      "---- Step 16 | action: go to outside | Finish False | reward 0 -----\n",
      "You move to the outside.\n",
      "---- Step 17 | action: open door to foundry | Finish False | reward 0 -----\n",
      "The door is now open.\n",
      "---- Step 18 | action: go to foundry | Finish False | reward 0 -----\n",
      "You move to the foundry.\n",
      "---- Step 19 | action: open door to outside | Finish False | reward 0 -----\n",
      "The door is already open.\n",
      "---- Step 20 | action: go to outside | Finish False | reward 0 -----\n",
      "You move to the outside.\n",
      "---- Step 21 | action: open door to greenhouse | Finish False | reward 0 -----\n",
      "The door is now open.\n",
      "---- Step 22 | action: go to greenhouse | Finish False | reward 0 -----\n",
      "You move to the greenhouse.\n",
      "---- Step 23 | action: open door to hallway | Finish False | reward 0 -----\n",
      "The door is now open.\n",
      "---- Step 24 | action: go to hallway | Finish False | reward 0 -----\n",
      "You move to the hallway.\n",
      "---- Step 25 | action: open door to workshop | Finish False | reward 0 -----\n",
      "The door is now open.\n",
      "---- Step 26 | action: go to workshop | Finish False | reward 3 -----\n",
      "You move to the workshop.\n",
      "---- Step 27 | action: pick up caesium | Finish False | reward 0 -----\n",
      "You move the caesium to the inventory.\n",
      "---- Step 28 | action: open door to hallway | Finish False | reward 0 -----\n",
      "The door is already open.\n",
      "---- Step 29 | action: go to hallway | Finish False | reward 0 -----\n",
      "You move to the hallway.\n",
      "---- Step 30 | action: open door to kitchen | Finish False | reward 0 -----\n",
      "The door is now open.\n",
      "---- Step 31 | action: go to kitchen | Finish False | reward 0 -----\n",
      "You move to the kitchen.\n",
      "---- Step 32 | action: focus on caesium | Finish False | reward 34 -----\n",
      "You focus on the caesium.\n",
      "---- Step 33 | action: move caesium to metal pot | Finish False | reward 0 -----\n",
      "You move the caesium to the metal pot.\n",
      "---- Step 34 | action: pick up metal pot | Finish False | reward 0 -----\n",
      "You move the metal pot to the inventory.\n",
      "---- Step 35 | action: move metal pot to stove | Finish False | reward 1 -----\n",
      "You move the metal pot to the stove.\n",
      "---- Step 36 | action: activate stove | Finish False | reward 0 -----\n",
      "The stove appears broken, and can't be activated or deactivated.\n",
      "---- Step 37 | action: pick up metal pot | Finish False | reward 0 -----\n",
      "You move the metal pot to the inventory.\n",
      "---- Step 38 | action: open door to outside | Finish False | reward 0 -----\n",
      "The door is already open.\n",
      "---- Step 39 | action: go to outside | Finish False | reward 0 -----\n",
      "You move to the outside.\n",
      "---- Step 40 | action: open door to foundry | Finish False | reward 0 -----\n",
      "The door is already open.\n",
      "---- Step 41 | action: go to foundry | Finish False | reward 0 -----\n",
      "You move to the foundry.\n",
      "---- Step 42 | action: open blast furnace | Finish False | reward 0 -----\n",
      "The blast furnace is now open.\n",
      "---- Step 43 | action: move metal pot to blast furnace | Finish False | reward 2 -----\n",
      "You move the metal pot to the blast furnace.\n",
      "---- Step 44 | action: activate blast furnace | Finish False | reward 37 -----\n",
      "The blast furnace is now activated.\n",
      "---- Step 45 | action: examine liquid caesium | Finish False | reward 0 -----\n",
      "a substance called liquid caesium\n",
      "---- Step 46 | action: use thermometer in inventory on liquid caesium | Finish False | reward 0 -----\n",
      "the thermometer measures a temperature of 83 degrees celsius\n",
      "---- Step 47 | action: examine liquid caesium | Finish False | reward 0 -----\n",
      "a substance called liquid caesium\n",
      "---- Step 48 | action: use thermometer in inventory on liquid caesium | Finish False | reward 0 -----\n",
      "the thermometer measures a temperature of 213 degrees celsius\n",
      "---- Step 49 | action: examine liquid caesium | Finish False | reward 0 -----\n",
      "a substance called liquid caesium\n",
      "---- Step 50 | action: use thermometer in inventory on liquid caesium | Finish False | reward 0 -----\n",
      "the thermometer measures a temperature of 368 degrees celsius\n",
      "---- Step 51 | action: examine liquid caesium | Finish False | reward 0 -----\n",
      "a substance called liquid caesium\n",
      "---- Step 52 | action: use thermometer in inventory on liquid caesium | Finish False | reward 0 -----\n",
      "the thermometer measures a temperature of 532 degrees celsius\n",
      "---- Step 53 | action: examine liquid caesium | Finish True | reward 23 -----\n",
      "a substance called liquid caesium\n",
      "This room is called the foundry. In it, you see: \n",
      "\tthe agent\n",
      "\ta substance called air\n",
      "\ta blast furnace, which is turned on. The blast furnace door is open. In the blast furnace is: a liquid steel (containing a substance called gaseous caesium).\n",
      "\ta sink, which is turned off. In the sink is: nothing.\n",
      "\ta table. On the table is: nothing.\n",
      "You also see:\n",
      "\tA door to the outside (that is open)\n",
      "\n",
      "Finished: True\n",
      "Completed keys: \n",
      "----------------------------------------------------------------------------------------------------\n",
      "Sequential Subgoals:\n",
      "----------------------------------------------------------------------------------------------------\n",
      "0\ttrue\t                                GoalFind\tfocus on substance\n",
      "1\ttrue\t                 GoalChangeStateOfMatter\tsubstance is in a liquid state\n",
      "2\ttrue\t                 GoalChangeStateOfMatter\tsubstance is in a gaseous state (or combusting)\n",
      "----------------------------------------------------------------------------------------------------\n",
      "Unordered and Optional Subgoals:\n",
      "----------------------------------------------------------------------------------------------------\n",
      "0\ttrue\t                    GoalInRoomWithObject\tbe in same location as caesium\n",
      "1\ttrue\t            GoalObjectsInSingleContainer\thave substance alone in a single container\n",
      "2\tfalse\t              GoalActivateDeviceWithName\tactivate heater (stove)\n",
      "3\ttrue\t              GoalActivateDeviceWithName\tactivate heater (blast furnace)\n",
      "4\tfalse\t              GoalActivateDeviceWithName\tactivate heater (oven)\n",
      "5\tfalse\t              GoalActivateDeviceWithName\tactivate heater (hot plate)\n",
      "6\tfalse\t     GoalSpecificObjectInDirectContainer\thave lighter in inventory\n",
      "7\tfalse\t     GoalSpecificObjectInDirectContainer\tmove wood into fire pit\n",
      "8\tfalse\t                   GoalTemperatureOnFire\tignite wood\n",
      "9\ttrue\t                   GoalObjectInContainer\thave object on heater (stove)\n",
      "10\ttrue\t                   GoalObjectInContainer\thave object on heater (blast furnace)\n",
      "11\tfalse\t                   GoalObjectInContainer\thave object on heater (oven)\n",
      "12\tfalse\t                   GoalObjectInContainer\thave object on heater (hot plate)\n",
      "13\tfalse\t                   GoalObjectInContainer\thave object on heater (fire pit)\n",
      "14\ttrue\t                 GoalTemperatureIncrease\theat object by at least 20C\n",
      "----------------------------------------------------------------------------------------------------\n",
      "\n"
     ]
    }
   ],
   "source": [
    "env = ScienceWorldEnv(\"\", \"\", envStepLimit=100)\n",
    "task_name = 'boil'\n",
    "\n",
    "plan = task_df['action']\n",
    "env.load(task_name, variation)\n",
    "\n",
    "print(env.getTaskDescription())\n",
    "\n",
    "# Reset the environment\n",
    "observation, info = env.reset()\n",
    "for i, action in enumerate(plan):\n",
    "    action = action.replace(\"green house\", \"greenhouse\")\n",
    "    observation, reward, isCompleted, info = env.step(action)\n",
    "    print(f\"---- Step {i} | action: {action} | Finish {isCompleted} | reward {reward} -----\")\n",
    "    print(observation)\n",
    "print(info['look'])\n",
    "print(f\"Finished: {isCompleted}\")\n",
    "print(env.getGoalProgressStr())"
   ],
   "metadata": {
    "collapsed": false,
    "ExecuteTime": {
     "start_time": "2023-08-25T16:31:54.629799Z",
     "end_time": "2023-08-25T16:32:02.804406Z"
    }
   }
  },
  {
   "cell_type": "code",
   "execution_count": 22,
   "outputs": [],
   "source": [
    "elements = []\n",
    "for _ in range(1000):\n",
    "    a = env.getRandomVariationTest()\n",
    "    if a not in elements:\n",
    "        elements.append(a)"
   ],
   "metadata": {
    "collapsed": false,
    "ExecuteTime": {
     "start_time": "2023-08-24T15:52:30.373972Z",
     "end_time": "2023-08-24T15:52:30.467802Z"
    }
   }
  },
  {
   "cell_type": "code",
   "execution_count": 23,
   "outputs": [
    {
     "data": {
      "text/plain": "[27, 28, 29, 30, 31, 32, 33, 34, 35]"
     },
     "execution_count": 23,
     "metadata": {},
     "output_type": "execute_result"
    }
   ],
   "source": [
    "elements.sort()\n",
    "elements"
   ],
   "metadata": {
    "collapsed": false,
    "ExecuteTime": {
     "start_time": "2023-08-24T15:52:32.388444Z",
     "end_time": "2023-08-24T15:52:32.391735Z"
    }
   }
  },
  {
   "cell_type": "code",
   "execution_count": null,
   "outputs": [],
   "source": [],
   "metadata": {
    "collapsed": false
   }
  }
 ],
 "metadata": {
  "kernelspec": {
   "display_name": "Python 3",
   "language": "python",
   "name": "python3"
  },
  "language_info": {
   "codemirror_mode": {
    "name": "ipython",
    "version": 2
   },
   "file_extension": ".py",
   "mimetype": "text/x-python",
   "name": "python",
   "nbconvert_exporter": "python",
   "pygments_lexer": "ipython2",
   "version": "2.7.6"
  }
 },
 "nbformat": 4,
 "nbformat_minor": 0
}
