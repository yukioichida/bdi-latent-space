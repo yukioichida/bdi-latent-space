{
 "cells": [
  {
   "cell_type": "markdown",
   "source": [
    "# Task 1 - Your task is to boil caesium"
   ],
   "metadata": {
    "collapsed": false
   }
  },
  {
   "cell_type": "markdown",
   "source": [
    "## caesium"
   ],
   "metadata": {
    "collapsed": false
   }
  },
  {
   "cell_type": "code",
   "execution_count": 1,
   "outputs": [],
   "source": [
    "from scienceworld import ScienceWorldEnv\n",
    "import re\n",
    "\n",
    "import pandas as pd"
   ],
   "metadata": {
    "collapsed": false,
    "ExecuteTime": {
     "start_time": "2023-10-14T16:55:21.453670Z",
     "end_time": "2023-10-14T16:55:21.857708Z"
    }
   }
  },
  {
   "cell_type": "code",
   "execution_count": 153,
   "outputs": [],
   "source": [],
   "metadata": {
    "collapsed": false,
    "ExecuteTime": {
     "start_time": "2023-10-17T15:31:08.349611Z",
     "end_time": "2023-10-17T15:31:08.369744Z"
    }
   }
  },
  {
   "cell_type": "code",
   "execution_count": 154,
   "outputs": [
    {
     "name": "stdout",
     "output_type": "stream",
     "text": [
      "Parameter containing:\n",
      "tensor([[2.0000],\n",
      "        [3.0000],\n",
      "        [1.5000],\n",
      "        [0.5000]], requires_grad=True)\n"
     ]
    }
   ],
   "source": [],
   "metadata": {
    "collapsed": false,
    "ExecuteTime": {
     "start_time": "2023-10-17T15:31:08.718514Z",
     "end_time": "2023-10-17T15:31:08.957250Z"
    }
   }
  },
  {
   "cell_type": "code",
   "execution_count": 152,
   "outputs": [
    {
     "name": "stdout",
     "output_type": "stream",
     "text": [
      "torch.Size([4, 1])\n"
     ]
    },
    {
     "data": {
      "text/plain": "tensor([[2.0000, 4.0000, 6.0000],\n        [3.0000, 6.0000, 9.0000],\n        [1.5000, 3.0000, 4.5000],\n        [0.5000, 1.0000, 1.5000]])"
     },
     "execution_count": 152,
     "metadata": {},
     "output_type": "execute_result"
    }
   ],
   "source": [
    "weight = torch.tensor([[2.], [3.], [1.5], [0.5]])\n",
    "print(weight.size())\n",
    "x * weight"
   ],
   "metadata": {
    "collapsed": false,
    "ExecuteTime": {
     "start_time": "2023-10-17T15:31:00.657655Z",
     "end_time": "2023-10-17T15:31:00.715827Z"
    }
   }
  },
  {
   "cell_type": "code",
   "execution_count": 97,
   "outputs": [
    {
     "data": {
      "text/plain": "tensor([[[0.8160],\n         [0.8160],\n         [0.8160],\n         [0.8160],\n         [0.8160],\n         [0.8160],\n         [0.8160],\n         [0.8160],\n         [0.8160],\n         [0.8160]]], grad_fn=<ViewBackward0>)"
     },
     "execution_count": 97,
     "metadata": {},
     "output_type": "execute_result"
    }
   ],
   "source": [
    "input_embeddings = torch.ones(1, 10, 1)\n",
    "ff_outputs = torch.nn.Linear(1, 1)(input_embeddings)\n",
    "ff_outputs"
   ],
   "metadata": {
    "collapsed": false,
    "ExecuteTime": {
     "start_time": "2023-10-17T15:19:12.349278Z",
     "end_time": "2023-10-17T15:19:12.399772Z"
    }
   }
  },
  {
   "cell_type": "code",
   "execution_count": 45,
   "outputs": [
    {
     "ename": "NameError",
     "evalue": "name 'info' is not defined",
     "output_type": "error",
     "traceback": [
      "\u001B[0;31m---------------------------------------------------------------------------\u001B[0m",
      "\u001B[0;31mNameError\u001B[0m                                 Traceback (most recent call last)",
      "Cell \u001B[0;32mIn[45], line 33\u001B[0m\n\u001B[1;32m     27\u001B[0m     inventory_items \u001B[38;5;241m=\u001B[39m parse_inventory(info[\u001B[38;5;124m'\u001B[39m\u001B[38;5;124minv\u001B[39m\u001B[38;5;124m'\u001B[39m])\n\u001B[1;32m     28\u001B[0m     \u001B[38;5;28;01mreturn\u001B[39;00m loc_split \u001B[38;5;241m+\u001B[39m obs_split \u001B[38;5;241m+\u001B[39m doors_split \u001B[38;5;241m+\u001B[39m inventory_items \u001B[38;5;241m+\u001B[39m [observation]\n\u001B[0;32m---> 33\u001B[0m parse(\u001B[43minfo\u001B[49m, observation)\n",
      "\u001B[0;31mNameError\u001B[0m: name 'info' is not defined"
     ]
    }
   ],
   "source": [
    "inv = \"In your inventory, you see:\\n\\tan orange\\n\\ta thermometer, currently reading a temperature of 10 degrees celsius\\n\"\n",
    "\n",
    "\n",
    "def parse_inventory(inventory: str) -> list[str]:\n",
    "    x = re.search(r\"(?:In your inventory, you see:)([\\S\\s]*)\", inventory)\n",
    "    obs_split = []\n",
    "    if x is not None:\n",
    "        #print(x.groups())\n",
    "        objects = x.groups()[0]\n",
    "        obs_split = [f\"In your inventory, you see {obs.strip()}\" for obs in objects.split('\\n') if len(obs.strip()) > 0]\n",
    "\n",
    "    return obs_split\n",
    "\n",
    "\n",
    "def parse(info: dict, observation: str) -> list[str]:\n",
    "    x = re.search(r\"([\\S\\s]*?)(?:In it, you see:)([\\S\\s]*?)(?:You also see:)([\\S\\s]*)\", info['look'])\n",
    "    if x == None:\n",
    "        x = re.search(r\"([\\S\\s]*?)(?:Here you see:)([\\S\\s]*?)(?:You also see:)([\\S\\s]*)\", info['look'])\n",
    "    groups = x.groups()\n",
    "\n",
    "    location = groups[0]\n",
    "    objects = groups[1]\n",
    "    doors = groups[2]\n",
    "\n",
    "    loc_split = [location.strip()]\n",
    "    obs_split = [obs.strip() for obs in objects.split('\\n') if len(obs.strip()) > 0]\n",
    "    obs_split = [f\"You see {obs}\" for obs in obs_split]\n",
    "    doors_split = [door.strip() for door in doors.split('\\n') if len(door.strip()) > 0]\n",
    "    inventory_items = parse_inventory(info['inv'])\n",
    "    return loc_split + obs_split + doors_split + inventory_items + [observation]\n",
    "\n",
    "\n",
    "parse(info, observation)"
   ],
   "metadata": {
    "collapsed": false,
    "ExecuteTime": {
     "start_time": "2023-10-14T17:06:23.687867Z",
     "end_time": "2023-10-14T17:06:23.732448Z"
    }
   }
  },
  {
   "cell_type": "code",
   "execution_count": 21,
   "outputs": [
    {
     "name": "stdout",
     "output_type": "stream",
     "text": [
      "0 - Finished: True\n",
      "1 - Finished: True\n",
      "2 - Finished: True\n",
      "3 - Finished: True\n",
      "4 - Finished: True\n",
      "5 - Finished: True\n",
      "6 - Finished: True\n",
      "7 - Finished: True\n",
      "8 - Finished: True\n",
      "9 - Finished: True\n",
      "10 - Finished: True\n",
      "11 - Finished: True\n",
      "12 - Finished: True\n",
      "13 - Finished: True\n"
     ]
    }
   ],
   "source": [
    "env = ScienceWorldEnv(\"\", \"\", envStepLimit=100)\n",
    "#task_name = 'find-non-living-thing'\n",
    "task_name = 'boil'\n",
    "#\n",
    "\n",
    "env.load(task_name, 0)\n",
    "\n",
    "all_beliefs = []\n",
    "all_actions = []\n",
    "\n",
    "for variation in env.getVariationsTrain():\n",
    "    env.load(task_name, variation)\n",
    "    goal = env.getTaskDescription().split('.')[0]\n",
    "    goal = goal.replace(\" \", \"_\").lower()\n",
    "    task_df = pd.read_csv(f\"../plans/plans_csv/task-1-boil/{goal}/{variation}.csv\")\n",
    "    plan = task_df['action']\n",
    "\n",
    "    #print(env.getTaskDescription())\n",
    "    #print(env.getTaskDescription().replace(\". First, focus on the thing. Then,\", \"\").replace(\"move\", \"by moving\"))\n",
    "\n",
    "    # Reset the environment\n",
    "    observation, info = env.reset()\n",
    "    for i, action in enumerate(plan):\n",
    "        action = action.replace(\"green house\", \"greenhouse\")\n",
    "        observation, reward, isCompleted, info = env.step(action)\n",
    "        beliefs = parse(info, observation)\n",
    "        for b in beliefs:\n",
    "            if b not in all_beliefs:\n",
    "                all_beliefs.append(b)\n",
    "        for a in info['valid']:\n",
    "            if a not in all_actions:\n",
    "                all_actions.append(a)\n",
    "        #print(f\"---- Step {i} | action: {action} | Finish {isCompleted} | reward {reward} -----\")\n",
    "        #print(observation)\n",
    "    #print(info['look'])\n",
    "    print(f\"{variation} - Finished: {isCompleted}\")\n",
    "    #print(env.getGoalProgressStr())"
   ],
   "metadata": {
    "collapsed": false,
    "ExecuteTime": {
     "start_time": "2023-10-14T17:11:20.686253Z",
     "end_time": "2023-10-14T17:13:00.795490Z"
    }
   }
  },
  {
   "cell_type": "code",
   "execution_count": 22,
   "outputs": [
    {
     "data": {
      "text/plain": "(265, 8881)"
     },
     "execution_count": 22,
     "metadata": {},
     "output_type": "execute_result"
    }
   ],
   "source": [
    "len(all_beliefs), len(all_actions)"
   ],
   "metadata": {
    "collapsed": false,
    "ExecuteTime": {
     "start_time": "2023-10-14T17:13:00.795490Z",
     "end_time": "2023-10-14T17:13:00.798560Z"
    }
   }
  },
  {
   "cell_type": "code",
   "execution_count": 7,
   "outputs": [
    {
     "data": {
      "text/plain": "                                                 goal\n0   Your task is to find a(n) non-living thing by ...\n1   Your task is to find a(n) non-living thing by ...\n2   Your task is to find a(n) non-living thing by ...\n3   Your task is to find a(n) non-living thing by ...\n4   Your task is to find a(n) non-living thing by ...\n5   Your task is to find a(n) non-living thing by ...\n6   Your task is to find a(n) non-living thing by ...\n7   Your task is to find a(n) non-living thing by ...\n8   Your task is to find a(n) non-living thing by ...\n9   Your task is to find a(n) non-living thing by ...\n10  Your task is to find a(n) non-living thing by ...\n11  Your task is to find a(n) non-living thing by ...\n12  Your task is to find a(n) non-living thing by ...\n13  Your task is to find a(n) non-living thing by ...\n14  Your task is to find a(n) non-living thing by ...\n15  Your task is to find a(n) non-living thing by ...\n16  Your task is to find a(n) non-living thing by ...\n17  Your task is to find a(n) non-living thing by ...\n18  Your task is to find a(n) non-living thing by ...\n19  Your task is to find a(n) non-living thing by ...\n20  Your task is to find a(n) non-living thing by ...\n21  Your task is to find a(n) non-living thing by ...\n22  Your task is to find a(n) non-living thing by ...\n23  Your task is to find a(n) non-living thing by ...\n24  Your task is to find a(n) non-living thing by ...\n25  Your task is to find a(n) non-living thing by ...\n26  Your task is to find a(n) non-living thing by ...\n27  Your task is to find a(n) non-living thing by ...\n28  Your task is to find a(n) non-living thing by ...\n29  Your task is to find a(n) non-living thing by ...",
      "text/html": "<div>\n<style scoped>\n    .dataframe tbody tr th:only-of-type {\n        vertical-align: middle;\n    }\n\n    .dataframe tbody tr th {\n        vertical-align: top;\n    }\n\n    .dataframe thead th {\n        text-align: right;\n    }\n</style>\n<table border=\"1\" class=\"dataframe\">\n  <thead>\n    <tr style=\"text-align: right;\">\n      <th></th>\n      <th>goal</th>\n    </tr>\n  </thead>\n  <tbody>\n    <tr>\n      <th>0</th>\n      <td>Your task is to find a(n) non-living thing by ...</td>\n    </tr>\n    <tr>\n      <th>1</th>\n      <td>Your task is to find a(n) non-living thing by ...</td>\n    </tr>\n    <tr>\n      <th>2</th>\n      <td>Your task is to find a(n) non-living thing by ...</td>\n    </tr>\n    <tr>\n      <th>3</th>\n      <td>Your task is to find a(n) non-living thing by ...</td>\n    </tr>\n    <tr>\n      <th>4</th>\n      <td>Your task is to find a(n) non-living thing by ...</td>\n    </tr>\n    <tr>\n      <th>5</th>\n      <td>Your task is to find a(n) non-living thing by ...</td>\n    </tr>\n    <tr>\n      <th>6</th>\n      <td>Your task is to find a(n) non-living thing by ...</td>\n    </tr>\n    <tr>\n      <th>7</th>\n      <td>Your task is to find a(n) non-living thing by ...</td>\n    </tr>\n    <tr>\n      <th>8</th>\n      <td>Your task is to find a(n) non-living thing by ...</td>\n    </tr>\n    <tr>\n      <th>9</th>\n      <td>Your task is to find a(n) non-living thing by ...</td>\n    </tr>\n    <tr>\n      <th>10</th>\n      <td>Your task is to find a(n) non-living thing by ...</td>\n    </tr>\n    <tr>\n      <th>11</th>\n      <td>Your task is to find a(n) non-living thing by ...</td>\n    </tr>\n    <tr>\n      <th>12</th>\n      <td>Your task is to find a(n) non-living thing by ...</td>\n    </tr>\n    <tr>\n      <th>13</th>\n      <td>Your task is to find a(n) non-living thing by ...</td>\n    </tr>\n    <tr>\n      <th>14</th>\n      <td>Your task is to find a(n) non-living thing by ...</td>\n    </tr>\n    <tr>\n      <th>15</th>\n      <td>Your task is to find a(n) non-living thing by ...</td>\n    </tr>\n    <tr>\n      <th>16</th>\n      <td>Your task is to find a(n) non-living thing by ...</td>\n    </tr>\n    <tr>\n      <th>17</th>\n      <td>Your task is to find a(n) non-living thing by ...</td>\n    </tr>\n    <tr>\n      <th>18</th>\n      <td>Your task is to find a(n) non-living thing by ...</td>\n    </tr>\n    <tr>\n      <th>19</th>\n      <td>Your task is to find a(n) non-living thing by ...</td>\n    </tr>\n    <tr>\n      <th>20</th>\n      <td>Your task is to find a(n) non-living thing by ...</td>\n    </tr>\n    <tr>\n      <th>21</th>\n      <td>Your task is to find a(n) non-living thing by ...</td>\n    </tr>\n    <tr>\n      <th>22</th>\n      <td>Your task is to find a(n) non-living thing by ...</td>\n    </tr>\n    <tr>\n      <th>23</th>\n      <td>Your task is to find a(n) non-living thing by ...</td>\n    </tr>\n    <tr>\n      <th>24</th>\n      <td>Your task is to find a(n) non-living thing by ...</td>\n    </tr>\n    <tr>\n      <th>25</th>\n      <td>Your task is to find a(n) non-living thing by ...</td>\n    </tr>\n    <tr>\n      <th>26</th>\n      <td>Your task is to find a(n) non-living thing by ...</td>\n    </tr>\n    <tr>\n      <th>27</th>\n      <td>Your task is to find a(n) non-living thing by ...</td>\n    </tr>\n    <tr>\n      <th>28</th>\n      <td>Your task is to find a(n) non-living thing by ...</td>\n    </tr>\n    <tr>\n      <th>29</th>\n      <td>Your task is to find a(n) non-living thing by ...</td>\n    </tr>\n  </tbody>\n</table>\n</div>"
     },
     "execution_count": 7,
     "metadata": {},
     "output_type": "execute_result"
    }
   ],
   "source": [
    "all_goals = []\n",
    "for v in env.getVariationsTest():\n",
    "    env.load(task_name, v)\n",
    "    goal = env.getTaskDescription().replace(\". First, focus on the thing. Then,\", \"\").replace(\"move\", \"by moving\")\n",
    "    all_goals.append({'goal': goal})\n",
    "\n",
    "pd.DataFrame(all_goals).drop_duplicates()"
   ],
   "metadata": {
    "collapsed": false,
    "ExecuteTime": {
     "start_time": "2023-09-12T09:52:06.390002Z",
     "end_time": "2023-09-12T09:52:08.748066Z"
    }
   }
  },
  {
   "cell_type": "code",
   "execution_count": null,
   "outputs": [],
   "source": [],
   "metadata": {
    "collapsed": false
   }
  }
 ],
 "metadata": {
  "kernelspec": {
   "display_name": "Python 3",
   "language": "python",
   "name": "python3"
  },
  "language_info": {
   "codemirror_mode": {
    "name": "ipython",
    "version": 2
   },
   "file_extension": ".py",
   "mimetype": "text/x-python",
   "name": "python",
   "nbconvert_exporter": "python",
   "pygments_lexer": "ipython2",
   "version": "2.7.6"
  }
 },
 "nbformat": 4,
 "nbformat_minor": 0
}
