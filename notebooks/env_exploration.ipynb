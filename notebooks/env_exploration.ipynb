{
 "cells": [
  {
   "cell_type": "code",
   "execution_count": 2,
   "metadata": {
    "collapsed": true,
    "ExecuteTime": {
     "start_time": "2023-10-12T17:00:46.783277Z",
     "end_time": "2023-10-12T17:00:46.797130Z"
    }
   },
   "outputs": [],
   "source": [
    "import re\n",
    "\n",
    "from scienceworld import ScienceWorldEnv\n",
    "\n",
    "from sources.bdi_components.plans import write_plans_to_file"
   ]
  },
  {
   "cell_type": "code",
   "execution_count": 2,
   "outputs": [],
   "source": [
    "def parse(observation: str, inventory: str) -> list[str]:\n",
    "    x = re.search(r\"([\\S\\s]*?)(?:In it, you see:)([\\S\\s]*?)(?:You also see:)([\\S\\s]*)\", observation)\n",
    "    if x == None:\n",
    "        x = re.search(r\"([\\S\\s]*?)(?:Here you see:)([\\S\\s]*?)(?:You also see:)([\\S\\s]*)\", observation)\n",
    "    groups = x.groups()\n",
    "\n",
    "    location = groups[0]\n",
    "    objects = groups[1]\n",
    "    doors = groups[2]\n",
    "\n",
    "    loc_split = [location.strip()]\n",
    "    obs_split = [obs.strip() for obs in objects.split('\\n') if len(obs.strip()) > 0]\n",
    "    obs_split = [f\"You see {obs}\" for obs in obs_split]\n",
    "    doors_split = [door.strip() for door in doors.split('\\n') if len(door.strip()) > 0]\n",
    "    inventory_items = inventory.replace('\\n', ' ').replace('\\t', '')\n",
    "    return loc_split + obs_split + doors_split + [inventory_items]\n",
    "\n",
    "\n"
   ],
   "metadata": {
    "collapsed": false,
    "ExecuteTime": {
     "start_time": "2023-10-12T17:00:46.940429Z",
     "end_time": "2023-10-12T17:00:46.943070Z"
    }
   }
  },
  {
   "cell_type": "code",
   "execution_count": 10,
   "outputs": [
    {
     "name": "stdout",
     "output_type": "stream",
     "text": [
      "Your task is to boil water. For compounds without a boiling point, combusting the substance is also acceptable. First, focus on the substance. Then, take actions that will cause it to change its state of matter.\n"
     ]
    }
   ],
   "source": [
    "env = ScienceWorldEnv(\"\", \"\", envStepLimit=100)\n",
    "randVariationIdx = 0\n",
    "task_name = env.getTaskNames()[0]\n",
    "env.load(task_name, randVariationIdx)\n",
    "env.reset()\n",
    "# Run one episode until we reach a stopping condition (including exceeding the maximum steps)\n",
    "action_str = \"look around\"  # First action\n",
    "print(env.getTaskDescription())\n",
    "for step in range(10):\n",
    "    observation, reward, isCompleted, info = env.step(action_str)"
   ],
   "metadata": {
    "collapsed": false,
    "ExecuteTime": {
     "start_time": "2023-10-12T17:02:45.190586Z",
     "end_time": "2023-10-12T17:02:46.700556Z"
    }
   }
  },
  {
   "cell_type": "code",
   "execution_count": 21,
   "outputs": [
    {
     "name": "stdout",
     "output_type": "stream",
     "text": [
      "('\\n\\tan orange\\n',)\n"
     ]
    },
    {
     "data": {
      "text/plain": "['In your inventory, you see an orange']"
     },
     "execution_count": 21,
     "metadata": {},
     "output_type": "execute_result"
    }
   ],
   "source": [],
   "metadata": {
    "collapsed": false,
    "ExecuteTime": {
     "start_time": "2023-10-12T17:12:44.515659Z",
     "end_time": "2023-10-12T17:12:44.518665Z"
    }
   }
  },
  {
   "cell_type": "code",
   "execution_count": null,
   "outputs": [],
   "source": [],
   "metadata": {
    "collapsed": false
   }
  }
 ],
 "metadata": {
  "kernelspec": {
   "display_name": "Python 3",
   "language": "python",
   "name": "python3"
  },
  "language_info": {
   "codemirror_mode": {
    "name": "ipython",
    "version": 2
   },
   "file_extension": ".py",
   "mimetype": "text/x-python",
   "name": "python",
   "nbconvert_exporter": "python",
   "pygments_lexer": "ipython2",
   "version": "2.7.6"
  }
 },
 "nbformat": 4,
 "nbformat_minor": 0
}
