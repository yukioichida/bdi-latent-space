{
 "cells": [
  {
   "cell_type": "code",
   "execution_count": 3,
   "metadata": {
    "collapsed": true,
    "ExecuteTime": {
     "start_time": "2023-08-17T15:03:37.187071Z",
     "end_time": "2023-08-17T15:03:37.470137Z"
    }
   },
   "outputs": [],
   "source": [
    "from scienceworld import ScienceWorldEnv\n",
    "import re\n",
    "from sources.agent.scienceworld import parse_observation\n",
    "\n",
    "import pandas as pd"
   ]
  },
  {
   "cell_type": "code",
   "execution_count": 8,
   "outputs": [
    {
     "data": {
      "text/plain": "'grow-fruit'"
     },
     "execution_count": 8,
     "metadata": {},
     "output_type": "execute_result"
    }
   ],
   "source": [
    "env = ScienceWorldEnv(\"\", \"\", envStepLimit=100)\n",
    "task_names = env.getTaskNames()\n",
    "task_name = [task for task in task_names if task == 'grow-fruit'][0]\n",
    "task_name"
   ],
   "metadata": {
    "collapsed": false,
    "ExecuteTime": {
     "start_time": "2023-08-17T15:07:00.380017Z",
     "end_time": "2023-08-17T15:07:01.613597Z"
    }
   }
  },
  {
   "cell_type": "markdown",
   "source": [
    "# Task 4 - grow fruit"
   ],
   "metadata": {
    "collapsed": false
   }
  },
  {
   "cell_type": "markdown",
   "source": [
    "## Apple"
   ],
   "metadata": {
    "collapsed": false
   }
  },
  {
   "cell_type": "code",
   "execution_count": 21,
   "outputs": [
    {
     "data": {
      "text/plain": "                                               action  landmark  variation  \\\n0                            open door to green house      True         17   \n1                                   go to green house      True         17   \n2                                    pick up seed jar      True         17   \n3                                      pick up shovel     False         17   \n4                                open door to outside     False         17   \n..                                                ...       ...        ...   \n65                                   move jug to sink      True         17   \n66                         pour jug into flower pot 1      True         17   \n67                                    deactivate sink      True         17   \n68  focus on apple on apple tree in the reproducin...     False         17   \n69                                                  0      True         17   \n\n    order                          goal            task_id  \n0       0  Your task is to grow a apple  task-4-grow-fruit  \n1       1  Your task is to grow a apple  task-4-grow-fruit  \n2       2  Your task is to grow a apple  task-4-grow-fruit  \n3       3  Your task is to grow a apple  task-4-grow-fruit  \n4       4  Your task is to grow a apple  task-4-grow-fruit  \n..    ...                           ...                ...  \n65     65  Your task is to grow a apple  task-4-grow-fruit  \n66     66  Your task is to grow a apple  task-4-grow-fruit  \n67     67  Your task is to grow a apple  task-4-grow-fruit  \n68     68  Your task is to grow a apple  task-4-grow-fruit  \n69     69  Your task is to grow a apple  task-4-grow-fruit  \n\n[70 rows x 6 columns]",
      "text/html": "<div>\n<style scoped>\n    .dataframe tbody tr th:only-of-type {\n        vertical-align: middle;\n    }\n\n    .dataframe tbody tr th {\n        vertical-align: top;\n    }\n\n    .dataframe thead th {\n        text-align: right;\n    }\n</style>\n<table border=\"1\" class=\"dataframe\">\n  <thead>\n    <tr style=\"text-align: right;\">\n      <th></th>\n      <th>action</th>\n      <th>landmark</th>\n      <th>variation</th>\n      <th>order</th>\n      <th>goal</th>\n      <th>task_id</th>\n    </tr>\n  </thead>\n  <tbody>\n    <tr>\n      <th>0</th>\n      <td>open door to green house</td>\n      <td>True</td>\n      <td>17</td>\n      <td>0</td>\n      <td>Your task is to grow a apple</td>\n      <td>task-4-grow-fruit</td>\n    </tr>\n    <tr>\n      <th>1</th>\n      <td>go to green house</td>\n      <td>True</td>\n      <td>17</td>\n      <td>1</td>\n      <td>Your task is to grow a apple</td>\n      <td>task-4-grow-fruit</td>\n    </tr>\n    <tr>\n      <th>2</th>\n      <td>pick up seed jar</td>\n      <td>True</td>\n      <td>17</td>\n      <td>2</td>\n      <td>Your task is to grow a apple</td>\n      <td>task-4-grow-fruit</td>\n    </tr>\n    <tr>\n      <th>3</th>\n      <td>pick up shovel</td>\n      <td>False</td>\n      <td>17</td>\n      <td>3</td>\n      <td>Your task is to grow a apple</td>\n      <td>task-4-grow-fruit</td>\n    </tr>\n    <tr>\n      <th>4</th>\n      <td>open door to outside</td>\n      <td>False</td>\n      <td>17</td>\n      <td>4</td>\n      <td>Your task is to grow a apple</td>\n      <td>task-4-grow-fruit</td>\n    </tr>\n    <tr>\n      <th>...</th>\n      <td>...</td>\n      <td>...</td>\n      <td>...</td>\n      <td>...</td>\n      <td>...</td>\n      <td>...</td>\n    </tr>\n    <tr>\n      <th>65</th>\n      <td>move jug to sink</td>\n      <td>True</td>\n      <td>17</td>\n      <td>65</td>\n      <td>Your task is to grow a apple</td>\n      <td>task-4-grow-fruit</td>\n    </tr>\n    <tr>\n      <th>66</th>\n      <td>pour jug into flower pot 1</td>\n      <td>True</td>\n      <td>17</td>\n      <td>66</td>\n      <td>Your task is to grow a apple</td>\n      <td>task-4-grow-fruit</td>\n    </tr>\n    <tr>\n      <th>67</th>\n      <td>deactivate sink</td>\n      <td>True</td>\n      <td>17</td>\n      <td>67</td>\n      <td>Your task is to grow a apple</td>\n      <td>task-4-grow-fruit</td>\n    </tr>\n    <tr>\n      <th>68</th>\n      <td>focus on apple on apple tree in the reproducin...</td>\n      <td>False</td>\n      <td>17</td>\n      <td>68</td>\n      <td>Your task is to grow a apple</td>\n      <td>task-4-grow-fruit</td>\n    </tr>\n    <tr>\n      <th>69</th>\n      <td>0</td>\n      <td>True</td>\n      <td>17</td>\n      <td>69</td>\n      <td>Your task is to grow a apple</td>\n      <td>task-4-grow-fruit</td>\n    </tr>\n  </tbody>\n</table>\n<p>70 rows × 6 columns</p>\n</div>"
     },
     "execution_count": 21,
     "metadata": {},
     "output_type": "execute_result"
    }
   ],
   "source": [
    "task_df = pd.read_csv(\"../data/plans_csv/task-4-grow-fruit/your_task_is_to_grow_a_apple/17.csv\")\n",
    "task_df"
   ],
   "metadata": {
    "collapsed": false,
    "ExecuteTime": {
     "start_time": "2023-08-17T15:58:18.245346Z",
     "end_time": "2023-08-17T15:58:18.286418Z"
    }
   }
  },
  {
   "cell_type": "code",
   "execution_count": 23,
   "outputs": [
    {
     "name": "stdout",
     "output_type": "stream",
     "text": [
      "Task Name: grow-fruit variation 17\n",
      "Task Variation: 17\n",
      "Task Description: Your task is to grow a apple. This will require growing several plants, and them being crosspollinated to produce fruit.  Seeds can be found in the greenhouse. To complete the task, focus on the grown apple.\n",
      "---- Step 0 | action: open door to greenhouse | Finish False | reward 0 -----\n",
      "The door is now open.\n",
      "---- Step 1 | action: go to greenhouse | Finish False | reward 9 -----\n",
      "You move to the greenhouse.\n",
      "---- Step 2 | action: pick up seed jar | Finish False | reward 3 -----\n",
      "You move the seed jar to the inventory.\n",
      "---- Step 3 | action: pick up shovel | Finish False | reward 2 -----\n",
      "You move the shovel to the inventory.\n",
      "---- Step 4 | action: open door to outside | Finish False | reward 0 -----\n",
      "The door is already open.\n",
      "---- Step 5 | action: go to outside | Finish False | reward 0 -----\n",
      "You move to the outside.\n",
      "---- Step 6 | action: use shovel in inventory on ground | Finish False | reward 2 -----\n",
      "You dig a hole in the ground, and place the soil nearby.\n",
      "---- Step 7 | action: pick up soil | Finish False | reward 2 -----\n",
      "You move the soil to the inventory.\n",
      "---- Step 8 | action: open door to greenhouse | Finish False | reward 0 -----\n",
      "The door is already open.\n",
      "---- Step 9 | action: go to greenhouse | Finish False | reward 0 -----\n",
      "You move to the greenhouse.\n",
      "---- Step 10 | action: move soil in inventory to flower pot 2 | Finish False | reward 2 -----\n",
      "You move the soil to the flower pot 2.\n",
      "---- Step 11 | action: open door to outside | Finish False | reward 0 -----\n",
      "The door is already open.\n",
      "---- Step 12 | action: go to outside | Finish False | reward 0 -----\n",
      "You move to the outside.\n",
      "---- Step 13 | action: use shovel in inventory on ground | Finish False | reward 0 -----\n",
      "You dig a hole in the ground, and place the soil nearby.\n",
      "---- Step 14 | action: pick up soil | Finish False | reward 0 -----\n",
      "You move the soil to the inventory.\n",
      "---- Step 15 | action: open door to greenhouse | Finish False | reward 0 -----\n",
      "The door is already open.\n",
      "---- Step 16 | action: go to greenhouse | Finish False | reward 0 -----\n",
      "You move to the greenhouse.\n",
      "---- Step 17 | action: move soil in inventory to flower pot 3 | Finish False | reward 1 -----\n",
      "You move the soil to the flower pot 3.\n",
      "---- Step 18 | action: open door to outside | Finish False | reward 0 -----\n",
      "The door is already open.\n",
      "---- Step 19 | action: go to outside | Finish False | reward 0 -----\n",
      "You move to the outside.\n",
      "---- Step 20 | action: use shovel in inventory on ground | Finish False | reward 0 -----\n",
      "You dig a hole in the ground, and place the soil nearby.\n",
      "---- Step 21 | action: pick up soil | Finish False | reward 0 -----\n",
      "You move the soil to the inventory.\n",
      "---- Step 22 | action: open door to greenhouse | Finish False | reward 0 -----\n",
      "The door is already open.\n",
      "---- Step 23 | action: go to greenhouse | Finish False | reward 0 -----\n",
      "You move to the greenhouse.\n",
      "---- Step 24 | action: move soil in inventory to flower pot 1 | Finish False | reward 2 -----\n",
      "You move the soil to the flower pot 1.\n",
      "---- Step 25 | action: move apple seed in seed jar to flower pot 2 | Finish False | reward 0 -----\n",
      "Ambiguous request: Please enter the number for the action you intended (or blank to cancel):\n",
      "0:\tmove apple seed (in seed jar, in inventory, in agent, in greenhouse) to flower pot 2 (in greenhouse)\n",
      "1:\tmove apple seed (in seed jar, in inventory, in agent, in greenhouse) to flower pot 2 (in greenhouse)\n",
      "2:\tmove apple seed (in seed jar, in inventory, in agent, in greenhouse) to flower pot 2 (in greenhouse)\n",
      "3:\tmove apple seed (in seed jar, in inventory, in agent, in greenhouse) to flower pot 2 (in greenhouse)\n",
      "4:\tmove apple seed (in seed jar, in inventory, in agent, in greenhouse) to flower pot 2 (in greenhouse)\n",
      "\n",
      "---- Step 26 | action: 0 | Finish False | reward 2 -----\n",
      "You move the apple seed to the flower pot 2.\n",
      "---- Step 27 | action: move apple seed in seed jar to flower pot 3 | Finish False | reward 0 -----\n",
      "Ambiguous request: Please enter the number for the action you intended (or blank to cancel):\n",
      "0:\tmove apple seed (in seed jar, in inventory, in agent, in greenhouse) to flower pot 3 (in greenhouse)\n",
      "1:\tmove apple seed (in seed jar, in inventory, in agent, in greenhouse) to flower pot 3 (in greenhouse)\n",
      "2:\tmove apple seed (in seed jar, in inventory, in agent, in greenhouse) to flower pot 3 (in greenhouse)\n",
      "3:\tmove apple seed (in seed jar, in inventory, in agent, in greenhouse) to flower pot 3 (in greenhouse)\n",
      "\n",
      "---- Step 28 | action: 0 | Finish False | reward 2 -----\n",
      "You move the apple seed to the flower pot 3.\n",
      "---- Step 29 | action: move apple seed in seed jar to flower pot 1 | Finish False | reward 0 -----\n",
      "Ambiguous request: Please enter the number for the action you intended (or blank to cancel):\n",
      "0:\tmove apple seed (in seed jar, in inventory, in agent, in greenhouse) to flower pot 1 (in greenhouse)\n",
      "1:\tmove apple seed (in seed jar, in inventory, in agent, in greenhouse) to flower pot 1 (in greenhouse)\n",
      "2:\tmove apple seed (in seed jar, in inventory, in agent, in greenhouse) to flower pot 1 (in greenhouse)\n",
      "\n",
      "---- Step 30 | action: 0 | Finish False | reward 2 -----\n",
      "You move the apple seed to the flower pot 1.\n",
      "---- Step 31 | action: activate sink | Finish False | reward 0 -----\n",
      "The sink is now activated.\n",
      "---- Step 32 | action: move jug to sink | Finish False | reward 0 -----\n",
      "You move the jug to the sink.\n",
      "---- Step 33 | action: pour jug into flower pot 2 | Finish False | reward 1 -----\n",
      "You pour the contents of the jug into the flower pot 2.\n",
      "---- Step 34 | action: move jug to sink | Finish False | reward 0 -----\n",
      "You move the jug to the sink.\n",
      "---- Step 35 | action: pour jug into flower pot 3 | Finish False | reward 2 -----\n",
      "You pour the contents of the jug into the flower pot 3.\n",
      "---- Step 36 | action: move jug to sink | Finish False | reward 0 -----\n",
      "You move the jug to the sink.\n",
      "---- Step 37 | action: pour jug into flower pot 1 | Finish False | reward 2 -----\n",
      "You pour the contents of the jug into the flower pot 1.\n",
      "---- Step 38 | action: deactivate sink | Finish False | reward 0 -----\n",
      "The sink is now deactivated.\n",
      "---- Step 39 | action: wait1 | Finish False | reward 0 -----\n",
      "You decide to wait for 1 iterations.\n",
      "---- Step 40 | action: wait1 | Finish False | reward 2 -----\n",
      "You decide to wait for 1 iterations.\n",
      "---- Step 41 | action: wait1 | Finish False | reward 1 -----\n",
      "You decide to wait for 1 iterations.\n",
      "---- Step 42 | action: wait1 | Finish False | reward 0 -----\n",
      "You decide to wait for 1 iterations.\n",
      "---- Step 43 | action: wait1 | Finish False | reward 0 -----\n",
      "You decide to wait for 1 iterations.\n",
      "---- Step 44 | action: activate sink | Finish False | reward 0 -----\n",
      "The sink is now activated.\n",
      "---- Step 45 | action: move jug to sink | Finish False | reward 0 -----\n",
      "You move the jug to the sink.\n",
      "---- Step 46 | action: pour jug into flower pot 2 | Finish False | reward 0 -----\n",
      "You pour the contents of the jug into the flower pot 2.\n",
      "---- Step 47 | action: move jug to sink | Finish False | reward 0 -----\n",
      "You move the jug to the sink.\n",
      "---- Step 48 | action: pour jug into flower pot 3 | Finish False | reward 0 -----\n",
      "You pour the contents of the jug into the flower pot 3.\n",
      "---- Step 49 | action: move jug to sink | Finish False | reward 0 -----\n",
      "You move the jug to the sink.\n",
      "---- Step 50 | action: pour jug into flower pot 1 | Finish False | reward 0 -----\n",
      "You pour the contents of the jug into the flower pot 1.\n",
      "---- Step 51 | action: deactivate sink | Finish False | reward 0 -----\n",
      "The sink is now deactivated.\n",
      "---- Step 52 | action: close door to outside | Finish False | reward 0 -----\n",
      "The door is now closed.\n",
      "---- Step 53 | action: close door to hallway | Finish False | reward 0 -----\n",
      "The door is already closed.\n",
      "---- Step 54 | action: open bee hive | Finish False | reward 2 -----\n",
      "The bee hive is now open.\n",
      "---- Step 55 | action: wait1 | Finish False | reward 2 -----\n",
      "You decide to wait for 1 iterations.\n",
      "---- Step 56 | action: wait1 | Finish False | reward 2 -----\n",
      "You decide to wait for 1 iterations.\n",
      "---- Step 57 | action: wait1 | Finish False | reward 2 -----\n",
      "You decide to wait for 1 iterations.\n",
      "---- Step 58 | action: wait1 | Finish False | reward 3 -----\n",
      "You decide to wait for 1 iterations.\n",
      "---- Step 59 | action: wait1 | Finish False | reward 0 -----\n",
      "You decide to wait for 1 iterations.\n",
      "---- Step 60 | action: activate sink | Finish False | reward 0 -----\n",
      "The sink is now activated.\n",
      "---- Step 61 | action: move jug to sink | Finish False | reward 0 -----\n",
      "You move the jug to the sink.\n",
      "---- Step 62 | action: pour jug into flower pot 2 | Finish False | reward 0 -----\n",
      "You pour the contents of the jug into the flower pot 2.\n",
      "---- Step 63 | action: move jug to sink | Finish False | reward 0 -----\n",
      "You move the jug to the sink.\n",
      "---- Step 64 | action: pour jug into flower pot 3 | Finish False | reward 0 -----\n",
      "You pour the contents of the jug into the flower pot 3.\n",
      "---- Step 65 | action: move jug to sink | Finish False | reward 0 -----\n",
      "You move the jug to the sink.\n",
      "---- Step 66 | action: pour jug into flower pot 1 | Finish False | reward 0 -----\n",
      "You pour the contents of the jug into the flower pot 1.\n",
      "---- Step 67 | action: deactivate sink | Finish False | reward 0 -----\n",
      "The sink is now deactivated.\n",
      "This room is called the greenhouse. In it, you see: \n",
      "\tthe agent\n",
      "\ta substance called air\n",
      "\ta adult bee\n",
      "\ta adult bee\n",
      "\ta bee hive. The bee hive door is open. In the bee hive is: nothing.\n",
      "\ta flower pot 1 (containing a apple tree in the reproducing stage. On the apple tree you see: a wilting flower. , soil)\n",
      "\ta flower pot 2 (containing a apple tree in the reproducing stage. On the apple tree you see: a wilting flower. , soil)\n",
      "\ta flower pot 3 (containing a apple tree in the reproducing stage. On the apple tree you see: a wilting flower. , soil)\n",
      "\ta sink, which is turned off. In the sink is: a jug (containing a substance called water).\n",
      "You also see:\n",
      "\tA door to the hallway (that is closed)\n",
      "\tA door to the outside (that is closed)\n",
      "\n",
      "Completed keys: move1, atLeast1Reproducing, atLeast2Reproducing, move2, haveSeedJar\n",
      "----------------------------------------------------------------------------------------------------\n",
      "Sequential Subgoals:\n",
      "----------------------------------------------------------------------------------------------------\n",
      "0\tfalse\t                                GoalFind\tfocus on the grown fruit\n",
      "----------------------------------------------------------------------------------------------------\n",
      "Unordered and Optional Subgoals:\n",
      "----------------------------------------------------------------------------------------------------\n",
      "0\ttrue\t                    GoalInRoomWithObject\tbe in same location as seed jar\n",
      "1\ttrue\t     GoalSpecificObjectInDirectContainer\thave seed jar in inventory\n",
      "2\ttrue\t     GoalSpecificObjectInDirectContainer\thave shovel in inventory\n",
      "3\ttrue\t     GoalSpecificObjectInDirectContainer\thave soil in inventory\n",
      "4\ttrue\t                    GoalInRoomWithObject\tbe in same location as soil\n",
      "5\ttrue\t                   GoalMoveToNewLocation\tmove to a new location\n",
      "6\ttrue\t                      GoalMoveToLocation\tmove to the greenhouse\n",
      "7\ttrue\t                      GoalMoveToLocation\tmove to the greenhouse (after having seed jar)\n",
      "8\ttrue\t     GoalSpecificObjectInDirectContainer\thave soil in flower pot (1)\n",
      "9\ttrue\t     GoalSpecificObjectInDirectContainer\thave soil in flower pot (2)\n",
      "10\ttrue\t     GoalSpecificObjectInDirectContainer\thave soil in flower pot (3)\n",
      "11\ttrue\t     GoalSpecificObjectInDirectContainer\thave water in flower pot (1)\n",
      "12\ttrue\t     GoalSpecificObjectInDirectContainer\thave water in flower pot (2)\n",
      "13\ttrue\t     GoalSpecificObjectInDirectContainer\thave water in flower pot (3)\n",
      "14\ttrue\t     GoalSpecificObjectInDirectContainer\thave seed in flower pot (1)\n",
      "15\ttrue\t     GoalSpecificObjectInDirectContainer\thave seed in flower pot (2)\n",
      "16\ttrue\t     GoalSpecificObjectInDirectContainer\thave seed in flower pot (3)\n",
      "17\ttrue\t                   GoalLifeStageAnywhere\thave at least 1 plants as seeds\n",
      "18\ttrue\t                   GoalLifeStageAnywhere\thave at least 1 plants as seedlings\n",
      "19\ttrue\t                   GoalLifeStageAnywhere\thave at least 1 plants as adult plants\n",
      "20\ttrue\t                   GoalLifeStageAnywhere\thave at least 1 plants as reproducing plants\n",
      "21\ttrue\t                   GoalLifeStageAnywhere\thave at least 2 plants as seeds\n",
      "22\ttrue\t                   GoalLifeStageAnywhere\thave at least 2 plants as seedlings\n",
      "23\ttrue\t                   GoalLifeStageAnywhere\thave at least 2 plants as adult plants\n",
      "24\ttrue\t                   GoalLifeStageAnywhere\thave at least 2 plants as reproducing plants\n",
      "25\ttrue\t                       GoalContainerOpen\tbee hive open (after reprod. life stage)\n",
      "26\ttrue\t                    GoalInRoomWithObject\tbe in same location as pollinator (after reprod. life stage)\n",
      "27\tfalse\t                    GoalInRoomWithObject\tbe in same location as fruit\n",
      "----------------------------------------------------------------------------------------------------\n",
      "\n"
     ]
    }
   ],
   "source": [
    "\n",
    "plan = task_df['action'].values[:68]\n",
    "randVariationIdx = 17\n",
    "env.load(task_name, randVariationIdx)\n",
    "# Reset the environment\n",
    "observation, info = env.reset()\n",
    "\n",
    "print(f\"Task Name: \" + task_name + \" variation \" + str(randVariationIdx))\n",
    "print(\"Task Variation: \" + str(randVariationIdx))\n",
    "print(\"Task Description: \" + str(env.getTaskDescription()))\n",
    "observation, info = env.reset()\n",
    "\n",
    "for i, action in enumerate(plan):\n",
    "    action = action.replace(\"green house\", \"greenhouse\")\n",
    "    observation, reward, isCompleted, info = env.step(action)\n",
    "    print(f\"---- Step {i} | action: {action} | Finish {isCompleted} | reward {reward} -----\")\n",
    "    print(observation)\n",
    "print(info['look'])\n",
    "print(env.getGoalProgressStr())"
   ],
   "metadata": {
    "collapsed": false,
    "ExecuteTime": {
     "start_time": "2023-08-17T15:58:44.801043Z",
     "end_time": "2023-08-17T15:58:53.763107Z"
    }
   }
  },
  {
   "cell_type": "markdown",
   "source": [
    "# Apple Juice"
   ],
   "metadata": {
    "collapsed": false
   }
  },
  {
   "cell_type": "code",
   "execution_count": 29,
   "outputs": [
    {
     "name": "stdout",
     "output_type": "stream",
     "text": [
      "Task Name: boil variation 8\n",
      "Task Variation: 8 / 30\n",
      "Task Description: Your task is to boil apple juice. For compounds without a boiling point, combusting the substance is also acceptable. First, focus on the substance. Then, take actions that will cause it to change its state of matter.\n",
      "---- Step 0 | action: open door to kitchen | Finish False | reward 0 -----\n",
      "The door is now open.\n",
      "---- Step 1 | action: go to kitchen | Finish False | reward 3 -----\n",
      "You move to the kitchen.\n",
      "---- Step 2 | action: pick up thermometer | Finish False | reward 0 -----\n",
      "You move the thermometer to the inventory.\n",
      "---- Step 3 | action: open cupboard | Finish False | reward 0 -----\n",
      "The cupboard is now open.\n",
      "---- Step 4 | action: pick up metal pot | Finish False | reward 0 -----\n",
      "You move the metal pot to the inventory.\n",
      "---- Step 5 | action: open fridge | Finish False | reward 0 -----\n",
      "The fridge is now open.\n",
      "---- Step 6 | action: pour cup containing apple juice into metal pot | Finish False | reward 0 -----\n",
      "You pour the contents of the glass cup into the metal pot.\n",
      "---- Step 7 | action: pick up metal pot | Finish False | reward 0 -----\n",
      "You move the metal pot to the inventory.\n",
      "---- Step 8 | action: move metal pot to stove | Finish False | reward 0 -----\n",
      "You move the metal pot to the stove.\n",
      "---- Step 9 | action: activate stove | Finish False | reward 2 -----\n",
      "The stove is now activated.\n",
      "---- Step 10 | action: focus on apple juice | Finish False | reward 68 -----\n",
      "You focus on the apple juice.\n",
      "---- Step 11 | action: use thermometer in inventory on apple juice | Finish False | reward 0 -----\n",
      "the thermometer measures a temperature of 13 degrees celsius\n",
      "---- Step 12 | action: wait | Finish False | reward 2 -----\n",
      "You decide to wait for 10 iterations.\n",
      "---- Step 13 | action: use thermometer in inventory on apple juice | Finish False | reward 0 -----\n",
      "the thermometer measures a temperature of 68 degrees celsius\n",
      "---- Step 14 | action: focus on apple juice | Finish False | reward 0 -----\n",
      "You focus on the apple juice.\n",
      "---- Step 15 | action: wait | Finish False | reward 0 -----\n",
      "You decide to wait for 10 iterations.\n",
      "---- Step 16 | action: wait | Finish True | reward 25 -----\n",
      "You decide to wait for 10 iterations.\n",
      "---- Step 17 | action: use thermometer in inventory on apple juice | Finish True | reward 0 -----\n",
      "the thermometer measures a temperature of 164 degrees celsius\n",
      "---- Step 18 | action: examine apple juice | Finish True | reward 0 -----\n",
      "gaseous apple juice\n",
      "This room is called the kitchen. In it, you see: \n",
      "\tthe agent\n",
      "\ta substance called air\n",
      "\ta chair. On the chair is: nothing.\n",
      "\ta counter. On the counter is: a bowl (containing a red apple, a banana, an orange, a potato), a drawer.\n",
      "\ta cupboard. The cupboard door is open. In the cupboard is: a ceramic cup (containing nothing), a drawer, a tin cup (containing nothing).\n",
      "\ta freezer. The freezer door is closed. \n",
      "\ta fridge. The fridge door is open. In the fridge is: a glass cup (containing nothing), a wood cup (containing orange juice).\n",
      "\ta glass jar (containing a substance called sodium chloride)\n",
      "\ta lighter\n",
      "\ta oven, which is turned off. The oven door is closed. \n",
      "\ta painting\n",
      "\ta sink, which is turned off. In the sink is: nothing.\n",
      "\ta substance called soap\n",
      "\ta stopwatch, which is deactivated. \n",
      "\ta stove, which is turned on. On the stove is: a metal pot (containing gaseous apple juice).\n",
      "\ta table. On the table is: a glass cup (containing nothing).\n",
      "You also see:\n",
      "\tA door to the bathroom (that is open)\n",
      "\tA door to the hallway (that is closed)\n",
      "\tA door to the outside (that is closed)\n",
      "\n",
      "Completed keys: \n",
      "----------------------------------------------------------------------------------------------------\n",
      "Sequential Subgoals:\n",
      "----------------------------------------------------------------------------------------------------\n",
      "0\ttrue\t                                GoalFind\tfocus on substance\n",
      "1\ttrue\t                 GoalChangeStateOfMatter\tsubstance is in a liquid state\n",
      "2\ttrue\t                 GoalChangeStateOfMatter\tsubstance is in a gaseous state (or combusting)\n",
      "----------------------------------------------------------------------------------------------------\n",
      "Unordered and Optional Subgoals:\n",
      "----------------------------------------------------------------------------------------------------\n",
      "0\ttrue\t                    GoalInRoomWithObject\tbe in same location as apple juice\n",
      "1\ttrue\t            GoalObjectsInSingleContainer\thave substance alone in a single container\n",
      "2\ttrue\t              GoalActivateDeviceWithName\tactivate heater (stove)\n",
      "3\tfalse\t              GoalActivateDeviceWithName\tactivate heater (blast furnace)\n",
      "4\tfalse\t              GoalActivateDeviceWithName\tactivate heater (oven)\n",
      "5\tfalse\t              GoalActivateDeviceWithName\tactivate heater (hot plate)\n",
      "6\tfalse\t     GoalSpecificObjectInDirectContainer\thave lighter in inventory\n",
      "7\tfalse\t     GoalSpecificObjectInDirectContainer\tmove wood into fire pit\n",
      "8\tfalse\t                   GoalTemperatureOnFire\tignite wood\n",
      "9\ttrue\t                   GoalObjectInContainer\thave object on heater (stove)\n",
      "10\tfalse\t                   GoalObjectInContainer\thave object on heater (blast furnace)\n",
      "11\tfalse\t                   GoalObjectInContainer\thave object on heater (oven)\n",
      "12\tfalse\t                   GoalObjectInContainer\thave object on heater (hot plate)\n",
      "13\tfalse\t                   GoalObjectInContainer\thave object on heater (fire pit)\n",
      "14\ttrue\t                 GoalTemperatureIncrease\theat object by at least 20C\n",
      "----------------------------------------------------------------------------------------------------\n",
      "\n"
     ]
    }
   ],
   "source": [
    "plan = ['open door to kitchen',\n",
    "        'go to kitchen',\n",
    "\n",
    "        'pick up thermometer',\n",
    "\n",
    "        'open cupboard', # pick up metal pot\n",
    "        'pick up metal pot', # pick up metal pot\n",
    "\n",
    "        'open fridge',\n",
    "        'pour cup containing apple juice into metal pot',\n",
    "        'pick up metal pot',\n",
    "\n",
    "        'move metal pot to stove',\n",
    "        'activate stove',\n",
    "\n",
    "        'focus on apple juice',\n",
    "        'use thermometer in inventory on apple juice',\n",
    "        'wait',\n",
    "        'use thermometer in inventory on apple juice',\n",
    "        'focus on apple juice',\n",
    "        'wait',\n",
    "        'wait',\n",
    "        'use thermometer in inventory on apple juice',\n",
    "        'examine apple juice',\n",
    "        ]\n",
    "\n",
    "randVariationIdx = 8 # apple juice\n",
    "env.load(taskName, randVariationIdx)\n",
    "# Reset the environment\n",
    "observation, info = env.reset()\n",
    "\n",
    "print(f\"Task Name: \" + taskName + \" variation \" + str(randVariationIdx))\n",
    "print(\"Task Variation: \" + str(randVariationIdx) + \" / \" + str(maxVariations))\n",
    "print(\"Task Description: \" + str(env.getTaskDescription()))\n",
    "observation, info = env.reset()\n",
    "\n",
    "for i, action in enumerate(plan):\n",
    "    observation, reward, isCompleted, info = env.step(action)\n",
    "    print(f\"---- Step {i} | action: {action} | Finish {isCompleted} | reward {reward} -----\")\n",
    "    print(observation)\n",
    "print(info['look'])\n",
    "print(env.getGoalProgressStr())"
   ],
   "metadata": {
    "collapsed": false,
    "ExecuteTime": {
     "start_time": "2023-08-14T08:57:49.298449Z",
     "end_time": "2023-08-14T08:57:53.197299Z"
    }
   }
  },
  {
   "cell_type": "code",
   "execution_count": 25,
   "outputs": [
    {
     "data": {
      "text/plain": "'gaseous apple juice'"
     },
     "execution_count": 25,
     "metadata": {},
     "output_type": "execute_result"
    }
   ],
   "source": [
    "observation"
   ],
   "metadata": {
    "collapsed": false,
    "ExecuteTime": {
     "start_time": "2023-08-14T08:56:15.480044Z",
     "end_time": "2023-08-14T08:56:15.529292Z"
    }
   }
  },
  {
   "cell_type": "markdown",
   "source": [
    "# Search objects"
   ],
   "metadata": {
    "collapsed": false
   }
  },
  {
   "cell_type": "code",
   "execution_count": 9,
   "outputs": [
    {
     "name": "stdout",
     "output_type": "stream",
     "text": [
      "Task Name: boil variation 23\n",
      "Task Variation: 23 / 30\n",
      "Task Description: Your task is to boil tin. For compounds without a boiling point, combusting the substance is also acceptable. First, focus on the substance. Then, take actions that will cause it to change its state of matter.\n",
      "This room is called the bathroom. In it, you see: \n",
      "\tthe agent\n",
      "\ta substance called air\n",
      "\ta bathtub, which is turned off. In the bathtub is: nothing.\n",
      "\ta drawing\n",
      "\ta glass cup (containing nothing)\n",
      "\ta sink, which is turned off. In the sink is: nothing.\n",
      "\ta toilet. In the toilet is: A drain, which is open, a substance called water.\n",
      "You also see:\n",
      "\tA door to the kitchen (that is closed)\n",
      "\n"
     ]
    },
    {
     "data": {
      "text/plain": "['agent',\n 'air',\n 'bathroom',\n 'bathtub',\n 'cup',\n 'door',\n 'drawing',\n 'kitchen',\n 'sink',\n 'substance in toilet',\n 'toilet']"
     },
     "execution_count": 9,
     "metadata": {},
     "output_type": "execute_result"
    }
   ],
   "source": [
    "\n",
    "\n",
    "randVariationIdx = 23 # tin\n",
    "env.load(taskName, randVariationIdx)\n",
    "# Reset the environment\n",
    "observation, info = env.reset()\n",
    "\n",
    "print(f\"Task Name: \" + taskName + \" variation \" + str(randVariationIdx))\n",
    "print(\"Task Variation: \" + str(randVariationIdx) + \" / \" + str(maxVariations))\n",
    "print(\"Task Description: \" + str(env.getTaskDescription()))\n",
    "observation, info = env.reset()\n",
    "\n",
    "observation, reward, isCompleted, info = env.step(action)\n",
    "print(info['look'])\n",
    "env.getPossibleObjects()"
   ],
   "metadata": {
    "collapsed": false,
    "ExecuteTime": {
     "start_time": "2023-08-14T08:49:01.667146Z",
     "end_time": "2023-08-14T08:49:01.862373Z"
    }
   }
  },
  {
   "cell_type": "code",
   "execution_count": 9,
   "outputs": [],
   "source": [],
   "metadata": {
    "collapsed": false,
    "ExecuteTime": {
     "start_time": "2023-08-14T08:49:01.863370Z",
     "end_time": "2023-08-14T08:49:01.866877Z"
    }
   }
  },
  {
   "cell_type": "code",
   "execution_count": 9,
   "outputs": [],
   "source": [],
   "metadata": {
    "collapsed": false,
    "ExecuteTime": {
     "start_time": "2023-08-14T08:49:01.866877Z",
     "end_time": "2023-08-14T08:49:01.869390Z"
    }
   }
  }
 ],
 "metadata": {
  "kernelspec": {
   "display_name": "Python 3",
   "language": "python",
   "name": "python3"
  },
  "language_info": {
   "codemirror_mode": {
    "name": "ipython",
    "version": 2
   },
   "file_extension": ".py",
   "mimetype": "text/x-python",
   "name": "python",
   "nbconvert_exporter": "python",
   "pygments_lexer": "ipython2",
   "version": "2.7.6"
  }
 },
 "nbformat": 4,
 "nbformat_minor": 0
}
