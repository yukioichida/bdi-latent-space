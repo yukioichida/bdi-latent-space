{
 "cells": [
  {
   "cell_type": "code",
   "execution_count": 5,
   "outputs": [],
   "source": [
    "from scienceworld import ScienceWorldEnv\n",
    "from sources.agent import BDIAgent\n",
    "from sources.scienceworld import parse_observation\n",
    "\n",
    "from sources.bdi_components.belief import State\n",
    "from sources.bdi_components.inference import NLIModel\n",
    "from sources.bdi_components.plans import PlanLibrary"
   ],
   "metadata": {
    "collapsed": false,
    "ExecuteTime": {
     "start_time": "2023-08-30T09:33:22.639684Z",
     "end_time": "2023-08-30T09:33:22.656684Z"
    }
   }
  },
  {
   "cell_type": "code",
   "execution_count": 6,
   "outputs": [
    {
     "name": "stderr",
     "output_type": "stream",
     "text": [
      "Some weights of the model checkpoint at ynie/roberta-large-snli_mnli_fever_anli_R1_R2_R3-nli were not used when initializing RobertaForSequenceClassification: ['roberta.pooler.dense.bias', 'roberta.pooler.dense.weight']\n",
      "- This IS expected if you are initializing RobertaForSequenceClassification from the checkpoint of a model trained on another task or with another architecture (e.g. initializing a BertForSequenceClassification model from a BertForPreTraining model).\n",
      "- This IS NOT expected if you are initializing RobertaForSequenceClassification from the checkpoint of a model that you expect to be exactly identical (initializing a BertForSequenceClassification model from a BertForSequenceClassification model).\n"
     ]
    }
   ],
   "source": [
    "#hg_model_hub_name = \"alisawuffles/roberta-large-wanli\"\n",
    "hg_model_hub_name = \"ynie/roberta-large-snli_mnli_fever_anli_R1_R2_R3-nli\"\n",
    "nli_model = NLIModel(hg_model_hub_name)"
   ],
   "metadata": {
    "collapsed": false,
    "ExecuteTime": {
     "start_time": "2023-08-30T09:33:22.643686Z",
     "end_time": "2023-08-30T09:33:26.001775Z"
    }
   }
  },
  {
   "cell_type": "code",
   "execution_count": 7,
   "metadata": {
    "collapsed": true,
    "ExecuteTime": {
     "start_time": "2023-08-30T09:33:26.005771Z",
     "end_time": "2023-08-30T09:33:26.007771Z"
    }
   },
   "outputs": [
    {
     "name": "stdout",
     "output_type": "stream",
     "text": [
      "dict_keys(['use chemistry to create violet-red paint', 'move to art studio', 'move to bedroom', 'move to greenhouse', 'move to kitchen', 'move to living room', 'move to workshop', 'move to outside', 'move to foundry', 'move to bathroom', 'move to hallway'])\n"
     ]
    }
   ],
   "source": [
    "# MAIN GOAL\n",
    "green_plan = \"\"\"\n",
    "    IF your goal is to use chemistry to create green paint THEN\n",
    "        move to art studio,\n",
    "        pour cup containing blue paint in art studio into jug,\n",
    "        pour cup containing yellow paint in art studio into jug,\n",
    "        mix jug,\n",
    "        focus on green paint\n",
    "\"\"\"\n",
    "\n",
    "orange_plan = \"\"\"\n",
    "    IF your goal is to use chemistry to create orange paint THEN\n",
    "        move to art studio,\n",
    "        pour cup containing red paint in art studio into jug,\n",
    "        pour cup containing yellow paint in art studio into jug,\n",
    "        mix jug,\n",
    "        focus on orange paint\n",
    "\"\"\"\n",
    "\n",
    "violet_plan = \"\"\"\n",
    "    IF your goal is to use chemistry to create violet paint THEN\n",
    "        move to art studio,\n",
    "        pour cup containing red paint in art studio into jug,\n",
    "        pour cup containing blue paint in art studio into jug,\n",
    "        mix jug,\n",
    "        focus on violet paint\n",
    "\"\"\"\n",
    "\n",
    "violet_red_plan = \"\"\"\n",
    "    IF your goal is to use chemistry to create violet-red paint CONSIDERING you are in the art studio THEN\n",
    "        pour cup containing red paint in art studio into cup containing nothing,\n",
    "        pour cup containing blue paint in art studio into cup containing red paint in table,\n",
    "        mix cup containing blue paint and red paint,\n",
    "        focus on paint in cup containing violet paint,\n",
    "        pour cup containing violet paint into cup containing violet paint,\n",
    "        open cupboard,\n",
    "        pour cup containing red paint into cup containing violet paint,\n",
    "        mix cup containing red paint and violet paint,\n",
    "        focus on paint in cup containing violet-red paint\n",
    "\"\"\"\n",
    "\n",
    "violet_red_plan_2 = \"\"\"\n",
    "    IF your goal is to use chemistry to create violet-red paint CONSIDERING you are not in art studio THEN\n",
    "        move to art studio,\n",
    "        pour cup containing red paint in art studio into cup containing nothing,\n",
    "        pour cup containing blue paint in art studio into cup containing red paint in table,\n",
    "        mix cup containing blue paint and red paint,\n",
    "        focus on paint in cup containing violet paint,\n",
    "        pour cup containing violet paint into cup containing violet paint,\n",
    "        open cupboard,\n",
    "        pour cup containing red paint into cup containing violet paint,\n",
    "        mix cup containing red paint and violet paint,\n",
    "        focus on paint in cup containing violet-red paint\n",
    "\"\"\"\n",
    "\n",
    "all_plans = [violet_red_plan, violet_red_plan_2]\n",
    "\n",
    "pl = PlanLibrary()\n",
    "pl.load_plans_from_strings(all_plans)  # load plans from strings above\n",
    "pl.load_plans_from_file(\"plans_navigation.txt\")  # load plans from file\n",
    "print(pl.plans.keys())"
   ]
  },
  {
   "cell_type": "code",
   "execution_count": 8,
   "outputs": [
    {
     "name": "stdout",
     "output_type": "stream",
     "text": [
      "Task Name: boil variation 33\n",
      "Task Description: Your task is to use chemistry to create violet-red paint. When you are part-way done, focus on the intermediate (secondary color) paint you created.  When you are completely done, focus on the violet paint.\n"
     ]
    },
    {
     "data": {
      "text/plain": "'use chemistry to create violet-red paint'"
     },
     "execution_count": 8,
     "metadata": {},
     "output_type": "execute_result"
    }
   ],
   "source": [
    "env = ScienceWorldEnv(\"\", \"\", envStepLimit=100)\n",
    "\n",
    "\n",
    "task = 'chemistry-mix-paint-tertiary-color'\n",
    "env.load(task, 0)\n",
    "randVariationIdx = env.getRandomVariationTest()\n",
    "env.load(task, 28)\n",
    "\n",
    "goal = env.getTaskDescription().split('.')[0].replace(\"Your task is to\", \"\").strip()\n",
    "\n",
    "print(f\"Task Name: \" + 'boil' + \" variation \" + str(randVariationIdx))\n",
    "print(\"Task Description: \" + str(env.getTaskDescription()))\n",
    "\n",
    "# Reset the environment\n",
    "observation, info = env.reset()\n",
    "# initial state\n",
    "observation, reward, isCompleted, info = env.step('look around')\n",
    "current_state = parse_observation(observation=observation, inventory=info['inv'], look_around=info['look'],\n",
    "                                  task=goal, valid_actions=info['valid'])\n",
    "\n",
    "goal"
   ],
   "metadata": {
    "collapsed": false,
    "ExecuteTime": {
     "start_time": "2023-08-30T09:33:26.010772Z",
     "end_time": "2023-08-30T09:33:27.175174Z"
    }
   }
  },
  {
   "cell_type": "code",
   "execution_count": 9,
   "outputs": [
    {
     "name": "stdout",
     "output_type": "stream",
     "text": [
      "event -> use chemistry to create violet-red paint -> state False\n",
      "event -> move to art studio -> state False\n",
      "Completed keys: tertiary_red paint, secondary, tertiary_violet paint\n",
      "----------------------------------------------------------------------------------------------------\n",
      "Sequential Subgoals:\n",
      "----------------------------------------------------------------------------------------------------\n",
      "0\ttrue\t                                GoalFind\tfocus on the intermediate mixing result (violet paint)\n",
      "1\ttrue\t                                GoalFind\tfocus on the final mixing result (violet-red paint)\n",
      "----------------------------------------------------------------------------------------------------\n",
      "Unordered and Optional Subgoals:\n",
      "----------------------------------------------------------------------------------------------------\n",
      "0\ttrue\t                   GoalMoveToNewLocation\tmove to a new location (unless starting in task location)\n",
      "1\tfalse\t                      GoalMoveToLocation\tmove to the location of the paint\n",
      "2\ttrue\t                    GoalInRoomWithObject\tbe in same location as red paint\n",
      "3\ttrue\t                    GoalInRoomWithObject\tbe in same location as blue paint\n",
      "4\ttrue\t            GoalObjectsInSingleContainer\thave all ingredients (secondary) alone in a single container\n",
      "5\ttrue\t                    GoalInRoomWithObject\tbe in same location as (secondary) violet paint\n",
      "6\ttrue\t                    GoalInRoomWithObject\tbe in same location as (tertiary) violet paint\n",
      "7\ttrue\t                    GoalInRoomWithObject\tbe in same location as (tertiary) red paint\n",
      "8\ttrue\t            GoalObjectsInSingleContainer\thave all ingredients (tertiary) alone in a single container\n",
      "9\ttrue\t                    GoalInRoomWithObject\tbe in same location as violet-red paint\n",
      "----------------------------------------------------------------------------------------------------\n",
      "\n",
      "100\n"
     ]
    }
   ],
   "source": [
    "def step_function(action: str) -> State:\n",
    "    observation, reward, isCompleted, info = env.step(action)\n",
    "    updated_state = parse_observation(observation=observation,\n",
    "                                      inventory=info['inv'],\n",
    "                                      look_around=info['look'],\n",
    "                                      task=goal,\n",
    "                                      valid_actions=info['valid'],\n",
    "                                      score=info['score'])\n",
    "    return updated_state\n",
    "\n",
    "\n",
    "agent = BDIAgent(plan_library=pl, nli_model=nli_model)\n",
    "last_state = agent.act(current_state, step_function=step_function)\n",
    "\n",
    "print(env.getGoalProgressStr())\n",
    "print(last_state.reward)"
   ],
   "metadata": {
    "collapsed": false,
    "ExecuteTime": {
     "start_time": "2023-08-30T09:33:27.171653Z",
     "end_time": "2023-08-30T09:33:35.560434Z"
    }
   }
  }
 ],
 "metadata": {
  "kernelspec": {
   "display_name": "Python 3",
   "language": "python",
   "name": "python3"
  },
  "language_info": {
   "codemirror_mode": {
    "name": "ipython",
    "version": 2
   },
   "file_extension": ".py",
   "mimetype": "text/x-python",
   "name": "python",
   "nbconvert_exporter": "python",
   "pygments_lexer": "ipython2",
   "version": "2.7.6"
  }
 },
 "nbformat": 4,
 "nbformat_minor": 0
}
