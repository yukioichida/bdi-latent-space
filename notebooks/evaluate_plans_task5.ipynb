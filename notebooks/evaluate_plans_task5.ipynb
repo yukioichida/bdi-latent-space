{
 "cells": [
  {
   "cell_type": "code",
   "execution_count": 18,
   "outputs": [],
   "source": [
    "from scienceworld import ScienceWorldEnv\n",
    "from sources.agent import BDIAgent\n",
    "from sources.scienceworld import parse_observation\n",
    "\n",
    "from sources.bdi_components.belief import State\n",
    "from sources.bdi_components.inference import NLIModel\n",
    "from sources.bdi_components.plans import PlanLibrary"
   ],
   "metadata": {
    "collapsed": false,
    "ExecuteTime": {
     "start_time": "2023-08-25T10:11:29.304351Z",
     "end_time": "2023-08-25T10:11:29.308348Z"
    }
   }
  },
  {
   "cell_type": "code",
   "execution_count": 19,
   "outputs": [
    {
     "name": "stderr",
     "output_type": "stream",
     "text": [
      "Some weights of the model checkpoint at ynie/roberta-large-snli_mnli_fever_anli_R1_R2_R3-nli were not used when initializing RobertaForSequenceClassification: ['roberta.pooler.dense.bias', 'roberta.pooler.dense.weight']\n",
      "- This IS expected if you are initializing RobertaForSequenceClassification from the checkpoint of a model trained on another task or with another architecture (e.g. initializing a BertForSequenceClassification model from a BertForPreTraining model).\n",
      "- This IS NOT expected if you are initializing RobertaForSequenceClassification from the checkpoint of a model that you expect to be exactly identical (initializing a BertForSequenceClassification model from a BertForSequenceClassification model).\n"
     ]
    }
   ],
   "source": [
    "#hg_model_hub_name = \"alisawuffles/roberta-large-wanli\"\n",
    "hg_model_hub_name = \"ynie/roberta-large-snli_mnli_fever_anli_R1_R2_R3-nli\"\n",
    "nli_model = NLIModel(hg_model_hub_name)"
   ],
   "metadata": {
    "collapsed": false,
    "ExecuteTime": {
     "start_time": "2023-08-25T10:11:29.308348Z",
     "end_time": "2023-08-25T10:11:43.762072Z"
    }
   }
  },
  {
   "cell_type": "code",
   "execution_count": 20,
   "metadata": {
    "collapsed": true,
    "ExecuteTime": {
     "start_time": "2023-08-25T10:11:43.765705Z",
     "end_time": "2023-08-25T10:11:43.769211Z"
    }
   },
   "outputs": [
    {
     "name": "stdout",
     "output_type": "stream",
     "text": [
      "dict_keys(['use chemistry to create violet-red paint', 'move to art studio', 'move to bedroom', 'move to greenhouse', 'move to kitchen', 'move to living room', 'move to workshop', 'move to outside', 'move to foundry', 'move to bathroom', 'move to hallway'])\n"
     ]
    }
   ],
   "source": [
    "# MAIN GOAL\n",
    "green_plan = \"\"\"\n",
    "    IF your goal is to use chemistry to create green paint THEN\n",
    "        move to art studio,\n",
    "        pour cup containing blue paint in art studio into jug,\n",
    "        pour cup containing yellow paint in art studio into jug,\n",
    "        mix jug,\n",
    "        focus on green paint\n",
    "\"\"\"\n",
    "\n",
    "orange_plan = \"\"\"\n",
    "    IF your goal is to use chemistry to create orange paint THEN\n",
    "        move to art studio,\n",
    "        pour cup containing red paint in art studio into jug,\n",
    "        pour cup containing yellow paint in art studio into jug,\n",
    "        mix jug,\n",
    "        focus on orange paint\n",
    "\"\"\"\n",
    "\n",
    "violet_plan = \"\"\"\n",
    "    IF your goal is to use chemistry to create violet paint THEN\n",
    "        move to art studio,\n",
    "        pour cup containing red paint in art studio into jug,\n",
    "        pour cup containing blue paint in art studio into jug,\n",
    "        mix jug,\n",
    "        focus on violet paint\n",
    "\"\"\"\n",
    "\n",
    "violet_red_plan = \"\"\"\n",
    "    IF your goal is to use chemistry to create violet-red paint CONSIDERING you are in the art studio THEN\n",
    "        pour cup containing red paint in art studio into cup containing nothing,\n",
    "        pour cup containing blue paint in art studio into cup containing red paint in table,\n",
    "        mix cup containing blue paint and red paint,\n",
    "        focus on paint in cup containing violet paint,\n",
    "        pour cup containing violet paint into cup containing violet paint,\n",
    "        open cupboard,\n",
    "        pour cup containing red paint into cup containing violet paint,\n",
    "        mix cup containing red paint and violet paint,\n",
    "        focus on paint in cup containing violet-red paint\n",
    "\"\"\"\n",
    "\n",
    "violet_red_plan_2 = \"\"\"\n",
    "    IF your goal is to use chemistry to create violet-red paint CONSIDERING you are not in art studio THEN\n",
    "        move to art studio,\n",
    "        pour cup containing red paint in art studio into cup containing nothing,\n",
    "        pour cup containing blue paint in art studio into cup containing red paint in table,\n",
    "        mix cup containing blue paint and red paint,\n",
    "        focus on paint in cup containing violet paint,\n",
    "        pour cup containing violet paint into cup containing violet paint,\n",
    "        open cupboard,\n",
    "        pour cup containing red paint into cup containing violet paint,\n",
    "        mix cup containing red paint and violet paint,\n",
    "        focus on paint in cup containing violet-red paint\n",
    "\"\"\"\n",
    "\n",
    "all_plans = [violet_red_plan, violet_red_plan_2]\n",
    "\n",
    "pl = PlanLibrary()\n",
    "pl.load_plans_from_strings(all_plans)  # load plans from strings above\n",
    "pl.load_plans_from_file(\"plans.txt\")  # load plans from file\n",
    "print(pl.plans.keys())"
   ]
  },
  {
   "cell_type": "code",
   "execution_count": 21,
   "outputs": [
    {
     "name": "stdout",
     "output_type": "stream",
     "text": [
      "huggingface/tokenizers: The current process just got forked, after parallelism has already been used. Disabling parallelism to avoid deadlocks...\n",
      "To disable this warning, you can either:\n",
      "\t- Avoid using `tokenizers` before the fork if possible\n",
      "\t- Explicitly set the environment variable TOKENIZERS_PARALLELISM=(true | false)\n",
      "Task Name: boil variation 33\n",
      "Task Description: Your task is to use chemistry to create violet-red paint. When you are part-way done, focus on the intermediate (secondary color) paint you created.  When you are completely done, focus on the violet paint.\n"
     ]
    },
    {
     "data": {
      "text/plain": "'use chemistry to create violet-red paint'"
     },
     "execution_count": 21,
     "metadata": {},
     "output_type": "execute_result"
    }
   ],
   "source": [
    "env = ScienceWorldEnv(\"\", \"\", envStepLimit=100)\n",
    "\n",
    "#root_event = 'use chemistry to create green paint'\n",
    "\n",
    "task = 'chemistry-mix-paint-tertiary-color'\n",
    "env.load(task, 0)\n",
    "randVariationIdx = env.getRandomVariationTest()\n",
    "env.load(task, 28)\n",
    "\n",
    "goal = env.getTaskDescription().split('.')[0].replace(\"Your task is to\", \"\").strip()\n",
    "\n",
    "print(f\"Task Name: \" + 'boil' + \" variation \" + str(randVariationIdx))\n",
    "print(\"Task Description: \" + str(env.getTaskDescription()))\n",
    "\n",
    "# Reset the environment\n",
    "observation, info = env.reset()\n",
    "# initial state\n",
    "observation, reward, isCompleted, info = env.step('look around')\n",
    "current_state = parse_observation(observation=observation, inventory=info['inv'], look_around=info['look'],\n",
    "                                  task=goal, valid_actions=info['valid'])\n",
    "\n",
    "goal"
   ],
   "metadata": {
    "collapsed": false,
    "ExecuteTime": {
     "start_time": "2023-08-25T10:11:43.771338Z",
     "end_time": "2023-08-25T10:11:44.952698Z"
    }
   }
  },
  {
   "cell_type": "code",
   "execution_count": 22,
   "outputs": [
    {
     "name": "stdout",
     "output_type": "stream",
     "text": [
      "[(0.6918235421180725, Plan(triggering_event='use chemistry to create violet-red paint', context=['you are not in art studio'], body=['move to art studio', 'pour cup containing red paint in art studio into cup containing nothing', 'pour cup containing blue paint in art studio into cup containing red paint in table', 'mix cup containing blue paint and red paint', 'focus on paint in cup containing violet paint', 'pour cup containing violet paint into cup containing violet paint', 'open cupboard', 'pour cup containing red paint into cup containing violet paint', 'mix cup containing red paint and violet paint', 'focus on paint in cup containing violet-red paint'], idx=1))]\n",
      "Plan Selected Plan(triggering_event='use chemistry to create violet-red paint', context=['you are not in art studio'], body=['move to art studio', 'pour cup containing red paint in art studio into cup containing nothing', 'pour cup containing blue paint in art studio into cup containing red paint in table', 'mix cup containing blue paint and red paint', 'focus on paint in cup containing violet paint', 'pour cup containing violet paint into cup containing violet paint', 'open cupboard', 'pour cup containing red paint into cup containing violet paint', 'mix cup containing red paint and violet paint', 'focus on paint in cup containing violet-red paint'], idx=1)\n",
      "[(0.45293015241622925, Plan(triggering_event='move to art studio', context=['you are in greenhouse'], body=['open door to hallway', 'go to hallway', 'open art studio door', 'go to art studio'], idx=28)), (0.4446133077144623, Plan(triggering_event='move to art studio', context=['you are in kitchen'], body=['open door to hallway', 'go to hallway', 'open art studio door', 'go to art studio'], idx=37)), (0.6627408266067505, Plan(triggering_event='move to art studio', context=['you are in outside'], body=['open door to greenhouse', 'go to greenhouse', 'open door to hallway', 'go to hallway', 'open art studio door', 'go to art studio'], idx=64)), (0.4371083676815033, Plan(triggering_event='move to art studio', context=['you are in foundry'], body=['open door', 'go to outside', 'open door to greenhouse', 'go to greenhouse', 'open door to hallway', 'go to hallway', 'open art studio door', 'go to art studio'], idx=73))]\n",
      "Plan Selected Plan(triggering_event='move to art studio', context=['you are in outside'], body=['open door to greenhouse', 'go to greenhouse', 'open door to hallway', 'go to hallway', 'open art studio door', 'go to art studio'], idx=64)\n",
      "Completed keys: tertiary_red paint, secondary, tertiary_violet paint\n",
      "----------------------------------------------------------------------------------------------------\n",
      "Sequential Subgoals:\n",
      "----------------------------------------------------------------------------------------------------\n",
      "0\ttrue\t                                GoalFind\tfocus on the intermediate mixing result (violet paint)\n",
      "1\ttrue\t                                GoalFind\tfocus on the final mixing result (violet-red paint)\n",
      "----------------------------------------------------------------------------------------------------\n",
      "Unordered and Optional Subgoals:\n",
      "----------------------------------------------------------------------------------------------------\n",
      "0\ttrue\t                   GoalMoveToNewLocation\tmove to a new location (unless starting in task location)\n",
      "1\tfalse\t                      GoalMoveToLocation\tmove to the location of the paint\n",
      "2\ttrue\t                    GoalInRoomWithObject\tbe in same location as red paint\n",
      "3\ttrue\t                    GoalInRoomWithObject\tbe in same location as blue paint\n",
      "4\ttrue\t            GoalObjectsInSingleContainer\thave all ingredients (secondary) alone in a single container\n",
      "5\ttrue\t                    GoalInRoomWithObject\tbe in same location as (secondary) violet paint\n",
      "6\ttrue\t                    GoalInRoomWithObject\tbe in same location as (tertiary) violet paint\n",
      "7\ttrue\t                    GoalInRoomWithObject\tbe in same location as (tertiary) red paint\n",
      "8\ttrue\t            GoalObjectsInSingleContainer\thave all ingredients (tertiary) alone in a single container\n",
      "9\ttrue\t                    GoalInRoomWithObject\tbe in same location as violet-red paint\n",
      "----------------------------------------------------------------------------------------------------\n",
      "\n",
      "100\n"
     ]
    }
   ],
   "source": [
    "def step_function(action: str) -> State:\n",
    "    observation, reward, isCompleted, info = env.step(action)\n",
    "    updated_state = parse_observation(observation=observation,\n",
    "                                      inventory=info['inv'],\n",
    "                                      look_around=info['look'],\n",
    "                                      task=goal,\n",
    "                                      valid_actions=info['valid'],\n",
    "                                      score=info['score'])\n",
    "    return updated_state\n",
    "\n",
    "\n",
    "agent = BDIAgent(plan_library=pl, nli_model=nli_model)\n",
    "last_state = agent.act(current_state, step_function=step_function)\n",
    "\n",
    "print(env.getGoalProgressStr())\n",
    "print(last_state.reward)"
   ],
   "metadata": {
    "collapsed": false,
    "ExecuteTime": {
     "start_time": "2023-08-25T10:11:44.952698Z",
     "end_time": "2023-08-25T10:11:52.980490Z"
    }
   }
  },
  {
   "cell_type": "code",
   "execution_count": 23,
   "outputs": [
    {
     "data": {
      "text/plain": "2"
     },
     "execution_count": 23,
     "metadata": {},
     "output_type": "execute_result"
    }
   ],
   "source": [
    "len(agent.plan_library.plans[goal])"
   ],
   "metadata": {
    "collapsed": false,
    "ExecuteTime": {
     "start_time": "2023-08-25T10:11:52.982343Z",
     "end_time": "2023-08-25T10:11:52.985897Z"
    }
   }
  },
  {
   "cell_type": "code",
   "execution_count": 24,
   "outputs": [
    {
     "data": {
      "text/plain": "[]"
     },
     "execution_count": 24,
     "metadata": {},
     "output_type": "execute_result"
    }
   ],
   "source": [
    "[a for a in last_state.valid_actions if a.startswith(\"pour cup containing red paint in art studio \")]"
   ],
   "metadata": {
    "collapsed": false,
    "ExecuteTime": {
     "start_time": "2023-08-25T10:11:52.989538Z",
     "end_time": "2023-08-25T10:11:52.996967Z"
    }
   }
  },
  {
   "cell_type": "code",
   "execution_count": 25,
   "outputs": [
    {
     "data": {
      "text/plain": "['open drawer']"
     },
     "execution_count": 25,
     "metadata": {},
     "output_type": "execute_result"
    }
   ],
   "source": [
    "[a for a in last_state.valid_actions if a.startswith(\"open\")]"
   ],
   "metadata": {
    "collapsed": false,
    "ExecuteTime": {
     "start_time": "2023-08-25T10:11:52.993451Z",
     "end_time": "2023-08-25T10:11:52.999986Z"
    }
   }
  },
  {
   "cell_type": "code",
   "execution_count": 26,
   "outputs": [
    {
     "data": {
      "text/plain": "'No known action matches that input.'"
     },
     "execution_count": 26,
     "metadata": {},
     "output_type": "execute_result"
    }
   ],
   "source": [
    "\n",
    "observation, reward, isCompleted, info = env.step('open art studio door')\n",
    "observation"
   ],
   "metadata": {
    "collapsed": false,
    "ExecuteTime": {
     "start_time": "2023-08-25T10:11:53.000993Z",
     "end_time": "2023-08-25T10:11:53.089069Z"
    }
   }
  },
  {
   "cell_type": "code",
   "execution_count": 27,
   "outputs": [
    {
     "data": {
      "text/plain": "'This room is called the art studio. In it, you see: \\n\\tthe agent\\n\\ta substance called air\\n\\ta large cupboard. The large cupboard door is open. In the large cupboard is: a drawer, a wood cup (containing yellow paint), a wood cup (containing blue paint), a wood cup (containing nothing).\\n\\ta table. On the table is: a glass cup (containing violet-red paint).\\n\\ta wood cup (containing nothing)\\n\\ta wood cup (containing nothing)\\n\\ta wood cup (containing yellow paint)\\nYou also see:\\n\\tA door to the hallway (that is open)\\n'"
     },
     "execution_count": 27,
     "metadata": {},
     "output_type": "execute_result"
    }
   ],
   "source": [
    "info['look']"
   ],
   "metadata": {
    "collapsed": false,
    "ExecuteTime": {
     "start_time": "2023-08-25T10:11:53.089069Z",
     "end_time": "2023-08-25T10:11:53.093362Z"
    }
   }
  },
  {
   "cell_type": "code",
   "execution_count": 27,
   "outputs": [],
   "source": [],
   "metadata": {
    "collapsed": false,
    "ExecuteTime": {
     "start_time": "2023-08-25T10:11:53.094365Z",
     "end_time": "2023-08-25T10:11:53.096989Z"
    }
   }
  }
 ],
 "metadata": {
  "kernelspec": {
   "display_name": "Python 3",
   "language": "python",
   "name": "python3"
  },
  "language_info": {
   "codemirror_mode": {
    "name": "ipython",
    "version": 2
   },
   "file_extension": ".py",
   "mimetype": "text/x-python",
   "name": "python",
   "nbconvert_exporter": "python",
   "pygments_lexer": "ipython2",
   "version": "2.7.6"
  }
 },
 "nbformat": 4,
 "nbformat_minor": 0
}
