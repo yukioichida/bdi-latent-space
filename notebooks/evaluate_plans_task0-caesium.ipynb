{
 "cells": [
  {
   "cell_type": "code",
   "execution_count": 1,
   "outputs": [],
   "source": [
    "from scienceworld import ScienceWorldEnv\n",
    "from sources.agent import BDIAgent\n",
    "from sources.scienceworld import parse_observation\n",
    "\n",
    "from sources.bdi_components.belief import State\n",
    "from sources.bdi_components.inference import NLIModel\n",
    "from sources.bdi_components.plans import PlanLibrary"
   ],
   "metadata": {
    "collapsed": false,
    "ExecuteTime": {
     "start_time": "2023-08-25T16:37:23.432405Z",
     "end_time": "2023-08-25T16:37:25.396983Z"
    }
   }
  },
  {
   "cell_type": "code",
   "execution_count": 2,
   "outputs": [],
   "source": [
    "hg_model_hub_name = \"alisawuffles/roberta-large-wanli\"\n",
    "nli_model = NLIModel(hg_model_hub_name)"
   ],
   "metadata": {
    "collapsed": false,
    "ExecuteTime": {
     "start_time": "2023-08-25T16:37:25.398362Z",
     "end_time": "2023-08-25T16:37:46.748864Z"
    }
   }
  },
  {
   "cell_type": "code",
   "execution_count": 6,
   "metadata": {
    "collapsed": true,
    "ExecuteTime": {
     "start_time": "2023-08-25T16:43:45.286342Z",
     "end_time": "2023-08-25T16:43:45.298573Z"
    }
   },
   "outputs": [
    {
     "name": "stdout",
     "output_type": "stream",
     "text": [
      "dict_keys(['boil caesium', 'get metal pot', 'get caesium', 'heat caesium on blast furnace', 'move to art studio', 'move to bedroom', 'move to greenhouse', 'move to kitchen', 'move to living room', 'move to workshop', 'move to outside', 'move to foundry', 'move to bathroom', 'move to hallway'])\n"
     ]
    }
   ],
   "source": [
    "# MAIN GOAL\n",
    "\n",
    "\n",
    "boil_caesium_plan = \"\"\"\n",
    "    IF your goal is to boil caesium THEN\n",
    "        move to kitchen,\n",
    "        pick up thermometer,\n",
    "        get metal pot,\n",
    "        get caesium,\n",
    "        heat caesium on blast furnace\n",
    "\"\"\"\n",
    "\n",
    "# get metal pot\n",
    "subplan_a = \"\"\"\n",
    "    IF your goal is to get metal pot CONSIDERING you are in the kitchen AND you see a cupboard THEN\n",
    "        open cupboard,\n",
    "        pick up metal pot\n",
    "\"\"\"\n",
    "\n",
    "# fill metal pot with water\n",
    "subplan_b = \"\"\"\n",
    "    IF your goal is to get caesium CONSIDERING you have metal pot in your inventory THEN\n",
    "        move to workshop,\n",
    "        pick up caesium,\n",
    "        focus on caesium,\n",
    "        move caesium to metal pot\n",
    "\"\"\"\n",
    "\n",
    "# heat water on stove\n",
    "subplan_c = \"\"\"\n",
    "    IF your goal is to heat caesium on blast furnace CONSIDERING you have metal pot with caesium in your inventory THEN\n",
    "        move to foundry,\n",
    "        open blast furnace,\n",
    "        move metal pot to blast furnace,\n",
    "        activate blast furnace,\n",
    "        use thermometer on metal pot,\n",
    "        wait,\n",
    "        use thermometer on metal pot\n",
    "\"\"\"\n",
    "\n",
    "all_plans = [boil_caesium_plan, subplan_a, subplan_b, subplan_c]\n",
    "\n",
    "pl = PlanLibrary()\n",
    "pl.load_plans_from_strings(all_plans)  # load plans from strings above\n",
    "pl.load_plans_from_file(\"plans.txt\")  # load plans from file\n",
    "print(pl.plans.keys())"
   ]
  },
  {
   "cell_type": "code",
   "execution_count": 7,
   "outputs": [
    {
     "name": "stdout",
     "output_type": "stream",
     "text": [
      "huggingface/tokenizers: The current process just got forked, after parallelism has already been used. Disabling parallelism to avoid deadlocks...\n",
      "To disable this warning, you can either:\n",
      "\t- Avoid using `tokenizers` before the fork if possible\n",
      "\t- Explicitly set the environment variable TOKENIZERS_PARALLELISM=(true | false)\n",
      "Task Name: boil variation 29\n",
      "Task Description: Your task is to boil caesium. For compounds without a boiling point, combusting the substance is also acceptable. First, focus on the substance. Then, take actions that will cause it to change its state of matter.\n"
     ]
    },
    {
     "data": {
      "text/plain": "'boil caesium'"
     },
     "execution_count": 7,
     "metadata": {},
     "output_type": "execute_result"
    }
   ],
   "source": [
    "env = ScienceWorldEnv(\"\", \"\", envStepLimit=100)\n",
    "\n",
    "#root_event = 'use chemistry to create green paint'\n",
    "\n",
    "task = 'boil'\n",
    "env.load(task, 0)\n",
    "#randVariationIdx = env.getRandomVariationTest()\n",
    "randVariationIdx = 29\n",
    "env.load(task, randVariationIdx)\n",
    "\n",
    "goal = env.getTaskDescription().split('.')[0].replace(\"Your task is to\", \"\").strip()\n",
    "\n",
    "print(f\"Task Name: \" + 'boil' + \" variation \" + str(randVariationIdx))\n",
    "print(\"Task Description: \" + str(env.getTaskDescription()))\n",
    "\n",
    "# Reset the environment\n",
    "observation, info = env.reset()\n",
    "# initial state\n",
    "observation, reward, isCompleted, info = env.step('look around')\n",
    "current_state = parse_observation(observation=observation, inventory=info['inv'], look_around=info['look'],\n",
    "                                  task=goal, valid_actions=info['valid'])\n",
    "\n",
    "goal"
   ],
   "metadata": {
    "collapsed": false,
    "ExecuteTime": {
     "start_time": "2023-08-25T16:43:45.704293Z",
     "end_time": "2023-08-25T16:43:46.934660Z"
    }
   }
  },
  {
   "cell_type": "code",
   "execution_count": 8,
   "outputs": [
    {
     "name": "stdout",
     "output_type": "stream",
     "text": [
      "event -> boil caesium -> state False\n",
      "event -> move to kitchen -> state False\n",
      "Action: open door to kitchen -> Obs The door is now open.\n",
      "Action: go to kitchen -> Obs You move to the kitchen.\n",
      "Action: pick up thermometer -> Obs You move the thermometer to the inventory.\n",
      "event -> get metal pot -> state False\n",
      "Action: open cupboard -> Obs The cupboard is now open.\n",
      "Action: pick up metal pot -> Obs You move the metal pot to the inventory.\n",
      "event -> get caesium -> state False\n",
      "event -> move to workshop -> state False\n",
      "Action: open door to hallway -> Obs The door is now open.\n",
      "Action: go to hallway -> Obs You move to the hallway.\n",
      "Action: open door to workshop -> Obs The door is now open.\n",
      "Action: go to workshop -> Obs You move to the workshop.\n",
      "Action: pick up caesium -> Obs You move the caesium to the inventory.\n",
      "Action: focus on caesium -> Obs You focus on the caesium.\n",
      "Action: move caesium to metal pot -> Obs You move the caesium to the metal pot.\n",
      "event -> heat caesium on blast furnace -> state False\n",
      "event -> move to foundry -> state False\n",
      "Action: open door -> Obs The door is already open.\n",
      "Action: go to hallway -> Obs You move to the hallway.\n",
      "Action: open door to greenhouse -> Obs The door is now open.\n",
      "Action: go to greenhouse -> Obs You move to the greenhouse.\n",
      "Action: open door to outside -> Obs The door is now open.\n",
      "Action: go to outside -> Obs You move to the outside.\n",
      "Action: open door to foundry -> Obs The door is now open.\n",
      "Action: go to foundry -> Obs You move to the foundry.\n",
      "Action: open blast furnace -> Obs The blast furnace is now open.\n",
      "Action: move metal pot to blast furnace -> Obs You move the metal pot to the blast furnace.\n",
      "Action: activate blast furnace -> Obs The blast furnace is now activated.\n",
      "Action: use thermometer on metal pot -> Obs the thermometer measures a temperature of 279 degrees celsius\n",
      "Action: wait -> Obs You decide to wait for 10 iterations.\n",
      "Action: use thermometer on metal pot -> Obs the thermometer measures a temperature of 1620 degrees celsius\n",
      "Completed keys: \n",
      "----------------------------------------------------------------------------------------------------\n",
      "Sequential Subgoals:\n",
      "----------------------------------------------------------------------------------------------------\n",
      "0\ttrue\t                                GoalFind\tfocus on substance\n",
      "1\ttrue\t                 GoalChangeStateOfMatter\tsubstance is in a liquid state\n",
      "2\ttrue\t                 GoalChangeStateOfMatter\tsubstance is in a gaseous state (or combusting)\n",
      "----------------------------------------------------------------------------------------------------\n",
      "Unordered and Optional Subgoals:\n",
      "----------------------------------------------------------------------------------------------------\n",
      "0\ttrue\t                    GoalInRoomWithObject\tbe in same location as caesium\n",
      "1\ttrue\t            GoalObjectsInSingleContainer\thave substance alone in a single container\n",
      "2\tfalse\t              GoalActivateDeviceWithName\tactivate heater (stove)\n",
      "3\ttrue\t              GoalActivateDeviceWithName\tactivate heater (blast furnace)\n",
      "4\tfalse\t              GoalActivateDeviceWithName\tactivate heater (oven)\n",
      "5\tfalse\t              GoalActivateDeviceWithName\tactivate heater (hot plate)\n",
      "6\tfalse\t     GoalSpecificObjectInDirectContainer\thave lighter in inventory\n",
      "7\tfalse\t     GoalSpecificObjectInDirectContainer\tmove wood into fire pit\n",
      "8\tfalse\t                   GoalTemperatureOnFire\tignite wood\n",
      "9\tfalse\t                   GoalObjectInContainer\thave object on heater (stove)\n",
      "10\ttrue\t                   GoalObjectInContainer\thave object on heater (blast furnace)\n",
      "11\tfalse\t                   GoalObjectInContainer\thave object on heater (oven)\n",
      "12\tfalse\t                   GoalObjectInContainer\thave object on heater (hot plate)\n",
      "13\tfalse\t                   GoalObjectInContainer\thave object on heater (fire pit)\n",
      "14\ttrue\t                 GoalTemperatureIncrease\theat object by at least 20C\n",
      "----------------------------------------------------------------------------------------------------\n",
      "\n",
      "100\n"
     ]
    }
   ],
   "source": [
    "def step_function(action: str) -> State:\n",
    "    observation, reward, isCompleted, info = env.step(action)\n",
    "    updated_state = parse_observation(observation=observation,\n",
    "                                      inventory=info['inv'],\n",
    "                                      look_around=info['look'],\n",
    "                                      task=goal,\n",
    "                                      valid_actions=info['valid'],\n",
    "                                      score=info['score'])\n",
    "    print(f\"Action: {action} -> Obs {observation}\")\n",
    "    return updated_state\n",
    "\n",
    "\n",
    "agent = BDIAgent(plan_library=pl, nli_model=nli_model)\n",
    "last_state = agent.act(current_state, step_function=step_function)\n",
    "\n",
    "print(env.getGoalProgressStr())\n",
    "print(last_state.reward)"
   ],
   "metadata": {
    "collapsed": false,
    "ExecuteTime": {
     "start_time": "2023-08-25T16:43:46.934660Z",
     "end_time": "2023-08-25T16:44:28.759338Z"
    }
   }
  },
  {
   "cell_type": "code",
   "execution_count": null,
   "outputs": [],
   "source": [],
   "metadata": {
    "collapsed": false
   }
  }
 ],
 "metadata": {
  "kernelspec": {
   "display_name": "Python 3",
   "language": "python",
   "name": "python3"
  },
  "language_info": {
   "codemirror_mode": {
    "name": "ipython",
    "version": 2
   },
   "file_extension": ".py",
   "mimetype": "text/x-python",
   "name": "python",
   "nbconvert_exporter": "python",
   "pygments_lexer": "ipython2",
   "version": "2.7.6"
  }
 },
 "nbformat": 4,
 "nbformat_minor": 0
}
