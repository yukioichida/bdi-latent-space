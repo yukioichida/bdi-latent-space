{
 "cells": [
  {
   "cell_type": "code",
   "execution_count": 1,
   "metadata": {
    "collapsed": true,
    "ExecuteTime": {
     "start_time": "2023-08-21T11:52:08.468515Z",
     "end_time": "2023-08-21T11:52:08.519944Z"
    }
   },
   "outputs": [],
   "source": [
    "from textx import metamodel_from_str, get_children_of_type\n",
    "\n",
    "grammar = \"\"\"\n",
    "Model: commands*=DrawCommand;\n",
    "DrawCommand: MoveCommand | ShapeCommand;\n",
    "ShapeCommand: LineTo | Circle;\n",
    "MoveCommand: MoveTo | MoveBy;\n",
    "MoveTo: 'move' 'to' position=Point;\n",
    "MoveBy: 'move' 'by' vector=Point;\n",
    "Circle: 'circle' radius=INT;\n",
    "LineTo: 'line' 'to' point=Point;\n",
    "Point: x=INT ',' y=INT;\n",
    "\"\"\"\n",
    "\n",
    "# We will provide our class for Point.\n",
    "# Classes for other rules will be dynamically generated.\n",
    "class Point(object):\n",
    "    def __init__(self, parent, x, y):\n",
    "        self.parent = parent\n",
    "        self.x = x\n",
    "        self.y = y\n",
    "\n",
    "    def __str__(self):\n",
    "        return \"{},{}\".format(self.x, self.y)\n",
    "\n",
    "    def __add__(self, other):\n",
    "        return Point(self.parent, self.x + other.x, self.y + other.y)\n",
    "\n",
    "# Create meta-model from the grammar. Provide `Point` class to be used for\n",
    "# the rule `Point` from the grammar.\n",
    "mm = metamodel_from_str(grammar, classes=[Point])"
   ]
  },
  {
   "cell_type": "code",
   "execution_count": 2,
   "outputs": [
    {
     "name": "stdout",
     "output_type": "stream",
     "text": [
      "Moving to position 5,10\n",
      "Drawing line from 5,10 to 10,10\n",
      "Drawing line from 10,10 to 20,20\n",
      "Moving by 5,-7 to a new position 25,13\n",
      "Drawing circle at 25,13 with radius 10\n",
      "Drawing line from 25,13 to 10,10\n",
      "End position is 10,10\n",
      "Point: 5,10\n",
      "Point: 10,10\n",
      "Point: 20,20\n",
      "Point: 5,-7\n",
      "Point: 10,10\n"
     ]
    }
   ],
   "source": [
    "# Meta-model knows how to parse and instantiate models.\n",
    "model_str = \"\"\"\n",
    "    move to 5, 10\n",
    "    line to 10, 10\n",
    "    line to 20, 20\n",
    "    move by 5, -7\n",
    "    circle 10\n",
    "    line to 10, 10\n",
    "\"\"\"\n",
    "model = mm.model_from_str(model_str)\n",
    "\n",
    "# At this point model is a plain Python object graph with instances of\n",
    "# dynamically created classes and attributes following the grammar.\n",
    "\n",
    "def cname(o):\n",
    "    return o.__class__.__name__\n",
    "\n",
    "# Let's interpret the model\n",
    "position = Point(None, 0, 0)\n",
    "for command in model.commands:\n",
    "    if cname(command) == 'MoveTo':\n",
    "        print('Moving to position', command.position)\n",
    "        position = command.position\n",
    "    elif cname(command) == 'MoveBy':\n",
    "        position = position + command.vector\n",
    "        print('Moving by', command.vector, 'to a new position', position)\n",
    "    elif cname(command) == 'Circle':\n",
    "        print('Drawing circle at', position, 'with radius', command.radius)\n",
    "    else:\n",
    "        print('Drawing line from', position, 'to', command.point)\n",
    "        position = command.point\n",
    "print('End position is', position)\n",
    "\n",
    "# Collect all points starting from the root of the model\n",
    "points = get_children_of_type(\"Point\", model)\n",
    "for point in points:\n",
    "    print('Point: {}'.format(point))"
   ],
   "metadata": {
    "collapsed": false,
    "ExecuteTime": {
     "start_time": "2023-08-21T11:52:10.812556Z",
     "end_time": "2023-08-21T11:52:10.825669Z"
    }
   }
  },
  {
   "cell_type": "code",
   "execution_count": 20,
   "outputs": [
    {
     "ename": "TextXSyntaxError",
     "evalue": "None:2:87: Expected 'then' => 'to kitchen*, pick up '",
     "output_type": "error",
     "traceback": [
      "\u001B[0;31m---------------------------------------------------------------------------\u001B[0m",
      "\u001B[0;31mNoMatch\u001B[0m                                   Traceback (most recent call last)",
      "File \u001B[0;32m~/miniconda3/envs/dl/lib/python3.9/site-packages/textx/model.py:328\u001B[0m, in \u001B[0;36mget_model_parser.<locals>.TextXModelParser._parse\u001B[0;34m(self)\u001B[0m\n\u001B[1;32m    327\u001B[0m \u001B[38;5;28;01mtry\u001B[39;00m:\n\u001B[0;32m--> 328\u001B[0m     \u001B[38;5;28;01mreturn\u001B[39;00m \u001B[38;5;28;43mself\u001B[39;49m\u001B[38;5;241;43m.\u001B[39;49m\u001B[43mparser_model\u001B[49m\u001B[38;5;241;43m.\u001B[39;49m\u001B[43mparse\u001B[49m\u001B[43m(\u001B[49m\u001B[38;5;28;43mself\u001B[39;49m\u001B[43m)\u001B[49m\n\u001B[1;32m    329\u001B[0m \u001B[38;5;28;01mexcept\u001B[39;00m NoMatch \u001B[38;5;28;01mas\u001B[39;00m e:\n",
      "File \u001B[0;32m~/miniconda3/envs/dl/lib/python3.9/site-packages/arpeggio/__init__.py:300\u001B[0m, in \u001B[0;36mParsingExpression.parse\u001B[0;34m(self, parser)\u001B[0m\n\u001B[1;32m    299\u001B[0m \u001B[38;5;28;01mtry\u001B[39;00m:\n\u001B[0;32m--> 300\u001B[0m     result \u001B[38;5;241m=\u001B[39m \u001B[38;5;28;43mself\u001B[39;49m\u001B[38;5;241;43m.\u001B[39;49m\u001B[43m_parse\u001B[49m\u001B[43m(\u001B[49m\u001B[43mparser\u001B[49m\u001B[43m)\u001B[49m\n\u001B[1;32m    301\u001B[0m     \u001B[38;5;28;01mif\u001B[39;00m \u001B[38;5;28mself\u001B[39m\u001B[38;5;241m.\u001B[39msuppress \u001B[38;5;129;01mor\u001B[39;00m (\u001B[38;5;28mtype\u001B[39m(result) \u001B[38;5;129;01mis\u001B[39;00m \u001B[38;5;28mlist\u001B[39m \u001B[38;5;129;01mand\u001B[39;00m\n\u001B[1;32m    302\u001B[0m                          result \u001B[38;5;129;01mand\u001B[39;00m result[\u001B[38;5;241m0\u001B[39m] \u001B[38;5;129;01mis\u001B[39;00m \u001B[38;5;28;01mNone\u001B[39;00m):\n",
      "File \u001B[0;32m~/miniconda3/envs/dl/lib/python3.9/site-packages/arpeggio/__init__.py:379\u001B[0m, in \u001B[0;36mSequence._parse\u001B[0;34m(self, parser)\u001B[0m\n\u001B[1;32m    378\u001B[0m \u001B[38;5;28;01mfor\u001B[39;00m e \u001B[38;5;129;01min\u001B[39;00m \u001B[38;5;28mself\u001B[39m\u001B[38;5;241m.\u001B[39mnodes:\n\u001B[0;32m--> 379\u001B[0m     result \u001B[38;5;241m=\u001B[39m \u001B[43me\u001B[49m\u001B[38;5;241;43m.\u001B[39;49m\u001B[43mparse\u001B[49m\u001B[43m(\u001B[49m\u001B[43mparser\u001B[49m\u001B[43m)\u001B[49m\n\u001B[1;32m    380\u001B[0m     \u001B[38;5;28;01mif\u001B[39;00m result:\n",
      "File \u001B[0;32m~/miniconda3/envs/dl/lib/python3.9/site-packages/arpeggio/__init__.py:300\u001B[0m, in \u001B[0;36mParsingExpression.parse\u001B[0;34m(self, parser)\u001B[0m\n\u001B[1;32m    299\u001B[0m \u001B[38;5;28;01mtry\u001B[39;00m:\n\u001B[0;32m--> 300\u001B[0m     result \u001B[38;5;241m=\u001B[39m \u001B[38;5;28;43mself\u001B[39;49m\u001B[38;5;241;43m.\u001B[39;49m\u001B[43m_parse\u001B[49m\u001B[43m(\u001B[49m\u001B[43mparser\u001B[49m\u001B[43m)\u001B[49m\n\u001B[1;32m    301\u001B[0m     \u001B[38;5;28;01mif\u001B[39;00m \u001B[38;5;28mself\u001B[39m\u001B[38;5;241m.\u001B[39msuppress \u001B[38;5;129;01mor\u001B[39;00m (\u001B[38;5;28mtype\u001B[39m(result) \u001B[38;5;129;01mis\u001B[39;00m \u001B[38;5;28mlist\u001B[39m \u001B[38;5;129;01mand\u001B[39;00m\n\u001B[1;32m    302\u001B[0m                          result \u001B[38;5;129;01mand\u001B[39;00m result[\u001B[38;5;241m0\u001B[39m] \u001B[38;5;129;01mis\u001B[39;00m \u001B[38;5;28;01mNone\u001B[39;00m):\n",
      "File \u001B[0;32m~/miniconda3/envs/dl/lib/python3.9/site-packages/arpeggio/__init__.py:379\u001B[0m, in \u001B[0;36mSequence._parse\u001B[0;34m(self, parser)\u001B[0m\n\u001B[1;32m    378\u001B[0m \u001B[38;5;28;01mfor\u001B[39;00m e \u001B[38;5;129;01min\u001B[39;00m \u001B[38;5;28mself\u001B[39m\u001B[38;5;241m.\u001B[39mnodes:\n\u001B[0;32m--> 379\u001B[0m     result \u001B[38;5;241m=\u001B[39m \u001B[43me\u001B[49m\u001B[38;5;241;43m.\u001B[39;49m\u001B[43mparse\u001B[49m\u001B[43m(\u001B[49m\u001B[43mparser\u001B[49m\u001B[43m)\u001B[49m\n\u001B[1;32m    380\u001B[0m     \u001B[38;5;28;01mif\u001B[39;00m result:\n",
      "File \u001B[0;32m~/miniconda3/envs/dl/lib/python3.9/site-packages/arpeggio/__init__.py:798\u001B[0m, in \u001B[0;36mMatch.parse\u001B[0;34m(self, parser)\u001B[0m\n\u001B[1;32m    796\u001B[0m         parser\u001B[38;5;241m.\u001B[39mcomment_positions[comment_start] \u001B[38;5;241m=\u001B[39m parser\u001B[38;5;241m.\u001B[39mposition\n\u001B[0;32m--> 798\u001B[0m result \u001B[38;5;241m=\u001B[39m \u001B[38;5;28;43mself\u001B[39;49m\u001B[38;5;241;43m.\u001B[39;49m\u001B[43m_parse\u001B[49m\u001B[43m(\u001B[49m\u001B[43mparser\u001B[49m\u001B[43m)\u001B[49m\n\u001B[1;32m    799\u001B[0m \u001B[38;5;28;01mif\u001B[39;00m \u001B[38;5;129;01mnot\u001B[39;00m \u001B[38;5;28mself\u001B[39m\u001B[38;5;241m.\u001B[39msuppress:\n",
      "File \u001B[0;32m~/miniconda3/envs/dl/lib/python3.9/site-packages/arpeggio/__init__.py:907\u001B[0m, in \u001B[0;36mStrMatch._parse\u001B[0;34m(self, parser)\u001B[0m\n\u001B[1;32m    903\u001B[0m     parser\u001B[38;5;241m.\u001B[39mdprint(\n\u001B[1;32m    904\u001B[0m         \u001B[38;5;124m\"\u001B[39m\u001B[38;5;124m-- No match \u001B[39m\u001B[38;5;124m'\u001B[39m\u001B[38;5;132;01m{}\u001B[39;00m\u001B[38;5;124m'\u001B[39m\u001B[38;5;124m at \u001B[39m\u001B[38;5;132;01m{}\u001B[39;00m\u001B[38;5;124m => \u001B[39m\u001B[38;5;124m'\u001B[39m\u001B[38;5;132;01m{}\u001B[39;00m\u001B[38;5;124m'\u001B[39m\u001B[38;5;124m\"\u001B[39m\n\u001B[1;32m    905\u001B[0m         \u001B[38;5;241m.\u001B[39mformat(\u001B[38;5;28mself\u001B[39m\u001B[38;5;241m.\u001B[39mto_match, c_pos,\n\u001B[1;32m    906\u001B[0m                 parser\u001B[38;5;241m.\u001B[39mcontext(\u001B[38;5;28mlen\u001B[39m(\u001B[38;5;28mself\u001B[39m\u001B[38;5;241m.\u001B[39mto_match))))\n\u001B[0;32m--> 907\u001B[0m \u001B[43mparser\u001B[49m\u001B[38;5;241;43m.\u001B[39;49m\u001B[43m_nm_raise\u001B[49m\u001B[43m(\u001B[49m\u001B[38;5;28;43mself\u001B[39;49m\u001B[43m,\u001B[49m\u001B[43m \u001B[49m\u001B[43mc_pos\u001B[49m\u001B[43m,\u001B[49m\u001B[43m \u001B[49m\u001B[43mparser\u001B[49m\u001B[43m)\u001B[49m\n",
      "File \u001B[0;32m~/miniconda3/envs/dl/lib/python3.9/site-packages/arpeggio/__init__.py:1727\u001B[0m, in \u001B[0;36mParser._nm_raise\u001B[0;34m(self, *args)\u001B[0m\n\u001B[1;32m   1725\u001B[0m         \u001B[38;5;28mself\u001B[39m\u001B[38;5;241m.\u001B[39mnm\u001B[38;5;241m.\u001B[39mrules\u001B[38;5;241m.\u001B[39mappend(rule)\n\u001B[0;32m-> 1727\u001B[0m \u001B[38;5;28;01mraise\u001B[39;00m \u001B[38;5;28mself\u001B[39m\u001B[38;5;241m.\u001B[39mnm\n",
      "\u001B[0;31mNoMatch\u001B[0m: Expected 'then' at position (2, 87) => 'to kitchen*, pick up '.",
      "\nDuring handling of the above exception, another exception occurred:\n",
      "\u001B[0;31mTextXSyntaxError\u001B[0m                          Traceback (most recent call last)",
      "Cell \u001B[0;32mIn[20], line 13\u001B[0m\n\u001B[1;32m      8\u001B[0m language \u001B[38;5;241m=\u001B[39m metamodel_from_str(grammar)\n\u001B[1;32m     10\u001B[0m plan \u001B[38;5;241m=\u001B[39m \u001B[38;5;124m\"\"\"\u001B[39m\n\u001B[1;32m     11\u001B[0m \u001B[38;5;124mif your task is to boil water, CONSIDERING you are in the hallway then move to kitchen, pick up metal pot\u001B[39m\n\u001B[1;32m     12\u001B[0m \u001B[38;5;124m\"\"\"\u001B[39m\n\u001B[0;32m---> 13\u001B[0m model \u001B[38;5;241m=\u001B[39m \u001B[43mlanguage\u001B[49m\u001B[38;5;241;43m.\u001B[39;49m\u001B[43mmodel_from_str\u001B[49m\u001B[43m(\u001B[49m\u001B[43mplan\u001B[49m\u001B[43m)\u001B[49m\n\u001B[1;32m     15\u001B[0m model\n",
      "File \u001B[0;32m~/miniconda3/envs/dl/lib/python3.9/site-packages/textx/metamodel.py:639\u001B[0m, in \u001B[0;36mTextXMetaModel.model_from_str\u001B[0;34m(self, model_str, file_name, debug, pre_ref_resolution_callback, encoding, **kwargs)\u001B[0m\n\u001B[1;32m    636\u001B[0m     \u001B[38;5;28;01mif\u001B[39;00m pre_ref_resolution_callback:\n\u001B[1;32m    637\u001B[0m         pre_ref_resolution_callback(other_model)\n\u001B[0;32m--> 639\u001B[0m model \u001B[38;5;241m=\u001B[39m \u001B[38;5;28;43mself\u001B[39;49m\u001B[38;5;241;43m.\u001B[39;49m\u001B[43m_parser_blueprint\u001B[49m\u001B[38;5;241;43m.\u001B[39;49m\u001B[43mclone\u001B[49m\u001B[43m(\u001B[49m\u001B[43m)\u001B[49m\u001B[38;5;241;43m.\u001B[39;49m\u001B[43mget_model_from_str\u001B[49m\u001B[43m(\u001B[49m\n\u001B[1;32m    640\u001B[0m \u001B[43m    \u001B[49m\u001B[43mmodel_str\u001B[49m\u001B[43m,\u001B[49m\u001B[43m \u001B[49m\u001B[43mdebug\u001B[49m\u001B[38;5;241;43m=\u001B[39;49m\u001B[43mdebug\u001B[49m\u001B[43m,\u001B[49m\n\u001B[1;32m    641\u001B[0m \u001B[43m    \u001B[49m\u001B[43mpre_ref_resolution_callback\u001B[49m\u001B[38;5;241;43m=\u001B[39;49m\u001B[43mkwargs_callback\u001B[49m\u001B[43m)\u001B[49m\n\u001B[1;32m    643\u001B[0m \u001B[38;5;28;01mfor\u001B[39;00m p \u001B[38;5;129;01min\u001B[39;00m \u001B[38;5;28mself\u001B[39m\u001B[38;5;241m.\u001B[39m_model_processors:\n\u001B[1;32m    644\u001B[0m     p(model, \u001B[38;5;28mself\u001B[39m)\n",
      "File \u001B[0;32m~/miniconda3/envs/dl/lib/python3.9/site-packages/textx/model.py:371\u001B[0m, in \u001B[0;36mget_model_parser.<locals>.TextXModelParser.get_model_from_str\u001B[0;34m(self, model_str, file_name, debug, pre_ref_resolution_callback, is_main_model, encoding)\u001B[0m\n\u001B[1;32m    368\u001B[0m \u001B[38;5;28;01mif\u001B[39;00m \u001B[38;5;28mself\u001B[39m\u001B[38;5;241m.\u001B[39mdebug:\n\u001B[1;32m    369\u001B[0m     \u001B[38;5;28mself\u001B[39m\u001B[38;5;241m.\u001B[39mdprint(\u001B[38;5;124m\"\u001B[39m\u001B[38;5;124m*** PARSING MODEL ***\u001B[39m\u001B[38;5;124m\"\u001B[39m)\n\u001B[0;32m--> 371\u001B[0m \u001B[38;5;28;43mself\u001B[39;49m\u001B[38;5;241;43m.\u001B[39;49m\u001B[43mparse\u001B[49m\u001B[43m(\u001B[49m\u001B[43mmodel_str\u001B[49m\u001B[43m,\u001B[49m\u001B[43m \u001B[49m\u001B[43mfile_name\u001B[49m\u001B[38;5;241;43m=\u001B[39;49m\u001B[43mfile_name\u001B[49m\u001B[43m)\u001B[49m\n\u001B[1;32m    373\u001B[0m \u001B[38;5;66;03m# Used to keep track of user class instances\u001B[39;00m\n\u001B[1;32m    374\u001B[0m \u001B[38;5;28mself\u001B[39m\u001B[38;5;241m.\u001B[39m_user_class_inst \u001B[38;5;241m=\u001B[39m []\n",
      "File \u001B[0;32m~/miniconda3/envs/dl/lib/python3.9/site-packages/arpeggio/__init__.py:1525\u001B[0m, in \u001B[0;36mParser.parse\u001B[0;34m(self, _input, file_name)\u001B[0m\n\u001B[1;32m   1523\u001B[0m \u001B[38;5;28mself\u001B[39m\u001B[38;5;241m.\u001B[39mcache_misses \u001B[38;5;241m=\u001B[39m \u001B[38;5;241m0\u001B[39m\n\u001B[1;32m   1524\u001B[0m \u001B[38;5;28;01mtry\u001B[39;00m:\n\u001B[0;32m-> 1525\u001B[0m     \u001B[38;5;28mself\u001B[39m\u001B[38;5;241m.\u001B[39mparse_tree \u001B[38;5;241m=\u001B[39m \u001B[38;5;28;43mself\u001B[39;49m\u001B[38;5;241;43m.\u001B[39;49m\u001B[43m_parse\u001B[49m\u001B[43m(\u001B[49m\u001B[43m)\u001B[49m\n\u001B[1;32m   1526\u001B[0m \u001B[38;5;28;01mexcept\u001B[39;00m NoMatch \u001B[38;5;28;01mas\u001B[39;00m e:\n\u001B[1;32m   1527\u001B[0m     \u001B[38;5;66;03m# Remove Not marker\u001B[39;00m\n\u001B[1;32m   1528\u001B[0m     \u001B[38;5;28;01mif\u001B[39;00m e\u001B[38;5;241m.\u001B[39mrules[\u001B[38;5;241m0\u001B[39m] \u001B[38;5;129;01mis\u001B[39;00m Parser\u001B[38;5;241m.\u001B[39mFIRST_NOT:\n",
      "File \u001B[0;32m~/miniconda3/envs/dl/lib/python3.9/site-packages/textx/model.py:331\u001B[0m, in \u001B[0;36mget_model_parser.<locals>.TextXModelParser._parse\u001B[0;34m(self)\u001B[0m\n\u001B[1;32m    329\u001B[0m \u001B[38;5;28;01mexcept\u001B[39;00m NoMatch \u001B[38;5;28;01mas\u001B[39;00m e:\n\u001B[1;32m    330\u001B[0m     e\u001B[38;5;241m.\u001B[39meval_attrs()\n\u001B[0;32m--> 331\u001B[0m     \u001B[38;5;28;01mraise\u001B[39;00m TextXSyntaxError(message\u001B[38;5;241m=\u001B[39me\u001B[38;5;241m.\u001B[39mmessage,\n\u001B[1;32m    332\u001B[0m                            line\u001B[38;5;241m=\u001B[39me\u001B[38;5;241m.\u001B[39mline,\n\u001B[1;32m    333\u001B[0m                            col\u001B[38;5;241m=\u001B[39me\u001B[38;5;241m.\u001B[39mcol,\n\u001B[1;32m    334\u001B[0m                            filename\u001B[38;5;241m=\u001B[39me\u001B[38;5;241m.\u001B[39mparser\u001B[38;5;241m.\u001B[39mfile_name,\n\u001B[1;32m    335\u001B[0m                            context\u001B[38;5;241m=\u001B[39me\u001B[38;5;241m.\u001B[39mcontext,\n\u001B[1;32m    336\u001B[0m                            expected_rules\u001B[38;5;241m=\u001B[39me\u001B[38;5;241m.\u001B[39mrules)\n",
      "\u001B[0;31mTextXSyntaxError\u001B[0m: None:2:87: Expected 'then' => 'to kitchen*, pick up '"
     ]
    }
   ],
   "source": [
    "grammar = \"\"\"\n",
    "Plan: 'if' event=/[^,]*/ ',' context=Context 'then' plan_body=PlanBody;\n",
    "Context: 'CONSIDERING' sentences=/[^,]*/;\n",
    "PlanBody: actions+=Action[','];\n",
    "Action: /[^,]*/;\n",
    "\"\"\"\n",
    "\n",
    "language = metamodel_from_str(grammar)\n",
    "\n",
    "plan = \"\"\"\n",
    "if your task is to boil water, CONSIDERING you are in the hallway then move to kitchen, pick up metal pot\n",
    "\"\"\"\n",
    "model = language.model_from_str(plan)\n",
    "\n",
    "model"
   ],
   "metadata": {
    "collapsed": false,
    "ExecuteTime": {
     "start_time": "2023-08-21T12:07:44.630186Z",
     "end_time": "2023-08-21T12:07:44.677087Z"
    }
   }
  },
  {
   "cell_type": "code",
   "execution_count": 19,
   "outputs": [
    {
     "data": {
      "text/plain": "('you are in the hallway ',\n 'your task is to boil water',\n ['move to kitchen', 'pick up metal pot\\n'])"
     },
     "execution_count": 19,
     "metadata": {},
     "output_type": "execute_result"
    }
   ],
   "source": [
    "model.context.sentences, model.event, model.plan_body.actions"
   ],
   "metadata": {
    "collapsed": false,
    "ExecuteTime": {
     "start_time": "2023-08-21T12:08:21.517845Z",
     "end_time": "2023-08-21T12:08:21.519846Z"
    }
   }
  },
  {
   "cell_type": "code",
   "execution_count": null,
   "outputs": [],
   "source": [],
   "metadata": {
    "collapsed": false
   }
  }
 ],
 "metadata": {
  "kernelspec": {
   "display_name": "Python 3",
   "language": "python",
   "name": "python3"
  },
  "language_info": {
   "codemirror_mode": {
    "name": "ipython",
    "version": 2
   },
   "file_extension": ".py",
   "mimetype": "text/x-python",
   "name": "python",
   "nbconvert_exporter": "python",
   "pygments_lexer": "ipython2",
   "version": "2.7.6"
  }
 },
 "nbformat": 4,
 "nbformat_minor": 0
}
