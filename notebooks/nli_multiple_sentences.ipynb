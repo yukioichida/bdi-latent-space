{
 "cells": [
  {
   "cell_type": "code",
   "execution_count": 2,
   "metadata": {
    "collapsed": true,
    "ExecuteTime": {
     "start_time": "2023-08-20T15:03:58.828437Z",
     "end_time": "2023-08-20T15:04:00.801354Z"
    }
   },
   "outputs": [],
   "source": [
    "import time\n",
    "\n",
    "import itertools\n",
    "\n",
    "from transformers import AutoTokenizer, AutoModelForSequenceClassification, AutoConfig\n",
    "import torch"
   ]
  },
  {
   "cell_type": "code",
   "execution_count": 13,
   "outputs": [
    {
     "name": "stdout",
     "output_type": "stream",
     "text": [
      "Loading Model\n",
      "Combinations = 3\n",
      "{'contradiction': 0, 'entailment': 1, 'neutral': 2}\n",
      "Model loaded 4.482424020767212 - model cpu\n"
     ]
    }
   ],
   "source": [
    "start = time.time()\n",
    "print(\"Loading Model\")\n",
    "\n",
    "# AIMA -> explicar no contexto de busca\n",
    "obs = ['You see the cupboard(which is closed)']\n",
    "\n",
    "context = ['You see the cupboard(which is open)', 'You see the door to kitchen(which is open)', 'You see a table. On the table is: a bowl (containing nothing).']\n",
    "#\n",
    "\n",
    "a = list(itertools.product(obs, context))\n",
    "a.sort(key = lambda x: x[1])\n",
    "print(f\"Combinations = {len(a)}\")\n",
    "\n",
    "max_length = 256\n",
    "\n",
    "hg_model_hub_name = \"alisawuffles/roberta-large-wanli\"\n",
    "\n",
    "config = AutoConfig.from_pretrained(hg_model_hub_name)\n",
    "tokenizer = AutoTokenizer.from_pretrained(hg_model_hub_name)\n",
    "\n",
    "print(config.label2id)\n",
    "\n",
    "#device = 'cuda' if torch.cuda.is_available() else 'cpu'\n",
    "device='cpu'\n",
    "\n",
    "model = AutoModelForSequenceClassification.from_pretrained(hg_model_hub_name)\n",
    "model.to(device)\n",
    "\n",
    "end = time.time()\n",
    "print(f\"Model loaded {end - start} - model {model.device}\")"
   ],
   "metadata": {
    "collapsed": false,
    "ExecuteTime": {
     "start_time": "2023-08-21T22:44:28.582296Z",
     "end_time": "2023-08-21T22:44:33.069844Z"
    }
   }
  },
  {
   "cell_type": "code",
   "execution_count": 14,
   "outputs": [
    {
     "name": "stdout",
     "output_type": "stream",
     "text": [
      "Inference time: 0.2976675033569336\n",
      "----\n",
      "Premise: You see the cupboard(which is closed)\n",
      "Hypothesis: You see a table. On the table is: a bowl (containing nothing).\n",
      "Entailment: 0.0023102350533008575\n",
      "Neutral: 0.9412702322006226\n",
      "Contradiction: 0.056419484317302704\n",
      "----\n",
      "Premise: You see the cupboard(which is closed)\n",
      "Hypothesis: You see the cupboard(which is open)\n",
      "Entailment: 0.005573701113462448\n",
      "Neutral: 0.006544825155287981\n",
      "Contradiction: 0.9878815412521362\n",
      "----\n",
      "Premise: You see the cupboard(which is closed)\n",
      "Hypothesis: You see the door to kitchen(which is open)\n",
      "Entailment: 0.007574471645057201\n",
      "Neutral: 0.5222721099853516\n",
      "Contradiction: 0.47015348076820374\n"
     ]
    }
   ],
   "source": [
    "start = time.time()\n",
    "tokenized_input_seq_pair = tokenizer.batch_encode_plus(a,\n",
    "                                                 max_length=max_length,\n",
    "                                                 return_token_type_ids=True, truncation=True, padding=True)\n",
    "\n",
    "input_ids = torch.tensor(tokenized_input_seq_pair['input_ids'], device=device).long()#.unsqueeze(0)\n",
    "# remember bart doesn't have 'token_type_ids', remove the line below if you are using bart.\n",
    "token_type_ids = torch.tensor(tokenized_input_seq_pair['token_type_ids'], device=device).long()#.unsqueeze(0)\n",
    "attention_mask = torch.tensor(tokenized_input_seq_pair['attention_mask'], device=device).long()#.unsqueeze(0)\n",
    "\n",
    "outputs = model(input_ids,\n",
    "                attention_mask=attention_mask,\n",
    "                token_type_ids=token_type_ids,\n",
    "                labels=None)\n",
    "end = time.time()\n",
    "\n",
    "print(f\"Inference time: {end - start}\")\n",
    "logits = outputs[0]\n",
    "probs = torch.softmax(logits, dim=1)\n",
    "for i, pair in enumerate(a):\n",
    "    predicted_probability = probs[i].tolist()  # batch_size only one\n",
    "    print('----')\n",
    "    print(\"Premise:\", pair[0])\n",
    "    print(\"Hypothesis:\", pair[1])\n",
    "    print(\"Entailment:\", predicted_probability[int(config.label2id['entailment'])])\n",
    "    print(\"Neutral:\", predicted_probability[int(config.label2id['neutral'])])\n",
    "    print(\"Contradiction:\", predicted_probability[int(config.label2id['contradiction'])])"
   ],
   "metadata": {
    "collapsed": false,
    "ExecuteTime": {
     "start_time": "2023-08-21T22:44:33.069844Z",
     "end_time": "2023-08-21T22:44:33.415330Z"
    }
   }
  },
  {
   "cell_type": "markdown",
   "source": [
    "- $context = (c_1, c_2)$\n",
    "- $beliefbase = (b_1, b_2)$\n",
    "- $(b_1 \\models c_1 \\lor b_2 \\models c_1) \\land (b_1 \\models c_2 \\lor b_2 \\models c_2)$"
   ],
   "metadata": {
    "collapsed": false
   }
  },
  {
   "cell_type": "code",
   "execution_count": 9,
   "outputs": [
    {
     "data": {
      "text/plain": "[tensor([1, 2, 2]), tensor([2, 0, 0]), tensor([2, 0, 0])]"
     },
     "execution_count": 9,
     "metadata": {},
     "output_type": "execute_result"
    }
   ],
   "source": [
    "num_context = len(context)\n",
    "num_beliefs = len(obs)\n",
    "\n",
    "argmax_probs = probs.argmax(-1)\n",
    "slice_idx = []\n",
    "idx = 0\n",
    "for i in range(num_context):\n",
    "    slice_idx.append(argmax_probs[idx:(idx + num_beliefs)])\n",
    "    idx = num_beliefs\n",
    "slice_idx"
   ],
   "metadata": {
    "collapsed": false,
    "ExecuteTime": {
     "start_time": "2023-08-13T19:51:34.096984Z",
     "end_time": "2023-08-13T19:51:34.102100Z"
    }
   }
  },
  {
   "cell_type": "code",
   "execution_count": 11,
   "outputs": [
    {
     "name": "stdout",
     "output_type": "stream",
     "text": [
      "not entailment\n"
     ]
    }
   ],
   "source": [
    "#c1_or = torch.where(c1 == entailment_idx, True, False)\n",
    "#c2_or = torch.where(c2 == entailment_idx, True, False)\n",
    "entailment_idx = 1\n",
    "context_or = [torch.where(c == entailment_idx, True, False).any().unsqueeze(0) for c in slice_idx]\n",
    "all_ors = torch.concatenate(context_or) # contiguous\n",
    "entailment = all_ors.all()\n",
    "if entailment:\n",
    "    print(entailment.item())\n",
    "else:\n",
    "    print(\"not entailment\")"
   ],
   "metadata": {
    "collapsed": false,
    "ExecuteTime": {
     "start_time": "2023-08-13T19:52:24.920654Z",
     "end_time": "2023-08-13T19:52:24.975090Z"
    }
   }
  },
  {
   "cell_type": "code",
   "execution_count": 91,
   "outputs": [
    {
     "data": {
      "text/plain": "tensor([True, True, True])"
     },
     "execution_count": 91,
     "metadata": {},
     "output_type": "execute_result"
    }
   ],
   "source": [
    "all_ors"
   ],
   "metadata": {
    "collapsed": false,
    "ExecuteTime": {
     "start_time": "2023-07-10T16:02:52.016021Z",
     "end_time": "2023-07-10T16:02:52.021193Z"
    }
   }
  },
  {
   "cell_type": "code",
   "execution_count": 61,
   "outputs": [
    {
     "data": {
      "text/plain": "tensor([[2.5057e-04, 8.9700e-01, 1.0275e-01],\n        [0.0000e+00, 0.0000e+00, 0.0000e+00],\n        [0.0000e+00, 0.0000e+00, 0.0000e+00],\n        [0.0000e+00, 0.0000e+00, 0.0000e+00],\n        [0.0000e+00, 0.0000e+00, 0.0000e+00],\n        [5.5948e-04, 9.9499e-01, 4.4468e-03]], grad_fn=<MulBackward0>)"
     },
     "execution_count": 61,
     "metadata": {},
     "output_type": "execute_result"
    }
   ],
   "source": [
    "entailment_mask = torch.where(argmax_probs == entailment_idx, True, False)\n"
   ],
   "metadata": {
    "collapsed": false,
    "ExecuteTime": {
     "start_time": "2023-07-10T15:46:25.047902Z",
     "end_time": "2023-07-10T15:46:25.095308Z"
    }
   }
  },
  {
   "cell_type": "code",
   "execution_count": 71,
   "outputs": [
    {
     "data": {
      "text/plain": "tensor(0.9460, grad_fn=<MeanBackward0>)"
     },
     "execution_count": 71,
     "metadata": {},
     "output_type": "execute_result"
    }
   ],
   "source": [
    "entailment_probs = (probs[:, entailment_idx] * entailment_mask)\n",
    "entailment_probs[entailment_probs != 0].mean()"
   ],
   "metadata": {
    "collapsed": false,
    "ExecuteTime": {
     "start_time": "2023-07-10T15:52:32.611493Z",
     "end_time": "2023-07-10T15:52:32.616407Z"
    }
   }
  },
  {
   "cell_type": "code",
   "execution_count": 72,
   "outputs": [
    {
     "data": {
      "text/plain": "torch.Tensor"
     },
     "execution_count": 72,
     "metadata": {},
     "output_type": "execute_result"
    }
   ],
   "source": [
    "type(entailment_probs)"
   ],
   "metadata": {
    "collapsed": false,
    "ExecuteTime": {
     "start_time": "2023-07-10T15:56:26.398385Z",
     "end_time": "2023-07-10T15:56:26.407458Z"
    }
   }
  },
  {
   "cell_type": "code",
   "execution_count": null,
   "outputs": [],
   "source": [],
   "metadata": {
    "collapsed": false
   }
  }
 ],
 "metadata": {
  "kernelspec": {
   "display_name": "Python 3",
   "language": "python",
   "name": "python3"
  },
  "language_info": {
   "codemirror_mode": {
    "name": "ipython",
    "version": 2
   },
   "file_extension": ".py",
   "mimetype": "text/x-python",
   "name": "python",
   "nbconvert_exporter": "python",
   "pygments_lexer": "ipython2",
   "version": "2.7.6"
  }
 },
 "nbformat": 4,
 "nbformat_minor": 0
}
