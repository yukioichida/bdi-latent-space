{
 "cells": [
  {
   "cell_type": "code",
   "execution_count": 1,
   "metadata": {
    "collapsed": true,
    "ExecuteTime": {
     "start_time": "2023-08-12T16:03:49.679264Z",
     "end_time": "2023-08-12T16:03:49.685263Z"
    }
   },
   "outputs": [],
   "source": [
    "from scienceworld import ScienceWorldEnv\n",
    "import re\n",
    "from sources.agent.scienceworld import parse_observation"
   ]
  },
  {
   "cell_type": "code",
   "execution_count": 2,
   "outputs": [],
   "source": [
    "env = ScienceWorldEnv(\"\", \"\", envStepLimit=100)"
   ],
   "metadata": {
    "collapsed": false,
    "ExecuteTime": {
     "start_time": "2023-08-12T16:03:55.463587Z",
     "end_time": "2023-08-12T16:03:56.197500Z"
    }
   }
  },
  {
   "cell_type": "code",
   "execution_count": 3,
   "outputs": [
    {
     "name": "stdout",
     "output_type": "stream",
     "text": [
      "Task Names: ['boil', 'change-the-state-of-matter-of', 'chemistry-mix', 'chemistry-mix-paint-secondary-color', 'chemistry-mix-paint-tertiary-color', 'find-animal', 'find-living-thing', 'find-non-living-thing', 'find-plant', 'freeze', 'grow-fruit', 'grow-plant', 'identify-life-stages-1', 'identify-life-stages-2', 'inclined-plane-determine-angle', 'inclined-plane-friction-named-surfaces', 'inclined-plane-friction-unnamed-surfaces', 'lifespan-longest-lived', 'lifespan-longest-lived-then-shortest-lived', 'lifespan-shortest-lived', 'measure-melting-point-known-substance', 'measure-melting-point-unknown-substance', 'melt', 'mendelian-genetics-known-plant', 'mendelian-genetics-unknown-plant', 'power-component', 'power-component-renewable-vs-nonrenewable-energy', 'test-conductivity', 'test-conductivity-of-unknown-substances', 'use-thermometer']\n",
      "Task Name: boil variation 0\n",
      "Task Variation: 0 / 30\n",
      "Task Description: Your task is to boil water. For compounds without a boiling point, combusting the substance is also acceptable. First, focus on the substance. Then, take actions that will cause it to change its state of matter.\n"
     ]
    }
   ],
   "source": [
    "taskNames = env.getTaskNames()\n",
    "print(\"Task Names: \" + str(taskNames))\n",
    "\n",
    "# Choose task\n",
    "taskName = taskNames[0]  # Just get first task\n",
    "env.load(taskName, 0, \"\")  # Load the task, so we have access to some extra accessors e.g. getRandomVariationTrain()\n",
    "maxVariations = env.getMaxVariations(taskName)\n",
    "taskName, maxVariations\n",
    "\n",
    "#randVariationIdx = env.getRandomVariationTest()\n",
    "randVariationIdx = 0 # water\n",
    "env.load(taskName, randVariationIdx)\n",
    "# Reset the environment\n",
    "observation, info = env.reset()\n",
    "\n",
    "print(f\"Task Name: \" + taskName + \" variation \" + str(randVariationIdx))\n",
    "print(\"Task Variation: \" + str(randVariationIdx) + \" / \" + str(maxVariations))\n",
    "print(\"Task Description: \" + str(env.getTaskDescription()))"
   ],
   "metadata": {
    "collapsed": false,
    "ExecuteTime": {
     "start_time": "2023-08-12T16:04:14.341184Z",
     "end_time": "2023-08-12T16:04:14.752900Z"
    }
   }
  },
  {
   "cell_type": "markdown",
   "source": [
    "# Water"
   ],
   "metadata": {
    "collapsed": false
   }
  },
  {
   "cell_type": "code",
   "execution_count": 5,
   "outputs": [
    {
     "name": "stdout",
     "output_type": "stream",
     "text": [
      "Task Name: boil variation 0\n",
      "Task Variation: 0 / 30\n",
      "Task Description: Your task is to boil water. For compounds without a boiling point, combusting the substance is also acceptable. First, focus on the substance. Then, take actions that will cause it to change its state of matter.\n",
      "---- Step 0 | action: open door to kitchen | Finish False | reward 0 -----\n",
      "The door is now open.\n",
      "---- Step 1 | action: go to kitchen | Finish False | reward 0 -----\n",
      "You move to the kitchen.\n",
      "---- Step 2 | action: pick up thermometer | Finish False | reward 0 -----\n",
      "You move the thermometer to the inventory.\n",
      "---- Step 3 | action: open cupboard | Finish False | reward 0 -----\n",
      "The cupboard is now open.\n",
      "---- Step 4 | action: pick up metal pot | Finish False | reward 0 -----\n",
      "You move the metal pot to the inventory.\n",
      "---- Step 5 | action: move metal pot to sink | Finish False | reward 0 -----\n",
      "You move the metal pot to the sink.\n",
      "---- Step 6 | action: activate sink | Finish False | reward 3 -----\n",
      "The sink is now activated.\n",
      "---- Step 7 | action: deactivate sink | Finish False | reward 0 -----\n",
      "The sink is now deactivated.\n",
      "---- Step 8 | action: pick up metal pot | Finish False | reward 0 -----\n",
      "You move the metal pot to the inventory.\n",
      "---- Step 9 | action: move metal pot to stove | Finish False | reward 0 -----\n",
      "You move the metal pot to the stove.\n",
      "---- Step 10 | action: activate stove | Finish False | reward 2 -----\n",
      "The stove is now activated.\n",
      "---- Step 11 | action: wait | Finish False | reward 0 -----\n",
      "You decide to wait for 10 iterations.\n",
      "---- Step 12 | action: use thermometer in inventory on substance in metal pot | Finish False | reward 0 -----\n",
      "the thermometer measures a temperature of 58 degrees celsius\n",
      "---- Step 13 | action: use thermometer in inventory on substance in metal pot | Finish False | reward 0 -----\n",
      "the thermometer measures a temperature of 63 degrees celsius\n",
      "---- Step 14 | action: focus on substance in metal pot | Finish False | reward 68 -----\n",
      "You focus on the water.\n",
      "---- Step 15 | action: wait | Finish True | reward 27 -----\n",
      "You decide to wait for 10 iterations.\n",
      "---- Step 16 | action: use thermometer in inventory on substance in metal pot | Finish True | reward 0 -----\n",
      "the thermometer measures a temperature of 123 degrees celsius\n",
      "---- Step 17 | action: focus on substance in metal pot | Finish True | reward 0 -----\n",
      "You focus on the steam.\n",
      "Completed keys: \n",
      "----------------------------------------------------------------------------------------------------\n",
      "Sequential Subgoals:\n",
      "----------------------------------------------------------------------------------------------------\n",
      "0\ttrue\t                                GoalFind\tfocus on substance\n",
      "1\ttrue\t                 GoalChangeStateOfMatter\tsubstance is in a liquid state\n",
      "2\ttrue\t                 GoalChangeStateOfMatter\tsubstance is in a gaseous state (or combusting)\n",
      "----------------------------------------------------------------------------------------------------\n",
      "Unordered and Optional Subgoals:\n",
      "----------------------------------------------------------------------------------------------------\n",
      "0\ttrue\t                    GoalInRoomWithObject\tbe in same location as water\n",
      "1\ttrue\t            GoalObjectsInSingleContainer\thave substance alone in a single container\n",
      "2\ttrue\t              GoalActivateDeviceWithName\tactivate heater (stove)\n",
      "3\tfalse\t              GoalActivateDeviceWithName\tactivate heater (blast furnace)\n",
      "4\tfalse\t              GoalActivateDeviceWithName\tactivate heater (oven)\n",
      "5\tfalse\t              GoalActivateDeviceWithName\tactivate heater (hot plate)\n",
      "6\tfalse\t     GoalSpecificObjectInDirectContainer\thave lighter in inventory\n",
      "7\tfalse\t     GoalSpecificObjectInDirectContainer\tmove wood into fire pit\n",
      "8\tfalse\t                   GoalTemperatureOnFire\tignite wood\n",
      "9\ttrue\t                   GoalObjectInContainer\thave object on heater (stove)\n",
      "10\tfalse\t                   GoalObjectInContainer\thave object on heater (blast furnace)\n",
      "11\tfalse\t                   GoalObjectInContainer\thave object on heater (oven)\n",
      "12\tfalse\t                   GoalObjectInContainer\thave object on heater (hot plate)\n",
      "13\tfalse\t                   GoalObjectInContainer\thave object on heater (fire pit)\n",
      "14\ttrue\t                 GoalTemperatureIncrease\theat object by at least 20C\n",
      "----------------------------------------------------------------------------------------------------\n",
      "\n"
     ]
    }
   ],
   "source": [
    "plan = ['open door to kitchen',\n",
    "        'go to kitchen',\n",
    "        'pick up thermometer',\n",
    "        'open cupboard',\n",
    "        'pick up metal pot',\n",
    "        'move metal pot to sink',\n",
    "        'activate sink',\n",
    "        'deactivate sink',\n",
    "        'pick up metal pot',\n",
    "        'move metal pot to stove',\n",
    "        'activate stove',\n",
    "        'wait',\n",
    "        'use thermometer in inventory on substance in metal pot',\n",
    "        'use thermometer in inventory on substance in metal pot',\n",
    "        'focus on substance in metal pot',\n",
    "        'wait',\n",
    "        'use thermometer in inventory on substance in metal pot',\n",
    "        'focus on substance in metal pot',]\n",
    "\n",
    "randVariationIdx = 0 # tin\n",
    "env.load(taskName, randVariationIdx)\n",
    "# Reset the environment\n",
    "observation, info = env.reset()\n",
    "\n",
    "print(f\"Task Name: \" + taskName + \" variation \" + str(randVariationIdx))\n",
    "print(\"Task Variation: \" + str(randVariationIdx) + \" / \" + str(maxVariations))\n",
    "print(\"Task Description: \" + str(env.getTaskDescription()))\n",
    "observation, info = env.reset()\n",
    "\n",
    "for i, action in enumerate(plan):\n",
    "    observation, reward, isCompleted, info = env.step(action)\n",
    "    print(f\"---- Step {i} | action: {action} | Finish {isCompleted} | reward {reward} -----\")\n",
    "    print(observation)\n",
    "\n",
    "print(env.getGoalProgressStr())"
   ],
   "metadata": {
    "collapsed": false,
    "ExecuteTime": {
     "start_time": "2023-08-12T16:05:22.146725Z",
     "end_time": "2023-08-12T16:05:25.540530Z"
    }
   }
  },
  {
   "cell_type": "markdown",
   "source": [
    "# Tin"
   ],
   "metadata": {
    "collapsed": false
   }
  },
  {
   "cell_type": "code",
   "execution_count": 42,
   "outputs": [
    {
     "name": "stdout",
     "output_type": "stream",
     "text": [
      "Task Name: boil variation 23\n",
      "Task Variation: 23 / 30\n",
      "Task Description: Your task is to boil tin. For compounds without a boiling point, combusting the substance is also acceptable. First, focus on the substance. Then, take actions that will cause it to change its state of matter.\n",
      "---- Step 0 | action: open door to kitchen | Finish False | reward 0 -----\n",
      "The door is now open.\n",
      "---- Step 1 | action: go to kitchen | Finish False | reward 0 -----\n",
      "You move to the kitchen.\n",
      "---- Step 2 | action: pick up thermometer | Finish False | reward 0 -----\n",
      "You move the thermometer to the inventory.\n",
      "---- Step 3 | action: open cupboard | Finish False | reward 0 -----\n",
      "The cupboard is now open.\n",
      "---- Step 4 | action: pick up metal pot | Finish False | reward 0 -----\n",
      "You move the metal pot to the inventory.\n",
      "---- Step 5 | action: open door to hallway | Finish False | reward 0 -----\n",
      "The door is now open.\n",
      "---- Step 6 | action: go to hallway | Finish False | reward 0 -----\n",
      "You move to the hallway.\n",
      "---- Step 7 | action: open door to workshop | Finish False | reward 0 -----\n",
      "The door is now open.\n",
      "---- Step 8 | action: go to workshop | Finish False | reward 3 -----\n",
      "You move to the workshop.\n",
      "---- Step 9 | action: pick up substance in cup | Finish False | reward 0 -----\n",
      "You move the tin to the inventory.\n",
      "---- Step 10 | action: move substance in inventory to metal pot | Finish False | reward 0 -----\n",
      "You move the tin to the metal pot.\n",
      "---- Step 11 | action: go to hallway | Finish False | reward 0 -----\n",
      "You move to the hallway.\n",
      "---- Step 12 | action: go to kitchen | Finish False | reward 0 -----\n",
      "You move to the kitchen.\n",
      "---- Step 13 | action: open door to outside | Finish False | reward 0 -----\n",
      "The door is now open.\n",
      "---- Step 14 | action: go to outside | Finish False | reward 0 -----\n",
      "You move to the outside.\n",
      "---- Step 15 | action: open door to foundry | Finish False | reward 0 -----\n",
      "The door is now open.\n",
      "---- Step 16 | action: go to foundry | Finish False | reward 0 -----\n",
      "You move to the foundry.\n",
      "---- Step 17 | action: open blast furnace | Finish False | reward 0 -----\n",
      "The blast furnace is now open.\n",
      "---- Step 18 | action: move metal pot to blast furnace | Finish False | reward 0 -----\n",
      "You move the metal pot to the blast furnace.\n",
      "---- Step 19 | action: activate blast furnace | Finish False | reward 2 -----\n",
      "The blast furnace is now activated.\n",
      "---- Step 20 | action: focus on substance in metal pot | Finish False | reward 37 -----\n",
      "You focus on the tin.\n",
      "---- Step 21 | action: examine substance in metal pot | Finish False | reward 0 -----\n",
      "a substance called tin\n",
      "---- Step 22 | action: use thermometer in inventory on substance in metal pot | Finish False | reward 0 -----\n",
      "the thermometer measures a temperature of 143 degrees celsius\n",
      "---- Step 23 | action: wait | Finish False | reward 33 -----\n",
      "You decide to wait for 10 iterations.\n",
      "---- Step 24 | action: focus on substance in metal pot | Finish False | reward 0 -----\n",
      "You focus on the liquid tin.\n",
      "---- Step 25 | action: wait | Finish False | reward 0 -----\n",
      "You decide to wait for 10 iterations.\n",
      "---- Step 26 | action: wait | Finish False | reward 0 -----\n",
      "You decide to wait for 10 iterations.\n",
      "---- Step 27 | action: wait | Finish False | reward 0 -----\n",
      "You decide to wait for 10 iterations.\n",
      "---- Step 28 | action: wait | Finish True | reward 25 -----\n",
      "You decide to wait for 10 iterations.\n",
      "---- Step 29 | action: focus on substance in metal pot | Finish True | reward 0 -----\n",
      "You focus on the gaseous tin.\n",
      "This room is called the foundry. In it, you see: \n",
      "\tthe agent\n",
      "\ta substance called air\n",
      "\ta blast furnace, which is turned on. The blast furnace door is open. In the blast furnace is: a liquid steel (containing a substance called gaseous tin).\n",
      "\ta sink, which is turned off. In the sink is: nothing.\n",
      "\ta table. On the table is: nothing.\n",
      "You also see:\n",
      "\tA door to the outside (that is open)\n",
      "\n",
      "Completed keys: \n",
      "----------------------------------------------------------------------------------------------------\n",
      "Sequential Subgoals:\n",
      "----------------------------------------------------------------------------------------------------\n",
      "0\ttrue\t                                GoalFind\tfocus on substance\n",
      "1\ttrue\t                 GoalChangeStateOfMatter\tsubstance is in a liquid state\n",
      "2\ttrue\t                 GoalChangeStateOfMatter\tsubstance is in a gaseous state (or combusting)\n",
      "----------------------------------------------------------------------------------------------------\n",
      "Unordered and Optional Subgoals:\n",
      "----------------------------------------------------------------------------------------------------\n",
      "0\ttrue\t                    GoalInRoomWithObject\tbe in same location as tin\n",
      "1\ttrue\t            GoalObjectsInSingleContainer\thave substance alone in a single container\n",
      "2\tfalse\t              GoalActivateDeviceWithName\tactivate heater (stove)\n",
      "3\ttrue\t              GoalActivateDeviceWithName\tactivate heater (blast furnace)\n",
      "4\tfalse\t              GoalActivateDeviceWithName\tactivate heater (oven)\n",
      "5\tfalse\t              GoalActivateDeviceWithName\tactivate heater (hot plate)\n",
      "6\tfalse\t     GoalSpecificObjectInDirectContainer\thave lighter in inventory\n",
      "7\tfalse\t     GoalSpecificObjectInDirectContainer\tmove wood into fire pit\n",
      "8\tfalse\t                   GoalTemperatureOnFire\tignite wood\n",
      "9\tfalse\t                   GoalObjectInContainer\thave object on heater (stove)\n",
      "10\ttrue\t                   GoalObjectInContainer\thave object on heater (blast furnace)\n",
      "11\tfalse\t                   GoalObjectInContainer\thave object on heater (oven)\n",
      "12\tfalse\t                   GoalObjectInContainer\thave object on heater (hot plate)\n",
      "13\tfalse\t                   GoalObjectInContainer\thave object on heater (fire pit)\n",
      "14\ttrue\t                 GoalTemperatureIncrease\theat object by at least 20C\n",
      "----------------------------------------------------------------------------------------------------\n",
      "\n"
     ]
    }
   ],
   "source": [
    "plan = ['open door to kitchen',\n",
    "        'go to kitchen',\n",
    "        'pick up thermometer',\n",
    "        'open cupboard', # pick up metal pot\n",
    "        'pick up metal pot', # pick up metal pot\n",
    "        'open door to hallway',\n",
    "        'go to hallway',\n",
    "        'open door to workshop',\n",
    "        'go to workshop',\n",
    "        'pick up substance in cup', # variation 23\n",
    "        'move substance in inventory to metal pot',\n",
    "        'go to hallway',\n",
    "        'go to kitchen',\n",
    "        #'move metal pot to stove', # stove broken in variation 23\n",
    "        #'activate stove',# stove broken in variation 23\n",
    "        'open door to outside',\n",
    "        'go to outside',\n",
    "        'open door to foundry',\n",
    "        'go to foundry',\n",
    "        'open blast furnace',\n",
    "        'move metal pot to blast furnace',\n",
    "        'activate blast furnace',\n",
    "        'focus on substance in metal pot',\n",
    "        'examine substance in metal pot',\n",
    "        'use thermometer in inventory on substance in metal pot',\n",
    "        'wait',\n",
    "        'focus on substance in metal pot', # liquid\n",
    "        'wait',\n",
    "        'wait',\n",
    "        'wait',\n",
    "        'wait',\n",
    "        'focus on substance in metal pot' # gaseous\n",
    "        ]\n",
    "\n",
    "randVariationIdx = 23 # tin\n",
    "env.load(taskName, randVariationIdx)\n",
    "# Reset the environment\n",
    "observation, info = env.reset()\n",
    "\n",
    "print(f\"Task Name: \" + taskName + \" variation \" + str(randVariationIdx))\n",
    "print(\"Task Variation: \" + str(randVariationIdx) + \" / \" + str(maxVariations))\n",
    "print(\"Task Description: \" + str(env.getTaskDescription()))\n",
    "observation, info = env.reset()\n",
    "\n",
    "for i, action in enumerate(plan):\n",
    "    observation, reward, isCompleted, info = env.step(action)\n",
    "    print(f\"---- Step {i} | action: {action} | Finish {isCompleted} | reward {reward} -----\")\n",
    "    print(observation)\n",
    "print(info['look'])\n",
    "print(env.getGoalProgressStr())"
   ],
   "metadata": {
    "collapsed": false,
    "ExecuteTime": {
     "start_time": "2023-08-12T17:47:46.275103Z",
     "end_time": "2023-08-12T17:47:48.617468Z"
    }
   }
  },
  {
   "cell_type": "code",
   "execution_count": 11,
   "outputs": [],
   "source": [
    "plan = ['open door to kitchen',\n",
    "        'go to kitchen',\n",
    "        'pick up thermometer',\n",
    "        'open cupboard', # pick up metal pot\n",
    "        'pick up metal pot', # pick up metal pot\n",
    "        'open door to hallway',\n",
    "        'go to hallway',\n",
    "        'open door to workshop',\n",
    "        'go to workshop',\n",
    "        'pick up substance in cup', # variation 23\n",
    "        'move substance in inventory to metal pot',\n",
    "        'go to hallway',\n",
    "        'go to kitchen',\n",
    "        #'move metal pot to stove', # stove broken in variation 23\n",
    "        #'activate stove',# stove broken in variation 23\n",
    "        'open door to outside',\n",
    "        'go to outside',\n",
    "        'open door to foundry',\n",
    "        'go to foundry',\n",
    "        'open blast furnace',\n",
    "        'move metal pot to blast furnace',\n",
    "        'activate blast furnace',\n",
    "        'focus on substance in metal pot',\n",
    "        'examine substance in metal pot',\n",
    "        'use thermometer in inventory on substance in metal pot',\n",
    "        'wait',\n",
    "        'focus on substance in metal pot', # liquid\n",
    "        'wait',\n",
    "        'wait',\n",
    "        'wait',\n",
    "        'wait',\n",
    "        'focus on substance in metal pot' # gaseous\n",
    "        ]\n",
    "\n",
    "randVariationIdx = 23 # tin\n",
    "env.load(taskName, randVariationIdx)\n",
    "# Reset the environment\n",
    "observation, info = env.reset()\n",
    "\n",
    "print(f\"Task Name: \" + taskName + \" variation \" + str(randVariationIdx))\n",
    "print(\"Task Variation: \" + str(randVariationIdx) + \" / \" + str(maxVariations))\n",
    "print(\"Task Description: \" + str(env.getTaskDescription()))\n",
    "observation, info = env.reset()\n",
    "\n",
    "for i, action in enumerate(plan):\n",
    "    observation, reward, isCompleted, info = env.step(action)\n",
    "    print(f\"---- Step {i} | action: {action} | Finish {isCompleted} | reward {reward} -----\")\n",
    "    print(observation)\n",
    "print(info['look'])\n",
    "print(env.getGoalProgressStr())"
   ],
   "metadata": {
    "collapsed": false,
    "ExecuteTime": {
     "start_time": "2023-08-12T17:31:53.098375Z",
     "end_time": "2023-08-12T17:31:53.187268Z"
    }
   }
  },
  {
   "cell_type": "code",
   "execution_count": 12,
   "outputs": [
    {
     "data": {
      "text/plain": "'No known action matches that input.'"
     },
     "execution_count": 12,
     "metadata": {},
     "output_type": "execute_result"
    }
   ],
   "source": [
    "observation"
   ],
   "metadata": {
    "collapsed": false,
    "ExecuteTime": {
     "start_time": "2023-08-12T17:31:53.836345Z",
     "end_time": "2023-08-12T17:31:53.841361Z"
    }
   }
  },
  {
   "cell_type": "markdown",
   "source": [
    "# Search objects"
   ],
   "metadata": {
    "collapsed": false
   }
  },
  {
   "cell_type": "code",
   "execution_count": 44,
   "outputs": [
    {
     "name": "stdout",
     "output_type": "stream",
     "text": [
      "Task Name: boil variation 23\n",
      "Task Variation: 23 / 30\n",
      "Task Description: Your task is to boil tin. For compounds without a boiling point, combusting the substance is also acceptable. First, focus on the substance. Then, take actions that will cause it to change its state of matter.\n",
      "This room is called the bathroom. In it, you see: \n",
      "\tthe agent\n",
      "\ta substance called air\n",
      "\ta bathtub, which is turned off. In the bathtub is: nothing.\n",
      "\ta drawing\n",
      "\ta glass cup (containing nothing)\n",
      "\ta sink, which is turned off. In the sink is: nothing.\n",
      "\ta toilet. In the toilet is: A drain, which is open, a substance called water.\n",
      "You also see:\n",
      "\tA door to the kitchen (that is closed)\n",
      "\n"
     ]
    },
    {
     "data": {
      "text/plain": "['agent',\n 'air',\n 'bathroom',\n 'bathtub',\n 'cup',\n 'door',\n 'drawing',\n 'kitchen',\n 'sink',\n 'substance in toilet',\n 'toilet']"
     },
     "execution_count": 44,
     "metadata": {},
     "output_type": "execute_result"
    }
   ],
   "source": [
    "\n",
    "\n",
    "randVariationIdx = 23 # tin\n",
    "env.load(taskName, randVariationIdx)\n",
    "# Reset the environment\n",
    "observation, info = env.reset()\n",
    "\n",
    "print(f\"Task Name: \" + taskName + \" variation \" + str(randVariationIdx))\n",
    "print(\"Task Variation: \" + str(randVariationIdx) + \" / \" + str(maxVariations))\n",
    "print(\"Task Description: \" + str(env.getTaskDescription()))\n",
    "observation, info = env.reset()\n",
    "\n",
    "observation, reward, isCompleted, info = env.step(action)\n",
    "print(info['look'])\n",
    "env.getPossibleObjects()"
   ],
   "metadata": {
    "collapsed": false,
    "ExecuteTime": {
     "start_time": "2023-08-13T08:43:58.428881Z",
     "end_time": "2023-08-13T08:43:58.622625Z"
    }
   }
  },
  {
   "cell_type": "code",
   "execution_count": 45,
   "outputs": [],
   "source": [],
   "metadata": {
    "collapsed": false,
    "ExecuteTime": {
     "start_time": "2023-08-13T08:47:33.218573Z",
     "end_time": "2023-08-13T08:47:33.226842Z"
    }
   }
  },
  {
   "cell_type": "code",
   "execution_count": null,
   "outputs": [],
   "source": [],
   "metadata": {
    "collapsed": false
   }
  }
 ],
 "metadata": {
  "kernelspec": {
   "display_name": "Python 3",
   "language": "python",
   "name": "python3"
  },
  "language_info": {
   "codemirror_mode": {
    "name": "ipython",
    "version": 2
   },
   "file_extension": ".py",
   "mimetype": "text/x-python",
   "name": "python",
   "nbconvert_exporter": "python",
   "pygments_lexer": "ipython2",
   "version": "2.7.6"
  }
 },
 "nbformat": 4,
 "nbformat_minor": 0
}
