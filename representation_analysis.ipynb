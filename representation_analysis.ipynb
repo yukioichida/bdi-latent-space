{
 "cells": [
  {
   "cell_type": "code",
   "execution_count": 1,
   "outputs": [],
   "source": [
    "import torch\n",
    "\n",
    "import torch.nn.functional as F"
   ],
   "metadata": {
    "collapsed": false,
    "pycharm": {
     "name": "#%%\n"
    }
   }
  },
  {
   "cell_type": "code",
   "execution_count": 73,
   "metadata": {
    "collapsed": true,
    "pycharm": {
     "name": "#%%\n"
    }
   },
   "outputs": [],
   "source": [
    "model ="
   ]
  },
  {
   "cell_type": "code",
   "execution_count": 74,
   "outputs": [
    {
     "data": {
      "text/plain": "tensor([[0.6308, 0.0252],\n        [0.1601, 0.2879],\n        [0.4882, 0.2824],\n        [0.3180, 0.9577],\n        [0.9665, 0.2394]])"
     },
     "execution_count": 74,
     "metadata": {},
     "output_type": "execute_result"
    }
   ],
   "source": [
    "example = torch.rand(latent_dim, categorical_dim)\n",
    "example"
   ],
   "metadata": {
    "collapsed": false,
    "pycharm": {
     "name": "#%%\n"
    }
   }
  },
  {
   "cell_type": "code",
   "execution_count": 76,
   "outputs": [
    {
     "data": {
      "text/plain": "tensor([[0.7737, 0.2263],\n        [0.5796, 0.4204],\n        [0.2071, 0.7929],\n        [0.8440, 0.1560],\n        [0.5917, 0.4083]])"
     },
     "execution_count": 76,
     "metadata": {},
     "output_type": "execute_result"
    }
   ],
   "source": [
    "torch.set_printoptions(threshold=5)\n",
    "y = gumbel_softmax(example, 1, hard=False)\n",
    "y"
   ],
   "metadata": {
    "collapsed": false,
    "pycharm": {
     "name": "#%%\n"
    }
   }
  },
  {
   "cell_type": "code",
   "execution_count": 79,
   "outputs": [
    {
     "name": "stderr",
     "output_type": "stream",
     "text": [
      "/home/ichida/miniconda3/envs/dl/lib/python3.9/site-packages/torch/nn/functional.py:1883: UserWarning: `eps` parameter is deprecated and has no effect.\n",
      "  warnings.warn(\"`eps` parameter is deprecated and has no effect.\")\n"
     ]
    },
    {
     "data": {
      "text/plain": "tensor([[0.6492, 0.3508],\n        [0.8914, 0.1086],\n        [0.1810, 0.8190],\n        [0.0288, 0.9712],\n        [0.9931, 0.0069]])"
     },
     "execution_count": 79,
     "metadata": {},
     "output_type": "execute_result"
    }
   ],
   "source": [
    "F.gumbel_softmax(example, tau=1, hard=False, eps=1e-5, dim=-1)"
   ],
   "metadata": {
    "collapsed": false,
    "pycharm": {
     "name": "#%%\n"
    }
   }
  },
  {
   "cell_type": "code",
   "execution_count": 82,
   "outputs": [
    {
     "data": {
      "text/plain": "tensor([[1., 0.],\n        [1., 0.],\n        [0., 1.],\n        [1., 0.],\n        [1., 0.]])"
     },
     "execution_count": 82,
     "metadata": {},
     "output_type": "execute_result"
    }
   ],
   "source": [
    "shape = y.size()\n",
    "_, ind = y.max(dim=-1)\n",
    "y_hard = torch.zeros_like(y).view(-1, shape[-1])\n",
    "y_hard.scatter_(1, ind.view(-1, 1), 1)\n",
    "#print(y_hard.size())\n",
    "#print(y_hard)\n",
    "#y_hard = (y_hard - y).detach() + y"
   ],
   "metadata": {
    "collapsed": false,
    "pycharm": {
     "name": "#%%\n"
    }
   }
  },
  {
   "cell_type": "code",
   "execution_count": 84,
   "outputs": [
    {
     "data": {
      "text/plain": "<Figure size 640x480 with 1 Axes>",
      "image/png": "[encoded data removed]"
     },
     "metadata": {},
     "output_type": "display_data"
    }
   ],
   "source": [
    "latent_vector = y_hard.cpu().numpy()\n",
    "import matplotlib.pyplot as plt\n",
    "\n",
    "plt.figure()\n",
    "plt.imshow(y_hard.view(2,5).cpu().numpy(), cmap='gray')\n",
    "plt.show()"
   ],
   "metadata": {
    "collapsed": false,
    "pycharm": {
     "name": "#%%\n"
    }
   }
  },
  {
   "cell_type": "code",
   "execution_count": null,
   "outputs": [],
   "source": [],
   "metadata": {
    "collapsed": false,
    "pycharm": {
     "name": "#%%\n"
    }
   }
  }
 ],
 "metadata": {
  "kernelspec": {
   "display_name": "Python 3",
   "language": "python",
   "name": "python3"
  },
  "language_info": {
   "codemirror_mode": {
    "name": "ipython",
    "version": 2
   },
   "file_extension": ".py",
   "mimetype": "text/x-python",
   "name": "python",
   "nbconvert_exporter": "python",
   "pygments_lexer": "ipython2",
   "version": "2.7.6"
  }
 },
 "nbformat": 4,
 "nbformat_minor": 0
}