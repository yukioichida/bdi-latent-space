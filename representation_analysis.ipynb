{
 "cells": [
  {
   "cell_type": "code",
   "execution_count": 1,
   "outputs": [
    {
     "name": "stdout",
     "output_type": "stream",
     "text": [
      "23110\n"
     ]
    },
    {
     "data": {
      "text/plain": "BeliefAutoencoder(\n  (drop): Dropout(p=0.0, inplace=False)\n  (embedding): Embedding(1450, 64, padding_idx=0)\n  (lstm_encoder): GRU(64, 128, batch_first=True, bidirectional=True)\n  (sampling_input): Linear(in_features=256, out_features=32, bias=True)\n  (z_embedding): Linear(in_features=32, out_features=64, bias=True)\n  (lstm_decoder): GRU(64, 128, batch_first=True)\n  (output_layer): Linear(in_features=128, out_features=1450, bias=True)\n)"
     },
     "execution_count": 1,
     "metadata": {},
     "output_type": "execute_result"
    }
   ],
   "source": [
    "import torch\n",
    "import numpy as np\n",
    "import random\n",
    "import matplotlib.pyplot as plt\n",
    "import torch.nn.functional as F\n",
    "from torch.nn.utils.rnn import pack_padded_sequence, pad_packed_sequence\n",
    "\n",
    "\n",
    "from sources.model import BeliefAutoencoder, gumbel_softmax\n",
    "from sources.preprocessing import preprocessing, preprocess_sentence\n",
    "\n",
    "def set_seed(seed=20190827):\n",
    "    random.seed(seed)\n",
    "    np.random.seed(seed)\n",
    "    torch.manual_seed(seed)\n",
    "set_seed()\n",
    "\n",
    "preprocessed_data = preprocessing(\"data/dataset_sentence_level.csv\", device='cpu')\n",
    "vocab = preprocessed_data.vocab\n",
    "model = BeliefAutoencoder(emb_dim=64, h_dim=128, latent_dim=32, vocab=vocab, categorical_dim=1)\n",
    "\n",
    "#model.load_state_dict(torch.load(\"models/belief-autoencoder-bc-YP68fCFu.pth\", map_location='cpu'))\n",
    "model.load_state_dict(torch.load(\"models/belief-autoencoder-dnGrTTMp.pth\", map_location='cpu'))\n",
    "model.eval()"
   ],
   "metadata": {
    "collapsed": false,
    "pycharm": {
     "name": "#%%\n"
    }
   }
  },
  {
   "cell_type": "code",
   "execution_count": 8,
   "outputs": [
    {
     "data": {
      "text/plain": "tensor([[  1,   3,   4,  18, 156,  15,  16,  17,   0],\n        [  1, 156,   0,   0,   0,   0,   0,   0,   0]])"
     },
     "execution_count": 8,
     "metadata": {},
     "output_type": "execute_result"
    }
   ],
   "source": [
    "sentences = [\"you have an apple in your inventory\", \"apple\"]\n",
    "seq_lens = [len(s.split()) for s in sentences]\n",
    "max_len = max(seq_lens)\n",
    "vectorized = []\n",
    "for s in sentences:\n",
    "    idxs, tgt, seq_len = preprocess_sentence(s, vocab, max_len)\n",
    "    vectorized.append(idxs)\n",
    "tensorized = torch.tensor(vectorized)\n",
    "\n",
    "seq_len = torch.tensor(seq_lens)\n",
    "tensorized"
   ],
   "metadata": {
    "collapsed": false,
    "pycharm": {
     "name": "#%%\n"
    }
   }
  },
  {
   "cell_type": "code",
   "execution_count": 9,
   "outputs": [
    {
     "name": "stderr",
     "output_type": "stream",
     "text": [
      "/home/ichida/miniconda3/envs/dl/lib/python3.9/site-packages/torch/nn/functional.py:1960: UserWarning: nn.functional.sigmoid is deprecated. Use torch.sigmoid instead.\n",
      "  warnings.warn(\"nn.functional.sigmoid is deprecated. Use torch.sigmoid instead.\")\n"
     ]
    },
    {
     "data": {
      "text/plain": "tensor([[1., 1., 1., 1., 0., 0., 0., 1., 0., 0., 0., 0., 1., 1., 1., 0., 1., 0.,\n         1., 0., 1., 0., 0., 0., 1., 0., 1., 1., 0., 0., 1., 1.],\n        [1., 1., 1., 1., 1., 0., 0., 1., 0., 0., 0., 0., 1., 0., 0., 1., 0., 1.,\n         1., 0., 0., 0., 0., 1., 1., 1., 1., 1., 0., 0., 1., 0.]])"
     },
     "execution_count": 9,
     "metadata": {},
     "output_type": "execute_result"
    }
   ],
   "source": [
    "with torch.no_grad():\n",
    "    y_hat, qy, _ = model(x=tensorized, seq_len=seq_len, temperature=1e-20)\n",
    "#qy = gumbel_softmax(qy, temperature=1e-20,latent_dim=30, categorical_dim=2, hard=True)\n",
    "qy = F.sigmoid(qy)\n",
    "torch.round(qy).squeeze(-1)"
   ],
   "metadata": {
    "collapsed": false,
    "pycharm": {
     "name": "#%%\n"
    }
   }
  },
  {
   "cell_type": "code",
   "execution_count": 10,
   "outputs": [
    {
     "data": {
      "text/plain": "<Figure size 640x480 with 1 Axes>",
      "image/png": "[encoded data removed]"
     },
     "metadata": {},
     "output_type": "display_data"
    },
    {
     "data": {
      "text/plain": "<Figure size 640x480 with 1 Axes>",
      "image/png": "[encoded data removed]"
     },
     "metadata": {},
     "output_type": "display_data"
    }
   ],
   "source": [
    "latent = torch.round(qy).squeeze(-1)\n",
    "latent = latent.view(2, 1, 32)\n",
    "latent_vectors = latent.detach().cpu().numpy()\n",
    "for vector in latent_vectors:\n",
    "    plt.figure()\n",
    "    plt.imshow(vector, cmap='gray')\n",
    "    plt.show()"
   ],
   "metadata": {
    "collapsed": false,
    "pycharm": {
     "name": "#%%\n"
    }
   }
  },
  {
   "cell_type": "code",
   "execution_count": 11,
   "outputs": [
    {
     "name": "stdout",
     "output_type": "stream",
     "text": [
      "['a', 'have', 'a', 'orange', 'in', 'your', 'inventory', '<EOS>', '<EOS>']\n",
      "[ 5  4  5 48 15 16 17  2  2]\n",
      "['a', 'juice', 'reproducing', 'and', '<EOS>', 'now', 'in', 'the', 'to']\n",
      "[  5 578  57  61   2 114  15  10  77]\n"
     ]
    }
   ],
   "source": [
    "inverted_vocab = {idx: word for word, idx in vocab.items()}\n",
    "\n",
    "y_hat.argmax(dim=-1)\n",
    "idxs = y_hat.argmax(dim=-1).detach().cpu().numpy()\n",
    "for idx in idxs:\n",
    "    print([inverted_vocab[i] for i in idx])\n",
    "    print(idx)"
   ],
   "metadata": {
    "collapsed": false,
    "pycharm": {
     "name": "#%%\n"
    }
   }
  },
  {
   "cell_type": "code",
   "execution_count": 77,
   "outputs": [
    {
     "name": "stdout",
     "output_type": "stream",
     "text": [
      "torch.Size([2, 1, 300]) torch.Size([1, 1])\n"
     ]
    },
    {
     "data": {
      "text/plain": "tensor([[  1],\n        [  0],\n        [  0],\n        [  0],\n        [119],\n        [  0],\n        [  0]])"
     },
     "execution_count": 77,
     "metadata": {},
     "output_type": "execute_result"
    }
   ],
   "source": [
    "next_word = torch.tensor([vocab['<SOS>']])\n",
    "z_emb = model.z_embedding(qy[0,:,:].view(1, 60)).unsqueeze(0)  # z_emb será usado como h inicial do LSTM decoder\n",
    "\n",
    "_, batch_size, hidden_len = z_emb.size()\n",
    "hidden = z_emb.view(2, 1, int(hidden_len / 2))  # h_t\n",
    "sentence = []\n",
    "next_word = next_word.unsqueeze(0)\n",
    "print(hidden.size(), next_word.size())\n",
    "for i in range(max_len):\n",
    "    sentence.append(next_word)\n",
    "    next_word_emb = model.embedding(next_word)\n",
    "    x, hidden = model.lstm_decoder(next_word_emb, hidden)\n",
    "    #x, _ = pad_packed_sequence(x)\n",
    "    x = model.output_layer(x)\n",
    "    next_word = x.argmax(dim=-1)\n",
    "s = torch.cat(sentence)\n",
    "s"
   ],
   "metadata": {
    "collapsed": false,
    "pycharm": {
     "name": "#%%\n"
    }
   }
  },
  {
   "cell_type": "code",
   "execution_count": 78,
   "outputs": [
    {
     "data": {
      "text/plain": "['<SOS>', '<PAD>', '<PAD>', '<PAD>', '3', '<PAD>', '<PAD>']"
     },
     "execution_count": 78,
     "metadata": {},
     "output_type": "execute_result"
    }
   ],
   "source": [
    "[inverted_vocab[i] for i in s.squeeze(-1).detach().numpy().tolist()]"
   ],
   "metadata": {
    "collapsed": false,
    "pycharm": {
     "name": "#%%\n"
    }
   }
  },
  {
   "cell_type": "code",
   "execution_count": 76,
   "outputs": [
    {
     "data": {
      "text/plain": "(tensor([[8.2806e-04, 9.9941e-01],\n         [6.5952e-01, 3.7537e-01],\n         [1.3543e-02, 9.8676e-01],\n         [7.6780e-02, 9.3148e-01],\n         [9.9985e-01, 1.1610e-04],\n         [9.9946e-01, 2.8733e-04],\n         [9.9685e-01, 6.6426e-03],\n         [9.9788e-01, 5.5238e-03],\n         [9.9924e-01, 6.1472e-04],\n         [9.9751e-05, 9.9984e-01],\n         [7.9383e-07, 1.0000e+00],\n         [2.1500e-01, 7.1328e-01],\n         [9.1362e-03, 9.8036e-01],\n         [8.4709e-06, 9.9998e-01],\n         [9.5656e-01, 5.3405e-02],\n         [2.4508e-02, 9.5849e-01],\n         [1.8293e-02, 9.8606e-01],\n         [9.7044e-01, 1.9000e-02],\n         [8.6453e-02, 8.4050e-01],\n         [9.9999e-01, 1.7152e-05],\n         [4.0549e-02, 9.8730e-01],\n         [1.0000e+00, 3.3609e-07],\n         [1.2495e-02, 9.7839e-01],\n         [2.1059e-01, 7.9157e-01],\n         [3.6606e-05, 9.9985e-01],\n         [1.0368e-04, 9.9987e-01],\n         [8.2068e-03, 9.9318e-01],\n         [1.0000e+00, 5.1429e-07],\n         [1.1812e-06, 1.0000e+00],\n         [7.9596e-01, 1.5260e-01]]),\n tensor([[0.0314, 0.9670],\n         [0.9863, 0.0138],\n         [0.6176, 0.4158],\n         [0.6613, 0.2586],\n         [0.0011, 0.9990],\n         [0.9964, 0.0035],\n         [0.2040, 0.8675],\n         [0.6814, 0.2242],\n         [0.9967, 0.0034],\n         [0.3212, 0.5846],\n         [0.5895, 0.3386],\n         [0.0951, 0.8887],\n         [0.4411, 0.4725],\n         [0.9933, 0.0101],\n         [0.2036, 0.7176],\n         [0.5863, 0.3589],\n         [0.0013, 0.9988],\n         [0.8324, 0.1257],\n         [0.6578, 0.4205],\n         [0.9878, 0.0085],\n         [0.0479, 0.9585],\n         [0.9961, 0.0040],\n         [0.0358, 0.9769],\n         [0.1588, 0.9025],\n         [0.6934, 0.2413],\n         [0.0294, 0.9771],\n         [0.8337, 0.1701],\n         [0.0449, 0.9365],\n         [0.1169, 0.9013],\n         [0.3528, 0.3961]]))"
     },
     "execution_count": 76,
     "metadata": {},
     "output_type": "execute_result"
    }
   ],
   "source": [
    "qy[0,:,:], qy[1,:,:]"
   ],
   "metadata": {
    "collapsed": false,
    "pycharm": {
     "name": "#%%\n"
    }
   }
  },
  {
   "cell_type": "code",
   "execution_count": null,
   "outputs": [],
   "source": [],
   "metadata": {
    "collapsed": false,
    "pycharm": {
     "name": "#%%\n"
    }
   }
  }
 ],
 "metadata": {
  "kernelspec": {
   "display_name": "Python 3",
   "language": "python",
   "name": "python3"
  },
  "language_info": {
   "codemirror_mode": {
    "name": "ipython",
    "version": 2
   },
   "file_extension": ".py",
   "mimetype": "text/x-python",
   "name": "python",
   "nbconvert_exporter": "python",
   "pygments_lexer": "ipython2",
   "version": "2.7.6"
  }
 },
 "nbformat": 4,
 "nbformat_minor": 0
}