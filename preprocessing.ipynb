{
 "cells": [
  {
   "cell_type": "code",
   "execution_count": 1,
   "metadata": {
    "collapsed": true,
    "pycharm": {
     "name": "#%%\n"
    }
   },
   "outputs": [],
   "source": [
    "import pandas as pd"
   ]
  },
  {
   "cell_type": "code",
   "execution_count": 42,
   "outputs": [
    {
     "data": {
      "text/plain": "                                  observation                action  \\\n0                                         NaN           look around   \n1                   The door is already open.  open door to kitchen   \n2                    You move to the kitchen.         go to kitchen   \n3                                         NaN           look around   \n4  You move the thermometer to the inventory.   pick up thermometer   \n\n                                    inventory  \\\n0  In your inventory, you see:\\n\\tan orange\\n   \n1  In your inventory, you see:\\n\\tan orange\\n   \n2  In your inventory, you see:\\n\\tan orange\\n   \n3  In your inventory, you see:\\n\\tan orange\\n   \n4  In your inventory, you see:\\n\\tan orange\\n   \n\n                                            freelook  \n0  This room is called the hallway. In it, you se...  \n1  This room is called the hallway. In it, you se...  \n2  This room is called the hallway. In it, you se...  \n3  This room is called the kitchen. In it, you se...  \n4  This room is called the kitchen. In it, you se...  ",
      "text/html": "<div>\n<style scoped>\n    .dataframe tbody tr th:only-of-type {\n        vertical-align: middle;\n    }\n\n    .dataframe tbody tr th {\n        vertical-align: top;\n    }\n\n    .dataframe thead th {\n        text-align: right;\n    }\n</style>\n<table border=\"1\" class=\"dataframe\">\n  <thead>\n    <tr style=\"text-align: right;\">\n      <th></th>\n      <th>observation</th>\n      <th>action</th>\n      <th>inventory</th>\n      <th>freelook</th>\n    </tr>\n  </thead>\n  <tbody>\n    <tr>\n      <th>0</th>\n      <td>NaN</td>\n      <td>look around</td>\n      <td>In your inventory, you see:\\n\\tan orange\\n</td>\n      <td>This room is called the hallway. In it, you se...</td>\n    </tr>\n    <tr>\n      <th>1</th>\n      <td>The door is already open.</td>\n      <td>open door to kitchen</td>\n      <td>In your inventory, you see:\\n\\tan orange\\n</td>\n      <td>This room is called the hallway. In it, you se...</td>\n    </tr>\n    <tr>\n      <th>2</th>\n      <td>You move to the kitchen.</td>\n      <td>go to kitchen</td>\n      <td>In your inventory, you see:\\n\\tan orange\\n</td>\n      <td>This room is called the hallway. In it, you se...</td>\n    </tr>\n    <tr>\n      <th>3</th>\n      <td>NaN</td>\n      <td>look around</td>\n      <td>In your inventory, you see:\\n\\tan orange\\n</td>\n      <td>This room is called the kitchen. In it, you se...</td>\n    </tr>\n    <tr>\n      <th>4</th>\n      <td>You move the thermometer to the inventory.</td>\n      <td>pick up thermometer</td>\n      <td>In your inventory, you see:\\n\\tan orange\\n</td>\n      <td>This room is called the kitchen. In it, you se...</td>\n    </tr>\n  </tbody>\n</table>\n</div>"
     },
     "execution_count": 42,
     "metadata": {},
     "output_type": "execute_result"
    }
   ],
   "source": [
    "data_df = pd.read_csv(\"data/dataset.csv\")\n",
    "data_df.head()"
   ],
   "metadata": {
    "collapsed": false,
    "pycharm": {
     "name": "#%%\n"
    }
   }
  },
  {
   "cell_type": "code",
   "execution_count": null,
   "outputs": [],
   "source": [],
   "metadata": {
    "collapsed": false,
    "pycharm": {
     "name": "#%%\n"
    }
   }
  },
  {
   "cell_type": "code",
   "execution_count": 48,
   "outputs": [
    {
     "data": {
      "text/plain": "['This room is called the hallway. ',\n 'a picture',\n 'a substance called air',\n 'the agent',\n 'A door to the green house that is open',\n 'A door to the living room that is open',\n 'A door to the art studio that is open',\n 'A door to the kitchen that is open',\n 'A door to the bedroom that is open',\n 'A door to the workshop that is open']"
     },
     "execution_count": 48,
     "metadata": {},
     "output_type": "execute_result"
    }
   ],
   "source": [
    "original_text = \"\"\"\n",
    "This room is called the hallway. In it, you see:\n",
    "\ta picture\n",
    "\ta substance called air\n",
    "\tthe agent\n",
    "You also see:\n",
    "\tA door to the green house (that is open)\n",
    "\tA door to the living room (that is open)\n",
    "\tA door to the art studio (that is open)\n",
    "\tA door to the kitchen (that is open)\n",
    "\tA door to the bedroom (that is open)\n",
    "\tA door to the workshop (that is open\n",
    "\"\"\"\n",
    "\n",
    "def get_observation_look(text_observation: str, inventory: bool = False) -> list:\n",
    "    ignore_terms = ['You also see:', '(', ')', 'In it, you see:', 'In your inventory, you see:']\n",
    "    text = text_observation\n",
    "    for ignore in ignore_terms:\n",
    "        text = text.replace(ignore, '')\n",
    "    all_beliefs = [sentence.replace('\\t', '') for sentence in text.split('\\n') if len(sentence) > 0]\n",
    "    if inventory:\n",
    "        return [f\"You have {s.lower()} in your inventory\" for s in all_beliefs]\n",
    "    else:\n",
    "        return all_beliefs\n",
    "\n",
    "\n",
    "get_observation_look(original_text)"
   ],
   "metadata": {
    "collapsed": false,
    "pycharm": {
     "name": "#%%\n"
    }
   }
  },
  {
   "cell_type": "code",
   "execution_count": 47,
   "outputs": [
    {
     "data": {
      "text/plain": "['You have an orange in your inventory']"
     },
     "execution_count": 47,
     "metadata": {},
     "output_type": "execute_result"
    }
   ],
   "source": [
    "inventory_text = \"\"\"\n",
    "In your inventory, you see:\n",
    "\tan orange\n",
    "\"\"\"\n",
    "\n",
    "get_observation_look(inventory_text, inventory=True)"
   ],
   "metadata": {
    "collapsed": false,
    "pycharm": {
     "name": "#%%\n"
    }
   }
  },
  {
   "cell_type": "code",
   "execution_count": null,
   "outputs": [],
   "source": [],
   "metadata": {
    "collapsed": false,
    "pycharm": {
     "name": "#%%\n"
    }
   }
  },
  {
   "cell_type": "code",
   "execution_count": null,
   "outputs": [],
   "source": [],
   "metadata": {
    "collapsed": false,
    "pycharm": {
     "name": "#%%\n"
    }
   }
  }
 ],
 "metadata": {
  "kernelspec": {
   "display_name": "Python 3",
   "language": "python",
   "name": "python3"
  },
  "language_info": {
   "codemirror_mode": {
    "name": "ipython",
    "version": 2
   },
   "file_extension": ".py",
   "mimetype": "text/x-python",
   "name": "python",
   "nbconvert_exporter": "python",
   "pygments_lexer": "ipython2",
   "version": "2.7.6"
  }
 },
 "nbformat": 4,
 "nbformat_minor": 0
}