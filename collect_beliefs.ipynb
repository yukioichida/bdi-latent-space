{
 "cells": [
  {
   "cell_type": "code",
   "execution_count": 2,
   "metadata": {
    "collapsed": true,
    "pycharm": {
     "name": "#%%\n"
    }
   },
   "outputs": [],
   "source": [
    "import pandas as pd\n",
    "import json"
   ]
  },
  {
   "cell_type": "code",
   "execution_count": 3,
   "outputs": [
    {
     "name": "stdout",
     "output_type": "stream",
     "text": [
      "Tasks stored in this gold data: dict_keys(['0', '1', '2', '3', '4', '6', '7', '8', '9', '10', '11', '12', '13', '14', '15', '16', '17', '18', '19', '20', '21', '22', '23', '24', '25', '26', '27', '28', '29'])\n"
     ]
    }
   ],
   "source": [
    "#filenameIn = \"data/goldsequences-0.json\"\n",
    "filenameIn = \"data/goldsequences-0-1-2-3-4-6-7-8-9-10-11-12-13-14-15-16-17-18-19-20-21-22-23-24-25-26-27-28-29.json\"\n",
    "f = open(filenameIn)\n",
    "data = json.load(f)\n",
    "print(\"Tasks stored in this gold data: \" + str(data.keys()))\n"
   ],
   "metadata": {
    "collapsed": false,
    "pycharm": {
     "name": "#%%\n"
    }
   }
  },
  {
   "cell_type": "code",
   "execution_count": 4,
   "outputs": [],
   "source": [
    "def get_observation_look(text_observation: str, inventory: bool = False) -> list:\n",
    "    ignore_terms = ['You also see:', '(', ')', 'In it, you see:', 'In your inventory, you see:']\n",
    "    text = text_observation\n",
    "    for ignore in ignore_terms:\n",
    "        text = text.replace(ignore, ' ')\n",
    "    all_beliefs = [sentence.replace('\\t', '') for sentence in text.split('\\n') if len(sentence) > 0]\n",
    "    if inventory:\n",
    "        return [f\"You have {s.lower()} in your inventory\" for s in all_beliefs]\n",
    "    else:\n",
    "        return all_beliefs"
   ],
   "metadata": {
    "collapsed": false,
    "pycharm": {
     "name": "#%%\n"
    }
   }
  },
  {
   "cell_type": "code",
   "execution_count": 5,
   "outputs": [
    {
     "data": {
      "text/plain": "                                     0\n0  This room is called the hallway.   \n1                            a picture\n2               a substance called air\n3                            the agent\n4                                     ",
      "text/html": "<div>\n<style scoped>\n    .dataframe tbody tr th:only-of-type {\n        vertical-align: middle;\n    }\n\n    .dataframe tbody tr th {\n        vertical-align: top;\n    }\n\n    .dataframe thead th {\n        text-align: right;\n    }\n</style>\n<table border=\"1\" class=\"dataframe\">\n  <thead>\n    <tr style=\"text-align: right;\">\n      <th></th>\n      <th>0</th>\n    </tr>\n  </thead>\n  <tbody>\n    <tr>\n      <th>0</th>\n      <td>This room is called the hallway.</td>\n    </tr>\n    <tr>\n      <th>1</th>\n      <td>a picture</td>\n    </tr>\n    <tr>\n      <th>2</th>\n      <td>a substance called air</td>\n    </tr>\n    <tr>\n      <th>3</th>\n      <td>the agent</td>\n    </tr>\n    <tr>\n      <th>4</th>\n      <td></td>\n    </tr>\n  </tbody>\n</table>\n</div>"
     },
     "execution_count": 5,
     "metadata": {},
     "output_type": "execute_result"
    }
   ],
   "source": [
    "agent_information = []\n",
    "for taskIdx in data.keys():\n",
    "    taskData = data[taskIdx]\n",
    "    taskName = taskData['taskName']\n",
    "    goldSequences = taskData['goldActionSequences']\n",
    "    for goldSequence in goldSequences:\n",
    "        fold = goldSequence['fold']\n",
    "        path = goldSequence['path']\n",
    "        for step in path:\n",
    "            action = step['action']\n",
    "            observation = step['observation']\n",
    "            freelook = step['freelook']\n",
    "            inventory = step['inventory']\n",
    "            all_obs = get_observation_look(observation)\n",
    "            all_inventory_obs = get_observation_look(inventory, inventory=True)\n",
    "            agent_information += all_obs\n",
    "            agent_information += all_inventory_obs\n",
    "\n",
    "\n",
    "\n",
    "data_df = pd.DataFrame(agent_information)\n",
    "data_df.head()"
   ],
   "metadata": {
    "collapsed": false,
    "pycharm": {
     "name": "#%%\n"
    }
   }
  },
  {
   "cell_type": "code",
   "execution_count": 6,
   "outputs": [
    {
     "data": {
      "text/plain": "(2100684, 23110)"
     },
     "execution_count": 6,
     "metadata": {},
     "output_type": "execute_result"
    }
   ],
   "source": [
    "len(agent_information), len(list(set(agent_information)))"
   ],
   "metadata": {
    "collapsed": false,
    "pycharm": {
     "name": "#%%\n"
    }
   }
  },
  {
   "cell_type": "code",
   "execution_count": 7,
   "outputs": [
    {
     "data": {
      "text/plain": "                                            sentence  num_words\n0  terminal 2 on unknown substance m is now conne...         15\n1               you have chocolate in your inventory          6\n2  a table  on the table is  a green wire  a red ...         43\n3  a flower pot 1  containing a unknown b plant i...         53\n4  an inclined plane with a brass surface  with  ...         16",
      "text/html": "<div>\n<style scoped>\n    .dataframe tbody tr th:only-of-type {\n        vertical-align: middle;\n    }\n\n    .dataframe tbody tr th {\n        vertical-align: top;\n    }\n\n    .dataframe thead th {\n        text-align: right;\n    }\n</style>\n<table border=\"1\" class=\"dataframe\">\n  <thead>\n    <tr style=\"text-align: right;\">\n      <th></th>\n      <th>sentence</th>\n      <th>num_words</th>\n    </tr>\n  </thead>\n  <tbody>\n    <tr>\n      <th>0</th>\n      <td>terminal 2 on unknown substance m is now conne...</td>\n      <td>15</td>\n    </tr>\n    <tr>\n      <th>1</th>\n      <td>you have chocolate in your inventory</td>\n      <td>6</td>\n    </tr>\n    <tr>\n      <th>2</th>\n      <td>a table  on the table is  a green wire  a red ...</td>\n      <td>43</td>\n    </tr>\n    <tr>\n      <th>3</th>\n      <td>a flower pot 1  containing a unknown b plant i...</td>\n      <td>53</td>\n    </tr>\n    <tr>\n      <th>4</th>\n      <td>an inclined plane with a brass surface  with  ...</td>\n      <td>16</td>\n    </tr>\n  </tbody>\n</table>\n</div>"
     },
     "execution_count": 7,
     "metadata": {},
     "output_type": "execute_result"
    }
   ],
   "source": [
    "def clean_text(text: str) -> str:\n",
    "    ignore_tokens = [\".\", \"(\", \")\", \":\", \",\"]\n",
    "    result = text\n",
    "    for token in ignore_tokens:\n",
    "        result = result.replace(token, \" \")\n",
    "    return result.lower()\n",
    "\n",
    "data_sentence = []\n",
    "\n",
    "for sentence in list(set(agent_information)):\n",
    "    preprocessed_sentence = clean_text(sentence)\n",
    "    data_sentence.append({\n",
    "        \"sentence\": preprocessed_sentence,\n",
    "        \"num_words\": len(preprocessed_sentence.split())\n",
    "    })\n",
    "sentence_df = pd.DataFrame(data_sentence)\n",
    "sentence_df.head()"
   ],
   "metadata": {
    "collapsed": false,
    "pycharm": {
     "name": "#%%\n"
    }
   }
  },
  {
   "cell_type": "code",
   "execution_count": 18,
   "outputs": [
    {
     "data": {
      "text/plain": "                                                sentence  num_words\n19410  a flower pot 1  containing soil  a unknown e p...         78\n15050  a flower pot 9  containing soil  a unknown e p...         76\n15081  a flower pot 4  containing a unknown e plant i...         76\n15069  you have a seed jar  containing a unknown e pl...         75\n2996   a flower pot 1  containing soil  a unknown e p...         75\n...                                                  ...        ...\n10196                                             cachew          1\n22227                                             peanut          1\n20832                                        marshmallow          1\n12724                                              bread          1\n10547                                                             0\n\n[23110 rows x 2 columns]",
      "text/html": "<div>\n<style scoped>\n    .dataframe tbody tr th:only-of-type {\n        vertical-align: middle;\n    }\n\n    .dataframe tbody tr th {\n        vertical-align: top;\n    }\n\n    .dataframe thead th {\n        text-align: right;\n    }\n</style>\n<table border=\"1\" class=\"dataframe\">\n  <thead>\n    <tr style=\"text-align: right;\">\n      <th></th>\n      <th>sentence</th>\n      <th>num_words</th>\n    </tr>\n  </thead>\n  <tbody>\n    <tr>\n      <th>19410</th>\n      <td>a flower pot 1  containing soil  a unknown e p...</td>\n      <td>78</td>\n    </tr>\n    <tr>\n      <th>15050</th>\n      <td>a flower pot 9  containing soil  a unknown e p...</td>\n      <td>76</td>\n    </tr>\n    <tr>\n      <th>15081</th>\n      <td>a flower pot 4  containing a unknown e plant i...</td>\n      <td>76</td>\n    </tr>\n    <tr>\n      <th>15069</th>\n      <td>you have a seed jar  containing a unknown e pl...</td>\n      <td>75</td>\n    </tr>\n    <tr>\n      <th>2996</th>\n      <td>a flower pot 1  containing soil  a unknown e p...</td>\n      <td>75</td>\n    </tr>\n    <tr>\n      <th>...</th>\n      <td>...</td>\n      <td>...</td>\n    </tr>\n    <tr>\n      <th>10196</th>\n      <td>cachew</td>\n      <td>1</td>\n    </tr>\n    <tr>\n      <th>22227</th>\n      <td>peanut</td>\n      <td>1</td>\n    </tr>\n    <tr>\n      <th>20832</th>\n      <td>marshmallow</td>\n      <td>1</td>\n    </tr>\n    <tr>\n      <th>12724</th>\n      <td>bread</td>\n      <td>1</td>\n    </tr>\n    <tr>\n      <th>10547</th>\n      <td></td>\n      <td>0</td>\n    </tr>\n  </tbody>\n</table>\n<p>23110 rows × 2 columns</p>\n</div>"
     },
     "execution_count": 18,
     "metadata": {},
     "output_type": "execute_result"
    }
   ],
   "source": [
    "sentence_df.sort_values(\"num_words\", ascending=False)"
   ],
   "metadata": {
    "collapsed": false,
    "pycharm": {
     "name": "#%%\n"
    }
   }
  },
  {
   "cell_type": "code",
   "execution_count": 19,
   "outputs": [],
   "source": [
    "sentence_df.to_csv(\"data/dataset_sentence_level.csv\", index=False)"
   ],
   "metadata": {
    "collapsed": false,
    "pycharm": {
     "name": "#%%\n"
    }
   }
  },
  {
   "cell_type": "code",
   "execution_count": null,
   "outputs": [],
   "source": [],
   "metadata": {
    "collapsed": false,
    "pycharm": {
     "name": "#%%\n"
    }
   }
  }
 ],
 "metadata": {
  "kernelspec": {
   "display_name": "Python 3",
   "language": "python",
   "name": "python3"
  },
  "language_info": {
   "codemirror_mode": {
    "name": "ipython",
    "version": 2
   },
   "file_extension": ".py",
   "mimetype": "text/x-python",
   "name": "python",
   "nbconvert_exporter": "python",
   "pygments_lexer": "ipython2",
   "version": "2.7.6"
  }
 },
 "nbformat": 4,
 "nbformat_minor": 0
}