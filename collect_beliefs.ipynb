{
 "cells": [
  {
   "cell_type": "code",
   "execution_count": 3,
   "metadata": {
    "collapsed": true,
    "pycharm": {
     "name": "#%%\n"
    }
   },
   "outputs": [],
   "source": [
    "import pandas as pd\n",
    "import json"
   ]
  },
  {
   "cell_type": "code",
   "execution_count": 40,
   "outputs": [
    {
     "name": "stdout",
     "output_type": "stream",
     "text": [
      "Tasks stored in this gold data: dict_keys(['0', '1', '2', '3', '4', '6', '7', '8', '9', '10', '11', '12', '13', '14', '15', '16', '17', '18', '19', '20', '21', '22', '23', '24', '25', '26', '27', '28', '29'])\n"
     ]
    }
   ],
   "source": [
    "#filenameIn = \"data/goldpaths/goldsequences-0.json\"\n",
    "filenameIn = \"data/goldpaths/goldsequences-0-1-2-3-4-6-7-8-9-10-11-12-13-14-15-16-17-18-19-20-21-22-23-24-25-26-27-28-29.json\"\n",
    "f = open(filenameIn)\n",
    "data = json.load(f)\n",
    "print(\"Tasks stored in this gold data: \" + str(data.keys()))\n",
    "numMoves = 0\n",
    "numSequences = 0\n",
    "all_observation = []\n"
   ],
   "metadata": {
    "collapsed": false,
    "pycharm": {
     "name": "#%%\n"
    }
   }
  },
  {
   "cell_type": "code",
   "execution_count": 66,
   "outputs": [],
   "source": [
    "def get_observation_look(text_observation: str, inventory: bool = False) -> list:\n",
    "    ignore_terms = ['You also see:', '(', ')', 'In it, you see:', 'In your inventory, you see:']\n",
    "    text = text_observation\n",
    "    for ignore in ignore_terms:\n",
    "        text = text.replace(ignore, '')\n",
    "    all_beliefs = [sentence.replace('\\t', '') for sentence in text.split('\\n') if len(sentence) > 0]\n",
    "    if inventory:\n",
    "        return [f\"You have {s.lower()} in your inventory\" for s in all_beliefs]\n",
    "    else:\n",
    "        return all_beliefs"
   ],
   "metadata": {
    "collapsed": false,
    "pycharm": {
     "name": "#%%\n"
    }
   }
  },
  {
   "cell_type": "code",
   "execution_count": 67,
   "outputs": [
    {
     "data": {
      "text/plain": "                                        0\n0      This room is called the hallway.  \n1                               a picture\n2                  a substance called air\n3                               the agent\n4  A door to the green house that is open",
      "text/html": "<div>\n<style scoped>\n    .dataframe tbody tr th:only-of-type {\n        vertical-align: middle;\n    }\n\n    .dataframe tbody tr th {\n        vertical-align: top;\n    }\n\n    .dataframe thead th {\n        text-align: right;\n    }\n</style>\n<table border=\"1\" class=\"dataframe\">\n  <thead>\n    <tr style=\"text-align: right;\">\n      <th></th>\n      <th>0</th>\n    </tr>\n  </thead>\n  <tbody>\n    <tr>\n      <th>0</th>\n      <td>This room is called the hallway.</td>\n    </tr>\n    <tr>\n      <th>1</th>\n      <td>a picture</td>\n    </tr>\n    <tr>\n      <th>2</th>\n      <td>a substance called air</td>\n    </tr>\n    <tr>\n      <th>3</th>\n      <td>the agent</td>\n    </tr>\n    <tr>\n      <th>4</th>\n      <td>A door to the green house that is open</td>\n    </tr>\n  </tbody>\n</table>\n</div>"
     },
     "execution_count": 67,
     "metadata": {},
     "output_type": "execute_result"
    }
   ],
   "source": [
    "agent_information = []\n",
    "for taskIdx in data.keys():\n",
    "    taskData = data[taskIdx]\n",
    "    taskName = taskData['taskName']\n",
    "    goldSequences = taskData['goldActionSequences']\n",
    "    for goldSequence in goldSequences:\n",
    "        fold = goldSequence['fold']\n",
    "        path = goldSequence['path']\n",
    "        for step in path:\n",
    "            action = step['action']\n",
    "            observation = step['observation']\n",
    "            freelook = step['freelook']\n",
    "            inventory = step['inventory']\n",
    "            all_obs = get_observation_look(observation)\n",
    "            all_inventory_obs = get_observation_look(inventory, inventory=True)\n",
    "            agent_information += all_obs\n",
    "            agent_information += all_inventory_obs\n",
    "\n",
    "data_df = pd.DataFrame(agent_information)\n",
    "data_df.head()"
   ],
   "metadata": {
    "collapsed": false,
    "pycharm": {
     "name": "#%%\n"
    }
   }
  },
  {
   "cell_type": "code",
   "execution_count": 69,
   "outputs": [
    {
     "data": {
      "text/plain": "(1623023, 23108)"
     },
     "execution_count": 69,
     "metadata": {},
     "output_type": "execute_result"
    }
   ],
   "source": [
    "len(agent_information), len(list(set(agent_information)))"
   ],
   "metadata": {
    "collapsed": false,
    "pycharm": {
     "name": "#%%\n"
    }
   }
  },
  {
   "cell_type": "code",
   "execution_count": 72,
   "outputs": [
    {
     "data": {
      "text/plain": "                                            sentence  num_words\n0  a flower pot 9 containing soil, a pea plant in...         32\n1  an inclined plane with a unknown material G su...         18\n2  the thermometer measures a temperature of 112 ...          9\n3  a flower pot 5 containing soil, a unknown D pl...         28\n4  a table. On the table is: a switch, which is o...         43",
      "text/html": "<div>\n<style scoped>\n    .dataframe tbody tr th:only-of-type {\n        vertical-align: middle;\n    }\n\n    .dataframe tbody tr th {\n        vertical-align: top;\n    }\n\n    .dataframe thead th {\n        text-align: right;\n    }\n</style>\n<table border=\"1\" class=\"dataframe\">\n  <thead>\n    <tr style=\"text-align: right;\">\n      <th></th>\n      <th>sentence</th>\n      <th>num_words</th>\n    </tr>\n  </thead>\n  <tbody>\n    <tr>\n      <th>0</th>\n      <td>a flower pot 9 containing soil, a pea plant in...</td>\n      <td>32</td>\n    </tr>\n    <tr>\n      <th>1</th>\n      <td>an inclined plane with a unknown material G su...</td>\n      <td>18</td>\n    </tr>\n    <tr>\n      <th>2</th>\n      <td>the thermometer measures a temperature of 112 ...</td>\n      <td>9</td>\n    </tr>\n    <tr>\n      <th>3</th>\n      <td>a flower pot 5 containing soil, a unknown D pl...</td>\n      <td>28</td>\n    </tr>\n    <tr>\n      <th>4</th>\n      <td>a table. On the table is: a switch, which is o...</td>\n      <td>43</td>\n    </tr>\n  </tbody>\n</table>\n</div>"
     },
     "execution_count": 72,
     "metadata": {},
     "output_type": "execute_result"
    }
   ],
   "source": [
    "data_sentence = []\n",
    "for sentence in list(set(agent_information)):\n",
    "    data_sentence.append({\n",
    "        \"sentence\": sentence,\n",
    "        \"num_words\": len(sentence.split())\n",
    "    })\n",
    "sentence_df = pd.DataFrame(data_sentence)\n",
    "sentence_df.head()"
   ],
   "metadata": {
    "collapsed": false,
    "pycharm": {
     "name": "#%%\n"
    }
   }
  },
  {
   "cell_type": "code",
   "execution_count": 74,
   "outputs": [
    {
     "data": {
      "text/plain": "                                                sentence  num_words\n21705  a flower pot 1 containing soil, a unknown E pl...         78\n8352   a flower pot 4 containing a unknown E plant in...         77\n3244   a flower pot 9 containing soil, a unknown E pl...         76\n19437  You have a seed jar containing a unknown e pla...         76\n1150   a flower pot 1 containing soil, a unknown E pl...         75\n...                                                  ...        ...\n12755                                          chocolate          1\n5595                                         marshmallow          1\n9695                                               bread          1\n17824                                              flour          1\n2490                                              cachew          1\n\n[23108 rows x 2 columns]",
      "text/html": "<div>\n<style scoped>\n    .dataframe tbody tr th:only-of-type {\n        vertical-align: middle;\n    }\n\n    .dataframe tbody tr th {\n        vertical-align: top;\n    }\n\n    .dataframe thead th {\n        text-align: right;\n    }\n</style>\n<table border=\"1\" class=\"dataframe\">\n  <thead>\n    <tr style=\"text-align: right;\">\n      <th></th>\n      <th>sentence</th>\n      <th>num_words</th>\n    </tr>\n  </thead>\n  <tbody>\n    <tr>\n      <th>21705</th>\n      <td>a flower pot 1 containing soil, a unknown E pl...</td>\n      <td>78</td>\n    </tr>\n    <tr>\n      <th>8352</th>\n      <td>a flower pot 4 containing a unknown E plant in...</td>\n      <td>77</td>\n    </tr>\n    <tr>\n      <th>3244</th>\n      <td>a flower pot 9 containing soil, a unknown E pl...</td>\n      <td>76</td>\n    </tr>\n    <tr>\n      <th>19437</th>\n      <td>You have a seed jar containing a unknown e pla...</td>\n      <td>76</td>\n    </tr>\n    <tr>\n      <th>1150</th>\n      <td>a flower pot 1 containing soil, a unknown E pl...</td>\n      <td>75</td>\n    </tr>\n    <tr>\n      <th>...</th>\n      <td>...</td>\n      <td>...</td>\n    </tr>\n    <tr>\n      <th>12755</th>\n      <td>chocolate</td>\n      <td>1</td>\n    </tr>\n    <tr>\n      <th>5595</th>\n      <td>marshmallow</td>\n      <td>1</td>\n    </tr>\n    <tr>\n      <th>9695</th>\n      <td>bread</td>\n      <td>1</td>\n    </tr>\n    <tr>\n      <th>17824</th>\n      <td>flour</td>\n      <td>1</td>\n    </tr>\n    <tr>\n      <th>2490</th>\n      <td>cachew</td>\n      <td>1</td>\n    </tr>\n  </tbody>\n</table>\n<p>23108 rows × 2 columns</p>\n</div>"
     },
     "execution_count": 74,
     "metadata": {},
     "output_type": "execute_result"
    }
   ],
   "source": [
    "sentence_df.sort_values(\"num_words\", ascending=False)"
   ],
   "metadata": {
    "collapsed": false,
    "pycharm": {
     "name": "#%%\n"
    }
   }
  },
  {
   "cell_type": "code",
   "execution_count": 75,
   "outputs": [],
   "source": [
    "sentence_df.to_csv(\"data/dataset_sentence_level.csv\", index=False)"
   ],
   "metadata": {
    "collapsed": false,
    "pycharm": {
     "name": "#%%\n"
    }
   }
  },
  {
   "cell_type": "code",
   "execution_count": null,
   "outputs": [],
   "source": [],
   "metadata": {
    "collapsed": false,
    "pycharm": {
     "name": "#%%\n"
    }
   }
  }
 ],
 "metadata": {
  "kernelspec": {
   "display_name": "Python 3",
   "language": "python",
   "name": "python3"
  },
  "language_info": {
   "codemirror_mode": {
    "name": "ipython",
    "version": 2
   },
   "file_extension": ".py",
   "mimetype": "text/x-python",
   "name": "python",
   "nbconvert_exporter": "python",
   "pygments_lexer": "ipython2",
   "version": "2.7.6"
  }
 },
 "nbformat": 4,
 "nbformat_minor": 0
}