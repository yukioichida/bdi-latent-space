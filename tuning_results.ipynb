{
 "cells": [
  {
   "cell_type": "code",
   "execution_count": 2,
   "metadata": {
    "collapsed": true
   },
   "outputs": [
    {
     "data": {
      "text/plain": "Index(['emb_dim', 'h_dim', 'latent_dim', 'categorical_dim', 'batch_size',\n       'save_model', 'initial_temp', 'min_temp', 'epochs', 'anneal_rate',\n       'current_epoch', 'train_loss', 'kld', 'recon_loss'],\n      dtype='object')"
     },
     "execution_count": 2,
     "metadata": {},
     "output_type": "execute_result"
    }
   ],
   "source": [
    "import pandas as pd\n",
    "\n",
    "\n",
    "result_df = pd.read_csv(\"train_results/tunning_results.csv\")\n",
    "result_df.columns"
   ]
  },
  {
   "cell_type": "code",
   "execution_count": 11,
   "outputs": [
    {
     "data": {
      "text/plain": "    emb_dim  h_dim  latent_dim  categorical_dim  train_loss\n11       30    150          30                2  112.080590\n10       30    150          15                2  114.973310\n5        15    150          30                2  117.450673\n9        30    100          30                2  119.653747\n8        30    100          15                2  120.390153\n4        15    150          15                2  120.563675\n3        15    100          30                2  123.273463\n7        30     50          30                2  126.204825\n2        15    100          15                2  126.449055\n6        30     50          15                2  128.112476\n1        15     50          30                2  128.132686\n0        15     50          15                2  128.509817",
      "text/html": "<div>\n<style scoped>\n    .dataframe tbody tr th:only-of-type {\n        vertical-align: middle;\n    }\n\n    .dataframe tbody tr th {\n        vertical-align: top;\n    }\n\n    .dataframe thead th {\n        text-align: right;\n    }\n</style>\n<table border=\"1\" class=\"dataframe\">\n  <thead>\n    <tr style=\"text-align: right;\">\n      <th></th>\n      <th>emb_dim</th>\n      <th>h_dim</th>\n      <th>latent_dim</th>\n      <th>categorical_dim</th>\n      <th>train_loss</th>\n    </tr>\n  </thead>\n  <tbody>\n    <tr>\n      <th>11</th>\n      <td>30</td>\n      <td>150</td>\n      <td>30</td>\n      <td>2</td>\n      <td>112.080590</td>\n    </tr>\n    <tr>\n      <th>10</th>\n      <td>30</td>\n      <td>150</td>\n      <td>15</td>\n      <td>2</td>\n      <td>114.973310</td>\n    </tr>\n    <tr>\n      <th>5</th>\n      <td>15</td>\n      <td>150</td>\n      <td>30</td>\n      <td>2</td>\n      <td>117.450673</td>\n    </tr>\n    <tr>\n      <th>9</th>\n      <td>30</td>\n      <td>100</td>\n      <td>30</td>\n      <td>2</td>\n      <td>119.653747</td>\n    </tr>\n    <tr>\n      <th>8</th>\n      <td>30</td>\n      <td>100</td>\n      <td>15</td>\n      <td>2</td>\n      <td>120.390153</td>\n    </tr>\n    <tr>\n      <th>4</th>\n      <td>15</td>\n      <td>150</td>\n      <td>15</td>\n      <td>2</td>\n      <td>120.563675</td>\n    </tr>\n    <tr>\n      <th>3</th>\n      <td>15</td>\n      <td>100</td>\n      <td>30</td>\n      <td>2</td>\n      <td>123.273463</td>\n    </tr>\n    <tr>\n      <th>7</th>\n      <td>30</td>\n      <td>50</td>\n      <td>30</td>\n      <td>2</td>\n      <td>126.204825</td>\n    </tr>\n    <tr>\n      <th>2</th>\n      <td>15</td>\n      <td>100</td>\n      <td>15</td>\n      <td>2</td>\n      <td>126.449055</td>\n    </tr>\n    <tr>\n      <th>6</th>\n      <td>30</td>\n      <td>50</td>\n      <td>15</td>\n      <td>2</td>\n      <td>128.112476</td>\n    </tr>\n    <tr>\n      <th>1</th>\n      <td>15</td>\n      <td>50</td>\n      <td>30</td>\n      <td>2</td>\n      <td>128.132686</td>\n    </tr>\n    <tr>\n      <th>0</th>\n      <td>15</td>\n      <td>50</td>\n      <td>15</td>\n      <td>2</td>\n      <td>128.509817</td>\n    </tr>\n  </tbody>\n</table>\n</div>"
     },
     "execution_count": 11,
     "metadata": {},
     "output_type": "execute_result"
    }
   ],
   "source": [
    "columns = ['emb_dim', 'h_dim', 'latent_dim', 'categorical_dim']\n",
    "\n",
    "grouped_df = result_df.groupby(columns).agg({'train_loss': 'min'})\n",
    "grouped_df.reset_index().sort_values(\"train_loss\")"
   ],
   "metadata": {
    "collapsed": false
   }
  },
  {
   "cell_type": "code",
   "execution_count": null,
   "outputs": [],
   "source": [],
   "metadata": {
    "collapsed": false
   }
  }
 ],
 "metadata": {
  "kernelspec": {
   "display_name": "Python 3",
   "language": "python",
   "name": "python3"
  },
  "language_info": {
   "codemirror_mode": {
    "name": "ipython",
    "version": 2
   },
   "file_extension": ".py",
   "mimetype": "text/x-python",
   "name": "python",
   "nbconvert_exporter": "python",
   "pygments_lexer": "ipython2",
   "version": "2.7.6"
  }
 },
 "nbformat": 4,
 "nbformat_minor": 0
}
