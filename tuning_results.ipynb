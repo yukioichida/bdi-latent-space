{
 "cells": [
  {
   "cell_type": "code",
   "execution_count": null,
   "outputs": [],
   "source": [
    "import pandas as pd\n",
    "import matplotlib.pyplot as plt\n",
    "\n",
    "result_df = pd.read_csv(\"train_results/tunning_results_JmFVPuVb.csv\")\n",
    "result_df.columns"
   ],
   "metadata": {
    "collapsed": false,
    "pycharm": {
     "name": "#%%\n",
     "is_executing": true
    }
   }
  },
  {
   "cell_type": "code",
   "execution_count": null,
   "outputs": [],
   "source": [
    "columns = ['emb_dim', 'h_dim', 'latent_dim', 'categorical_dim', 'activation']\n",
    "\n",
    "grouped_df = result_df.groupby(columns).agg({'train_loss': 'min'})\n",
    "grouped_df.reset_index().sort_values([\"train_loss\", \"latent_dim\"])"
   ],
   "metadata": {
    "collapsed": false,
    "pycharm": {
     "name": "#%%\n"
    }
   }
  },
  {
   "cell_type": "code",
   "execution_count": null,
   "outputs": [],
   "source": [
    "emb_dim = 512\n",
    "h_dim = 1024\n",
    "latent_dim = 32\n",
    "activation = 'bc'\n",
    "\n",
    "df = result_df[(result_df['emb_dim'] == emb_dim) & (result_df['h_dim'] == h_dim) & (result_df['latent_dim'] == latent_dim) & (result_df['activation'] == activation)]\n",
    "df.sort_values('current_epoch', ascending=False)#[['current_epoch', 'train_loss']]"
   ],
   "metadata": {
    "collapsed": false,
    "pycharm": {
     "name": "#%%\n"
    }
   }
  },
  {
   "cell_type": "code",
   "execution_count": null,
   "outputs": [],
   "source": [
    "columns = ['emb_dim', 'h_dim', 'latent_dim', 'categorical_dim']\n",
    "bc_df = result_df[result_df['activation'] == 'bc']\n",
    "\n",
    "num_groups = len(bc_df.groupby(columns))\n",
    "fig, axs = plt.subplots(num_groups, 1, figsize=(40, 200))\n",
    "i = 0\n",
    "for group, group_df in bc_df.groupby(columns):\n",
    "\n",
    "    plot_df = group_df.sort_values('current_epoch').reset_index(drop=True)\n",
    "    plot_df[['train_loss', 'recon_loss', 'kld']].plot(label='train_loss', ax = axs[i])\n",
    "    #axs[i].plot(plot_df['train_loss'], label='train_loss', color='green')\n",
    "    #axs[i].plot(plot_df['train_loss'], label='recon_loss', color='steelblue')\n",
    "    #axs[i].plot(plot_df['train_loss'], label='kld', color='purple')\n",
    "    title = f\"emb_dim = {group[0]} - h_dim = {group[1]} - latent_dim = {group[2]} - cat dim {group[3]}\"\n",
    "    axs[i].set_title(title)\n",
    "    i = i + 1\n",
    "\n",
    "\n",
    "    #plot_df['train_loss'].plot()\n",
    "    #plot_df['recon_loss'].plot()\n",
    "    #plot_df['kld'].plot()\n",
    "#fig.tight_layout() # Or equivalently,  \"plt.tight_layout()\"\n",
    "\n",
    "#plt.show()"
   ],
   "metadata": {
    "collapsed": false,
    "pycharm": {
     "name": "#%%\n"
    }
   }
  },
  {
   "cell_type": "code",
   "execution_count": null,
   "outputs": [],
   "source": [
    "bc_df.sort_values(\"train_loss\")[['current_epoch', 'kld', 'recon_loss', 'train_loss', 'latent_dim', 'h_dim', 'emb_dim']]"
   ],
   "metadata": {
    "collapsed": false,
    "pycharm": {
     "name": "#%%\n"
    }
   }
  },
  {
   "cell_type": "code",
   "execution_count": null,
   "outputs": [],
   "source": [
    "ti"
   ],
   "metadata": {
    "collapsed": false,
    "pycharm": {
     "name": "#%%\n"
    }
   }
  }
 ],
 "metadata": {
  "kernelspec": {
   "display_name": "Python 3",
   "language": "python",
   "name": "python3"
  },
  "language_info": {
   "codemirror_mode": {
    "name": "ipython",
    "version": 2
   },
   "file_extension": ".py",
   "mimetype": "text/x-python",
   "name": "python",
   "nbconvert_exporter": "python",
   "pygments_lexer": "ipython2",
   "version": "2.7.6"
  }
 },
 "nbformat": 4,
 "nbformat_minor": 0
}
