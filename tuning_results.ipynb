{
 "cells": [
  {
   "cell_type": "code",
   "execution_count": 6,
   "metadata": {
    "collapsed": true,
    "pycharm": {
     "name": "#%%\n"
    }
   },
   "outputs": [
    {
     "data": {
      "text/plain": "Index(['train_id', 'emb_dim', 'h_dim', 'latent_dim', 'categorical_dim',\n       'batch_size', 'save_model', 'initial_temp', 'min_temp', 'epochs',\n       'anneal_rate', 'activation', 'current_epoch', 'train_loss', 'kld',\n       'recon_loss'],\n      dtype='object')"
     },
     "execution_count": 6,
     "metadata": {},
     "output_type": "execute_result"
    }
   ],
   "source": [
    "import pandas as pd\n",
    "\n",
    "\n",
    "result_df = pd.read_csv(\"train_results/results_YP68fCFu.csv\")\n",
    "result_df.columns"
   ]
  },
  {
   "cell_type": "code",
   "execution_count": 16,
   "outputs": [
    {
     "data": {
      "text/plain": "    emb_dim  h_dim  latent_dim  categorical_dim activation  train_loss\n21      200    300          15                2     gumbel   79.776806\n33      300    300          15                2     gumbel   79.835908\n23      200    300          30                2     gumbel   82.658283\n11      100    300          30                2     gumbel   82.669717\n35      300    300          30                2     gumbel   85.113064\n17      200    200          15                2     gumbel   86.621151\n19      200    200          30                2     gumbel   86.630435\n31      300    200          30                2     gumbel   87.724815\n22      200    300          30                2         bc   88.032241\n20      200    300          15                2         bc   88.966055\n32      300    300          15                2         bc   89.329384\n34      300    300          30                2         bc   90.347864\n29      300    200          15                2     gumbel   90.821010\n8       100    300          15                2         bc   91.293083\n9       100    300          15                2     gumbel   91.616220\n10      100    300          30                2         bc   91.750280\n5       100    200          15                2     gumbel   98.057307\n13      200    100          15                2     gumbel   98.143500\n6       100    200          30                2         bc   98.509749\n30      300    200          30                2         bc   98.825927\n18      200    200          30                2         bc   98.843076\n7       100    200          30                2     gumbel  100.008683\n4       100    200          15                2         bc  100.025058\n15      200    100          30                2     gumbel  100.176421\n16      200    200          15                2         bc  100.430670\n28      300    200          15                2         bc  100.542290\n27      300    100          30                2     gumbel  100.971007\n25      300    100          15                2     gumbel  103.418855\n3       100    100          30                2     gumbel  104.164662\n1       100    100          15                2     gumbel  106.513304\n26      300    100          30                2         bc  107.213424\n12      200    100          15                2         bc  107.796437\n0       100    100          15                2         bc  108.115089\n24      300    100          15                2         bc  108.137851\n14      200    100          30                2         bc  108.215341\n2       100    100          30                2         bc  108.236375",
      "text/html": "<div>\n<style scoped>\n    .dataframe tbody tr th:only-of-type {\n        vertical-align: middle;\n    }\n\n    .dataframe tbody tr th {\n        vertical-align: top;\n    }\n\n    .dataframe thead th {\n        text-align: right;\n    }\n</style>\n<table border=\"1\" class=\"dataframe\">\n  <thead>\n    <tr style=\"text-align: right;\">\n      <th></th>\n      <th>emb_dim</th>\n      <th>h_dim</th>\n      <th>latent_dim</th>\n      <th>categorical_dim</th>\n      <th>activation</th>\n      <th>train_loss</th>\n    </tr>\n  </thead>\n  <tbody>\n    <tr>\n      <th>21</th>\n      <td>200</td>\n      <td>300</td>\n      <td>15</td>\n      <td>2</td>\n      <td>gumbel</td>\n      <td>79.776806</td>\n    </tr>\n    <tr>\n      <th>33</th>\n      <td>300</td>\n      <td>300</td>\n      <td>15</td>\n      <td>2</td>\n      <td>gumbel</td>\n      <td>79.835908</td>\n    </tr>\n    <tr>\n      <th>23</th>\n      <td>200</td>\n      <td>300</td>\n      <td>30</td>\n      <td>2</td>\n      <td>gumbel</td>\n      <td>82.658283</td>\n    </tr>\n    <tr>\n      <th>11</th>\n      <td>100</td>\n      <td>300</td>\n      <td>30</td>\n      <td>2</td>\n      <td>gumbel</td>\n      <td>82.669717</td>\n    </tr>\n    <tr>\n      <th>35</th>\n      <td>300</td>\n      <td>300</td>\n      <td>30</td>\n      <td>2</td>\n      <td>gumbel</td>\n      <td>85.113064</td>\n    </tr>\n    <tr>\n      <th>17</th>\n      <td>200</td>\n      <td>200</td>\n      <td>15</td>\n      <td>2</td>\n      <td>gumbel</td>\n      <td>86.621151</td>\n    </tr>\n    <tr>\n      <th>19</th>\n      <td>200</td>\n      <td>200</td>\n      <td>30</td>\n      <td>2</td>\n      <td>gumbel</td>\n      <td>86.630435</td>\n    </tr>\n    <tr>\n      <th>31</th>\n      <td>300</td>\n      <td>200</td>\n      <td>30</td>\n      <td>2</td>\n      <td>gumbel</td>\n      <td>87.724815</td>\n    </tr>\n    <tr>\n      <th>22</th>\n      <td>200</td>\n      <td>300</td>\n      <td>30</td>\n      <td>2</td>\n      <td>bc</td>\n      <td>88.032241</td>\n    </tr>\n    <tr>\n      <th>20</th>\n      <td>200</td>\n      <td>300</td>\n      <td>15</td>\n      <td>2</td>\n      <td>bc</td>\n      <td>88.966055</td>\n    </tr>\n    <tr>\n      <th>32</th>\n      <td>300</td>\n      <td>300</td>\n      <td>15</td>\n      <td>2</td>\n      <td>bc</td>\n      <td>89.329384</td>\n    </tr>\n    <tr>\n      <th>34</th>\n      <td>300</td>\n      <td>300</td>\n      <td>30</td>\n      <td>2</td>\n      <td>bc</td>\n      <td>90.347864</td>\n    </tr>\n    <tr>\n      <th>29</th>\n      <td>300</td>\n      <td>200</td>\n      <td>15</td>\n      <td>2</td>\n      <td>gumbel</td>\n      <td>90.821010</td>\n    </tr>\n    <tr>\n      <th>8</th>\n      <td>100</td>\n      <td>300</td>\n      <td>15</td>\n      <td>2</td>\n      <td>bc</td>\n      <td>91.293083</td>\n    </tr>\n    <tr>\n      <th>9</th>\n      <td>100</td>\n      <td>300</td>\n      <td>15</td>\n      <td>2</td>\n      <td>gumbel</td>\n      <td>91.616220</td>\n    </tr>\n    <tr>\n      <th>10</th>\n      <td>100</td>\n      <td>300</td>\n      <td>30</td>\n      <td>2</td>\n      <td>bc</td>\n      <td>91.750280</td>\n    </tr>\n    <tr>\n      <th>5</th>\n      <td>100</td>\n      <td>200</td>\n      <td>15</td>\n      <td>2</td>\n      <td>gumbel</td>\n      <td>98.057307</td>\n    </tr>\n    <tr>\n      <th>13</th>\n      <td>200</td>\n      <td>100</td>\n      <td>15</td>\n      <td>2</td>\n      <td>gumbel</td>\n      <td>98.143500</td>\n    </tr>\n    <tr>\n      <th>6</th>\n      <td>100</td>\n      <td>200</td>\n      <td>30</td>\n      <td>2</td>\n      <td>bc</td>\n      <td>98.509749</td>\n    </tr>\n    <tr>\n      <th>30</th>\n      <td>300</td>\n      <td>200</td>\n      <td>30</td>\n      <td>2</td>\n      <td>bc</td>\n      <td>98.825927</td>\n    </tr>\n    <tr>\n      <th>18</th>\n      <td>200</td>\n      <td>200</td>\n      <td>30</td>\n      <td>2</td>\n      <td>bc</td>\n      <td>98.843076</td>\n    </tr>\n    <tr>\n      <th>7</th>\n      <td>100</td>\n      <td>200</td>\n      <td>30</td>\n      <td>2</td>\n      <td>gumbel</td>\n      <td>100.008683</td>\n    </tr>\n    <tr>\n      <th>4</th>\n      <td>100</td>\n      <td>200</td>\n      <td>15</td>\n      <td>2</td>\n      <td>bc</td>\n      <td>100.025058</td>\n    </tr>\n    <tr>\n      <th>15</th>\n      <td>200</td>\n      <td>100</td>\n      <td>30</td>\n      <td>2</td>\n      <td>gumbel</td>\n      <td>100.176421</td>\n    </tr>\n    <tr>\n      <th>16</th>\n      <td>200</td>\n      <td>200</td>\n      <td>15</td>\n      <td>2</td>\n      <td>bc</td>\n      <td>100.430670</td>\n    </tr>\n    <tr>\n      <th>28</th>\n      <td>300</td>\n      <td>200</td>\n      <td>15</td>\n      <td>2</td>\n      <td>bc</td>\n      <td>100.542290</td>\n    </tr>\n    <tr>\n      <th>27</th>\n      <td>300</td>\n      <td>100</td>\n      <td>30</td>\n      <td>2</td>\n      <td>gumbel</td>\n      <td>100.971007</td>\n    </tr>\n    <tr>\n      <th>25</th>\n      <td>300</td>\n      <td>100</td>\n      <td>15</td>\n      <td>2</td>\n      <td>gumbel</td>\n      <td>103.418855</td>\n    </tr>\n    <tr>\n      <th>3</th>\n      <td>100</td>\n      <td>100</td>\n      <td>30</td>\n      <td>2</td>\n      <td>gumbel</td>\n      <td>104.164662</td>\n    </tr>\n    <tr>\n      <th>1</th>\n      <td>100</td>\n      <td>100</td>\n      <td>15</td>\n      <td>2</td>\n      <td>gumbel</td>\n      <td>106.513304</td>\n    </tr>\n    <tr>\n      <th>26</th>\n      <td>300</td>\n      <td>100</td>\n      <td>30</td>\n      <td>2</td>\n      <td>bc</td>\n      <td>107.213424</td>\n    </tr>\n    <tr>\n      <th>12</th>\n      <td>200</td>\n      <td>100</td>\n      <td>15</td>\n      <td>2</td>\n      <td>bc</td>\n      <td>107.796437</td>\n    </tr>\n    <tr>\n      <th>0</th>\n      <td>100</td>\n      <td>100</td>\n      <td>15</td>\n      <td>2</td>\n      <td>bc</td>\n      <td>108.115089</td>\n    </tr>\n    <tr>\n      <th>24</th>\n      <td>300</td>\n      <td>100</td>\n      <td>15</td>\n      <td>2</td>\n      <td>bc</td>\n      <td>108.137851</td>\n    </tr>\n    <tr>\n      <th>14</th>\n      <td>200</td>\n      <td>100</td>\n      <td>30</td>\n      <td>2</td>\n      <td>bc</td>\n      <td>108.215341</td>\n    </tr>\n    <tr>\n      <th>2</th>\n      <td>100</td>\n      <td>100</td>\n      <td>30</td>\n      <td>2</td>\n      <td>bc</td>\n      <td>108.236375</td>\n    </tr>\n  </tbody>\n</table>\n</div>"
     },
     "execution_count": 16,
     "metadata": {},
     "output_type": "execute_result"
    }
   ],
   "source": [
    "columns = ['emb_dim', 'h_dim', 'latent_dim', 'categorical_dim', 'activation']\n",
    "\n",
    "grouped_df = result_df.groupby(columns).agg({'train_loss': 'min'})\n",
    "grouped_df.reset_index().sort_values([\"train_loss\", \"latent_dim\"])"
   ],
   "metadata": {
    "collapsed": false,
    "pycharm": {
     "name": "#%%\n"
    }
   }
  },
  {
   "cell_type": "code",
   "execution_count": 8,
   "outputs": [
    {
     "data": {
      "text/plain": "    train_id  emb_dim  h_dim  latent_dim  categorical_dim  batch_size  \\\n92  YP68fCFu      200    300          15                1         128   \n91  YP68fCFu      200    300          15                1         128   \n90  YP68fCFu      200    300          15                1         128   \n89  YP68fCFu      200    300          15                1         128   \n88  YP68fCFu      200    300          15                1         128   \n..       ...      ...    ...         ...              ...         ...   \n4   YP68fCFu      200    300          15                1         128   \n3   YP68fCFu      200    300          15                1         128   \n2   YP68fCFu      200    300          15                1         128   \n1   YP68fCFu      200    300          15                1         128   \n0   YP68fCFu      200    300          15                1         128   \n\n    save_model  initial_temp  min_temp  epochs  anneal_rate activation  \\\n92        True             1       0.5      93      0.00003         bc   \n91        True             1       0.5      93      0.00003         bc   \n90        True             1       0.5      93      0.00003         bc   \n89        True             1       0.5      93      0.00003         bc   \n88        True             1       0.5      93      0.00003         bc   \n..         ...           ...       ...     ...          ...        ...   \n4         True             1       0.5      93      0.00003         bc   \n3         True             1       0.5      93      0.00003         bc   \n2         True             1       0.5      93      0.00003         bc   \n1         True             1       0.5      93      0.00003         bc   \n0         True             1       0.5      93      0.00003         bc   \n\n    current_epoch  train_loss       kld  recon_loss  \n92             92   74.055694  0.000683   74.055011  \n91             91   74.789093  0.001035   74.788058  \n90             90   74.988783  0.000783   74.988000  \n89             89   75.209209  0.000917   75.208293  \n88             88   75.344951  0.000745   75.344206  \n..            ...         ...       ...         ...  \n4               4  119.363795  0.004050  119.359745  \n3               3  120.499821  0.006595  120.493226  \n2               2  121.952950  0.004738  121.948212  \n1               1  124.752606  0.009936  124.742670  \n0               0  155.158093  0.113988  155.044106  \n\n[93 rows x 16 columns]",
      "text/html": "<div>\n<style scoped>\n    .dataframe tbody tr th:only-of-type {\n        vertical-align: middle;\n    }\n\n    .dataframe tbody tr th {\n        vertical-align: top;\n    }\n\n    .dataframe thead th {\n        text-align: right;\n    }\n</style>\n<table border=\"1\" class=\"dataframe\">\n  <thead>\n    <tr style=\"text-align: right;\">\n      <th></th>\n      <th>train_id</th>\n      <th>emb_dim</th>\n      <th>h_dim</th>\n      <th>latent_dim</th>\n      <th>categorical_dim</th>\n      <th>batch_size</th>\n      <th>save_model</th>\n      <th>initial_temp</th>\n      <th>min_temp</th>\n      <th>epochs</th>\n      <th>anneal_rate</th>\n      <th>activation</th>\n      <th>current_epoch</th>\n      <th>train_loss</th>\n      <th>kld</th>\n      <th>recon_loss</th>\n    </tr>\n  </thead>\n  <tbody>\n    <tr>\n      <th>92</th>\n      <td>YP68fCFu</td>\n      <td>200</td>\n      <td>300</td>\n      <td>15</td>\n      <td>1</td>\n      <td>128</td>\n      <td>True</td>\n      <td>1</td>\n      <td>0.5</td>\n      <td>93</td>\n      <td>0.00003</td>\n      <td>bc</td>\n      <td>92</td>\n      <td>74.055694</td>\n      <td>0.000683</td>\n      <td>74.055011</td>\n    </tr>\n    <tr>\n      <th>91</th>\n      <td>YP68fCFu</td>\n      <td>200</td>\n      <td>300</td>\n      <td>15</td>\n      <td>1</td>\n      <td>128</td>\n      <td>True</td>\n      <td>1</td>\n      <td>0.5</td>\n      <td>93</td>\n      <td>0.00003</td>\n      <td>bc</td>\n      <td>91</td>\n      <td>74.789093</td>\n      <td>0.001035</td>\n      <td>74.788058</td>\n    </tr>\n    <tr>\n      <th>90</th>\n      <td>YP68fCFu</td>\n      <td>200</td>\n      <td>300</td>\n      <td>15</td>\n      <td>1</td>\n      <td>128</td>\n      <td>True</td>\n      <td>1</td>\n      <td>0.5</td>\n      <td>93</td>\n      <td>0.00003</td>\n      <td>bc</td>\n      <td>90</td>\n      <td>74.988783</td>\n      <td>0.000783</td>\n      <td>74.988000</td>\n    </tr>\n    <tr>\n      <th>89</th>\n      <td>YP68fCFu</td>\n      <td>200</td>\n      <td>300</td>\n      <td>15</td>\n      <td>1</td>\n      <td>128</td>\n      <td>True</td>\n      <td>1</td>\n      <td>0.5</td>\n      <td>93</td>\n      <td>0.00003</td>\n      <td>bc</td>\n      <td>89</td>\n      <td>75.209209</td>\n      <td>0.000917</td>\n      <td>75.208293</td>\n    </tr>\n    <tr>\n      <th>88</th>\n      <td>YP68fCFu</td>\n      <td>200</td>\n      <td>300</td>\n      <td>15</td>\n      <td>1</td>\n      <td>128</td>\n      <td>True</td>\n      <td>1</td>\n      <td>0.5</td>\n      <td>93</td>\n      <td>0.00003</td>\n      <td>bc</td>\n      <td>88</td>\n      <td>75.344951</td>\n      <td>0.000745</td>\n      <td>75.344206</td>\n    </tr>\n    <tr>\n      <th>...</th>\n      <td>...</td>\n      <td>...</td>\n      <td>...</td>\n      <td>...</td>\n      <td>...</td>\n      <td>...</td>\n      <td>...</td>\n      <td>...</td>\n      <td>...</td>\n      <td>...</td>\n      <td>...</td>\n      <td>...</td>\n      <td>...</td>\n      <td>...</td>\n      <td>...</td>\n      <td>...</td>\n    </tr>\n    <tr>\n      <th>4</th>\n      <td>YP68fCFu</td>\n      <td>200</td>\n      <td>300</td>\n      <td>15</td>\n      <td>1</td>\n      <td>128</td>\n      <td>True</td>\n      <td>1</td>\n      <td>0.5</td>\n      <td>93</td>\n      <td>0.00003</td>\n      <td>bc</td>\n      <td>4</td>\n      <td>119.363795</td>\n      <td>0.004050</td>\n      <td>119.359745</td>\n    </tr>\n    <tr>\n      <th>3</th>\n      <td>YP68fCFu</td>\n      <td>200</td>\n      <td>300</td>\n      <td>15</td>\n      <td>1</td>\n      <td>128</td>\n      <td>True</td>\n      <td>1</td>\n      <td>0.5</td>\n      <td>93</td>\n      <td>0.00003</td>\n      <td>bc</td>\n      <td>3</td>\n      <td>120.499821</td>\n      <td>0.006595</td>\n      <td>120.493226</td>\n    </tr>\n    <tr>\n      <th>2</th>\n      <td>YP68fCFu</td>\n      <td>200</td>\n      <td>300</td>\n      <td>15</td>\n      <td>1</td>\n      <td>128</td>\n      <td>True</td>\n      <td>1</td>\n      <td>0.5</td>\n      <td>93</td>\n      <td>0.00003</td>\n      <td>bc</td>\n      <td>2</td>\n      <td>121.952950</td>\n      <td>0.004738</td>\n      <td>121.948212</td>\n    </tr>\n    <tr>\n      <th>1</th>\n      <td>YP68fCFu</td>\n      <td>200</td>\n      <td>300</td>\n      <td>15</td>\n      <td>1</td>\n      <td>128</td>\n      <td>True</td>\n      <td>1</td>\n      <td>0.5</td>\n      <td>93</td>\n      <td>0.00003</td>\n      <td>bc</td>\n      <td>1</td>\n      <td>124.752606</td>\n      <td>0.009936</td>\n      <td>124.742670</td>\n    </tr>\n    <tr>\n      <th>0</th>\n      <td>YP68fCFu</td>\n      <td>200</td>\n      <td>300</td>\n      <td>15</td>\n      <td>1</td>\n      <td>128</td>\n      <td>True</td>\n      <td>1</td>\n      <td>0.5</td>\n      <td>93</td>\n      <td>0.00003</td>\n      <td>bc</td>\n      <td>0</td>\n      <td>155.158093</td>\n      <td>0.113988</td>\n      <td>155.044106</td>\n    </tr>\n  </tbody>\n</table>\n<p>93 rows × 16 columns</p>\n</div>"
     },
     "execution_count": 8,
     "metadata": {},
     "output_type": "execute_result"
    }
   ],
   "source": [
    "result_df[(result_df['emb_dim'] == 200) & (result_df['h_dim'] == 300) & (result_df['activation'] == 'bc') & (result_df['latent_dim'] == 15)].sort_values(\"train_loss\")"
   ],
   "metadata": {
    "collapsed": false,
    "pycharm": {
     "name": "#%%\n"
    }
   }
  },
  {
   "cell_type": "code",
   "execution_count": null,
   "outputs": [],
   "source": [],
   "metadata": {
    "collapsed": false,
    "pycharm": {
     "name": "#%%\n"
    }
   }
  }
 ],
 "metadata": {
  "kernelspec": {
   "display_name": "Python 3",
   "language": "python",
   "name": "python3"
  },
  "language_info": {
   "codemirror_mode": {
    "name": "ipython",
    "version": 2
   },
   "file_extension": ".py",
   "mimetype": "text/x-python",
   "name": "python",
   "nbconvert_exporter": "python",
   "pygments_lexer": "ipython2",
   "version": "2.7.6"
  }
 },
 "nbformat": 4,
 "nbformat_minor": 0
}