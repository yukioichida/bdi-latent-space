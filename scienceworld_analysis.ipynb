{
 "cells": [
  {
   "cell_type": "code",
   "execution_count": 24,
   "metadata": {
    "collapsed": true
   },
   "outputs": [],
   "source": [
    "import pandas as pd\n",
    "import json\n",
    "\n",
    "filenameIn = \"data/goldsequences-0.json\"\n",
    "#filenameIn = \"data/goldsequences-0-1-2-3-4-6-7-8-9-10-11-12-13-14-15-16-17-18-19-20-21-22-23-24-25-26-27-28-29.json\"\n",
    "f = open(filenameIn)\n",
    "data = json.load(f)"
   ]
  },
  {
   "cell_type": "code",
   "execution_count": 34,
   "outputs": [
    {
     "data": {
      "text/plain": "                                            full_obs  len\n0  This room is called the kitchen. In it, you se...  357\n1  This room is called the kitchen. In it, you se...  347\n2  the thermometer measures a temperature of 20 d...  195\n3  the thermometer measures a temperature of 13 d...  195\n4  the thermometer measures a temperature of 107 ...  195",
      "text/html": "<div>\n<style scoped>\n    .dataframe tbody tr th:only-of-type {\n        vertical-align: middle;\n    }\n\n    .dataframe tbody tr th {\n        vertical-align: top;\n    }\n\n    .dataframe thead th {\n        text-align: right;\n    }\n</style>\n<table border=\"1\" class=\"dataframe\">\n  <thead>\n    <tr style=\"text-align: right;\">\n      <th></th>\n      <th>full_obs</th>\n      <th>len</th>\n    </tr>\n  </thead>\n  <tbody>\n    <tr>\n      <th>0</th>\n      <td>This room is called the kitchen. In it, you se...</td>\n      <td>357</td>\n    </tr>\n    <tr>\n      <th>1</th>\n      <td>This room is called the kitchen. In it, you se...</td>\n      <td>347</td>\n    </tr>\n    <tr>\n      <th>2</th>\n      <td>the thermometer measures a temperature of 20 d...</td>\n      <td>195</td>\n    </tr>\n    <tr>\n      <th>3</th>\n      <td>the thermometer measures a temperature of 13 d...</td>\n      <td>195</td>\n    </tr>\n    <tr>\n      <th>4</th>\n      <td>the thermometer measures a temperature of 107 ...</td>\n      <td>195</td>\n    </tr>\n  </tbody>\n</table>\n</div>"
     },
     "execution_count": 34,
     "metadata": {},
     "output_type": "execute_result"
    }
   ],
   "source": [
    "textual_state = []\n",
    "for taskIdx in data.keys():\n",
    "    taskData = data[taskIdx]\n",
    "    taskName = taskData['taskName']\n",
    "    goldSequences = taskData['goldActionSequences']\n",
    "    for goldSequence in goldSequences:\n",
    "        fold = goldSequence['fold']\n",
    "        path = goldSequence['path']\n",
    "        for step in path:\n",
    "            action = step['action']\n",
    "            observation = step['observation'].replace(\"\\n\", \" \").replace(\"\\t\", \"\")\n",
    "            freelook = step['freelook'].replace(\"\\n\", \" \").replace(\"\\t\", \"\")\n",
    "            inventory = step['inventory'].replace(\"\\n\", \" \").replace(\"\\t\", \"\")\n",
    "            if observation != freelook:\n",
    "                full_obs = observation + ' ' + freelook\n",
    "            else:\n",
    "                full_obs = observation\n",
    "            textual_state.append({'full_obs': full_obs, 'len':len(full_obs.split(\" \"))})\n",
    "\n",
    "state_df = pd.DataFrame(textual_state)\n",
    "state_df = state_df.sort_values(\"len\", ascending=False).reset_index(drop=True)\n",
    "state_df.head()"
   ],
   "metadata": {
    "collapsed": false
   }
  },
  {
   "cell_type": "code",
   "execution_count": 35,
   "outputs": [
    {
     "data": {
      "text/plain": "'This room is called the kitchen. In it, you see:  a substance called soap a painting a counter. On the counter is: a bowl (containing a banana, a potato, a red apple, an orange), a drawer. a sink, which is turned off. In the sink is: nothing. a table. On the table is: a glass cup (containing nothing). a chair. On the chair is: nothing. a freezer. The freezer door is closed.  a lighter a stopwatch, which is deactivated.  a fridge. The fridge door is closed.  a substance called air a cupboard. The cupboard door is open. In the cupboard is: a tin cup (containing nothing), a ceramic cup (containing nothing), a drawer. a oven, which is turned off. The oven door is closed.  a glass jar (containing a substance called sodium chloride) the agent a stove, which is turned off. On the stove is: nothing. You also see: A door to the outside (that is open) A door to the bathroom (that is open) A door to the hallway (that is open) This room is called the kitchen. In it, you see:  a substance called soap a painting a counter. On the counter is: a bowl (containing a banana, a potato, a red apple, an orange), a drawer. a sink, which is turned off. In the sink is: nothing. a table. On the table is: a glass cup (containing nothing). a chair. On the chair is: nothing. a freezer. The freezer door is closed.  a lighter a stopwatch, which is deactivated.  a fridge. The fridge door is closed.  a substance called air a cupboard. The cupboard door is open. In the cupboard is: a tin cup (containing nothing), a ceramic cup (containing nothing), a drawer. a oven, which is turned off. The oven door is closed.  a glass jar (containing a substance called sodium chloride) the agent a stove, which is turned off. On the stove is: nothing. You also see: A door to the outside (that is open) A door to the bathroom (that is open) A door to the hallway (that is open) '"
     },
     "execution_count": 35,
     "metadata": {},
     "output_type": "execute_result"
    }
   ],
   "source": [
    "state_df.iloc[0]['full_obs']"
   ],
   "metadata": {
    "collapsed": false
   }
  },
  {
   "cell_type": "code",
   "execution_count": 15,
   "outputs": [],
   "source": [],
   "metadata": {
    "collapsed": false
   }
  }
 ],
 "metadata": {
  "kernelspec": {
   "display_name": "Python 3",
   "language": "python",
   "name": "python3"
  },
  "language_info": {
   "codemirror_mode": {
    "name": "ipython",
    "version": 2
   },
   "file_extension": ".py",
   "mimetype": "text/x-python",
   "name": "python",
   "nbconvert_exporter": "python",
   "pygments_lexer": "ipython2",
   "version": "2.7.6"
  }
 },
 "nbformat": 4,
 "nbformat_minor": 0
}
